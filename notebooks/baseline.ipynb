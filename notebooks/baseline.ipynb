{
 "cells": [
  {
   "cell_type": "code",
   "execution_count": 1,
   "metadata": {
    "_cell_guid": "b1076dfc-b9ad-4769-8c92-a6c4dae69d19",
    "_kg_hide-output": true,
    "_uuid": "8f2839f25d086af736a60e9eeb907d3b93b6e0e5",
    "execution": {
     "iopub.execute_input": "2025-04-02T14:28:32.898416Z",
     "iopub.status.busy": "2025-04-02T14:28:32.898077Z",
     "iopub.status.idle": "2025-04-02T14:29:31.939538Z",
     "shell.execute_reply": "2025-04-02T14:29:31.938322Z",
     "shell.execute_reply.started": "2025-04-02T14:28:32.898370Z"
    },
    "trusted": true
   },
   "outputs": [
    {
     "name": "stdout",
     "output_type": "stream",
     "text": [
      "Requirement already satisfied: datasets in /opt/conda/lib/python3.7/site-packages (2.13.2)\n",
      "Requirement already satisfied: aiohttp in /opt/conda/lib/python3.7/site-packages (from datasets) (3.8.1)\n",
      "Requirement already satisfied: fsspec[http]>=2021.11.1 in /opt/conda/lib/python3.7/site-packages (from datasets) (2022.3.0)\n",
      "Requirement already satisfied: packaging in /opt/conda/lib/python3.7/site-packages (from datasets) (21.3)\n",
      "Requirement already satisfied: pyarrow>=8.0.0 in /opt/conda/lib/python3.7/site-packages (from datasets) (12.0.1)\n",
      "Requirement already satisfied: xxhash in /opt/conda/lib/python3.7/site-packages (from datasets) (3.0.0)\n",
      "Requirement already satisfied: huggingface-hub<1.0.0,>=0.11.0 in /opt/conda/lib/python3.7/site-packages (from datasets) (0.16.4)\n",
      "Requirement already satisfied: importlib-metadata in /opt/conda/lib/python3.7/site-packages (from datasets) (4.11.3)\n",
      "Requirement already satisfied: pyyaml>=5.1 in /opt/conda/lib/python3.7/site-packages (from datasets) (6.0)\n",
      "Requirement already satisfied: requests>=2.19.0 in /opt/conda/lib/python3.7/site-packages (from datasets) (2.27.1)\n",
      "Requirement already satisfied: numpy>=1.17 in /opt/conda/lib/python3.7/site-packages (from datasets) (1.21.6)\n",
      "Requirement already satisfied: pandas in /opt/conda/lib/python3.7/site-packages (from datasets) (1.3.5)\n",
      "Requirement already satisfied: dill<0.3.7,>=0.3.0 in /opt/conda/lib/python3.7/site-packages (from datasets) (0.3.4)\n",
      "Requirement already satisfied: tqdm>=4.62.1 in /opt/conda/lib/python3.7/site-packages (from datasets) (4.63.0)\n",
      "Requirement already satisfied: multiprocess in /opt/conda/lib/python3.7/site-packages (from datasets) (0.70.12.2)\n",
      "Requirement already satisfied: filelock in /opt/conda/lib/python3.7/site-packages (from huggingface-hub<1.0.0,>=0.11.0->datasets) (3.6.0)\n",
      "Requirement already satisfied: typing-extensions>=3.7.4.3 in /opt/conda/lib/python3.7/site-packages (from huggingface-hub<1.0.0,>=0.11.0->datasets) (4.2.0)\n",
      "Requirement already satisfied: pyparsing!=3.0.5,>=2.0.2 in /opt/conda/lib/python3.7/site-packages (from packaging->datasets) (3.0.7)\n",
      "Requirement already satisfied: urllib3<1.27,>=1.21.1 in /opt/conda/lib/python3.7/site-packages (from requests>=2.19.0->datasets) (1.26.8)\n",
      "Requirement already satisfied: certifi>=2017.4.17 in /opt/conda/lib/python3.7/site-packages (from requests>=2.19.0->datasets) (2021.10.8)\n",
      "Requirement already satisfied: idna<4,>=2.5 in /opt/conda/lib/python3.7/site-packages (from requests>=2.19.0->datasets) (3.3)\n",
      "Requirement already satisfied: charset-normalizer~=2.0.0 in /opt/conda/lib/python3.7/site-packages (from requests>=2.19.0->datasets) (2.0.12)\n",
      "Requirement already satisfied: frozenlist>=1.1.1 in /opt/conda/lib/python3.7/site-packages (from aiohttp->datasets) (1.3.0)\n",
      "Requirement already satisfied: yarl<2.0,>=1.0 in /opt/conda/lib/python3.7/site-packages (from aiohttp->datasets) (1.7.2)\n",
      "Requirement already satisfied: async-timeout<5.0,>=4.0.0a3 in /opt/conda/lib/python3.7/site-packages (from aiohttp->datasets) (4.0.2)\n",
      "Requirement already satisfied: asynctest==0.13.0 in /opt/conda/lib/python3.7/site-packages (from aiohttp->datasets) (0.13.0)\n",
      "Requirement already satisfied: attrs>=17.3.0 in /opt/conda/lib/python3.7/site-packages (from aiohttp->datasets) (21.4.0)\n",
      "Requirement already satisfied: multidict<7.0,>=4.5 in /opt/conda/lib/python3.7/site-packages (from aiohttp->datasets) (6.0.2)\n",
      "Requirement already satisfied: aiosignal>=1.1.2 in /opt/conda/lib/python3.7/site-packages (from aiohttp->datasets) (1.2.0)\n",
      "Requirement already satisfied: zipp>=0.5 in /opt/conda/lib/python3.7/site-packages (from importlib-metadata->datasets) (3.7.0)\n",
      "Requirement already satisfied: python-dateutil>=2.7.3 in /opt/conda/lib/python3.7/site-packages (from pandas->datasets) (2.8.2)\n",
      "Requirement already satisfied: pytz>=2017.3 in /opt/conda/lib/python3.7/site-packages (from pandas->datasets) (2021.3)\n",
      "Requirement already satisfied: six>=1.5 in /opt/conda/lib/python3.7/site-packages (from python-dateutil>=2.7.3->pandas->datasets) (1.16.0)\n",
      "\u001b[33mWARNING: Running pip as the 'root' user can result in broken permissions and conflicting behaviour with the system package manager. It is recommended to use a virtual environment instead: https://pip.pypa.io/warnings/venv\u001b[0m\u001b[33m\n",
      "\u001b[0mRequirement already satisfied: transformers in /opt/conda/lib/python3.7/site-packages (4.18.0)\n",
      "Collecting transformers\n",
      "  Using cached transformers-4.30.2-py3-none-any.whl (7.2 MB)\n",
      "Requirement already satisfied: packaging>=20.0 in /opt/conda/lib/python3.7/site-packages (from transformers) (21.3)\n",
      "Requirement already satisfied: regex!=2019.12.17 in /opt/conda/lib/python3.7/site-packages (from transformers) (2021.11.10)\n",
      "Requirement already satisfied: pyyaml>=5.1 in /opt/conda/lib/python3.7/site-packages (from transformers) (6.0)\n",
      "Requirement already satisfied: tqdm>=4.27 in /opt/conda/lib/python3.7/site-packages (from transformers) (4.63.0)\n",
      "Requirement already satisfied: numpy>=1.17 in /opt/conda/lib/python3.7/site-packages (from transformers) (1.21.6)\n",
      "Requirement already satisfied: huggingface-hub<1.0,>=0.14.1 in /opt/conda/lib/python3.7/site-packages (from transformers) (0.16.4)\n",
      "Requirement already satisfied: importlib-metadata in /opt/conda/lib/python3.7/site-packages (from transformers) (4.11.3)\n",
      "Collecting safetensors>=0.3.1\n",
      "  Using cached safetensors-0.5.3.tar.gz (67 kB)\n",
      "  Installing build dependencies ... \u001b[?25ldone\n",
      "\u001b[?25h  Getting requirements to build wheel ... \u001b[?25ldone\n",
      "\u001b[?25h  Preparing metadata (pyproject.toml) ... \u001b[?25lerror\n",
      "  \u001b[1;31merror\u001b[0m: \u001b[1msubprocess-exited-with-error\u001b[0m\n",
      "  \n",
      "  \u001b[31m×\u001b[0m \u001b[32mPreparing metadata \u001b[0m\u001b[1;32m(\u001b[0m\u001b[32mpyproject.toml\u001b[0m\u001b[1;32m)\u001b[0m did not run successfully.\n",
      "  \u001b[31m│\u001b[0m exit code: \u001b[1;36m1\u001b[0m\n",
      "  \u001b[31m╰─>\u001b[0m \u001b[31m[6 lines of output]\u001b[0m\n",
      "  \u001b[31m   \u001b[0m Checking for Rust toolchain....\n",
      "  \u001b[31m   \u001b[0m \n",
      "  \u001b[31m   \u001b[0m Cargo, the Rust package manager, is not installed or is not on PATH.\n",
      "  \u001b[31m   \u001b[0m This package requires Rust and Cargo to compile extensions. Install it through\n",
      "  \u001b[31m   \u001b[0m the system's package manager or via https://rustup.rs/\n",
      "  \u001b[31m   \u001b[0m \n",
      "  \u001b[31m   \u001b[0m \u001b[31m[end of output]\u001b[0m\n",
      "  \n",
      "  \u001b[1;35mnote\u001b[0m: This error originates from a subprocess, and is likely not a problem with pip.\n",
      "\u001b[?25h\u001b[1;31merror\u001b[0m: \u001b[1mmetadata-generation-failed\u001b[0m\n",
      "\n",
      "\u001b[31m×\u001b[0m Encountered error while generating package metadata.\n",
      "\u001b[31m╰─>\u001b[0m See above for output.\n",
      "\n",
      "\u001b[1;35mnote\u001b[0m: This is an issue with the package mentioned above, not pip.\n",
      "\u001b[1;36mhint\u001b[0m: See above for details.\n",
      "Requirement already satisfied: evaluate in /opt/conda/lib/python3.7/site-packages (0.4.1)\n",
      "Requirement already satisfied: xxhash in /opt/conda/lib/python3.7/site-packages (from evaluate) (3.0.0)\n",
      "Requirement already satisfied: datasets>=2.0.0 in /opt/conda/lib/python3.7/site-packages (from evaluate) (2.13.2)\n",
      "Requirement already satisfied: dill in /opt/conda/lib/python3.7/site-packages (from evaluate) (0.3.4)\n",
      "Requirement already satisfied: tqdm>=4.62.1 in /opt/conda/lib/python3.7/site-packages (from evaluate) (4.63.0)\n",
      "Requirement already satisfied: huggingface-hub>=0.7.0 in /opt/conda/lib/python3.7/site-packages (from evaluate) (0.16.4)\n",
      "Requirement already satisfied: responses<0.19 in /opt/conda/lib/python3.7/site-packages (from evaluate) (0.18.0)\n",
      "Requirement already satisfied: fsspec[http]>=2021.05.0 in /opt/conda/lib/python3.7/site-packages (from evaluate) (2022.3.0)\n",
      "Requirement already satisfied: pandas in /opt/conda/lib/python3.7/site-packages (from evaluate) (1.3.5)\n",
      "Requirement already satisfied: multiprocess in /opt/conda/lib/python3.7/site-packages (from evaluate) (0.70.12.2)\n",
      "Requirement already satisfied: requests>=2.19.0 in /opt/conda/lib/python3.7/site-packages (from evaluate) (2.27.1)\n",
      "Requirement already satisfied: importlib-metadata in /opt/conda/lib/python3.7/site-packages (from evaluate) (4.11.3)\n",
      "Requirement already satisfied: packaging in /opt/conda/lib/python3.7/site-packages (from evaluate) (21.3)\n",
      "Requirement already satisfied: numpy>=1.17 in /opt/conda/lib/python3.7/site-packages (from evaluate) (1.21.6)\n",
      "Requirement already satisfied: pyarrow>=8.0.0 in /opt/conda/lib/python3.7/site-packages (from datasets>=2.0.0->evaluate) (12.0.1)\n",
      "Requirement already satisfied: pyyaml>=5.1 in /opt/conda/lib/python3.7/site-packages (from datasets>=2.0.0->evaluate) (6.0)\n",
      "Requirement already satisfied: aiohttp in /opt/conda/lib/python3.7/site-packages (from datasets>=2.0.0->evaluate) (3.8.1)\n",
      "Requirement already satisfied: filelock in /opt/conda/lib/python3.7/site-packages (from huggingface-hub>=0.7.0->evaluate) (3.6.0)\n",
      "Requirement already satisfied: typing-extensions>=3.7.4.3 in /opt/conda/lib/python3.7/site-packages (from huggingface-hub>=0.7.0->evaluate) (4.2.0)\n",
      "Requirement already satisfied: pyparsing!=3.0.5,>=2.0.2 in /opt/conda/lib/python3.7/site-packages (from packaging->evaluate) (3.0.7)\n",
      "Requirement already satisfied: urllib3<1.27,>=1.21.1 in /opt/conda/lib/python3.7/site-packages (from requests>=2.19.0->evaluate) (1.26.8)\n",
      "Requirement already satisfied: charset-normalizer~=2.0.0 in /opt/conda/lib/python3.7/site-packages (from requests>=2.19.0->evaluate) (2.0.12)\n",
      "Requirement already satisfied: idna<4,>=2.5 in /opt/conda/lib/python3.7/site-packages (from requests>=2.19.0->evaluate) (3.3)\n",
      "Requirement already satisfied: certifi>=2017.4.17 in /opt/conda/lib/python3.7/site-packages (from requests>=2.19.0->evaluate) (2021.10.8)\n",
      "Requirement already satisfied: zipp>=0.5 in /opt/conda/lib/python3.7/site-packages (from importlib-metadata->evaluate) (3.7.0)\n",
      "Requirement already satisfied: python-dateutil>=2.7.3 in /opt/conda/lib/python3.7/site-packages (from pandas->evaluate) (2.8.2)\n",
      "Requirement already satisfied: pytz>=2017.3 in /opt/conda/lib/python3.7/site-packages (from pandas->evaluate) (2021.3)\n",
      "Requirement already satisfied: six>=1.5 in /opt/conda/lib/python3.7/site-packages (from python-dateutil>=2.7.3->pandas->evaluate) (1.16.0)\n",
      "Requirement already satisfied: frozenlist>=1.1.1 in /opt/conda/lib/python3.7/site-packages (from aiohttp->datasets>=2.0.0->evaluate) (1.3.0)\n",
      "Requirement already satisfied: async-timeout<5.0,>=4.0.0a3 in /opt/conda/lib/python3.7/site-packages (from aiohttp->datasets>=2.0.0->evaluate) (4.0.2)\n",
      "Requirement already satisfied: aiosignal>=1.1.2 in /opt/conda/lib/python3.7/site-packages (from aiohttp->datasets>=2.0.0->evaluate) (1.2.0)\n",
      "Requirement already satisfied: multidict<7.0,>=4.5 in /opt/conda/lib/python3.7/site-packages (from aiohttp->datasets>=2.0.0->evaluate) (6.0.2)\n",
      "Requirement already satisfied: asynctest==0.13.0 in /opt/conda/lib/python3.7/site-packages (from aiohttp->datasets>=2.0.0->evaluate) (0.13.0)\n",
      "Requirement already satisfied: attrs>=17.3.0 in /opt/conda/lib/python3.7/site-packages (from aiohttp->datasets>=2.0.0->evaluate) (21.4.0)\n",
      "Requirement already satisfied: yarl<2.0,>=1.0 in /opt/conda/lib/python3.7/site-packages (from aiohttp->datasets>=2.0.0->evaluate) (1.7.2)\n",
      "\u001b[33mWARNING: Running pip as the 'root' user can result in broken permissions and conflicting behaviour with the system package manager. It is recommended to use a virtual environment instead: https://pip.pypa.io/warnings/venv\u001b[0m\u001b[33m\n",
      "\u001b[0mRequirement already satisfied: librosa in /opt/conda/lib/python3.7/site-packages (0.10.2.post1)\n",
      "Requirement already satisfied: soxr>=0.3.2 in /opt/conda/lib/python3.7/site-packages (from librosa) (0.3.7)\n",
      "Requirement already satisfied: audioread>=2.1.9 in /opt/conda/lib/python3.7/site-packages (from librosa) (2.1.9)\n",
      "Requirement already satisfied: scikit-learn>=0.20.0 in /opt/conda/lib/python3.7/site-packages (from librosa) (1.0.2)\n",
      "Requirement already satisfied: soundfile>=0.12.1 in /opt/conda/lib/python3.7/site-packages (from librosa) (0.13.1)\n",
      "Requirement already satisfied: pooch>=1.1 in /opt/conda/lib/python3.7/site-packages (from librosa) (1.6.0)\n",
      "Requirement already satisfied: lazy-loader>=0.1 in /opt/conda/lib/python3.7/site-packages (from librosa) (0.4)\n",
      "Requirement already satisfied: msgpack>=1.0 in /opt/conda/lib/python3.7/site-packages (from librosa) (1.0.3)\n",
      "Requirement already satisfied: scipy>=1.2.0 in /opt/conda/lib/python3.7/site-packages (from librosa) (1.7.3)\n",
      "Requirement already satisfied: numba>=0.51.0 in /opt/conda/lib/python3.7/site-packages (from librosa) (0.55.1)\n",
      "Requirement already satisfied: numpy!=1.22.0,!=1.22.1,!=1.22.2,>=1.20.3 in /opt/conda/lib/python3.7/site-packages (from librosa) (1.21.6)\n",
      "Requirement already satisfied: decorator>=4.3.0 in /opt/conda/lib/python3.7/site-packages (from librosa) (5.1.1)\n",
      "Requirement already satisfied: joblib>=0.14 in /opt/conda/lib/python3.7/site-packages (from librosa) (1.0.1)\n",
      "Requirement already satisfied: typing-extensions>=4.1.1 in /opt/conda/lib/python3.7/site-packages (from librosa) (4.2.0)\n",
      "Requirement already satisfied: packaging in /opt/conda/lib/python3.7/site-packages (from lazy-loader>=0.1->librosa) (21.3)\n",
      "Requirement already satisfied: importlib-metadata in /opt/conda/lib/python3.7/site-packages (from lazy-loader>=0.1->librosa) (4.11.3)\n",
      "Requirement already satisfied: llvmlite<0.39,>=0.38.0rc1 in /opt/conda/lib/python3.7/site-packages (from numba>=0.51.0->librosa) (0.38.0)\n",
      "Requirement already satisfied: setuptools in /opt/conda/lib/python3.7/site-packages (from numba>=0.51.0->librosa) (59.8.0)\n",
      "Requirement already satisfied: requests>=2.19.0 in /opt/conda/lib/python3.7/site-packages (from pooch>=1.1->librosa) (2.27.1)\n",
      "Requirement already satisfied: appdirs>=1.3.0 in /opt/conda/lib/python3.7/site-packages (from pooch>=1.1->librosa) (1.4.4)\n",
      "Requirement already satisfied: threadpoolctl>=2.0.0 in /opt/conda/lib/python3.7/site-packages (from scikit-learn>=0.20.0->librosa) (3.1.0)\n",
      "Requirement already satisfied: cffi>=1.0 in /opt/conda/lib/python3.7/site-packages (from soundfile>=0.12.1->librosa) (1.15.0)\n",
      "Requirement already satisfied: pycparser in /opt/conda/lib/python3.7/site-packages (from cffi>=1.0->soundfile>=0.12.1->librosa) (2.21)\n",
      "Requirement already satisfied: pyparsing!=3.0.5,>=2.0.2 in /opt/conda/lib/python3.7/site-packages (from packaging->lazy-loader>=0.1->librosa) (3.0.7)\n",
      "Requirement already satisfied: idna<4,>=2.5 in /opt/conda/lib/python3.7/site-packages (from requests>=2.19.0->pooch>=1.1->librosa) (3.3)\n",
      "Requirement already satisfied: certifi>=2017.4.17 in /opt/conda/lib/python3.7/site-packages (from requests>=2.19.0->pooch>=1.1->librosa) (2021.10.8)\n",
      "Requirement already satisfied: charset-normalizer~=2.0.0 in /opt/conda/lib/python3.7/site-packages (from requests>=2.19.0->pooch>=1.1->librosa) (2.0.12)\n",
      "Requirement already satisfied: urllib3<1.27,>=1.21.1 in /opt/conda/lib/python3.7/site-packages (from requests>=2.19.0->pooch>=1.1->librosa) (1.26.8)\n",
      "Requirement already satisfied: zipp>=0.5 in /opt/conda/lib/python3.7/site-packages (from importlib-metadata->lazy-loader>=0.1->librosa) (3.7.0)\n",
      "\u001b[33mWARNING: Running pip as the 'root' user can result in broken permissions and conflicting behaviour with the system package manager. It is recommended to use a virtual environment instead: https://pip.pypa.io/warnings/venv\u001b[0m\u001b[33m\n",
      "\u001b[0mRequirement already satisfied: seaborn in /opt/conda/lib/python3.7/site-packages (0.12.2)\n",
      "Requirement already satisfied: numpy!=1.24.0,>=1.17 in /opt/conda/lib/python3.7/site-packages (from seaborn) (1.21.6)\n",
      "Requirement already satisfied: matplotlib!=3.6.1,>=3.1 in /opt/conda/lib/python3.7/site-packages (from seaborn) (3.5.2)\n",
      "Requirement already satisfied: typing_extensions in /opt/conda/lib/python3.7/site-packages (from seaborn) (4.2.0)\n",
      "Requirement already satisfied: pandas>=0.25 in /opt/conda/lib/python3.7/site-packages (from seaborn) (1.3.5)\n",
      "Requirement already satisfied: cycler>=0.10 in /opt/conda/lib/python3.7/site-packages (from matplotlib!=3.6.1,>=3.1->seaborn) (0.11.0)\n",
      "Requirement already satisfied: packaging>=20.0 in /opt/conda/lib/python3.7/site-packages (from matplotlib!=3.6.1,>=3.1->seaborn) (21.3)\n",
      "Requirement already satisfied: fonttools>=4.22.0 in /opt/conda/lib/python3.7/site-packages (from matplotlib!=3.6.1,>=3.1->seaborn) (4.30.0)\n",
      "Requirement already satisfied: python-dateutil>=2.7 in /opt/conda/lib/python3.7/site-packages (from matplotlib!=3.6.1,>=3.1->seaborn) (2.8.2)\n",
      "Requirement already satisfied: kiwisolver>=1.0.1 in /opt/conda/lib/python3.7/site-packages (from matplotlib!=3.6.1,>=3.1->seaborn) (1.4.0)\n",
      "Requirement already satisfied: pillow>=6.2.0 in /opt/conda/lib/python3.7/site-packages (from matplotlib!=3.6.1,>=3.1->seaborn) (9.0.1)\n",
      "Requirement already satisfied: pyparsing>=2.2.1 in /opt/conda/lib/python3.7/site-packages (from matplotlib!=3.6.1,>=3.1->seaborn) (3.0.7)\n",
      "Requirement already satisfied: pytz>=2017.3 in /opt/conda/lib/python3.7/site-packages (from pandas>=0.25->seaborn) (2021.3)\n",
      "Requirement already satisfied: six>=1.5 in /opt/conda/lib/python3.7/site-packages (from python-dateutil>=2.7->matplotlib!=3.6.1,>=3.1->seaborn) (1.16.0)\n",
      "\u001b[33mWARNING: Running pip as the 'root' user can result in broken permissions and conflicting behaviour with the system package manager. It is recommended to use a virtual environment instead: https://pip.pypa.io/warnings/venv\u001b[0m\u001b[33m\n",
      "\u001b[0mRequirement already satisfied: jiwer in /opt/conda/lib/python3.7/site-packages (3.0.5)\n",
      "Requirement already satisfied: click<9.0.0,>=8.1.3 in /opt/conda/lib/python3.7/site-packages (from jiwer) (8.1.8)\n",
      "Requirement already satisfied: rapidfuzz<4,>=3 in /opt/conda/lib/python3.7/site-packages (from jiwer) (3.4.0)\n",
      "Requirement already satisfied: importlib-metadata in /opt/conda/lib/python3.7/site-packages (from click<9.0.0,>=8.1.3->jiwer) (4.11.3)\n",
      "Requirement already satisfied: typing-extensions>=3.6.4 in /opt/conda/lib/python3.7/site-packages (from importlib-metadata->click<9.0.0,>=8.1.3->jiwer) (4.2.0)\n",
      "Requirement already satisfied: zipp>=0.5 in /opt/conda/lib/python3.7/site-packages (from importlib-metadata->click<9.0.0,>=8.1.3->jiwer) (3.7.0)\n",
      "\u001b[33mWARNING: Running pip as the 'root' user can result in broken permissions and conflicting behaviour with the system package manager. It is recommended to use a virtual environment instead: https://pip.pypa.io/warnings/venv\u001b[0m\u001b[33m\n",
      "\u001b[0m"
     ]
    }
   ],
   "source": [
    "!pip install -U datasets #>=1.18.3\n",
    "!pip install -U transformers #==4.17.0\n",
    "!pip install -U evaluate\n",
    "!pip install -U librosa\n",
    "!pip install -U seaborn\n",
    "!pip install -U jiwer"
   ]
  },
  {
   "cell_type": "code",
   "execution_count": 2,
   "metadata": {},
   "outputs": [],
   "source": [
    "from kaggle_secrets import UserSecretsClient\n",
    "user_secrets = UserSecretsClient()\n",
    "\n",
    "WANDB_KEY = user_secrets.get_secret(\"wandb_key\")"
   ]
  },
  {
   "cell_type": "code",
   "execution_count": 6,
   "metadata": {
    "execution": {
     "iopub.execute_input": "2024-03-21T19:10:46.117875Z",
     "iopub.status.busy": "2024-03-21T19:10:46.117598Z",
     "iopub.status.idle": "2024-03-21T19:10:46.122644Z",
     "shell.execute_reply": "2024-03-21T19:10:46.121683Z",
     "shell.execute_reply.started": "2024-03-21T19:10:46.117841Z"
    },
    "trusted": true
   },
   "outputs": [],
   "source": [
    "# from huggingface_hub import notebook_login\n",
    "# notebook_login()"
   ]
  },
  {
   "cell_type": "markdown",
   "metadata": {},
   "source": [
    "# Dataset"
   ]
  },
  {
   "cell_type": "code",
   "execution_count": 3,
   "metadata": {
    "execution": {
     "iopub.execute_input": "2025-04-02T15:06:30.332154Z",
     "iopub.status.busy": "2025-04-02T15:06:30.331782Z",
     "iopub.status.idle": "2025-04-02T15:06:30.338231Z",
     "shell.execute_reply": "2025-04-02T15:06:30.337183Z",
     "shell.execute_reply.started": "2025-04-02T15:06:30.332116Z"
    },
    "trusted": true
   },
   "outputs": [],
   "source": [
    "import json\n",
    "from datasets import Dataset, DatasetDict, Audio, load_dataset\n",
    "from tqdm.auto import tqdm\n",
    "import random\n",
    "\n",
    "import os\n",
    "import numpy as np\n",
    "import pandas as pd\n",
    "import torchaudio"
   ]
  },
  {
   "cell_type": "markdown",
   "metadata": {},
   "source": [
    "## Let's load dataset"
   ]
  },
  {
   "cell_type": "code",
   "execution_count": 4,
   "metadata": {},
   "outputs": [],
   "source": [
    "DATA_PATH = '/kaggle/input/darpa-timit-acousticphonetic-continuous-speech/data/'\n",
    "DATA_SPLIT = '/kaggle/input/timit-data-split/TIMIT_DATA_SPLIT.json'"
   ]
  },
  {
   "cell_type": "code",
   "execution_count": 5,
   "metadata": {},
   "outputs": [
    {
     "data": {
      "text/plain": [
       "dict_keys(['train', 'valid', 'test'])"
      ]
     },
     "execution_count": 5,
     "metadata": {},
     "output_type": "execute_result"
    }
   ],
   "source": [
    "with open(DATA_SPLIT, \"r\") as f:\n",
    "    dataset = json.load(f)\n",
    "\n",
    "dataset.keys()"
   ]
  },
  {
   "cell_type": "markdown",
   "metadata": {},
   "source": [
    "### How many hours are in each set?\n",
    "At least this helps us understand how big/small our dataset is."
   ]
  },
  {
   "cell_type": "code",
   "execution_count": 10,
   "metadata": {
    "execution": {
     "iopub.execute_input": "2025-04-02T14:55:07.100239Z",
     "iopub.status.busy": "2025-04-02T14:55:07.099847Z",
     "iopub.status.idle": "2025-04-02T14:55:07.107981Z",
     "shell.execute_reply": "2025-04-02T14:55:07.106848Z",
     "shell.execute_reply.started": "2025-04-02T14:55:07.100197Z"
    },
    "trusted": true
   },
   "outputs": [],
   "source": [
    "# import librosa\n",
    "\n",
    "# def get_durations(dict_data):\n",
    "#     total_durations = 0\n",
    "\n",
    "#     for entry in dict_data.values():\n",
    "#         audio_data, _ = librosa.load(entry['audio_file'], sr=16_000)\n",
    "#         duration = len(audio_data) / 16_000\n",
    "#         total_durations += duration\n",
    "\n",
    "#     return int(total_durations)"
   ]
  },
  {
   "cell_type": "code",
   "execution_count": 11,
   "metadata": {
    "execution": {
     "iopub.execute_input": "2025-04-02T14:55:07.287347Z",
     "iopub.status.busy": "2025-04-02T14:55:07.286996Z",
     "iopub.status.idle": "2025-04-02T14:55:11.772889Z",
     "shell.execute_reply": "2025-04-02T14:55:11.771657Z",
     "shell.execute_reply.started": "2025-04-02T14:55:07.287310Z"
    },
    "trusted": true
   },
   "outputs": [],
   "source": [
    "# print(f\"Duration of Train: {get_durations(dataset['train']) // 60} mns\")\n",
    "# print(f\"Duration of Valid: {get_durations(dataset['valid']) // 60} mns\")\n",
    "# print(f\"Duration of Test : {get_durations(dataset['test']) // 60} mns\")"
   ]
  },
  {
   "cell_type": "markdown",
   "metadata": {},
   "source": [
    "# Preprocessing"
   ]
  },
  {
   "cell_type": "markdown",
   "metadata": {},
   "source": [
    "## Process into HuggingFace Dataset Format"
   ]
  },
  {
   "cell_type": "code",
   "execution_count": 12,
   "metadata": {
    "execution": {
     "iopub.execute_input": "2025-04-02T14:55:11.818304Z",
     "iopub.status.busy": "2025-04-02T14:55:11.818027Z",
     "iopub.status.idle": "2025-04-02T14:55:11.825309Z",
     "shell.execute_reply": "2025-04-02T14:55:11.823975Z",
     "shell.execute_reply.started": "2025-04-02T14:55:11.818264Z"
    },
    "trusted": true
   },
   "outputs": [],
   "source": [
    "def convert_to_feature_dict(data_dict):\n",
    "    # convert each feature into an array instead\n",
    "    audio_files = []\n",
    "    word_files = []\n",
    "    phonetic_files = []\n",
    "    for key, value in data_dict.items():\n",
    "        audio_files.append(value['audio_file'])\n",
    "        word_files.append(value['word_file'])\n",
    "        phonetic_files.append(value['phonetic_file'])\n",
    "    \n",
    "    return {\n",
    "        'audio_file': audio_files,\n",
    "        'word_file': word_files,\n",
    "        'phonetic_file': phonetic_files\n",
    "    }"
   ]
  },
  {
   "cell_type": "code",
   "execution_count": 13,
   "metadata": {
    "execution": {
     "iopub.execute_input": "2025-04-02T14:55:11.827830Z",
     "iopub.status.busy": "2025-04-02T14:55:11.827530Z",
     "iopub.status.idle": "2025-04-02T14:55:11.847351Z",
     "shell.execute_reply": "2025-04-02T14:55:11.846067Z",
     "shell.execute_reply.started": "2025-04-02T14:55:11.827798Z"
    },
    "trusted": true
   },
   "outputs": [],
   "source": [
    "train = convert_to_feature_dict(dataset['train'])\n",
    "valid = convert_to_feature_dict(dataset['valid'])\n",
    "test  = convert_to_feature_dict(dataset['test'])"
   ]
  },
  {
   "cell_type": "code",
   "execution_count": 14,
   "metadata": {
    "execution": {
     "iopub.execute_input": "2025-04-02T14:55:11.849696Z",
     "iopub.status.busy": "2025-04-02T14:55:11.849297Z",
     "iopub.status.idle": "2025-04-02T14:55:11.880248Z",
     "shell.execute_reply": "2025-04-02T14:55:11.878901Z",
     "shell.execute_reply.started": "2025-04-02T14:55:11.849647Z"
    },
    "trusted": true
   },
   "outputs": [],
   "source": [
    "train_dataset = Dataset.from_dict(train)\n",
    "valid_dataset = Dataset.from_dict(valid)\n",
    "test_dataset = Dataset.from_dict(test)"
   ]
  },
  {
   "cell_type": "code",
   "execution_count": 15,
   "metadata": {
    "execution": {
     "iopub.execute_input": "2025-04-02T14:55:11.882401Z",
     "iopub.status.busy": "2025-04-02T14:55:11.882148Z",
     "iopub.status.idle": "2025-04-02T14:55:11.888133Z",
     "shell.execute_reply": "2025-04-02T14:55:11.886942Z",
     "shell.execute_reply.started": "2025-04-02T14:55:11.882367Z"
    },
    "trusted": true
   },
   "outputs": [
    {
     "name": "stdout",
     "output_type": "stream",
     "text": [
      "Dataset({\n",
      "    features: ['audio_file', 'word_file', 'phonetic_file'],\n",
      "    num_rows: 1440\n",
      "})\n"
     ]
    }
   ],
   "source": [
    "print(train_dataset)"
   ]
  },
  {
   "cell_type": "markdown",
   "metadata": {},
   "source": [
    "## Read files for phonetics"
   ]
  },
  {
   "cell_type": "code",
   "execution_count": 16,
   "metadata": {
    "execution": {
     "iopub.execute_input": "2025-04-02T14:55:11.891668Z",
     "iopub.status.busy": "2025-04-02T14:55:11.891279Z",
     "iopub.status.idle": "2025-04-02T14:55:11.900776Z",
     "shell.execute_reply": "2025-04-02T14:55:11.899628Z",
     "shell.execute_reply.started": "2025-04-02T14:55:11.891613Z"
    },
    "trusted": true
   },
   "outputs": [],
   "source": [
    "def read_text_file(filepath):\n",
    "    with open(filepath) as f:\n",
    "        tokens = [line.split()[-1] for line in f]\n",
    "        return \" \".join(tokens)\n",
    "    \n",
    "def prepare_text_data(item):\n",
    "    item['text'] = read_text_file(item['word_file'])\n",
    "    item['phonetic'] = read_text_file(item['phonetic_file'])\n",
    "    return item"
   ]
  },
  {
   "cell_type": "code",
   "execution_count": null,
   "metadata": {
    "execution": {
     "iopub.execute_input": "2025-04-02T14:55:12.012222Z",
     "iopub.status.busy": "2025-04-02T14:55:12.011906Z",
     "iopub.status.idle": "2025-04-02T14:55:16.926666Z",
     "shell.execute_reply": "2025-04-02T14:55:16.925740Z",
     "shell.execute_reply.started": "2025-04-02T14:55:12.012190Z"
    },
    "trusted": true
   },
   "outputs": [
    {
     "data": {
      "application/vnd.jupyter.widget-view+json": {
       "model_id": "10dcb49188ea4a8292485e8c2d25a7cd",
       "version_major": 2,
       "version_minor": 0
      },
      "text/plain": [
       "Map:   0%|          | 0/1440 [00:00<?, ? examples/s]"
      ]
     },
     "metadata": {},
     "output_type": "display_data"
    },
    {
     "data": {
      "application/vnd.jupyter.widget-view+json": {
       "model_id": "37547812f97e4838bfdcc84cb9538c32",
       "version_major": 2,
       "version_minor": 0
      },
      "text/plain": [
       "Map:   0%|          | 0/240 [00:00<?, ? examples/s]"
      ]
     },
     "metadata": {},
     "output_type": "display_data"
    },
    {
     "data": {
      "application/vnd.jupyter.widget-view+json": {
       "model_id": "aa449a0e34f24885a782ddabc205c4ac",
       "version_major": 2,
       "version_minor": 0
      },
      "text/plain": [
       "Map:   0%|          | 0/1680 [00:00<?, ? examples/s]"
      ]
     },
     "metadata": {},
     "output_type": "display_data"
    }
   ],
   "source": [
    "train_dataset = (train_dataset\n",
    "                 .map(prepare_text_data)\n",
    "                 .remove_columns([\"word_file\", \"phonetic_file\"]))\n",
    "valid_dataset = (valid_dataset\n",
    "                 .map(prepare_text_data)\n",
    "                 .remove_columns([\"word_file\", \"phonetic_file\"]))\n",
    "test_dataset  = (test_dataset\n",
    "                 .map(prepare_text_data)\n",
    "                 .remove_columns([\"word_file\", \"phonetic_file\"]))"
   ]
  },
  {
   "cell_type": "markdown",
   "metadata": {},
   "source": [
    "## Normalize the Phonetics"
   ]
  },
  {
   "cell_type": "markdown",
   "metadata": {},
   "source": [
    "As we can see the result below, there are *61* phones. However, we don't need to use all of them. \"tcl\", for example, is just a pause where there is a \"t\". So, let's keep it up and simplify them a bit."
   ]
  },
  {
   "cell_type": "code",
   "execution_count": 18,
   "metadata": {
    "execution": {
     "iopub.execute_input": "2025-04-02T14:55:16.928609Z",
     "iopub.status.busy": "2025-04-02T14:55:16.928339Z",
     "iopub.status.idle": "2025-04-02T14:55:16.935141Z",
     "shell.execute_reply": "2025-04-02T14:55:16.934137Z",
     "shell.execute_reply.started": "2025-04-02T14:55:16.928577Z"
    },
    "trusted": true
   },
   "outputs": [
    {
     "data": {
      "text/plain": [
       "Dataset({\n",
       "    features: ['audio_file', 'text', 'phonetic'],\n",
       "    num_rows: 1440\n",
       "})"
      ]
     },
     "execution_count": 18,
     "metadata": {},
     "output_type": "execute_result"
    }
   ],
   "source": [
    "train_dataset"
   ]
  },
  {
   "cell_type": "code",
   "execution_count": null,
   "metadata": {
    "execution": {
     "iopub.execute_input": "2025-04-02T14:55:16.936852Z",
     "iopub.status.busy": "2025-04-02T14:55:16.936510Z",
     "iopub.status.idle": "2025-04-02T14:55:17.050498Z",
     "shell.execute_reply": "2025-04-02T14:55:17.049384Z",
     "shell.execute_reply.started": "2025-04-02T14:55:16.936809Z"
    },
    "trusted": true
   },
   "outputs": [
    {
     "name": "stdout",
     "output_type": "stream",
     "text": [
      "num of train phones:\t 61\n"
     ]
    }
   ],
   "source": [
    "train_phonetics = [phone for x in train_dataset for phone in x['phonetic'].split()]\n",
    "print(\"num of train phones:\\t\", len(set(train_phonetics)))"
   ]
  },
  {
   "cell_type": "code",
   "execution_count": 20,
   "metadata": {
    "execution": {
     "iopub.execute_input": "2025-04-02T14:55:17.052747Z",
     "iopub.status.busy": "2025-04-02T14:55:17.052427Z",
     "iopub.status.idle": "2025-04-02T14:55:17.064391Z",
     "shell.execute_reply": "2025-04-02T14:55:17.063120Z",
     "shell.execute_reply.started": "2025-04-02T14:55:17.052714Z"
    },
    "trusted": true
   },
   "outputs": [],
   "source": [
    "# TimitBet 61 phoneme mapping to 39 phonemes\n",
    "# by Lee, K.-F., & Hon, H.-W. (1989). Speaker-independent phone recognition using hidden Markov models. IEEE Transactions on Acoustics, Speech, and Signal Processing, 37(11), 1641–1648. doi:10.1109/29.46546 \n",
    "phon61_map39 = {\n",
    "    'iy':'iy',  'ih':'ih',   'eh':'eh',  'ae':'ae',    'ix':'ih',  'ax':'ah',   'ah':'ah',  'uw':'uw',\n",
    "    'ux':'uw',  'uh':'uh',   'ao':'aa',  'aa':'aa',    'ey':'ey',  'ay':'ay',   'oy':'oy',  'aw':'aw',\n",
    "    'ow':'ow',  'l':'l',     'el':'l',  'r':'r',      'y':'y',    'w':'w',     'er':'er',  'axr':'er',\n",
    "    'm':'m',    'em':'m',     'n':'n',    'nx':'n',     'en':'n',  'ng':'ng',   'eng':'ng', 'ch':'ch',\n",
    "    'jh':'jh',  'dh':'dh',   'b':'b',    'd':'d',      'dx':'dx',  'g':'g',     'p':'p',    't':'t',\n",
    "    'k':'k',    'z':'z',     'zh':'sh',  'v':'v',      'f':'f',    'th':'th',   's':'s',    'sh':'sh',\n",
    "    'hh':'hh',  'hv':'hh',   'pcl':'h#', 'tcl':'h#', 'kcl':'h#', 'qcl':'h#','bcl':'h#','dcl':'h#',\n",
    "    'gcl':'h#','h#':'h#',  '#h':'h#',  'pau':'h#', 'epi': 'h#','nx':'n',   'ax-h':'ah','q':'h#' \n",
    "}\n",
    "\n",
    "def convert_phon61_to_phon39(sentence):\n",
    "    tokens = [phon61_map39[x] for x in sentence.split()]\n",
    "    return \" \".join(tokens)\n",
    "\n",
    "def normalize_phones(item):\n",
    "    item['phonetic'] = convert_phon61_to_phon39(item['phonetic'])\n",
    "    return item"
   ]
  },
  {
   "cell_type": "code",
   "execution_count": null,
   "metadata": {
    "execution": {
     "iopub.execute_input": "2025-04-02T14:55:17.066120Z",
     "iopub.status.busy": "2025-04-02T14:55:17.065843Z",
     "iopub.status.idle": "2025-04-02T14:55:17.518365Z",
     "shell.execute_reply": "2025-04-02T14:55:17.517523Z",
     "shell.execute_reply.started": "2025-04-02T14:55:17.066085Z"
    },
    "trusted": true
   },
   "outputs": [
    {
     "data": {
      "application/vnd.jupyter.widget-view+json": {
       "model_id": "9cdb4be8a0404f27b96d4003d4fd7ad2",
       "version_major": 2,
       "version_minor": 0
      },
      "text/plain": [
       "Map:   0%|          | 0/1440 [00:00<?, ? examples/s]"
      ]
     },
     "metadata": {},
     "output_type": "display_data"
    },
    {
     "data": {
      "application/vnd.jupyter.widget-view+json": {
       "model_id": "b7d38c8b8ca945a8bcb135d1377a2e2a",
       "version_major": 2,
       "version_minor": 0
      },
      "text/plain": [
       "Map:   0%|          | 0/240 [00:00<?, ? examples/s]"
      ]
     },
     "metadata": {},
     "output_type": "display_data"
    },
    {
     "data": {
      "application/vnd.jupyter.widget-view+json": {
       "model_id": "1049cd3536f244b7875d9e8134d707a3",
       "version_major": 2,
       "version_minor": 0
      },
      "text/plain": [
       "Map:   0%|          | 0/1680 [00:00<?, ? examples/s]"
      ]
     },
     "metadata": {},
     "output_type": "display_data"
    }
   ],
   "source": [
    "train_dataset = train_dataset.map(normalize_phones)\n",
    "valid_dataset = valid_dataset.map(normalize_phones)\n",
    "test_dataset = test_dataset.map(normalize_phones)"
   ]
  },
  {
   "cell_type": "code",
   "execution_count": null,
   "metadata": {
    "execution": {
     "iopub.execute_input": "2025-04-02T14:55:17.575235Z",
     "iopub.status.busy": "2025-04-02T14:55:17.574961Z",
     "iopub.status.idle": "2025-04-02T14:55:17.903070Z",
     "shell.execute_reply": "2025-04-02T14:55:17.902045Z",
     "shell.execute_reply.started": "2025-04-02T14:55:17.575205Z"
    },
    "trusted": true
   },
   "outputs": [
    {
     "name": "stdout",
     "output_type": "stream",
     "text": [
      "num of train phones:\t 39\n",
      "num of valid phones:\t 39\n",
      "num of test phones:\t 39\n"
     ]
    }
   ],
   "source": [
    "train_phonetics = [phone for x in train_dataset for phone in x['phonetic'].split()]\n",
    "valid_phonetics = [phone for x in valid_dataset for phone in x['phonetic'].split()]\n",
    "test_phonetics = [phone for x in test_dataset for phone in x['phonetic'].split()]\n",
    "\n",
    "print(\"num of train phones:\\t\", len(set(train_phonetics)))\n",
    "print(\"num of valid phones:\\t\", len(set(valid_phonetics)))\n",
    "print(\"num of test phones:\\t\", len(set(test_phonetics)))"
   ]
  },
  {
   "cell_type": "markdown",
   "metadata": {},
   "source": [
    "## Phonetic Distribution\n",
    "Let's check the distribution of each phone across all three test set. Note that we don't do simple counting. Instead, for each phoneme, we show the ratio of that phoneme relative to that specific set. On test set, obviously, the count of each phoneme is less than the train, but the ratio should be similar to the training set."
   ]
  },
  {
   "cell_type": "code",
   "execution_count": 23,
   "metadata": {
    "execution": {
     "iopub.execute_input": "2025-04-02T14:55:19.057333Z",
     "iopub.status.busy": "2025-04-02T14:55:19.057020Z",
     "iopub.status.idle": "2025-04-02T14:55:19.066186Z",
     "shell.execute_reply": "2025-04-02T14:55:19.064935Z",
     "shell.execute_reply.started": "2025-04-02T14:55:19.057293Z"
    },
    "trusted": true
   },
   "outputs": [],
   "source": [
    "phone_vocabs = set(train_phonetics)\n",
    "phone_vocabs.remove('h#')\n",
    "phone_vocabs = sorted(phone_vocabs)\n",
    "\n",
    "def count_frequency(phonetics):\n",
    "    phone_counts = {phone: 0 for phone in phone_vocabs}\n",
    "    for phone in phonetics:\n",
    "        if phone in phone_vocabs:\n",
    "            phone_counts[phone] += 1\n",
    "    # eliminate h# for visualization purposes\n",
    "    return [phone_counts[phone] for phone in phone_vocabs] "
   ]
  },
  {
   "cell_type": "code",
   "execution_count": 24,
   "metadata": {
    "execution": {
     "iopub.execute_input": "2025-04-02T14:55:20.408968Z",
     "iopub.status.busy": "2025-04-02T14:55:20.408664Z",
     "iopub.status.idle": "2025-04-02T14:55:20.476444Z",
     "shell.execute_reply": "2025-04-02T14:55:20.475516Z",
     "shell.execute_reply.started": "2025-04-02T14:55:20.408904Z"
    },
    "trusted": true
   },
   "outputs": [],
   "source": [
    "train_phone_counts = count_frequency(train_phonetics)\n",
    "valid_phone_counts = count_frequency(valid_phonetics)\n",
    "test_phone_counts  = count_frequency(test_phonetics)"
   ]
  },
  {
   "cell_type": "code",
   "execution_count": 25,
   "metadata": {
    "execution": {
     "iopub.execute_input": "2025-04-02T14:55:20.602110Z",
     "iopub.status.busy": "2025-04-02T14:55:20.601777Z",
     "iopub.status.idle": "2025-04-02T14:55:20.607822Z",
     "shell.execute_reply": "2025-04-02T14:55:20.606647Z",
     "shell.execute_reply.started": "2025-04-02T14:55:20.602076Z"
    },
    "trusted": true
   },
   "outputs": [],
   "source": [
    "train_phone_ratio = [count / sum(train_phone_counts) for count in train_phone_counts]\n",
    "valid_phone_ratio = [count / sum(valid_phone_counts) for count in valid_phone_counts]\n",
    "test_phone_ratio  = [count / sum(test_phone_counts) for count in test_phone_counts]"
   ]
  },
  {
   "cell_type": "code",
   "execution_count": null,
   "metadata": {
    "execution": {
     "iopub.execute_input": "2025-04-02T14:55:27.859812Z",
     "iopub.status.busy": "2025-04-02T14:55:27.859507Z",
     "iopub.status.idle": "2025-04-02T14:55:28.434432Z",
     "shell.execute_reply": "2025-04-02T14:55:28.433154Z",
     "shell.execute_reply.started": "2025-04-02T14:55:27.859782Z"
    },
    "trusted": true
   },
   "outputs": [
    {
     "data": {
      "image/png": "[encoded data removed]",
      "text/plain": [
       "<Figure size 1800x720 with 1 Axes>"
      ]
     },
     "metadata": {
      "needs_background": "light"
     },
     "output_type": "display_data"
    }
   ],
   "source": [
    "import matplotlib.pyplot as plt\n",
    "\n",
    "plt.figure(figsize=(25,10))\n",
    "\n",
    "plt.bar(phone_vocabs, train_phone_ratio, label=\"Train\")\n",
    "plt.bar(phone_vocabs, valid_phone_ratio, bottom=train_phone_ratio, label=\"Valid\")\n",
    "plt.bar(phone_vocabs, test_phone_ratio, bottom=[(x+y) for x,y in zip(train_phone_ratio, valid_phone_ratio)], label=\"Test\")\n",
    "\n",
    "plt.legend()\n",
    "\n",
    "plt.show()"
   ]
  },
  {
   "cell_type": "markdown",
   "metadata": {},
   "source": [
    "## Load Audio File"
   ]
  },
  {
   "cell_type": "code",
   "execution_count": 27,
   "metadata": {
    "execution": {
     "iopub.execute_input": "2025-04-02T14:57:00.521204Z",
     "iopub.status.busy": "2025-04-02T14:57:00.520366Z",
     "iopub.status.idle": "2025-04-02T14:57:00.542894Z",
     "shell.execute_reply": "2025-04-02T14:57:00.541957Z",
     "shell.execute_reply.started": "2025-04-02T14:57:00.521159Z"
    },
    "trusted": true
   },
   "outputs": [],
   "source": [
    "train_dataset = (train_dataset\n",
    "                 .cast_column(\"audio_file\", Audio(sampling_rate=16_000))\n",
    "                 .rename_column('audio_file', 'audio'))\n",
    "valid_dataset = (valid_dataset\n",
    "                 .cast_column(\"audio_file\", Audio(sampling_rate=16_000))\n",
    "                 .rename_column('audio_file', 'audio'))\n",
    "test_dataset = (test_dataset\n",
    "                 .cast_column(\"audio_file\", Audio(sampling_rate=16_000))\n",
    "                 .rename_column('audio_file', 'audio'))"
   ]
  },
  {
   "cell_type": "code",
   "execution_count": null,
   "metadata": {
    "execution": {
     "iopub.execute_input": "2025-04-02T14:57:00.902643Z",
     "iopub.status.busy": "2025-04-02T14:57:00.902284Z",
     "iopub.status.idle": "2025-04-02T14:57:00.915180Z",
     "shell.execute_reply": "2025-04-02T14:57:00.913875Z",
     "shell.execute_reply.started": "2025-04-02T14:57:00.902591Z"
    },
    "trusted": true
   },
   "outputs": [
    {
     "data": {
      "text/plain": [
       "{'audio': {'path': '/kaggle/input/darpa-timit-acousticphonetic-continuous-speech/data/TRAIN/DR3/FALK0/SA1.WAV',\n",
       "  'array': array([-9.15527344e-05,  2.74658203e-04,  1.22070312e-04, ...,\n",
       "         -9.15527344e-05, -2.74658203e-04,  1.22070312e-04]),\n",
       "  'sampling_rate': 16000},\n",
       " 'text': 'she had your dark suit in greasy wash water all year',\n",
       " 'phonetic': 'h# sh iy hh eh h# d y er h# d aa r h# k s uw h# h# ih n h# g r iy z iy w aa sh h# w aa dx er h# aa l y ih er h#'}"
      ]
     },
     "execution_count": 28,
     "metadata": {},
     "output_type": "execute_result"
    }
   ],
   "source": [
    "train_dataset[0]"
   ]
  },
  {
   "cell_type": "code",
   "execution_count": null,
   "metadata": {
    "execution": {
     "iopub.execute_input": "2025-04-02T14:57:02.131960Z",
     "iopub.status.busy": "2025-04-02T14:57:02.131627Z",
     "iopub.status.idle": "2025-04-02T14:57:02.161244Z",
     "shell.execute_reply": "2025-04-02T14:57:02.160143Z",
     "shell.execute_reply.started": "2025-04-02T14:57:02.131926Z"
    },
    "trusted": true
   },
   "outputs": [
    {
     "name": "stdout",
     "output_type": "stream",
     "text": [
      "Text: thus far the advances made have been almost entirely along functional lines\n",
      "Phonetics: h# dh ah s f aa r dh iy ih h# v ae n s ah z m ey h# d ih h# b ih n aa l m ah s h# t ih n h# t ay er l iy ih l aa ng f ah ng k sh h# n l l ay n s h#\n",
      "Input array shape: (65332,)\n",
      "Sampling rate: 16000\n"
     ]
    },
    {
     "data": {
      "text/html": [
       "\n",
       "                <audio  controls=\"controls\" >\n",
       "                    <source src=\"data:audio/wav;base64,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\" type=\"audio/wav\" />\n",
       "                    Your browser does not support the audio element.\n",
       "                </audio>\n",
       "              "
      ],
      "text/plain": [
       "<IPython.lib.display.Audio object>"
      ]
     },
     "execution_count": 29,
     "metadata": {},
     "output_type": "execute_result"
    }
   ],
   "source": [
    "import IPython.display as ipd\n",
    "import numpy as np\n",
    "import random\n",
    "\n",
    "rand_int = random.randint(0, len(train_dataset)-1)\n",
    "\n",
    "print(\"Text:\", train_dataset[rand_int][\"text\"])\n",
    "print(\"Phonetics:\", train_dataset[rand_int][\"phonetic\"])\n",
    "print(\"Input array shape:\", train_dataset[rand_int][\"audio\"][\"array\"].shape)\n",
    "print(\"Sampling rate:\", train_dataset[rand_int][\"audio\"][\"sampling_rate\"])\n",
    "ipd.Audio(data=train_dataset[rand_int][\"audio\"][\"array\"], autoplay=False, rate=16000)"
   ]
  },
  {
   "cell_type": "markdown",
   "metadata": {},
   "source": [
    "## Build Character Set"
   ]
  },
  {
   "cell_type": "code",
   "execution_count": 30,
   "metadata": {
    "execution": {
     "iopub.execute_input": "2025-04-02T14:57:28.992281Z",
     "iopub.status.busy": "2025-04-02T14:57:28.991928Z",
     "iopub.status.idle": "2025-04-02T14:57:29.002017Z",
     "shell.execute_reply": "2025-04-02T14:57:29.000912Z",
     "shell.execute_reply.started": "2025-04-02T14:57:28.992243Z"
    },
    "trusted": true
   },
   "outputs": [],
   "source": [
    "vocab_train = list(set(train_phonetics)) + [' ']\n",
    "vocab_valid = list(set(valid_phonetics)) + [' ']\n",
    "vocab_test  = list(set(test_phonetics)) + [' ']"
   ]
  },
  {
   "cell_type": "code",
   "execution_count": 31,
   "metadata": {
    "execution": {
     "iopub.execute_input": "2025-04-02T14:57:30.071452Z",
     "iopub.status.busy": "2025-04-02T14:57:30.071118Z",
     "iopub.status.idle": "2025-04-02T14:57:30.077524Z",
     "shell.execute_reply": "2025-04-02T14:57:30.076623Z",
     "shell.execute_reply.started": "2025-04-02T14:57:30.071416Z"
    },
    "trusted": true
   },
   "outputs": [
    {
     "name": "stdout",
     "output_type": "stream",
     "text": [
      "{' ': 0, 'aa': 1, 'ae': 2, 'ah': 3, 'aw': 4, 'ay': 5, 'b': 6, 'ch': 7, 'd': 8, 'dh': 9, 'dx': 10, 'eh': 11, 'er': 12, 'ey': 13, 'f': 14, 'g': 15, 'h#': 16, 'hh': 17, 'ih': 18, 'iy': 19, 'jh': 20, 'k': 21, 'l': 22, 'm': 23, 'n': 24, 'ng': 25, 'ow': 26, 'oy': 27, 'p': 28, 'r': 29, 's': 30, 'sh': 31, 't': 32, 'th': 33, 'uh': 34, 'uw': 35, 'v': 36, 'w': 37, 'y': 38, 'z': 39}\n"
     ]
    }
   ],
   "source": [
    "vocab_list = list(set(vocab_train + vocab_valid + vocab_test))\n",
    "vocab_dict = {v: k for k, v in enumerate(sorted(vocab_list))}\n",
    "\n",
    "print(vocab_dict)"
   ]
  },
  {
   "cell_type": "code",
   "execution_count": 32,
   "metadata": {
    "execution": {
     "iopub.execute_input": "2025-04-02T14:57:31.251445Z",
     "iopub.status.busy": "2025-04-02T14:57:31.251104Z",
     "iopub.status.idle": "2025-04-02T14:57:31.259509Z",
     "shell.execute_reply": "2025-04-02T14:57:31.258365Z",
     "shell.execute_reply.started": "2025-04-02T14:57:31.251408Z"
    },
    "trusted": true
   },
   "outputs": [
    {
     "data": {
      "text/plain": [
       "42"
      ]
     },
     "execution_count": 32,
     "metadata": {},
     "output_type": "execute_result"
    }
   ],
   "source": [
    "# make the space more intuitive to understand\n",
    "vocab_dict[\"|\"] = vocab_dict[\" \"]\n",
    "del vocab_dict[\" \"]\n",
    "\n",
    "vocab_dict[\"[UNK]\"] = len(vocab_dict)\n",
    "vocab_dict[\"[PAD]\"] = len(vocab_dict)\n",
    "len(vocab_dict)"
   ]
  },
  {
   "cell_type": "code",
   "execution_count": 33,
   "metadata": {
    "execution": {
     "iopub.execute_input": "2025-04-02T14:57:32.119822Z",
     "iopub.status.busy": "2025-04-02T14:57:32.119454Z",
     "iopub.status.idle": "2025-04-02T14:57:32.126303Z",
     "shell.execute_reply": "2025-04-02T14:57:32.125060Z",
     "shell.execute_reply.started": "2025-04-02T14:57:32.119787Z"
    },
    "trusted": true
   },
   "outputs": [],
   "source": [
    "# save vocab.json\n",
    "import json\n",
    "with open('/kaggle/working/vocab.json', 'w') as vocab_file:\n",
    "    json.dump(vocab_dict, vocab_file)"
   ]
  },
  {
   "cell_type": "markdown",
   "metadata": {},
   "source": [
    "# Modeling"
   ]
  },
  {
   "cell_type": "markdown",
   "metadata": {},
   "source": [
    "## Input Processor"
   ]
  },
  {
   "cell_type": "code",
   "execution_count": 34,
   "metadata": {
    "execution": {
     "iopub.execute_input": "2025-04-02T14:57:54.257326Z",
     "iopub.status.busy": "2025-04-02T14:57:54.256970Z",
     "iopub.status.idle": "2025-04-02T14:57:54.505161Z",
     "shell.execute_reply": "2025-04-02T14:57:54.504194Z",
     "shell.execute_reply.started": "2025-04-02T14:57:54.257290Z"
    },
    "trusted": true
   },
   "outputs": [],
   "source": [
    "from transformers import Wav2Vec2CTCTokenizer\n",
    "from transformers import Wav2Vec2FeatureExtractor\n",
    "from transformers import Wav2Vec2Processor\n",
    "from tokenizers.processors import TemplateProcessing"
   ]
  },
  {
   "cell_type": "code",
   "execution_count": 35,
   "metadata": {
    "execution": {
     "iopub.execute_input": "2025-04-02T14:57:55.341425Z",
     "iopub.status.busy": "2025-04-02T14:57:55.340400Z",
     "iopub.status.idle": "2025-04-02T14:57:55.356735Z",
     "shell.execute_reply": "2025-04-02T14:57:55.355654Z",
     "shell.execute_reply.started": "2025-04-02T14:57:55.341380Z"
    },
    "trusted": true
   },
   "outputs": [
    {
     "name": "stderr",
     "output_type": "stream",
     "text": [
      "Special tokens have been added in the vocabulary, make sure the associated word embeddings are fine-tuned or trained.\n"
     ]
    }
   ],
   "source": [
    "tokenizer = Wav2Vec2CTCTokenizer.from_pretrained(\"/kaggle/working/\", unk_token=\"[UNK]\", pad_token=\"[PAD]\", word_delimiter_token=\"|\", )  # './' load vocab.json in the current directory\n",
    "feature_extractor = Wav2Vec2FeatureExtractor(feature_size=1, sampling_rate=16000, padding_value=0.0, do_normalize=True, return_attention_mask=True)  \n",
    "processor = Wav2Vec2Processor(feature_extractor=feature_extractor, tokenizer=tokenizer)"
   ]
  },
  {
   "cell_type": "code",
   "execution_count": 36,
   "metadata": {
    "execution": {
     "iopub.execute_input": "2025-04-02T14:58:00.388522Z",
     "iopub.status.busy": "2025-04-02T14:58:00.388225Z",
     "iopub.status.idle": "2025-04-02T14:58:00.395352Z",
     "shell.execute_reply": "2025-04-02T14:58:00.394232Z",
     "shell.execute_reply.started": "2025-04-02T14:58:00.388490Z"
    },
    "trusted": true
   },
   "outputs": [],
   "source": [
    "# This does not prepare the input for the Transformer model.\n",
    "# This will resample the data and convert the sentence into indices\n",
    "# Batch here is just for one entry (row)\n",
    "def prepare_dataset(batch):\n",
    "    audio = batch[\"audio\"]\n",
    "    \n",
    "    # batched output is \"un-batched\"\n",
    "    batch[\"input_values\"] = processor(audio[\"array\"], sampling_rate=audio[\"sampling_rate\"]).input_values[0]\n",
    "    batch[\"input_length\"] = len(batch[\"input_values\"])\n",
    "    \n",
    "    with processor.as_target_processor():\n",
    "        batch[\"labels\"] = processor(batch[\"phonetic\"]).input_ids\n",
    "    return batch"
   ]
  },
  {
   "cell_type": "code",
   "execution_count": null,
   "metadata": {
    "execution": {
     "iopub.execute_input": "2025-04-02T14:58:19.277817Z",
     "iopub.status.busy": "2025-04-02T14:58:19.277493Z",
     "iopub.status.idle": "2025-04-02T15:01:25.058234Z",
     "shell.execute_reply": "2025-04-02T15:01:25.057288Z",
     "shell.execute_reply.started": "2025-04-02T14:58:19.277783Z"
    },
    "trusted": true
   },
   "outputs": [
    {
     "data": {
      "application/vnd.jupyter.widget-view+json": {
       "model_id": "c3a4d7862b284c90b6b5c54a3b974115",
       "version_major": 2,
       "version_minor": 0
      },
      "text/plain": [
       "Map:   0%|          | 0/1440 [00:00<?, ? examples/s]"
      ]
     },
     "metadata": {},
     "output_type": "display_data"
    },
    {
     "data": {
      "application/vnd.jupyter.widget-view+json": {
       "model_id": "62550f60447642de85f7cc5e278d5de6",
       "version_major": 2,
       "version_minor": 0
      },
      "text/plain": [
       "Map:   0%|          | 0/240 [00:00<?, ? examples/s]"
      ]
     },
     "metadata": {},
     "output_type": "display_data"
    },
    {
     "data": {
      "application/vnd.jupyter.widget-view+json": {
       "model_id": "ed4abd0b66af499cba38d20b7b8dcb00",
       "version_major": 2,
       "version_minor": 0
      },
      "text/plain": [
       "Map:   0%|          | 0/1680 [00:00<?, ? examples/s]"
      ]
     },
     "metadata": {},
     "output_type": "display_data"
    }
   ],
   "source": [
    "# train_dataset = train_dataset.map(prepare_dataset, remove_columns=train_dataset.column_names)\n",
    "# valid_dataset = valid_dataset.map(prepare_dataset, remove_columns=valid_dataset.column_names)\n",
    "# test_dataset = test_dataset.map(prepare_dataset, remove_columns=test_dataset.column_names)\n",
    "train_dataset = train_dataset.map(prepare_dataset)\n",
    "valid_dataset = valid_dataset.map(prepare_dataset)\n",
    "test_dataset = test_dataset.map(prepare_dataset)"
   ]
  },
  {
   "cell_type": "code",
   "execution_count": 38,
   "metadata": {
    "execution": {
     "iopub.execute_input": "2025-04-02T15:01:25.061084Z",
     "iopub.status.busy": "2025-04-02T15:01:25.060800Z",
     "iopub.status.idle": "2025-04-02T15:01:25.072184Z",
     "shell.execute_reply": "2025-04-02T15:01:25.071110Z",
     "shell.execute_reply.started": "2025-04-02T15:01:25.061049Z"
    },
    "trusted": true
   },
   "outputs": [],
   "source": [
    "import torch\n",
    "\n",
    "from dataclasses import dataclass, field\n",
    "from typing import Any, Dict, List, Optional, Union\n",
    "\n",
    "@dataclass\n",
    "class DataCollatorCTCWithPadding:\n",
    "    \"\"\"\n",
    "    Data collator that will dynamically pad the inputs received.\n",
    "    Args:\n",
    "        processor (:class:`~transformers.Wav2Vec2Processor`)\n",
    "            The processor used for proccessing the data.\n",
    "        padding (:obj:`bool`, :obj:`str` or :class:`~transformers.tokenization_utils_base.PaddingStrategy`, `optional`, defaults to :obj:`True`):\n",
    "            Select a strategy to pad the returned sequences (according to the model's padding side and padding index)\n",
    "            among:\n",
    "            * :obj:`True` or :obj:`'longest'`: Pad to the longest sequence in the batch (or no padding if only a single\n",
    "              sequence if provided).\n",
    "            * :obj:`'max_length'`: Pad to a maximum length specified with the argument :obj:`max_length` or to the\n",
    "              maximum acceptable input length for the model if that argument is not provided.\n",
    "            * :obj:`False` or :obj:`'do_not_pad'` (default): No padding (i.e., can output a batch with sequences of\n",
    "              different lengths).\n",
    "    \"\"\"\n",
    "\n",
    "    processor: Wav2Vec2Processor\n",
    "    padding: Union[bool, str] = True\n",
    "\n",
    "    def __call__(self, features: List[Dict[str, Union[List[int], torch.Tensor]]]) -> Dict[str, torch.Tensor]:\n",
    "        # split inputs and labels since they have to be of different lenghts and need\n",
    "        # different padding methods\n",
    "        input_features = [{\"input_values\": feature[\"input_values\"]} for feature in features]\n",
    "        label_features = [{\"input_ids\": feature[\"labels\"]} for feature in features]\n",
    "\n",
    "        batch = self.processor.pad(\n",
    "            input_features,\n",
    "            padding=self.padding,\n",
    "            return_tensors=\"pt\",\n",
    "        )\n",
    "\n",
    "        with self.processor.as_target_processor():\n",
    "            labels_batch = self.processor.pad(\n",
    "                label_features,\n",
    "                padding=self.padding,\n",
    "                return_tensors=\"pt\",\n",
    "            )\n",
    "\n",
    "        # replace padding with -100 to ignore loss correctly\n",
    "        labels = labels_batch[\"input_ids\"].masked_fill(labels_batch.attention_mask.ne(1), -100)\n",
    "        batch[\"labels\"] = labels\n",
    "\n",
    "        return batch"
   ]
  },
  {
   "cell_type": "markdown",
   "metadata": {},
   "source": [
    "## Evaluation Metrics"
   ]
  },
  {
   "cell_type": "markdown",
   "metadata": {},
   "source": [
    "We use WER (Word Error Rate) and CER (Character Error Rate) to measure the performance of our model. After the training, we realize that WER may not be the right fit. CER fits better.\n",
    "\n",
    "Note that CER here has some errors in our use case because each ARPAbet token is represented by one to three characters. For example, a label token is \"ch\" and another is \"ae\", that's two character error right there.\n",
    "\n",
    "After the training, we will re-evaluate on test-set one more time, which we will evaluate at token level."
   ]
  },
  {
   "cell_type": "code",
   "execution_count": null,
   "metadata": {},
   "outputs": [
    {
     "data": {
      "application/vnd.jupyter.widget-view+json": {
       "model_id": "15bd8259a6474754bc01667fd16c0c5b",
       "version_major": 2,
       "version_minor": 0
      },
      "text/plain": [
       "Downloading builder script:   0%|          | 0.00/5.60k [00:00<?, ?B/s]"
      ]
     },
     "metadata": {},
     "output_type": "display_data"
    }
   ],
   "source": [
    "from evaluate import load\n",
    "\n",
    "data_collator = DataCollatorCTCWithPadding(processor=processor, padding=True)\n",
    "# wer_metric = load_metric(\"wer\")\n",
    "cer_metric = load(\"cer\")"
   ]
  },
  {
   "cell_type": "code",
   "execution_count": 40,
   "metadata": {
    "execution": {
     "iopub.execute_input": "2025-04-02T15:01:25.074126Z",
     "iopub.status.busy": "2025-04-02T15:01:25.073820Z",
     "iopub.status.idle": "2025-04-02T15:01:25.090293Z",
     "shell.execute_reply": "2025-04-02T15:01:25.089254Z",
     "shell.execute_reply.started": "2025-04-02T15:01:25.074083Z"
    },
    "trusted": true
   },
   "outputs": [],
   "source": [
    "def compute_metrics(pred):\n",
    "    pred_logits = pred.predictions\n",
    "    pred_ids = np.argmax(pred_logits, axis=-1)\n",
    "\n",
    "    pred.label_ids[pred.label_ids == -100] = tokenizer.pad_token_id\n",
    "\n",
    "    pred_str = tokenizer.batch_decode(pred_ids)\n",
    "    label_str = tokenizer.batch_decode(pred.label_ids, group_tokens=False)\n",
    "    \n",
    "    #wer = wer_metric.compute(predictions=pred_str, references=label_str)\n",
    "    cer = cer_metric.compute(predictions=pred_str, references=label_str)\n",
    "    \n",
    "    print(\"Predicted sample\", pred_str[0])\n",
    "    print(\"GT sample\", label_str[0])\n",
    "\n",
    "    return {\n",
    "        #\"wer\": wer,\n",
    "        \"cer\": cer\n",
    "    }"
   ]
  },
  {
   "cell_type": "code",
   "execution_count": null,
   "metadata": {
    "execution": {
     "iopub.execute_input": "2024-03-21T19:19:51.366793Z",
     "iopub.status.busy": "2024-03-21T19:19:51.366474Z",
     "iopub.status.idle": "2024-03-21T19:20:33.076648Z",
     "shell.execute_reply": "2024-03-21T19:20:33.075905Z",
     "shell.execute_reply.started": "2024-03-21T19:19:51.36675Z"
    },
    "trusted": true
   },
   "outputs": [
    {
     "data": {
      "application/vnd.jupyter.widget-view+json": {
       "model_id": "ea312d356b2d417cb247b82f62cc5787",
       "version_major": 2,
       "version_minor": 0
      },
      "text/plain": [
       "Downloading:   0%|          | 0.00/1.53k [00:00<?, ?B/s]"
      ]
     },
     "metadata": {},
     "output_type": "display_data"
    },
    {
     "data": {
      "application/vnd.jupyter.widget-view+json": {
       "model_id": "ff5689d14e1143edbe6ad2272f85d432",
       "version_major": 2,
       "version_minor": 0
      },
      "text/plain": [
       "Downloading:   0%|          | 0.00/1.18G [00:00<?, ?B/s]"
      ]
     },
     "metadata": {},
     "output_type": "display_data"
    },
    {
     "name": "stderr",
     "output_type": "stream",
     "text": [
      "Some weights of the model checkpoint at facebook/wav2vec2-xls-r-300m were not used when initializing Wav2Vec2ForCTC: ['quantizer.weight_proj.weight', 'quantizer.codevectors', 'project_hid.bias', 'project_q.weight', 'project_hid.weight', 'project_q.bias', 'quantizer.weight_proj.bias']\n",
      "- This IS expected if you are initializing Wav2Vec2ForCTC from the checkpoint of a model trained on another task or with another architecture (e.g. initializing a BertForSequenceClassification model from a BertForPreTraining model).\n",
      "- This IS NOT expected if you are initializing Wav2Vec2ForCTC from the checkpoint of a model that you expect to be exactly identical (initializing a BertForSequenceClassification model from a BertForSequenceClassification model).\n",
      "Some weights of Wav2Vec2ForCTC were not initialized from the model checkpoint at facebook/wav2vec2-xls-r-300m and are newly initialized: ['lm_head.weight', 'lm_head.bias']\n",
      "You should probably TRAIN this model on a down-stream task to be able to use it for predictions and inference.\n"
     ]
    }
   ],
   "source": [
    "from transformers import Wav2Vec2ForCTC\n",
    "\n",
    "model = Wav2Vec2ForCTC.from_pretrained(\n",
    "    \"facebook/wav2vec2-xls-r-300m\", \n",
    "    attention_dropout=0.1,\n",
    "    layerdrop=0.0,\n",
    "    feat_proj_dropout=0.0,\n",
    "#     mask_time_prob=0.75, \n",
    "#     mask_time_length=10,\n",
    "#     mask_feature_prob=0.25,\n",
    "#     mask_feature_length=64,\n",
    "    ctc_loss_reduction=\"mean\",\n",
    "    pad_token_id=processor.tokenizer.pad_token_id,\n",
    "    vocab_size=len(processor.tokenizer)\n",
    ")"
   ]
  },
  {
   "cell_type": "code",
   "execution_count": 42,
   "metadata": {},
   "outputs": [
    {
     "data": {
      "text/plain": [
       "Wav2Vec2ForCTC(\n",
       "  (wav2vec2): Wav2Vec2Model(\n",
       "    (feature_extractor): Wav2Vec2FeatureEncoder(\n",
       "      (conv_layers): ModuleList(\n",
       "        (0): Wav2Vec2LayerNormConvLayer(\n",
       "          (conv): Conv1d(1, 512, kernel_size=(10,), stride=(5,))\n",
       "          (layer_norm): LayerNorm((512,), eps=1e-05, elementwise_affine=True)\n",
       "          (activation): GELUActivation()\n",
       "        )\n",
       "        (1): Wav2Vec2LayerNormConvLayer(\n",
       "          (conv): Conv1d(512, 512, kernel_size=(3,), stride=(2,))\n",
       "          (layer_norm): LayerNorm((512,), eps=1e-05, elementwise_affine=True)\n",
       "          (activation): GELUActivation()\n",
       "        )\n",
       "        (2): Wav2Vec2LayerNormConvLayer(\n",
       "          (conv): Conv1d(512, 512, kernel_size=(3,), stride=(2,))\n",
       "          (layer_norm): LayerNorm((512,), eps=1e-05, elementwise_affine=True)\n",
       "          (activation): GELUActivation()\n",
       "        )\n",
       "        (3): Wav2Vec2LayerNormConvLayer(\n",
       "          (conv): Conv1d(512, 512, kernel_size=(3,), stride=(2,))\n",
       "          (layer_norm): LayerNorm((512,), eps=1e-05, elementwise_affine=True)\n",
       "          (activation): GELUActivation()\n",
       "        )\n",
       "        (4): Wav2Vec2LayerNormConvLayer(\n",
       "          (conv): Conv1d(512, 512, kernel_size=(3,), stride=(2,))\n",
       "          (layer_norm): LayerNorm((512,), eps=1e-05, elementwise_affine=True)\n",
       "          (activation): GELUActivation()\n",
       "        )\n",
       "        (5): Wav2Vec2LayerNormConvLayer(\n",
       "          (conv): Conv1d(512, 512, kernel_size=(2,), stride=(2,))\n",
       "          (layer_norm): LayerNorm((512,), eps=1e-05, elementwise_affine=True)\n",
       "          (activation): GELUActivation()\n",
       "        )\n",
       "        (6): Wav2Vec2LayerNormConvLayer(\n",
       "          (conv): Conv1d(512, 512, kernel_size=(2,), stride=(2,))\n",
       "          (layer_norm): LayerNorm((512,), eps=1e-05, elementwise_affine=True)\n",
       "          (activation): GELUActivation()\n",
       "        )\n",
       "      )\n",
       "    )\n",
       "    (feature_projection): Wav2Vec2FeatureProjection(\n",
       "      (layer_norm): LayerNorm((512,), eps=1e-05, elementwise_affine=True)\n",
       "      (projection): Linear(in_features=512, out_features=1024, bias=True)\n",
       "      (dropout): Dropout(p=0.0, inplace=False)\n",
       "    )\n",
       "    (encoder): Wav2Vec2EncoderStableLayerNorm(\n",
       "      (pos_conv_embed): Wav2Vec2PositionalConvEmbedding(\n",
       "        (conv): Conv1d(1024, 1024, kernel_size=(128,), stride=(1,), padding=(64,), groups=16)\n",
       "        (padding): Wav2Vec2SamePadLayer()\n",
       "        (activation): GELUActivation()\n",
       "      )\n",
       "      (layer_norm): LayerNorm((1024,), eps=1e-05, elementwise_affine=True)\n",
       "      (dropout): Dropout(p=0.1, inplace=False)\n",
       "      (layers): ModuleList(\n",
       "        (0): Wav2Vec2EncoderLayerStableLayerNorm(\n",
       "          (attention): Wav2Vec2Attention(\n",
       "            (k_proj): Linear(in_features=1024, out_features=1024, bias=True)\n",
       "            (v_proj): Linear(in_features=1024, out_features=1024, bias=True)\n",
       "            (q_proj): Linear(in_features=1024, out_features=1024, bias=True)\n",
       "            (out_proj): Linear(in_features=1024, out_features=1024, bias=True)\n",
       "          )\n",
       "          (dropout): Dropout(p=0.1, inplace=False)\n",
       "          (layer_norm): LayerNorm((1024,), eps=1e-05, elementwise_affine=True)\n",
       "          (feed_forward): Wav2Vec2FeedForward(\n",
       "            (intermediate_dropout): Dropout(p=0.0, inplace=False)\n",
       "            (intermediate_dense): Linear(in_features=1024, out_features=4096, bias=True)\n",
       "            (intermediate_act_fn): GELUActivation()\n",
       "            (output_dense): Linear(in_features=4096, out_features=1024, bias=True)\n",
       "            (output_dropout): Dropout(p=0.1, inplace=False)\n",
       "          )\n",
       "          (final_layer_norm): LayerNorm((1024,), eps=1e-05, elementwise_affine=True)\n",
       "        )\n",
       "        (1): Wav2Vec2EncoderLayerStableLayerNorm(\n",
       "          (attention): Wav2Vec2Attention(\n",
       "            (k_proj): Linear(in_features=1024, out_features=1024, bias=True)\n",
       "            (v_proj): Linear(in_features=1024, out_features=1024, bias=True)\n",
       "            (q_proj): Linear(in_features=1024, out_features=1024, bias=True)\n",
       "            (out_proj): Linear(in_features=1024, out_features=1024, bias=True)\n",
       "          )\n",
       "          (dropout): Dropout(p=0.1, inplace=False)\n",
       "          (layer_norm): LayerNorm((1024,), eps=1e-05, elementwise_affine=True)\n",
       "          (feed_forward): Wav2Vec2FeedForward(\n",
       "            (intermediate_dropout): Dropout(p=0.0, inplace=False)\n",
       "            (intermediate_dense): Linear(in_features=1024, out_features=4096, bias=True)\n",
       "            (intermediate_act_fn): GELUActivation()\n",
       "            (output_dense): Linear(in_features=4096, out_features=1024, bias=True)\n",
       "            (output_dropout): Dropout(p=0.1, inplace=False)\n",
       "          )\n",
       "          (final_layer_norm): LayerNorm((1024,), eps=1e-05, elementwise_affine=True)\n",
       "        )\n",
       "        (2): Wav2Vec2EncoderLayerStableLayerNorm(\n",
       "          (attention): Wav2Vec2Attention(\n",
       "            (k_proj): Linear(in_features=1024, out_features=1024, bias=True)\n",
       "            (v_proj): Linear(in_features=1024, out_features=1024, bias=True)\n",
       "            (q_proj): Linear(in_features=1024, out_features=1024, bias=True)\n",
       "            (out_proj): Linear(in_features=1024, out_features=1024, bias=True)\n",
       "          )\n",
       "          (dropout): Dropout(p=0.1, inplace=False)\n",
       "          (layer_norm): LayerNorm((1024,), eps=1e-05, elementwise_affine=True)\n",
       "          (feed_forward): Wav2Vec2FeedForward(\n",
       "            (intermediate_dropout): Dropout(p=0.0, inplace=False)\n",
       "            (intermediate_dense): Linear(in_features=1024, out_features=4096, bias=True)\n",
       "            (intermediate_act_fn): GELUActivation()\n",
       "            (output_dense): Linear(in_features=4096, out_features=1024, bias=True)\n",
       "            (output_dropout): Dropout(p=0.1, inplace=False)\n",
       "          )\n",
       "          (final_layer_norm): LayerNorm((1024,), eps=1e-05, elementwise_affine=True)\n",
       "        )\n",
       "        (3): Wav2Vec2EncoderLayerStableLayerNorm(\n",
       "          (attention): Wav2Vec2Attention(\n",
       "            (k_proj): Linear(in_features=1024, out_features=1024, bias=True)\n",
       "            (v_proj): Linear(in_features=1024, out_features=1024, bias=True)\n",
       "            (q_proj): Linear(in_features=1024, out_features=1024, bias=True)\n",
       "            (out_proj): Linear(in_features=1024, out_features=1024, bias=True)\n",
       "          )\n",
       "          (dropout): Dropout(p=0.1, inplace=False)\n",
       "          (layer_norm): LayerNorm((1024,), eps=1e-05, elementwise_affine=True)\n",
       "          (feed_forward): Wav2Vec2FeedForward(\n",
       "            (intermediate_dropout): Dropout(p=0.0, inplace=False)\n",
       "            (intermediate_dense): Linear(in_features=1024, out_features=4096, bias=True)\n",
       "            (intermediate_act_fn): GELUActivation()\n",
       "            (output_dense): Linear(in_features=4096, out_features=1024, bias=True)\n",
       "            (output_dropout): Dropout(p=0.1, inplace=False)\n",
       "          )\n",
       "          (final_layer_norm): LayerNorm((1024,), eps=1e-05, elementwise_affine=True)\n",
       "        )\n",
       "        (4): Wav2Vec2EncoderLayerStableLayerNorm(\n",
       "          (attention): Wav2Vec2Attention(\n",
       "            (k_proj): Linear(in_features=1024, out_features=1024, bias=True)\n",
       "            (v_proj): Linear(in_features=1024, out_features=1024, bias=True)\n",
       "            (q_proj): Linear(in_features=1024, out_features=1024, bias=True)\n",
       "            (out_proj): Linear(in_features=1024, out_features=1024, bias=True)\n",
       "          )\n",
       "          (dropout): Dropout(p=0.1, inplace=False)\n",
       "          (layer_norm): LayerNorm((1024,), eps=1e-05, elementwise_affine=True)\n",
       "          (feed_forward): Wav2Vec2FeedForward(\n",
       "            (intermediate_dropout): Dropout(p=0.0, inplace=False)\n",
       "            (intermediate_dense): Linear(in_features=1024, out_features=4096, bias=True)\n",
       "            (intermediate_act_fn): GELUActivation()\n",
       "            (output_dense): Linear(in_features=4096, out_features=1024, bias=True)\n",
       "            (output_dropout): Dropout(p=0.1, inplace=False)\n",
       "          )\n",
       "          (final_layer_norm): LayerNorm((1024,), eps=1e-05, elementwise_affine=True)\n",
       "        )\n",
       "        (5): Wav2Vec2EncoderLayerStableLayerNorm(\n",
       "          (attention): Wav2Vec2Attention(\n",
       "            (k_proj): Linear(in_features=1024, out_features=1024, bias=True)\n",
       "            (v_proj): Linear(in_features=1024, out_features=1024, bias=True)\n",
       "            (q_proj): Linear(in_features=1024, out_features=1024, bias=True)\n",
       "            (out_proj): Linear(in_features=1024, out_features=1024, bias=True)\n",
       "          )\n",
       "          (dropout): Dropout(p=0.1, inplace=False)\n",
       "          (layer_norm): LayerNorm((1024,), eps=1e-05, elementwise_affine=True)\n",
       "          (feed_forward): Wav2Vec2FeedForward(\n",
       "            (intermediate_dropout): Dropout(p=0.0, inplace=False)\n",
       "            (intermediate_dense): Linear(in_features=1024, out_features=4096, bias=True)\n",
       "            (intermediate_act_fn): GELUActivation()\n",
       "            (output_dense): Linear(in_features=4096, out_features=1024, bias=True)\n",
       "            (output_dropout): Dropout(p=0.1, inplace=False)\n",
       "          )\n",
       "          (final_layer_norm): LayerNorm((1024,), eps=1e-05, elementwise_affine=True)\n",
       "        )\n",
       "        (6): Wav2Vec2EncoderLayerStableLayerNorm(\n",
       "          (attention): Wav2Vec2Attention(\n",
       "            (k_proj): Linear(in_features=1024, out_features=1024, bias=True)\n",
       "            (v_proj): Linear(in_features=1024, out_features=1024, bias=True)\n",
       "            (q_proj): Linear(in_features=1024, out_features=1024, bias=True)\n",
       "            (out_proj): Linear(in_features=1024, out_features=1024, bias=True)\n",
       "          )\n",
       "          (dropout): Dropout(p=0.1, inplace=False)\n",
       "          (layer_norm): LayerNorm((1024,), eps=1e-05, elementwise_affine=True)\n",
       "          (feed_forward): Wav2Vec2FeedForward(\n",
       "            (intermediate_dropout): Dropout(p=0.0, inplace=False)\n",
       "            (intermediate_dense): Linear(in_features=1024, out_features=4096, bias=True)\n",
       "            (intermediate_act_fn): GELUActivation()\n",
       "            (output_dense): Linear(in_features=4096, out_features=1024, bias=True)\n",
       "            (output_dropout): Dropout(p=0.1, inplace=False)\n",
       "          )\n",
       "          (final_layer_norm): LayerNorm((1024,), eps=1e-05, elementwise_affine=True)\n",
       "        )\n",
       "        (7): Wav2Vec2EncoderLayerStableLayerNorm(\n",
       "          (attention): Wav2Vec2Attention(\n",
       "            (k_proj): Linear(in_features=1024, out_features=1024, bias=True)\n",
       "            (v_proj): Linear(in_features=1024, out_features=1024, bias=True)\n",
       "            (q_proj): Linear(in_features=1024, out_features=1024, bias=True)\n",
       "            (out_proj): Linear(in_features=1024, out_features=1024, bias=True)\n",
       "          )\n",
       "          (dropout): Dropout(p=0.1, inplace=False)\n",
       "          (layer_norm): LayerNorm((1024,), eps=1e-05, elementwise_affine=True)\n",
       "          (feed_forward): Wav2Vec2FeedForward(\n",
       "            (intermediate_dropout): Dropout(p=0.0, inplace=False)\n",
       "            (intermediate_dense): Linear(in_features=1024, out_features=4096, bias=True)\n",
       "            (intermediate_act_fn): GELUActivation()\n",
       "            (output_dense): Linear(in_features=4096, out_features=1024, bias=True)\n",
       "            (output_dropout): Dropout(p=0.1, inplace=False)\n",
       "          )\n",
       "          (final_layer_norm): LayerNorm((1024,), eps=1e-05, elementwise_affine=True)\n",
       "        )\n",
       "        (8): Wav2Vec2EncoderLayerStableLayerNorm(\n",
       "          (attention): Wav2Vec2Attention(\n",
       "            (k_proj): Linear(in_features=1024, out_features=1024, bias=True)\n",
       "            (v_proj): Linear(in_features=1024, out_features=1024, bias=True)\n",
       "            (q_proj): Linear(in_features=1024, out_features=1024, bias=True)\n",
       "            (out_proj): Linear(in_features=1024, out_features=1024, bias=True)\n",
       "          )\n",
       "          (dropout): Dropout(p=0.1, inplace=False)\n",
       "          (layer_norm): LayerNorm((1024,), eps=1e-05, elementwise_affine=True)\n",
       "          (feed_forward): Wav2Vec2FeedForward(\n",
       "            (intermediate_dropout): Dropout(p=0.0, inplace=False)\n",
       "            (intermediate_dense): Linear(in_features=1024, out_features=4096, bias=True)\n",
       "            (intermediate_act_fn): GELUActivation()\n",
       "            (output_dense): Linear(in_features=4096, out_features=1024, bias=True)\n",
       "            (output_dropout): Dropout(p=0.1, inplace=False)\n",
       "          )\n",
       "          (final_layer_norm): LayerNorm((1024,), eps=1e-05, elementwise_affine=True)\n",
       "        )\n",
       "        (9): Wav2Vec2EncoderLayerStableLayerNorm(\n",
       "          (attention): Wav2Vec2Attention(\n",
       "            (k_proj): Linear(in_features=1024, out_features=1024, bias=True)\n",
       "            (v_proj): Linear(in_features=1024, out_features=1024, bias=True)\n",
       "            (q_proj): Linear(in_features=1024, out_features=1024, bias=True)\n",
       "            (out_proj): Linear(in_features=1024, out_features=1024, bias=True)\n",
       "          )\n",
       "          (dropout): Dropout(p=0.1, inplace=False)\n",
       "          (layer_norm): LayerNorm((1024,), eps=1e-05, elementwise_affine=True)\n",
       "          (feed_forward): Wav2Vec2FeedForward(\n",
       "            (intermediate_dropout): Dropout(p=0.0, inplace=False)\n",
       "            (intermediate_dense): Linear(in_features=1024, out_features=4096, bias=True)\n",
       "            (intermediate_act_fn): GELUActivation()\n",
       "            (output_dense): Linear(in_features=4096, out_features=1024, bias=True)\n",
       "            (output_dropout): Dropout(p=0.1, inplace=False)\n",
       "          )\n",
       "          (final_layer_norm): LayerNorm((1024,), eps=1e-05, elementwise_affine=True)\n",
       "        )\n",
       "        (10): Wav2Vec2EncoderLayerStableLayerNorm(\n",
       "          (attention): Wav2Vec2Attention(\n",
       "            (k_proj): Linear(in_features=1024, out_features=1024, bias=True)\n",
       "            (v_proj): Linear(in_features=1024, out_features=1024, bias=True)\n",
       "            (q_proj): Linear(in_features=1024, out_features=1024, bias=True)\n",
       "            (out_proj): Linear(in_features=1024, out_features=1024, bias=True)\n",
       "          )\n",
       "          (dropout): Dropout(p=0.1, inplace=False)\n",
       "          (layer_norm): LayerNorm((1024,), eps=1e-05, elementwise_affine=True)\n",
       "          (feed_forward): Wav2Vec2FeedForward(\n",
       "            (intermediate_dropout): Dropout(p=0.0, inplace=False)\n",
       "            (intermediate_dense): Linear(in_features=1024, out_features=4096, bias=True)\n",
       "            (intermediate_act_fn): GELUActivation()\n",
       "            (output_dense): Linear(in_features=4096, out_features=1024, bias=True)\n",
       "            (output_dropout): Dropout(p=0.1, inplace=False)\n",
       "          )\n",
       "          (final_layer_norm): LayerNorm((1024,), eps=1e-05, elementwise_affine=True)\n",
       "        )\n",
       "        (11): Wav2Vec2EncoderLayerStableLayerNorm(\n",
       "          (attention): Wav2Vec2Attention(\n",
       "            (k_proj): Linear(in_features=1024, out_features=1024, bias=True)\n",
       "            (v_proj): Linear(in_features=1024, out_features=1024, bias=True)\n",
       "            (q_proj): Linear(in_features=1024, out_features=1024, bias=True)\n",
       "            (out_proj): Linear(in_features=1024, out_features=1024, bias=True)\n",
       "          )\n",
       "          (dropout): Dropout(p=0.1, inplace=False)\n",
       "          (layer_norm): LayerNorm((1024,), eps=1e-05, elementwise_affine=True)\n",
       "          (feed_forward): Wav2Vec2FeedForward(\n",
       "            (intermediate_dropout): Dropout(p=0.0, inplace=False)\n",
       "            (intermediate_dense): Linear(in_features=1024, out_features=4096, bias=True)\n",
       "            (intermediate_act_fn): GELUActivation()\n",
       "            (output_dense): Linear(in_features=4096, out_features=1024, bias=True)\n",
       "            (output_dropout): Dropout(p=0.1, inplace=False)\n",
       "          )\n",
       "          (final_layer_norm): LayerNorm((1024,), eps=1e-05, elementwise_affine=True)\n",
       "        )\n",
       "        (12): Wav2Vec2EncoderLayerStableLayerNorm(\n",
       "          (attention): Wav2Vec2Attention(\n",
       "            (k_proj): Linear(in_features=1024, out_features=1024, bias=True)\n",
       "            (v_proj): Linear(in_features=1024, out_features=1024, bias=True)\n",
       "            (q_proj): Linear(in_features=1024, out_features=1024, bias=True)\n",
       "            (out_proj): Linear(in_features=1024, out_features=1024, bias=True)\n",
       "          )\n",
       "          (dropout): Dropout(p=0.1, inplace=False)\n",
       "          (layer_norm): LayerNorm((1024,), eps=1e-05, elementwise_affine=True)\n",
       "          (feed_forward): Wav2Vec2FeedForward(\n",
       "            (intermediate_dropout): Dropout(p=0.0, inplace=False)\n",
       "            (intermediate_dense): Linear(in_features=1024, out_features=4096, bias=True)\n",
       "            (intermediate_act_fn): GELUActivation()\n",
       "            (output_dense): Linear(in_features=4096, out_features=1024, bias=True)\n",
       "            (output_dropout): Dropout(p=0.1, inplace=False)\n",
       "          )\n",
       "          (final_layer_norm): LayerNorm((1024,), eps=1e-05, elementwise_affine=True)\n",
       "        )\n",
       "        (13): Wav2Vec2EncoderLayerStableLayerNorm(\n",
       "          (attention): Wav2Vec2Attention(\n",
       "            (k_proj): Linear(in_features=1024, out_features=1024, bias=True)\n",
       "            (v_proj): Linear(in_features=1024, out_features=1024, bias=True)\n",
       "            (q_proj): Linear(in_features=1024, out_features=1024, bias=True)\n",
       "            (out_proj): Linear(in_features=1024, out_features=1024, bias=True)\n",
       "          )\n",
       "          (dropout): Dropout(p=0.1, inplace=False)\n",
       "          (layer_norm): LayerNorm((1024,), eps=1e-05, elementwise_affine=True)\n",
       "          (feed_forward): Wav2Vec2FeedForward(\n",
       "            (intermediate_dropout): Dropout(p=0.0, inplace=False)\n",
       "            (intermediate_dense): Linear(in_features=1024, out_features=4096, bias=True)\n",
       "            (intermediate_act_fn): GELUActivation()\n",
       "            (output_dense): Linear(in_features=4096, out_features=1024, bias=True)\n",
       "            (output_dropout): Dropout(p=0.1, inplace=False)\n",
       "          )\n",
       "          (final_layer_norm): LayerNorm((1024,), eps=1e-05, elementwise_affine=True)\n",
       "        )\n",
       "        (14): Wav2Vec2EncoderLayerStableLayerNorm(\n",
       "          (attention): Wav2Vec2Attention(\n",
       "            (k_proj): Linear(in_features=1024, out_features=1024, bias=True)\n",
       "            (v_proj): Linear(in_features=1024, out_features=1024, bias=True)\n",
       "            (q_proj): Linear(in_features=1024, out_features=1024, bias=True)\n",
       "            (out_proj): Linear(in_features=1024, out_features=1024, bias=True)\n",
       "          )\n",
       "          (dropout): Dropout(p=0.1, inplace=False)\n",
       "          (layer_norm): LayerNorm((1024,), eps=1e-05, elementwise_affine=True)\n",
       "          (feed_forward): Wav2Vec2FeedForward(\n",
       "            (intermediate_dropout): Dropout(p=0.0, inplace=False)\n",
       "            (intermediate_dense): Linear(in_features=1024, out_features=4096, bias=True)\n",
       "            (intermediate_act_fn): GELUActivation()\n",
       "            (output_dense): Linear(in_features=4096, out_features=1024, bias=True)\n",
       "            (output_dropout): Dropout(p=0.1, inplace=False)\n",
       "          )\n",
       "          (final_layer_norm): LayerNorm((1024,), eps=1e-05, elementwise_affine=True)\n",
       "        )\n",
       "        (15): Wav2Vec2EncoderLayerStableLayerNorm(\n",
       "          (attention): Wav2Vec2Attention(\n",
       "            (k_proj): Linear(in_features=1024, out_features=1024, bias=True)\n",
       "            (v_proj): Linear(in_features=1024, out_features=1024, bias=True)\n",
       "            (q_proj): Linear(in_features=1024, out_features=1024, bias=True)\n",
       "            (out_proj): Linear(in_features=1024, out_features=1024, bias=True)\n",
       "          )\n",
       "          (dropout): Dropout(p=0.1, inplace=False)\n",
       "          (layer_norm): LayerNorm((1024,), eps=1e-05, elementwise_affine=True)\n",
       "          (feed_forward): Wav2Vec2FeedForward(\n",
       "            (intermediate_dropout): Dropout(p=0.0, inplace=False)\n",
       "            (intermediate_dense): Linear(in_features=1024, out_features=4096, bias=True)\n",
       "            (intermediate_act_fn): GELUActivation()\n",
       "            (output_dense): Linear(in_features=4096, out_features=1024, bias=True)\n",
       "            (output_dropout): Dropout(p=0.1, inplace=False)\n",
       "          )\n",
       "          (final_layer_norm): LayerNorm((1024,), eps=1e-05, elementwise_affine=True)\n",
       "        )\n",
       "        (16): Wav2Vec2EncoderLayerStableLayerNorm(\n",
       "          (attention): Wav2Vec2Attention(\n",
       "            (k_proj): Linear(in_features=1024, out_features=1024, bias=True)\n",
       "            (v_proj): Linear(in_features=1024, out_features=1024, bias=True)\n",
       "            (q_proj): Linear(in_features=1024, out_features=1024, bias=True)\n",
       "            (out_proj): Linear(in_features=1024, out_features=1024, bias=True)\n",
       "          )\n",
       "          (dropout): Dropout(p=0.1, inplace=False)\n",
       "          (layer_norm): LayerNorm((1024,), eps=1e-05, elementwise_affine=True)\n",
       "          (feed_forward): Wav2Vec2FeedForward(\n",
       "            (intermediate_dropout): Dropout(p=0.0, inplace=False)\n",
       "            (intermediate_dense): Linear(in_features=1024, out_features=4096, bias=True)\n",
       "            (intermediate_act_fn): GELUActivation()\n",
       "            (output_dense): Linear(in_features=4096, out_features=1024, bias=True)\n",
       "            (output_dropout): Dropout(p=0.1, inplace=False)\n",
       "          )\n",
       "          (final_layer_norm): LayerNorm((1024,), eps=1e-05, elementwise_affine=True)\n",
       "        )\n",
       "        (17): Wav2Vec2EncoderLayerStableLayerNorm(\n",
       "          (attention): Wav2Vec2Attention(\n",
       "            (k_proj): Linear(in_features=1024, out_features=1024, bias=True)\n",
       "            (v_proj): Linear(in_features=1024, out_features=1024, bias=True)\n",
       "            (q_proj): Linear(in_features=1024, out_features=1024, bias=True)\n",
       "            (out_proj): Linear(in_features=1024, out_features=1024, bias=True)\n",
       "          )\n",
       "          (dropout): Dropout(p=0.1, inplace=False)\n",
       "          (layer_norm): LayerNorm((1024,), eps=1e-05, elementwise_affine=True)\n",
       "          (feed_forward): Wav2Vec2FeedForward(\n",
       "            (intermediate_dropout): Dropout(p=0.0, inplace=False)\n",
       "            (intermediate_dense): Linear(in_features=1024, out_features=4096, bias=True)\n",
       "            (intermediate_act_fn): GELUActivation()\n",
       "            (output_dense): Linear(in_features=4096, out_features=1024, bias=True)\n",
       "            (output_dropout): Dropout(p=0.1, inplace=False)\n",
       "          )\n",
       "          (final_layer_norm): LayerNorm((1024,), eps=1e-05, elementwise_affine=True)\n",
       "        )\n",
       "        (18): Wav2Vec2EncoderLayerStableLayerNorm(\n",
       "          (attention): Wav2Vec2Attention(\n",
       "            (k_proj): Linear(in_features=1024, out_features=1024, bias=True)\n",
       "            (v_proj): Linear(in_features=1024, out_features=1024, bias=True)\n",
       "            (q_proj): Linear(in_features=1024, out_features=1024, bias=True)\n",
       "            (out_proj): Linear(in_features=1024, out_features=1024, bias=True)\n",
       "          )\n",
       "          (dropout): Dropout(p=0.1, inplace=False)\n",
       "          (layer_norm): LayerNorm((1024,), eps=1e-05, elementwise_affine=True)\n",
       "          (feed_forward): Wav2Vec2FeedForward(\n",
       "            (intermediate_dropout): Dropout(p=0.0, inplace=False)\n",
       "            (intermediate_dense): Linear(in_features=1024, out_features=4096, bias=True)\n",
       "            (intermediate_act_fn): GELUActivation()\n",
       "            (output_dense): Linear(in_features=4096, out_features=1024, bias=True)\n",
       "            (output_dropout): Dropout(p=0.1, inplace=False)\n",
       "          )\n",
       "          (final_layer_norm): LayerNorm((1024,), eps=1e-05, elementwise_affine=True)\n",
       "        )\n",
       "        (19): Wav2Vec2EncoderLayerStableLayerNorm(\n",
       "          (attention): Wav2Vec2Attention(\n",
       "            (k_proj): Linear(in_features=1024, out_features=1024, bias=True)\n",
       "            (v_proj): Linear(in_features=1024, out_features=1024, bias=True)\n",
       "            (q_proj): Linear(in_features=1024, out_features=1024, bias=True)\n",
       "            (out_proj): Linear(in_features=1024, out_features=1024, bias=True)\n",
       "          )\n",
       "          (dropout): Dropout(p=0.1, inplace=False)\n",
       "          (layer_norm): LayerNorm((1024,), eps=1e-05, elementwise_affine=True)\n",
       "          (feed_forward): Wav2Vec2FeedForward(\n",
       "            (intermediate_dropout): Dropout(p=0.0, inplace=False)\n",
       "            (intermediate_dense): Linear(in_features=1024, out_features=4096, bias=True)\n",
       "            (intermediate_act_fn): GELUActivation()\n",
       "            (output_dense): Linear(in_features=4096, out_features=1024, bias=True)\n",
       "            (output_dropout): Dropout(p=0.1, inplace=False)\n",
       "          )\n",
       "          (final_layer_norm): LayerNorm((1024,), eps=1e-05, elementwise_affine=True)\n",
       "        )\n",
       "        (20): Wav2Vec2EncoderLayerStableLayerNorm(\n",
       "          (attention): Wav2Vec2Attention(\n",
       "            (k_proj): Linear(in_features=1024, out_features=1024, bias=True)\n",
       "            (v_proj): Linear(in_features=1024, out_features=1024, bias=True)\n",
       "            (q_proj): Linear(in_features=1024, out_features=1024, bias=True)\n",
       "            (out_proj): Linear(in_features=1024, out_features=1024, bias=True)\n",
       "          )\n",
       "          (dropout): Dropout(p=0.1, inplace=False)\n",
       "          (layer_norm): LayerNorm((1024,), eps=1e-05, elementwise_affine=True)\n",
       "          (feed_forward): Wav2Vec2FeedForward(\n",
       "            (intermediate_dropout): Dropout(p=0.0, inplace=False)\n",
       "            (intermediate_dense): Linear(in_features=1024, out_features=4096, bias=True)\n",
       "            (intermediate_act_fn): GELUActivation()\n",
       "            (output_dense): Linear(in_features=4096, out_features=1024, bias=True)\n",
       "            (output_dropout): Dropout(p=0.1, inplace=False)\n",
       "          )\n",
       "          (final_layer_norm): LayerNorm((1024,), eps=1e-05, elementwise_affine=True)\n",
       "        )\n",
       "        (21): Wav2Vec2EncoderLayerStableLayerNorm(\n",
       "          (attention): Wav2Vec2Attention(\n",
       "            (k_proj): Linear(in_features=1024, out_features=1024, bias=True)\n",
       "            (v_proj): Linear(in_features=1024, out_features=1024, bias=True)\n",
       "            (q_proj): Linear(in_features=1024, out_features=1024, bias=True)\n",
       "            (out_proj): Linear(in_features=1024, out_features=1024, bias=True)\n",
       "          )\n",
       "          (dropout): Dropout(p=0.1, inplace=False)\n",
       "          (layer_norm): LayerNorm((1024,), eps=1e-05, elementwise_affine=True)\n",
       "          (feed_forward): Wav2Vec2FeedForward(\n",
       "            (intermediate_dropout): Dropout(p=0.0, inplace=False)\n",
       "            (intermediate_dense): Linear(in_features=1024, out_features=4096, bias=True)\n",
       "            (intermediate_act_fn): GELUActivation()\n",
       "            (output_dense): Linear(in_features=4096, out_features=1024, bias=True)\n",
       "            (output_dropout): Dropout(p=0.1, inplace=False)\n",
       "          )\n",
       "          (final_layer_norm): LayerNorm((1024,), eps=1e-05, elementwise_affine=True)\n",
       "        )\n",
       "        (22): Wav2Vec2EncoderLayerStableLayerNorm(\n",
       "          (attention): Wav2Vec2Attention(\n",
       "            (k_proj): Linear(in_features=1024, out_features=1024, bias=True)\n",
       "            (v_proj): Linear(in_features=1024, out_features=1024, bias=True)\n",
       "            (q_proj): Linear(in_features=1024, out_features=1024, bias=True)\n",
       "            (out_proj): Linear(in_features=1024, out_features=1024, bias=True)\n",
       "          )\n",
       "          (dropout): Dropout(p=0.1, inplace=False)\n",
       "          (layer_norm): LayerNorm((1024,), eps=1e-05, elementwise_affine=True)\n",
       "          (feed_forward): Wav2Vec2FeedForward(\n",
       "            (intermediate_dropout): Dropout(p=0.0, inplace=False)\n",
       "            (intermediate_dense): Linear(in_features=1024, out_features=4096, bias=True)\n",
       "            (intermediate_act_fn): GELUActivation()\n",
       "            (output_dense): Linear(in_features=4096, out_features=1024, bias=True)\n",
       "            (output_dropout): Dropout(p=0.1, inplace=False)\n",
       "          )\n",
       "          (final_layer_norm): LayerNorm((1024,), eps=1e-05, elementwise_affine=True)\n",
       "        )\n",
       "        (23): Wav2Vec2EncoderLayerStableLayerNorm(\n",
       "          (attention): Wav2Vec2Attention(\n",
       "            (k_proj): Linear(in_features=1024, out_features=1024, bias=True)\n",
       "            (v_proj): Linear(in_features=1024, out_features=1024, bias=True)\n",
       "            (q_proj): Linear(in_features=1024, out_features=1024, bias=True)\n",
       "            (out_proj): Linear(in_features=1024, out_features=1024, bias=True)\n",
       "          )\n",
       "          (dropout): Dropout(p=0.1, inplace=False)\n",
       "          (layer_norm): LayerNorm((1024,), eps=1e-05, elementwise_affine=True)\n",
       "          (feed_forward): Wav2Vec2FeedForward(\n",
       "            (intermediate_dropout): Dropout(p=0.0, inplace=False)\n",
       "            (intermediate_dense): Linear(in_features=1024, out_features=4096, bias=True)\n",
       "            (intermediate_act_fn): GELUActivation()\n",
       "            (output_dense): Linear(in_features=4096, out_features=1024, bias=True)\n",
       "            (output_dropout): Dropout(p=0.1, inplace=False)\n",
       "          )\n",
       "          (final_layer_norm): LayerNorm((1024,), eps=1e-05, elementwise_affine=True)\n",
       "        )\n",
       "      )\n",
       "    )\n",
       "  )\n",
       "  (dropout): Dropout(p=0.0, inplace=False)\n",
       "  (lm_head): Linear(in_features=1024, out_features=44, bias=True)\n",
       ")"
      ]
     },
     "execution_count": 42,
     "metadata": {},
     "output_type": "execute_result"
    }
   ],
   "source": [
    "model"
   ]
  },
  {
   "cell_type": "code",
   "execution_count": 43,
   "metadata": {
    "execution": {
     "iopub.execute_input": "2024-03-21T19:20:33.079283Z",
     "iopub.status.busy": "2024-03-21T19:20:33.078729Z",
     "iopub.status.idle": "2024-03-21T19:20:33.088248Z",
     "shell.execute_reply": "2024-03-21T19:20:33.087251Z",
     "shell.execute_reply.started": "2024-03-21T19:20:33.079227Z"
    },
    "trusted": true
   },
   "outputs": [],
   "source": [
    "# model.freeze_feature_encoder()"
   ]
  },
  {
   "cell_type": "markdown",
   "metadata": {},
   "source": [
    "## Training"
   ]
  },
  {
   "cell_type": "code",
   "execution_count": null,
   "metadata": {
    "trusted": true
   },
   "outputs": [
    {
     "name": "stderr",
     "output_type": "stream",
     "text": [
      "\u001b[34m\u001b[1mwandb\u001b[0m: W&B API key is configured. Use \u001b[1m`wandb login --relogin`\u001b[0m to force relogin\n",
      "\u001b[34m\u001b[1mwandb\u001b[0m: \u001b[33mWARNING\u001b[0m If you're specifying your api key in code, ensure this code is not shared publicly.\n",
      "\u001b[34m\u001b[1mwandb\u001b[0m: \u001b[33mWARNING\u001b[0m Consider setting the WANDB_API_KEY environment variable, or running `wandb login` from the command line.\n",
      "\u001b[34m\u001b[1mwandb\u001b[0m: Appending key for api.wandb.ai to your netrc file: /root/.netrc\n",
      "\u001b[34m\u001b[1mwandb\u001b[0m: Currently logged in as: \u001b[33mivanbashtovyi1\u001b[0m (\u001b[33mIASA-BA-Diploma-Ivan-Bashtovyi\u001b[0m). Use \u001b[1m`wandb login --relogin`\u001b[0m to force relogin\n"
     ]
    },
    {
     "data": {
      "text/html": [
       "wandb version 0.19.9 is available!  To upgrade, please run:\n",
       " $ pip install wandb --upgrade"
      ],
      "text/plain": [
       "<IPython.core.display.HTML object>"
      ]
     },
     "metadata": {},
     "output_type": "display_data"
    },
    {
     "data": {
      "text/html": [
       "Tracking run with wandb version 0.12.16"
      ],
      "text/plain": [
       "<IPython.core.display.HTML object>"
      ]
     },
     "metadata": {},
     "output_type": "display_data"
    },
    {
     "data": {
      "text/html": [
       "Run data is saved locally in <code>/kaggle/working/wandb/run-20250403_145004-2qcpkwah</code>"
      ],
      "text/plain": [
       "<IPython.core.display.HTML object>"
      ]
     },
     "metadata": {},
     "output_type": "display_data"
    },
    {
     "data": {
      "text/html": [
       "Syncing run <strong><a href=\"https://wandb.ai/IASA-BA-Diploma-Ivan-Bashtovyi/iasa-ucu-audio-processing/runs/2qcpkwah\" target=\"_blank\">wav2vec_test</a></strong> to <a href=\"https://wandb.ai/IASA-BA-Diploma-Ivan-Bashtovyi/iasa-ucu-audio-processing\" target=\"_blank\">Weights & Biases</a> (<a href=\"https://wandb.me/run\" target=\"_blank\">docs</a>)<br/>"
      ],
      "text/plain": [
       "<IPython.core.display.HTML object>"
      ]
     },
     "metadata": {},
     "output_type": "display_data"
    },
    {
     "data": {
      "text/html": [
       "<button onClick=\"this.nextSibling.style.display='block';this.style.display='none';\">Display W&B run</button><iframe src=\"https://wandb.ai/IASA-BA-Diploma-Ivan-Bashtovyi/iasa-ucu-audio-processing/runs/2qcpkwah?jupyter=true\" style=\"border:none;width:100%;height:420px;display:none;\"></iframe>"
      ],
      "text/plain": [
       "<wandb.sdk.wandb_run.Run at 0x7e954cacf850>"
      ]
     },
     "execution_count": 44,
     "metadata": {},
     "output_type": "execute_result"
    }
   ],
   "source": [
    "import wandb\n",
    "wandb.login(key=WANDB_KEY)\n",
    "\n",
    "os.environ[\"WANDB_LOG_MODEL\"] = \"checkpoint\"\n",
    "\n",
    "# Initialize with team/entity\n",
    "wandb.init(\n",
    "    project=\"iasa-ucu-audio-processing\",\n",
    "    entity=\"BashHav\", \n",
    "    name='wav2vec_test',\n",
    "    settings=wandb.Settings(init_timeout=180) \n",
    ")"
   ]
  },
  {
   "cell_type": "code",
   "execution_count": 45,
   "metadata": {
    "execution": {
     "iopub.execute_input": "2024-03-21T19:20:55.557575Z",
     "iopub.status.busy": "2024-03-21T19:20:55.557249Z",
     "iopub.status.idle": "2024-03-21T19:20:55.57145Z",
     "shell.execute_reply": "2024-03-21T19:20:55.570427Z",
     "shell.execute_reply.started": "2024-03-21T19:20:55.557529Z"
    },
    "trusted": true
   },
   "outputs": [],
   "source": [
    "from transformers import TrainingArguments\n",
    "\n",
    "training_args = TrainingArguments(\n",
    "    output_dir='/kaggle/working/',\n",
    "    group_by_length=True,\n",
    "    per_device_train_batch_size=16,\n",
    "    gradient_accumulation_steps=1,\n",
    "    evaluation_strategy=\"steps\",\n",
    "    gradient_checkpointing=True,\n",
    "    fp16=True,\n",
    "    report_to='wandb',\n",
    "    max_steps=2000,\n",
    "    save_steps=100,\n",
    "    eval_steps=100,\n",
    "    logging_steps=20,\n",
    "    learning_rate=1e-4,\n",
    "    warmup_steps=20,\n",
    "    save_total_limit=3,\n",
    "    load_best_model_at_end=True\n",
    ")"
   ]
  },
  {
   "cell_type": "code",
   "execution_count": null,
   "metadata": {
    "execution": {
     "iopub.execute_input": "2024-03-21T19:20:56.602607Z",
     "iopub.status.busy": "2024-03-21T19:20:56.601719Z",
     "iopub.status.idle": "2024-03-21T19:20:56.620415Z",
     "shell.execute_reply": "2024-03-21T19:20:56.619362Z",
     "shell.execute_reply.started": "2024-03-21T19:20:56.602566Z"
    },
    "trusted": true
   },
   "outputs": [
    {
     "name": "stderr",
     "output_type": "stream",
     "text": [
      "max_steps is given, it will override any value given in num_train_epochs\n",
      "Using amp half precision backend\n"
     ]
    }
   ],
   "source": [
    "from transformers import Trainer\n",
    "\n",
    "trainer = Trainer(\n",
    "    model=model,\n",
    "    data_collator=data_collator,\n",
    "    args=training_args,\n",
    "    compute_metrics=compute_metrics,\n",
    "    train_dataset=train_dataset,\n",
    "    eval_dataset=valid_dataset,\n",
    "    tokenizer=processor.feature_extractor\n",
    ")"
   ]
  },
  {
   "cell_type": "code",
   "execution_count": 47,
   "metadata": {
    "execution": {
     "iopub.execute_input": "2024-03-21T19:21:06.520432Z",
     "iopub.status.busy": "2024-03-21T19:21:06.520106Z",
     "iopub.status.idle": "2024-03-21T19:31:57.82814Z",
     "shell.execute_reply": "2024-03-21T19:31:57.826777Z",
     "shell.execute_reply.started": "2024-03-21T19:21:06.520399Z"
    },
    "trusted": true
   },
   "outputs": [
    {
     "name": "stderr",
     "output_type": "stream",
     "text": [
      "The following columns in the training set  don't have a corresponding argument in `Wav2Vec2ForCTC.forward` and have been ignored: text, phonetic, audio, input_length. If text, phonetic, audio, input_length are not expected by `Wav2Vec2ForCTC.forward`,  you can safely ignore this message.\n",
      "/opt/conda/lib/python3.7/site-packages/transformers/optimization.py:309: FutureWarning: This implementation of AdamW is deprecated and will be removed in a future version. Use the PyTorch implementation torch.optim.AdamW instead, or set `no_deprecation_warning=True` to disable this warning\n",
      "  FutureWarning,\n",
      "***** Running training *****\n",
      "  Num examples = 1440\n",
      "  Num Epochs = 4\n",
      "  Instantaneous batch size per device = 16\n",
      "  Total train batch size (w. parallel, distributed & accumulation) = 16\n",
      "  Gradient Accumulation steps = 1\n",
      "  Total optimization steps = 300\n",
      "Automatic Weights & Biases logging enabled, to disable set os.environ[\"WANDB_DISABLED\"] = \"true\"\n"
     ]
    },
    {
     "data": {
      "text/html": [
       "\n",
       "    <div>\n",
       "      \n",
       "      <progress value='300' max='300' style='width:300px; height:20px; vertical-align: middle;'></progress>\n",
       "      [300/300 10:13, Epoch 3/4]\n",
       "    </div>\n",
       "    <table border=\"1\" class=\"dataframe\">\n",
       "  <thead>\n",
       " <tr style=\"text-align: left;\">\n",
       "      <th>Step</th>\n",
       "      <th>Training Loss</th>\n",
       "      <th>Validation Loss</th>\n",
       "      <th>Cer</th>\n",
       "    </tr>\n",
       "  </thead>\n",
       "  <tbody>\n",
       "    <tr>\n",
       "      <td>100</td>\n",
       "      <td>3.333300</td>\n",
       "      <td>3.306971</td>\n",
       "      <td>1.000000</td>\n",
       "    </tr>\n",
       "    <tr>\n",
       "      <td>200</td>\n",
       "      <td>3.133200</td>\n",
       "      <td>3.092473</td>\n",
       "      <td>0.729807</td>\n",
       "    </tr>\n",
       "    <tr>\n",
       "      <td>300</td>\n",
       "      <td>2.910700</td>\n",
       "      <td>2.816512</td>\n",
       "      <td>0.725933</td>\n",
       "    </tr>\n",
       "  </tbody>\n",
       "</table><p>"
      ],
      "text/plain": [
       "<IPython.core.display.HTML object>"
      ]
     },
     "metadata": {},
     "output_type": "display_data"
    },
    {
     "name": "stderr",
     "output_type": "stream",
     "text": [
      "The following columns in the evaluation set  don't have a corresponding argument in `Wav2Vec2ForCTC.forward` and have been ignored: text, phonetic, audio, input_length. If text, phonetic, audio, input_length are not expected by `Wav2Vec2ForCTC.forward`,  you can safely ignore this message.\n",
      "***** Running Evaluation *****\n",
      "  Num examples = 240\n",
      "  Batch size = 8\n"
     ]
    },
    {
     "name": "stdout",
     "output_type": "stream",
     "text": [
      "Predicted sample \n",
      "GT sample h#shiyhhaeh#jherh#daarh#k suwh#th#ihnh#g riysiywaashh#waadxerh#aal yiherh#\n"
     ]
    },
    {
     "name": "stderr",
     "output_type": "stream",
     "text": [
      "Saving model checkpoint to /kaggle/working/checkpoint-100\n",
      "Configuration saved in /kaggle/working/checkpoint-100/config.json\n",
      "Model weights saved in /kaggle/working/checkpoint-100/pytorch_model.bin\n",
      "Feature extractor saved in /kaggle/working/checkpoint-100/preprocessor_config.json\n",
      "The following columns in the evaluation set  don't have a corresponding argument in `Wav2Vec2ForCTC.forward` and have been ignored: text, phonetic, audio, input_length. If text, phonetic, audio, input_length are not expected by `Wav2Vec2ForCTC.forward`,  you can safely ignore this message.\n",
      "***** Running Evaluation *****\n",
      "  Num examples = 240\n",
      "  Batch size = 8\n"
     ]
    },
    {
     "name": "stdout",
     "output_type": "stream",
     "text": [
      "Predicted sample h#h#h#h#h#h#h#h#h#h#h#h#\n",
      "GT sample h#shiyhhaeh#jherh#daarh#k suwh#th#ihnh#g riysiywaashh#waadxerh#aal yiherh#\n"
     ]
    },
    {
     "name": "stderr",
     "output_type": "stream",
     "text": [
      "Saving model checkpoint to /kaggle/working/checkpoint-200\n",
      "Configuration saved in /kaggle/working/checkpoint-200/config.json\n",
      "Model weights saved in /kaggle/working/checkpoint-200/pytorch_model.bin\n",
      "Feature extractor saved in /kaggle/working/checkpoint-200/preprocessor_config.json\n",
      "The following columns in the evaluation set  don't have a corresponding argument in `Wav2Vec2ForCTC.forward` and have been ignored: text, phonetic, audio, input_length. If text, phonetic, audio, input_length are not expected by `Wav2Vec2ForCTC.forward`,  you can safely ignore this message.\n",
      "***** Running Evaluation *****\n",
      "  Num examples = 240\n",
      "  Batch size = 8\n"
     ]
    },
    {
     "name": "stdout",
     "output_type": "stream",
     "text": [
      "Predicted sample h#h#kh#kh#kh#kh#h#kh#h#h#h#\n",
      "GT sample h#shiyhhaeh#jherh#daarh#k suwh#th#ihnh#g riysiywaashh#waadxerh#aal yiherh#\n"
     ]
    },
    {
     "name": "stderr",
     "output_type": "stream",
     "text": [
      "Saving model checkpoint to /kaggle/working/checkpoint-300\n",
      "Configuration saved in /kaggle/working/checkpoint-300/config.json\n",
      "Model weights saved in /kaggle/working/checkpoint-300/pytorch_model.bin\n",
      "Feature extractor saved in /kaggle/working/checkpoint-300/preprocessor_config.json\n",
      "\n",
      "\n",
      "Training completed. Do not forget to share your model on huggingface.co/models =)\n",
      "\n",
      "\n",
      "Loading best model from /kaggle/working/checkpoint-300 (score: 2.8165123462677).\n"
     ]
    },
    {
     "data": {
      "text/plain": [
       "TrainOutput(global_step=300, training_loss=3.7954271697998045, metrics={'train_runtime': 623.2749, 'train_samples_per_second': 7.701, 'train_steps_per_second': 0.481, 'total_flos': 4.7240475528876096e+17, 'train_loss': 3.7954271697998045, 'epoch': 3.33})"
      ]
     },
     "execution_count": 47,
     "metadata": {},
     "output_type": "execute_result"
    }
   ],
   "source": [
    "trainer.train()"
   ]
  },
  {
   "cell_type": "markdown",
   "metadata": {},
   "source": [
    "## Evaluate on Test Set"
   ]
  },
  {
   "cell_type": "code",
   "execution_count": 48,
   "metadata": {
    "execution": {
     "iopub.execute_input": "2024-03-21T19:32:01.60285Z",
     "iopub.status.busy": "2024-03-21T19:32:01.602481Z",
     "iopub.status.idle": "2024-03-21T19:32:26.613789Z",
     "shell.execute_reply": "2024-03-21T19:32:26.61288Z",
     "shell.execute_reply.started": "2024-03-21T19:32:01.602797Z"
    },
    "trusted": true
   },
   "outputs": [
    {
     "name": "stderr",
     "output_type": "stream",
     "text": [
      "The following columns in the evaluation set  don't have a corresponding argument in `Wav2Vec2ForCTC.forward` and have been ignored: text, phonetic, audio, input_length. If text, phonetic, audio, input_length are not expected by `Wav2Vec2ForCTC.forward`,  you can safely ignore this message.\n",
      "***** Running Evaluation *****\n",
      "  Num examples = 1680\n",
      "  Batch size = 8\n"
     ]
    },
    {
     "data": {
      "text/html": [
       "\n",
       "    <div>\n",
       "      \n",
       "      <progress value='210' max='210' style='width:300px; height:20px; vertical-align: middle;'></progress>\n",
       "      [210/210 01:37]\n",
       "    </div>\n",
       "    "
      ],
      "text/plain": [
       "<IPython.core.display.HTML object>"
      ]
     },
     "metadata": {},
     "output_type": "display_data"
    },
    {
     "name": "stdout",
     "output_type": "stream",
     "text": [
      "Predicted sample h#h#kh#kh#kh#h#h#h#h#\n",
      "GT sample h#shiyhhaeh#d yerh#daarh#k suwdxihngh#g riysiywaashh#waadxerh#aal yiyerh#\n"
     ]
    },
    {
     "data": {
      "text/plain": [
       "{'eval_loss': 2.835930585861206,\n",
       " 'eval_cer': 0.7327310734775442,\n",
       " 'eval_runtime': 99.1109,\n",
       " 'eval_samples_per_second': 16.951,\n",
       " 'eval_steps_per_second': 2.119,\n",
       " 'epoch': 3.33}"
      ]
     },
     "execution_count": 48,
     "metadata": {},
     "output_type": "execute_result"
    }
   ],
   "source": [
    "trainer.evaluate(test_dataset)"
   ]
  },
  {
   "cell_type": "code",
   "execution_count": 49,
   "metadata": {
    "execution": {
     "iopub.execute_input": "2024-03-21T19:32:30.677713Z",
     "iopub.status.busy": "2024-03-21T19:32:30.677409Z",
     "iopub.status.idle": "2024-03-21T19:33:45.446454Z",
     "shell.execute_reply": "2024-03-21T19:33:45.444689Z",
     "shell.execute_reply.started": "2024-03-21T19:32:30.677678Z"
    },
    "trusted": true
   },
   "outputs": [],
   "source": [
    "# trainer.evaluate(train_dataset)"
   ]
  },
  {
   "cell_type": "markdown",
   "metadata": {},
   "source": [
    "## Save Model"
   ]
  },
  {
   "cell_type": "code",
   "execution_count": 50,
   "metadata": {},
   "outputs": [],
   "source": [
    "# save locally\n",
    "# trainer.save_model()"
   ]
  },
  {
   "cell_type": "code",
   "execution_count": 51,
   "metadata": {},
   "outputs": [],
   "source": [
    "# trainer.push_to_hub(repo_name=\"vitouphy/wav2vec2-xls-r-300m-phoneme\")"
   ]
  },
  {
   "cell_type": "code",
   "execution_count": 52,
   "metadata": {},
   "outputs": [],
   "source": [
    "# tokenizer.push_to_hub('vitouphy/xls-r-300m-km')\n",
    "# model.push_to_hub(repo_path_or_name='vitouphy/wav2vec2-xls-r-300m-phoneme')"
   ]
  },
  {
   "cell_type": "code",
   "execution_count": null,
   "metadata": {},
   "outputs": [],
   "source": []
  }
 ],
 "metadata": {
  "kaggle": {
   "accelerator": "none",
   "dataSources": [
    {
     "datasetId": 212391,
     "sourceId": 471627,
     "sourceType": "datasetVersion"
    }
   ],
   "dockerImageVersionId": 30192,
   "isGpuEnabled": false,
   "isInternetEnabled": true,
   "language": "python",
   "sourceType": "notebook"
  },
  "kernelspec": {
   "display_name": "Python 3 (ipykernel)",
   "language": "python",
   "name": "python3"
  },
  "language_info": {
   "codemirror_mode": {
    "name": "ipython",
    "version": 3
   },
   "file_extension": ".py",
   "mimetype": "text/x-python",
   "name": "python",
   "nbconvert_exporter": "python",
   "pygments_lexer": "ipython3",
   "version": "3.7.12"
  }
 },
 "nbformat": 4,
 "nbformat_minor": 4
}
