{
 "cells": [
  {
   "cell_type": "code",
   "execution_count": 5,
   "metadata": {
    "_cell_guid": "b1076dfc-b9ad-4769-8c92-a6c4dae69d19",
    "_kg_hide-output": true,
    "_uuid": "8f2839f25d086af736a60e9eeb907d3b93b6e0e5",
    "execution": {
     "iopub.execute_input": "2025-04-02T14:28:32.898416Z",
     "iopub.status.busy": "2025-04-02T14:28:32.898077Z",
     "iopub.status.idle": "2025-04-02T14:29:31.939538Z",
     "shell.execute_reply": "2025-04-02T14:29:31.938322Z",
     "shell.execute_reply.started": "2025-04-02T14:28:32.898370Z"
    },
    "trusted": true
   },
   "outputs": [
    {
     "name": "stdout",
     "output_type": "stream",
     "text": [
      "Requirement already satisfied: datasets in /opt/conda/lib/python3.7/site-packages (2.13.2)\n",
      "Requirement already satisfied: aiohttp in /opt/conda/lib/python3.7/site-packages (from datasets) (3.8.1)\n",
      "Requirement already satisfied: requests>=2.19.0 in /opt/conda/lib/python3.7/site-packages (from datasets) (2.27.1)\n",
      "Requirement already satisfied: pyarrow>=8.0.0 in /opt/conda/lib/python3.7/site-packages (from datasets) (12.0.1)\n",
      "Requirement already satisfied: multiprocess in /opt/conda/lib/python3.7/site-packages (from datasets) (0.70.12.2)\n",
      "Requirement already satisfied: dill<0.3.7,>=0.3.0 in /opt/conda/lib/python3.7/site-packages (from datasets) (0.3.4)\n",
      "Requirement already satisfied: tqdm>=4.62.1 in /opt/conda/lib/python3.7/site-packages (from datasets) (4.63.0)\n",
      "Requirement already satisfied: importlib-metadata in /opt/conda/lib/python3.7/site-packages (from datasets) (4.11.3)\n",
      "Requirement already satisfied: fsspec[http]>=2021.11.1 in /opt/conda/lib/python3.7/site-packages (from datasets) (2022.3.0)\n",
      "Requirement already satisfied: pandas in /opt/conda/lib/python3.7/site-packages (from datasets) (1.3.5)\n",
      "Requirement already satisfied: packaging in /opt/conda/lib/python3.7/site-packages (from datasets) (21.3)\n",
      "Requirement already satisfied: pyyaml>=5.1 in /opt/conda/lib/python3.7/site-packages (from datasets) (6.0)\n",
      "Requirement already satisfied: huggingface-hub<1.0.0,>=0.11.0 in /opt/conda/lib/python3.7/site-packages (from datasets) (0.16.4)\n",
      "Requirement already satisfied: xxhash in /opt/conda/lib/python3.7/site-packages (from datasets) (3.0.0)\n",
      "Requirement already satisfied: numpy>=1.17 in /opt/conda/lib/python3.7/site-packages (from datasets) (1.21.6)\n",
      "Requirement already satisfied: typing-extensions>=3.7.4.3 in /opt/conda/lib/python3.7/site-packages (from huggingface-hub<1.0.0,>=0.11.0->datasets) (4.2.0)\n",
      "Requirement already satisfied: filelock in /opt/conda/lib/python3.7/site-packages (from huggingface-hub<1.0.0,>=0.11.0->datasets) (3.6.0)\n",
      "Requirement already satisfied: pyparsing!=3.0.5,>=2.0.2 in /opt/conda/lib/python3.7/site-packages (from packaging->datasets) (3.0.7)\n",
      "Requirement already satisfied: charset-normalizer~=2.0.0 in /opt/conda/lib/python3.7/site-packages (from requests>=2.19.0->datasets) (2.0.12)\n",
      "Requirement already satisfied: certifi>=2017.4.17 in /opt/conda/lib/python3.7/site-packages (from requests>=2.19.0->datasets) (2021.10.8)\n",
      "Requirement already satisfied: urllib3<1.27,>=1.21.1 in /opt/conda/lib/python3.7/site-packages (from requests>=2.19.0->datasets) (1.26.8)\n",
      "Requirement already satisfied: idna<4,>=2.5 in /opt/conda/lib/python3.7/site-packages (from requests>=2.19.0->datasets) (3.3)\n",
      "Requirement already satisfied: attrs>=17.3.0 in /opt/conda/lib/python3.7/site-packages (from aiohttp->datasets) (21.4.0)\n",
      "Requirement already satisfied: aiosignal>=1.1.2 in /opt/conda/lib/python3.7/site-packages (from aiohttp->datasets) (1.2.0)\n",
      "Requirement already satisfied: multidict<7.0,>=4.5 in /opt/conda/lib/python3.7/site-packages (from aiohttp->datasets) (6.0.2)\n",
      "Requirement already satisfied: yarl<2.0,>=1.0 in /opt/conda/lib/python3.7/site-packages (from aiohttp->datasets) (1.7.2)\n",
      "Requirement already satisfied: async-timeout<5.0,>=4.0.0a3 in /opt/conda/lib/python3.7/site-packages (from aiohttp->datasets) (4.0.2)\n",
      "Requirement already satisfied: frozenlist>=1.1.1 in /opt/conda/lib/python3.7/site-packages (from aiohttp->datasets) (1.3.0)\n",
      "Requirement already satisfied: asynctest==0.13.0 in /opt/conda/lib/python3.7/site-packages (from aiohttp->datasets) (0.13.0)\n",
      "Requirement already satisfied: zipp>=0.5 in /opt/conda/lib/python3.7/site-packages (from importlib-metadata->datasets) (3.7.0)\n",
      "Requirement already satisfied: python-dateutil>=2.7.3 in /opt/conda/lib/python3.7/site-packages (from pandas->datasets) (2.8.2)\n",
      "Requirement already satisfied: pytz>=2017.3 in /opt/conda/lib/python3.7/site-packages (from pandas->datasets) (2021.3)\n",
      "Requirement already satisfied: six>=1.5 in /opt/conda/lib/python3.7/site-packages (from python-dateutil>=2.7.3->pandas->datasets) (1.16.0)\n",
      "\u001b[33mWARNING: Running pip as the 'root' user can result in broken permissions and conflicting behaviour with the system package manager. It is recommended to use a virtual environment instead: https://pip.pypa.io/warnings/venv\u001b[0m\u001b[33m\n",
      "\u001b[0mRequirement already satisfied: transformers in /opt/conda/lib/python3.7/site-packages (4.18.0)\n",
      "Collecting transformers\n",
      "  Using cached transformers-4.30.2-py3-none-any.whl (7.2 MB)\n",
      "Requirement already satisfied: huggingface-hub<1.0,>=0.14.1 in /opt/conda/lib/python3.7/site-packages (from transformers) (0.16.4)\n",
      "Requirement already satisfied: numpy>=1.17 in /opt/conda/lib/python3.7/site-packages (from transformers) (1.21.6)\n",
      "Requirement already satisfied: tokenizers!=0.11.3,<0.14,>=0.11.1 in /opt/conda/lib/python3.7/site-packages (from transformers) (0.12.1)\n",
      "Requirement already satisfied: packaging>=20.0 in /opt/conda/lib/python3.7/site-packages (from transformers) (21.3)\n",
      "Requirement already satisfied: tqdm>=4.27 in /opt/conda/lib/python3.7/site-packages (from transformers) (4.63.0)\n",
      "Requirement already satisfied: filelock in /opt/conda/lib/python3.7/site-packages (from transformers) (3.6.0)\n",
      "Requirement already satisfied: requests in /opt/conda/lib/python3.7/site-packages (from transformers) (2.27.1)\n",
      "Collecting safetensors>=0.3.1\n",
      "  Using cached safetensors-0.5.3.tar.gz (67 kB)\n",
      "  Installing build dependencies ... \u001b[?25ldone\n",
      "\u001b[?25h  Getting requirements to build wheel ... \u001b[?25ldone\n",
      "\u001b[?25h  Preparing metadata (pyproject.toml) ... \u001b[?25lerror\n",
      "  \u001b[1;31merror\u001b[0m: \u001b[1msubprocess-exited-with-error\u001b[0m\n",
      "  \n",
      "  \u001b[31m×\u001b[0m \u001b[32mPreparing metadata \u001b[0m\u001b[1;32m(\u001b[0m\u001b[32mpyproject.toml\u001b[0m\u001b[1;32m)\u001b[0m did not run successfully.\n",
      "  \u001b[31m│\u001b[0m exit code: \u001b[1;36m1\u001b[0m\n",
      "  \u001b[31m╰─>\u001b[0m \u001b[31m[6 lines of output]\u001b[0m\n",
      "  \u001b[31m   \u001b[0m Checking for Rust toolchain....\n",
      "  \u001b[31m   \u001b[0m \n",
      "  \u001b[31m   \u001b[0m Cargo, the Rust package manager, is not installed or is not on PATH.\n",
      "  \u001b[31m   \u001b[0m This package requires Rust and Cargo to compile extensions. Install it through\n",
      "  \u001b[31m   \u001b[0m the system's package manager or via https://rustup.rs/\n",
      "  \u001b[31m   \u001b[0m \n",
      "  \u001b[31m   \u001b[0m \u001b[31m[end of output]\u001b[0m\n",
      "  \n",
      "  \u001b[1;35mnote\u001b[0m: This error originates from a subprocess, and is likely not a problem with pip.\n",
      "\u001b[?25h\u001b[1;31merror\u001b[0m: \u001b[1mmetadata-generation-failed\u001b[0m\n",
      "\n",
      "\u001b[31m×\u001b[0m Encountered error while generating package metadata.\n",
      "\u001b[31m╰─>\u001b[0m See above for output.\n",
      "\n",
      "\u001b[1;35mnote\u001b[0m: This is an issue with the package mentioned above, not pip.\n",
      "\u001b[1;36mhint\u001b[0m: See above for details.\n",
      "\u001b[31mERROR: Invalid requirement: '-'\u001b[0m\u001b[31m\n",
      "\u001b[0mRequirement already satisfied: librosa in /opt/conda/lib/python3.7/site-packages (0.10.2.post1)\n",
      "Requirement already satisfied: numba>=0.51.0 in /opt/conda/lib/python3.7/site-packages (from librosa) (0.55.1)\n",
      "Requirement already satisfied: joblib>=0.14 in /opt/conda/lib/python3.7/site-packages (from librosa) (1.0.1)\n",
      "Requirement already satisfied: scikit-learn>=0.20.0 in /opt/conda/lib/python3.7/site-packages (from librosa) (1.0.2)\n",
      "Requirement already satisfied: numpy!=1.22.0,!=1.22.1,!=1.22.2,>=1.20.3 in /opt/conda/lib/python3.7/site-packages (from librosa) (1.21.6)\n",
      "Requirement already satisfied: scipy>=1.2.0 in /opt/conda/lib/python3.7/site-packages (from librosa) (1.7.3)\n",
      "Requirement already satisfied: typing-extensions>=4.1.1 in /opt/conda/lib/python3.7/site-packages (from librosa) (4.2.0)\n",
      "Requirement already satisfied: decorator>=4.3.0 in /opt/conda/lib/python3.7/site-packages (from librosa) (5.1.1)\n",
      "Requirement already satisfied: lazy-loader>=0.1 in /opt/conda/lib/python3.7/site-packages (from librosa) (0.4)\n",
      "Requirement already satisfied: msgpack>=1.0 in /opt/conda/lib/python3.7/site-packages (from librosa) (1.0.3)\n",
      "Requirement already satisfied: soundfile>=0.12.1 in /opt/conda/lib/python3.7/site-packages (from librosa) (0.13.1)\n",
      "Requirement already satisfied: soxr>=0.3.2 in /opt/conda/lib/python3.7/site-packages (from librosa) (0.3.7)\n",
      "Requirement already satisfied: pooch>=1.1 in /opt/conda/lib/python3.7/site-packages (from librosa) (1.6.0)\n",
      "Requirement already satisfied: audioread>=2.1.9 in /opt/conda/lib/python3.7/site-packages (from librosa) (2.1.9)\n",
      "Requirement already satisfied: packaging in /opt/conda/lib/python3.7/site-packages (from lazy-loader>=0.1->librosa) (21.3)\n",
      "Requirement already satisfied: importlib-metadata in /opt/conda/lib/python3.7/site-packages (from lazy-loader>=0.1->librosa) (4.11.3)\n",
      "Requirement already satisfied: llvmlite<0.39,>=0.38.0rc1 in /opt/conda/lib/python3.7/site-packages (from numba>=0.51.0->librosa) (0.38.0)\n",
      "Requirement already satisfied: setuptools in /opt/conda/lib/python3.7/site-packages (from numba>=0.51.0->librosa) (59.8.0)\n",
      "Requirement already satisfied: appdirs>=1.3.0 in /opt/conda/lib/python3.7/site-packages (from pooch>=1.1->librosa) (1.4.4)\n",
      "Requirement already satisfied: requests>=2.19.0 in /opt/conda/lib/python3.7/site-packages (from pooch>=1.1->librosa) (2.27.1)\n",
      "Requirement already satisfied: threadpoolctl>=2.0.0 in /opt/conda/lib/python3.7/site-packages (from scikit-learn>=0.20.0->librosa) (3.1.0)\n",
      "Requirement already satisfied: cffi>=1.0 in /opt/conda/lib/python3.7/site-packages (from soundfile>=0.12.1->librosa) (1.15.0)\n",
      "Requirement already satisfied: pycparser in /opt/conda/lib/python3.7/site-packages (from cffi>=1.0->soundfile>=0.12.1->librosa) (2.21)\n",
      "Requirement already satisfied: pyparsing!=3.0.5,>=2.0.2 in /opt/conda/lib/python3.7/site-packages (from packaging->lazy-loader>=0.1->librosa) (3.0.7)\n",
      "Requirement already satisfied: charset-normalizer~=2.0.0 in /opt/conda/lib/python3.7/site-packages (from requests>=2.19.0->pooch>=1.1->librosa) (2.0.12)\n",
      "Requirement already satisfied: certifi>=2017.4.17 in /opt/conda/lib/python3.7/site-packages (from requests>=2.19.0->pooch>=1.1->librosa) (2021.10.8)\n",
      "Requirement already satisfied: idna<4,>=2.5 in /opt/conda/lib/python3.7/site-packages (from requests>=2.19.0->pooch>=1.1->librosa) (3.3)\n",
      "Requirement already satisfied: urllib3<1.27,>=1.21.1 in /opt/conda/lib/python3.7/site-packages (from requests>=2.19.0->pooch>=1.1->librosa) (1.26.8)\n",
      "Requirement already satisfied: zipp>=0.5 in /opt/conda/lib/python3.7/site-packages (from importlib-metadata->lazy-loader>=0.1->librosa) (3.7.0)\n",
      "\u001b[33mWARNING: Running pip as the 'root' user can result in broken permissions and conflicting behaviour with the system package manager. It is recommended to use a virtual environment instead: https://pip.pypa.io/warnings/venv\u001b[0m\u001b[33m\n",
      "\u001b[0mRequirement already satisfied: seaborn in /opt/conda/lib/python3.7/site-packages (0.12.2)\n",
      "Requirement already satisfied: numpy!=1.24.0,>=1.17 in /opt/conda/lib/python3.7/site-packages (from seaborn) (1.21.6)\n",
      "Requirement already satisfied: matplotlib!=3.6.1,>=3.1 in /opt/conda/lib/python3.7/site-packages (from seaborn) (3.5.2)\n",
      "Requirement already satisfied: pandas>=0.25 in /opt/conda/lib/python3.7/site-packages (from seaborn) (1.3.5)\n",
      "Requirement already satisfied: typing_extensions in /opt/conda/lib/python3.7/site-packages (from seaborn) (4.2.0)\n",
      "Requirement already satisfied: pillow>=6.2.0 in /opt/conda/lib/python3.7/site-packages (from matplotlib!=3.6.1,>=3.1->seaborn) (9.0.1)\n",
      "Requirement already satisfied: python-dateutil>=2.7 in /opt/conda/lib/python3.7/site-packages (from matplotlib!=3.6.1,>=3.1->seaborn) (2.8.2)\n",
      "Requirement already satisfied: fonttools>=4.22.0 in /opt/conda/lib/python3.7/site-packages (from matplotlib!=3.6.1,>=3.1->seaborn) (4.30.0)\n",
      "Requirement already satisfied: pyparsing>=2.2.1 in /opt/conda/lib/python3.7/site-packages (from matplotlib!=3.6.1,>=3.1->seaborn) (3.0.7)\n",
      "Requirement already satisfied: packaging>=20.0 in /opt/conda/lib/python3.7/site-packages (from matplotlib!=3.6.1,>=3.1->seaborn) (21.3)\n",
      "Requirement already satisfied: cycler>=0.10 in /opt/conda/lib/python3.7/site-packages (from matplotlib!=3.6.1,>=3.1->seaborn) (0.11.0)\n",
      "Requirement already satisfied: kiwisolver>=1.0.1 in /opt/conda/lib/python3.7/site-packages (from matplotlib!=3.6.1,>=3.1->seaborn) (1.4.0)\n",
      "Requirement already satisfied: pytz>=2017.3 in /opt/conda/lib/python3.7/site-packages (from pandas>=0.25->seaborn) (2021.3)\n",
      "Requirement already satisfied: six>=1.5 in /opt/conda/lib/python3.7/site-packages (from python-dateutil>=2.7->matplotlib!=3.6.1,>=3.1->seaborn) (1.16.0)\n",
      "\u001b[33mWARNING: Running pip as the 'root' user can result in broken permissions and conflicting behaviour with the system package manager. It is recommended to use a virtual environment instead: https://pip.pypa.io/warnings/venv\u001b[0m\u001b[33m\n",
      "\u001b[0m"
     ]
    }
   ],
   "source": [
    "!pip install -U datasets #>=1.18.3\n",
    "!pip install -U transformers #==4.17.0\n",
    "!pip install -U evaluate\n",
    "!pip install -U librosa\n",
    "!pip install -U seaborn\n",
    "# !pip install -U jiwer"
   ]
  },
  {
   "cell_type": "code",
   "execution_count": 6,
   "metadata": {},
   "outputs": [],
   "source": [
    "from kaggle_secrets import UserSecretsClient\n",
    "user_secrets = UserSecretsClient()\n",
    "\n",
    "WANDB_KEY = user_secrets.get_secret(\"wandb_key\")"
   ]
  },
  {
   "cell_type": "code",
   "execution_count": 7,
   "metadata": {
    "execution": {
     "iopub.execute_input": "2024-03-21T19:10:46.117875Z",
     "iopub.status.busy": "2024-03-21T19:10:46.117598Z",
     "iopub.status.idle": "2024-03-21T19:10:46.122644Z",
     "shell.execute_reply": "2024-03-21T19:10:46.121683Z",
     "shell.execute_reply.started": "2024-03-21T19:10:46.117841Z"
    },
    "trusted": true
   },
   "outputs": [],
   "source": [
    "# from huggingface_hub import notebook_login\n",
    "# notebook_login()"
   ]
  },
  {
   "cell_type": "markdown",
   "metadata": {},
   "source": [
    "# Dataset"
   ]
  },
  {
   "cell_type": "code",
   "execution_count": 8,
   "metadata": {
    "execution": {
     "iopub.execute_input": "2025-04-02T15:06:30.332154Z",
     "iopub.status.busy": "2025-04-02T15:06:30.331782Z",
     "iopub.status.idle": "2025-04-02T15:06:30.338231Z",
     "shell.execute_reply": "2025-04-02T15:06:30.337183Z",
     "shell.execute_reply.started": "2025-04-02T15:06:30.332116Z"
    },
    "trusted": true
   },
   "outputs": [],
   "source": [
    "import json\n",
    "from datasets import Dataset, DatasetDict, Audio, load_dataset\n",
    "from tqdm.auto import tqdm\n",
    "import random\n",
    "\n",
    "import os\n",
    "import numpy as np\n",
    "import pandas as pd\n",
    "import torchaudio"
   ]
  },
  {
   "cell_type": "markdown",
   "metadata": {},
   "source": [
    "## Let's load dataset"
   ]
  },
  {
   "cell_type": "code",
   "execution_count": 9,
   "metadata": {},
   "outputs": [],
   "source": [
    "DATA_PATH = '/kaggle/input/darpa-timit-acousticphonetic-continuous-speech/data/'\n",
    "DATA_SPLIT = '/kaggle/input/d/ivanbashtovyi/timit-data-split/TIMIT_DATA_SPLIT.json'"
   ]
  },
  {
   "cell_type": "code",
   "execution_count": 10,
   "metadata": {},
   "outputs": [
    {
     "data": {
      "text/plain": [
       "dict_keys(['train', 'valid', 'test'])"
      ]
     },
     "execution_count": 10,
     "metadata": {},
     "output_type": "execute_result"
    }
   ],
   "source": [
    "with open(DATA_SPLIT, \"r\") as f:\n",
    "    dataset = json.load(f)\n",
    "\n",
    "dataset.keys()"
   ]
  },
  {
   "cell_type": "markdown",
   "metadata": {},
   "source": [
    "### How many hours are in each set?\n",
    "At least this helps us understand how big/small our dataset is."
   ]
  },
  {
   "cell_type": "code",
   "execution_count": 11,
   "metadata": {
    "execution": {
     "iopub.execute_input": "2025-04-02T14:55:07.100239Z",
     "iopub.status.busy": "2025-04-02T14:55:07.099847Z",
     "iopub.status.idle": "2025-04-02T14:55:07.107981Z",
     "shell.execute_reply": "2025-04-02T14:55:07.106848Z",
     "shell.execute_reply.started": "2025-04-02T14:55:07.100197Z"
    },
    "trusted": true
   },
   "outputs": [],
   "source": [
    "# import librosa\n",
    "\n",
    "# def get_durations(dict_data):\n",
    "#     total_durations = 0\n",
    "\n",
    "#     for entry in dict_data.values():\n",
    "#         audio_data, _ = librosa.load(entry['audio_file'], sr=16_000)\n",
    "#         duration = len(audio_data) / 16_000\n",
    "#         total_durations += duration\n",
    "\n",
    "#     return int(total_durations)"
   ]
  },
  {
   "cell_type": "code",
   "execution_count": 12,
   "metadata": {
    "execution": {
     "iopub.execute_input": "2025-04-02T14:55:07.287347Z",
     "iopub.status.busy": "2025-04-02T14:55:07.286996Z",
     "iopub.status.idle": "2025-04-02T14:55:11.772889Z",
     "shell.execute_reply": "2025-04-02T14:55:11.771657Z",
     "shell.execute_reply.started": "2025-04-02T14:55:07.287310Z"
    },
    "trusted": true
   },
   "outputs": [],
   "source": [
    "# print(f\"Duration of Train: {get_durations(dataset['train']) // 60} mns\")\n",
    "# print(f\"Duration of Valid: {get_durations(dataset['valid']) // 60} mns\")\n",
    "# print(f\"Duration of Test : {get_durations(dataset['test']) // 60} mns\")"
   ]
  },
  {
   "cell_type": "markdown",
   "metadata": {},
   "source": [
    "# Preprocessing"
   ]
  },
  {
   "cell_type": "markdown",
   "metadata": {},
   "source": [
    "## Process into HuggingFace Dataset Format"
   ]
  },
  {
   "cell_type": "code",
   "execution_count": 13,
   "metadata": {
    "execution": {
     "iopub.execute_input": "2025-04-02T14:55:11.818304Z",
     "iopub.status.busy": "2025-04-02T14:55:11.818027Z",
     "iopub.status.idle": "2025-04-02T14:55:11.825309Z",
     "shell.execute_reply": "2025-04-02T14:55:11.823975Z",
     "shell.execute_reply.started": "2025-04-02T14:55:11.818264Z"
    },
    "trusted": true
   },
   "outputs": [],
   "source": [
    "def convert_to_feature_dict(data_dict):\n",
    "    # convert each feature into an array instead\n",
    "    audio_files = []\n",
    "    word_files = []\n",
    "    phonetic_files = []\n",
    "    for key, value in data_dict.items():\n",
    "        audio_files.append(value['audio_file'])\n",
    "        word_files.append(value['word_file'])\n",
    "        phonetic_files.append(value['phonetic_file'])\n",
    "    \n",
    "    return {\n",
    "        'audio_file': audio_files,\n",
    "        'word_file': word_files,\n",
    "        'phonetic_file': phonetic_files\n",
    "    }"
   ]
  },
  {
   "cell_type": "code",
   "execution_count": 14,
   "metadata": {
    "execution": {
     "iopub.execute_input": "2025-04-02T14:55:11.827830Z",
     "iopub.status.busy": "2025-04-02T14:55:11.827530Z",
     "iopub.status.idle": "2025-04-02T14:55:11.847351Z",
     "shell.execute_reply": "2025-04-02T14:55:11.846067Z",
     "shell.execute_reply.started": "2025-04-02T14:55:11.827798Z"
    },
    "trusted": true
   },
   "outputs": [],
   "source": [
    "train = convert_to_feature_dict(dataset['train'])\n",
    "valid = convert_to_feature_dict(dataset['valid'])\n",
    "test  = convert_to_feature_dict(dataset['test'])"
   ]
  },
  {
   "cell_type": "code",
   "execution_count": 15,
   "metadata": {
    "execution": {
     "iopub.execute_input": "2025-04-02T14:55:11.849696Z",
     "iopub.status.busy": "2025-04-02T14:55:11.849297Z",
     "iopub.status.idle": "2025-04-02T14:55:11.880248Z",
     "shell.execute_reply": "2025-04-02T14:55:11.878901Z",
     "shell.execute_reply.started": "2025-04-02T14:55:11.849647Z"
    },
    "trusted": true
   },
   "outputs": [],
   "source": [
    "train_dataset = Dataset.from_dict(train)\n",
    "valid_dataset = Dataset.from_dict(valid)\n",
    "test_dataset = Dataset.from_dict(test)"
   ]
  },
  {
   "cell_type": "code",
   "execution_count": 16,
   "metadata": {
    "execution": {
     "iopub.execute_input": "2025-04-02T14:55:11.882401Z",
     "iopub.status.busy": "2025-04-02T14:55:11.882148Z",
     "iopub.status.idle": "2025-04-02T14:55:11.888133Z",
     "shell.execute_reply": "2025-04-02T14:55:11.886942Z",
     "shell.execute_reply.started": "2025-04-02T14:55:11.882367Z"
    },
    "trusted": true
   },
   "outputs": [
    {
     "name": "stdout",
     "output_type": "stream",
     "text": [
      "Dataset({\n",
      "    features: ['audio_file', 'word_file', 'phonetic_file'],\n",
      "    num_rows: 1440\n",
      "})\n"
     ]
    }
   ],
   "source": [
    "print(train_dataset)"
   ]
  },
  {
   "cell_type": "markdown",
   "metadata": {},
   "source": [
    "## Read files for phonetics"
   ]
  },
  {
   "cell_type": "code",
   "execution_count": 17,
   "metadata": {
    "execution": {
     "iopub.execute_input": "2025-04-02T14:55:11.891668Z",
     "iopub.status.busy": "2025-04-02T14:55:11.891279Z",
     "iopub.status.idle": "2025-04-02T14:55:11.900776Z",
     "shell.execute_reply": "2025-04-02T14:55:11.899628Z",
     "shell.execute_reply.started": "2025-04-02T14:55:11.891613Z"
    },
    "trusted": true
   },
   "outputs": [],
   "source": [
    "def read_text_file(filepath):\n",
    "    with open(filepath) as f:\n",
    "        tokens = [line.split()[-1] for line in f]\n",
    "        return \" \".join(tokens)\n",
    "    \n",
    "def prepare_text_data(item):\n",
    "    item['text'] = read_text_file(item['word_file'])\n",
    "    item['phonetic'] = read_text_file(item['phonetic_file'])\n",
    "    return item"
   ]
  },
  {
   "cell_type": "code",
   "execution_count": 18,
   "metadata": {
    "execution": {
     "iopub.execute_input": "2025-04-02T14:55:12.012222Z",
     "iopub.status.busy": "2025-04-02T14:55:12.011906Z",
     "iopub.status.idle": "2025-04-02T14:55:16.926666Z",
     "shell.execute_reply": "2025-04-02T14:55:16.925740Z",
     "shell.execute_reply.started": "2025-04-02T14:55:12.012190Z"
    },
    "trusted": true
   },
   "outputs": [
    {
     "data": {
      "application/vnd.jupyter.widget-view+json": {
       "model_id": "4630067b8adf40aca14dc8c2d1debbd7",
       "version_major": 2,
       "version_minor": 0
      },
      "text/plain": [
       "Map:   0%|          | 0/1440 [00:00<?, ? examples/s]"
      ]
     },
     "metadata": {},
     "output_type": "display_data"
    },
    {
     "data": {
      "application/vnd.jupyter.widget-view+json": {
       "model_id": "03f4b59b9266478e839f1c32ff6baaf4",
       "version_major": 2,
       "version_minor": 0
      },
      "text/plain": [
       "Map:   0%|          | 0/240 [00:00<?, ? examples/s]"
      ]
     },
     "metadata": {},
     "output_type": "display_data"
    },
    {
     "data": {
      "application/vnd.jupyter.widget-view+json": {
       "model_id": "7f6f502bc1b64ba19ba72470b2c30f17",
       "version_major": 2,
       "version_minor": 0
      },
      "text/plain": [
       "Map:   0%|          | 0/1680 [00:00<?, ? examples/s]"
      ]
     },
     "metadata": {},
     "output_type": "display_data"
    }
   ],
   "source": [
    "train_dataset = (train_dataset\n",
    "                 .map(prepare_text_data)\n",
    "                 .remove_columns([\"word_file\", \"phonetic_file\"]))\n",
    "valid_dataset = (valid_dataset\n",
    "                 .map(prepare_text_data)\n",
    "                 .remove_columns([\"word_file\", \"phonetic_file\"]))\n",
    "test_dataset  = (test_dataset\n",
    "                 .map(prepare_text_data)\n",
    "                 .remove_columns([\"word_file\", \"phonetic_file\"]))"
   ]
  },
  {
   "cell_type": "markdown",
   "metadata": {},
   "source": [
    "## Normalize the Phonetics"
   ]
  },
  {
   "cell_type": "markdown",
   "metadata": {},
   "source": [
    "As we can see the result below, there are *61* phones. However, we don't need to use all of them. \"tcl\", for example, is just a pause where there is a \"t\". So, let's keep it up and simplify them a bit."
   ]
  },
  {
   "cell_type": "code",
   "execution_count": 19,
   "metadata": {
    "execution": {
     "iopub.execute_input": "2025-04-02T14:55:16.928609Z",
     "iopub.status.busy": "2025-04-02T14:55:16.928339Z",
     "iopub.status.idle": "2025-04-02T14:55:16.935141Z",
     "shell.execute_reply": "2025-04-02T14:55:16.934137Z",
     "shell.execute_reply.started": "2025-04-02T14:55:16.928577Z"
    },
    "trusted": true
   },
   "outputs": [
    {
     "data": {
      "text/plain": [
       "Dataset({\n",
       "    features: ['audio_file', 'text', 'phonetic'],\n",
       "    num_rows: 1440\n",
       "})"
      ]
     },
     "execution_count": 19,
     "metadata": {},
     "output_type": "execute_result"
    }
   ],
   "source": [
    "train_dataset"
   ]
  },
  {
   "cell_type": "code",
   "execution_count": 20,
   "metadata": {
    "execution": {
     "iopub.execute_input": "2025-04-02T14:55:16.936852Z",
     "iopub.status.busy": "2025-04-02T14:55:16.936510Z",
     "iopub.status.idle": "2025-04-02T14:55:17.050498Z",
     "shell.execute_reply": "2025-04-02T14:55:17.049384Z",
     "shell.execute_reply.started": "2025-04-02T14:55:16.936809Z"
    },
    "trusted": true
   },
   "outputs": [
    {
     "name": "stdout",
     "output_type": "stream",
     "text": [
      "num of train phones:\t 61\n"
     ]
    }
   ],
   "source": [
    "train_phonetics = [phone for x in train_dataset for phone in x['phonetic'].split()]\n",
    "print(\"num of train phones:\\t\", len(set(train_phonetics)))"
   ]
  },
  {
   "cell_type": "code",
   "execution_count": 21,
   "metadata": {
    "execution": {
     "iopub.execute_input": "2025-04-02T14:55:17.052747Z",
     "iopub.status.busy": "2025-04-02T14:55:17.052427Z",
     "iopub.status.idle": "2025-04-02T14:55:17.064391Z",
     "shell.execute_reply": "2025-04-02T14:55:17.063120Z",
     "shell.execute_reply.started": "2025-04-02T14:55:17.052714Z"
    },
    "trusted": true
   },
   "outputs": [],
   "source": [
    "# TimitBet 61 phoneme mapping to 39 phonemes\n",
    "# by Lee, K.-F., & Hon, H.-W. (1989). Speaker-independent phone recognition using hidden Markov models. IEEE Transactions on Acoustics, Speech, and Signal Processing, 37(11), 1641–1648. doi:10.1109/29.46546 \n",
    "phon61_map39 = {\n",
    "    'iy':'iy',  'ih':'ih',   'eh':'eh',  'ae':'ae',    'ix':'ih',  'ax':'ah',   'ah':'ah',  'uw':'uw',\n",
    "    'ux':'uw',  'uh':'uh',   'ao':'aa',  'aa':'aa',    'ey':'ey',  'ay':'ay',   'oy':'oy',  'aw':'aw',\n",
    "    'ow':'ow',  'l':'l',     'el':'l',  'r':'r',      'y':'y',    'w':'w',     'er':'er',  'axr':'er',\n",
    "    'm':'m',    'em':'m',     'n':'n',    'nx':'n',     'en':'n',  'ng':'ng',   'eng':'ng', 'ch':'ch',\n",
    "    'jh':'jh',  'dh':'dh',   'b':'b',    'd':'d',      'dx':'dx',  'g':'g',     'p':'p',    't':'t',\n",
    "    'k':'k',    'z':'z',     'zh':'sh',  'v':'v',      'f':'f',    'th':'th',   's':'s',    'sh':'sh',\n",
    "    'hh':'hh',  'hv':'hh',   'pcl':'h#', 'tcl':'h#', 'kcl':'h#', 'qcl':'h#','bcl':'h#','dcl':'h#',\n",
    "    'gcl':'h#','h#':'h#',  '#h':'h#',  'pau':'h#', 'epi': 'h#','nx':'n',   'ax-h':'ah','q':'h#' \n",
    "}\n",
    "\n",
    "def convert_phon61_to_phon39(sentence):\n",
    "    tokens = [phon61_map39[x] for x in sentence.split()]\n",
    "    return \" \".join(tokens)\n",
    "\n",
    "def normalize_phones(item):\n",
    "    item['phonetic'] = convert_phon61_to_phon39(item['phonetic'])\n",
    "    return item"
   ]
  },
  {
   "cell_type": "code",
   "execution_count": 22,
   "metadata": {
    "execution": {
     "iopub.execute_input": "2025-04-02T14:55:17.066120Z",
     "iopub.status.busy": "2025-04-02T14:55:17.065843Z",
     "iopub.status.idle": "2025-04-02T14:55:17.518365Z",
     "shell.execute_reply": "2025-04-02T14:55:17.517523Z",
     "shell.execute_reply.started": "2025-04-02T14:55:17.066085Z"
    },
    "trusted": true
   },
   "outputs": [
    {
     "data": {
      "application/vnd.jupyter.widget-view+json": {
       "model_id": "f362b26b435341829ee9ffeff0f4ec04",
       "version_major": 2,
       "version_minor": 0
      },
      "text/plain": [
       "Map:   0%|          | 0/1440 [00:00<?, ? examples/s]"
      ]
     },
     "metadata": {},
     "output_type": "display_data"
    },
    {
     "data": {
      "application/vnd.jupyter.widget-view+json": {
       "model_id": "58e72999909749f4af69557b97b0d1b7",
       "version_major": 2,
       "version_minor": 0
      },
      "text/plain": [
       "Map:   0%|          | 0/240 [00:00<?, ? examples/s]"
      ]
     },
     "metadata": {},
     "output_type": "display_data"
    },
    {
     "data": {
      "application/vnd.jupyter.widget-view+json": {
       "model_id": "920277ab63cc476ba8d8e61b5d3fb408",
       "version_major": 2,
       "version_minor": 0
      },
      "text/plain": [
       "Map:   0%|          | 0/1680 [00:00<?, ? examples/s]"
      ]
     },
     "metadata": {},
     "output_type": "display_data"
    }
   ],
   "source": [
    "train_dataset = train_dataset.map(normalize_phones)\n",
    "valid_dataset = valid_dataset.map(normalize_phones)\n",
    "test_dataset = test_dataset.map(normalize_phones)"
   ]
  },
  {
   "cell_type": "code",
   "execution_count": 23,
   "metadata": {
    "execution": {
     "iopub.execute_input": "2025-04-02T14:55:17.575235Z",
     "iopub.status.busy": "2025-04-02T14:55:17.574961Z",
     "iopub.status.idle": "2025-04-02T14:55:17.903070Z",
     "shell.execute_reply": "2025-04-02T14:55:17.902045Z",
     "shell.execute_reply.started": "2025-04-02T14:55:17.575205Z"
    },
    "trusted": true
   },
   "outputs": [
    {
     "name": "stdout",
     "output_type": "stream",
     "text": [
      "num of train phones:\t 39\n",
      "num of valid phones:\t 39\n",
      "num of test phones:\t 39\n"
     ]
    }
   ],
   "source": [
    "train_phonetics = [phone for x in train_dataset for phone in x['phonetic'].split()]\n",
    "valid_phonetics = [phone for x in valid_dataset for phone in x['phonetic'].split()]\n",
    "test_phonetics = [phone for x in test_dataset for phone in x['phonetic'].split()]\n",
    "\n",
    "print(\"num of train phones:\\t\", len(set(train_phonetics)))\n",
    "print(\"num of valid phones:\\t\", len(set(valid_phonetics)))\n",
    "print(\"num of test phones:\\t\", len(set(test_phonetics)))"
   ]
  },
  {
   "cell_type": "markdown",
   "metadata": {},
   "source": [
    "## Phonetic Distribution\n",
    "Let's check the distribution of each phone across all three test set. Note that we don't do simple counting. Instead, for each phoneme, we show the ratio of that phoneme relative to that specific set. On test set, obviously, the count of each phoneme is less than the train, but the ratio should be similar to the training set."
   ]
  },
  {
   "cell_type": "code",
   "execution_count": 24,
   "metadata": {
    "execution": {
     "iopub.execute_input": "2025-04-02T14:55:19.057333Z",
     "iopub.status.busy": "2025-04-02T14:55:19.057020Z",
     "iopub.status.idle": "2025-04-02T14:55:19.066186Z",
     "shell.execute_reply": "2025-04-02T14:55:19.064935Z",
     "shell.execute_reply.started": "2025-04-02T14:55:19.057293Z"
    },
    "trusted": true
   },
   "outputs": [],
   "source": [
    "phone_vocabs = set(train_phonetics)\n",
    "phone_vocabs.remove('h#')\n",
    "phone_vocabs = sorted(phone_vocabs)\n",
    "\n",
    "def count_frequency(phonetics):\n",
    "    phone_counts = {phone: 0 for phone in phone_vocabs}\n",
    "    for phone in phonetics:\n",
    "        if phone in phone_vocabs:\n",
    "            phone_counts[phone] += 1\n",
    "    # eliminate h# for visualization purposes\n",
    "    return [phone_counts[phone] for phone in phone_vocabs] "
   ]
  },
  {
   "cell_type": "code",
   "execution_count": 25,
   "metadata": {
    "execution": {
     "iopub.execute_input": "2025-04-02T14:55:20.408968Z",
     "iopub.status.busy": "2025-04-02T14:55:20.408664Z",
     "iopub.status.idle": "2025-04-02T14:55:20.476444Z",
     "shell.execute_reply": "2025-04-02T14:55:20.475516Z",
     "shell.execute_reply.started": "2025-04-02T14:55:20.408904Z"
    },
    "trusted": true
   },
   "outputs": [],
   "source": [
    "train_phone_counts = count_frequency(train_phonetics)\n",
    "valid_phone_counts = count_frequency(valid_phonetics)\n",
    "test_phone_counts  = count_frequency(test_phonetics)"
   ]
  },
  {
   "cell_type": "code",
   "execution_count": 26,
   "metadata": {
    "execution": {
     "iopub.execute_input": "2025-04-02T14:55:20.602110Z",
     "iopub.status.busy": "2025-04-02T14:55:20.601777Z",
     "iopub.status.idle": "2025-04-02T14:55:20.607822Z",
     "shell.execute_reply": "2025-04-02T14:55:20.606647Z",
     "shell.execute_reply.started": "2025-04-02T14:55:20.602076Z"
    },
    "trusted": true
   },
   "outputs": [],
   "source": [
    "train_phone_ratio = [count / sum(train_phone_counts) for count in train_phone_counts]\n",
    "valid_phone_ratio = [count / sum(valid_phone_counts) for count in valid_phone_counts]\n",
    "test_phone_ratio  = [count / sum(test_phone_counts) for count in test_phone_counts]"
   ]
  },
  {
   "cell_type": "code",
   "execution_count": 27,
   "metadata": {
    "execution": {
     "iopub.execute_input": "2025-04-02T14:55:27.859812Z",
     "iopub.status.busy": "2025-04-02T14:55:27.859507Z",
     "iopub.status.idle": "2025-04-02T14:55:28.434432Z",
     "shell.execute_reply": "2025-04-02T14:55:28.433154Z",
     "shell.execute_reply.started": "2025-04-02T14:55:27.859782Z"
    },
    "trusted": true
   },
   "outputs": [
    {
     "data": {
      "image/png": "[encoded data removed]",
      "text/plain": [
       "<Figure size 1800x720 with 1 Axes>"
      ]
     },
     "metadata": {
      "needs_background": "light"
     },
     "output_type": "display_data"
    }
   ],
   "source": [
    "import matplotlib.pyplot as plt\n",
    "\n",
    "plt.figure(figsize=(25,10))\n",
    "\n",
    "plt.bar(phone_vocabs, train_phone_ratio, label=\"Train\")\n",
    "plt.bar(phone_vocabs, valid_phone_ratio, bottom=train_phone_ratio, label=\"Valid\")\n",
    "plt.bar(phone_vocabs, test_phone_ratio, bottom=[(x+y) for x,y in zip(train_phone_ratio, valid_phone_ratio)], label=\"Test\")\n",
    "\n",
    "plt.legend()\n",
    "\n",
    "plt.show()"
   ]
  },
  {
   "cell_type": "markdown",
   "metadata": {},
   "source": [
    "## Load Audio File"
   ]
  },
  {
   "cell_type": "code",
   "execution_count": 28,
   "metadata": {
    "execution": {
     "iopub.execute_input": "2025-04-02T14:57:00.521204Z",
     "iopub.status.busy": "2025-04-02T14:57:00.520366Z",
     "iopub.status.idle": "2025-04-02T14:57:00.542894Z",
     "shell.execute_reply": "2025-04-02T14:57:00.541957Z",
     "shell.execute_reply.started": "2025-04-02T14:57:00.521159Z"
    },
    "trusted": true
   },
   "outputs": [],
   "source": [
    "train_dataset = (train_dataset\n",
    "                 .cast_column(\"audio_file\", Audio(sampling_rate=16_000))\n",
    "                 .rename_column('audio_file', 'audio'))\n",
    "valid_dataset = (valid_dataset\n",
    "                 .cast_column(\"audio_file\", Audio(sampling_rate=16_000))\n",
    "                 .rename_column('audio_file', 'audio'))\n",
    "test_dataset = (test_dataset\n",
    "                 .cast_column(\"audio_file\", Audio(sampling_rate=16_000))\n",
    "                 .rename_column('audio_file', 'audio'))"
   ]
  },
  {
   "cell_type": "code",
   "execution_count": 29,
   "metadata": {
    "execution": {
     "iopub.execute_input": "2025-04-02T14:57:00.902643Z",
     "iopub.status.busy": "2025-04-02T14:57:00.902284Z",
     "iopub.status.idle": "2025-04-02T14:57:00.915180Z",
     "shell.execute_reply": "2025-04-02T14:57:00.913875Z",
     "shell.execute_reply.started": "2025-04-02T14:57:00.902591Z"
    },
    "trusted": true
   },
   "outputs": [
    {
     "data": {
      "text/plain": [
       "{'audio': {'path': '/kaggle/input/darpa-timit-acousticphonetic-continuous-speech/data/TRAIN/DR3/FALK0/SA1.WAV',\n",
       "  'array': array([-9.15527344e-05,  2.74658203e-04,  1.22070312e-04, ...,\n",
       "         -9.15527344e-05, -2.74658203e-04,  1.22070312e-04]),\n",
       "  'sampling_rate': 16000},\n",
       " 'text': 'she had your dark suit in greasy wash water all year',\n",
       " 'phonetic': 'h# sh iy hh eh h# d y er h# d aa r h# k s uw h# h# ih n h# g r iy z iy w aa sh h# w aa dx er h# aa l y ih er h#'}"
      ]
     },
     "execution_count": 29,
     "metadata": {},
     "output_type": "execute_result"
    }
   ],
   "source": [
    "train_dataset[0]"
   ]
  },
  {
   "cell_type": "code",
   "execution_count": 30,
   "metadata": {
    "execution": {
     "iopub.execute_input": "2025-04-02T14:57:02.131960Z",
     "iopub.status.busy": "2025-04-02T14:57:02.131627Z",
     "iopub.status.idle": "2025-04-02T14:57:02.161244Z",
     "shell.execute_reply": "2025-04-02T14:57:02.160143Z",
     "shell.execute_reply.started": "2025-04-02T14:57:02.131926Z"
    },
    "trusted": true
   },
   "outputs": [
    {
     "name": "stdout",
     "output_type": "stream",
     "text": [
      "Text: that stinging vapor was caused by chloride vaporization\n",
      "Phonetics: h# dh ae h# s h# t ih ng iy ng v ey h# p er w ah z h# k aa z h# b ay h# k l aa r ay h# v ey h# p er z ey sh n h#\n",
      "Input array shape: (54989,)\n",
      "Sampling rate: 16000\n"
     ]
    },
    {
     "data": {
      "text/html": [
       "\n",
       "                <audio  controls=\"controls\" >\n",
       "                    <source src=\"data:audio/wav;base64,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\" type=\"audio/wav\" />\n",
       "                    Your browser does not support the audio element.\n",
       "                </audio>\n",
       "              "
      ],
      "text/plain": [
       "<IPython.lib.display.Audio object>"
      ]
     },
     "execution_count": 30,
     "metadata": {},
     "output_type": "execute_result"
    }
   ],
   "source": [
    "import IPython.display as ipd\n",
    "import numpy as np\n",
    "import random\n",
    "\n",
    "rand_int = random.randint(0, len(train_dataset)-1)\n",
    "\n",
    "print(\"Text:\", train_dataset[rand_int][\"text\"])\n",
    "print(\"Phonetics:\", train_dataset[rand_int][\"phonetic\"])\n",
    "print(\"Input array shape:\", train_dataset[rand_int][\"audio\"][\"array\"].shape)\n",
    "print(\"Sampling rate:\", train_dataset[rand_int][\"audio\"][\"sampling_rate\"])\n",
    "ipd.Audio(data=train_dataset[rand_int][\"audio\"][\"array\"], autoplay=False, rate=16000)"
   ]
  },
  {
   "cell_type": "markdown",
   "metadata": {},
   "source": [
    "## Build Character Set"
   ]
  },
  {
   "cell_type": "code",
   "execution_count": 31,
   "metadata": {
    "execution": {
     "iopub.execute_input": "2025-04-02T14:57:28.992281Z",
     "iopub.status.busy": "2025-04-02T14:57:28.991928Z",
     "iopub.status.idle": "2025-04-02T14:57:29.002017Z",
     "shell.execute_reply": "2025-04-02T14:57:29.000912Z",
     "shell.execute_reply.started": "2025-04-02T14:57:28.992243Z"
    },
    "trusted": true
   },
   "outputs": [],
   "source": [
    "vocab_train = list(set(train_phonetics)) + [' ']\n",
    "vocab_valid = list(set(valid_phonetics)) + [' ']\n",
    "vocab_test  = list(set(test_phonetics)) + [' ']"
   ]
  },
  {
   "cell_type": "code",
   "execution_count": 32,
   "metadata": {
    "execution": {
     "iopub.execute_input": "2025-04-02T14:57:30.071452Z",
     "iopub.status.busy": "2025-04-02T14:57:30.071118Z",
     "iopub.status.idle": "2025-04-02T14:57:30.077524Z",
     "shell.execute_reply": "2025-04-02T14:57:30.076623Z",
     "shell.execute_reply.started": "2025-04-02T14:57:30.071416Z"
    },
    "trusted": true
   },
   "outputs": [
    {
     "name": "stdout",
     "output_type": "stream",
     "text": [
      "{' ': 0, 'aa': 1, 'ae': 2, 'ah': 3, 'aw': 4, 'ay': 5, 'b': 6, 'ch': 7, 'd': 8, 'dh': 9, 'dx': 10, 'eh': 11, 'er': 12, 'ey': 13, 'f': 14, 'g': 15, 'h#': 16, 'hh': 17, 'ih': 18, 'iy': 19, 'jh': 20, 'k': 21, 'l': 22, 'm': 23, 'n': 24, 'ng': 25, 'ow': 26, 'oy': 27, 'p': 28, 'r': 29, 's': 30, 'sh': 31, 't': 32, 'th': 33, 'uh': 34, 'uw': 35, 'v': 36, 'w': 37, 'y': 38, 'z': 39}\n"
     ]
    }
   ],
   "source": [
    "vocab_list = list(set(vocab_train + vocab_valid + vocab_test))\n",
    "vocab_dict = {v: k for k, v in enumerate(sorted(vocab_list))}\n",
    "\n",
    "print(vocab_dict)"
   ]
  },
  {
   "cell_type": "code",
   "execution_count": 33,
   "metadata": {
    "execution": {
     "iopub.execute_input": "2025-04-02T14:57:31.251445Z",
     "iopub.status.busy": "2025-04-02T14:57:31.251104Z",
     "iopub.status.idle": "2025-04-02T14:57:31.259509Z",
     "shell.execute_reply": "2025-04-02T14:57:31.258365Z",
     "shell.execute_reply.started": "2025-04-02T14:57:31.251408Z"
    },
    "trusted": true
   },
   "outputs": [
    {
     "data": {
      "text/plain": [
       "42"
      ]
     },
     "execution_count": 33,
     "metadata": {},
     "output_type": "execute_result"
    }
   ],
   "source": [
    "# make the space more intuitive to understand\n",
    "vocab_dict[\"|\"] = vocab_dict[\" \"]\n",
    "del vocab_dict[\" \"]\n",
    "\n",
    "vocab_dict[\"[UNK]\"] = len(vocab_dict)\n",
    "vocab_dict[\"[PAD]\"] = len(vocab_dict)\n",
    "len(vocab_dict)"
   ]
  },
  {
   "cell_type": "code",
   "execution_count": 34,
   "metadata": {
    "execution": {
     "iopub.execute_input": "2025-04-02T14:57:32.119822Z",
     "iopub.status.busy": "2025-04-02T14:57:32.119454Z",
     "iopub.status.idle": "2025-04-02T14:57:32.126303Z",
     "shell.execute_reply": "2025-04-02T14:57:32.125060Z",
     "shell.execute_reply.started": "2025-04-02T14:57:32.119787Z"
    },
    "trusted": true
   },
   "outputs": [],
   "source": [
    "# save vocab.json\n",
    "import json\n",
    "with open('/kaggle/working/vocab.json', 'w') as vocab_file:\n",
    "    json.dump(vocab_dict, vocab_file)"
   ]
  },
  {
   "cell_type": "markdown",
   "metadata": {},
   "source": [
    "# Modeling"
   ]
  },
  {
   "cell_type": "markdown",
   "metadata": {},
   "source": [
    "## Input Processor"
   ]
  },
  {
   "cell_type": "code",
   "execution_count": 35,
   "metadata": {
    "execution": {
     "iopub.execute_input": "2025-04-02T14:57:54.257326Z",
     "iopub.status.busy": "2025-04-02T14:57:54.256970Z",
     "iopub.status.idle": "2025-04-02T14:57:54.505161Z",
     "shell.execute_reply": "2025-04-02T14:57:54.504194Z",
     "shell.execute_reply.started": "2025-04-02T14:57:54.257290Z"
    },
    "trusted": true
   },
   "outputs": [],
   "source": [
    "from transformers import Wav2Vec2CTCTokenizer\n",
    "from transformers import Wav2Vec2FeatureExtractor\n",
    "from transformers import Wav2Vec2Processor\n",
    "from tokenizers.processors import TemplateProcessing"
   ]
  },
  {
   "cell_type": "code",
   "execution_count": 36,
   "metadata": {
    "execution": {
     "iopub.execute_input": "2025-04-02T14:57:55.341425Z",
     "iopub.status.busy": "2025-04-02T14:57:55.340400Z",
     "iopub.status.idle": "2025-04-02T14:57:55.356735Z",
     "shell.execute_reply": "2025-04-02T14:57:55.355654Z",
     "shell.execute_reply.started": "2025-04-02T14:57:55.341380Z"
    },
    "trusted": true
   },
   "outputs": [
    {
     "name": "stderr",
     "output_type": "stream",
     "text": [
      "Special tokens have been added in the vocabulary, make sure the associated word embeddings are fine-tuned or trained.\n"
     ]
    }
   ],
   "source": [
    "tokenizer = Wav2Vec2CTCTokenizer.from_pretrained(\"/kaggle/working/\", unk_token=\"[UNK]\", pad_token=\"[PAD]\", word_delimiter_token=\"|\", )  # './' load vocab.json in the current directory\n",
    "feature_extractor = Wav2Vec2FeatureExtractor(feature_size=1, sampling_rate=16000, padding_value=0.0, do_normalize=True, return_attention_mask=True)  \n",
    "processor = Wav2Vec2Processor(feature_extractor=feature_extractor, tokenizer=tokenizer)"
   ]
  },
  {
   "cell_type": "code",
   "execution_count": 37,
   "metadata": {
    "execution": {
     "iopub.execute_input": "2025-04-02T14:58:00.388522Z",
     "iopub.status.busy": "2025-04-02T14:58:00.388225Z",
     "iopub.status.idle": "2025-04-02T14:58:00.395352Z",
     "shell.execute_reply": "2025-04-02T14:58:00.394232Z",
     "shell.execute_reply.started": "2025-04-02T14:58:00.388490Z"
    },
    "trusted": true
   },
   "outputs": [],
   "source": [
    "# This does not prepare the input for the Transformer model.\n",
    "# This will resample the data and convert the sentence into indices\n",
    "# Batch here is just for one entry (row)\n",
    "def prepare_dataset(batch):\n",
    "    audio = batch[\"audio\"]\n",
    "    \n",
    "    # batched output is \"un-batched\"\n",
    "    batch[\"input_values\"] = processor(audio[\"array\"], sampling_rate=audio[\"sampling_rate\"]).input_values[0]\n",
    "    batch[\"input_length\"] = len(batch[\"input_values\"])\n",
    "    \n",
    "    with processor.as_target_processor():\n",
    "        batch[\"labels\"] = processor(batch[\"phonetic\"]).input_ids\n",
    "    return batch"
   ]
  },
  {
   "cell_type": "code",
   "execution_count": 38,
   "metadata": {
    "execution": {
     "iopub.execute_input": "2025-04-02T14:58:19.277817Z",
     "iopub.status.busy": "2025-04-02T14:58:19.277493Z",
     "iopub.status.idle": "2025-04-02T15:01:25.058234Z",
     "shell.execute_reply": "2025-04-02T15:01:25.057288Z",
     "shell.execute_reply.started": "2025-04-02T14:58:19.277783Z"
    },
    "trusted": true
   },
   "outputs": [
    {
     "data": {
      "application/vnd.jupyter.widget-view+json": {
       "model_id": "0d30b74b976345a1a56af6a73a3862d1",
       "version_major": 2,
       "version_minor": 0
      },
      "text/plain": [
       "Map:   0%|          | 0/1440 [00:00<?, ? examples/s]"
      ]
     },
     "metadata": {},
     "output_type": "display_data"
    },
    {
     "data": {
      "application/vnd.jupyter.widget-view+json": {
       "model_id": "b6fe5c79d9d4407585115695dc3c2171",
       "version_major": 2,
       "version_minor": 0
      },
      "text/plain": [
       "Map:   0%|          | 0/240 [00:00<?, ? examples/s]"
      ]
     },
     "metadata": {},
     "output_type": "display_data"
    },
    {
     "data": {
      "application/vnd.jupyter.widget-view+json": {
       "model_id": "359bc781fc144fb1bba65741c4fe5997",
       "version_major": 2,
       "version_minor": 0
      },
      "text/plain": [
       "Map:   0%|          | 0/1680 [00:00<?, ? examples/s]"
      ]
     },
     "metadata": {},
     "output_type": "display_data"
    }
   ],
   "source": [
    "# train_dataset = train_dataset.map(prepare_dataset, remove_columns=train_dataset.column_names)\n",
    "# valid_dataset = valid_dataset.map(prepare_dataset, remove_columns=valid_dataset.column_names)\n",
    "# test_dataset = test_dataset.map(prepare_dataset, remove_columns=test_dataset.column_names)\n",
    "train_dataset = train_dataset.map(prepare_dataset)\n",
    "valid_dataset = valid_dataset.map(prepare_dataset)\n",
    "test_dataset = test_dataset.map(prepare_dataset)"
   ]
  },
  {
   "cell_type": "code",
   "execution_count": 39,
   "metadata": {
    "execution": {
     "iopub.execute_input": "2025-04-02T15:01:25.061084Z",
     "iopub.status.busy": "2025-04-02T15:01:25.060800Z",
     "iopub.status.idle": "2025-04-02T15:01:25.072184Z",
     "shell.execute_reply": "2025-04-02T15:01:25.071110Z",
     "shell.execute_reply.started": "2025-04-02T15:01:25.061049Z"
    },
    "trusted": true
   },
   "outputs": [],
   "source": [
    "import torch\n",
    "\n",
    "from dataclasses import dataclass, field\n",
    "from typing import Any, Dict, List, Optional, Union\n",
    "\n",
    "@dataclass\n",
    "class DataCollatorCTCWithPadding:\n",
    "    \"\"\"\n",
    "    Data collator that will dynamically pad the inputs received.\n",
    "    Args:\n",
    "        processor (:class:`~transformers.Wav2Vec2Processor`)\n",
    "            The processor used for proccessing the data.\n",
    "        padding (:obj:`bool`, :obj:`str` or :class:`~transformers.tokenization_utils_base.PaddingStrategy`, `optional`, defaults to :obj:`True`):\n",
    "            Select a strategy to pad the returned sequences (according to the model's padding side and padding index)\n",
    "            among:\n",
    "            * :obj:`True` or :obj:`'longest'`: Pad to the longest sequence in the batch (or no padding if only a single\n",
    "              sequence if provided).\n",
    "            * :obj:`'max_length'`: Pad to a maximum length specified with the argument :obj:`max_length` or to the\n",
    "              maximum acceptable input length for the model if that argument is not provided.\n",
    "            * :obj:`False` or :obj:`'do_not_pad'` (default): No padding (i.e., can output a batch with sequences of\n",
    "              different lengths).\n",
    "    \"\"\"\n",
    "\n",
    "    processor: Wav2Vec2Processor\n",
    "    padding: Union[bool, str] = True\n",
    "\n",
    "    def __call__(self, features: List[Dict[str, Union[List[int], torch.Tensor]]]) -> Dict[str, torch.Tensor]:\n",
    "        # split inputs and labels since they have to be of different lenghts and need\n",
    "        # different padding methods\n",
    "        input_features = [{\"input_values\": feature[\"input_values\"]} for feature in features]\n",
    "        label_features = [{\"input_ids\": feature[\"labels\"]} for feature in features]\n",
    "\n",
    "        batch = self.processor.pad(\n",
    "            input_features,\n",
    "            padding=self.padding,\n",
    "            return_tensors=\"pt\",\n",
    "        )\n",
    "\n",
    "        with self.processor.as_target_processor():\n",
    "            labels_batch = self.processor.pad(\n",
    "                label_features,\n",
    "                padding=self.padding,\n",
    "                return_tensors=\"pt\",\n",
    "            )\n",
    "\n",
    "        # replace padding with -100 to ignore loss correctly\n",
    "        labels = labels_batch[\"input_ids\"].masked_fill(labels_batch.attention_mask.ne(1), -100)\n",
    "        batch[\"labels\"] = labels\n",
    "\n",
    "        return batch"
   ]
  },
  {
   "cell_type": "markdown",
   "metadata": {},
   "source": [
    "## Evaluation Metrics"
   ]
  },
  {
   "cell_type": "markdown",
   "metadata": {},
   "source": [
    "We use WER (Word Error Rate) and CER (Character Error Rate) to measure the performance of our model. After the training, we realize that WER may not be the right fit. CER fits better.\n",
    "\n",
    "Note that CER here has some errors in our use case because each ARPAbet token is represented by one to three characters. For example, a label token is \"ch\" and another is \"ae\", that's two character error right there.\n",
    "\n",
    "After the training, we will re-evaluate on test-set one more time, which we will evaluate at token level."
   ]
  },
  {
   "cell_type": "code",
   "execution_count": 42,
   "metadata": {},
   "outputs": [
    {
     "data": {
      "application/vnd.jupyter.widget-view+json": {
       "model_id": "1c9e4cdc86564765aa144132bcdaf318",
       "version_major": 2,
       "version_minor": 0
      },
      "text/plain": [
       "Downloading builder script:   0%|          | 0.00/5.60k [00:00<?, ?B/s]"
      ]
     },
     "metadata": {},
     "output_type": "display_data"
    }
   ],
   "source": [
    "from evaluate import load\n",
    "\n",
    "data_collator = DataCollatorCTCWithPadding(processor=processor, padding=True)\n",
    "# wer_metric = load_metric(\"wer\")\n",
    "cer_metric = load(\"cer\")"
   ]
  },
  {
   "cell_type": "code",
   "execution_count": 43,
   "metadata": {
    "execution": {
     "iopub.execute_input": "2025-04-02T15:01:25.074126Z",
     "iopub.status.busy": "2025-04-02T15:01:25.073820Z",
     "iopub.status.idle": "2025-04-02T15:01:25.090293Z",
     "shell.execute_reply": "2025-04-02T15:01:25.089254Z",
     "shell.execute_reply.started": "2025-04-02T15:01:25.074083Z"
    },
    "trusted": true
   },
   "outputs": [],
   "source": [
    "def compute_metrics(pred):\n",
    "    pred_logits = pred.predictions\n",
    "    pred_ids = np.argmax(pred_logits, axis=-1)\n",
    "\n",
    "    pred.label_ids[pred.label_ids == -100] = tokenizer.pad_token_id\n",
    "\n",
    "    pred_str = tokenizer.batch_decode(pred_ids)\n",
    "    label_str = tokenizer.batch_decode(pred.label_ids, group_tokens=False)\n",
    "    \n",
    "    #wer = wer_metric.compute(predictions=pred_str, references=label_str)\n",
    "    cer = cer_metric.compute(predictions=pred_str, references=label_str)\n",
    "    \n",
    "    print(\"Predicted sample\", pred_str[0])\n",
    "    print(\"GT sample\", label_str[0])\n",
    "\n",
    "    return {\n",
    "        #\"wer\": wer,\n",
    "        \"cer\": cer\n",
    "    }"
   ]
  },
  {
   "cell_type": "code",
   "execution_count": 44,
   "metadata": {
    "execution": {
     "iopub.execute_input": "2024-03-21T19:19:51.366793Z",
     "iopub.status.busy": "2024-03-21T19:19:51.366474Z",
     "iopub.status.idle": "2024-03-21T19:20:33.076648Z",
     "shell.execute_reply": "2024-03-21T19:20:33.075905Z",
     "shell.execute_reply.started": "2024-03-21T19:19:51.36675Z"
    },
    "trusted": true
   },
   "outputs": [
    {
     "data": {
      "application/vnd.jupyter.widget-view+json": {
       "model_id": "b9283a5d3d21458f9d769ded047b792f",
       "version_major": 2,
       "version_minor": 0
      },
      "text/plain": [
       "Downloading:   0%|          | 0.00/1.53k [00:00<?, ?B/s]"
      ]
     },
     "metadata": {},
     "output_type": "display_data"
    },
    {
     "data": {
      "application/vnd.jupyter.widget-view+json": {
       "model_id": "d2dfc9dce7114cb282543cf570372fc2",
       "version_major": 2,
       "version_minor": 0
      },
      "text/plain": [
       "Downloading:   0%|          | 0.00/1.18G [00:00<?, ?B/s]"
      ]
     },
     "metadata": {},
     "output_type": "display_data"
    },
    {
     "name": "stderr",
     "output_type": "stream",
     "text": [
      "Some weights of the model checkpoint at facebook/wav2vec2-xls-r-300m were not used when initializing Wav2Vec2ForCTC: ['project_hid.bias', 'quantizer.weight_proj.weight', 'project_hid.weight', 'quantizer.weight_proj.bias', 'project_q.bias', 'project_q.weight', 'quantizer.codevectors']\n",
      "- This IS expected if you are initializing Wav2Vec2ForCTC from the checkpoint of a model trained on another task or with another architecture (e.g. initializing a BertForSequenceClassification model from a BertForPreTraining model).\n",
      "- This IS NOT expected if you are initializing Wav2Vec2ForCTC from the checkpoint of a model that you expect to be exactly identical (initializing a BertForSequenceClassification model from a BertForSequenceClassification model).\n",
      "Some weights of Wav2Vec2ForCTC were not initialized from the model checkpoint at facebook/wav2vec2-xls-r-300m and are newly initialized: ['lm_head.bias', 'lm_head.weight']\n",
      "You should probably TRAIN this model on a down-stream task to be able to use it for predictions and inference.\n"
     ]
    }
   ],
   "source": [
    "from transformers import Wav2Vec2ForCTC\n",
    "\n",
    "model = Wav2Vec2ForCTC.from_pretrained(\n",
    "    \"facebook/wav2vec2-xls-r-300m\", \n",
    "    attention_dropout=0.1,\n",
    "    layerdrop=0.0,\n",
    "    feat_proj_dropout=0.0,\n",
    "#     mask_time_prob=0.75, \n",
    "#     mask_time_length=10,\n",
    "#     mask_feature_prob=0.25,\n",
    "#     mask_feature_length=64,\n",
    "    ctc_loss_reduction=\"mean\",\n",
    "    pad_token_id=processor.tokenizer.pad_token_id,\n",
    "    vocab_size=len(processor.tokenizer)\n",
    ")"
   ]
  },
  {
   "cell_type": "code",
   "execution_count": 45,
   "metadata": {},
   "outputs": [
    {
     "data": {
      "text/plain": [
       "Wav2Vec2ForCTC(\n",
       "  (wav2vec2): Wav2Vec2Model(\n",
       "    (feature_extractor): Wav2Vec2FeatureEncoder(\n",
       "      (conv_layers): ModuleList(\n",
       "        (0): Wav2Vec2LayerNormConvLayer(\n",
       "          (conv): Conv1d(1, 512, kernel_size=(10,), stride=(5,))\n",
       "          (layer_norm): LayerNorm((512,), eps=1e-05, elementwise_affine=True)\n",
       "          (activation): GELUActivation()\n",
       "        )\n",
       "        (1): Wav2Vec2LayerNormConvLayer(\n",
       "          (conv): Conv1d(512, 512, kernel_size=(3,), stride=(2,))\n",
       "          (layer_norm): LayerNorm((512,), eps=1e-05, elementwise_affine=True)\n",
       "          (activation): GELUActivation()\n",
       "        )\n",
       "        (2): Wav2Vec2LayerNormConvLayer(\n",
       "          (conv): Conv1d(512, 512, kernel_size=(3,), stride=(2,))\n",
       "          (layer_norm): LayerNorm((512,), eps=1e-05, elementwise_affine=True)\n",
       "          (activation): GELUActivation()\n",
       "        )\n",
       "        (3): Wav2Vec2LayerNormConvLayer(\n",
       "          (conv): Conv1d(512, 512, kernel_size=(3,), stride=(2,))\n",
       "          (layer_norm): LayerNorm((512,), eps=1e-05, elementwise_affine=True)\n",
       "          (activation): GELUActivation()\n",
       "        )\n",
       "        (4): Wav2Vec2LayerNormConvLayer(\n",
       "          (conv): Conv1d(512, 512, kernel_size=(3,), stride=(2,))\n",
       "          (layer_norm): LayerNorm((512,), eps=1e-05, elementwise_affine=True)\n",
       "          (activation): GELUActivation()\n",
       "        )\n",
       "        (5): Wav2Vec2LayerNormConvLayer(\n",
       "          (conv): Conv1d(512, 512, kernel_size=(2,), stride=(2,))\n",
       "          (layer_norm): LayerNorm((512,), eps=1e-05, elementwise_affine=True)\n",
       "          (activation): GELUActivation()\n",
       "        )\n",
       "        (6): Wav2Vec2LayerNormConvLayer(\n",
       "          (conv): Conv1d(512, 512, kernel_size=(2,), stride=(2,))\n",
       "          (layer_norm): LayerNorm((512,), eps=1e-05, elementwise_affine=True)\n",
       "          (activation): GELUActivation()\n",
       "        )\n",
       "      )\n",
       "    )\n",
       "    (feature_projection): Wav2Vec2FeatureProjection(\n",
       "      (layer_norm): LayerNorm((512,), eps=1e-05, elementwise_affine=True)\n",
       "      (projection): Linear(in_features=512, out_features=1024, bias=True)\n",
       "      (dropout): Dropout(p=0.0, inplace=False)\n",
       "    )\n",
       "    (encoder): Wav2Vec2EncoderStableLayerNorm(\n",
       "      (pos_conv_embed): Wav2Vec2PositionalConvEmbedding(\n",
       "        (conv): Conv1d(1024, 1024, kernel_size=(128,), stride=(1,), padding=(64,), groups=16)\n",
       "        (padding): Wav2Vec2SamePadLayer()\n",
       "        (activation): GELUActivation()\n",
       "      )\n",
       "      (layer_norm): LayerNorm((1024,), eps=1e-05, elementwise_affine=True)\n",
       "      (dropout): Dropout(p=0.1, inplace=False)\n",
       "      (layers): ModuleList(\n",
       "        (0): Wav2Vec2EncoderLayerStableLayerNorm(\n",
       "          (attention): Wav2Vec2Attention(\n",
       "            (k_proj): Linear(in_features=1024, out_features=1024, bias=True)\n",
       "            (v_proj): Linear(in_features=1024, out_features=1024, bias=True)\n",
       "            (q_proj): Linear(in_features=1024, out_features=1024, bias=True)\n",
       "            (out_proj): Linear(in_features=1024, out_features=1024, bias=True)\n",
       "          )\n",
       "          (dropout): Dropout(p=0.1, inplace=False)\n",
       "          (layer_norm): LayerNorm((1024,), eps=1e-05, elementwise_affine=True)\n",
       "          (feed_forward): Wav2Vec2FeedForward(\n",
       "            (intermediate_dropout): Dropout(p=0.0, inplace=False)\n",
       "            (intermediate_dense): Linear(in_features=1024, out_features=4096, bias=True)\n",
       "            (intermediate_act_fn): GELUActivation()\n",
       "            (output_dense): Linear(in_features=4096, out_features=1024, bias=True)\n",
       "            (output_dropout): Dropout(p=0.1, inplace=False)\n",
       "          )\n",
       "          (final_layer_norm): LayerNorm((1024,), eps=1e-05, elementwise_affine=True)\n",
       "        )\n",
       "        (1): Wav2Vec2EncoderLayerStableLayerNorm(\n",
       "          (attention): Wav2Vec2Attention(\n",
       "            (k_proj): Linear(in_features=1024, out_features=1024, bias=True)\n",
       "            (v_proj): Linear(in_features=1024, out_features=1024, bias=True)\n",
       "            (q_proj): Linear(in_features=1024, out_features=1024, bias=True)\n",
       "            (out_proj): Linear(in_features=1024, out_features=1024, bias=True)\n",
       "          )\n",
       "          (dropout): Dropout(p=0.1, inplace=False)\n",
       "          (layer_norm): LayerNorm((1024,), eps=1e-05, elementwise_affine=True)\n",
       "          (feed_forward): Wav2Vec2FeedForward(\n",
       "            (intermediate_dropout): Dropout(p=0.0, inplace=False)\n",
       "            (intermediate_dense): Linear(in_features=1024, out_features=4096, bias=True)\n",
       "            (intermediate_act_fn): GELUActivation()\n",
       "            (output_dense): Linear(in_features=4096, out_features=1024, bias=True)\n",
       "            (output_dropout): Dropout(p=0.1, inplace=False)\n",
       "          )\n",
       "          (final_layer_norm): LayerNorm((1024,), eps=1e-05, elementwise_affine=True)\n",
       "        )\n",
       "        (2): Wav2Vec2EncoderLayerStableLayerNorm(\n",
       "          (attention): Wav2Vec2Attention(\n",
       "            (k_proj): Linear(in_features=1024, out_features=1024, bias=True)\n",
       "            (v_proj): Linear(in_features=1024, out_features=1024, bias=True)\n",
       "            (q_proj): Linear(in_features=1024, out_features=1024, bias=True)\n",
       "            (out_proj): Linear(in_features=1024, out_features=1024, bias=True)\n",
       "          )\n",
       "          (dropout): Dropout(p=0.1, inplace=False)\n",
       "          (layer_norm): LayerNorm((1024,), eps=1e-05, elementwise_affine=True)\n",
       "          (feed_forward): Wav2Vec2FeedForward(\n",
       "            (intermediate_dropout): Dropout(p=0.0, inplace=False)\n",
       "            (intermediate_dense): Linear(in_features=1024, out_features=4096, bias=True)\n",
       "            (intermediate_act_fn): GELUActivation()\n",
       "            (output_dense): Linear(in_features=4096, out_features=1024, bias=True)\n",
       "            (output_dropout): Dropout(p=0.1, inplace=False)\n",
       "          )\n",
       "          (final_layer_norm): LayerNorm((1024,), eps=1e-05, elementwise_affine=True)\n",
       "        )\n",
       "        (3): Wav2Vec2EncoderLayerStableLayerNorm(\n",
       "          (attention): Wav2Vec2Attention(\n",
       "            (k_proj): Linear(in_features=1024, out_features=1024, bias=True)\n",
       "            (v_proj): Linear(in_features=1024, out_features=1024, bias=True)\n",
       "            (q_proj): Linear(in_features=1024, out_features=1024, bias=True)\n",
       "            (out_proj): Linear(in_features=1024, out_features=1024, bias=True)\n",
       "          )\n",
       "          (dropout): Dropout(p=0.1, inplace=False)\n",
       "          (layer_norm): LayerNorm((1024,), eps=1e-05, elementwise_affine=True)\n",
       "          (feed_forward): Wav2Vec2FeedForward(\n",
       "            (intermediate_dropout): Dropout(p=0.0, inplace=False)\n",
       "            (intermediate_dense): Linear(in_features=1024, out_features=4096, bias=True)\n",
       "            (intermediate_act_fn): GELUActivation()\n",
       "            (output_dense): Linear(in_features=4096, out_features=1024, bias=True)\n",
       "            (output_dropout): Dropout(p=0.1, inplace=False)\n",
       "          )\n",
       "          (final_layer_norm): LayerNorm((1024,), eps=1e-05, elementwise_affine=True)\n",
       "        )\n",
       "        (4): Wav2Vec2EncoderLayerStableLayerNorm(\n",
       "          (attention): Wav2Vec2Attention(\n",
       "            (k_proj): Linear(in_features=1024, out_features=1024, bias=True)\n",
       "            (v_proj): Linear(in_features=1024, out_features=1024, bias=True)\n",
       "            (q_proj): Linear(in_features=1024, out_features=1024, bias=True)\n",
       "            (out_proj): Linear(in_features=1024, out_features=1024, bias=True)\n",
       "          )\n",
       "          (dropout): Dropout(p=0.1, inplace=False)\n",
       "          (layer_norm): LayerNorm((1024,), eps=1e-05, elementwise_affine=True)\n",
       "          (feed_forward): Wav2Vec2FeedForward(\n",
       "            (intermediate_dropout): Dropout(p=0.0, inplace=False)\n",
       "            (intermediate_dense): Linear(in_features=1024, out_features=4096, bias=True)\n",
       "            (intermediate_act_fn): GELUActivation()\n",
       "            (output_dense): Linear(in_features=4096, out_features=1024, bias=True)\n",
       "            (output_dropout): Dropout(p=0.1, inplace=False)\n",
       "          )\n",
       "          (final_layer_norm): LayerNorm((1024,), eps=1e-05, elementwise_affine=True)\n",
       "        )\n",
       "        (5): Wav2Vec2EncoderLayerStableLayerNorm(\n",
       "          (attention): Wav2Vec2Attention(\n",
       "            (k_proj): Linear(in_features=1024, out_features=1024, bias=True)\n",
       "            (v_proj): Linear(in_features=1024, out_features=1024, bias=True)\n",
       "            (q_proj): Linear(in_features=1024, out_features=1024, bias=True)\n",
       "            (out_proj): Linear(in_features=1024, out_features=1024, bias=True)\n",
       "          )\n",
       "          (dropout): Dropout(p=0.1, inplace=False)\n",
       "          (layer_norm): LayerNorm((1024,), eps=1e-05, elementwise_affine=True)\n",
       "          (feed_forward): Wav2Vec2FeedForward(\n",
       "            (intermediate_dropout): Dropout(p=0.0, inplace=False)\n",
       "            (intermediate_dense): Linear(in_features=1024, out_features=4096, bias=True)\n",
       "            (intermediate_act_fn): GELUActivation()\n",
       "            (output_dense): Linear(in_features=4096, out_features=1024, bias=True)\n",
       "            (output_dropout): Dropout(p=0.1, inplace=False)\n",
       "          )\n",
       "          (final_layer_norm): LayerNorm((1024,), eps=1e-05, elementwise_affine=True)\n",
       "        )\n",
       "        (6): Wav2Vec2EncoderLayerStableLayerNorm(\n",
       "          (attention): Wav2Vec2Attention(\n",
       "            (k_proj): Linear(in_features=1024, out_features=1024, bias=True)\n",
       "            (v_proj): Linear(in_features=1024, out_features=1024, bias=True)\n",
       "            (q_proj): Linear(in_features=1024, out_features=1024, bias=True)\n",
       "            (out_proj): Linear(in_features=1024, out_features=1024, bias=True)\n",
       "          )\n",
       "          (dropout): Dropout(p=0.1, inplace=False)\n",
       "          (layer_norm): LayerNorm((1024,), eps=1e-05, elementwise_affine=True)\n",
       "          (feed_forward): Wav2Vec2FeedForward(\n",
       "            (intermediate_dropout): Dropout(p=0.0, inplace=False)\n",
       "            (intermediate_dense): Linear(in_features=1024, out_features=4096, bias=True)\n",
       "            (intermediate_act_fn): GELUActivation()\n",
       "            (output_dense): Linear(in_features=4096, out_features=1024, bias=True)\n",
       "            (output_dropout): Dropout(p=0.1, inplace=False)\n",
       "          )\n",
       "          (final_layer_norm): LayerNorm((1024,), eps=1e-05, elementwise_affine=True)\n",
       "        )\n",
       "        (7): Wav2Vec2EncoderLayerStableLayerNorm(\n",
       "          (attention): Wav2Vec2Attention(\n",
       "            (k_proj): Linear(in_features=1024, out_features=1024, bias=True)\n",
       "            (v_proj): Linear(in_features=1024, out_features=1024, bias=True)\n",
       "            (q_proj): Linear(in_features=1024, out_features=1024, bias=True)\n",
       "            (out_proj): Linear(in_features=1024, out_features=1024, bias=True)\n",
       "          )\n",
       "          (dropout): Dropout(p=0.1, inplace=False)\n",
       "          (layer_norm): LayerNorm((1024,), eps=1e-05, elementwise_affine=True)\n",
       "          (feed_forward): Wav2Vec2FeedForward(\n",
       "            (intermediate_dropout): Dropout(p=0.0, inplace=False)\n",
       "            (intermediate_dense): Linear(in_features=1024, out_features=4096, bias=True)\n",
       "            (intermediate_act_fn): GELUActivation()\n",
       "            (output_dense): Linear(in_features=4096, out_features=1024, bias=True)\n",
       "            (output_dropout): Dropout(p=0.1, inplace=False)\n",
       "          )\n",
       "          (final_layer_norm): LayerNorm((1024,), eps=1e-05, elementwise_affine=True)\n",
       "        )\n",
       "        (8): Wav2Vec2EncoderLayerStableLayerNorm(\n",
       "          (attention): Wav2Vec2Attention(\n",
       "            (k_proj): Linear(in_features=1024, out_features=1024, bias=True)\n",
       "            (v_proj): Linear(in_features=1024, out_features=1024, bias=True)\n",
       "            (q_proj): Linear(in_features=1024, out_features=1024, bias=True)\n",
       "            (out_proj): Linear(in_features=1024, out_features=1024, bias=True)\n",
       "          )\n",
       "          (dropout): Dropout(p=0.1, inplace=False)\n",
       "          (layer_norm): LayerNorm((1024,), eps=1e-05, elementwise_affine=True)\n",
       "          (feed_forward): Wav2Vec2FeedForward(\n",
       "            (intermediate_dropout): Dropout(p=0.0, inplace=False)\n",
       "            (intermediate_dense): Linear(in_features=1024, out_features=4096, bias=True)\n",
       "            (intermediate_act_fn): GELUActivation()\n",
       "            (output_dense): Linear(in_features=4096, out_features=1024, bias=True)\n",
       "            (output_dropout): Dropout(p=0.1, inplace=False)\n",
       "          )\n",
       "          (final_layer_norm): LayerNorm((1024,), eps=1e-05, elementwise_affine=True)\n",
       "        )\n",
       "        (9): Wav2Vec2EncoderLayerStableLayerNorm(\n",
       "          (attention): Wav2Vec2Attention(\n",
       "            (k_proj): Linear(in_features=1024, out_features=1024, bias=True)\n",
       "            (v_proj): Linear(in_features=1024, out_features=1024, bias=True)\n",
       "            (q_proj): Linear(in_features=1024, out_features=1024, bias=True)\n",
       "            (out_proj): Linear(in_features=1024, out_features=1024, bias=True)\n",
       "          )\n",
       "          (dropout): Dropout(p=0.1, inplace=False)\n",
       "          (layer_norm): LayerNorm((1024,), eps=1e-05, elementwise_affine=True)\n",
       "          (feed_forward): Wav2Vec2FeedForward(\n",
       "            (intermediate_dropout): Dropout(p=0.0, inplace=False)\n",
       "            (intermediate_dense): Linear(in_features=1024, out_features=4096, bias=True)\n",
       "            (intermediate_act_fn): GELUActivation()\n",
       "            (output_dense): Linear(in_features=4096, out_features=1024, bias=True)\n",
       "            (output_dropout): Dropout(p=0.1, inplace=False)\n",
       "          )\n",
       "          (final_layer_norm): LayerNorm((1024,), eps=1e-05, elementwise_affine=True)\n",
       "        )\n",
       "        (10): Wav2Vec2EncoderLayerStableLayerNorm(\n",
       "          (attention): Wav2Vec2Attention(\n",
       "            (k_proj): Linear(in_features=1024, out_features=1024, bias=True)\n",
       "            (v_proj): Linear(in_features=1024, out_features=1024, bias=True)\n",
       "            (q_proj): Linear(in_features=1024, out_features=1024, bias=True)\n",
       "            (out_proj): Linear(in_features=1024, out_features=1024, bias=True)\n",
       "          )\n",
       "          (dropout): Dropout(p=0.1, inplace=False)\n",
       "          (layer_norm): LayerNorm((1024,), eps=1e-05, elementwise_affine=True)\n",
       "          (feed_forward): Wav2Vec2FeedForward(\n",
       "            (intermediate_dropout): Dropout(p=0.0, inplace=False)\n",
       "            (intermediate_dense): Linear(in_features=1024, out_features=4096, bias=True)\n",
       "            (intermediate_act_fn): GELUActivation()\n",
       "            (output_dense): Linear(in_features=4096, out_features=1024, bias=True)\n",
       "            (output_dropout): Dropout(p=0.1, inplace=False)\n",
       "          )\n",
       "          (final_layer_norm): LayerNorm((1024,), eps=1e-05, elementwise_affine=True)\n",
       "        )\n",
       "        (11): Wav2Vec2EncoderLayerStableLayerNorm(\n",
       "          (attention): Wav2Vec2Attention(\n",
       "            (k_proj): Linear(in_features=1024, out_features=1024, bias=True)\n",
       "            (v_proj): Linear(in_features=1024, out_features=1024, bias=True)\n",
       "            (q_proj): Linear(in_features=1024, out_features=1024, bias=True)\n",
       "            (out_proj): Linear(in_features=1024, out_features=1024, bias=True)\n",
       "          )\n",
       "          (dropout): Dropout(p=0.1, inplace=False)\n",
       "          (layer_norm): LayerNorm((1024,), eps=1e-05, elementwise_affine=True)\n",
       "          (feed_forward): Wav2Vec2FeedForward(\n",
       "            (intermediate_dropout): Dropout(p=0.0, inplace=False)\n",
       "            (intermediate_dense): Linear(in_features=1024, out_features=4096, bias=True)\n",
       "            (intermediate_act_fn): GELUActivation()\n",
       "            (output_dense): Linear(in_features=4096, out_features=1024, bias=True)\n",
       "            (output_dropout): Dropout(p=0.1, inplace=False)\n",
       "          )\n",
       "          (final_layer_norm): LayerNorm((1024,), eps=1e-05, elementwise_affine=True)\n",
       "        )\n",
       "        (12): Wav2Vec2EncoderLayerStableLayerNorm(\n",
       "          (attention): Wav2Vec2Attention(\n",
       "            (k_proj): Linear(in_features=1024, out_features=1024, bias=True)\n",
       "            (v_proj): Linear(in_features=1024, out_features=1024, bias=True)\n",
       "            (q_proj): Linear(in_features=1024, out_features=1024, bias=True)\n",
       "            (out_proj): Linear(in_features=1024, out_features=1024, bias=True)\n",
       "          )\n",
       "          (dropout): Dropout(p=0.1, inplace=False)\n",
       "          (layer_norm): LayerNorm((1024,), eps=1e-05, elementwise_affine=True)\n",
       "          (feed_forward): Wav2Vec2FeedForward(\n",
       "            (intermediate_dropout): Dropout(p=0.0, inplace=False)\n",
       "            (intermediate_dense): Linear(in_features=1024, out_features=4096, bias=True)\n",
       "            (intermediate_act_fn): GELUActivation()\n",
       "            (output_dense): Linear(in_features=4096, out_features=1024, bias=True)\n",
       "            (output_dropout): Dropout(p=0.1, inplace=False)\n",
       "          )\n",
       "          (final_layer_norm): LayerNorm((1024,), eps=1e-05, elementwise_affine=True)\n",
       "        )\n",
       "        (13): Wav2Vec2EncoderLayerStableLayerNorm(\n",
       "          (attention): Wav2Vec2Attention(\n",
       "            (k_proj): Linear(in_features=1024, out_features=1024, bias=True)\n",
       "            (v_proj): Linear(in_features=1024, out_features=1024, bias=True)\n",
       "            (q_proj): Linear(in_features=1024, out_features=1024, bias=True)\n",
       "            (out_proj): Linear(in_features=1024, out_features=1024, bias=True)\n",
       "          )\n",
       "          (dropout): Dropout(p=0.1, inplace=False)\n",
       "          (layer_norm): LayerNorm((1024,), eps=1e-05, elementwise_affine=True)\n",
       "          (feed_forward): Wav2Vec2FeedForward(\n",
       "            (intermediate_dropout): Dropout(p=0.0, inplace=False)\n",
       "            (intermediate_dense): Linear(in_features=1024, out_features=4096, bias=True)\n",
       "            (intermediate_act_fn): GELUActivation()\n",
       "            (output_dense): Linear(in_features=4096, out_features=1024, bias=True)\n",
       "            (output_dropout): Dropout(p=0.1, inplace=False)\n",
       "          )\n",
       "          (final_layer_norm): LayerNorm((1024,), eps=1e-05, elementwise_affine=True)\n",
       "        )\n",
       "        (14): Wav2Vec2EncoderLayerStableLayerNorm(\n",
       "          (attention): Wav2Vec2Attention(\n",
       "            (k_proj): Linear(in_features=1024, out_features=1024, bias=True)\n",
       "            (v_proj): Linear(in_features=1024, out_features=1024, bias=True)\n",
       "            (q_proj): Linear(in_features=1024, out_features=1024, bias=True)\n",
       "            (out_proj): Linear(in_features=1024, out_features=1024, bias=True)\n",
       "          )\n",
       "          (dropout): Dropout(p=0.1, inplace=False)\n",
       "          (layer_norm): LayerNorm((1024,), eps=1e-05, elementwise_affine=True)\n",
       "          (feed_forward): Wav2Vec2FeedForward(\n",
       "            (intermediate_dropout): Dropout(p=0.0, inplace=False)\n",
       "            (intermediate_dense): Linear(in_features=1024, out_features=4096, bias=True)\n",
       "            (intermediate_act_fn): GELUActivation()\n",
       "            (output_dense): Linear(in_features=4096, out_features=1024, bias=True)\n",
       "            (output_dropout): Dropout(p=0.1, inplace=False)\n",
       "          )\n",
       "          (final_layer_norm): LayerNorm((1024,), eps=1e-05, elementwise_affine=True)\n",
       "        )\n",
       "        (15): Wav2Vec2EncoderLayerStableLayerNorm(\n",
       "          (attention): Wav2Vec2Attention(\n",
       "            (k_proj): Linear(in_features=1024, out_features=1024, bias=True)\n",
       "            (v_proj): Linear(in_features=1024, out_features=1024, bias=True)\n",
       "            (q_proj): Linear(in_features=1024, out_features=1024, bias=True)\n",
       "            (out_proj): Linear(in_features=1024, out_features=1024, bias=True)\n",
       "          )\n",
       "          (dropout): Dropout(p=0.1, inplace=False)\n",
       "          (layer_norm): LayerNorm((1024,), eps=1e-05, elementwise_affine=True)\n",
       "          (feed_forward): Wav2Vec2FeedForward(\n",
       "            (intermediate_dropout): Dropout(p=0.0, inplace=False)\n",
       "            (intermediate_dense): Linear(in_features=1024, out_features=4096, bias=True)\n",
       "            (intermediate_act_fn): GELUActivation()\n",
       "            (output_dense): Linear(in_features=4096, out_features=1024, bias=True)\n",
       "            (output_dropout): Dropout(p=0.1, inplace=False)\n",
       "          )\n",
       "          (final_layer_norm): LayerNorm((1024,), eps=1e-05, elementwise_affine=True)\n",
       "        )\n",
       "        (16): Wav2Vec2EncoderLayerStableLayerNorm(\n",
       "          (attention): Wav2Vec2Attention(\n",
       "            (k_proj): Linear(in_features=1024, out_features=1024, bias=True)\n",
       "            (v_proj): Linear(in_features=1024, out_features=1024, bias=True)\n",
       "            (q_proj): Linear(in_features=1024, out_features=1024, bias=True)\n",
       "            (out_proj): Linear(in_features=1024, out_features=1024, bias=True)\n",
       "          )\n",
       "          (dropout): Dropout(p=0.1, inplace=False)\n",
       "          (layer_norm): LayerNorm((1024,), eps=1e-05, elementwise_affine=True)\n",
       "          (feed_forward): Wav2Vec2FeedForward(\n",
       "            (intermediate_dropout): Dropout(p=0.0, inplace=False)\n",
       "            (intermediate_dense): Linear(in_features=1024, out_features=4096, bias=True)\n",
       "            (intermediate_act_fn): GELUActivation()\n",
       "            (output_dense): Linear(in_features=4096, out_features=1024, bias=True)\n",
       "            (output_dropout): Dropout(p=0.1, inplace=False)\n",
       "          )\n",
       "          (final_layer_norm): LayerNorm((1024,), eps=1e-05, elementwise_affine=True)\n",
       "        )\n",
       "        (17): Wav2Vec2EncoderLayerStableLayerNorm(\n",
       "          (attention): Wav2Vec2Attention(\n",
       "            (k_proj): Linear(in_features=1024, out_features=1024, bias=True)\n",
       "            (v_proj): Linear(in_features=1024, out_features=1024, bias=True)\n",
       "            (q_proj): Linear(in_features=1024, out_features=1024, bias=True)\n",
       "            (out_proj): Linear(in_features=1024, out_features=1024, bias=True)\n",
       "          )\n",
       "          (dropout): Dropout(p=0.1, inplace=False)\n",
       "          (layer_norm): LayerNorm((1024,), eps=1e-05, elementwise_affine=True)\n",
       "          (feed_forward): Wav2Vec2FeedForward(\n",
       "            (intermediate_dropout): Dropout(p=0.0, inplace=False)\n",
       "            (intermediate_dense): Linear(in_features=1024, out_features=4096, bias=True)\n",
       "            (intermediate_act_fn): GELUActivation()\n",
       "            (output_dense): Linear(in_features=4096, out_features=1024, bias=True)\n",
       "            (output_dropout): Dropout(p=0.1, inplace=False)\n",
       "          )\n",
       "          (final_layer_norm): LayerNorm((1024,), eps=1e-05, elementwise_affine=True)\n",
       "        )\n",
       "        (18): Wav2Vec2EncoderLayerStableLayerNorm(\n",
       "          (attention): Wav2Vec2Attention(\n",
       "            (k_proj): Linear(in_features=1024, out_features=1024, bias=True)\n",
       "            (v_proj): Linear(in_features=1024, out_features=1024, bias=True)\n",
       "            (q_proj): Linear(in_features=1024, out_features=1024, bias=True)\n",
       "            (out_proj): Linear(in_features=1024, out_features=1024, bias=True)\n",
       "          )\n",
       "          (dropout): Dropout(p=0.1, inplace=False)\n",
       "          (layer_norm): LayerNorm((1024,), eps=1e-05, elementwise_affine=True)\n",
       "          (feed_forward): Wav2Vec2FeedForward(\n",
       "            (intermediate_dropout): Dropout(p=0.0, inplace=False)\n",
       "            (intermediate_dense): Linear(in_features=1024, out_features=4096, bias=True)\n",
       "            (intermediate_act_fn): GELUActivation()\n",
       "            (output_dense): Linear(in_features=4096, out_features=1024, bias=True)\n",
       "            (output_dropout): Dropout(p=0.1, inplace=False)\n",
       "          )\n",
       "          (final_layer_norm): LayerNorm((1024,), eps=1e-05, elementwise_affine=True)\n",
       "        )\n",
       "        (19): Wav2Vec2EncoderLayerStableLayerNorm(\n",
       "          (attention): Wav2Vec2Attention(\n",
       "            (k_proj): Linear(in_features=1024, out_features=1024, bias=True)\n",
       "            (v_proj): Linear(in_features=1024, out_features=1024, bias=True)\n",
       "            (q_proj): Linear(in_features=1024, out_features=1024, bias=True)\n",
       "            (out_proj): Linear(in_features=1024, out_features=1024, bias=True)\n",
       "          )\n",
       "          (dropout): Dropout(p=0.1, inplace=False)\n",
       "          (layer_norm): LayerNorm((1024,), eps=1e-05, elementwise_affine=True)\n",
       "          (feed_forward): Wav2Vec2FeedForward(\n",
       "            (intermediate_dropout): Dropout(p=0.0, inplace=False)\n",
       "            (intermediate_dense): Linear(in_features=1024, out_features=4096, bias=True)\n",
       "            (intermediate_act_fn): GELUActivation()\n",
       "            (output_dense): Linear(in_features=4096, out_features=1024, bias=True)\n",
       "            (output_dropout): Dropout(p=0.1, inplace=False)\n",
       "          )\n",
       "          (final_layer_norm): LayerNorm((1024,), eps=1e-05, elementwise_affine=True)\n",
       "        )\n",
       "        (20): Wav2Vec2EncoderLayerStableLayerNorm(\n",
       "          (attention): Wav2Vec2Attention(\n",
       "            (k_proj): Linear(in_features=1024, out_features=1024, bias=True)\n",
       "            (v_proj): Linear(in_features=1024, out_features=1024, bias=True)\n",
       "            (q_proj): Linear(in_features=1024, out_features=1024, bias=True)\n",
       "            (out_proj): Linear(in_features=1024, out_features=1024, bias=True)\n",
       "          )\n",
       "          (dropout): Dropout(p=0.1, inplace=False)\n",
       "          (layer_norm): LayerNorm((1024,), eps=1e-05, elementwise_affine=True)\n",
       "          (feed_forward): Wav2Vec2FeedForward(\n",
       "            (intermediate_dropout): Dropout(p=0.0, inplace=False)\n",
       "            (intermediate_dense): Linear(in_features=1024, out_features=4096, bias=True)\n",
       "            (intermediate_act_fn): GELUActivation()\n",
       "            (output_dense): Linear(in_features=4096, out_features=1024, bias=True)\n",
       "            (output_dropout): Dropout(p=0.1, inplace=False)\n",
       "          )\n",
       "          (final_layer_norm): LayerNorm((1024,), eps=1e-05, elementwise_affine=True)\n",
       "        )\n",
       "        (21): Wav2Vec2EncoderLayerStableLayerNorm(\n",
       "          (attention): Wav2Vec2Attention(\n",
       "            (k_proj): Linear(in_features=1024, out_features=1024, bias=True)\n",
       "            (v_proj): Linear(in_features=1024, out_features=1024, bias=True)\n",
       "            (q_proj): Linear(in_features=1024, out_features=1024, bias=True)\n",
       "            (out_proj): Linear(in_features=1024, out_features=1024, bias=True)\n",
       "          )\n",
       "          (dropout): Dropout(p=0.1, inplace=False)\n",
       "          (layer_norm): LayerNorm((1024,), eps=1e-05, elementwise_affine=True)\n",
       "          (feed_forward): Wav2Vec2FeedForward(\n",
       "            (intermediate_dropout): Dropout(p=0.0, inplace=False)\n",
       "            (intermediate_dense): Linear(in_features=1024, out_features=4096, bias=True)\n",
       "            (intermediate_act_fn): GELUActivation()\n",
       "            (output_dense): Linear(in_features=4096, out_features=1024, bias=True)\n",
       "            (output_dropout): Dropout(p=0.1, inplace=False)\n",
       "          )\n",
       "          (final_layer_norm): LayerNorm((1024,), eps=1e-05, elementwise_affine=True)\n",
       "        )\n",
       "        (22): Wav2Vec2EncoderLayerStableLayerNorm(\n",
       "          (attention): Wav2Vec2Attention(\n",
       "            (k_proj): Linear(in_features=1024, out_features=1024, bias=True)\n",
       "            (v_proj): Linear(in_features=1024, out_features=1024, bias=True)\n",
       "            (q_proj): Linear(in_features=1024, out_features=1024, bias=True)\n",
       "            (out_proj): Linear(in_features=1024, out_features=1024, bias=True)\n",
       "          )\n",
       "          (dropout): Dropout(p=0.1, inplace=False)\n",
       "          (layer_norm): LayerNorm((1024,), eps=1e-05, elementwise_affine=True)\n",
       "          (feed_forward): Wav2Vec2FeedForward(\n",
       "            (intermediate_dropout): Dropout(p=0.0, inplace=False)\n",
       "            (intermediate_dense): Linear(in_features=1024, out_features=4096, bias=True)\n",
       "            (intermediate_act_fn): GELUActivation()\n",
       "            (output_dense): Linear(in_features=4096, out_features=1024, bias=True)\n",
       "            (output_dropout): Dropout(p=0.1, inplace=False)\n",
       "          )\n",
       "          (final_layer_norm): LayerNorm((1024,), eps=1e-05, elementwise_affine=True)\n",
       "        )\n",
       "        (23): Wav2Vec2EncoderLayerStableLayerNorm(\n",
       "          (attention): Wav2Vec2Attention(\n",
       "            (k_proj): Linear(in_features=1024, out_features=1024, bias=True)\n",
       "            (v_proj): Linear(in_features=1024, out_features=1024, bias=True)\n",
       "            (q_proj): Linear(in_features=1024, out_features=1024, bias=True)\n",
       "            (out_proj): Linear(in_features=1024, out_features=1024, bias=True)\n",
       "          )\n",
       "          (dropout): Dropout(p=0.1, inplace=False)\n",
       "          (layer_norm): LayerNorm((1024,), eps=1e-05, elementwise_affine=True)\n",
       "          (feed_forward): Wav2Vec2FeedForward(\n",
       "            (intermediate_dropout): Dropout(p=0.0, inplace=False)\n",
       "            (intermediate_dense): Linear(in_features=1024, out_features=4096, bias=True)\n",
       "            (intermediate_act_fn): GELUActivation()\n",
       "            (output_dense): Linear(in_features=4096, out_features=1024, bias=True)\n",
       "            (output_dropout): Dropout(p=0.1, inplace=False)\n",
       "          )\n",
       "          (final_layer_norm): LayerNorm((1024,), eps=1e-05, elementwise_affine=True)\n",
       "        )\n",
       "      )\n",
       "    )\n",
       "  )\n",
       "  (dropout): Dropout(p=0.0, inplace=False)\n",
       "  (lm_head): Linear(in_features=1024, out_features=44, bias=True)\n",
       ")"
      ]
     },
     "execution_count": 45,
     "metadata": {},
     "output_type": "execute_result"
    }
   ],
   "source": [
    "model"
   ]
  },
  {
   "cell_type": "code",
   "execution_count": 46,
   "metadata": {
    "execution": {
     "iopub.execute_input": "2024-03-21T19:20:33.079283Z",
     "iopub.status.busy": "2024-03-21T19:20:33.078729Z",
     "iopub.status.idle": "2024-03-21T19:20:33.088248Z",
     "shell.execute_reply": "2024-03-21T19:20:33.087251Z",
     "shell.execute_reply.started": "2024-03-21T19:20:33.079227Z"
    },
    "trusted": true
   },
   "outputs": [],
   "source": [
    "model.freeze_feature_encoder()"
   ]
  },
  {
   "cell_type": "markdown",
   "metadata": {},
   "source": [
    "## Training"
   ]
  },
  {
   "cell_type": "code",
   "execution_count": 47,
   "metadata": {
    "trusted": true
   },
   "outputs": [
    {
     "name": "stderr",
     "output_type": "stream",
     "text": [
      "\u001b[34m\u001b[1mwandb\u001b[0m: W&B API key is configured. Use \u001b[1m`wandb login --relogin`\u001b[0m to force relogin\n",
      "\u001b[34m\u001b[1mwandb\u001b[0m: \u001b[33mWARNING\u001b[0m If you're specifying your api key in code, ensure this code is not shared publicly.\n",
      "\u001b[34m\u001b[1mwandb\u001b[0m: \u001b[33mWARNING\u001b[0m Consider setting the WANDB_API_KEY environment variable, or running `wandb login` from the command line.\n",
      "\u001b[34m\u001b[1mwandb\u001b[0m: Appending key for api.wandb.ai to your netrc file: /root/.netrc\n",
      "\u001b[34m\u001b[1mwandb\u001b[0m: Currently logged in as: \u001b[33mivanbashtovyi1\u001b[0m (\u001b[33mIASA-BA-Diploma-Ivan-Bashtovyi\u001b[0m). Use \u001b[1m`wandb login --relogin`\u001b[0m to force relogin\n"
     ]
    },
    {
     "data": {
      "text/html": [
       "wandb version 0.19.9 is available!  To upgrade, please run:\n",
       " $ pip install wandb --upgrade"
      ],
      "text/plain": [
       "<IPython.core.display.HTML object>"
      ]
     },
     "metadata": {},
     "output_type": "display_data"
    },
    {
     "data": {
      "text/html": [
       "Tracking run with wandb version 0.12.16"
      ],
      "text/plain": [
       "<IPython.core.display.HTML object>"
      ]
     },
     "metadata": {},
     "output_type": "display_data"
    },
    {
     "data": {
      "text/html": [
       "Run data is saved locally in <code>/kaggle/working/wandb/run-20250403_105632-13nw363i</code>"
      ],
      "text/plain": [
       "<IPython.core.display.HTML object>"
      ]
     },
     "metadata": {},
     "output_type": "display_data"
    },
    {
     "data": {
      "text/html": [
       "Syncing run <strong><a href=\"https://wandb.ai/IASA-BA-Diploma-Ivan-Bashtovyi/iasa-ucu-audio-processing/runs/13nw363i\" target=\"_blank\">wav2vec_test</a></strong> to <a href=\"https://wandb.ai/IASA-BA-Diploma-Ivan-Bashtovyi/iasa-ucu-audio-processing\" target=\"_blank\">Weights & Biases</a> (<a href=\"https://wandb.me/run\" target=\"_blank\">docs</a>)<br/>"
      ],
      "text/plain": [
       "<IPython.core.display.HTML object>"
      ]
     },
     "metadata": {},
     "output_type": "display_data"
    },
    {
     "data": {
      "text/html": [
       "<button onClick=\"this.nextSibling.style.display='block';this.style.display='none';\">Display W&B run</button><iframe src=\"https://wandb.ai/IASA-BA-Diploma-Ivan-Bashtovyi/iasa-ucu-audio-processing/runs/13nw363i?jupyter=true\" style=\"border:none;width:100%;height:420px;display:none;\"></iframe>"
      ],
      "text/plain": [
       "<wandb.sdk.wandb_run.Run at 0x7f35c1a23dd0>"
      ]
     },
     "execution_count": 47,
     "metadata": {},
     "output_type": "execute_result"
    }
   ],
   "source": [
    "import wandb\n",
    "wandb.login(key=WANDB_KEY)\n",
    "\n",
    "# Initialize with team/entity\n",
    "wandb.init(\n",
    "    project=\"iasa-ucu-audio-processing\",\n",
    "    entity=\"IASA-BA-Diploma-Ivan-Bashtovyi\", \n",
    "    name='wav2vec_test',\n",
    "    settings=wandb.Settings(init_timeout=180) \n",
    ")"
   ]
  },
  {
   "cell_type": "code",
   "execution_count": 48,
   "metadata": {
    "execution": {
     "iopub.execute_input": "2024-03-21T19:20:55.557575Z",
     "iopub.status.busy": "2024-03-21T19:20:55.557249Z",
     "iopub.status.idle": "2024-03-21T19:20:55.57145Z",
     "shell.execute_reply": "2024-03-21T19:20:55.570427Z",
     "shell.execute_reply.started": "2024-03-21T19:20:55.557529Z"
    },
    "trusted": true
   },
   "outputs": [],
   "source": [
    "from transformers import TrainingArguments\n",
    "\n",
    "training_args = TrainingArguments(\n",
    "    output_dir='/kaggle/working/',\n",
    "    group_by_length=True,\n",
    "    per_device_train_batch_size=16,\n",
    "    gradient_accumulation_steps=1,\n",
    "    evaluation_strategy=\"steps\",\n",
    "    gradient_checkpointing=True,\n",
    "    fp16=True,\n",
    "    max_steps=300,\n",
    "    save_steps=100,\n",
    "    eval_steps=100,\n",
    "    logging_steps=20,\n",
    "    learning_rate=1e-4,\n",
    "    warmup_steps=20,\n",
    "    save_total_limit=3,\n",
    "    load_best_model_at_end=True\n",
    ")"
   ]
  },
  {
   "cell_type": "code",
   "execution_count": 49,
   "metadata": {
    "execution": {
     "iopub.execute_input": "2024-03-21T19:20:56.602607Z",
     "iopub.status.busy": "2024-03-21T19:20:56.601719Z",
     "iopub.status.idle": "2024-03-21T19:20:56.620415Z",
     "shell.execute_reply": "2024-03-21T19:20:56.619362Z",
     "shell.execute_reply.started": "2024-03-21T19:20:56.602566Z"
    },
    "trusted": true
   },
   "outputs": [
    {
     "name": "stderr",
     "output_type": "stream",
     "text": [
      "max_steps is given, it will override any value given in num_train_epochs\n",
      "Using amp half precision backend\n"
     ]
    }
   ],
   "source": [
    "from transformers import Trainer\n",
    "\n",
    "trainer = Trainer(\n",
    "    model=model,\n",
    "    data_collator=data_collator,\n",
    "    args=training_args,\n",
    "    compute_metrics=compute_metrics,\n",
    "    train_dataset=train_dataset,\n",
    "    eval_dataset=valid_dataset,\n",
    "    tokenizer=processor.feature_extractor\n",
    ")"
   ]
  },
  {
   "cell_type": "code",
   "execution_count": 50,
   "metadata": {
    "execution": {
     "iopub.execute_input": "2024-03-21T19:21:06.520432Z",
     "iopub.status.busy": "2024-03-21T19:21:06.520106Z",
     "iopub.status.idle": "2024-03-21T19:31:57.82814Z",
     "shell.execute_reply": "2024-03-21T19:31:57.826777Z",
     "shell.execute_reply.started": "2024-03-21T19:21:06.520399Z"
    },
    "trusted": true
   },
   "outputs": [
    {
     "name": "stderr",
     "output_type": "stream",
     "text": [
      "The following columns in the training set  don't have a corresponding argument in `Wav2Vec2ForCTC.forward` and have been ignored: text, phonetic, audio, input_length. If text, phonetic, audio, input_length are not expected by `Wav2Vec2ForCTC.forward`,  you can safely ignore this message.\n",
      "/opt/conda/lib/python3.7/site-packages/transformers/optimization.py:309: FutureWarning: This implementation of AdamW is deprecated and will be removed in a future version. Use the PyTorch implementation torch.optim.AdamW instead, or set `no_deprecation_warning=True` to disable this warning\n",
      "  FutureWarning,\n",
      "***** Running training *****\n",
      "  Num examples = 1440\n",
      "  Num Epochs = 4\n",
      "  Instantaneous batch size per device = 16\n",
      "  Total train batch size (w. parallel, distributed & accumulation) = 16\n",
      "  Gradient Accumulation steps = 1\n",
      "  Total optimization steps = 300\n",
      "Automatic Weights & Biases logging enabled, to disable set os.environ[\"WANDB_DISABLED\"] = \"true\"\n"
     ]
    },
    {
     "data": {
      "text/html": [
       "\n",
       "    <div>\n",
       "      \n",
       "      <progress value='300' max='300' style='width:300px; height:20px; vertical-align: middle;'></progress>\n",
       "      [300/300 09:25, Epoch 3/4]\n",
       "    </div>\n",
       "    <table border=\"1\" class=\"dataframe\">\n",
       "  <thead>\n",
       " <tr style=\"text-align: left;\">\n",
       "      <th>Step</th>\n",
       "      <th>Training Loss</th>\n",
       "      <th>Validation Loss</th>\n",
       "      <th>Cer</th>\n",
       "    </tr>\n",
       "  </thead>\n",
       "  <tbody>\n",
       "    <tr>\n",
       "      <td>100</td>\n",
       "      <td>3.340700</td>\n",
       "      <td>3.309423</td>\n",
       "      <td>1.000000</td>\n",
       "    </tr>\n",
       "    <tr>\n",
       "      <td>200</td>\n",
       "      <td>3.135500</td>\n",
       "      <td>3.063251</td>\n",
       "      <td>0.738506</td>\n",
       "    </tr>\n",
       "    <tr>\n",
       "      <td>300</td>\n",
       "      <td>2.878100</td>\n",
       "      <td>2.774864</td>\n",
       "      <td>0.733172</td>\n",
       "    </tr>\n",
       "  </tbody>\n",
       "</table><p>"
      ],
      "text/plain": [
       "<IPython.core.display.HTML object>"
      ]
     },
     "metadata": {},
     "output_type": "display_data"
    },
    {
     "name": "stderr",
     "output_type": "stream",
     "text": [
      "The following columns in the evaluation set  don't have a corresponding argument in `Wav2Vec2ForCTC.forward` and have been ignored: text, phonetic, audio, input_length. If text, phonetic, audio, input_length are not expected by `Wav2Vec2ForCTC.forward`,  you can safely ignore this message.\n",
      "***** Running Evaluation *****\n",
      "  Num examples = 240\n",
      "  Batch size = 8\n"
     ]
    },
    {
     "name": "stdout",
     "output_type": "stream",
     "text": [
      "Predicted sample \n",
      "GT sample h#shiyhhaeh#jherh#daarh#k suwh#th#ihnh#g riysiywaashh#waadxerh#aal yiherh#\n"
     ]
    },
    {
     "name": "stderr",
     "output_type": "stream",
     "text": [
      "Saving model checkpoint to /kaggle/working/checkpoint-100\n",
      "Configuration saved in /kaggle/working/checkpoint-100/config.json\n",
      "Model weights saved in /kaggle/working/checkpoint-100/pytorch_model.bin\n",
      "Feature extractor saved in /kaggle/working/checkpoint-100/preprocessor_config.json\n",
      "The following columns in the evaluation set  don't have a corresponding argument in `Wav2Vec2ForCTC.forward` and have been ignored: text, phonetic, audio, input_length. If text, phonetic, audio, input_length are not expected by `Wav2Vec2ForCTC.forward`,  you can safely ignore this message.\n",
      "***** Running Evaluation *****\n",
      "  Num examples = 240\n",
      "  Batch size = 8\n"
     ]
    },
    {
     "name": "stdout",
     "output_type": "stream",
     "text": [
      "Predicted sample h#h#h#h#h#h#h#h#h#h#h#\n",
      "GT sample h#shiyhhaeh#jherh#daarh#k suwh#th#ihnh#g riysiywaashh#waadxerh#aal yiherh#\n"
     ]
    },
    {
     "name": "stderr",
     "output_type": "stream",
     "text": [
      "Saving model checkpoint to /kaggle/working/checkpoint-200\n",
      "Configuration saved in /kaggle/working/checkpoint-200/config.json\n",
      "Model weights saved in /kaggle/working/checkpoint-200/pytorch_model.bin\n",
      "Feature extractor saved in /kaggle/working/checkpoint-200/preprocessor_config.json\n",
      "The following columns in the evaluation set  don't have a corresponding argument in `Wav2Vec2ForCTC.forward` and have been ignored: text, phonetic, audio, input_length. If text, phonetic, audio, input_length are not expected by `Wav2Vec2ForCTC.forward`,  you can safely ignore this message.\n",
      "***** Running Evaluation *****\n",
      "  Num examples = 240\n",
      "  Batch size = 8\n"
     ]
    },
    {
     "name": "stdout",
     "output_type": "stream",
     "text": [
      "Predicted sample h#h#kh#kh#kh#kh#h#kh#h#kh#h#h#\n",
      "GT sample h#shiyhhaeh#jherh#daarh#k suwh#th#ihnh#g riysiywaashh#waadxerh#aal yiherh#\n"
     ]
    },
    {
     "name": "stderr",
     "output_type": "stream",
     "text": [
      "Saving model checkpoint to /kaggle/working/checkpoint-300\n",
      "Configuration saved in /kaggle/working/checkpoint-300/config.json\n",
      "Model weights saved in /kaggle/working/checkpoint-300/pytorch_model.bin\n",
      "Feature extractor saved in /kaggle/working/checkpoint-300/preprocessor_config.json\n",
      "\n",
      "\n",
      "Training completed. Do not forget to share your model on huggingface.co/models =)\n",
      "\n",
      "\n",
      "Loading best model from /kaggle/working/checkpoint-300 (score: 2.7748637199401855).\n"
     ]
    },
    {
     "data": {
      "text/plain": [
       "TrainOutput(global_step=300, training_loss=3.7857476170857747, metrics={'train_runtime': 575.6972, 'train_samples_per_second': 8.338, 'train_steps_per_second': 0.521, 'total_flos': 4.7240475528876096e+17, 'train_loss': 3.7857476170857747, 'epoch': 3.33})"
      ]
     },
     "execution_count": 50,
     "metadata": {},
     "output_type": "execute_result"
    }
   ],
   "source": [
    "trainer.train()"
   ]
  },
  {
   "cell_type": "markdown",
   "metadata": {},
   "source": [
    "## Evaluate on Test Set"
   ]
  },
  {
   "cell_type": "code",
   "execution_count": 51,
   "metadata": {
    "execution": {
     "iopub.execute_input": "2024-03-21T19:32:01.60285Z",
     "iopub.status.busy": "2024-03-21T19:32:01.602481Z",
     "iopub.status.idle": "2024-03-21T19:32:26.613789Z",
     "shell.execute_reply": "2024-03-21T19:32:26.61288Z",
     "shell.execute_reply.started": "2024-03-21T19:32:01.602797Z"
    },
    "trusted": true
   },
   "outputs": [
    {
     "name": "stderr",
     "output_type": "stream",
     "text": [
      "The following columns in the evaluation set  don't have a corresponding argument in `Wav2Vec2ForCTC.forward` and have been ignored: text, phonetic, audio, input_length. If text, phonetic, audio, input_length are not expected by `Wav2Vec2ForCTC.forward`,  you can safely ignore this message.\n",
      "***** Running Evaluation *****\n",
      "  Num examples = 1680\n",
      "  Batch size = 8\n"
     ]
    },
    {
     "data": {
      "text/html": [
       "\n",
       "    <div>\n",
       "      \n",
       "      <progress value='210' max='210' style='width:300px; height:20px; vertical-align: middle;'></progress>\n",
       "      [210/210 01:37]\n",
       "    </div>\n",
       "    "
      ],
      "text/plain": [
       "<IPython.core.display.HTML object>"
      ]
     },
     "metadata": {},
     "output_type": "display_data"
    },
    {
     "name": "stdout",
     "output_type": "stream",
     "text": [
      "Predicted sample h#h#kh#kh#kh#h#h#h#\n",
      "GT sample h#shiyhhaeh#d yerh#daarh#k suwdxihngh#g riysiywaashh#waadxerh#aal yiyerh#\n"
     ]
    },
    {
     "data": {
      "text/plain": [
       "{'eval_loss': 2.797461986541748,\n",
       " 'eval_cer': 0.740346805904725,\n",
       " 'eval_runtime': 99.0639,\n",
       " 'eval_samples_per_second': 16.959,\n",
       " 'eval_steps_per_second': 2.12,\n",
       " 'epoch': 3.33}"
      ]
     },
     "execution_count": 51,
     "metadata": {},
     "output_type": "execute_result"
    }
   ],
   "source": [
    "trainer.evaluate(test_dataset)"
   ]
  },
  {
   "cell_type": "code",
   "execution_count": null,
   "metadata": {
    "execution": {
     "iopub.execute_input": "2024-03-21T19:32:30.677713Z",
     "iopub.status.busy": "2024-03-21T19:32:30.677409Z",
     "iopub.status.idle": "2024-03-21T19:33:45.446454Z",
     "shell.execute_reply": "2024-03-21T19:33:45.444689Z",
     "shell.execute_reply.started": "2024-03-21T19:32:30.677678Z"
    },
    "trusted": true
   },
   "outputs": [],
   "source": [
    "# trainer.evaluate(train_dataset)"
   ]
  },
  {
   "cell_type": "markdown",
   "metadata": {},
   "source": [
    "## Save Model"
   ]
  },
  {
   "cell_type": "code",
   "execution_count": null,
   "metadata": {},
   "outputs": [],
   "source": [
    "# save locally\n",
    "# trainer.save_model()"
   ]
  },
  {
   "cell_type": "code",
   "execution_count": null,
   "metadata": {},
   "outputs": [],
   "source": [
    "# trainer.push_to_hub(repo_name=\"vitouphy/wav2vec2-xls-r-300m-phoneme\")"
   ]
  },
  {
   "cell_type": "code",
   "execution_count": null,
   "metadata": {},
   "outputs": [],
   "source": [
    "# tokenizer.push_to_hub('vitouphy/xls-r-300m-km')\n",
    "# model.push_to_hub(repo_path_or_name='vitouphy/wav2vec2-xls-r-300m-phoneme')"
   ]
  },
  {
   "cell_type": "markdown",
   "metadata": {},
   "source": [
    "# Error Analysis"
   ]
  },
  {
   "cell_type": "markdown",
   "metadata": {},
   "source": [
    "## Closer Look at Test Set\n",
    "Let's run the prediction on the test one more time."
   ]
  },
  {
   "cell_type": "code",
   "execution_count": null,
   "metadata": {
    "execution": {
     "iopub.execute_input": "2024-03-21T19:33:51.737716Z",
     "iopub.status.busy": "2024-03-21T19:33:51.73736Z",
     "iopub.status.idle": "2024-03-21T19:33:51.748009Z",
     "shell.execute_reply": "2024-03-21T19:33:51.747028Z",
     "shell.execute_reply.started": "2024-03-21T19:33:51.737679Z"
    },
    "trusted": true
   },
   "outputs": [],
   "source": [
    "import Levenshtein\n",
    "from typing import Tuple"
   ]
  },
  {
   "cell_type": "code",
   "execution_count": null,
   "metadata": {
    "execution": {
     "iopub.execute_input": "2024-03-21T19:33:52.255881Z",
     "iopub.status.busy": "2024-03-21T19:33:52.255549Z",
     "iopub.status.idle": "2024-03-21T19:33:52.272472Z",
     "shell.execute_reply": "2024-03-21T19:33:52.271373Z",
     "shell.execute_reply.started": "2024-03-21T19:33:52.255845Z"
    },
    "trusted": true
   },
   "outputs": [],
   "source": [
    "PAD_ID = tokenizer.encode(\"[PAD]\")[0]\n",
    "EMPTY_ID = tokenizer.encode(\" \")[0]\n",
    "\n",
    "def collapse_tokens(tokens: List[Union[str, int]]) -> List[Union[str, int]]:\n",
    "    prev_token = None\n",
    "    out = []\n",
    "    for token in tokens:\n",
    "        if token != prev_token and prev_token is not None:\n",
    "            out.append(prev_token)\n",
    "        prev_token = token\n",
    "    return out\n",
    "\n",
    "def clean_token_ids(token_ids: List[int]) -> List[int]:\n",
    "    \"\"\"\n",
    "    Remove [PAD] and collapse duplicated token_ids\n",
    "    \"\"\"\n",
    "    token_ids = [x for x in token_ids if x not in [PAD_ID, EMPTY_ID]]\n",
    "    token_ids = collapse_tokens(token_ids)\n",
    "    return token_ids\n",
    "\n",
    "def decode_operations(predicted_chr: str, label_chr: str, editops: List[Tuple[str, int, int]]) -> List[Tuple[str, str, str]]:\n",
    "    ops = []\n",
    "    for editop in editops:\n",
    "        op, pred_idx, label_idx = editop\n",
    "        \n",
    "        if op == \"insert\":\n",
    "            label_token = tokenizer.decode(ord(label_chr[label_idx]), group_tokens=False)\n",
    "            ops.append((op, label_token, label_token))\n",
    "        elif op == \"delete\":\n",
    "            pred_token = tokenizer.decode(ord(predicted_chr[pred_idx]), group_tokens=False)\n",
    "            ops.append((op, pred_token, pred_token))\n",
    "        else:\n",
    "            label_token = tokenizer.decode(ord(label_chr[label_idx]), group_tokens=False)\n",
    "            pred_token = tokenizer.decode(ord(predicted_chr[pred_idx]), group_tokens=False)\n",
    "            ops.append((op, pred_token, label_token))\n",
    "            \n",
    "    return ops"
   ]
  },
  {
   "cell_type": "code",
   "execution_count": null,
   "metadata": {
    "execution": {
     "iopub.execute_input": "2024-03-21T19:34:19.17931Z",
     "iopub.status.busy": "2024-03-21T19:34:19.178977Z",
     "iopub.status.idle": "2024-03-21T19:34:45.260422Z",
     "shell.execute_reply": "2024-03-21T19:34:45.259472Z",
     "shell.execute_reply.started": "2024-03-21T19:34:19.179272Z"
    },
    "trusted": true
   },
   "outputs": [],
   "source": [
    "result = []\n",
    "for x in tqdm(test_dataset):\n",
    "    example_id = \"/\".join(x['audio']['path'].split('/')[5:])\n",
    "    input_values = torch.Tensor(x['input_values']).unsqueeze(0).to('cuda')\n",
    "    label_ids = torch.Tensor(x['labels']).unsqueeze(0).to('cuda')\n",
    "    \n",
    "    with torch.no_grad():\n",
    "        logits = model(input_values).logits\n",
    "        predicted_ids = torch.argmax(logits, dim=-1)\n",
    "        \n",
    "        # Convert ID to Char because Levenstein library operates on char level\n",
    "        predicted_ids = clean_token_ids(predicted_ids[0].tolist())\n",
    "        predicted_str = tokenizer.decode(predicted_ids, group_tokens=False)\n",
    "        predicted_chr = \"\".join([chr(x) for x in predicted_ids])\n",
    "        \n",
    "        label_ids = clean_token_ids(label_ids[0].int().tolist())\n",
    "        label_str = tokenizer.decode(label_ids, group_tokens=False)\n",
    "        label_chr = \"\".join([chr(x) for x in label_ids])\n",
    "        \n",
    "        # Compute CER (character-error rate). Each character is IPA character\n",
    "        cer_score = cer_metric.compute(predictions=[predicted_chr], references=[label_chr])\n",
    "\n",
    "        # Observe the operations like insertion, deletion and substitution\n",
    "        editops = Levenshtein.editops(predicted_chr, label_chr)\n",
    "        editops = decode_operations(predicted_chr, label_chr, editops)\n",
    "        \n",
    "        result.append((example_id, predicted_str, label_str, editops, cer_score))"
   ]
  },
  {
   "cell_type": "code",
   "execution_count": null,
   "metadata": {
    "execution": {
     "iopub.execute_input": "2024-03-21T19:34:46.197964Z",
     "iopub.status.busy": "2024-03-21T19:34:46.197663Z",
     "iopub.status.idle": "2024-03-21T19:34:46.204044Z",
     "shell.execute_reply": "2024-03-21T19:34:46.20309Z",
     "shell.execute_reply.started": "2024-03-21T19:34:46.197931Z"
    },
    "trusted": true
   },
   "outputs": [],
   "source": [
    "# Recalculate CER store for Test Set\n",
    "total_cer = 0\n",
    "for entry in result:\n",
    "    total_cer += entry[-1]\n",
    "print(f\"Avg CER score: {total_cer / len(result)}\")"
   ]
  },
  {
   "cell_type": "markdown",
   "metadata": {},
   "source": [
    "## Visualization Insertion/Deletion"
   ]
  },
  {
   "cell_type": "code",
   "execution_count": null,
   "metadata": {
    "execution": {
     "iopub.execute_input": "2024-03-21T19:34:47.428773Z",
     "iopub.status.busy": "2024-03-21T19:34:47.427904Z",
     "iopub.status.idle": "2024-03-21T19:34:47.435091Z",
     "shell.execute_reply": "2024-03-21T19:34:47.434242Z",
     "shell.execute_reply.started": "2024-03-21T19:34:47.428725Z"
    },
    "trusted": true
   },
   "outputs": [],
   "source": [
    "result[0]"
   ]
  },
  {
   "cell_type": "code",
   "execution_count": null,
   "metadata": {
    "execution": {
     "iopub.execute_input": "2024-03-21T19:35:04.190422Z",
     "iopub.status.busy": "2024-03-21T19:35:04.189809Z",
     "iopub.status.idle": "2024-03-21T19:35:04.198317Z",
     "shell.execute_reply": "2024-03-21T19:35:04.197365Z",
     "shell.execute_reply.started": "2024-03-21T19:35:04.190379Z"
    },
    "trusted": true
   },
   "outputs": [],
   "source": [
    "insertions = []\n",
    "deletions = []\n",
    "replaces = []\n",
    "\n",
    "for entry in result:\n",
    "    editops = entry[3]\n",
    "    for op, pred_token, label_token in editops:\n",
    "        if op == \"insert\":\n",
    "            insertions.append(label_token)\n",
    "        elif op == \"delete\":\n",
    "            deletions.append(pred_token)\n",
    "        else:\n",
    "            replaces.append((pred_token, label_token))"
   ]
  },
  {
   "cell_type": "code",
   "execution_count": null,
   "metadata": {
    "execution": {
     "iopub.execute_input": "2024-03-21T19:35:05.237655Z",
     "iopub.status.busy": "2024-03-21T19:35:05.237351Z",
     "iopub.status.idle": "2024-03-21T19:35:05.24395Z",
     "shell.execute_reply": "2024-03-21T19:35:05.242994Z",
     "shell.execute_reply.started": "2024-03-21T19:35:05.23762Z"
    },
    "trusted": true
   },
   "outputs": [],
   "source": [
    "insert_freqs = {x: 0 for x in set(insertions)}\n",
    "for insert_token in insertions:\n",
    "    insert_freqs[insert_token] += 1\n",
    "    \n",
    "delete_freqs = {x: 0 for x in set(deletions)}\n",
    "for delete_token in deletions:\n",
    "    delete_freqs[delete_token] += 1"
   ]
  },
  {
   "cell_type": "code",
   "execution_count": null,
   "metadata": {
    "execution": {
     "iopub.execute_input": "2024-03-21T19:35:06.105978Z",
     "iopub.status.busy": "2024-03-21T19:35:06.105141Z",
     "iopub.status.idle": "2024-03-21T19:35:06.936784Z",
     "shell.execute_reply": "2024-03-21T19:35:06.935905Z",
     "shell.execute_reply.started": "2024-03-21T19:35:06.105931Z"
    },
    "trusted": true
   },
   "outputs": [],
   "source": [
    "plt.figure(figsize=(30,5))\n",
    "\n",
    "plt.subplot(1,3,1)\n",
    "plt.bar(insert_freqs.keys(), insert_freqs.values())\n",
    "plt.title('Insertion (Model is missing tokens)')\n",
    "\n",
    "plt.subplot(1,3,2)\n",
    "plt.bar(delete_freqs.keys(), delete_freqs.values())\n",
    "plt.title('Delete (Model adds extra tokens)')\n",
    "\n",
    "plt.show()"
   ]
  },
  {
   "cell_type": "markdown",
   "metadata": {},
   "source": [
    "The two figure aboves shows that:\n",
    "- Model are confused for tokens \"ah\", \"t\", \"ih\", \"h#\". The model either added those tokens when it's not needed or didn't add them where it's needed.\n",
    "- Model tends to add extra on \"r\", \"d\", \"k\" \"g\""
   ]
  },
  {
   "cell_type": "markdown",
   "metadata": {},
   "source": [
    "## Visualize With Substitution"
   ]
  },
  {
   "cell_type": "code",
   "execution_count": null,
   "metadata": {
    "execution": {
     "iopub.execute_input": "2024-03-21T19:35:17.654047Z",
     "iopub.status.busy": "2024-03-21T19:35:17.653754Z",
     "iopub.status.idle": "2024-03-21T19:35:17.660756Z",
     "shell.execute_reply": "2024-03-21T19:35:17.659762Z",
     "shell.execute_reply.started": "2024-03-21T19:35:17.654016Z"
    },
    "trusted": true
   },
   "outputs": [],
   "source": [
    "replace_freqs = {}\n",
    "for replace in replaces:\n",
    "    if replace not in replace_freqs:\n",
    "        replace_freqs[replace] = 0\n",
    "    replace_freqs[replace] += 1"
   ]
  },
  {
   "cell_type": "code",
   "execution_count": null,
   "metadata": {
    "execution": {
     "iopub.execute_input": "2024-03-21T19:35:18.322111Z",
     "iopub.status.busy": "2024-03-21T19:35:18.321768Z",
     "iopub.status.idle": "2024-03-21T19:35:18.328067Z",
     "shell.execute_reply": "2024-03-21T19:35:18.327029Z",
     "shell.execute_reply.started": "2024-03-21T19:35:18.322072Z"
    },
    "trusted": true
   },
   "outputs": [],
   "source": [
    "sorted_replace_freqs = sorted(replace_freqs.items(), key=lambda x: x[-1], reverse=True)\n",
    "top_replace_freqs = list(filter(lambda x: x[-1] >= 5, sorted_replace_freqs))"
   ]
  },
  {
   "cell_type": "code",
   "execution_count": null,
   "metadata": {
    "execution": {
     "iopub.execute_input": "2024-03-21T19:35:19.121078Z",
     "iopub.status.busy": "2024-03-21T19:35:19.12078Z",
     "iopub.status.idle": "2024-03-21T19:35:19.134057Z",
     "shell.execute_reply": "2024-03-21T19:35:19.133018Z",
     "shell.execute_reply.started": "2024-03-21T19:35:19.121047Z"
    },
    "trusted": true
   },
   "outputs": [],
   "source": [
    "top_replace_freqs"
   ]
  },
  {
   "cell_type": "code",
   "execution_count": null,
   "metadata": {
    "execution": {
     "iopub.execute_input": "2024-03-21T19:35:20.033157Z",
     "iopub.status.busy": "2024-03-21T19:35:20.032488Z",
     "iopub.status.idle": "2024-03-21T19:35:20.093873Z",
     "shell.execute_reply": "2024-03-21T19:35:20.092927Z",
     "shell.execute_reply.started": "2024-03-21T19:35:20.033109Z"
    },
    "trusted": true
   },
   "outputs": [],
   "source": [
    "import numpy as np\n",
    "import seaborn as sns\n",
    "import matplotlib.pylab as plt"
   ]
  },
  {
   "cell_type": "code",
   "execution_count": null,
   "metadata": {
    "execution": {
     "iopub.execute_input": "2024-03-21T19:35:20.832649Z",
     "iopub.status.busy": "2024-03-21T19:35:20.832312Z",
     "iopub.status.idle": "2024-03-21T19:35:20.83965Z",
     "shell.execute_reply": "2024-03-21T19:35:20.838486Z",
     "shell.execute_reply.started": "2024-03-21T19:35:20.832607Z"
    },
    "trusted": true
   },
   "outputs": [],
   "source": [
    "src = set([src_token for (src_token, dst_token), freq in top_replace_freqs])\n",
    "dst = set([dst_token for (src_token, dst_token), freq in top_replace_freqs])\n",
    "\n",
    "src_indices = {x: i for i, x in enumerate(sorted(src))}\n",
    "dst_indices = {x: i for i, x in enumerate(sorted(dst))}"
   ]
  },
  {
   "cell_type": "code",
   "execution_count": null,
   "metadata": {
    "execution": {
     "iopub.execute_input": "2024-03-21T19:35:21.677627Z",
     "iopub.status.busy": "2024-03-21T19:35:21.677342Z",
     "iopub.status.idle": "2024-03-21T19:35:21.683763Z",
     "shell.execute_reply": "2024-03-21T19:35:21.682678Z",
     "shell.execute_reply.started": "2024-03-21T19:35:21.677596Z"
    },
    "trusted": true
   },
   "outputs": [],
   "source": [
    "matrix = [[0]*len(dst_indices) for _ in range(len(src_indices))]\n",
    "\n",
    "for (src_token, dst_token), freq in top_replace_freqs:\n",
    "    src_idx = src_indices[src_token]\n",
    "    dst_idx = dst_indices[dst_token]\n",
    "    matrix[src_idx][dst_idx] = freq"
   ]
  },
  {
   "cell_type": "code",
   "execution_count": null,
   "metadata": {
    "execution": {
     "iopub.execute_input": "2024-03-21T19:35:22.677857Z",
     "iopub.status.busy": "2024-03-21T19:35:22.677515Z",
     "iopub.status.idle": "2024-03-21T19:35:25.940552Z",
     "shell.execute_reply": "2024-03-21T19:35:25.939559Z",
     "shell.execute_reply.started": "2024-03-21T19:35:22.677821Z"
    },
    "trusted": true
   },
   "outputs": [],
   "source": [
    "plt.figure(figsize=(20,10))\n",
    "ax = sns.heatmap(matrix, linewidth=0.5, xticklabels=sorted(dst), yticklabels=sorted(src), cmap=sns.color_palette(\"ch:s=-.2,r=.6\", as_cmap=True), annot=True, robust=True)\n",
    "plt.title(\"Confusion Matrix. Row is where model's output (which is wrong). Column is what the token is supposed to be.\")\n",
    "plt.show()"
   ]
  },
  {
   "cell_type": "markdown",
   "metadata": {},
   "source": [
    "The figure above illustrates the confusion matrix (partial). Here we can understand better how the model focuses between tokens.\n",
    "- Model tends to confuse between \n",
    "  - \"ih\" <-> \"ah\"\n",
    "  - \"ih\" <-> \"eh\"\n",
    "  - \"ih\" <-> \"iy\"\n",
    "- Model tends to output:\n",
    "  - \"aa\" instead of \"ah\"\n",
    "  - \"ae\" instead of \"eh\"\n",
    "  - \"er\" instead of \"ah\"\n",
    "  - \"r\" instead of \"er\"\n"
   ]
  },
  {
   "cell_type": "code",
   "execution_count": null,
   "metadata": {},
   "outputs": [],
   "source": []
  }
 ],
 "metadata": {
  "kaggle": {
   "accelerator": "none",
   "dataSources": [
    {
     "datasetId": 212391,
     "sourceId": 471627,
     "sourceType": "datasetVersion"
    }
   ],
   "dockerImageVersionId": 30192,
   "isGpuEnabled": false,
   "isInternetEnabled": true,
   "language": "python",
   "sourceType": "notebook"
  },
  "kernelspec": {
   "display_name": "Python 3 (ipykernel)",
   "language": "python",
   "name": "python3"
  },
  "language_info": {
   "codemirror_mode": {
    "name": "ipython",
    "version": 3
   },
   "file_extension": ".py",
   "mimetype": "text/x-python",
   "name": "python",
   "nbconvert_exporter": "python",
   "pygments_lexer": "ipython3",
   "version": "3.7.12"
  }
 },
 "nbformat": 4,
 "nbformat_minor": 4
}
