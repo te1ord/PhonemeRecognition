{
 "cells": [
  {
   "cell_type": "code",
   "execution_count": 1,
   "metadata": {
    "_cell_guid": "b1076dfc-b9ad-4769-8c92-a6c4dae69d19",
    "_kg_hide-output": true,
    "_uuid": "8f2839f25d086af736a60e9eeb907d3b93b6e0e5",
    "execution": {
     "iopub.execute_input": "2025-04-02T14:28:32.898416Z",
     "iopub.status.busy": "2025-04-02T14:28:32.898077Z",
     "iopub.status.idle": "2025-04-02T14:29:31.939538Z",
     "shell.execute_reply": "2025-04-02T14:29:31.938322Z",
     "shell.execute_reply.started": "2025-04-02T14:28:32.898370Z"
    },
    "trusted": true
   },
   "outputs": [
    {
     "name": "stdout",
     "output_type": "stream",
     "text": [
      "Requirement already satisfied: datasets in /usr/local/lib/python3.10/dist-packages (3.5.0)\n",
      "Requirement already satisfied: filelock in /usr/local/lib/python3.10/dist-packages (from datasets) (3.17.0)\n",
      "Requirement already satisfied: numpy>=1.17 in /usr/local/lib/python3.10/dist-packages (from datasets) (1.26.4)\n",
      "Requirement already satisfied: pyarrow>=15.0.0 in /usr/local/lib/python3.10/dist-packages (from datasets) (19.0.1)\n",
      "Requirement already satisfied: dill<0.3.9,>=0.3.0 in /usr/local/lib/python3.10/dist-packages (from datasets) (0.3.8)\n",
      "Requirement already satisfied: pandas in /usr/local/lib/python3.10/dist-packages (from datasets) (2.2.3)\n",
      "Requirement already satisfied: requests>=2.32.2 in /usr/local/lib/python3.10/dist-packages (from datasets) (2.32.3)\n",
      "Requirement already satisfied: tqdm>=4.66.3 in /usr/local/lib/python3.10/dist-packages (from datasets) (4.67.1)\n",
      "Requirement already satisfied: xxhash in /usr/local/lib/python3.10/dist-packages (from datasets) (3.5.0)\n",
      "Requirement already satisfied: multiprocess<0.70.17 in /usr/local/lib/python3.10/dist-packages (from datasets) (0.70.16)\n",
      "Requirement already satisfied: fsspec<=2024.12.0,>=2023.1.0 in /usr/local/lib/python3.10/dist-packages (from fsspec[http]<=2024.12.0,>=2023.1.0->datasets) (2024.12.0)\n",
      "Requirement already satisfied: aiohttp in /usr/local/lib/python3.10/dist-packages (from datasets) (3.11.12)\n",
      "Requirement already satisfied: huggingface-hub>=0.24.0 in /usr/local/lib/python3.10/dist-packages (from datasets) (0.30.1)\n",
      "Requirement already satisfied: packaging in /usr/local/lib/python3.10/dist-packages (from datasets) (24.2)\n",
      "Requirement already satisfied: pyyaml>=5.1 in /usr/local/lib/python3.10/dist-packages (from datasets) (6.0.2)\n",
      "Requirement already satisfied: aiohappyeyeballs>=2.3.0 in /usr/local/lib/python3.10/dist-packages (from aiohttp->datasets) (2.4.6)\n",
      "Requirement already satisfied: aiosignal>=1.1.2 in /usr/local/lib/python3.10/dist-packages (from aiohttp->datasets) (1.3.2)\n",
      "Requirement already satisfied: async-timeout<6.0,>=4.0 in /usr/local/lib/python3.10/dist-packages (from aiohttp->datasets) (5.0.1)\n",
      "Requirement already satisfied: attrs>=17.3.0 in /usr/local/lib/python3.10/dist-packages (from aiohttp->datasets) (25.1.0)\n",
      "Requirement already satisfied: frozenlist>=1.1.1 in /usr/local/lib/python3.10/dist-packages (from aiohttp->datasets) (1.5.0)\n",
      "Requirement already satisfied: multidict<7.0,>=4.5 in /usr/local/lib/python3.10/dist-packages (from aiohttp->datasets) (6.1.0)\n",
      "Requirement already satisfied: propcache>=0.2.0 in /usr/local/lib/python3.10/dist-packages (from aiohttp->datasets) (0.2.1)\n",
      "Requirement already satisfied: yarl<2.0,>=1.17.0 in /usr/local/lib/python3.10/dist-packages (from aiohttp->datasets) (1.18.3)\n",
      "Requirement already satisfied: typing-extensions>=3.7.4.3 in /usr/local/lib/python3.10/dist-packages (from huggingface-hub>=0.24.0->datasets) (4.12.2)\n",
      "Requirement already satisfied: mkl_fft in /usr/local/lib/python3.10/dist-packages (from numpy>=1.17->datasets) (1.3.8)\n",
      "Requirement already satisfied: mkl_random in /usr/local/lib/python3.10/dist-packages (from numpy>=1.17->datasets) (1.2.4)\n",
      "Requirement already satisfied: mkl_umath in /usr/local/lib/python3.10/dist-packages (from numpy>=1.17->datasets) (0.1.1)\n",
      "Requirement already satisfied: mkl in /usr/local/lib/python3.10/dist-packages (from numpy>=1.17->datasets) (2025.0.1)\n",
      "Requirement already satisfied: tbb4py in /usr/local/lib/python3.10/dist-packages (from numpy>=1.17->datasets) (2022.0.0)\n",
      "Requirement already satisfied: mkl-service in /usr/local/lib/python3.10/dist-packages (from numpy>=1.17->datasets) (2.4.1)\n",
      "Requirement already satisfied: charset-normalizer<4,>=2 in /usr/local/lib/python3.10/dist-packages (from requests>=2.32.2->datasets) (3.4.1)\n",
      "Requirement already satisfied: idna<4,>=2.5 in /usr/local/lib/python3.10/dist-packages (from requests>=2.32.2->datasets) (3.10)\n",
      "Requirement already satisfied: urllib3<3,>=1.21.1 in /usr/local/lib/python3.10/dist-packages (from requests>=2.32.2->datasets) (2.3.0)\n",
      "Requirement already satisfied: certifi>=2017.4.17 in /usr/local/lib/python3.10/dist-packages (from requests>=2.32.2->datasets) (2025.1.31)\n",
      "Requirement already satisfied: python-dateutil>=2.8.2 in /usr/local/lib/python3.10/dist-packages (from pandas->datasets) (2.9.0.post0)\n",
      "Requirement already satisfied: pytz>=2020.1 in /usr/local/lib/python3.10/dist-packages (from pandas->datasets) (2025.1)\n",
      "Requirement already satisfied: tzdata>=2022.7 in /usr/local/lib/python3.10/dist-packages (from pandas->datasets) (2025.1)\n",
      "Requirement already satisfied: six>=1.5 in /usr/local/lib/python3.10/dist-packages (from python-dateutil>=2.8.2->pandas->datasets) (1.17.0)\n",
      "Requirement already satisfied: intel-openmp>=2024 in /usr/local/lib/python3.10/dist-packages (from mkl->numpy>=1.17->datasets) (2024.2.0)\n",
      "Requirement already satisfied: tbb==2022.* in /usr/local/lib/python3.10/dist-packages (from mkl->numpy>=1.17->datasets) (2022.0.0)\n",
      "Requirement already satisfied: tcmlib==1.* in /usr/local/lib/python3.10/dist-packages (from tbb==2022.*->mkl->numpy>=1.17->datasets) (1.2.0)\n",
      "Requirement already satisfied: intel-cmplr-lib-rt in /usr/local/lib/python3.10/dist-packages (from mkl_umath->numpy>=1.17->datasets) (2024.2.0)\n",
      "Requirement already satisfied: intel-cmplr-lib-ur==2024.2.0 in /usr/local/lib/python3.10/dist-packages (from intel-openmp>=2024->mkl->numpy>=1.17->datasets) (2024.2.0)\n",
      "Requirement already satisfied: transformers in /usr/local/lib/python3.10/dist-packages (4.51.0)\n",
      "Requirement already satisfied: filelock in /usr/local/lib/python3.10/dist-packages (from transformers) (3.17.0)\n",
      "Requirement already satisfied: huggingface-hub<1.0,>=0.30.0 in /usr/local/lib/python3.10/dist-packages (from transformers) (0.30.1)\n",
      "Requirement already satisfied: numpy>=1.17 in /usr/local/lib/python3.10/dist-packages (from transformers) (1.26.4)\n",
      "Requirement already satisfied: packaging>=20.0 in /usr/local/lib/python3.10/dist-packages (from transformers) (24.2)\n",
      "Requirement already satisfied: pyyaml>=5.1 in /usr/local/lib/python3.10/dist-packages (from transformers) (6.0.2)\n",
      "Requirement already satisfied: regex!=2019.12.17 in /usr/local/lib/python3.10/dist-packages (from transformers) (2024.11.6)\n",
      "Requirement already satisfied: requests in /usr/local/lib/python3.10/dist-packages (from transformers) (2.32.3)\n",
      "Requirement already satisfied: tokenizers<0.22,>=0.21 in /usr/local/lib/python3.10/dist-packages (from transformers) (0.21.0)\n",
      "Requirement already satisfied: safetensors>=0.4.3 in /usr/local/lib/python3.10/dist-packages (from transformers) (0.4.5)\n",
      "Requirement already satisfied: tqdm>=4.27 in /usr/local/lib/python3.10/dist-packages (from transformers) (4.67.1)\n",
      "Requirement already satisfied: fsspec>=2023.5.0 in /usr/local/lib/python3.10/dist-packages (from huggingface-hub<1.0,>=0.30.0->transformers) (2024.12.0)\n",
      "Requirement already satisfied: typing-extensions>=3.7.4.3 in /usr/local/lib/python3.10/dist-packages (from huggingface-hub<1.0,>=0.30.0->transformers) (4.12.2)\n",
      "Requirement already satisfied: mkl_fft in /usr/local/lib/python3.10/dist-packages (from numpy>=1.17->transformers) (1.3.8)\n",
      "Requirement already satisfied: mkl_random in /usr/local/lib/python3.10/dist-packages (from numpy>=1.17->transformers) (1.2.4)\n",
      "Requirement already satisfied: mkl_umath in /usr/local/lib/python3.10/dist-packages (from numpy>=1.17->transformers) (0.1.1)\n",
      "Requirement already satisfied: mkl in /usr/local/lib/python3.10/dist-packages (from numpy>=1.17->transformers) (2025.0.1)\n",
      "Requirement already satisfied: tbb4py in /usr/local/lib/python3.10/dist-packages (from numpy>=1.17->transformers) (2022.0.0)\n",
      "Requirement already satisfied: mkl-service in /usr/local/lib/python3.10/dist-packages (from numpy>=1.17->transformers) (2.4.1)\n",
      "Requirement already satisfied: charset-normalizer<4,>=2 in /usr/local/lib/python3.10/dist-packages (from requests->transformers) (3.4.1)\n",
      "Requirement already satisfied: idna<4,>=2.5 in /usr/local/lib/python3.10/dist-packages (from requests->transformers) (3.10)\n",
      "Requirement already satisfied: urllib3<3,>=1.21.1 in /usr/local/lib/python3.10/dist-packages (from requests->transformers) (2.3.0)\n",
      "Requirement already satisfied: certifi>=2017.4.17 in /usr/local/lib/python3.10/dist-packages (from requests->transformers) (2025.1.31)\n",
      "Requirement already satisfied: intel-openmp>=2024 in /usr/local/lib/python3.10/dist-packages (from mkl->numpy>=1.17->transformers) (2024.2.0)\n",
      "Requirement already satisfied: tbb==2022.* in /usr/local/lib/python3.10/dist-packages (from mkl->numpy>=1.17->transformers) (2022.0.0)\n",
      "Requirement already satisfied: tcmlib==1.* in /usr/local/lib/python3.10/dist-packages (from tbb==2022.*->mkl->numpy>=1.17->transformers) (1.2.0)\n",
      "Requirement already satisfied: intel-cmplr-lib-rt in /usr/local/lib/python3.10/dist-packages (from mkl_umath->numpy>=1.17->transformers) (2024.2.0)\n",
      "Requirement already satisfied: intel-cmplr-lib-ur==2024.2.0 in /usr/local/lib/python3.10/dist-packages (from intel-openmp>=2024->mkl->numpy>=1.17->transformers) (2024.2.0)\n",
      "Requirement already satisfied: evaluate in /usr/local/lib/python3.10/dist-packages (0.4.3)\n",
      "Requirement already satisfied: datasets>=2.0.0 in /usr/local/lib/python3.10/dist-packages (from evaluate) (3.5.0)\n",
      "Requirement already satisfied: numpy>=1.17 in /usr/local/lib/python3.10/dist-packages (from evaluate) (1.26.4)\n",
      "Requirement already satisfied: dill in /usr/local/lib/python3.10/dist-packages (from evaluate) (0.3.8)\n",
      "Requirement already satisfied: pandas in /usr/local/lib/python3.10/dist-packages (from evaluate) (2.2.3)\n",
      "Requirement already satisfied: requests>=2.19.0 in /usr/local/lib/python3.10/dist-packages (from evaluate) (2.32.3)\n",
      "Requirement already satisfied: tqdm>=4.62.1 in /usr/local/lib/python3.10/dist-packages (from evaluate) (4.67.1)\n",
      "Requirement already satisfied: xxhash in /usr/local/lib/python3.10/dist-packages (from evaluate) (3.5.0)\n",
      "Requirement already satisfied: multiprocess in /usr/local/lib/python3.10/dist-packages (from evaluate) (0.70.16)\n",
      "Requirement already satisfied: fsspec>=2021.05.0 in /usr/local/lib/python3.10/dist-packages (from fsspec[http]>=2021.05.0->evaluate) (2024.12.0)\n",
      "Requirement already satisfied: huggingface-hub>=0.7.0 in /usr/local/lib/python3.10/dist-packages (from evaluate) (0.30.1)\n",
      "Requirement already satisfied: packaging in /usr/local/lib/python3.10/dist-packages (from evaluate) (24.2)\n",
      "Requirement already satisfied: filelock in /usr/local/lib/python3.10/dist-packages (from datasets>=2.0.0->evaluate) (3.17.0)\n",
      "Requirement already satisfied: pyarrow>=15.0.0 in /usr/local/lib/python3.10/dist-packages (from datasets>=2.0.0->evaluate) (19.0.1)\n",
      "Requirement already satisfied: aiohttp in /usr/local/lib/python3.10/dist-packages (from datasets>=2.0.0->evaluate) (3.11.12)\n",
      "Requirement already satisfied: pyyaml>=5.1 in /usr/local/lib/python3.10/dist-packages (from datasets>=2.0.0->evaluate) (6.0.2)\n",
      "Requirement already satisfied: typing-extensions>=3.7.4.3 in /usr/local/lib/python3.10/dist-packages (from huggingface-hub>=0.7.0->evaluate) (4.12.2)\n",
      "Requirement already satisfied: mkl_fft in /usr/local/lib/python3.10/dist-packages (from numpy>=1.17->evaluate) (1.3.8)\n",
      "Requirement already satisfied: mkl_random in /usr/local/lib/python3.10/dist-packages (from numpy>=1.17->evaluate) (1.2.4)\n",
      "Requirement already satisfied: mkl_umath in /usr/local/lib/python3.10/dist-packages (from numpy>=1.17->evaluate) (0.1.1)\n",
      "Requirement already satisfied: mkl in /usr/local/lib/python3.10/dist-packages (from numpy>=1.17->evaluate) (2025.0.1)\n",
      "Requirement already satisfied: tbb4py in /usr/local/lib/python3.10/dist-packages (from numpy>=1.17->evaluate) (2022.0.0)\n",
      "Requirement already satisfied: mkl-service in /usr/local/lib/python3.10/dist-packages (from numpy>=1.17->evaluate) (2.4.1)\n",
      "Requirement already satisfied: charset-normalizer<4,>=2 in /usr/local/lib/python3.10/dist-packages (from requests>=2.19.0->evaluate) (3.4.1)\n",
      "Requirement already satisfied: idna<4,>=2.5 in /usr/local/lib/python3.10/dist-packages (from requests>=2.19.0->evaluate) (3.10)\n",
      "Requirement already satisfied: urllib3<3,>=1.21.1 in /usr/local/lib/python3.10/dist-packages (from requests>=2.19.0->evaluate) (2.3.0)\n",
      "Requirement already satisfied: certifi>=2017.4.17 in /usr/local/lib/python3.10/dist-packages (from requests>=2.19.0->evaluate) (2025.1.31)\n",
      "Requirement already satisfied: python-dateutil>=2.8.2 in /usr/local/lib/python3.10/dist-packages (from pandas->evaluate) (2.9.0.post0)\n",
      "Requirement already satisfied: pytz>=2020.1 in /usr/local/lib/python3.10/dist-packages (from pandas->evaluate) (2025.1)\n",
      "Requirement already satisfied: tzdata>=2022.7 in /usr/local/lib/python3.10/dist-packages (from pandas->evaluate) (2025.1)\n",
      "Requirement already satisfied: aiohappyeyeballs>=2.3.0 in /usr/local/lib/python3.10/dist-packages (from aiohttp->datasets>=2.0.0->evaluate) (2.4.6)\n",
      "Requirement already satisfied: aiosignal>=1.1.2 in /usr/local/lib/python3.10/dist-packages (from aiohttp->datasets>=2.0.0->evaluate) (1.3.2)\n",
      "Requirement already satisfied: async-timeout<6.0,>=4.0 in /usr/local/lib/python3.10/dist-packages (from aiohttp->datasets>=2.0.0->evaluate) (5.0.1)\n",
      "Requirement already satisfied: attrs>=17.3.0 in /usr/local/lib/python3.10/dist-packages (from aiohttp->datasets>=2.0.0->evaluate) (25.1.0)\n",
      "Requirement already satisfied: frozenlist>=1.1.1 in /usr/local/lib/python3.10/dist-packages (from aiohttp->datasets>=2.0.0->evaluate) (1.5.0)\n",
      "Requirement already satisfied: multidict<7.0,>=4.5 in /usr/local/lib/python3.10/dist-packages (from aiohttp->datasets>=2.0.0->evaluate) (6.1.0)\n",
      "Requirement already satisfied: propcache>=0.2.0 in /usr/local/lib/python3.10/dist-packages (from aiohttp->datasets>=2.0.0->evaluate) (0.2.1)\n",
      "Requirement already satisfied: yarl<2.0,>=1.17.0 in /usr/local/lib/python3.10/dist-packages (from aiohttp->datasets>=2.0.0->evaluate) (1.18.3)\n",
      "Requirement already satisfied: six>=1.5 in /usr/local/lib/python3.10/dist-packages (from python-dateutil>=2.8.2->pandas->evaluate) (1.17.0)\n",
      "Requirement already satisfied: intel-openmp>=2024 in /usr/local/lib/python3.10/dist-packages (from mkl->numpy>=1.17->evaluate) (2024.2.0)\n",
      "Requirement already satisfied: tbb==2022.* in /usr/local/lib/python3.10/dist-packages (from mkl->numpy>=1.17->evaluate) (2022.0.0)\n",
      "Requirement already satisfied: tcmlib==1.* in /usr/local/lib/python3.10/dist-packages (from tbb==2022.*->mkl->numpy>=1.17->evaluate) (1.2.0)\n",
      "Requirement already satisfied: intel-cmplr-lib-rt in /usr/local/lib/python3.10/dist-packages (from mkl_umath->numpy>=1.17->evaluate) (2024.2.0)\n",
      "Requirement already satisfied: intel-cmplr-lib-ur==2024.2.0 in /usr/local/lib/python3.10/dist-packages (from intel-openmp>=2024->mkl->numpy>=1.17->evaluate) (2024.2.0)\n",
      "Requirement already satisfied: librosa in /usr/local/lib/python3.10/dist-packages (0.11.0)\n",
      "Requirement already satisfied: audioread>=2.1.9 in /usr/local/lib/python3.10/dist-packages (from librosa) (3.0.1)\n",
      "Requirement already satisfied: numba>=0.51.0 in /usr/local/lib/python3.10/dist-packages (from librosa) (0.60.0)\n",
      "Requirement already satisfied: numpy>=1.22.3 in /usr/local/lib/python3.10/dist-packages (from librosa) (1.26.4)\n",
      "Requirement already satisfied: scipy>=1.6.0 in /usr/local/lib/python3.10/dist-packages (from librosa) (1.13.1)\n",
      "Requirement already satisfied: scikit-learn>=1.1.0 in /usr/local/lib/python3.10/dist-packages (from librosa) (1.2.2)\n",
      "Requirement already satisfied: joblib>=1.0 in /usr/local/lib/python3.10/dist-packages (from librosa) (1.4.2)\n",
      "Requirement already satisfied: decorator>=4.3.0 in /usr/local/lib/python3.10/dist-packages (from librosa) (4.4.2)\n",
      "Requirement already satisfied: soundfile>=0.12.1 in /usr/local/lib/python3.10/dist-packages (from librosa) (0.12.1)\n",
      "Requirement already satisfied: pooch>=1.1 in /usr/local/lib/python3.10/dist-packages (from librosa) (1.8.2)\n",
      "Requirement already satisfied: soxr>=0.3.2 in /usr/local/lib/python3.10/dist-packages (from librosa) (0.5.0.post1)\n",
      "Requirement already satisfied: typing_extensions>=4.1.1 in /usr/local/lib/python3.10/dist-packages (from librosa) (4.12.2)\n",
      "Requirement already satisfied: lazy_loader>=0.1 in /usr/local/lib/python3.10/dist-packages (from librosa) (0.4)\n",
      "Requirement already satisfied: msgpack>=1.0 in /usr/local/lib/python3.10/dist-packages (from librosa) (1.1.0)\n",
      "Requirement already satisfied: packaging in /usr/local/lib/python3.10/dist-packages (from lazy_loader>=0.1->librosa) (24.2)\n",
      "Requirement already satisfied: llvmlite<0.44,>=0.43.0dev0 in /usr/local/lib/python3.10/dist-packages (from numba>=0.51.0->librosa) (0.43.0)\n",
      "Requirement already satisfied: mkl_fft in /usr/local/lib/python3.10/dist-packages (from numpy>=1.22.3->librosa) (1.3.8)\n",
      "Requirement already satisfied: mkl_random in /usr/local/lib/python3.10/dist-packages (from numpy>=1.22.3->librosa) (1.2.4)\n",
      "Requirement already satisfied: mkl_umath in /usr/local/lib/python3.10/dist-packages (from numpy>=1.22.3->librosa) (0.1.1)\n",
      "Requirement already satisfied: mkl in /usr/local/lib/python3.10/dist-packages (from numpy>=1.22.3->librosa) (2025.0.1)\n",
      "Requirement already satisfied: tbb4py in /usr/local/lib/python3.10/dist-packages (from numpy>=1.22.3->librosa) (2022.0.0)\n",
      "Requirement already satisfied: mkl-service in /usr/local/lib/python3.10/dist-packages (from numpy>=1.22.3->librosa) (2.4.1)\n",
      "Requirement already satisfied: platformdirs>=2.5.0 in /usr/local/lib/python3.10/dist-packages (from pooch>=1.1->librosa) (4.3.6)\n",
      "Requirement already satisfied: requests>=2.19.0 in /usr/local/lib/python3.10/dist-packages (from pooch>=1.1->librosa) (2.32.3)\n",
      "Requirement already satisfied: threadpoolctl>=2.0.0 in /usr/local/lib/python3.10/dist-packages (from scikit-learn>=1.1.0->librosa) (3.5.0)\n",
      "Requirement already satisfied: cffi>=1.0 in /usr/local/lib/python3.10/dist-packages (from soundfile>=0.12.1->librosa) (1.17.1)\n",
      "Requirement already satisfied: pycparser in /usr/local/lib/python3.10/dist-packages (from cffi>=1.0->soundfile>=0.12.1->librosa) (2.22)\n",
      "Requirement already satisfied: charset-normalizer<4,>=2 in /usr/local/lib/python3.10/dist-packages (from requests>=2.19.0->pooch>=1.1->librosa) (3.4.1)\n",
      "Requirement already satisfied: idna<4,>=2.5 in /usr/local/lib/python3.10/dist-packages (from requests>=2.19.0->pooch>=1.1->librosa) (3.10)\n",
      "Requirement already satisfied: urllib3<3,>=1.21.1 in /usr/local/lib/python3.10/dist-packages (from requests>=2.19.0->pooch>=1.1->librosa) (2.3.0)\n",
      "Requirement already satisfied: certifi>=2017.4.17 in /usr/local/lib/python3.10/dist-packages (from requests>=2.19.0->pooch>=1.1->librosa) (2025.1.31)\n",
      "Requirement already satisfied: intel-openmp>=2024 in /usr/local/lib/python3.10/dist-packages (from mkl->numpy>=1.22.3->librosa) (2024.2.0)\n",
      "Requirement already satisfied: tbb==2022.* in /usr/local/lib/python3.10/dist-packages (from mkl->numpy>=1.22.3->librosa) (2022.0.0)\n",
      "Requirement already satisfied: tcmlib==1.* in /usr/local/lib/python3.10/dist-packages (from tbb==2022.*->mkl->numpy>=1.22.3->librosa) (1.2.0)\n",
      "Requirement already satisfied: intel-cmplr-lib-rt in /usr/local/lib/python3.10/dist-packages (from mkl_umath->numpy>=1.22.3->librosa) (2024.2.0)\n",
      "Requirement already satisfied: intel-cmplr-lib-ur==2024.2.0 in /usr/local/lib/python3.10/dist-packages (from intel-openmp>=2024->mkl->numpy>=1.22.3->librosa) (2024.2.0)\n",
      "Requirement already satisfied: seaborn in /usr/local/lib/python3.10/dist-packages (0.13.2)\n",
      "Requirement already satisfied: numpy!=1.24.0,>=1.20 in /usr/local/lib/python3.10/dist-packages (from seaborn) (1.26.4)\n",
      "Requirement already satisfied: pandas>=1.2 in /usr/local/lib/python3.10/dist-packages (from seaborn) (2.2.3)\n",
      "Requirement already satisfied: matplotlib!=3.6.1,>=3.4 in /usr/local/lib/python3.10/dist-packages (from seaborn) (3.7.5)\n",
      "Requirement already satisfied: contourpy>=1.0.1 in /usr/local/lib/python3.10/dist-packages (from matplotlib!=3.6.1,>=3.4->seaborn) (1.3.1)\n",
      "Requirement already satisfied: cycler>=0.10 in /usr/local/lib/python3.10/dist-packages (from matplotlib!=3.6.1,>=3.4->seaborn) (0.12.1)\n",
      "Requirement already satisfied: fonttools>=4.22.0 in /usr/local/lib/python3.10/dist-packages (from matplotlib!=3.6.1,>=3.4->seaborn) (4.55.3)\n",
      "Requirement already satisfied: kiwisolver>=1.0.1 in /usr/local/lib/python3.10/dist-packages (from matplotlib!=3.6.1,>=3.4->seaborn) (1.4.7)\n",
      "Requirement already satisfied: packaging>=20.0 in /usr/local/lib/python3.10/dist-packages (from matplotlib!=3.6.1,>=3.4->seaborn) (24.2)\n",
      "Requirement already satisfied: pillow>=6.2.0 in /usr/local/lib/python3.10/dist-packages (from matplotlib!=3.6.1,>=3.4->seaborn) (11.0.0)\n",
      "Requirement already satisfied: pyparsing>=2.3.1 in /usr/local/lib/python3.10/dist-packages (from matplotlib!=3.6.1,>=3.4->seaborn) (3.2.0)\n",
      "Requirement already satisfied: python-dateutil>=2.7 in /usr/local/lib/python3.10/dist-packages (from matplotlib!=3.6.1,>=3.4->seaborn) (2.9.0.post0)\n",
      "Requirement already satisfied: mkl_fft in /usr/local/lib/python3.10/dist-packages (from numpy!=1.24.0,>=1.20->seaborn) (1.3.8)\n",
      "Requirement already satisfied: mkl_random in /usr/local/lib/python3.10/dist-packages (from numpy!=1.24.0,>=1.20->seaborn) (1.2.4)\n",
      "Requirement already satisfied: mkl_umath in /usr/local/lib/python3.10/dist-packages (from numpy!=1.24.0,>=1.20->seaborn) (0.1.1)\n",
      "Requirement already satisfied: mkl in /usr/local/lib/python3.10/dist-packages (from numpy!=1.24.0,>=1.20->seaborn) (2025.0.1)\n",
      "Requirement already satisfied: tbb4py in /usr/local/lib/python3.10/dist-packages (from numpy!=1.24.0,>=1.20->seaborn) (2022.0.0)\n",
      "Requirement already satisfied: mkl-service in /usr/local/lib/python3.10/dist-packages (from numpy!=1.24.0,>=1.20->seaborn) (2.4.1)\n",
      "Requirement already satisfied: pytz>=2020.1 in /usr/local/lib/python3.10/dist-packages (from pandas>=1.2->seaborn) (2025.1)\n",
      "Requirement already satisfied: tzdata>=2022.7 in /usr/local/lib/python3.10/dist-packages (from pandas>=1.2->seaborn) (2025.1)\n",
      "Requirement already satisfied: six>=1.5 in /usr/local/lib/python3.10/dist-packages (from python-dateutil>=2.7->matplotlib!=3.6.1,>=3.4->seaborn) (1.17.0)\n",
      "Requirement already satisfied: intel-openmp>=2024 in /usr/local/lib/python3.10/dist-packages (from mkl->numpy!=1.24.0,>=1.20->seaborn) (2024.2.0)\n",
      "Requirement already satisfied: tbb==2022.* in /usr/local/lib/python3.10/dist-packages (from mkl->numpy!=1.24.0,>=1.20->seaborn) (2022.0.0)\n",
      "Requirement already satisfied: tcmlib==1.* in /usr/local/lib/python3.10/dist-packages (from tbb==2022.*->mkl->numpy!=1.24.0,>=1.20->seaborn) (1.2.0)\n",
      "Requirement already satisfied: intel-cmplr-lib-rt in /usr/local/lib/python3.10/dist-packages (from mkl_umath->numpy!=1.24.0,>=1.20->seaborn) (2024.2.0)\n",
      "Requirement already satisfied: intel-cmplr-lib-ur==2024.2.0 in /usr/local/lib/python3.10/dist-packages (from intel-openmp>=2024->mkl->numpy!=1.24.0,>=1.20->seaborn) (2024.2.0)\n",
      "Requirement already satisfied: jiwer in /usr/local/lib/python3.10/dist-packages (3.1.0)\n",
      "Requirement already satisfied: click>=8.1.8 in /usr/local/lib/python3.10/dist-packages (from jiwer) (8.1.8)\n",
      "Requirement already satisfied: rapidfuzz>=3.9.7 in /usr/local/lib/python3.10/dist-packages (from jiwer) (3.13.0)\n"
     ]
    }
   ],
   "source": [
    "!pip install -U datasets #>=1.18.3\n",
    "!pip install -U transformers #==4.17.0\n",
    "!pip install -U evaluate\n",
    "!pip install -U librosa\n",
    "!pip install -U seaborn\n",
    "!pip install -U jiwer"
   ]
  },
  {
   "cell_type": "code",
   "execution_count": 123,
   "metadata": {},
   "outputs": [],
   "source": [
    "from kaggle_secrets import UserSecretsClient\n",
    "user_secrets = UserSecretsClient()\n",
    "\n",
    "WANDB_KEY = user_secrets.get_secret(\"wandb_key\")"
   ]
  },
  {
   "cell_type": "code",
   "execution_count": 124,
   "metadata": {
    "execution": {
     "iopub.execute_input": "2024-03-21T19:10:46.117875Z",
     "iopub.status.busy": "2024-03-21T19:10:46.117598Z",
     "iopub.status.idle": "2024-03-21T19:10:46.122644Z",
     "shell.execute_reply": "2024-03-21T19:10:46.121683Z",
     "shell.execute_reply.started": "2024-03-21T19:10:46.117841Z"
    },
    "trusted": true
   },
   "outputs": [],
   "source": [
    "from evaluate import load\n",
    "from transformers import Wav2Vec2FeatureExtractor, Wav2Vec2Processor, AutoModel\n",
    "import torch\n",
    "import torch.nn as nn\n",
    "import os\n",
    "import numpy as np\n",
    "from tqdm import tqdm\n",
    "from torch.utils.data import DataLoader, Dataset\n",
    "from typing import List, Dict, Optional, Any, Union\n",
    "import matplotlib.pyplot as plt\n",
    "import json\n",
    "from datasets import Dataset, DatasetDict, Audio, load_dataset\n",
    "from tqdm.auto import tqdm\n",
    "import pandas as pd\n",
    "import torchaudio\n",
    "from transformers import Wav2Vec2CTCTokenizer, Wav2Vec2PhonemeCTCTokenizer\n",
    "from transformers import AutoFeatureExtractor\n",
    "from transformers import Wav2Vec2Processor\n",
    "from dataclasses import dataclass\n",
    "from typing import Any, Dict, List, Union\n",
    "import IPython.display as ipd\n",
    "import random\n",
    "from transformers import TrainingArguments, Trainer\n",
    "import wandb"
   ]
  },
  {
   "cell_type": "markdown",
   "metadata": {},
   "source": [
    "# Dataset"
   ]
  },
  {
   "cell_type": "markdown",
   "metadata": {},
   "source": [
    "## Let's load dataset\n",
    "Our split strategy - https://github.com/te1ord/PhonemeRecognition/blob/main/notebooks/cv-split.ipynb\n",
    "\n",
    "We did group split by dialect column as our test appears not to have dialects which are present in train set, so we create validation with dialect, which is not present during training.\n",
    "\n",
    "It also appeared to be group split by speaker_id as each speaker has only one dialect."
   ]
  },
  {
   "cell_type": "code",
   "execution_count": 126,
   "metadata": {},
   "outputs": [],
   "source": [
    "DATA_PATH = '/kaggle/input/darpa-timit-acousticphonetic-continuous-speech/data/'\n",
    "DATA_SPLIT = '/kaggle/input/timit-data-split/TIMIT_DATA_SPLIT.json'\n",
    "SSL_DATA_PATH = '/kaggle/input/timit-ssl-features'"
   ]
  },
  {
   "cell_type": "code",
   "execution_count": 127,
   "metadata": {},
   "outputs": [
    {
     "data": {
      "text/plain": [
       "dict_keys(['train', 'valid', 'test'])"
      ]
     },
     "execution_count": 127,
     "metadata": {},
     "output_type": "execute_result"
    }
   ],
   "source": [
    "with open(DATA_SPLIT, \"r\") as f:\n",
    "    dataset = json.load(f)\n",
    "\n",
    "dataset.keys()"
   ]
  },
  {
   "cell_type": "markdown",
   "metadata": {},
   "source": [
    "# Preprocessing\n",
    "Some processing/eda functions from\n",
    "\n",
    "https://www.kaggle.com/code/vladimirsydor/phoneme-recognition-with-wav2vec2#Build-Character-Set"
   ]
  },
  {
   "cell_type": "markdown",
   "metadata": {},
   "source": [
    "## Process into HuggingFace Dataset Format"
   ]
  },
  {
   "cell_type": "code",
   "execution_count": 128,
   "metadata": {
    "execution": {
     "iopub.execute_input": "2025-04-02T14:55:11.818304Z",
     "iopub.status.busy": "2025-04-02T14:55:11.818027Z",
     "iopub.status.idle": "2025-04-02T14:55:11.825309Z",
     "shell.execute_reply": "2025-04-02T14:55:11.823975Z",
     "shell.execute_reply.started": "2025-04-02T14:55:11.818264Z"
    },
    "trusted": true
   },
   "outputs": [],
   "source": [
    "def convert_to_feature_dict(data_dict):\n",
    "    # convert each feature into an array instead\n",
    "    audio_files = []\n",
    "    word_files = []\n",
    "    phonetic_files = []\n",
    "    for key, value in data_dict.items():\n",
    "        audio_files.append(value['audio_file'])\n",
    "        word_files.append(value['word_file'])\n",
    "        phonetic_files.append(value['phonetic_file'])\n",
    "    \n",
    "    return {\n",
    "        'audio_file': audio_files,\n",
    "        'word_file': word_files,\n",
    "        'phonetic_file': phonetic_files\n",
    "    }"
   ]
  },
  {
   "cell_type": "code",
   "execution_count": 129,
   "metadata": {
    "execution": {
     "iopub.execute_input": "2025-04-02T14:55:11.827830Z",
     "iopub.status.busy": "2025-04-02T14:55:11.827530Z",
     "iopub.status.idle": "2025-04-02T14:55:11.847351Z",
     "shell.execute_reply": "2025-04-02T14:55:11.846067Z",
     "shell.execute_reply.started": "2025-04-02T14:55:11.827798Z"
    },
    "trusted": true
   },
   "outputs": [],
   "source": [
    "train = convert_to_feature_dict(dataset['train'])\n",
    "valid = convert_to_feature_dict(dataset['valid'])\n",
    "test  = convert_to_feature_dict(dataset['test'])"
   ]
  },
  {
   "cell_type": "code",
   "execution_count": 130,
   "metadata": {
    "execution": {
     "iopub.execute_input": "2025-04-02T14:55:11.849696Z",
     "iopub.status.busy": "2025-04-02T14:55:11.849297Z",
     "iopub.status.idle": "2025-04-02T14:55:11.880248Z",
     "shell.execute_reply": "2025-04-02T14:55:11.878901Z",
     "shell.execute_reply.started": "2025-04-02T14:55:11.849647Z"
    },
    "trusted": true
   },
   "outputs": [],
   "source": [
    "train_dataset = Dataset.from_dict(train)\n",
    "valid_dataset = Dataset.from_dict(valid)\n",
    "test_dataset = Dataset.from_dict(test)"
   ]
  },
  {
   "cell_type": "code",
   "execution_count": 131,
   "metadata": {
    "execution": {
     "iopub.execute_input": "2025-04-02T14:55:11.882401Z",
     "iopub.status.busy": "2025-04-02T14:55:11.882148Z",
     "iopub.status.idle": "2025-04-02T14:55:11.888133Z",
     "shell.execute_reply": "2025-04-02T14:55:11.886942Z",
     "shell.execute_reply.started": "2025-04-02T14:55:11.882367Z"
    },
    "trusted": true
   },
   "outputs": [
    {
     "name": "stdout",
     "output_type": "stream",
     "text": [
      "Dataset({\n",
      "    features: ['audio_file', 'word_file', 'phonetic_file'],\n",
      "    num_rows: 1440\n",
      "})\n"
     ]
    }
   ],
   "source": [
    "print(train_dataset)"
   ]
  },
  {
   "cell_type": "markdown",
   "metadata": {},
   "source": [
    "## Read files for phonetics"
   ]
  },
  {
   "cell_type": "code",
   "execution_count": 132,
   "metadata": {
    "execution": {
     "iopub.execute_input": "2025-04-02T14:55:11.891668Z",
     "iopub.status.busy": "2025-04-02T14:55:11.891279Z",
     "iopub.status.idle": "2025-04-02T14:55:11.900776Z",
     "shell.execute_reply": "2025-04-02T14:55:11.899628Z",
     "shell.execute_reply.started": "2025-04-02T14:55:11.891613Z"
    },
    "trusted": true
   },
   "outputs": [],
   "source": [
    "def read_text_file(filepath):\n",
    "    with open(filepath) as f:\n",
    "        tokens = [line.split()[-1] for line in f]\n",
    "        return \" \".join(tokens)\n",
    "    \n",
    "def prepare_text_data(item):\n",
    "    item['text'] = read_text_file(item['word_file'])\n",
    "    item['phonetic'] = read_text_file(item['phonetic_file'])\n",
    "    return item"
   ]
  },
  {
   "cell_type": "code",
   "execution_count": 133,
   "metadata": {
    "execution": {
     "iopub.execute_input": "2025-04-02T14:55:12.012222Z",
     "iopub.status.busy": "2025-04-02T14:55:12.011906Z",
     "iopub.status.idle": "2025-04-02T14:55:16.926666Z",
     "shell.execute_reply": "2025-04-02T14:55:16.925740Z",
     "shell.execute_reply.started": "2025-04-02T14:55:12.012190Z"
    },
    "trusted": true
   },
   "outputs": [
    {
     "data": {
      "application/vnd.jupyter.widget-view+json": {
       "model_id": "cf791d872470449ea20d067a1827d752",
       "version_major": 2,
       "version_minor": 0
      },
      "text/plain": [
       "Map:   0%|          | 0/1440 [00:00<?, ? examples/s]"
      ]
     },
     "metadata": {},
     "output_type": "display_data"
    },
    {
     "data": {
      "application/vnd.jupyter.widget-view+json": {
       "model_id": "413a223b3aaa417798de1c8a1d682e7a",
       "version_major": 2,
       "version_minor": 0
      },
      "text/plain": [
       "Map:   0%|          | 0/240 [00:00<?, ? examples/s]"
      ]
     },
     "metadata": {},
     "output_type": "display_data"
    },
    {
     "data": {
      "application/vnd.jupyter.widget-view+json": {
       "model_id": "4aa92801d5c243df9cd5a74402f2a4e8",
       "version_major": 2,
       "version_minor": 0
      },
      "text/plain": [
       "Map:   0%|          | 0/1680 [00:00<?, ? examples/s]"
      ]
     },
     "metadata": {},
     "output_type": "display_data"
    }
   ],
   "source": [
    "train_dataset = (train_dataset\n",
    "                 .map(prepare_text_data)\n",
    "                 .remove_columns([\"word_file\", \"phonetic_file\"]))\n",
    "valid_dataset = (valid_dataset\n",
    "                 .map(prepare_text_data)\n",
    "                 .remove_columns([\"word_file\", \"phonetic_file\"]))\n",
    "test_dataset  = (test_dataset\n",
    "                 .map(prepare_text_data)\n",
    "                 .remove_columns([\"word_file\", \"phonetic_file\"]))"
   ]
  },
  {
   "cell_type": "markdown",
   "metadata": {},
   "source": [
    "## Normalize the Phonetics"
   ]
  },
  {
   "cell_type": "markdown",
   "metadata": {},
   "source": [
    "As we can see the result below, there are *61* phones. However, we don't need to use all of them. \"tcl\", for example, is just a pause where there is a \"t\". So, let's keep it up and simplify them a bit."
   ]
  },
  {
   "cell_type": "code",
   "execution_count": 134,
   "metadata": {
    "execution": {
     "iopub.execute_input": "2025-04-02T14:55:16.928609Z",
     "iopub.status.busy": "2025-04-02T14:55:16.928339Z",
     "iopub.status.idle": "2025-04-02T14:55:16.935141Z",
     "shell.execute_reply": "2025-04-02T14:55:16.934137Z",
     "shell.execute_reply.started": "2025-04-02T14:55:16.928577Z"
    },
    "trusted": true
   },
   "outputs": [
    {
     "data": {
      "text/plain": [
       "Dataset({\n",
       "    features: ['audio_file', 'text', 'phonetic'],\n",
       "    num_rows: 1440\n",
       "})"
      ]
     },
     "execution_count": 134,
     "metadata": {},
     "output_type": "execute_result"
    }
   ],
   "source": [
    "train_dataset"
   ]
  },
  {
   "cell_type": "code",
   "execution_count": 135,
   "metadata": {
    "execution": {
     "iopub.execute_input": "2025-04-02T14:55:16.936852Z",
     "iopub.status.busy": "2025-04-02T14:55:16.936510Z",
     "iopub.status.idle": "2025-04-02T14:55:17.050498Z",
     "shell.execute_reply": "2025-04-02T14:55:17.049384Z",
     "shell.execute_reply.started": "2025-04-02T14:55:16.936809Z"
    },
    "trusted": true
   },
   "outputs": [
    {
     "name": "stdout",
     "output_type": "stream",
     "text": [
      "num of train phones:\t 61\n"
     ]
    }
   ],
   "source": [
    "train_phonetics = [phone for x in train_dataset for phone in x['phonetic'].split()]\n",
    "print(\"num of train phones:\\t\", len(set(train_phonetics)))"
   ]
  },
  {
   "cell_type": "code",
   "execution_count": 136,
   "metadata": {
    "execution": {
     "iopub.execute_input": "2025-04-02T14:55:17.052747Z",
     "iopub.status.busy": "2025-04-02T14:55:17.052427Z",
     "iopub.status.idle": "2025-04-02T14:55:17.064391Z",
     "shell.execute_reply": "2025-04-02T14:55:17.063120Z",
     "shell.execute_reply.started": "2025-04-02T14:55:17.052714Z"
    },
    "trusted": true
   },
   "outputs": [],
   "source": [
    "# TimitBet 61 phoneme mapping to 39 phonemes\n",
    "# by Lee, K.-F., & Hon, H.-W. (1989). Speaker-independent phone recognition using hidden Markov models. IEEE Transactions on Acoustics, Speech, and Signal Processing, 37(11), 1641–1648. doi:10.1109/29.46546 \n",
    "phon61_map39 = {\n",
    "    'iy':'iy',  'ih':'ih',   'eh':'eh',  'ae':'ae',    'ix':'ih',  'ax':'ah',   'ah':'ah',  'uw':'uw',\n",
    "    'ux':'uw',  'uh':'uh',   'ao':'aa',  'aa':'aa',    'ey':'ey',  'ay':'ay',   'oy':'oy',  'aw':'aw',\n",
    "    'ow':'ow',  'l':'l',     'el':'l',  'r':'r',      'y':'y',    'w':'w',     'er':'er',  'axr':'er',\n",
    "    'm':'m',    'em':'m',     'n':'n',    'nx':'n',     'en':'n',  'ng':'ng',   'eng':'ng', 'ch':'ch',\n",
    "    'jh':'jh',  'dh':'dh',   'b':'b',    'd':'d',      'dx':'dx',  'g':'g',     'p':'p',    't':'t',\n",
    "    'k':'k',    'z':'z',     'zh':'sh',  'v':'v',      'f':'f',    'th':'th',   's':'s',    'sh':'sh',\n",
    "    'hh':'hh',  'hv':'hh',   'pcl':'h#', 'tcl':'h#', 'kcl':'h#', 'qcl':'h#','bcl':'h#','dcl':'h#',\n",
    "    'gcl':'h#','h#':'h#',  '#h':'h#',  'pau':'h#', 'epi': 'h#','nx':'n',   'ax-h':'ah','q':'h#' \n",
    "}\n",
    "\n",
    "def convert_phon61_to_phon39(sentence):\n",
    "    tokens = [phon61_map39[x] for x in sentence.split()]\n",
    "    return \" \".join(tokens)\n",
    "\n",
    "def normalize_phones(item):\n",
    "    item['phonetic'] = convert_phon61_to_phon39(item['phonetic'])\n",
    "    return item"
   ]
  },
  {
   "cell_type": "code",
   "execution_count": 137,
   "metadata": {
    "execution": {
     "iopub.execute_input": "2025-04-02T14:55:17.066120Z",
     "iopub.status.busy": "2025-04-02T14:55:17.065843Z",
     "iopub.status.idle": "2025-04-02T14:55:17.518365Z",
     "shell.execute_reply": "2025-04-02T14:55:17.517523Z",
     "shell.execute_reply.started": "2025-04-02T14:55:17.066085Z"
    },
    "trusted": true
   },
   "outputs": [
    {
     "data": {
      "application/vnd.jupyter.widget-view+json": {
       "model_id": "0b6c51a3621d490aa09fb50a102c636a",
       "version_major": 2,
       "version_minor": 0
      },
      "text/plain": [
       "Map:   0%|          | 0/1440 [00:00<?, ? examples/s]"
      ]
     },
     "metadata": {},
     "output_type": "display_data"
    },
    {
     "data": {
      "application/vnd.jupyter.widget-view+json": {
       "model_id": "61607a38615c4c189a7e1262428f2935",
       "version_major": 2,
       "version_minor": 0
      },
      "text/plain": [
       "Map:   0%|          | 0/240 [00:00<?, ? examples/s]"
      ]
     },
     "metadata": {},
     "output_type": "display_data"
    },
    {
     "data": {
      "application/vnd.jupyter.widget-view+json": {
       "model_id": "3bea2f4f8fdd4139b84e6862d7e76a91",
       "version_major": 2,
       "version_minor": 0
      },
      "text/plain": [
       "Map:   0%|          | 0/1680 [00:00<?, ? examples/s]"
      ]
     },
     "metadata": {},
     "output_type": "display_data"
    }
   ],
   "source": [
    "train_dataset = train_dataset.map(normalize_phones)\n",
    "valid_dataset = valid_dataset.map(normalize_phones)\n",
    "test_dataset = test_dataset.map(normalize_phones)"
   ]
  },
  {
   "cell_type": "code",
   "execution_count": 138,
   "metadata": {
    "execution": {
     "iopub.execute_input": "2025-04-02T14:55:17.575235Z",
     "iopub.status.busy": "2025-04-02T14:55:17.574961Z",
     "iopub.status.idle": "2025-04-02T14:55:17.903070Z",
     "shell.execute_reply": "2025-04-02T14:55:17.902045Z",
     "shell.execute_reply.started": "2025-04-02T14:55:17.575205Z"
    },
    "trusted": true
   },
   "outputs": [
    {
     "name": "stdout",
     "output_type": "stream",
     "text": [
      "num of train phones:\t 39\n",
      "num of valid phones:\t 39\n",
      "num of test phones:\t 39\n"
     ]
    }
   ],
   "source": [
    "train_phonetics = [phone for x in train_dataset for phone in x['phonetic'].split()]\n",
    "valid_phonetics = [phone for x in valid_dataset for phone in x['phonetic'].split()]\n",
    "test_phonetics = [phone for x in test_dataset for phone in x['phonetic'].split()]\n",
    "\n",
    "print(\"num of train phones:\\t\", len(set(train_phonetics)))\n",
    "print(\"num of valid phones:\\t\", len(set(valid_phonetics)))\n",
    "print(\"num of test phones:\\t\", len(set(test_phonetics)))"
   ]
  },
  {
   "cell_type": "markdown",
   "metadata": {},
   "source": [
    "## Phonetic Distribution\n",
    "Let's check the distribution of each phone across all three test set. Note that we don't do simple counting. Instead, for each phoneme, we show the ratio of that phoneme relative to that specific set. On test set, obviously, the count of each phoneme is less than the train, but the ratio should be similar to the training set."
   ]
  },
  {
   "cell_type": "code",
   "execution_count": 139,
   "metadata": {
    "execution": {
     "iopub.execute_input": "2025-04-02T14:55:19.057333Z",
     "iopub.status.busy": "2025-04-02T14:55:19.057020Z",
     "iopub.status.idle": "2025-04-02T14:55:19.066186Z",
     "shell.execute_reply": "2025-04-02T14:55:19.064935Z",
     "shell.execute_reply.started": "2025-04-02T14:55:19.057293Z"
    },
    "trusted": true
   },
   "outputs": [],
   "source": [
    "phone_vocabs = set(train_phonetics)\n",
    "phone_vocabs.remove('h#')\n",
    "phone_vocabs = sorted(phone_vocabs)\n",
    "\n",
    "def count_frequency(phonetics):\n",
    "    phone_counts = {phone: 0 for phone in phone_vocabs}\n",
    "    for phone in phonetics:\n",
    "        if phone in phone_vocabs:\n",
    "            phone_counts[phone] += 1\n",
    "    # eliminate h# for visualization purposes\n",
    "    return [phone_counts[phone] for phone in phone_vocabs] "
   ]
  },
  {
   "cell_type": "code",
   "execution_count": 140,
   "metadata": {
    "execution": {
     "iopub.execute_input": "2025-04-02T14:55:20.408968Z",
     "iopub.status.busy": "2025-04-02T14:55:20.408664Z",
     "iopub.status.idle": "2025-04-02T14:55:20.476444Z",
     "shell.execute_reply": "2025-04-02T14:55:20.475516Z",
     "shell.execute_reply.started": "2025-04-02T14:55:20.408904Z"
    },
    "trusted": true
   },
   "outputs": [],
   "source": [
    "train_phone_counts = count_frequency(train_phonetics)\n",
    "valid_phone_counts = count_frequency(valid_phonetics)\n",
    "test_phone_counts  = count_frequency(test_phonetics)"
   ]
  },
  {
   "cell_type": "code",
   "execution_count": 141,
   "metadata": {
    "execution": {
     "iopub.execute_input": "2025-04-02T14:55:20.602110Z",
     "iopub.status.busy": "2025-04-02T14:55:20.601777Z",
     "iopub.status.idle": "2025-04-02T14:55:20.607822Z",
     "shell.execute_reply": "2025-04-02T14:55:20.606647Z",
     "shell.execute_reply.started": "2025-04-02T14:55:20.602076Z"
    },
    "trusted": true
   },
   "outputs": [],
   "source": [
    "train_phone_ratio = [count / sum(train_phone_counts) for count in train_phone_counts]\n",
    "valid_phone_ratio = [count / sum(valid_phone_counts) for count in valid_phone_counts]\n",
    "test_phone_ratio  = [count / sum(test_phone_counts) for count in test_phone_counts]"
   ]
  },
  {
   "cell_type": "code",
   "execution_count": null,
   "metadata": {
    "execution": {
     "iopub.execute_input": "2025-04-02T14:55:27.859812Z",
     "iopub.status.busy": "2025-04-02T14:55:27.859507Z",
     "iopub.status.idle": "2025-04-02T14:55:28.434432Z",
     "shell.execute_reply": "2025-04-02T14:55:28.433154Z",
     "shell.execute_reply.started": "2025-04-02T14:55:27.859782Z"
    },
    "trusted": true
   },
   "outputs": [
    {
     "data": {
      "image/png": "[encoded data removed]",
      "text/plain": [
       "<Figure size 2500x1000 with 1 Axes>"
      ]
     },
     "metadata": {},
     "output_type": "display_data"
    }
   ],
   "source": [
    "\n",
    "plt.figure(figsize=(25,10))\n",
    "\n",
    "plt.bar(phone_vocabs, train_phone_ratio, label=\"Train\")\n",
    "plt.bar(phone_vocabs, valid_phone_ratio, bottom=train_phone_ratio, label=\"Valid\")\n",
    "plt.bar(phone_vocabs, test_phone_ratio, bottom=[(x+y) for x,y in zip(train_phone_ratio, valid_phone_ratio)], label=\"Test\")\n",
    "\n",
    "plt.legend()\n",
    "\n",
    "plt.show()"
   ]
  },
  {
   "cell_type": "markdown",
   "metadata": {},
   "source": [
    "## Load Audio File"
   ]
  },
  {
   "cell_type": "code",
   "execution_count": 143,
   "metadata": {
    "execution": {
     "iopub.execute_input": "2025-04-02T14:57:00.521204Z",
     "iopub.status.busy": "2025-04-02T14:57:00.520366Z",
     "iopub.status.idle": "2025-04-02T14:57:00.542894Z",
     "shell.execute_reply": "2025-04-02T14:57:00.541957Z",
     "shell.execute_reply.started": "2025-04-02T14:57:00.521159Z"
    },
    "trusted": true
   },
   "outputs": [],
   "source": [
    "train_dataset = (train_dataset\n",
    "                 .cast_column(\"audio_file\", Audio(sampling_rate=16_000))\n",
    "                 .rename_column('audio_file', 'audio'))\n",
    "valid_dataset = (valid_dataset\n",
    "                 .cast_column(\"audio_file\", Audio(sampling_rate=16_000))\n",
    "                 .rename_column('audio_file', 'audio'))\n",
    "test_dataset = (test_dataset\n",
    "                 .cast_column(\"audio_file\", Audio(sampling_rate=16_000))\n",
    "                 .rename_column('audio_file', 'audio'))"
   ]
  },
  {
   "cell_type": "code",
   "execution_count": 144,
   "metadata": {
    "execution": {
     "iopub.execute_input": "2025-04-02T14:57:00.902643Z",
     "iopub.status.busy": "2025-04-02T14:57:00.902284Z",
     "iopub.status.idle": "2025-04-02T14:57:00.915180Z",
     "shell.execute_reply": "2025-04-02T14:57:00.913875Z",
     "shell.execute_reply.started": "2025-04-02T14:57:00.902591Z"
    },
    "trusted": true
   },
   "outputs": [
    {
     "data": {
      "text/plain": [
       "{'audio': {'path': '/kaggle/input/darpa-timit-acousticphonetic-continuous-speech/data/TRAIN/DR3/FALK0/SA1.WAV',\n",
       "  'array': array([-9.15527344e-05,  2.74658203e-04,  1.22070312e-04, ...,\n",
       "         -9.15527344e-05, -2.74658203e-04,  1.22070312e-04]),\n",
       "  'sampling_rate': 16000},\n",
       " 'text': 'she had your dark suit in greasy wash water all year',\n",
       " 'phonetic': 'h# sh iy hh eh h# d y er h# d aa r h# k s uw h# h# ih n h# g r iy z iy w aa sh h# w aa dx er h# aa l y ih er h#'}"
      ]
     },
     "execution_count": 144,
     "metadata": {},
     "output_type": "execute_result"
    }
   ],
   "source": [
    "train_dataset[0]"
   ]
  },
  {
   "cell_type": "code",
   "execution_count": 145,
   "metadata": {
    "execution": {
     "iopub.execute_input": "2025-04-02T14:57:02.131960Z",
     "iopub.status.busy": "2025-04-02T14:57:02.131627Z",
     "iopub.status.idle": "2025-04-02T14:57:02.161244Z",
     "shell.execute_reply": "2025-04-02T14:57:02.160143Z",
     "shell.execute_reply.started": "2025-04-02T14:57:02.131926Z"
    },
    "trusted": true
   },
   "outputs": [
    {
     "name": "stdout",
     "output_type": "stream",
     "text": [
      "Text: just drop notices in any suggestion box\n",
      "Phonetics: h# jh ah s h# d r aa h# n ow dx ih s ih z ih n iy s ah h# jh eh sh n h# b aa h# k s h#\n",
      "Input array shape: (38605,)\n",
      "Sampling rate: 16000\n"
     ]
    },
    {
     "data": {
      "text/html": [
       "\n",
       "                <audio  controls=\"controls\" >\n",
       "                    <source src=\"data:audio/wav;base64,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\" type=\"audio/wav\" />\n",
       "                    Your browser does not support the audio element.\n",
       "                </audio>\n",
       "              "
      ],
      "text/plain": [
       "<IPython.lib.display.Audio object>"
      ]
     },
     "execution_count": 145,
     "metadata": {},
     "output_type": "execute_result"
    }
   ],
   "source": [
    "import IPython.display as ipd\n",
    "import numpy as np\n",
    "import random\n",
    "\n",
    "rand_int = random.randint(0, len(train_dataset)-1)\n",
    "\n",
    "print(\"Text:\", train_dataset[rand_int][\"text\"])\n",
    "print(\"Phonetics:\", train_dataset[rand_int][\"phonetic\"])\n",
    "print(\"Input array shape:\", train_dataset[rand_int][\"audio\"][\"array\"].shape)\n",
    "print(\"Sampling rate:\", train_dataset[rand_int][\"audio\"][\"sampling_rate\"])\n",
    "ipd.Audio(data=train_dataset[rand_int][\"audio\"][\"array\"], autoplay=False, rate=16000)"
   ]
  },
  {
   "cell_type": "markdown",
   "metadata": {},
   "source": [
    "## Build Character Set"
   ]
  },
  {
   "cell_type": "code",
   "execution_count": 146,
   "metadata": {
    "execution": {
     "iopub.execute_input": "2025-04-02T14:57:28.992281Z",
     "iopub.status.busy": "2025-04-02T14:57:28.991928Z",
     "iopub.status.idle": "2025-04-02T14:57:29.002017Z",
     "shell.execute_reply": "2025-04-02T14:57:29.000912Z",
     "shell.execute_reply.started": "2025-04-02T14:57:28.992243Z"
    },
    "trusted": true
   },
   "outputs": [],
   "source": [
    "vocab_train = list(set(train_phonetics)) #+ [' ']\n",
    "vocab_valid = list(set(valid_phonetics)) #+ [' ']\n",
    "vocab_test  = list(set(test_phonetics)) #+ [' ']"
   ]
  },
  {
   "cell_type": "code",
   "execution_count": 147,
   "metadata": {
    "execution": {
     "iopub.execute_input": "2025-04-02T14:57:30.071452Z",
     "iopub.status.busy": "2025-04-02T14:57:30.071118Z",
     "iopub.status.idle": "2025-04-02T14:57:30.077524Z",
     "shell.execute_reply": "2025-04-02T14:57:30.076623Z",
     "shell.execute_reply.started": "2025-04-02T14:57:30.071416Z"
    },
    "trusted": true
   },
   "outputs": [
    {
     "name": "stdout",
     "output_type": "stream",
     "text": [
      "{'aa': 0, 'ae': 1, 'ah': 2, 'aw': 3, 'ay': 4, 'b': 5, 'ch': 6, 'd': 7, 'dh': 8, 'dx': 9, 'eh': 10, 'er': 11, 'ey': 12, 'f': 13, 'g': 14, 'h#': 15, 'hh': 16, 'ih': 17, 'iy': 18, 'jh': 19, 'k': 20, 'l': 21, 'm': 22, 'n': 23, 'ng': 24, 'ow': 25, 'oy': 26, 'p': 27, 'r': 28, 's': 29, 'sh': 30, 't': 31, 'th': 32, 'uh': 33, 'uw': 34, 'v': 35, 'w': 36, 'y': 37, 'z': 38}\n"
     ]
    }
   ],
   "source": [
    "vocab_list = list(set(vocab_train + vocab_valid + vocab_test))\n",
    "vocab_dict = {v: k for k, v in enumerate(sorted(vocab_list))}\n",
    "\n",
    "print(vocab_dict)"
   ]
  },
  {
   "cell_type": "code",
   "execution_count": 149,
   "metadata": {
    "execution": {
     "iopub.execute_input": "2025-04-02T14:57:32.119822Z",
     "iopub.status.busy": "2025-04-02T14:57:32.119454Z",
     "iopub.status.idle": "2025-04-02T14:57:32.126303Z",
     "shell.execute_reply": "2025-04-02T14:57:32.125060Z",
     "shell.execute_reply.started": "2025-04-02T14:57:32.119787Z"
    },
    "trusted": true
   },
   "outputs": [],
   "source": [
    "# save vocab.json\n",
    "\n",
    "with open('/kaggle/working/vocab.json', 'w') as vocab_file:\n",
    "    json.dump(vocab_dict, vocab_file)"
   ]
  },
  {
   "cell_type": "markdown",
   "metadata": {},
   "source": [
    "# Dataset"
   ]
  },
  {
   "cell_type": "markdown",
   "metadata": {},
   "source": [
    "## Default Dataset"
   ]
  },
  {
   "cell_type": "code",
   "execution_count": 153,
   "metadata": {},
   "outputs": [],
   "source": [
    "# --------------------------------\n",
    "# 1. Data Processing Components\n",
    "# --------------------------------\n",
    "\n",
    "def create_processor(ssl_model_name, tokenizer_dir):\n",
    "\n",
    "    tokenizer = Wav2Vec2PhonemeCTCTokenizer.from_pretrained(\n",
    "        \"/kaggle/working/\",\n",
    "        unk_token=\"[UNK]\",\n",
    "        pad_token=\"[PAD]\",\n",
    "        do_phonemize=False\n",
    "    )\n",
    "    \n",
    "    feature_extractor = Wav2Vec2FeatureExtractor.from_pretrained(\n",
    "        ssl_model_name,\n",
    "        feature_size=1, \n",
    "        sampling_rate=16000, \n",
    "        padding_value=0.0, \n",
    "        do_normalize=True, \n",
    "        return_attention_mask=True\n",
    "    )\n",
    "    \n",
    "    processor = Wav2Vec2Processor(feature_extractor=feature_extractor, tokenizer=tokenizer)\n",
    "    \n",
    "    return processor\n",
    "\n",
    "def prepare_dataset(batch, processor):\n",
    "    \"\"\"Prepare a dataset batch with the given processor\"\"\"\n",
    "    audio = batch[\"audio\"]\n",
    "    \n",
    "    batch[\"input_values\"] = processor(audio[\"array\"], \n",
    "                                    sampling_rate=audio[\"sampling_rate\"]).input_values[0]\n",
    "    batch[\"input_length\"] = len(batch[\"input_values\"])\n",
    "    \n",
    "    with processor.as_target_processor():\n",
    "        batch[\"labels\"] = processor(batch[\"phonetic\"]).input_ids\n",
    "    return batch\n",
    "\n",
    "@dataclass\n",
    "class DataCollatorCTCWithPadding:\n",
    "    processor: Wav2Vec2Processor\n",
    "    padding: Union[bool, str] = True\n",
    "\n",
    "    def __call__(self, features: List[Dict[str, Union[List[int], torch.Tensor]]]) -> Dict[str, torch.Tensor]:\n",
    "        input_features = [{\"input_values\": feature[\"input_values\"]} for feature in features]\n",
    "        label_features = [{\"input_ids\": feature[\"labels\"]} for feature in features]\n",
    "\n",
    "        batch = self.processor.pad(\n",
    "            input_features,\n",
    "            padding=self.padding,\n",
    "            return_tensors=\"pt\",\n",
    "        )\n",
    "\n",
    "        with self.processor.as_target_processor():\n",
    "            labels_batch = self.processor.pad(\n",
    "                label_features,\n",
    "                padding=self.padding,\n",
    "                return_tensors=\"pt\",\n",
    "            )\n",
    "\n",
    "        labels = labels_batch[\"input_ids\"].masked_fill(labels_batch.attention_mask.ne(1), -100)\n",
    "        batch[\"labels\"] = labels\n",
    "\n",
    "        return batch"
   ]
  },
  {
   "cell_type": "markdown",
   "metadata": {},
   "source": [
    "## SSL Features Dataset"
   ]
  },
  {
   "cell_type": "markdown",
   "metadata": {},
   "source": [
    "Class which is designed to dump features from different hidden states of given SSL model."
   ]
  },
  {
   "cell_type": "code",
   "execution_count": 155,
   "metadata": {},
   "outputs": [],
   "source": [
    "class SSLFeatureDumper:\n",
    "    def __init__(\n",
    "        self,\n",
    "        model,\n",
    "        data_collator,\n",
    "        device: str = None,\n",
    "    ):\n",
    "        \"\"\"\n",
    "        Args:\n",
    "            model: Pretrained SSL model (e.g. WavLMModel).\n",
    "            data_collator: DataCollator instance for batching raw audio.\n",
    "            device: Device to run inference on, e.g., \"cuda\" or \"cpu\". Defaults to GPU if available.\n",
    "        \"\"\"\n",
    "        self.device = device or (\"cuda\" if torch.cuda.is_available() else \"cpu\")\n",
    "        self.model = model.to(self.device)\n",
    "        self.model.eval()\n",
    "        self.collator = data_collator\n",
    "\n",
    "    def _create_data_loader(self, dataset, batch_size, num_workers):\n",
    "        \"\"\"Create a DataLoader for the dataset.\"\"\"\n",
    "        return DataLoader(\n",
    "            dataset,\n",
    "            batch_size=batch_size,\n",
    "            shuffle=False,\n",
    "            num_workers=num_workers,\n",
    "            collate_fn=self.collator,\n",
    "            pin_memory=True,\n",
    "        )\n",
    "\n",
    "    \n",
    "    def _initialize_storage(self, layer_indexes):\n",
    "        \"\"\"Initialize storage dictionaries for features and metadata.\"\"\"\n",
    "        # Prepare storage for each layer's features\n",
    "        layer_data = {\n",
    "            layer_idx: {\n",
    "                \"ssl_features\": [],\n",
    "                \"input_lengths\": [],\n",
    "                \"output_lengths\": [],\n",
    "            }\n",
    "            for layer_idx in layer_indexes\n",
    "        }\n",
    "        \n",
    "        # Storage for labels (only stored once)\n",
    "        labels_data = []\n",
    "        \n",
    "        return layer_data, labels_data\n",
    "\n",
    "        \n",
    "    def _process_batch(self, batch):\n",
    "        \"\"\"Process a single batch through the model.\"\"\"\n",
    "        # Move batch to device (excluding labels for memory efficiency)\n",
    "        input_values = batch[\"input_values\"].to(self.device)\n",
    "        attention_mask = batch.get(\"attention_mask\", None)\n",
    "        if attention_mask is not None:\n",
    "            attention_mask = attention_mask.to(self.device)\n",
    "        \n",
    "        # Get model outputs (including all hidden states)\n",
    "        outputs = self.model(\n",
    "            input_values,\n",
    "            attention_mask=attention_mask,\n",
    "            output_hidden_states=True,\n",
    "            return_dict=True,\n",
    "        )\n",
    "\n",
    "\n",
    "        attention_mask = (\n",
    "                attention_mask if attention_mask is not None else torch.ones_like(input_values, dtype=torch.long)\n",
    "            )\n",
    "        \n",
    "        input_lengths = attention_mask.sum(-1)\n",
    "        output_lengths = self._get_feat_extract_output_lengths(input_lengths).to(torch.long)\n",
    "            \n",
    "        return outputs, input_values, input_lengths, output_lengths\n",
    "\n",
    "    def _get_feat_extract_output_lengths(self, input_lengths):\n",
    "        \"\"\"Computes the output length of the convolutional layers\"\"\"\n",
    "\n",
    "        def _conv_out_length(input_length, kernel_size, stride):\n",
    "            # 1D convolutional layer output length formula taken\n",
    "            # from https://pytorch.org/docs/stable/generated/torch.nn.Conv1d.html\n",
    "            return torch.div(input_length - kernel_size, stride, rounding_mode=\"floor\") + 1\n",
    "\n",
    "        for kernel_size, stride in zip(self.model.config.conv_kernel, self.model.config.conv_stride):\n",
    "            input_lengths = _conv_out_length(input_lengths, kernel_size, stride)\n",
    "\n",
    "        return input_lengths\n",
    "\n",
    "    \n",
    "    def _extract_features(self, outputs, batch_idx, length, layer_idx):\n",
    "        \"\"\"Extract features for a specific example and layer.\"\"\"\n",
    "        if layer_idx == -1:\n",
    "            return outputs.last_hidden_state[batch_idx, :length].cpu().numpy()\n",
    "        else:\n",
    "            return outputs.hidden_states[layer_idx][batch_idx, :length].cpu().numpy()\n",
    "    \n",
    "    def _process_labels(self, batch, batch_idx):\n",
    "        \"\"\"Process labels for a specific example.\"\"\"\n",
    "        label_tensor = batch[\"labels\"][batch_idx].cpu()\n",
    "        return [token for token in label_tensor.tolist() if token >= 0]\n",
    "    \n",
    "    def _save_features(self, layer_data, layer_indexes, output_dir, filename_prefix):\n",
    "        \"\"\"Save extracted features to disk and return the saved data.\"\"\"\n",
    "        saved_data = []\n",
    "        for layer_idx in layer_indexes:\n",
    "            # Create a descriptive name for the layer\n",
    "            if layer_idx == -1:\n",
    "                layer_name = \"final\"\n",
    "            else:\n",
    "                layer_name = f\"layer{layer_idx}\"\n",
    "            \n",
    "            # Create the output path\n",
    "            output_file = os.path.join(output_dir, f\"{filename_prefix}_{layer_name}.pt\")\n",
    "            \n",
    "            # Save to file\n",
    "            torch.save(layer_data[layer_idx], output_file)\n",
    "            saved_data.append(layer_data[layer_idx])\n",
    "            \n",
    "            # Print statistics\n",
    "            self._print_layer_stats(layer_data[layer_idx], layer_name, output_file)\n",
    "            \n",
    "        return saved_data\n",
    "    \n",
    "    def _print_layer_stats(self, layer_data, layer_name, output_file):\n",
    "        \"\"\"Print statistics about the extracted features.\"\"\"\n",
    "        n_examples = len(layer_data[\"ssl_features\"])\n",
    "        if n_examples > 0:\n",
    "            feature_dim = layer_data[\"ssl_features\"][0].shape[-1]\n",
    "            avg_length = np.mean(layer_data[\"output_lengths\"])\n",
    "            print(f\"Layer {layer_name}: Saved {n_examples} examples to {output_file}\")\n",
    "            print(f\"  Feature dimension: {feature_dim}, Average out length: {avg_length:.2f}\")\n",
    "    \n",
    "    def dump_features(\n",
    "        self,\n",
    "        dataset,\n",
    "        output_dir: str,\n",
    "        filename_prefix: str,\n",
    "        layer_indexes: Union[int, List[int]] = -1,\n",
    "        batch_size: int = 8,\n",
    "        num_workers: int = 4,\n",
    "    ):\n",
    "        \"\"\"\n",
    "        Extracts features from one or multiple SSL layers and saves them to disk.\n",
    "        \n",
    "        Args:\n",
    "            dataset: A torch Dataset returning dicts with input_values and optional labels.\n",
    "            output_dir: Directory to save feature files.\n",
    "            filename_prefix: Prefix for each output file (e.g. \"train\" yields \"train_layer12.pt\").\n",
    "            layer_indexes: Layer index or list of layer indices to extract features from.\n",
    "                          Use -1 for the final layer's output.\n",
    "            batch_size: Batch size for the DataLoader.\n",
    "            num_workers: Number of workers for the DataLoader.\n",
    "            \n",
    "        Returns:\n",
    "            Dict or List[Dict]: The extracted data, either a single dict or list of dicts (one per layer)\n",
    "        \"\"\"\n",
    "        os.makedirs(output_dir, exist_ok=True)\n",
    "        \n",
    "        # Convert single layer_index to list for unified processing\n",
    "        if isinstance(layer_indexes, int):\n",
    "            layer_indexes = [layer_indexes]\n",
    "            \n",
    "        # Create data loader\n",
    "        loader = self._create_data_loader(dataset, batch_size, num_workers)\n",
    "        \n",
    "        # Initialize storage\n",
    "        layer_data, labels_data = self._initialize_storage(layer_indexes)\n",
    "        \n",
    "        # Flag to check if dataset has labels\n",
    "        has_labels = False\n",
    "        \n",
    "        # Process all batches\n",
    "        with torch.no_grad():\n",
    "            for batch in tqdm(loader, desc=f\"Processing features for {len(layer_indexes)} layer(s)\"):\n",
    "                # Check for labels\n",
    "                if not has_labels and \"labels\" in batch:\n",
    "                    has_labels = True\n",
    "                \n",
    "                # Process batch through model\n",
    "                outputs, input_values, input_lengths, output_lengths = self._process_batch(batch)\n",
    "                \n",
    "                # Process each example in the batch\n",
    "                for i in range(input_values.size(0)):\n",
    "                    input_length = int(input_lengths[i])\n",
    "                    output_length = int(output_lengths[i])\n",
    "                    \n",
    "                    # Process labels if available\n",
    "                    if has_labels:\n",
    "                        labels_data.append(self._process_labels(batch, i))\n",
    "                    \n",
    "                    # Extract features for each requested layer\n",
    "                    for layer_idx in layer_indexes:\n",
    "                        feats = self._extract_features(outputs, i, output_length, layer_idx)\n",
    "                        \n",
    "                        # Store this example's data\n",
    "                        layer_data[layer_idx][\"ssl_features\"].append(feats)\n",
    "                        layer_data[layer_idx][\"input_lengths\"].append(input_length)\n",
    "                        layer_data[layer_idx][\"output_lengths\"].append(output_length)\n",
    "        \n",
    "        # Add labels to all layers if present\n",
    "        if has_labels:\n",
    "            for layer_idx in layer_indexes:\n",
    "                layer_data[layer_idx][\"labels\"] = labels_data\n",
    "        \n",
    "        # Save features to disk\n",
    "        saved_data = self._save_features(layer_data, layer_indexes, output_dir, filename_prefix)\n",
    "        \n",
    "        # Return single dict for single layer or list for multiple layers\n",
    "        if len(layer_indexes) == 1:\n",
    "            return saved_data[0]\n",
    "        return saved_data"
   ]
  },
  {
   "cell_type": "markdown",
   "metadata": {},
   "source": [
    "Dataset class which loads dumped features and prepares them for training."
   ]
  },
  {
   "cell_type": "code",
   "execution_count": 156,
   "metadata": {},
   "outputs": [],
   "source": [
    "class SSLFeatureDataset(Dataset):\n",
    "    \"\"\"Dataset for loading pre-extracted SSL features for use with HuggingFace Trainer\"\"\"\n",
    "    \n",
    "    def __init__(self, features_file: str, max_length: Optional[int] = None, convert_to_tensor: bool = False):\n",
    "        \"\"\"\n",
    "        Args:\n",
    "            features_file: Path to the file with pre-extracted features\n",
    "            max_length: Maximum sequence length (will clip longer sequences)\n",
    "            convert_to_tensor: Whether to convert features to PyTorch tensors during loading\n",
    "        \"\"\"\n",
    "        self._data = torch.load(features_file)\n",
    "        self.max_length = max_length\n",
    "        self.convert_to_tensor = convert_to_tensor\n",
    "        \n",
    "        # Verify data integrity\n",
    "        assert len(self._data[\"ssl_features\"]) > 0, \"Empty features dataset\"\n",
    "            \n",
    "        print(f\"Loaded {len(self._data['ssl_features'])} examples from {features_file}\")\n",
    "        if len(self._data['ssl_features']) > 0:\n",
    "            print(f\"Feature dimension: {self._data['ssl_features'][0].shape[-1]}\")\n",
    "            print(f\"Feature type: {type(self._data['ssl_features'][0])}\")\n",
    "            \n",
    "    def __len__(self):\n",
    "        return len(self._data[\"ssl_features\"])\n",
    "    \n",
    "    def __getitem__(self, idx):\n",
    "        features = self._data[\"ssl_features\"][idx]\n",
    "        \n",
    "        # Clip if needed\n",
    "        if self.max_length and features.shape[0] > self.max_length:\n",
    "            features = features[:self.max_length]\n",
    "            \n",
    "        # Convert to tensor if requested and needed\n",
    "        if self.convert_to_tensor and isinstance(features, np.ndarray):\n",
    "            features = torch.from_numpy(features).float()\n",
    "        \n",
    "        # Create attention mask (1 for non-padded positions)\n",
    "        attention_mask = torch.ones(features.shape[0], dtype=torch.long)\n",
    "        \n",
    "        # Build the item dictionary\n",
    "        item = {\n",
    "            \"input_ids\": features,  # Renamed from \"features\" for clarity\n",
    "            \"attention_mask\": attention_mask,\n",
    "        }\n",
    "        \n",
    "        # Add labels if available\n",
    "        if \"labels\" in self._data and self._data[\"labels\"][idx] is not None:\n",
    "            labels = self._data[\"labels\"][idx]\n",
    "            if self.convert_to_tensor and isinstance(labels, np.ndarray):\n",
    "                labels = torch.from_numpy(labels).long()\n",
    "            item[\"labels\"] = labels\n",
    "            \n",
    "        return item\n",
    "\n",
    "\n",
    "@dataclass\n",
    "class FeatureCollatorCTCForTrainer:\n",
    "    \"\"\"\n",
    "    Collator for pre-extracted SSL features to be used with CTC loss in HuggingFace Trainer\n",
    "    Implemented as a dataclass for compatibility with Trainer\n",
    "    \"\"\"\n",
    "    pad_token_id: int = -100\n",
    "    feature_dim: Optional[int] = None\n",
    "    \n",
    "    def __call__(self, batch: List[Dict[str, Any]]) -> Dict[str, torch.Tensor]:\n",
    "        # Get the features from each item\n",
    "        features = [item[\"input_ids\"] for item in batch]\n",
    "        \n",
    "        # Get feature dimension if not provided\n",
    "        if self.feature_dim is None:\n",
    "            self.feature_dim = features[0].shape[-1]\n",
    "            \n",
    "        # Get max sequence length in this batch\n",
    "        max_length = max(feat.shape[0] for feat in features)\n",
    "        \n",
    "        # Create padded feature tensor and attention mask\n",
    "        batch_size = len(features)\n",
    "        padded_features = torch.zeros((batch_size, max_length, self.feature_dim))\n",
    "        attention_mask = torch.zeros((batch_size, max_length), dtype=torch.long)\n",
    "        \n",
    "        # Fill in the data - convert NumPy arrays to PyTorch tensors\n",
    "        for i, feat in enumerate(features):\n",
    "            seq_len = feat.shape[0]\n",
    "            # Convert numpy array to torch tensor if needed\n",
    "            if isinstance(feat, np.ndarray):\n",
    "                feat_tensor = torch.from_numpy(feat).float()\n",
    "            else:\n",
    "                feat_tensor = feat.float() if feat.dtype != torch.float32 else feat\n",
    "                \n",
    "            padded_features[i, :seq_len] = feat_tensor\n",
    "            attention_mask[i, :seq_len] = 1\n",
    "            \n",
    "        # Process labels if available\n",
    "        result = {\n",
    "            \"input_values\": padded_features,  # HF often expects 'input_features' for audio\n",
    "            \"attention_mask\": attention_mask,\n",
    "        }\n",
    "        \n",
    "        # Add labels if provided\n",
    "        if \"labels\" in batch[0] and batch[0][\"labels\"] is not None:\n",
    "            labels = [item[\"labels\"] for item in batch]\n",
    "            max_label_len = max(len(label) for label in labels)\n",
    "            \n",
    "            padded_labels = torch.full(\n",
    "                (batch_size, max_label_len), \n",
    "                self.pad_token_id, \n",
    "                dtype=torch.long\n",
    "            )\n",
    "            \n",
    "            for i, label in enumerate(labels):\n",
    "                if len(label) > 0:  # Skip empty labels\n",
    "                    # Convert to tensor if it's a numpy array\n",
    "                    if isinstance(label, np.ndarray):\n",
    "                        label_tensor = torch.from_numpy(label).long()\n",
    "                    elif isinstance(label, list):\n",
    "                        label_tensor = torch.tensor(label, dtype=torch.long)\n",
    "                    else:\n",
    "                        label_tensor = label.long() if label.dtype != torch.int64 else label\n",
    "                        \n",
    "                    padded_labels[i, :len(label)] = label_tensor\n",
    "                    \n",
    "            result[\"labels\"] = padded_labels\n",
    "            \n",
    "        return result"
   ]
  },
  {
   "cell_type": "code",
   "execution_count": null,
   "metadata": {},
   "outputs": [],
   "source": [
    "# Example usage\n",
    "\n",
    "model, data_collator = []\n",
    "dumper = SSLFeatureDumper(model, data_collator)\n",
    "\n",
    "\n",
    "dumper.dump_features(\n",
    "    dataset=train_dataset,\n",
    "    output_dir=\"train/\",\n",
    "    filename_prefix=\"train\",\n",
    "    layer_indexes=[11, 15, 19, -1]\n",
    ")\n",
    "\n",
    "dumper.dump_features(\n",
    "    dataset=valid_dataset,\n",
    "    output_dir=\"valid/\",\n",
    "    filename_prefix=\"valid\",\n",
    "    layer_indexes=[11, 15, 19, -1]\n",
    ")\n",
    "\n",
    "dumper.dump_features(\n",
    "    dataset=test_dataset,\n",
    "    output_dir=\"test/\",\n",
    "    filename_prefix=\"test\",\n",
    "    layer_indexes=[11, 15, 19, -1]\n",
    ")"
   ]
  },
  {
   "cell_type": "markdown",
   "metadata": {},
   "source": [
    "## Extracted Dataset\n",
    "dataset link - https://www.kaggle.com/datasets/nuinashco/timit-ssl-features\n",
    "\n",
    "detailed code - https://github.com/te1ord/PhonemeRecognition/blob/main/notebooks/ssl_features_dump.ipynb"
   ]
  },
  {
   "cell_type": "markdown",
   "metadata": {},
   "source": [
    "# Model"
   ]
  },
  {
   "cell_type": "markdown",
   "metadata": {},
   "source": [
    "Universal class which works in 3 modes:\n",
    "\n",
    "1. heads fine-tuning on dumped features\n",
    "2. fine-tuning of whole model (along with custom heads and ssl)\n",
    "3. fine-tuning of custom heads on features extracted on-the-fly"
   ]
  },
  {
   "cell_type": "code",
   "execution_count": 108,
   "metadata": {},
   "outputs": [],
   "source": [
    "###########################################################\n",
    "### FULL CUSTOM\n",
    "###########################################################\n",
    "\n",
    "# ----------------------------\n",
    "# Custom Wrapper Modules\n",
    "# ----------------------------\n",
    "\n",
    "data_collator\n",
    "class GRUWrapper(nn.Module):\n",
    "    def __init__(self, input_size, hidden_size, bidirectional=True, batch_first=True):\n",
    "        super().__init__()\n",
    "        self.gru = nn.GRU(input_size, hidden_size, batch_first=batch_first, bidirectional=bidirectional)\n",
    "    \n",
    "    def forward(self, x):\n",
    "        out, _ = self.gru(x)\n",
    "        return out\n",
    "\n",
    "class AttentionWrapper(nn.Module):\n",
    "    def __init__(self, hidden_size, num_heads=8, dropout=0.0, batch_first=True):\n",
    "        super().__init__()\n",
    "        self.attention = nn.MultiheadAttention(hidden_size, num_heads=num_heads, dropout=dropout, batch_first=batch_first)\n",
    "        self.layer_norm = nn.LayerNorm(hidden_size)\n",
    "    \n",
    "    def forward(self, x):\n",
    "        attn_output, _ = self.attention(x, x, x)\n",
    "        out = self.layer_norm(x + attn_output)\n",
    "        return out\n",
    "\n",
    "# ----------------------------\n",
    "# SSL Model with Custom Head\n",
    "# ----------------------------\n",
    "\n",
    "class SSLModelWithCustomHead(nn.Module):\n",
    "    def __init__(self, ssl_model_name, mode, head_type, vocab_size, processor, hidden_size=None, dropout=0.1):\n",
    "        super().__init__()\n",
    "        self.mode = mode\n",
    "\n",
    "        if self.mode != 'ssl_ft':\n",
    "            self.ssl_model = AutoModel.from_pretrained(ssl_model_name)\n",
    "\n",
    "            if hidden_size is None:\n",
    "                self.hidden_size = self.ssl_model.config.hidden_size\n",
    "            else:\n",
    "                self.hidden_size = hidden_size\n",
    "        else:\n",
    "            self.hidden_size = 1024 # dim of extracted feature embeddings from hidden states\n",
    "\n",
    "\n",
    "        self.processor=processor            \n",
    "        self.dropout = nn.Dropout(dropout)\n",
    "        self.vocab_size = vocab_size\n",
    "        self.head_type = head_type\n",
    "        \n",
    "        if head_type == \"linear\":\n",
    "            self.head = nn.Sequential(\n",
    "                nn.Linear(self.hidden_size, vocab_size)\n",
    "            )\n",
    "        elif head_type == \"mlp\":\n",
    "            self.head = nn.Sequential(\n",
    "                nn.Linear(self.hidden_size, self.hidden_size),\n",
    "                nn.GELU(),\n",
    "                nn.Dropout(dropout),\n",
    "                nn.Linear(self.hidden_size, vocab_size)\n",
    "            )\n",
    "        elif head_type == \"gru\":\n",
    "            self.head = nn.Sequential(\n",
    "                GRUWrapper(self.hidden_size, self.hidden_size, bidirectional=True, batch_first=True),\n",
    "                nn.Linear(self.hidden_size * 2, vocab_size)\n",
    "            )\n",
    "        elif head_type == \"conv\":\n",
    "            self.head = nn.Sequential(\n",
    "                nn.Conv1d(self.hidden_size, self.hidden_size, kernel_size=3, padding=1),\n",
    "                nn.GELU(),\n",
    "                nn.Dropout(dropout),\n",
    "                nn.Conv1d(self.hidden_size, vocab_size, kernel_size=1)\n",
    "            )\n",
    "        elif head_type == \"attention\":\n",
    "            self.head = nn.Sequential(\n",
    "                AttentionWrapper(self.hidden_size, num_heads=8, dropout=dropout, batch_first=True),\n",
    "                nn.Linear(self.hidden_size, vocab_size)\n",
    "            )\n",
    "        else:\n",
    "            raise ValueError(f\"Unsupported head type: {head_type}\")\n",
    "    \n",
    "    def freeze_feature_encoder(self):\n",
    "        \"\"\"\n",
    "        Freeze all parameters of the SSL model so that only the head remains trainable.\n",
    "        \"\"\"\n",
    "        for param in self.ssl_model.parameters():\n",
    "            param.requires_grad = False\n",
    "    \n",
    "    def print_trainable_params(self):\n",
    "        total_params = sum(p.numel() for p in self.parameters())\n",
    "        trainable_params = sum(p.numel() for p in self.parameters() if p.requires_grad)\n",
    "        print(f\"Total parameters: {total_params:,}\")\n",
    "        print(f\"Trainable parameters: {trainable_params:,}\")\n",
    "        \n",
    "    def gradient_checkpointing_enable(self):\n",
    "        \"\"\"Enable gradient checkpointing for the SSL model.\"\"\"\n",
    "        self.ssl_model.gradient_checkpointing_enable()\n",
    "    \n",
    "    def _get_feat_extract_output_lengths(self, input_lengths, add_adapter: bool = None):\n",
    "        \"\"\"\n",
    "        Computes the output length of the convolutional layers.\n",
    "\n",
    "        Parameters:\n",
    "          input_lengths (torch.LongTensor or int): The original input lengths.\n",
    "          add_adapter (bool, optional): Whether to account for adapter layers.\n",
    "            Defaults to the value from self.ssl_model.config.add_adapter.\n",
    "        \"\"\"\n",
    "        \n",
    "        config = self.ssl_model.config\n",
    "        add_adapter = config.add_adapter if add_adapter is None else add_adapter\n",
    "\n",
    "        def _conv_out_length(input_length, kernel_size, stride):\n",
    "            # 1D convolutional layer output length formula from PyTorch docs.\n",
    "            return torch.div(input_length - kernel_size, stride, rounding_mode=\"floor\") + 1\n",
    "\n",
    "        for kernel_size, stride in zip(config.conv_kernel, config.conv_stride):\n",
    "            input_lengths = _conv_out_length(input_lengths, kernel_size, stride)\n",
    "\n",
    "        if add_adapter:\n",
    "            for _ in range(config.num_adapter_layers):\n",
    "                input_lengths = _conv_out_length(input_lengths, 1, config.adapter_stride)\n",
    "\n",
    "        return input_lengths\n",
    "\n",
    "    # adapted from https://github.com/huggingface/transformers/blob/main/src/transformers/models/wav2vec2/modeling_wav2vec2.py\n",
    "    def forward(self, input_values, input_ids=None, attention_mask=None, labels=None):\n",
    "\n",
    "        if self.mode == 'ssl_ft':\n",
    "            hidden_states = input_values\n",
    "        else:\n",
    "            outputs = self.ssl_model(\n",
    "                input_values,\n",
    "                attention_mask=attention_mask,\n",
    "                output_hidden_states=True,\n",
    "            )\n",
    "        \n",
    "            if hasattr(outputs, \"last_hidden_state\"):\n",
    "                hidden_states = outputs.last_hidden_state\n",
    "            else:\n",
    "                hidden_states = outputs[0]\n",
    "            \n",
    "        hidden_states = self.dropout(hidden_states)\n",
    "        \n",
    "\n",
    "        if self.head_type == \"conv\":\n",
    "            hidden_states = hidden_states.transpose(1, 2)\n",
    "            logits = self.head(hidden_states)\n",
    "            logits = logits.transpose(1, 2)\n",
    "        else:\n",
    "            logits = self.head(hidden_states)\n",
    "        \n",
    "        loss = None\n",
    "        if labels is not None:\n",
    "            # Compute log probabilities with float32 for FP16/mixed precision stability\n",
    "            log_probs = nn.functional.log_softmax(logits, dim=-1, dtype=torch.float32).transpose(0, 1)\n",
    "            \n",
    "            # Compute effective input lengths from attention_mask if provided\n",
    "            if attention_mask is not None:\n",
    "                if self.mode == 'ssl_ft':\n",
    "                    input_lengths = attention_mask.sum(-1)\n",
    "                else:                \n",
    "                    # attention_mask is assumed to be [batch, seq] with 1's for valid tokens.\n",
    "                    input_lengths = self._get_feat_extract_output_lengths(attention_mask.sum(-1)).to(torch.long)\n",
    "            else:\n",
    "                raise \"NO ATTENTION MASK!!!\"\n",
    "            \n",
    "            labels_mask = labels >= 0\n",
    "            target_lengths = labels_mask.sum(-1)\n",
    "            flattened_targets = labels.masked_select(labels_mask)\n",
    "            \n",
    "            blank_token = self.processor.tokenizer.pad_token_id\n",
    "            \n",
    "            with torch.backends.cudnn.flags(enabled=False):\n",
    "                loss = nn.functional.ctc_loss(\n",
    "                    log_probs,\n",
    "                    flattened_targets,\n",
    "                    input_lengths,\n",
    "                    target_lengths,\n",
    "                    blank=blank_token,\n",
    "                    reduction=\"mean\",# important param - check how model was trained\n",
    "                    zero_infinity=False, # important param - check how model was trained\n",
    "                )\n",
    "            \n",
    "        return {\"loss\": loss, \"logits\": logits} if loss is not None else logits\n",
    "\n"
   ]
  },
  {
   "cell_type": "markdown",
   "metadata": {},
   "source": [
    "# Metric"
   ]
  },
  {
   "cell_type": "markdown",
   "metadata": {},
   "source": [
    "We use WER metric as we changed tokenizer to Wav2Vec2PhonemeCTCTokenizer to make spaces between phonemes"
   ]
  },
  {
   "cell_type": "code",
   "execution_count": 109,
   "metadata": {},
   "outputs": [],
   "source": [
    "def get_metrics_computer(tokenizer):\n",
    "\n",
    "    wer_metric = load(\"wer\")\n",
    "\n",
    "    def compute_metrics(pred):\n",
    "        import numpy as np\n",
    "\n",
    "        pred_logits = pred.predictions\n",
    "        pred_ids = np.argmax(pred_logits, axis=-1)\n",
    "\n",
    "        pred.label_ids[pred.label_ids == -100] = tokenizer.pad_token_id\n",
    "\n",
    "        pred_str = tokenizer.batch_decode(pred_ids)\n",
    "        label_str = tokenizer.batch_decode(pred.label_ids, group_tokens=False)\n",
    "        \n",
    "        per = wer_metric.compute(predictions=pred_str, references=label_str)\n",
    "        \n",
    "        print(\"Predicted sample:\", pred_str[0])\n",
    "        print(\"Ground Truth sample:\", label_str[0])\n",
    "        print()\n",
    "        \n",
    "        return {\"per\": per}\n",
    "    \n",
    "    return compute_metrics"
   ]
  },
  {
   "cell_type": "markdown",
   "metadata": {},
   "source": [
    "# Experiments runner"
   ]
  },
  {
   "cell_type": "code",
   "execution_count": 160,
   "metadata": {},
   "outputs": [],
   "source": [
    "# --------------------------------\n",
    "# Complete Pipeline\n",
    "# --------------------------------\n",
    "\n",
    "def run_experiment(ssl_model_name=\"facebook/wav2vec2-xls-r-300m\",\n",
    "                   head_type=\"linear\", \n",
    "                   tokenizer_dir=\"./\",\n",
    "                   train_dataset=None,\n",
    "                   valid_dataset=None,\n",
    "                   test_dataset=None,\n",
    "                   processor=None,\n",
    "                   num_epochs=10,\n",
    "                   max_steps=800,\n",
    "                   train_batch_size=16,\n",
    "                   eval_batch_size=16,\n",
    "                   grad_acum_steps=1,\n",
    "                   logging_steps = 20,\n",
    "                   eval_steps = 100,\n",
    "                   learning_rate=1e-4,\n",
    "                   use_wandb=True,\n",
    "                   use_grad_checkpointing=False,\n",
    "                   freeze_encoder=True,\n",
    "                   dropout = 0,\n",
    "                   experiment_name=None,\n",
    "                   output_dir=None,\n",
    "                   training_mode='ssl_ft'):\n",
    "\n",
    "    if experiment_name is None:\n",
    "        model_type = ssl_model_name.split('/')[-1].split('-')[0]\n",
    "        experiment_name = f\"{model_type}-{head_type}\"\n",
    "    \n",
    "    if output_dir is None:\n",
    "        output_dir = f'./output/{experiment_name}'\n",
    "    \n",
    "    if use_wandb:\n",
    "        os.environ[\"WANDB_LOG_MODEL\"] = \"end\"\n",
    "        wandb.login(key=WANDB_KEY)\n",
    "        wandb.init(\n",
    "            project=\"iasa-ucu-audio-processing\",\n",
    "            entity=\"BashHav\", \n",
    "            name=experiment_name,\n",
    "            settings=wandb.Settings(init_timeout=180) \n",
    "        )\n",
    "    \n",
    "    #  data collator\n",
    "    if training_mode == 'ssl_ft':\n",
    "        data_collator = FeatureCollatorCTCForTrainer()\n",
    "    else:\n",
    "        data_collator = DataCollatorCTCWithPadding(processor=processor, padding=True)\n",
    "    \n",
    "    # model \n",
    "    model = SSLModelWithCustomHead(\n",
    "        ssl_model_name=ssl_model_name,\n",
    "        head_type=head_type,\n",
    "        processor=processor,\n",
    "        vocab_size=len(processor.tokenizer),\n",
    "        dropout=dropout,\n",
    "        mode=training_mode\n",
    "    )\n",
    "\n",
    "    # grad checkpointing\n",
    "    if use_grad_checkpointing and training_mode != 'ssl_ft':\n",
    "        model.gradient_checkpointing_enable()\n",
    "    \n",
    "    # freeze backbone\n",
    "    if freeze_encoder and training_mode != 'ssl_ft':\n",
    "        print(\"Freezing feature encoder...\")\n",
    "        model.freeze_feature_encoder()\n",
    "\n",
    "    model.print_trainable_params()\n",
    "\n",
    "    # training arguments\n",
    "    training_args = TrainingArguments(\n",
    "        output_dir=output_dir,\n",
    "        group_by_length=True,\n",
    "        per_device_train_batch_size=train_batch_size,\n",
    "        per_device_eval_batch_size=eval_batch_size,\n",
    "        gradient_accumulation_steps=grad_acum_steps,\n",
    "        eval_strategy=\"steps\",\n",
    "        gradient_checkpointing=use_grad_checkpointing,\n",
    "        fp16=True,\n",
    "        num_train_epochs=num_epochs,\n",
    "        max_steps=max_steps,\n",
    "        save_steps=eval_steps,\n",
    "        eval_steps=eval_steps,\n",
    "        logging_steps=logging_steps,\n",
    "        learning_rate=learning_rate,\n",
    "        warmup_ratio=0.1,\n",
    "        save_total_limit=3,\n",
    "        load_best_model_at_end=True,\n",
    "        greater_is_better=False,\n",
    "        metric_for_best_model=\"eval_per\",\n",
    "        report_to=\"wandb\" if use_wandb else \"none\",\n",
    "    )\n",
    "    \n",
    "    # compute metrics\n",
    "    compute_metrics_fn = get_metrics_computer(processor.tokenizer)\n",
    "\n",
    "    # trainer\n",
    "    trainer = Trainer(\n",
    "        model=model,\n",
    "        data_collator=data_collator,\n",
    "        args=training_args,\n",
    "        compute_metrics=compute_metrics_fn,\n",
    "        train_dataset=train_dataset,\n",
    "        eval_dataset=valid_dataset,\n",
    "        tokenizer=processor.feature_extractor if training_mode != 'ssl_ft' else None\n",
    "    )\n",
    "    \n",
    "    # train\n",
    "    if use_grad_checkpointing and training_mode != 'ssl_ft':\n",
    "        model.ssl_model.config.use_cache = False\n",
    "    trainer.train()\n",
    "\n",
    "    trainer.save_model(f'{output_dir}/best')\n",
    "    \n",
    "    if use_wandb:\n",
    "        wandb.finish()\n",
    "    \n",
    "    return model, trainer"
   ]
  },
  {
   "cell_type": "markdown",
   "metadata": {},
   "source": [
    "# Running"
   ]
  },
  {
   "cell_type": "code",
   "execution_count": 158,
   "metadata": {},
   "outputs": [],
   "source": [
    "ssl_model_name = \"microsoft/wavlm-large\"\n",
    "tokenizer_dir = \"/kaggle/working/\""
   ]
  },
  {
   "cell_type": "code",
   "execution_count": 159,
   "metadata": {},
   "outputs": [
    {
     "name": "stdout",
     "output_type": "stream",
     "text": [
      "Creating processor for microsoft/wavlm-large...\n",
      "Processing datasets...\n"
     ]
    },
    {
     "data": {
      "application/vnd.jupyter.widget-view+json": {
       "model_id": "4ec1c4a4e4cb4d1d883d48a17e7f611c",
       "version_major": 2,
       "version_minor": 0
      },
      "text/plain": [
       "Map:   0%|          | 0/1440 [00:00<?, ? examples/s]"
      ]
     },
     "metadata": {},
     "output_type": "display_data"
    },
    {
     "name": "stderr",
     "output_type": "stream",
     "text": [
      "/usr/local/lib/python3.10/dist-packages/transformers/models/wav2vec2/processing_wav2vec2.py:174: UserWarning: `as_target_processor` is deprecated and will be removed in v5 of Transformers. You can process your labels by using the argument `text` of the regular `__call__` method (either in the same call as your audio inputs, or in a separate call.\n",
      "  warnings.warn(\n"
     ]
    },
    {
     "data": {
      "application/vnd.jupyter.widget-view+json": {
       "model_id": "32bd3b70304c435f8a822aac4215b8d0",
       "version_major": 2,
       "version_minor": 0
      },
      "text/plain": [
       "Map:   0%|          | 0/240 [00:00<?, ? examples/s]"
      ]
     },
     "metadata": {},
     "output_type": "display_data"
    },
    {
     "data": {
      "application/vnd.jupyter.widget-view+json": {
       "model_id": "e230f5ac950741598202212c535a7f2b",
       "version_major": 2,
       "version_minor": 0
      },
      "text/plain": [
       "Map:   0%|          | 0/1680 [00:00<?, ? examples/s]"
      ]
     },
     "metadata": {},
     "output_type": "display_data"
    }
   ],
   "source": [
    "# default ds processing\n",
    "print(f\"Creating processor for {ssl_model_name}...\")\n",
    "processor = create_processor(ssl_model_name, tokenizer_dir)\n",
    "\n",
    "if \"input_values\" not in train_dataset.features:\n",
    "    print(\"Processing datasets...\")\n",
    "    prepare_fn = lambda batch: prepare_dataset(batch, processor)\n",
    "    train_dataset = train_dataset.map(prepare_fn)\n",
    "    valid_dataset = valid_dataset.map(prepare_fn)\n",
    "    test_dataset = test_dataset.map(prepare_fn)"
   ]
  },
  {
   "cell_type": "code",
   "execution_count": 75,
   "metadata": {},
   "outputs": [
    {
     "name": "stderr",
     "output_type": "stream",
     "text": [
      "<ipython-input-50-bbf731af2970>:17: FutureWarning: You are using `torch.load` with `weights_only=False` (the current default value), which uses the default pickle module implicitly. It is possible to construct malicious pickle data which will execute arbitrary code during unpickling (See https://github.com/pytorch/pytorch/blob/main/SECURITY.md#untrusted-models for more details). In a future release, the default value for `weights_only` will be flipped to `True`. This limits the functions that could be executed during unpickling. Arbitrary objects will no longer be allowed to be loaded via this mode unless they are explicitly allowlisted by the user via `torch.serialization.add_safe_globals`. We recommend you start setting `weights_only=True` for any use case where you don't have full control of the loaded file. Please open an issue on GitHub for any issues related to this experimental feature.\n",
      "  self._data = torch.load(features_file)\n"
     ]
    },
    {
     "name": "stdout",
     "output_type": "stream",
     "text": [
      "Loaded 1440 examples from /kaggle/input/timit-ssl-features/train/train_layer19.pt\n",
      "Feature dimension: 1024\n",
      "Feature type: <class 'numpy.ndarray'>\n",
      "Loaded 240 examples from /kaggle/input/timit-ssl-features/valid/valid_layer19.pt\n",
      "Feature dimension: 1024\n",
      "Feature type: <class 'numpy.ndarray'>\n",
      "Loaded 1680 examples from /kaggle/input/timit-ssl-features/test/test_layer19.pt\n",
      "Feature dimension: 1024\n",
      "Feature type: <class 'numpy.ndarray'>\n"
     ]
    }
   ],
   "source": [
    "# ssl ds from specific hidden_state\n",
    "\n",
    "ssl_train_dataset = SSLFeatureDataset(\"/kaggle/input/timit-ssl-features/train/train_layer19.pt\")\n",
    "ssl_eval_dataset = SSLFeatureDataset(\"/kaggle/input/timit-ssl-features/valid/valid_layer19.pt\")\n",
    "ssl_test_dataset = SSLFeatureDataset(\"/kaggle/input/timit-ssl-features/test/test_layer19.pt\")"
   ]
  },
  {
   "cell_type": "code",
   "execution_count": 162,
   "metadata": {},
   "outputs": [
    {
     "name": "stderr",
     "output_type": "stream",
     "text": [
      "\u001b[34m\u001b[1mwandb\u001b[0m: \u001b[33mWARNING\u001b[0m Calling wandb.login() after wandb.init() has no effect.\n"
     ]
    },
    {
     "name": "stdout",
     "output_type": "stream",
     "text": [
      "Total parameters: 319,697,643\n",
      "Trainable parameters: 319,697,643\n"
     ]
    },
    {
     "name": "stderr",
     "output_type": "stream",
     "text": [
      "<ipython-input-160-ba58b8b67f3f>:109: FutureWarning: `tokenizer` is deprecated and will be removed in version 5.0.0 for `Trainer.__init__`. Use `processing_class` instead.\n",
      "  trainer = Trainer(\n",
      "/usr/local/lib/python3.10/dist-packages/transformers/models/wav2vec2/processing_wav2vec2.py:174: UserWarning: `as_target_processor` is deprecated and will be removed in v5 of Transformers. You can process your labels by using the argument `text` of the regular `__call__` method (either in the same call as your audio inputs, or in a separate call.\n",
      "  warnings.warn(\n",
      "/usr/local/lib/python3.10/dist-packages/torch/nn/functional.py:5849: UserWarning: Support for mismatched key_padding_mask and attn_mask is deprecated. Use same type for both instead.\n",
      "  warnings.warn(\n"
     ]
    },
    {
     "data": {
      "text/html": [
       "\n",
       "    <div>\n",
       "      \n",
       "      <progress value='800' max='800' style='width:300px; height:20px; vertical-align: middle;'></progress>\n",
       "      [800/800 27:56, Epoch 8/9]\n",
       "    </div>\n",
       "    <table border=\"1\" class=\"dataframe\">\n",
       "  <thead>\n",
       " <tr style=\"text-align: left;\">\n",
       "      <th>Step</th>\n",
       "      <th>Training Loss</th>\n",
       "      <th>Validation Loss</th>\n",
       "      <th>Per</th>\n",
       "    </tr>\n",
       "  </thead>\n",
       "  <tbody>\n",
       "    <tr>\n",
       "      <td>100</td>\n",
       "      <td>2.420000</td>\n",
       "      <td>1.607515</td>\n",
       "      <td>0.665200</td>\n",
       "    </tr>\n",
       "    <tr>\n",
       "      <td>200</td>\n",
       "      <td>0.542200</td>\n",
       "      <td>0.353071</td>\n",
       "      <td>0.121941</td>\n",
       "    </tr>\n",
       "    <tr>\n",
       "      <td>300</td>\n",
       "      <td>0.420200</td>\n",
       "      <td>0.305976</td>\n",
       "      <td>0.118076</td>\n",
       "    </tr>\n",
       "    <tr>\n",
       "      <td>400</td>\n",
       "      <td>0.371800</td>\n",
       "      <td>0.294041</td>\n",
       "      <td>0.116144</td>\n",
       "    </tr>\n",
       "    <tr>\n",
       "      <td>500</td>\n",
       "      <td>0.346800</td>\n",
       "      <td>0.276462</td>\n",
       "      <td>0.111207</td>\n",
       "    </tr>\n",
       "    <tr>\n",
       "      <td>600</td>\n",
       "      <td>0.295300</td>\n",
       "      <td>0.273910</td>\n",
       "      <td>0.110777</td>\n",
       "    </tr>\n",
       "    <tr>\n",
       "      <td>700</td>\n",
       "      <td>0.292800</td>\n",
       "      <td>0.272215</td>\n",
       "      <td>0.112924</td>\n",
       "    </tr>\n",
       "    <tr>\n",
       "      <td>800</td>\n",
       "      <td>0.297000</td>\n",
       "      <td>0.270942</td>\n",
       "      <td>0.112280</td>\n",
       "    </tr>\n",
       "  </tbody>\n",
       "</table><p>"
      ],
      "text/plain": [
       "<IPython.core.display.HTML object>"
      ]
     },
     "metadata": {},
     "output_type": "display_data"
    },
    {
     "name": "stdout",
     "output_type": "stream",
     "text": [
      "Predicted sample: h# h# h# n s h# h# ih n h# m z m h# s l h# h# n h# ih h# h# h# h# s h# n h# h# h# h#\n",
      "Ground Truth sample: h# hh ih z h# t ah f h# h# aa n ih s h# t iy h# k ih n h# d eh m z ih m h# t uw h# ey s aa l ah h# t eh r iy h# eh n h# d ih f ih h# k l h# t ih h# z ih s h# t ih n h# s h#\n",
      "\n"
     ]
    },
    {
     "name": "stderr",
     "output_type": "stream",
     "text": [
      "/usr/local/lib/python3.10/dist-packages/transformers/models/wav2vec2/processing_wav2vec2.py:174: UserWarning: `as_target_processor` is deprecated and will be removed in v5 of Transformers. You can process your labels by using the argument `text` of the regular `__call__` method (either in the same call as your audio inputs, or in a separate call.\n",
      "  warnings.warn(\n",
      "/usr/local/lib/python3.10/dist-packages/torch/nn/functional.py:5849: UserWarning: Support for mismatched key_padding_mask and attn_mask is deprecated. Use same type for both instead.\n",
      "  warnings.warn(\n"
     ]
    },
    {
     "name": "stdout",
     "output_type": "stream",
     "text": [
      "Predicted sample: h# hh ih z h# t ah f h# aa n ih s h# t iy h# k ih n h# d eh m z ih m h# t uw h# ey s aa l ah ih h# t eh r iy h# ae n h# d ih f ih h# k l h# t h# ih h# g z ih s h# t ih n h# s h#\n",
      "Ground Truth sample: h# hh ih z h# t ah f h# h# aa n ih s h# t iy h# k ih n h# d eh m z ih m h# t uw h# ey s aa l ah h# t eh r iy h# eh n h# d ih f ih h# k l h# t ih h# z ih s h# t ih n h# s h#\n",
      "\n"
     ]
    },
    {
     "name": "stderr",
     "output_type": "stream",
     "text": [
      "/usr/local/lib/python3.10/dist-packages/transformers/models/wav2vec2/processing_wav2vec2.py:174: UserWarning: `as_target_processor` is deprecated and will be removed in v5 of Transformers. You can process your labels by using the argument `text` of the regular `__call__` method (either in the same call as your audio inputs, or in a separate call.\n",
      "  warnings.warn(\n",
      "/usr/local/lib/python3.10/dist-packages/torch/nn/functional.py:5849: UserWarning: Support for mismatched key_padding_mask and attn_mask is deprecated. Use same type for both instead.\n",
      "  warnings.warn(\n"
     ]
    },
    {
     "name": "stdout",
     "output_type": "stream",
     "text": [
      "Predicted sample: h# hh ih z h# t ah f h# aa n ih s h# t iy h# k ih n h# d eh m z ih m h# t uw h# ey s aa l ih h# t eh r iy h# eh n h# d ih f ih h# k l h# t h# ih h# z ih s h# t ih n s h#\n",
      "Ground Truth sample: h# hh ih z h# t ah f h# h# aa n ih s h# t iy h# k ih n h# d eh m z ih m h# t uw h# ey s aa l ah h# t eh r iy h# eh n h# d ih f ih h# k l h# t ih h# z ih s h# t ih n h# s h#\n",
      "\n"
     ]
    },
    {
     "name": "stderr",
     "output_type": "stream",
     "text": [
      "/usr/local/lib/python3.10/dist-packages/transformers/models/wav2vec2/processing_wav2vec2.py:174: UserWarning: `as_target_processor` is deprecated and will be removed in v5 of Transformers. You can process your labels by using the argument `text` of the regular `__call__` method (either in the same call as your audio inputs, or in a separate call.\n",
      "  warnings.warn(\n",
      "/usr/local/lib/python3.10/dist-packages/torch/nn/functional.py:5849: UserWarning: Support for mismatched key_padding_mask and attn_mask is deprecated. Use same type for both instead.\n",
      "  warnings.warn(\n"
     ]
    },
    {
     "name": "stdout",
     "output_type": "stream",
     "text": [
      "Predicted sample: h# hh ih z h# t ah f h# aa n ih s h# t iy h# k ih n h# d eh m z ih m h# t uw h# ey s aa l ah ih h# t eh r iy h# eh n h# d ih f ih h# k l h# t h# ih h# z ih s h# t ih n h# s h#\n",
      "Ground Truth sample: h# hh ih z h# t ah f h# h# aa n ih s h# t iy h# k ih n h# d eh m z ih m h# t uw h# ey s aa l ah h# t eh r iy h# eh n h# d ih f ih h# k l h# t ih h# z ih s h# t ih n h# s h#\n",
      "\n"
     ]
    },
    {
     "name": "stderr",
     "output_type": "stream",
     "text": [
      "/usr/local/lib/python3.10/dist-packages/transformers/models/wav2vec2/processing_wav2vec2.py:174: UserWarning: `as_target_processor` is deprecated and will be removed in v5 of Transformers. You can process your labels by using the argument `text` of the regular `__call__` method (either in the same call as your audio inputs, or in a separate call.\n",
      "  warnings.warn(\n",
      "/usr/local/lib/python3.10/dist-packages/torch/nn/functional.py:5849: UserWarning: Support for mismatched key_padding_mask and attn_mask is deprecated. Use same type for both instead.\n",
      "  warnings.warn(\n"
     ]
    },
    {
     "name": "stdout",
     "output_type": "stream",
     "text": [
      "Predicted sample: h# hh ih z h# t ah f h# aa n ih s h# t iy h# k ih n h# d eh m z ih m h# t uw h# ey s aa l ah ih h# t eh r iy h# eh n h# d ih f ih h# k l h# t h# ih h# z ih s h# t ih n h# s h#\n",
      "Ground Truth sample: h# hh ih z h# t ah f h# h# aa n ih s h# t iy h# k ih n h# d eh m z ih m h# t uw h# ey s aa l ah h# t eh r iy h# eh n h# d ih f ih h# k l h# t ih h# z ih s h# t ih n h# s h#\n",
      "\n"
     ]
    },
    {
     "name": "stderr",
     "output_type": "stream",
     "text": [
      "/usr/local/lib/python3.10/dist-packages/transformers/models/wav2vec2/processing_wav2vec2.py:174: UserWarning: `as_target_processor` is deprecated and will be removed in v5 of Transformers. You can process your labels by using the argument `text` of the regular `__call__` method (either in the same call as your audio inputs, or in a separate call.\n",
      "  warnings.warn(\n",
      "/usr/local/lib/python3.10/dist-packages/torch/nn/functional.py:5849: UserWarning: Support for mismatched key_padding_mask and attn_mask is deprecated. Use same type for both instead.\n",
      "  warnings.warn(\n"
     ]
    },
    {
     "name": "stdout",
     "output_type": "stream",
     "text": [
      "Predicted sample: h# hh ih z h# t ah f h# aa n ih s h# t iy h# k ih n h# d eh m z ih m h# t uw h# ey s aa l ah h# t eh r iy h# eh n h# d ih f ah ih h# k l h# t h# ih h# z ih s h# t ih n h# s h#\n",
      "Ground Truth sample: h# hh ih z h# t ah f h# h# aa n ih s h# t iy h# k ih n h# d eh m z ih m h# t uw h# ey s aa l ah h# t eh r iy h# eh n h# d ih f ih h# k l h# t ih h# z ih s h# t ih n h# s h#\n",
      "\n"
     ]
    },
    {
     "name": "stderr",
     "output_type": "stream",
     "text": [
      "/usr/local/lib/python3.10/dist-packages/transformers/models/wav2vec2/processing_wav2vec2.py:174: UserWarning: `as_target_processor` is deprecated and will be removed in v5 of Transformers. You can process your labels by using the argument `text` of the regular `__call__` method (either in the same call as your audio inputs, or in a separate call.\n",
      "  warnings.warn(\n",
      "/usr/local/lib/python3.10/dist-packages/torch/nn/functional.py:5849: UserWarning: Support for mismatched key_padding_mask and attn_mask is deprecated. Use same type for both instead.\n",
      "  warnings.warn(\n"
     ]
    },
    {
     "name": "stdout",
     "output_type": "stream",
     "text": [
      "Predicted sample: h# hh ih z h# t ah f h# aa n ih s h# t iy h# k ih n h# d eh m z ih m h# t uw h# ey s aa l ah ih h# t eh r iy h# eh n h# d ih f ih h# k l h# t h# ih h# z ih s h# t ih n h# s h#\n",
      "Ground Truth sample: h# hh ih z h# t ah f h# h# aa n ih s h# t iy h# k ih n h# d eh m z ih m h# t uw h# ey s aa l ah h# t eh r iy h# eh n h# d ih f ih h# k l h# t ih h# z ih s h# t ih n h# s h#\n",
      "\n"
     ]
    },
    {
     "name": "stderr",
     "output_type": "stream",
     "text": [
      "/usr/local/lib/python3.10/dist-packages/transformers/models/wav2vec2/processing_wav2vec2.py:174: UserWarning: `as_target_processor` is deprecated and will be removed in v5 of Transformers. You can process your labels by using the argument `text` of the regular `__call__` method (either in the same call as your audio inputs, or in a separate call.\n",
      "  warnings.warn(\n",
      "/usr/local/lib/python3.10/dist-packages/torch/nn/functional.py:5849: UserWarning: Support for mismatched key_padding_mask and attn_mask is deprecated. Use same type for both instead.\n",
      "  warnings.warn(\n"
     ]
    },
    {
     "name": "stdout",
     "output_type": "stream",
     "text": [
      "Predicted sample: h# hh ih z h# t ah f h# aa n ih s h# t iy h# k ih n h# d eh m z ih m h# t uw h# ey s aa l ah ih h# t eh r iy h# eh n h# d ih f ih h# k l h# t h# ih h# z ih s h# t ih n h# s h#\n",
      "Ground Truth sample: h# hh ih z h# t ah f h# h# aa n ih s h# t iy h# k ih n h# d eh m z ih m h# t uw h# ey s aa l ah h# t eh r iy h# eh n h# d ih f ih h# k l h# t ih h# z ih s h# t ih n h# s h#\n",
      "\n"
     ]
    },
    {
     "data": {
      "text/html": [],
      "text/plain": [
       "<IPython.core.display.HTML object>"
      ]
     },
     "metadata": {},
     "output_type": "display_data"
    },
    {
     "data": {
      "text/html": [
       "<br>    <style><br>        .wandb-row {<br>            display: flex;<br>            flex-direction: row;<br>            flex-wrap: wrap;<br>            justify-content: flex-start;<br>            width: 100%;<br>        }<br>        .wandb-col {<br>            display: flex;<br>            flex-direction: column;<br>            flex-basis: 100%;<br>            flex: 1;<br>            padding: 10px;<br>        }<br>    </style><br><div class=\"wandb-row\"><div class=\"wandb-col\"><h3>Run history:</h3><br/><table class=\"wandb\"><tr><td>eval/loss</td><td>█▁▁▁▁▁▁▁</td></tr><tr><td>eval/per</td><td>█▁▁▁▁▁▁▁</td></tr><tr><td>eval/runtime</td><td>▆█▁▆▆▅▆▅</td></tr><tr><td>eval/samples_per_second</td><td>▃▁█▃▃▄▃▄</td></tr><tr><td>eval/steps_per_second</td><td>▃▁█▃▃▄▃▅</td></tr><tr><td>train/epoch</td><td>▁▁▁▂▂▁▂▂▁▁▂▂▂▂▃▃▃▃▄▄▄▄▄▅▅▅▅▅▆▆▆▇▇▇▇▇▇███</td></tr><tr><td>train/global_step</td><td>▁▁▁▂▂▁▂▂▁▂▂▂▂▂▂▃▃▃▄▄▄▄▄▄▅▅▅▅▆▆▇▇▇▇▇▇████</td></tr><tr><td>train/grad_norm</td><td>█▅▃▂▂▆▃▂▂▂▁▁▁▁▁▁▁▁▁▁▁▁▁▁▁▁▁▁▁▁▁▁▁▁▁▁▁▁▁▁</td></tr><tr><td>train/learning_rate</td><td>▂▄▆██▄▆██▂▆████▇▇▇▇▆▆▆▆▅▅▅▄▄▄▄▃▃▃▃▃▂▂▂▁▁</td></tr><tr><td>train/loss</td><td>█▄▃▁▇▃▂▁▇▄▃▂▂▁▁▁▁▁▁▁▁▁▁▁▁▁▁▁▁▁▁▁▁▁▁▁▁▁▁▁</td></tr></table><br/></div><div class=\"wandb-col\"><h3>Run summary:</h3><br/><table class=\"wandb\"><tr><td>eval/loss</td><td>0.27094</td></tr><tr><td>eval/per</td><td>0.11228</td></tr><tr><td>eval/runtime</td><td>15.3088</td></tr><tr><td>eval/samples_per_second</td><td>15.677</td></tr><tr><td>eval/steps_per_second</td><td>0.98</td></tr><tr><td>total_flos</td><td>0</td></tr><tr><td>train/epoch</td><td>8.88889</td></tr><tr><td>train/global_step</td><td>800</td></tr><tr><td>train/grad_norm</td><td>1.93813</td></tr><tr><td>train/learning_rate</td><td>0.0</td></tr><tr><td>train/loss</td><td>0.297</td></tr><tr><td>train_loss</td><td>0.9933</td></tr><tr><td>train_runtime</td><td>1658.8393</td></tr><tr><td>train_samples_per_second</td><td>7.716</td></tr><tr><td>train_steps_per_second</td><td>0.482</td></tr></table><br/></div></div>"
      ],
      "text/plain": [
       "<IPython.core.display.HTML object>"
      ]
     },
     "metadata": {},
     "output_type": "display_data"
    },
    {
     "data": {
      "text/html": [
       " View run <strong style=\"color:#cdcd00\">wavlm-conv-ssl_ft</strong> at: <a href='https://wandb.ai/BashHav/iasa-ucu-audio-processing/runs/hjcypq8q' target=\"_blank\">https://wandb.ai/BashHav/iasa-ucu-audio-processing/runs/hjcypq8q</a><br> View project at: <a href='https://wandb.ai/BashHav/iasa-ucu-audio-processing' target=\"_blank\">https://wandb.ai/BashHav/iasa-ucu-audio-processing</a><br>Synced 5 W&B file(s), 0 media file(s), 6 artifact file(s) and 0 other file(s)"
      ],
      "text/plain": [
       "<IPython.core.display.HTML object>"
      ]
     },
     "metadata": {},
     "output_type": "display_data"
    },
    {
     "data": {
      "text/html": [
       "Find logs at: <code>./wandb/run-20250407_193401-hjcypq8q/logs</code>"
      ],
      "text/plain": [
       "<IPython.core.display.HTML object>"
      ]
     },
     "metadata": {},
     "output_type": "display_data"
    }
   ],
   "source": [
    "# example usage\n",
    "\n",
    "model, trainer = run_experiment(\n",
    "    ssl_model_name=ssl_model_name,\n",
    "    head_type=\"attention\",\n",
    "    tokenizer_dir=tokenizer_dir,\n",
    "    train_dataset=train_dataset,\n",
    "    valid_dataset=valid_dataset,\n",
    "    test_dataset=test_dataset,\n",
    "    processor=processor,\n",
    "    num_epochs=10,\n",
    "    max_steps=800,\n",
    "    train_batch_size=4,\n",
    "    eval_batch_size=16,\n",
    "    eval_steps=100, # 100\n",
    "    logging_steps=20, # 20\n",
    "    grad_acum_steps=4,\n",
    "    use_grad_checkpointing=False,\n",
    "    learning_rate=1e-4,\n",
    "    freeze_encoder=False,\n",
    "    experiment_name=\"wavlm-attention_ft\",\n",
    "    output_dir=\"./output/model\",\n",
    "    dropout = 0,\n",
    "    training_mode=\"other\"\n",
    ")"
   ]
  },
  {
   "cell_type": "code",
   "execution_count": 164,
   "metadata": {},
   "outputs": [
    {
     "name": "stderr",
     "output_type": "stream",
     "text": [
      "\u001b[34m\u001b[1mwandb\u001b[0m: \u001b[33mWARNING\u001b[0m If you're specifying your api key in code, ensure this code is not shared publicly.\n",
      "\u001b[34m\u001b[1mwandb\u001b[0m: \u001b[33mWARNING\u001b[0m Consider setting the WANDB_API_KEY environment variable, or running `wandb login` from the command line.\n",
      "\u001b[34m\u001b[1mwandb\u001b[0m: Appending key for api.wandb.ai to your netrc file: /root/.netrc\n"
     ]
    },
    {
     "data": {
      "text/html": [
       "Tracking run with wandb version 0.19.1"
      ],
      "text/plain": [
       "<IPython.core.display.HTML object>"
      ]
     },
     "metadata": {},
     "output_type": "display_data"
    },
    {
     "data": {
      "text/html": [
       "Run data is saved locally in <code>/kaggle/working/wandb/run-20250407_211255-x09f8kjr</code>"
      ],
      "text/plain": [
       "<IPython.core.display.HTML object>"
      ]
     },
     "metadata": {},
     "output_type": "display_data"
    },
    {
     "data": {
      "text/html": [
       "Syncing run <strong><a href='https://wandb.ai/BashHav/iasa-ucu-audio-processing/runs/x09f8kjr' target=\"_blank\">aa</a></strong> to <a href='https://wandb.ai/BashHav/iasa-ucu-audio-processing' target=\"_blank\">Weights & Biases</a> (<a href='https://wandb.me/developer-guide' target=\"_blank\">docs</a>)<br>"
      ],
      "text/plain": [
       "<IPython.core.display.HTML object>"
      ]
     },
     "metadata": {},
     "output_type": "display_data"
    },
    {
     "data": {
      "text/html": [
       " View project at <a href='https://wandb.ai/BashHav/iasa-ucu-audio-processing' target=\"_blank\">https://wandb.ai/BashHav/iasa-ucu-audio-processing</a>"
      ],
      "text/plain": [
       "<IPython.core.display.HTML object>"
      ]
     },
     "metadata": {},
     "output_type": "display_data"
    },
    {
     "data": {
      "text/html": [
       " View run at <a href='https://wandb.ai/BashHav/iasa-ucu-audio-processing/runs/x09f8kjr' target=\"_blank\">https://wandb.ai/BashHav/iasa-ucu-audio-processing/runs/x09f8kjr</a>"
      ],
      "text/plain": [
       "<IPython.core.display.HTML object>"
      ]
     },
     "metadata": {},
     "output_type": "display_data"
    },
    {
     "name": "stdout",
     "output_type": "stream",
     "text": [
      "Predicted sample: h# hh eh l h# p h# g r eh h# t uw h# p ih h# k ah h# p ae h# k ah h# p ah h# t ey dx ow z h#\n",
      "Ground Truth sample: h# hh eh l h# g r eh h# t ah h# p ih h# k ah h# p eh h# k ah h# p ah h# t ey dx uh z h#\n",
      "\n"
     ]
    },
    {
     "data": {
      "text/plain": [
       "{'eval_loss': 0.2730083167552948,\n",
       " 'eval_per': 0.10756878946137657,\n",
       " 'eval_runtime': 99.1136,\n",
       " 'eval_samples_per_second': 16.95,\n",
       " 'eval_steps_per_second': 1.059,\n",
       " 'epoch': 8.88888888888889}"
      ]
     },
     "execution_count": 164,
     "metadata": {},
     "output_type": "execute_result"
    }
   ],
   "source": [
    "wandb.login(key=WANDB_KEY)\n",
    "wandb.init(\n",
    "    project=\"iasa-ucu-audio-processing\",\n",
    "    entity=\"BashHav\", \n",
    "    name='aa',\n",
    "    settings=wandb.Settings(init_timeout=180) \n",
    "    \n",
    ")\n",
    "\n",
    "trainer.evaluate(test_dataset)"
   ]
  },
  {
   "cell_type": "markdown",
   "metadata": {},
   "source": [
    "# Results"
   ]
  },
  {
   "cell_type": "markdown",
   "metadata": {},
   "source": [
    "We approached the problem by testing different SSL models at first freezing the backbone and tuning linear head to see which one extracts best features out-of-the-box.\n",
    "\n",
    "Brown - wavlm\n",
    "\n",
    "Yellow - wav2vec\n",
    "\n",
    "Blue - hubert\n",
    "\n",
    "Pink - data2vec\n"
   ]
  },
  {
   "cell_type": "markdown",
   "metadata": {},
   "source": [
    "![Alt text](assets/freezed_ssls.jpg)"
   ]
  },
  {
   "cell_type": "markdown",
   "metadata": {},
   "source": [
    "We saw that wavlm occured to be best-performing model in terms of PER, so we ran full fine-tuning and got even better scores reaching 0.137 compared to 0.324 with freezed model.\n",
    "![Alt text](assets/wavlm_fr-ft.jpg)"
   ]
  },
  {
   "cell_type": "markdown",
   "metadata": {},
   "source": [
    "Then we decided to test different hiddens from WavLM using dumper class above model with MLP, GRU, LSTM, Attention and Conv heads.\n",
    "\n",
    "11 Layer:\n",
    "![Alt text](assets/layer_11.png)\n",
    "\n",
    "15 Layer:\n",
    "![Alt text](assets/layer_15.png)\n",
    "\n",
    "19 Layer:\n",
    "![Alt text](assets/layer_19.png)\n",
    "\n",
    "Final Layer:\n",
    "![Alt text](assets/layer_final.png)\n"
   ]
  },
  {
   "cell_type": "markdown",
   "metadata": {},
   "source": [
    "Best performing combination occured to be GRU on final hidden state, yet all of them are good and demonstrate decent result. \n",
    "\n",
    "Some intereseting facts:\n",
    "1. GRU works good on all hiddens\n",
    "2. Attention in 15 and 19 layer worked very bad probably because they trapped into local minima.\n",
    "\n",
    "Look at the graph\n",
    "![Alt text](assets/attention_diflayers.jpg)"
   ]
  },
  {
   "cell_type": "markdown",
   "metadata": {},
   "source": [
    "Finally, we decided to conduct full-scale fine-tuning with MLP, Attention and Conv heads.\n",
    "Attention showed best perfomance on validation trough all our experiments and we chose it as our final model.\n",
    "![Alt text](assets/fs-ft.jpg)"
   ]
  },
  {
   "cell_type": "markdown",
   "metadata": {},
   "source": [
    "We ran evaluation of trained model (above) on the test set (default split) and obtained these scores\n",
    "```\n",
    "{'eval_loss': 0.2730083167552948,\n",
    " 'eval_per': 0.10756878946137657,\n",
    " 'eval_runtime': 99.1136,\n",
    " 'eval_samples_per_second': 16.95,\n",
    " 'eval_steps_per_second': 1.059,\n",
    " 'epoch': 8.88888888888889\n",
    " }\n",
    " ```\n"
   ]
  },
  {
   "cell_type": "markdown",
   "metadata": {},
   "source": []
  }
 ],
 "metadata": {
  "kaggle": {
   "accelerator": "none",
   "dataSources": [
    {
     "datasetId": 212391,
     "sourceId": 471627,
     "sourceType": "datasetVersion"
    }
   ],
   "dockerImageVersionId": 30192,
   "isGpuEnabled": false,
   "isInternetEnabled": true,
   "language": "python",
   "sourceType": "notebook"
  },
  "kernelspec": {
   "display_name": "Python 3",
   "language": "python",
   "name": "python3"
  },
  "language_info": {
   "codemirror_mode": {
    "name": "ipython",
    "version": 3
   },
   "file_extension": ".py",
   "mimetype": "text/x-python",
   "name": "python",
   "nbconvert_exporter": "python",
   "pygments_lexer": "ipython3",
   "version": "3.10.12"
  }
 },
 "nbformat": 4,
 "nbformat_minor": 4
}
