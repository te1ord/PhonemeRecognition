{
 "cells": [
  {
   "cell_type": "code",
   "execution_count": 1,
   "metadata": {
    "_cell_guid": "b1076dfc-b9ad-4769-8c92-a6c4dae69d19",
    "_kg_hide-output": true,
    "_uuid": "8f2839f25d086af736a60e9eeb907d3b93b6e0e5",
    "execution": {
     "iopub.execute_input": "2025-04-02T14:28:32.898416Z",
     "iopub.status.busy": "2025-04-02T14:28:32.898077Z",
     "iopub.status.idle": "2025-04-02T14:29:31.939538Z",
     "shell.execute_reply": "2025-04-02T14:29:31.938322Z",
     "shell.execute_reply.started": "2025-04-02T14:28:32.898370Z"
    },
    "trusted": true
   },
   "outputs": [
    {
     "name": "stdout",
     "output_type": "stream",
     "text": [
      "Requirement already satisfied: datasets in /usr/local/lib/python3.10/dist-packages (3.5.0)\n",
      "Requirement already satisfied: filelock in /usr/local/lib/python3.10/dist-packages (from datasets) (3.17.0)\n",
      "Requirement already satisfied: numpy>=1.17 in /usr/local/lib/python3.10/dist-packages (from datasets) (1.26.4)\n",
      "Requirement already satisfied: pyarrow>=15.0.0 in /usr/local/lib/python3.10/dist-packages (from datasets) (19.0.1)\n",
      "Requirement already satisfied: dill<0.3.9,>=0.3.0 in /usr/local/lib/python3.10/dist-packages (from datasets) (0.3.8)\n",
      "Requirement already satisfied: pandas in /usr/local/lib/python3.10/dist-packages (from datasets) (2.2.3)\n",
      "Requirement already satisfied: requests>=2.32.2 in /usr/local/lib/python3.10/dist-packages (from datasets) (2.32.3)\n",
      "Requirement already satisfied: tqdm>=4.66.3 in /usr/local/lib/python3.10/dist-packages (from datasets) (4.67.1)\n",
      "Requirement already satisfied: xxhash in /usr/local/lib/python3.10/dist-packages (from datasets) (3.5.0)\n",
      "Requirement already satisfied: multiprocess<0.70.17 in /usr/local/lib/python3.10/dist-packages (from datasets) (0.70.16)\n",
      "Requirement already satisfied: fsspec<=2024.12.0,>=2023.1.0 in /usr/local/lib/python3.10/dist-packages (from fsspec[http]<=2024.12.0,>=2023.1.0->datasets) (2024.12.0)\n",
      "Requirement already satisfied: aiohttp in /usr/local/lib/python3.10/dist-packages (from datasets) (3.11.12)\n",
      "Requirement already satisfied: huggingface-hub>=0.24.0 in /usr/local/lib/python3.10/dist-packages (from datasets) (0.29.0)\n",
      "Requirement already satisfied: packaging in /usr/local/lib/python3.10/dist-packages (from datasets) (24.2)\n",
      "Requirement already satisfied: pyyaml>=5.1 in /usr/local/lib/python3.10/dist-packages (from datasets) (6.0.2)\n",
      "Requirement already satisfied: aiohappyeyeballs>=2.3.0 in /usr/local/lib/python3.10/dist-packages (from aiohttp->datasets) (2.4.6)\n",
      "Requirement already satisfied: aiosignal>=1.1.2 in /usr/local/lib/python3.10/dist-packages (from aiohttp->datasets) (1.3.2)\n",
      "Requirement already satisfied: async-timeout<6.0,>=4.0 in /usr/local/lib/python3.10/dist-packages (from aiohttp->datasets) (5.0.1)\n",
      "Requirement already satisfied: attrs>=17.3.0 in /usr/local/lib/python3.10/dist-packages (from aiohttp->datasets) (25.1.0)\n",
      "Requirement already satisfied: frozenlist>=1.1.1 in /usr/local/lib/python3.10/dist-packages (from aiohttp->datasets) (1.5.0)\n",
      "Requirement already satisfied: multidict<7.0,>=4.5 in /usr/local/lib/python3.10/dist-packages (from aiohttp->datasets) (6.1.0)\n",
      "Requirement already satisfied: propcache>=0.2.0 in /usr/local/lib/python3.10/dist-packages (from aiohttp->datasets) (0.2.1)\n",
      "Requirement already satisfied: yarl<2.0,>=1.17.0 in /usr/local/lib/python3.10/dist-packages (from aiohttp->datasets) (1.18.3)\n",
      "Requirement already satisfied: typing-extensions>=3.7.4.3 in /usr/local/lib/python3.10/dist-packages (from huggingface-hub>=0.24.0->datasets) (4.12.2)\n",
      "Requirement already satisfied: mkl_fft in /usr/local/lib/python3.10/dist-packages (from numpy>=1.17->datasets) (1.3.8)\n",
      "Requirement already satisfied: mkl_random in /usr/local/lib/python3.10/dist-packages (from numpy>=1.17->datasets) (1.2.4)\n",
      "Requirement already satisfied: mkl_umath in /usr/local/lib/python3.10/dist-packages (from numpy>=1.17->datasets) (0.1.1)\n",
      "Requirement already satisfied: mkl in /usr/local/lib/python3.10/dist-packages (from numpy>=1.17->datasets) (2025.0.1)\n",
      "Requirement already satisfied: tbb4py in /usr/local/lib/python3.10/dist-packages (from numpy>=1.17->datasets) (2022.0.0)\n",
      "Requirement already satisfied: mkl-service in /usr/local/lib/python3.10/dist-packages (from numpy>=1.17->datasets) (2.4.1)\n",
      "Requirement already satisfied: charset-normalizer<4,>=2 in /usr/local/lib/python3.10/dist-packages (from requests>=2.32.2->datasets) (3.4.1)\n",
      "Requirement already satisfied: idna<4,>=2.5 in /usr/local/lib/python3.10/dist-packages (from requests>=2.32.2->datasets) (3.10)\n",
      "Requirement already satisfied: urllib3<3,>=1.21.1 in /usr/local/lib/python3.10/dist-packages (from requests>=2.32.2->datasets) (2.3.0)\n",
      "Requirement already satisfied: certifi>=2017.4.17 in /usr/local/lib/python3.10/dist-packages (from requests>=2.32.2->datasets) (2025.1.31)\n",
      "Requirement already satisfied: python-dateutil>=2.8.2 in /usr/local/lib/python3.10/dist-packages (from pandas->datasets) (2.9.0.post0)\n",
      "Requirement already satisfied: pytz>=2020.1 in /usr/local/lib/python3.10/dist-packages (from pandas->datasets) (2025.1)\n",
      "Requirement already satisfied: tzdata>=2022.7 in /usr/local/lib/python3.10/dist-packages (from pandas->datasets) (2025.1)\n",
      "Requirement already satisfied: six>=1.5 in /usr/local/lib/python3.10/dist-packages (from python-dateutil>=2.8.2->pandas->datasets) (1.17.0)\n",
      "Requirement already satisfied: intel-openmp>=2024 in /usr/local/lib/python3.10/dist-packages (from mkl->numpy>=1.17->datasets) (2024.2.0)\n",
      "Requirement already satisfied: tbb==2022.* in /usr/local/lib/python3.10/dist-packages (from mkl->numpy>=1.17->datasets) (2022.0.0)\n",
      "Requirement already satisfied: tcmlib==1.* in /usr/local/lib/python3.10/dist-packages (from tbb==2022.*->mkl->numpy>=1.17->datasets) (1.2.0)\n",
      "Requirement already satisfied: intel-cmplr-lib-rt in /usr/local/lib/python3.10/dist-packages (from mkl_umath->numpy>=1.17->datasets) (2024.2.0)\n",
      "Requirement already satisfied: intel-cmplr-lib-ur==2024.2.0 in /usr/local/lib/python3.10/dist-packages (from intel-openmp>=2024->mkl->numpy>=1.17->datasets) (2024.2.0)\n",
      "Requirement already satisfied: transformers in /usr/local/lib/python3.10/dist-packages (4.50.3)\n",
      "Requirement already satisfied: filelock in /usr/local/lib/python3.10/dist-packages (from transformers) (3.17.0)\n",
      "Requirement already satisfied: huggingface-hub<1.0,>=0.26.0 in /usr/local/lib/python3.10/dist-packages (from transformers) (0.29.0)\n",
      "Requirement already satisfied: numpy>=1.17 in /usr/local/lib/python3.10/dist-packages (from transformers) (1.26.4)\n",
      "Requirement already satisfied: packaging>=20.0 in /usr/local/lib/python3.10/dist-packages (from transformers) (24.2)\n",
      "Requirement already satisfied: pyyaml>=5.1 in /usr/local/lib/python3.10/dist-packages (from transformers) (6.0.2)\n",
      "Requirement already satisfied: regex!=2019.12.17 in /usr/local/lib/python3.10/dist-packages (from transformers) (2024.11.6)\n",
      "Requirement already satisfied: requests in /usr/local/lib/python3.10/dist-packages (from transformers) (2.32.3)\n",
      "Requirement already satisfied: tokenizers<0.22,>=0.21 in /usr/local/lib/python3.10/dist-packages (from transformers) (0.21.0)\n",
      "Requirement already satisfied: safetensors>=0.4.3 in /usr/local/lib/python3.10/dist-packages (from transformers) (0.4.5)\n",
      "Requirement already satisfied: tqdm>=4.27 in /usr/local/lib/python3.10/dist-packages (from transformers) (4.67.1)\n",
      "Requirement already satisfied: fsspec>=2023.5.0 in /usr/local/lib/python3.10/dist-packages (from huggingface-hub<1.0,>=0.26.0->transformers) (2024.12.0)\n",
      "Requirement already satisfied: typing-extensions>=3.7.4.3 in /usr/local/lib/python3.10/dist-packages (from huggingface-hub<1.0,>=0.26.0->transformers) (4.12.2)\n",
      "Requirement already satisfied: mkl_fft in /usr/local/lib/python3.10/dist-packages (from numpy>=1.17->transformers) (1.3.8)\n",
      "Requirement already satisfied: mkl_random in /usr/local/lib/python3.10/dist-packages (from numpy>=1.17->transformers) (1.2.4)\n",
      "Requirement already satisfied: mkl_umath in /usr/local/lib/python3.10/dist-packages (from numpy>=1.17->transformers) (0.1.1)\n",
      "Requirement already satisfied: mkl in /usr/local/lib/python3.10/dist-packages (from numpy>=1.17->transformers) (2025.0.1)\n",
      "Requirement already satisfied: tbb4py in /usr/local/lib/python3.10/dist-packages (from numpy>=1.17->transformers) (2022.0.0)\n",
      "Requirement already satisfied: mkl-service in /usr/local/lib/python3.10/dist-packages (from numpy>=1.17->transformers) (2.4.1)\n",
      "Requirement already satisfied: charset-normalizer<4,>=2 in /usr/local/lib/python3.10/dist-packages (from requests->transformers) (3.4.1)\n",
      "Requirement already satisfied: idna<4,>=2.5 in /usr/local/lib/python3.10/dist-packages (from requests->transformers) (3.10)\n",
      "Requirement already satisfied: urllib3<3,>=1.21.1 in /usr/local/lib/python3.10/dist-packages (from requests->transformers) (2.3.0)\n",
      "Requirement already satisfied: certifi>=2017.4.17 in /usr/local/lib/python3.10/dist-packages (from requests->transformers) (2025.1.31)\n",
      "Requirement already satisfied: intel-openmp>=2024 in /usr/local/lib/python3.10/dist-packages (from mkl->numpy>=1.17->transformers) (2024.2.0)\n",
      "Requirement already satisfied: tbb==2022.* in /usr/local/lib/python3.10/dist-packages (from mkl->numpy>=1.17->transformers) (2022.0.0)\n",
      "Requirement already satisfied: tcmlib==1.* in /usr/local/lib/python3.10/dist-packages (from tbb==2022.*->mkl->numpy>=1.17->transformers) (1.2.0)\n",
      "Requirement already satisfied: intel-cmplr-lib-rt in /usr/local/lib/python3.10/dist-packages (from mkl_umath->numpy>=1.17->transformers) (2024.2.0)\n",
      "Requirement already satisfied: intel-cmplr-lib-ur==2024.2.0 in /usr/local/lib/python3.10/dist-packages (from intel-openmp>=2024->mkl->numpy>=1.17->transformers) (2024.2.0)\n",
      "Requirement already satisfied: evaluate in /usr/local/lib/python3.10/dist-packages (0.4.3)\n",
      "Requirement already satisfied: datasets>=2.0.0 in /usr/local/lib/python3.10/dist-packages (from evaluate) (3.5.0)\n",
      "Requirement already satisfied: numpy>=1.17 in /usr/local/lib/python3.10/dist-packages (from evaluate) (1.26.4)\n",
      "Requirement already satisfied: dill in /usr/local/lib/python3.10/dist-packages (from evaluate) (0.3.8)\n",
      "Requirement already satisfied: pandas in /usr/local/lib/python3.10/dist-packages (from evaluate) (2.2.3)\n",
      "Requirement already satisfied: requests>=2.19.0 in /usr/local/lib/python3.10/dist-packages (from evaluate) (2.32.3)\n",
      "Requirement already satisfied: tqdm>=4.62.1 in /usr/local/lib/python3.10/dist-packages (from evaluate) (4.67.1)\n",
      "Requirement already satisfied: xxhash in /usr/local/lib/python3.10/dist-packages (from evaluate) (3.5.0)\n",
      "Requirement already satisfied: multiprocess in /usr/local/lib/python3.10/dist-packages (from evaluate) (0.70.16)\n",
      "Requirement already satisfied: fsspec>=2021.05.0 in /usr/local/lib/python3.10/dist-packages (from fsspec[http]>=2021.05.0->evaluate) (2024.12.0)\n",
      "Requirement already satisfied: huggingface-hub>=0.7.0 in /usr/local/lib/python3.10/dist-packages (from evaluate) (0.29.0)\n",
      "Requirement already satisfied: packaging in /usr/local/lib/python3.10/dist-packages (from evaluate) (24.2)\n",
      "Requirement already satisfied: filelock in /usr/local/lib/python3.10/dist-packages (from datasets>=2.0.0->evaluate) (3.17.0)\n",
      "Requirement already satisfied: pyarrow>=15.0.0 in /usr/local/lib/python3.10/dist-packages (from datasets>=2.0.0->evaluate) (19.0.1)\n",
      "Requirement already satisfied: aiohttp in /usr/local/lib/python3.10/dist-packages (from datasets>=2.0.0->evaluate) (3.11.12)\n",
      "Requirement already satisfied: pyyaml>=5.1 in /usr/local/lib/python3.10/dist-packages (from datasets>=2.0.0->evaluate) (6.0.2)\n",
      "Requirement already satisfied: typing-extensions>=3.7.4.3 in /usr/local/lib/python3.10/dist-packages (from huggingface-hub>=0.7.0->evaluate) (4.12.2)\n",
      "Requirement already satisfied: mkl_fft in /usr/local/lib/python3.10/dist-packages (from numpy>=1.17->evaluate) (1.3.8)\n",
      "Requirement already satisfied: mkl_random in /usr/local/lib/python3.10/dist-packages (from numpy>=1.17->evaluate) (1.2.4)\n",
      "Requirement already satisfied: mkl_umath in /usr/local/lib/python3.10/dist-packages (from numpy>=1.17->evaluate) (0.1.1)\n",
      "Requirement already satisfied: mkl in /usr/local/lib/python3.10/dist-packages (from numpy>=1.17->evaluate) (2025.0.1)\n",
      "Requirement already satisfied: tbb4py in /usr/local/lib/python3.10/dist-packages (from numpy>=1.17->evaluate) (2022.0.0)\n",
      "Requirement already satisfied: mkl-service in /usr/local/lib/python3.10/dist-packages (from numpy>=1.17->evaluate) (2.4.1)\n",
      "Requirement already satisfied: charset-normalizer<4,>=2 in /usr/local/lib/python3.10/dist-packages (from requests>=2.19.0->evaluate) (3.4.1)\n",
      "Requirement already satisfied: idna<4,>=2.5 in /usr/local/lib/python3.10/dist-packages (from requests>=2.19.0->evaluate) (3.10)\n",
      "Requirement already satisfied: urllib3<3,>=1.21.1 in /usr/local/lib/python3.10/dist-packages (from requests>=2.19.0->evaluate) (2.3.0)\n",
      "Requirement already satisfied: certifi>=2017.4.17 in /usr/local/lib/python3.10/dist-packages (from requests>=2.19.0->evaluate) (2025.1.31)\n",
      "Requirement already satisfied: python-dateutil>=2.8.2 in /usr/local/lib/python3.10/dist-packages (from pandas->evaluate) (2.9.0.post0)\n",
      "Requirement already satisfied: pytz>=2020.1 in /usr/local/lib/python3.10/dist-packages (from pandas->evaluate) (2025.1)\n",
      "Requirement already satisfied: tzdata>=2022.7 in /usr/local/lib/python3.10/dist-packages (from pandas->evaluate) (2025.1)\n",
      "Requirement already satisfied: aiohappyeyeballs>=2.3.0 in /usr/local/lib/python3.10/dist-packages (from aiohttp->datasets>=2.0.0->evaluate) (2.4.6)\n",
      "Requirement already satisfied: aiosignal>=1.1.2 in /usr/local/lib/python3.10/dist-packages (from aiohttp->datasets>=2.0.0->evaluate) (1.3.2)\n",
      "Requirement already satisfied: async-timeout<6.0,>=4.0 in /usr/local/lib/python3.10/dist-packages (from aiohttp->datasets>=2.0.0->evaluate) (5.0.1)\n",
      "Requirement already satisfied: attrs>=17.3.0 in /usr/local/lib/python3.10/dist-packages (from aiohttp->datasets>=2.0.0->evaluate) (25.1.0)\n",
      "Requirement already satisfied: frozenlist>=1.1.1 in /usr/local/lib/python3.10/dist-packages (from aiohttp->datasets>=2.0.0->evaluate) (1.5.0)\n",
      "Requirement already satisfied: multidict<7.0,>=4.5 in /usr/local/lib/python3.10/dist-packages (from aiohttp->datasets>=2.0.0->evaluate) (6.1.0)\n",
      "Requirement already satisfied: propcache>=0.2.0 in /usr/local/lib/python3.10/dist-packages (from aiohttp->datasets>=2.0.0->evaluate) (0.2.1)\n",
      "Requirement already satisfied: yarl<2.0,>=1.17.0 in /usr/local/lib/python3.10/dist-packages (from aiohttp->datasets>=2.0.0->evaluate) (1.18.3)\n",
      "Requirement already satisfied: six>=1.5 in /usr/local/lib/python3.10/dist-packages (from python-dateutil>=2.8.2->pandas->evaluate) (1.17.0)\n",
      "Requirement already satisfied: intel-openmp>=2024 in /usr/local/lib/python3.10/dist-packages (from mkl->numpy>=1.17->evaluate) (2024.2.0)\n",
      "Requirement already satisfied: tbb==2022.* in /usr/local/lib/python3.10/dist-packages (from mkl->numpy>=1.17->evaluate) (2022.0.0)\n",
      "Requirement already satisfied: tcmlib==1.* in /usr/local/lib/python3.10/dist-packages (from tbb==2022.*->mkl->numpy>=1.17->evaluate) (1.2.0)\n",
      "Requirement already satisfied: intel-cmplr-lib-rt in /usr/local/lib/python3.10/dist-packages (from mkl_umath->numpy>=1.17->evaluate) (2024.2.0)\n",
      "Requirement already satisfied: intel-cmplr-lib-ur==2024.2.0 in /usr/local/lib/python3.10/dist-packages (from intel-openmp>=2024->mkl->numpy>=1.17->evaluate) (2024.2.0)\n",
      "Requirement already satisfied: librosa in /usr/local/lib/python3.10/dist-packages (0.11.0)\n",
      "Requirement already satisfied: audioread>=2.1.9 in /usr/local/lib/python3.10/dist-packages (from librosa) (3.0.1)\n",
      "Requirement already satisfied: numba>=0.51.0 in /usr/local/lib/python3.10/dist-packages (from librosa) (0.60.0)\n",
      "Requirement already satisfied: numpy>=1.22.3 in /usr/local/lib/python3.10/dist-packages (from librosa) (1.26.4)\n",
      "Requirement already satisfied: scipy>=1.6.0 in /usr/local/lib/python3.10/dist-packages (from librosa) (1.13.1)\n",
      "Requirement already satisfied: scikit-learn>=1.1.0 in /usr/local/lib/python3.10/dist-packages (from librosa) (1.2.2)\n",
      "Requirement already satisfied: joblib>=1.0 in /usr/local/lib/python3.10/dist-packages (from librosa) (1.4.2)\n",
      "Requirement already satisfied: decorator>=4.3.0 in /usr/local/lib/python3.10/dist-packages (from librosa) (4.4.2)\n",
      "Requirement already satisfied: soundfile>=0.12.1 in /usr/local/lib/python3.10/dist-packages (from librosa) (0.12.1)\n",
      "Requirement already satisfied: pooch>=1.1 in /usr/local/lib/python3.10/dist-packages (from librosa) (1.8.2)\n",
      "Requirement already satisfied: soxr>=0.3.2 in /usr/local/lib/python3.10/dist-packages (from librosa) (0.5.0.post1)\n",
      "Requirement already satisfied: typing_extensions>=4.1.1 in /usr/local/lib/python3.10/dist-packages (from librosa) (4.12.2)\n",
      "Requirement already satisfied: lazy_loader>=0.1 in /usr/local/lib/python3.10/dist-packages (from librosa) (0.4)\n",
      "Requirement already satisfied: msgpack>=1.0 in /usr/local/lib/python3.10/dist-packages (from librosa) (1.1.0)\n",
      "Requirement already satisfied: packaging in /usr/local/lib/python3.10/dist-packages (from lazy_loader>=0.1->librosa) (24.2)\n",
      "Requirement already satisfied: llvmlite<0.44,>=0.43.0dev0 in /usr/local/lib/python3.10/dist-packages (from numba>=0.51.0->librosa) (0.43.0)\n",
      "Requirement already satisfied: mkl_fft in /usr/local/lib/python3.10/dist-packages (from numpy>=1.22.3->librosa) (1.3.8)\n",
      "Requirement already satisfied: mkl_random in /usr/local/lib/python3.10/dist-packages (from numpy>=1.22.3->librosa) (1.2.4)\n",
      "Requirement already satisfied: mkl_umath in /usr/local/lib/python3.10/dist-packages (from numpy>=1.22.3->librosa) (0.1.1)\n",
      "Requirement already satisfied: mkl in /usr/local/lib/python3.10/dist-packages (from numpy>=1.22.3->librosa) (2025.0.1)\n",
      "Requirement already satisfied: tbb4py in /usr/local/lib/python3.10/dist-packages (from numpy>=1.22.3->librosa) (2022.0.0)\n",
      "Requirement already satisfied: mkl-service in /usr/local/lib/python3.10/dist-packages (from numpy>=1.22.3->librosa) (2.4.1)\n",
      "Requirement already satisfied: platformdirs>=2.5.0 in /usr/local/lib/python3.10/dist-packages (from pooch>=1.1->librosa) (4.3.6)\n",
      "Requirement already satisfied: requests>=2.19.0 in /usr/local/lib/python3.10/dist-packages (from pooch>=1.1->librosa) (2.32.3)\n",
      "Requirement already satisfied: threadpoolctl>=2.0.0 in /usr/local/lib/python3.10/dist-packages (from scikit-learn>=1.1.0->librosa) (3.5.0)\n",
      "Requirement already satisfied: cffi>=1.0 in /usr/local/lib/python3.10/dist-packages (from soundfile>=0.12.1->librosa) (1.17.1)\n",
      "Requirement already satisfied: pycparser in /usr/local/lib/python3.10/dist-packages (from cffi>=1.0->soundfile>=0.12.1->librosa) (2.22)\n",
      "Requirement already satisfied: charset-normalizer<4,>=2 in /usr/local/lib/python3.10/dist-packages (from requests>=2.19.0->pooch>=1.1->librosa) (3.4.1)\n",
      "Requirement already satisfied: idna<4,>=2.5 in /usr/local/lib/python3.10/dist-packages (from requests>=2.19.0->pooch>=1.1->librosa) (3.10)\n",
      "Requirement already satisfied: urllib3<3,>=1.21.1 in /usr/local/lib/python3.10/dist-packages (from requests>=2.19.0->pooch>=1.1->librosa) (2.3.0)\n",
      "Requirement already satisfied: certifi>=2017.4.17 in /usr/local/lib/python3.10/dist-packages (from requests>=2.19.0->pooch>=1.1->librosa) (2025.1.31)\n",
      "Requirement already satisfied: intel-openmp>=2024 in /usr/local/lib/python3.10/dist-packages (from mkl->numpy>=1.22.3->librosa) (2024.2.0)\n",
      "Requirement already satisfied: tbb==2022.* in /usr/local/lib/python3.10/dist-packages (from mkl->numpy>=1.22.3->librosa) (2022.0.0)\n",
      "Requirement already satisfied: tcmlib==1.* in /usr/local/lib/python3.10/dist-packages (from tbb==2022.*->mkl->numpy>=1.22.3->librosa) (1.2.0)\n",
      "Requirement already satisfied: intel-cmplr-lib-rt in /usr/local/lib/python3.10/dist-packages (from mkl_umath->numpy>=1.22.3->librosa) (2024.2.0)\n",
      "Requirement already satisfied: intel-cmplr-lib-ur==2024.2.0 in /usr/local/lib/python3.10/dist-packages (from intel-openmp>=2024->mkl->numpy>=1.22.3->librosa) (2024.2.0)\n",
      "Requirement already satisfied: seaborn in /usr/local/lib/python3.10/dist-packages (0.13.2)\n",
      "Requirement already satisfied: numpy!=1.24.0,>=1.20 in /usr/local/lib/python3.10/dist-packages (from seaborn) (1.26.4)\n",
      "Requirement already satisfied: pandas>=1.2 in /usr/local/lib/python3.10/dist-packages (from seaborn) (2.2.3)\n",
      "Requirement already satisfied: matplotlib!=3.6.1,>=3.4 in /usr/local/lib/python3.10/dist-packages (from seaborn) (3.7.5)\n",
      "Requirement already satisfied: contourpy>=1.0.1 in /usr/local/lib/python3.10/dist-packages (from matplotlib!=3.6.1,>=3.4->seaborn) (1.3.1)\n",
      "Requirement already satisfied: cycler>=0.10 in /usr/local/lib/python3.10/dist-packages (from matplotlib!=3.6.1,>=3.4->seaborn) (0.12.1)\n",
      "Requirement already satisfied: fonttools>=4.22.0 in /usr/local/lib/python3.10/dist-packages (from matplotlib!=3.6.1,>=3.4->seaborn) (4.55.3)\n",
      "Requirement already satisfied: kiwisolver>=1.0.1 in /usr/local/lib/python3.10/dist-packages (from matplotlib!=3.6.1,>=3.4->seaborn) (1.4.7)\n",
      "Requirement already satisfied: packaging>=20.0 in /usr/local/lib/python3.10/dist-packages (from matplotlib!=3.6.1,>=3.4->seaborn) (24.2)\n",
      "Requirement already satisfied: pillow>=6.2.0 in /usr/local/lib/python3.10/dist-packages (from matplotlib!=3.6.1,>=3.4->seaborn) (11.0.0)\n",
      "Requirement already satisfied: pyparsing>=2.3.1 in /usr/local/lib/python3.10/dist-packages (from matplotlib!=3.6.1,>=3.4->seaborn) (3.2.0)\n",
      "Requirement already satisfied: python-dateutil>=2.7 in /usr/local/lib/python3.10/dist-packages (from matplotlib!=3.6.1,>=3.4->seaborn) (2.9.0.post0)\n",
      "Requirement already satisfied: mkl_fft in /usr/local/lib/python3.10/dist-packages (from numpy!=1.24.0,>=1.20->seaborn) (1.3.8)\n",
      "Requirement already satisfied: mkl_random in /usr/local/lib/python3.10/dist-packages (from numpy!=1.24.0,>=1.20->seaborn) (1.2.4)\n",
      "Requirement already satisfied: mkl_umath in /usr/local/lib/python3.10/dist-packages (from numpy!=1.24.0,>=1.20->seaborn) (0.1.1)\n",
      "Requirement already satisfied: mkl in /usr/local/lib/python3.10/dist-packages (from numpy!=1.24.0,>=1.20->seaborn) (2025.0.1)\n",
      "Requirement already satisfied: tbb4py in /usr/local/lib/python3.10/dist-packages (from numpy!=1.24.0,>=1.20->seaborn) (2022.0.0)\n",
      "Requirement already satisfied: mkl-service in /usr/local/lib/python3.10/dist-packages (from numpy!=1.24.0,>=1.20->seaborn) (2.4.1)\n",
      "Requirement already satisfied: pytz>=2020.1 in /usr/local/lib/python3.10/dist-packages (from pandas>=1.2->seaborn) (2025.1)\n",
      "Requirement already satisfied: tzdata>=2022.7 in /usr/local/lib/python3.10/dist-packages (from pandas>=1.2->seaborn) (2025.1)\n",
      "Requirement already satisfied: six>=1.5 in /usr/local/lib/python3.10/dist-packages (from python-dateutil>=2.7->matplotlib!=3.6.1,>=3.4->seaborn) (1.17.0)\n",
      "Requirement already satisfied: intel-openmp>=2024 in /usr/local/lib/python3.10/dist-packages (from mkl->numpy!=1.24.0,>=1.20->seaborn) (2024.2.0)\n",
      "Requirement already satisfied: tbb==2022.* in /usr/local/lib/python3.10/dist-packages (from mkl->numpy!=1.24.0,>=1.20->seaborn) (2022.0.0)\n",
      "Requirement already satisfied: tcmlib==1.* in /usr/local/lib/python3.10/dist-packages (from tbb==2022.*->mkl->numpy!=1.24.0,>=1.20->seaborn) (1.2.0)\n",
      "Requirement already satisfied: intel-cmplr-lib-rt in /usr/local/lib/python3.10/dist-packages (from mkl_umath->numpy!=1.24.0,>=1.20->seaborn) (2024.2.0)\n",
      "Requirement already satisfied: intel-cmplr-lib-ur==2024.2.0 in /usr/local/lib/python3.10/dist-packages (from intel-openmp>=2024->mkl->numpy!=1.24.0,>=1.20->seaborn) (2024.2.0)\n",
      "Requirement already satisfied: jiwer in /usr/local/lib/python3.10/dist-packages (3.1.0)\n",
      "Requirement already satisfied: click>=8.1.8 in /usr/local/lib/python3.10/dist-packages (from jiwer) (8.1.8)\n",
      "Requirement already satisfied: rapidfuzz>=3.9.7 in /usr/local/lib/python3.10/dist-packages (from jiwer) (3.13.0)\n"
     ]
    }
   ],
   "source": [
    "!pip install -U datasets #>=1.18.3\n",
    "!pip install -U transformers #==4.17.0\n",
    "!pip install -U evaluate\n",
    "!pip install -U librosa\n",
    "!pip install -U seaborn\n",
    "!pip install -U jiwer"
   ]
  },
  {
   "cell_type": "code",
   "execution_count": 2,
   "metadata": {},
   "outputs": [],
   "source": [
    "from kaggle_secrets import UserSecretsClient\n",
    "user_secrets = UserSecretsClient()\n",
    "\n",
    "WANDB_KEY = user_secrets.get_secret(\"wandb_key\")"
   ]
  },
  {
   "cell_type": "code",
   "execution_count": 3,
   "metadata": {
    "execution": {
     "iopub.execute_input": "2024-03-21T19:10:46.117875Z",
     "iopub.status.busy": "2024-03-21T19:10:46.117598Z",
     "iopub.status.idle": "2024-03-21T19:10:46.122644Z",
     "shell.execute_reply": "2024-03-21T19:10:46.121683Z",
     "shell.execute_reply.started": "2024-03-21T19:10:46.117841Z"
    },
    "trusted": true
   },
   "outputs": [],
   "source": [
    "# from huggingface_hub import notebook_login\n",
    "# notebook_login()"
   ]
  },
  {
   "cell_type": "markdown",
   "metadata": {},
   "source": [
    "# Dataset"
   ]
  },
  {
   "cell_type": "code",
   "execution_count": 4,
   "metadata": {
    "execution": {
     "iopub.execute_input": "2025-04-02T15:06:30.332154Z",
     "iopub.status.busy": "2025-04-02T15:06:30.331782Z",
     "iopub.status.idle": "2025-04-02T15:06:30.338231Z",
     "shell.execute_reply": "2025-04-02T15:06:30.337183Z",
     "shell.execute_reply.started": "2025-04-02T15:06:30.332116Z"
    },
    "trusted": true
   },
   "outputs": [],
   "source": [
    "import json\n",
    "from datasets import Dataset, DatasetDict, Audio, load_dataset\n",
    "from tqdm.auto import tqdm\n",
    "import random\n",
    "\n",
    "import os\n",
    "import numpy as np\n",
    "import pandas as pd\n",
    "import torchaudio"
   ]
  },
  {
   "cell_type": "markdown",
   "metadata": {},
   "source": [
    "## Let's load dataset"
   ]
  },
  {
   "cell_type": "code",
   "execution_count": 5,
   "metadata": {},
   "outputs": [],
   "source": [
    "DATA_PATH = '/kaggle/input/darpa-timit-acousticphonetic-continuous-speech/data/'\n",
    "DATA_SPLIT = '/kaggle/input/timit-data-split/TIMIT_DATA_SPLIT.json'"
   ]
  },
  {
   "cell_type": "code",
   "execution_count": 6,
   "metadata": {},
   "outputs": [
    {
     "data": {
      "text/plain": [
       "dict_keys(['train', 'valid', 'test'])"
      ]
     },
     "execution_count": 6,
     "metadata": {},
     "output_type": "execute_result"
    }
   ],
   "source": [
    "with open(DATA_SPLIT, \"r\") as f:\n",
    "    dataset = json.load(f)\n",
    "\n",
    "dataset.keys()"
   ]
  },
  {
   "cell_type": "markdown",
   "metadata": {},
   "source": [
    "### How many hours are in each set?\n",
    "At least this helps us understand how big/small our dataset is."
   ]
  },
  {
   "cell_type": "code",
   "execution_count": 7,
   "metadata": {
    "execution": {
     "iopub.execute_input": "2025-04-02T14:55:07.100239Z",
     "iopub.status.busy": "2025-04-02T14:55:07.099847Z",
     "iopub.status.idle": "2025-04-02T14:55:07.107981Z",
     "shell.execute_reply": "2025-04-02T14:55:07.106848Z",
     "shell.execute_reply.started": "2025-04-02T14:55:07.100197Z"
    },
    "trusted": true
   },
   "outputs": [],
   "source": [
    "# import librosa\n",
    "\n",
    "# def get_durations(dict_data):\n",
    "#     total_durations = 0\n",
    "\n",
    "#     for entry in dict_data.values():\n",
    "#         audio_data, _ = librosa.load(entry['audio_file'], sr=16_000)\n",
    "#         duration = len(audio_data) / 16_000\n",
    "#         total_durations += duration\n",
    "\n",
    "#     return int(total_durations)"
   ]
  },
  {
   "cell_type": "code",
   "execution_count": 8,
   "metadata": {
    "execution": {
     "iopub.execute_input": "2025-04-02T14:55:07.287347Z",
     "iopub.status.busy": "2025-04-02T14:55:07.286996Z",
     "iopub.status.idle": "2025-04-02T14:55:11.772889Z",
     "shell.execute_reply": "2025-04-02T14:55:11.771657Z",
     "shell.execute_reply.started": "2025-04-02T14:55:07.287310Z"
    },
    "trusted": true
   },
   "outputs": [],
   "source": [
    "# print(f\"Duration of Train: {get_durations(dataset['train']) // 60} mns\")\n",
    "# print(f\"Duration of Valid: {get_durations(dataset['valid']) // 60} mns\")\n",
    "# print(f\"Duration of Test : {get_durations(dataset['test']) // 60} mns\")"
   ]
  },
  {
   "cell_type": "markdown",
   "metadata": {},
   "source": [
    "# Preprocessing"
   ]
  },
  {
   "cell_type": "markdown",
   "metadata": {},
   "source": [
    "## Process into HuggingFace Dataset Format"
   ]
  },
  {
   "cell_type": "code",
   "execution_count": 9,
   "metadata": {
    "execution": {
     "iopub.execute_input": "2025-04-02T14:55:11.818304Z",
     "iopub.status.busy": "2025-04-02T14:55:11.818027Z",
     "iopub.status.idle": "2025-04-02T14:55:11.825309Z",
     "shell.execute_reply": "2025-04-02T14:55:11.823975Z",
     "shell.execute_reply.started": "2025-04-02T14:55:11.818264Z"
    },
    "trusted": true
   },
   "outputs": [],
   "source": [
    "def convert_to_feature_dict(data_dict):\n",
    "    # convert each feature into an array instead\n",
    "    audio_files = []\n",
    "    word_files = []\n",
    "    phonetic_files = []\n",
    "    for key, value in data_dict.items():\n",
    "        audio_files.append(value['audio_file'])\n",
    "        word_files.append(value['word_file'])\n",
    "        phonetic_files.append(value['phonetic_file'])\n",
    "    \n",
    "    return {\n",
    "        'audio_file': audio_files,\n",
    "        'word_file': word_files,\n",
    "        'phonetic_file': phonetic_files\n",
    "    }"
   ]
  },
  {
   "cell_type": "code",
   "execution_count": 10,
   "metadata": {
    "execution": {
     "iopub.execute_input": "2025-04-02T14:55:11.827830Z",
     "iopub.status.busy": "2025-04-02T14:55:11.827530Z",
     "iopub.status.idle": "2025-04-02T14:55:11.847351Z",
     "shell.execute_reply": "2025-04-02T14:55:11.846067Z",
     "shell.execute_reply.started": "2025-04-02T14:55:11.827798Z"
    },
    "trusted": true
   },
   "outputs": [],
   "source": [
    "train = convert_to_feature_dict(dataset['train'])\n",
    "valid = convert_to_feature_dict(dataset['valid'])\n",
    "test  = convert_to_feature_dict(dataset['test'])"
   ]
  },
  {
   "cell_type": "code",
   "execution_count": 11,
   "metadata": {
    "execution": {
     "iopub.execute_input": "2025-04-02T14:55:11.849696Z",
     "iopub.status.busy": "2025-04-02T14:55:11.849297Z",
     "iopub.status.idle": "2025-04-02T14:55:11.880248Z",
     "shell.execute_reply": "2025-04-02T14:55:11.878901Z",
     "shell.execute_reply.started": "2025-04-02T14:55:11.849647Z"
    },
    "trusted": true
   },
   "outputs": [],
   "source": [
    "train_dataset = Dataset.from_dict(train)\n",
    "valid_dataset = Dataset.from_dict(valid)\n",
    "test_dataset = Dataset.from_dict(test)"
   ]
  },
  {
   "cell_type": "code",
   "execution_count": 12,
   "metadata": {
    "execution": {
     "iopub.execute_input": "2025-04-02T14:55:11.882401Z",
     "iopub.status.busy": "2025-04-02T14:55:11.882148Z",
     "iopub.status.idle": "2025-04-02T14:55:11.888133Z",
     "shell.execute_reply": "2025-04-02T14:55:11.886942Z",
     "shell.execute_reply.started": "2025-04-02T14:55:11.882367Z"
    },
    "trusted": true
   },
   "outputs": [
    {
     "name": "stdout",
     "output_type": "stream",
     "text": [
      "Dataset({\n",
      "    features: ['audio_file', 'word_file', 'phonetic_file'],\n",
      "    num_rows: 1440\n",
      "})\n"
     ]
    }
   ],
   "source": [
    "print(train_dataset)"
   ]
  },
  {
   "cell_type": "markdown",
   "metadata": {},
   "source": [
    "## Read files for phonetics"
   ]
  },
  {
   "cell_type": "code",
   "execution_count": 13,
   "metadata": {
    "execution": {
     "iopub.execute_input": "2025-04-02T14:55:11.891668Z",
     "iopub.status.busy": "2025-04-02T14:55:11.891279Z",
     "iopub.status.idle": "2025-04-02T14:55:11.900776Z",
     "shell.execute_reply": "2025-04-02T14:55:11.899628Z",
     "shell.execute_reply.started": "2025-04-02T14:55:11.891613Z"
    },
    "trusted": true
   },
   "outputs": [],
   "source": [
    "def read_text_file(filepath):\n",
    "    with open(filepath) as f:\n",
    "        tokens = [line.split()[-1] for line in f]\n",
    "        return \" \".join(tokens)\n",
    "    \n",
    "def prepare_text_data(item):\n",
    "    item['text'] = read_text_file(item['word_file'])\n",
    "    item['phonetic'] = read_text_file(item['phonetic_file'])\n",
    "    return item"
   ]
  },
  {
   "cell_type": "code",
   "execution_count": null,
   "metadata": {
    "execution": {
     "iopub.execute_input": "2025-04-02T14:55:12.012222Z",
     "iopub.status.busy": "2025-04-02T14:55:12.011906Z",
     "iopub.status.idle": "2025-04-02T14:55:16.926666Z",
     "shell.execute_reply": "2025-04-02T14:55:16.925740Z",
     "shell.execute_reply.started": "2025-04-02T14:55:12.012190Z"
    },
    "trusted": true
   },
   "outputs": [
    {
     "data": {
      "application/vnd.jupyter.widget-view+json": {
       "model_id": "08dafdfc735440d3b7b1652b1abb003c",
       "version_major": 2,
       "version_minor": 0
      },
      "text/plain": [
       "Map:   0%|          | 0/1440 [00:00<?, ? examples/s]"
      ]
     },
     "metadata": {},
     "output_type": "display_data"
    },
    {
     "data": {
      "application/vnd.jupyter.widget-view+json": {
       "model_id": "85c0c5c85b124aa99fa835dc0724433f",
       "version_major": 2,
       "version_minor": 0
      },
      "text/plain": [
       "Map:   0%|          | 0/240 [00:00<?, ? examples/s]"
      ]
     },
     "metadata": {},
     "output_type": "display_data"
    },
    {
     "data": {
      "application/vnd.jupyter.widget-view+json": {
       "model_id": "277e0051fb3e4ac793388454ae865787",
       "version_major": 2,
       "version_minor": 0
      },
      "text/plain": [
       "Map:   0%|          | 0/1680 [00:00<?, ? examples/s]"
      ]
     },
     "metadata": {},
     "output_type": "display_data"
    }
   ],
   "source": [
    "train_dataset = (train_dataset\n",
    "                 .map(prepare_text_data)\n",
    "                 .remove_columns([\"word_file\", \"phonetic_file\"]))\n",
    "valid_dataset = (valid_dataset\n",
    "                 .map(prepare_text_data)\n",
    "                 .remove_columns([\"word_file\", \"phonetic_file\"]))\n",
    "test_dataset  = (test_dataset\n",
    "                 .map(prepare_text_data)\n",
    "                 .remove_columns([\"word_file\", \"phonetic_file\"]))"
   ]
  },
  {
   "cell_type": "markdown",
   "metadata": {},
   "source": [
    "## Normalize the Phonetics"
   ]
  },
  {
   "cell_type": "markdown",
   "metadata": {},
   "source": [
    "As we can see the result below, there are *61* phones. However, we don't need to use all of them. \"tcl\", for example, is just a pause where there is a \"t\". So, let's keep it up and simplify them a bit."
   ]
  },
  {
   "cell_type": "code",
   "execution_count": 15,
   "metadata": {
    "execution": {
     "iopub.execute_input": "2025-04-02T14:55:16.928609Z",
     "iopub.status.busy": "2025-04-02T14:55:16.928339Z",
     "iopub.status.idle": "2025-04-02T14:55:16.935141Z",
     "shell.execute_reply": "2025-04-02T14:55:16.934137Z",
     "shell.execute_reply.started": "2025-04-02T14:55:16.928577Z"
    },
    "trusted": true
   },
   "outputs": [
    {
     "data": {
      "text/plain": [
       "Dataset({\n",
       "    features: ['audio_file', 'text', 'phonetic'],\n",
       "    num_rows: 1440\n",
       "})"
      ]
     },
     "execution_count": 15,
     "metadata": {},
     "output_type": "execute_result"
    }
   ],
   "source": [
    "train_dataset"
   ]
  },
  {
   "cell_type": "code",
   "execution_count": null,
   "metadata": {
    "execution": {
     "iopub.execute_input": "2025-04-02T14:55:16.936852Z",
     "iopub.status.busy": "2025-04-02T14:55:16.936510Z",
     "iopub.status.idle": "2025-04-02T14:55:17.050498Z",
     "shell.execute_reply": "2025-04-02T14:55:17.049384Z",
     "shell.execute_reply.started": "2025-04-02T14:55:16.936809Z"
    },
    "trusted": true
   },
   "outputs": [
    {
     "name": "stdout",
     "output_type": "stream",
     "text": [
      "num of train phones:\t 61\n"
     ]
    }
   ],
   "source": [
    "train_phonetics = [phone for x in train_dataset for phone in x['phonetic'].split()]\n",
    "print(\"num of train phones:\\t\", len(set(train_phonetics)))"
   ]
  },
  {
   "cell_type": "code",
   "execution_count": 17,
   "metadata": {
    "execution": {
     "iopub.execute_input": "2025-04-02T14:55:17.052747Z",
     "iopub.status.busy": "2025-04-02T14:55:17.052427Z",
     "iopub.status.idle": "2025-04-02T14:55:17.064391Z",
     "shell.execute_reply": "2025-04-02T14:55:17.063120Z",
     "shell.execute_reply.started": "2025-04-02T14:55:17.052714Z"
    },
    "trusted": true
   },
   "outputs": [],
   "source": [
    "# TimitBet 61 phoneme mapping to 39 phonemes\n",
    "# by Lee, K.-F., & Hon, H.-W. (1989). Speaker-independent phone recognition using hidden Markov models. IEEE Transactions on Acoustics, Speech, and Signal Processing, 37(11), 1641–1648. doi:10.1109/29.46546 \n",
    "phon61_map39 = {\n",
    "    'iy':'iy',  'ih':'ih',   'eh':'eh',  'ae':'ae',    'ix':'ih',  'ax':'ah',   'ah':'ah',  'uw':'uw',\n",
    "    'ux':'uw',  'uh':'uh',   'ao':'aa',  'aa':'aa',    'ey':'ey',  'ay':'ay',   'oy':'oy',  'aw':'aw',\n",
    "    'ow':'ow',  'l':'l',     'el':'l',  'r':'r',      'y':'y',    'w':'w',     'er':'er',  'axr':'er',\n",
    "    'm':'m',    'em':'m',     'n':'n',    'nx':'n',     'en':'n',  'ng':'ng',   'eng':'ng', 'ch':'ch',\n",
    "    'jh':'jh',  'dh':'dh',   'b':'b',    'd':'d',      'dx':'dx',  'g':'g',     'p':'p',    't':'t',\n",
    "    'k':'k',    'z':'z',     'zh':'sh',  'v':'v',      'f':'f',    'th':'th',   's':'s',    'sh':'sh',\n",
    "    'hh':'hh',  'hv':'hh',   'pcl':'h#', 'tcl':'h#', 'kcl':'h#', 'qcl':'h#','bcl':'h#','dcl':'h#',\n",
    "    'gcl':'h#','h#':'h#',  '#h':'h#',  'pau':'h#', 'epi': 'h#','nx':'n',   'ax-h':'ah','q':'h#' \n",
    "}\n",
    "\n",
    "def convert_phon61_to_phon39(sentence):\n",
    "    tokens = [phon61_map39[x] for x in sentence.split()]\n",
    "    return \" \".join(tokens)\n",
    "\n",
    "def normalize_phones(item):\n",
    "    item['phonetic'] = convert_phon61_to_phon39(item['phonetic'])\n",
    "    return item"
   ]
  },
  {
   "cell_type": "code",
   "execution_count": null,
   "metadata": {
    "execution": {
     "iopub.execute_input": "2025-04-02T14:55:17.066120Z",
     "iopub.status.busy": "2025-04-02T14:55:17.065843Z",
     "iopub.status.idle": "2025-04-02T14:55:17.518365Z",
     "shell.execute_reply": "2025-04-02T14:55:17.517523Z",
     "shell.execute_reply.started": "2025-04-02T14:55:17.066085Z"
    },
    "trusted": true
   },
   "outputs": [
    {
     "data": {
      "application/vnd.jupyter.widget-view+json": {
       "model_id": "8bef15ae6eb14f08833ae65017dd8b65",
       "version_major": 2,
       "version_minor": 0
      },
      "text/plain": [
       "Map:   0%|          | 0/1440 [00:00<?, ? examples/s]"
      ]
     },
     "metadata": {},
     "output_type": "display_data"
    },
    {
     "data": {
      "application/vnd.jupyter.widget-view+json": {
       "model_id": "b6e7acd0b8cb4431a02c0b5175535043",
       "version_major": 2,
       "version_minor": 0
      },
      "text/plain": [
       "Map:   0%|          | 0/240 [00:00<?, ? examples/s]"
      ]
     },
     "metadata": {},
     "output_type": "display_data"
    },
    {
     "data": {
      "application/vnd.jupyter.widget-view+json": {
       "model_id": "fae22b53dc124e54923df1b7b9f18490",
       "version_major": 2,
       "version_minor": 0
      },
      "text/plain": [
       "Map:   0%|          | 0/1680 [00:00<?, ? examples/s]"
      ]
     },
     "metadata": {},
     "output_type": "display_data"
    }
   ],
   "source": [
    "train_dataset = train_dataset.map(normalize_phones)\n",
    "valid_dataset = valid_dataset.map(normalize_phones)\n",
    "test_dataset = test_dataset.map(normalize_phones)"
   ]
  },
  {
   "cell_type": "code",
   "execution_count": null,
   "metadata": {
    "execution": {
     "iopub.execute_input": "2025-04-02T14:55:17.575235Z",
     "iopub.status.busy": "2025-04-02T14:55:17.574961Z",
     "iopub.status.idle": "2025-04-02T14:55:17.903070Z",
     "shell.execute_reply": "2025-04-02T14:55:17.902045Z",
     "shell.execute_reply.started": "2025-04-02T14:55:17.575205Z"
    },
    "trusted": true
   },
   "outputs": [
    {
     "name": "stdout",
     "output_type": "stream",
     "text": [
      "num of train phones:\t 39\n",
      "num of valid phones:\t 39\n",
      "num of test phones:\t 39\n"
     ]
    }
   ],
   "source": [
    "train_phonetics = [phone for x in train_dataset for phone in x['phonetic'].split()]\n",
    "valid_phonetics = [phone for x in valid_dataset for phone in x['phonetic'].split()]\n",
    "test_phonetics = [phone for x in test_dataset for phone in x['phonetic'].split()]\n",
    "\n",
    "print(\"num of train phones:\\t\", len(set(train_phonetics)))\n",
    "print(\"num of valid phones:\\t\", len(set(valid_phonetics)))\n",
    "print(\"num of test phones:\\t\", len(set(test_phonetics)))"
   ]
  },
  {
   "cell_type": "markdown",
   "metadata": {},
   "source": [
    "## Phonetic Distribution\n",
    "Let's check the distribution of each phone across all three test set. Note that we don't do simple counting. Instead, for each phoneme, we show the ratio of that phoneme relative to that specific set. On test set, obviously, the count of each phoneme is less than the train, but the ratio should be similar to the training set."
   ]
  },
  {
   "cell_type": "code",
   "execution_count": 20,
   "metadata": {
    "execution": {
     "iopub.execute_input": "2025-04-02T14:55:19.057333Z",
     "iopub.status.busy": "2025-04-02T14:55:19.057020Z",
     "iopub.status.idle": "2025-04-02T14:55:19.066186Z",
     "shell.execute_reply": "2025-04-02T14:55:19.064935Z",
     "shell.execute_reply.started": "2025-04-02T14:55:19.057293Z"
    },
    "trusted": true
   },
   "outputs": [],
   "source": [
    "phone_vocabs = set(train_phonetics)\n",
    "phone_vocabs.remove('h#')\n",
    "phone_vocabs = sorted(phone_vocabs)\n",
    "\n",
    "def count_frequency(phonetics):\n",
    "    phone_counts = {phone: 0 for phone in phone_vocabs}\n",
    "    for phone in phonetics:\n",
    "        if phone in phone_vocabs:\n",
    "            phone_counts[phone] += 1\n",
    "    # eliminate h# for visualization purposes\n",
    "    return [phone_counts[phone] for phone in phone_vocabs] "
   ]
  },
  {
   "cell_type": "code",
   "execution_count": 21,
   "metadata": {
    "execution": {
     "iopub.execute_input": "2025-04-02T14:55:20.408968Z",
     "iopub.status.busy": "2025-04-02T14:55:20.408664Z",
     "iopub.status.idle": "2025-04-02T14:55:20.476444Z",
     "shell.execute_reply": "2025-04-02T14:55:20.475516Z",
     "shell.execute_reply.started": "2025-04-02T14:55:20.408904Z"
    },
    "trusted": true
   },
   "outputs": [],
   "source": [
    "train_phone_counts = count_frequency(train_phonetics)\n",
    "valid_phone_counts = count_frequency(valid_phonetics)\n",
    "test_phone_counts  = count_frequency(test_phonetics)"
   ]
  },
  {
   "cell_type": "code",
   "execution_count": 22,
   "metadata": {
    "execution": {
     "iopub.execute_input": "2025-04-02T14:55:20.602110Z",
     "iopub.status.busy": "2025-04-02T14:55:20.601777Z",
     "iopub.status.idle": "2025-04-02T14:55:20.607822Z",
     "shell.execute_reply": "2025-04-02T14:55:20.606647Z",
     "shell.execute_reply.started": "2025-04-02T14:55:20.602076Z"
    },
    "trusted": true
   },
   "outputs": [],
   "source": [
    "train_phone_ratio = [count / sum(train_phone_counts) for count in train_phone_counts]\n",
    "valid_phone_ratio = [count / sum(valid_phone_counts) for count in valid_phone_counts]\n",
    "test_phone_ratio  = [count / sum(test_phone_counts) for count in test_phone_counts]"
   ]
  },
  {
   "cell_type": "code",
   "execution_count": null,
   "metadata": {
    "execution": {
     "iopub.execute_input": "2025-04-02T14:55:27.859812Z",
     "iopub.status.busy": "2025-04-02T14:55:27.859507Z",
     "iopub.status.idle": "2025-04-02T14:55:28.434432Z",
     "shell.execute_reply": "2025-04-02T14:55:28.433154Z",
     "shell.execute_reply.started": "2025-04-02T14:55:27.859782Z"
    },
    "trusted": true
   },
   "outputs": [
    {
     "data": {
      "image/png": "[encoded data removed]",
      "text/plain": [
       "<Figure size 2500x1000 with 1 Axes>"
      ]
     },
     "metadata": {},
     "output_type": "display_data"
    }
   ],
   "source": [
    "import matplotlib.pyplot as plt\n",
    "\n",
    "plt.figure(figsize=(25,10))\n",
    "\n",
    "plt.bar(phone_vocabs, train_phone_ratio, label=\"Train\")\n",
    "plt.bar(phone_vocabs, valid_phone_ratio, bottom=train_phone_ratio, label=\"Valid\")\n",
    "plt.bar(phone_vocabs, test_phone_ratio, bottom=[(x+y) for x,y in zip(train_phone_ratio, valid_phone_ratio)], label=\"Test\")\n",
    "\n",
    "plt.legend()\n",
    "\n",
    "plt.show()"
   ]
  },
  {
   "cell_type": "markdown",
   "metadata": {},
   "source": [
    "## Load Audio File"
   ]
  },
  {
   "cell_type": "code",
   "execution_count": 24,
   "metadata": {
    "execution": {
     "iopub.execute_input": "2025-04-02T14:57:00.521204Z",
     "iopub.status.busy": "2025-04-02T14:57:00.520366Z",
     "iopub.status.idle": "2025-04-02T14:57:00.542894Z",
     "shell.execute_reply": "2025-04-02T14:57:00.541957Z",
     "shell.execute_reply.started": "2025-04-02T14:57:00.521159Z"
    },
    "trusted": true
   },
   "outputs": [],
   "source": [
    "train_dataset = (train_dataset\n",
    "                 .cast_column(\"audio_file\", Audio(sampling_rate=16_000))\n",
    "                 .rename_column('audio_file', 'audio'))\n",
    "valid_dataset = (valid_dataset\n",
    "                 .cast_column(\"audio_file\", Audio(sampling_rate=16_000))\n",
    "                 .rename_column('audio_file', 'audio'))\n",
    "test_dataset = (test_dataset\n",
    "                 .cast_column(\"audio_file\", Audio(sampling_rate=16_000))\n",
    "                 .rename_column('audio_file', 'audio'))"
   ]
  },
  {
   "cell_type": "code",
   "execution_count": null,
   "metadata": {
    "execution": {
     "iopub.execute_input": "2025-04-02T14:57:00.902643Z",
     "iopub.status.busy": "2025-04-02T14:57:00.902284Z",
     "iopub.status.idle": "2025-04-02T14:57:00.915180Z",
     "shell.execute_reply": "2025-04-02T14:57:00.913875Z",
     "shell.execute_reply.started": "2025-04-02T14:57:00.902591Z"
    },
    "trusted": true
   },
   "outputs": [
    {
     "data": {
      "text/plain": [
       "{'audio': {'path': '/kaggle/input/darpa-timit-acousticphonetic-continuous-speech/data/TRAIN/DR3/FALK0/SA1.WAV',\n",
       "  'array': array([-9.15527344e-05,  2.74658203e-04,  1.22070312e-04, ...,\n",
       "         -9.15527344e-05, -2.74658203e-04,  1.22070312e-04]),\n",
       "  'sampling_rate': 16000},\n",
       " 'text': 'she had your dark suit in greasy wash water all year',\n",
       " 'phonetic': 'h# sh iy hh eh h# d y er h# d aa r h# k s uw h# h# ih n h# g r iy z iy w aa sh h# w aa dx er h# aa l y ih er h#'}"
      ]
     },
     "execution_count": 25,
     "metadata": {},
     "output_type": "execute_result"
    }
   ],
   "source": [
    "train_dataset[0]"
   ]
  },
  {
   "cell_type": "code",
   "execution_count": null,
   "metadata": {
    "execution": {
     "iopub.execute_input": "2025-04-02T14:57:02.131960Z",
     "iopub.status.busy": "2025-04-02T14:57:02.131627Z",
     "iopub.status.idle": "2025-04-02T14:57:02.161244Z",
     "shell.execute_reply": "2025-04-02T14:57:02.160143Z",
     "shell.execute_reply.started": "2025-04-02T14:57:02.131926Z"
    },
    "trusted": true
   },
   "outputs": [
    {
     "name": "stdout",
     "output_type": "stream",
     "text": [
      "Text: don't ask me to carry an oily rag like that\n",
      "Phonetics: h# d ow n h# ae s h# m iy h# t ah h# k eh r iy ih n h# oy l iy r ae h# g l ay h# dh ae h# h#\n",
      "Input array shape: (55706,)\n",
      "Sampling rate: 16000\n"
     ]
    },
    {
     "data": {
      "text/html": [
       "\n",
       "                <audio  controls=\"controls\" >\n",
       "                    <source src=\"data:audio/wav;base64,UklGRlizAQBXQVZFZm10IBAAAAABAAEAgD4AAAB9AAACABAAZGF0YTSzAQCV/x4A+f8HAOL/BwDp//H/AAAHAPn/8f8AAPH/AAD5/wcA+f/5/wcA+f8AAPH/AAAHAPn/AADx/wAABwAAAOn/BwAAAAAA+f/x/wAAAAAAAPn/FwD5/wAAFwAHAPn/BwAAAAAAFwD5/wAAAAAPAPn/+f/5/wAAAAAHAPH/BwD5/wcA+f/x/wcA+f8AAPn/AAD5/wAABwAPAAcAAAD5/wAA+f8HAA8AAAAAAOn/8f8HAAcAJgAHAAcA8f8PAA8ABwAPAAcAFwAHAAAAHgAPAAcAAAAHAAcA+f8HAAcAAAAHAAAAAAAAAAAAAAAAAA8AAAAHAPn/AAAHAA8AAAAAAAAABwDx//n/BwAeAPn/+f8HAAcAHgD5/xcAAAAPAAAAAAAHAPn/BwAAAAcABwAAAA8AFwAPAA8AAAAAAAcAAAAHAAAAAAAAAA8A6f8AAAcADwAAAAcAAAAHAAAABwDx/x4AAAAPABcAFwAPAAAADwDx/wcA+f8XAAcABwAHAPn/+f/5/wAA8f8HAAAAAAAHAPn/AAAHAPn/8f/x/wcA6f8AAPn/BwAHAPn/DwAAAPn/BwAAAPn/+f8HAAAA6f/x/wcA+f8AAB4AJgAHAAcA+f8eAAAAAAAHAPn/6f8AAPn/AAD5/wAAAAD5/wAA+f8AAAcA+f8AAPn/AAAPAPn/BwAAAPn/AAD5/wAAAAAAAAcA6f8AAPn/DwAAABcA+f8HAOn/+f8AAAcA+f/p//H/FwAHAPH/BwAPAAAA+f8PAPn/8f8PAPH/+f8AAAAABwAAAAcA8f/5/+L/+f/x//n/6f8XAA8AAADi//H/8f8HAAcAAAAAAAAABwD5//H/AAAPAPn/BwDx//n/8f/5//H/8f8AAAAABwAAAAcABwAeAPH/AAAAAAcA+f8AABcA+f8XAPH/BwAAAAAAAAAAAPH/8f8HAPn/+f/5/w8ABwAPAAAADwAAAAcAFwD5/wcABwAAAPn/FwAAAPn/BwAHAAcA+f/5//H/+f/5/w8A8f8AAAcAAAAAAAAADwAPAAcAFwDi/wAABwAAAAAADwAAAPn/AAAXAAcA+f/5/w8ABwAHAOn/+f/5/wAA+f8HAPn/8f8HAPH/+f8HAAcADwAPAOn/+f8HAA8ABwAAAAcADwAHABcADwD5/wAA8f8HAPn/DwAAAB4ABwAPAOn/BwDx/wcAAAAHAPn/BwAAAB4AAAAPAAAABwD5/w8ADwAAAPn/8f8PAAcABwD5/w8AAAAAAAAAAAAAABcA+f8XAA8A+f/p//n/BwAAAPn/AAAAAPn/+f8AAAcAAAD5/wAABwD5/wcADwAXAAAAAAAHAAcABwAAAAAABwD5/wAAAAAHAAcAAAAHAAcA+f8HAPn/+f8AAAcA+f/5/wAA+f/5/wAA+f8AAAcA+f/5//H/BwD5//H/6f8HAAAA+f/i/+n/AAAAAOL/+f8HAPn/8f8HAAAAAAAAAAAABwAHAPn/BwAAAAAAAAAPAPn/FwAHAAcAAAD5/wcADwAAAA8ADwAHABcA+f/x/wcAAAD5/w8ADwD5//n/AAD5/wAAAAD5/wcABwAHAAAADwAPAAcA+f8PAPn/HgAPAAAA+f8AABcABwAXAAcADwAXAAAA+f8HAPn/FwAAAAcABwD5/wcAAAAPAPn/BwAeAB4ADwAXAAcA+f8HABcAAAAAAA8ABwAeAA8ADwAHAAAA+f/x/wAADwAHAAcABwAPAAcABwAHAAcADwAPAAcADwAXAPH/BwAHAA8ABwAPAAcADwAHAB4AAAAHAAcAHgAeAAAAAADx//H/+f8XAAcA+f8PAAAAFwAPAAAABwAPAPn/AAAAABcAAAAHAA8AAAAeAAcAHgAAAAcABwAPAB4AAAAAABcAAAD5/wAABwAHAAAAFwAHAAAADwAeAAcAFwAHAA8ADwAHAAcA+f8AAPn/DwD5/wAABwAPAAcADwAHAA8AAAD5/wAABwD5/wcADwAHAAAAAADx/wAABwDx/w8ABwAPAAAA+f8PAAAADwAHAA8ABwAHAAAADwAeAAAABwD5/wcABwD5/wAADwDx/wAADwAAAAAA+f8AAAAAAAAPAAAAFwDp/wcAAADx/wAA8f8AAPH/BwD5/+n/AAAHAPn/BwAHAPn/8f/5/+L/8f/5//H/4v/5//H/AAD5/x4ABwAHAAAAAAD5/wAAFwDx/wAA+f8HAAAABwD5/wcA+f/5//H/8f/x/wAAAAAAAPn/BwAAAAcA8f8HAB4A+f8AAAAABwDp//n/+f8PAPn/AADx/+n/BwD5/wAA6f8AAAcA+f8HAPH/8f8PAAAABwAHAPH/8f8AAAAABwAHAPn/BwAAABcA+f8HAAAAHgD5/x4A+f/x/wAAAADx//H/DwAHAA8AAAAHAAAAAAD5/w8ADwDx/wcA6f8AAAAA+f8AAAcAAAAPAAcABwAPAA8A+f8PAA8ADwAXAPn/BwD5/wAA+f8HAPn/AAAAAPn/AAAXAA8ABwAeAAAAHgAHAPn/+f8AAAcABwAAAAAA+f8HAAcA+f8AAAcA+f8PAPn/+f8HAAcAHgAAAAAAAAD5/w8AAAAHAA8AFwDx/xcABwAAAAcAAAAPAAcADwAHAAAABwAPAAcABwAPAAAAFwAPAAcAAAAHAPH/BwAXAA8ABwAAAAAAAAAHAAAAAAAAAAcA+f8AAPn/BwD5//n/+f8HAAAA6f/5/w8AFwAAAPn/BwAAAPn/+f/x/wcAAAAXACYABwAHAAAAFwAXAAAADwAHAAAA+f8PAPn/BwAAAAAA+f8AAPn/BwAPAAcABwAHAPn/AAAAAOn/+f/x/wAA+f8AAPH/8f8AAAAABwDx//n/BwD5/wAA+f/5/wAA8f/p//n/BwAAAOn/BwAAAAAABwAAAAcAAAD5/wAA+f/x/wcAAAD5/wAA+f8AAAAA+f8AAAAA6f/x/wAAAAD5//n/FwAAAAAAAAAHAPn/BwAPAAAABwAHAAcAAAAAAPn/6f/5/wAABwD5/wAABwAHAAAAAAAHAPH/DwD5/wAADwAHAAAABwAPABcABwAHAAcABwAHABcADwAXAAcAFwAAABcAAAAHAA8AFwD5/wcA+f8HAAcADwAHAAcAFwAHAAcABwD5/w8A8f/x/wAA8f8HAPn/+f8AABcADwAAAAAAFwAHABcADwD5/wcAAAD5/+n/AAAHAAAABwAAAAAABwD5/w8ADwD5/w8AAAAAAAAABwDp//n/BwAHAAcAAAAAAAcABwAXAAcAAAAHAPn/AAD5/wcABwD5/w8A+f8HAAAA+f/5/w8ADwAXAPn/AAAHAPn/AAAPAAAABwD5/wcA+f/x//n/DwAHAA8ABwAPAAAAAAAHAPn/8f8HAPn/BwD5/wAAAAAPAAcAAAD5//H/6f8XAA8AAADx//H/8f8AAPH/AAD5/wcA+f/x/wAAAAD5/w8AFwAAAAcABwAHAOn/AAAPAAAAAAD5/wcABwAAAAcAAAD5/wAA+f8PAAAAAAAHAAcA+f/5/wAABwAPAAAA6f8AAAAAAAAAABcAAAAHAAcAAAD5/wcA8f8AAPn/AAAAAPH/6f8AAPn/6f/p//n/BwAAAPn/+f8XAPH/6f8AAAAABwD5/wAA8f8AAPn/BwAAAPn/AAD5//H/+f/5/wAAAAD5//n/FwAPAA8ADwAPAPH/AAAHABcADwAXAAcABwAAAAAAAAAAAAAA+f8HAAAABwAHABcA8f8eAAAABwAAABcAAAAPAAAAAAAHAA8A+f8HAAcAAAD5/wcAAAAPAPn/BwAXAAcABwAPABcADwAPAPn/DwAHAAcAHgAHAAAABwAAAAcABwAHAAcABwD5/wAA+f8HAAcA+f8AAAcADwAAAPn/BwAAAAcAAAAHAAAABwAHAA8ABwAAABcABwD5/xcA+f8HAA8A+f8XAAcAAAAHAAAAAAD5/wAAAADp/w8A+f8HAPn/FwAPAA8A8f8AAAAA6f/x/wAA+f8AAPH/+f8HAPn/BwAHAA8AAAD5//H/AAAHABcA+f8HAPn/AAD5//n/+f8HAA8AAAD5//n/8f8PAAAA+f/x/w8AAAAXABcABwAAAPn/BwAAAOn/6f/5//n/6f8AAAcAAAD5/wAAAAAHAOn/AAD5/wAADwDx//H/AAAAAPn/AAD5/wAA+f8PAA8A+f8PAPn/AAD5/wcADwAAAAcA8f8HAAcABwD5/wcA8f8HAPn/BwDx/wAAAAAHAPn/BwAHAPn/8f8PAPH/DwAPAAcAAAAAAPn/BwD5/wAAAAAAAPH/6f/5//n/6f/p/+n/BwAHAPn/DwD5/wAABwAHAPH/AAAHAAcAAAAHAAAA+f8AAAAABwD5/wAA+f/x/wcABwAHAOn/+f8AAAcAAAAAAAcAAAAHAPn/DwAHAPn/+f8AAAAABwAHAAAAFwAHAA8ADwAXAPn/DwD5/wcABwAPAAcA6f/5/xcADwAAAAcABwAAAAAA+f8HAAcABwAXAA8AAAAPAAcADwAAAAcABwD5/wAA+f8HAAcABwAAABcADwAAAAAABwAPABcABwD5//H/DwAAAAcAAAAAAAAABwD5/wAABwAHAA8A+f8AAAcAAAAAABcAFwDx/wAA+f8AAA8ABwAAAPH/+f/5/xcABwAAAAAA+f/x/wAA+f/i//H/BwD5/w8A+f8HAPH/AAAHAAcAAADx//n/+f8PAAAAAAAHAA8ADwAXAPn/FwAHAPH/+f/5//n/+f8AAPn/BwAAAAcADwAHAA8A+f8AAPn/+f8HABcABwDp/wAAAAAAAAAA+f8PABcAAAAHAAcA+f8AAPn/AAD5/wAA+f8AAAAA+f8AAOn/AAD5/wAAAAAXAAcABwD5/wAA+f8AAAAABwAHAAcABwAHAAcABwAHAA8AAAAHAAAA+f8HAAAAAAAXAAcA8f8AAOn/+f8AAAAAJgAPAPn/+f8HAPn/BwD5/wAABwAHAAcA+f8HAAAA+f8HAA8A+f/x/wAADwDx//n/+f/5/+n/6f/x/wcAAAD5//n/DwAPAAAAHgAAAAcAAADx/wAA+f/p/wcABwAAAAcAAAD5//n/+f8HAPH/6f8AAAAAAAAHAAcA+f8PAAcAAAD5/wAADwAPAPn/AAAAABcA+f/5/w8ABwDx//H/AAAAAPn/AAAHAAAA8f/x/wAA+f8HAPn/AAAPAAcADwD5/+n/AAAHAAcABwAAAAAABwAHAB4A8f8XAAcABwAXAAAAAAAAABcABwAeAAAABwAAABcABwAHAAcABwAHAAAAHgAAAAAAAAD5//n/DwAXAAAAJgAPABcADwAHAB4AAAAHABcA+f8AAA8ABwAHAA8ABwAeAAcAAAAXABcAAAAAAPn/BwD5/wAABwAPAAAAFwAPABcABwAAAAAA8f8PAPn/AAAeAAcAAAAPAAcABwAAAAcABwAeAAcABwAHAAcABwAPAAcA+f8HAAcAAAAAAAAA8f8PAAcAAAAAAAcAAAAHAA8A8f/p//H/FwD5/wcADwAAAAcA+f8HAAAABwAAAA8ABwD5/wcADwAAAAcABwAXAA8A+f8HAAcA8f/5/wcABwD5/wcA+f8XAAcAAAAmAAcAFwAHAB4A+f8XABcAFwAHAAcAAAAAAAcAAAAAAAcABwAAAAAA+f8AAAAA+f8AAAAAAADp//H/BwAHAAAA+f8AAA8ABwAHAAcAAAAPAA8ADwD5/wAA8f/p/wAA+f/p/+n/AAAAAAcADwAHAAcAAAAAAAAAAAAAAAcABwAXAAcAAAAPAAcAHgAPAA8ABwAHAAAABwAPAAAAAAD5/wAABwAPAAcADwAXAAAABwAAAPn/AADp//n/AAAAAAcAFwAAAAAABwAAAAcABwAAAAcABwAHAPn/AAAHAPn/AAAeAAAA+f8HAAcA+f/x/wAAFwAHAAcAAAAHAAAADwAPABcABwAHAB4ADwAXAAAADwAHACYAFwAPAB4AAAAAAAcA+f8HAPn/FwAPAB4AHgAHAAcADwDx/wAAAAD5/wAABwAPAAAAAAD5/wAAAAAHAA8AAAAHAAAABwAAAAcAFwAHAAcAFwAPAAAAAAAHAAcAAAAHABcAFwDx/wcAHgAHAAcAAAAXAAcABwAHAPn/BwD5/wcABwD5/wAAAAAAAA8AJgAXABcAJgA1AC4AJgAXAB4ABwAHAAcAFwAmAB4ADwAHAOn/AAD5/wAAAAA9AEwATAAXABcAFwAXAEUADwDi/+L/HgAmABcA+f8PACYABwAPAA8ANQBUADUADwDi//H/BwAeAGsATABzAGMAuADeAA0Gwg8+DaD+3vN59hcA4wHy/BT8FAm3GI8WfAIP80r5SgZfBIL77PZX+nb/DPxU8+nyLgABEgES1AbxBPUIHQOg9mL2vAEhB4oAbPj09or7R/pC9OTxzva3/u8Cjf+R+7D76vx1/QH9Iv/VA0MGbAWsBNAFXAUYAkIBgQMcBpQHSgYlA/oBkQBq/vf9oP60/0wAMgGeAWsA//13/FH8PP6J/mf/fv9E/rL9kP6q/Rj9zPwO/n7/DAHEAVEBLgCY/oz9C//S/xr/Of/L/3b/RP5e/a38rfwo/VP+dv+V/+j9MP0o/Yf8mftF+6v6APuz+k/6afkn+GL2wfUG9lv2BvYi91X4i/j59y/4BflU+1j/wAWYC0UNIgwqDJcOLxJfFOQTxBEgEhAVihU6EWoLqAg6CUwIrATqAYoAk/22+QP3Dvbm88jwie5n73jx+/H+8P7w3PFc87X0oPb2+Fn8kP7mAIkDYQZHB7MHawglC5oNGQ/UDk8PlA+rD1oOCA3VC0MLHQvqCfAHewVTAzIBgf6w+0f63/g592X1EfW48zjyWvFX8vjy5vPr9Hb3JPkh+oX6/ft//G39cv49AC4A2v8L/+/9Qvxr+1z7evt2+uv5ovgO9qTyFfH57zDtQOoh6rjr1Ox39NkHEyE6KZMaVwfWCH8ZQyP2HbIabCVlMisuixr1CAYDNwI6AUYC3AbUBu37R+1i5tbm5uMF3B3ZaeFl7XHxnuxv55jm3+iC63Hx8/lqA1EJew3OEKcTPxJHD6YOnRQpHDohRCAAHaAYfhQSD8QJewUlAz8CtQFMADD9C/eg7rzn0eXq583pEupu6k7tEPCa8PTuWO8h8l/3Vv0iBI4JsQ0hD3oQOhFOEskSXxRpFhMZpRkpFygS5g2qClIG9QAo/X/8mfsY+KHzvO8C7Q/rrulU6wLtKu/28Hrz2PUY+Lb5OvzO/sYDvwhfDC4NPg2mDtEPrg6GDLcLeQuWCVcHAAVOArL9iPmj9cLyvO+B7vrsTOtx6RXpd+dt5bLlWOcv6Jroa+st7pjuSe/09lAEGBI8G4MlszRtPzQ7mSg9IDUoATJdKjkc6hkFHt8VMf9z67jj3+DZ2iXW2NiB3vfd9NZR1GnZL+D24B7jC++ZAAAN+hEzFhocZh8ZH+seSCTqKfQrDCkzJrYjlx4LFIIIDwCw+5D2HPHy7Onq1+he5T3jAOOp48zkneeg7i32+vxUAP8C9gUECSgKPwp0CkEMXwxyC6sHLQMY/UP57PZl9RXxRO6Z6/vpNObj5DHiL+Co3nvgCOAH3szcHOR78NYQuD0CX6FNDSbUHpU8Hkj+KqURmCOAQ1dEjx5c+1HsOee61RPHYskh2nzY3c650ELkVuVd0CnCdtLn8EoG/Q2PFlghaitlKnkjjx4eINMh0CItKNEveSvBGiYIDv7J9WPrweD121Peo+WX6ZXnZODB3ffdNOEG5mfvF/s+BXgObhcfHcUe7xrUFs8VkxqmHmwddxk4F1gUWAwuAIH2vfH28P7wZPAz8VfyafF87dnqUewW7pXv0vKc+m0CIQfmCCsJGwkrCf0IxwgjCSwLhgwDDLkK4wkzBo3/i/jR9QT0SvFe7Wjsde3v7VTrieZr43Pj4+Qi54Xq5e4S8mD08fdU+7z8zPzi//gHDyChRYRfPlJ4LtUjojK8MeEPDPQl/gUWhxbK+g/jK9yc2j3LXr18wKTSMdol3njsfgQoCrz8gvOv/kIRxhtFHVYiyC19N7YzmiWrFzgPgAYD/+r8JgAT/+f4hfK+7mLpJ+DG1l7VtN8B8CH6bf0rAQQJ0Q8mEMgNsQ21EYUXthvuHbscehjHEIUHvwAp+orztezC6i3uePGL8P3rpOo67LLtKO0l7jHyZPhW/e0A7wK+A10CA//q/AH9m/1m+oP49vjh+vz2XfD169Lq3+i44+/g2+SA8VIOKzZNUqxJyiwlI8wuWS43Evj6BQbFHpgjFQs09vbwTu2D2AvCwcAd0SvcCuJ57hECLQgq/7f2VPvfBeoJ0Ao8E98lNDMtMCwjVBieEeQGnPrp8rvyYvZD+XP78Prd9jnvROZf4sDjrunL7zP5Twf5FEMbCRohFw0WWBR/EWEO6A8iFFAU5A7rBjIBNvie7NfjiOGH5K/m6epv73n2OPoK+lD3tPfh+tv8Af3p/6ADkgWtAcH96foV+Xz1kvCJ7ljvH/BW7YvoSefQ6PvpVuVJ3/fdI+xSFqFNSmttV/01mTVKRuA3CgdI6rX8mxp1F5T6Du7R9bzvR80nsFG3xMxN07vSpecLDPYdnhYYCs4LARJyELsMrxMXJTsuZSqzJKcj9BtkBVns8d9V4GvjOuRQ55PtQvT69Bzxsu0Z7SXuSvHp+igK6Bd9HygiryNqI4Uf4RcEEWMQqhKoEK0J1QM1ALn4hO2p45XfY96B3nTgeuZG8Of4vPyQ/iACJAaPBgUGDwikDNQOFw2WCQgFZ/8i9//t9uhk6JLoJeYo5VDnxemp6FnkKeKK45Hm4OW74r3kufiIK4plNX35YX0/G0FPTGs1jP1B39zxew1ZCdjt/Ob87snlocPMrNu3vMcSyvfNSe+GHDsuIiTZF0cfMCeAHvsObwxAHKYmaSb5IUcfFBbV/tPniNkZ1fvR28+V16jmA/fy/PL8Cf2b/dj9BPw1AAEKtRZgIYQnWis0K+gnDR4/ElYKXwSQ/uX2aPQ69GbyGe3G5i7j3+DI4PbgTuUE70r5fwG6B5QP9BMTFGgRzQ5QDMoHhALq/BX5JfaF8qDuKera5yjl4eJd4L/ev97/3e3eSOIF6eDtDu7J7dL69yqPZv9/xWMiQcxGklVHPx4AGNj65IcBNP4q307YWOcz6bLNxLc+wI/MvcyPzEjqGRdZLtUrIiSuLoA2YitSFpUMrxPIFZYR3A4sE5sSvAEJ7QfeBtnm0xnNxs4h2jrsmvilAXQKtxDMEVUN/AthDhMUaxi5GkoeRiILJBEfNhUVCwkCXPut9JXv9euN6gDrketZ7CPsNevw6uPstvGd95v9pwMJCmMQ4hT2FYgTnw6hCMQBq/pz817tbuqF6k/qNuhy5uXmW+be47bh9uAd4bjjO+lg77Py7fOS+KURGUe7dJF1q0+wPTRL0kwTIbviQc+O58H9Hut80CLXuOvA6KPNuMOJzkfVbtJa2ZP9pyMGM74rtCngN4g74CojETsGCgffBc4D4AISB/wDVfiw68DjouAy10HPyNBQ3zPxdf3KBzoRSxtXH0Ac6xbBEtsRlhEBEl8U+BeTGk8XsBCvC48GxPzg7YfknOKW5MnlHear6vPx9vjz+f74DPzL/38B0wEhB88N4xGLEs4Q3A7jCSsBc/Mn6DrkSuRF4w3h1+N56Vbt2+yU6gXpmOa95FnkoOZX6sntmfMpD21HgXjUe4xXZ0QzTuFMgx3p2sDD993X+Dboxs7D12by4/Rc257MC88P07zP4NWO97EdLTCnK/MuBEEcRlUyzBFFAEf9qv1m+h322fpQ/w7+dvex8CHq49zx0pDR5tu+6W31YAGXDowfYCkeKAcgAhcBEhQO8Qx8CtMJ6QytEX4UfxEiDL8AlvSc6vrk0OAt3prgcubI8Bf7kQArASACNgVsBewDogItA1UFGwnGC+AK0QdCAS/4tO+w6zboOOJO3fzem+XH6/rsHut66yXuSe9K7FLpAej+6D/1dR9tVz11kWXxTJNS1F7KRF79d8fey9brJutpyeHCa+PmAF34FeGU2uvcMdrc0a/eoP5HF7QcLSD/N8BNt0g8K6sPIQdLAxX5yOi44wnt1fao+/P5nfc78efoc+NL4QXkU+aw6wH4xguMH0cnWSYsI/IhGR9pFqIKggDO/pMC2Qf+CoEL7Qg5BPn/7vg37cjgEtqK243iJusK8uf4iwLxDKURNRCvC/sG3QMdAygCdv+l/ML6Uvm09xr3DPQO7o7nm+Xt5gTnsOMf4MLi8+na74bvcu4Q8G7yn/mNFMRBb2HpXL9IFUtDW49OlRSp25vVEPCu8frMmrhm0gv3a/v85mHcV+LT50XjK+ST9XIIFhD5FBYoMz4LQZ4uBhu0FD8SHwWO77vimObD74Lz5PFk8BzxbvJX8vnv2+zp6nDsv/PeAP0NOxYYGuseXCU1KCAihhSlCa4GCgdqAx3+jvw9ALcDWQFm+uHy2O0F6b3kmePg5Vfqju9d+NgCvgsSD5cOOw4kDgsM4gSO/CX2sPMH8xLyQ/E78QPypPJD8ezuLusG5nbiT+IJ5dHlo+Xt5ibrDPRrCBQu2FIEYcpUtkuuU/NTui8Z9XTY1uZ59prgXcCoxvXr+gEU9IbfFt6V5wXpu+Jg5wP3PgXmDVobYzAaPMc1aSZFHXwaug+r+mDnxOR47HHxCPDg7UPxt/ZX+vn3MfKj7Zbs3/Di94oA6AefDpwXtyBHJ88lex3VE80OpwtcBZP9LPkm+8v/OgGE/cv3K/Ts8VPup+n/5XXlwOjq72z4+f/uBQYLXg/bEY4RWAwxBDf9lfdj8y/wYu4g7S3uWvGO9AT0wPAr7HToSef/5XrjO+Fu4iDl1emz+rgdrUZfXHJYgVAwVyFcKD8zBjLfveRR9EzjbMBtvTjirQE3/bnooeP/7dzxS+nu47DrbPj6Af0NOiFRMeQzhSx9J3slhhwCBz7wr+Yz6f3ruejg5QrqnvQd/h4A1vvl9tH1Ofei+M35d/zYAhoM6xaHHp0hlB9TG30XARL+CqICEf0p+iH6Gfqx+AP34/Qy9FzzlPJY70XrQOp87VzzQfeo+ysBJgjADQ8Q8w7YCv4Fjf90+FLxGe0H63bq/esT733yV/KL8GLuVu0c7Lbpt+Zr40vhZeVJ/EsjQkYOUBpMNlLiYc1b6C9r+3votfQa8vzO6bJUwwLtigAw9Zro8e/o/Rj9ZPAN6bLtrfSZ+9wGjxZOIjMmDygSLCks2R/bCcD4tvFg7xjoWN/E3GHkxfHH+1j/3f6KACIE1wVLAwb+kfvV/hAF5wrNDv4SchhKHsshsx9bGCQOZwTe+3rzB+uK40vhreQ962TwXPNq9jD6PP6d/xb+TPvK+mX9+f8jARsBQgFoAYcBQgFL/oD5K/R48Ubwee5X6qrlIOUk6frsWexD6T7oc+sC+kkRjSynO3U//kJmTHdRSDx9F3X9Z//TASbruMvUxNHdmfMK8l7lGeW99B3+kfvZ8lfyTfgO/pADggiMD6QUfxlmH6oiyh9nFKUJ1QNrAP74Yezu4zXjgOkQ8EXzVvX2+EUA1AZgCdwGiQPlA80GYAmwCPMGqAhxDrUWlhnrFmgR/Q2sDJ8GMvwb7zbog+jS6vPpWOdF6zXzB/vB/S3+WP+oAEsDDgO1Aez+df0Y/RT8mftP+hX5b/dB96z31fa/8+Lv0e3g7artJuuG5yXmfuc67HH5iRA0K2g5zz2GQedKN0pTM3wSXADEAeb76eImy//NZeXZ8jnvvOfO7rz8LwIo/e/1vvbr+Tf9u/+yAsoHywz0E6oacB6vG/wTpg7vCkoGc/t57t3m4OUa6pbsge6f8VL5rwOECioM0wmOCUMLuQqFB+ACSwPRBy4N6A9eD1sQVBCIDhQJGAIA+wfzVu1p6f7oQ+lu6v/tofOF+kT+YwDMAXIDpASEAqf+EvoY+Ej35faJ9qf26vd4+S77evsz+XL2OvRF84vw7etY5+vkKuch8rQEdhyBKwg1/jo2RXVHhDcUHiULwgdY/67p0tIiz+LfHOzy7C/o5e6M/TYFpATR/Qn9Lf4q/0T+Wfxy/rUBsAizDzEUyBXVE9UTqhIpD0MGMPos8dbrB+vs6QXp3uuc8sn9ZAVWCkEMEg9REaMPNAuaBfcCiwKBAxwGYwiLCucKEwxfDEIJyQL4+gb2QPJy7s3pSecV6aPtyvI89qb5Lf6qAnMFpAQ3Alj/jP2K+7n4uvV684LzpvQO9tj14PWg9rz3dvcJ9ezxxu4y74n2mANnFCEfFijjLno4fDqjL1cfeROzD/kEePHO3hrayuLT5/zmpuSw62z4egAtA4cBcgOpBSQGXwSCAIb/b//BAlIGegg3CqIKFA5UELMPkwp8ArX8w/e99B/wHOzm62fvE/el/IcBsQWJC+MRBhN3EZoNbwzgCk8HYgOCAGMAnf8q/8P/TAAuAOj96vz9+y77kvjr9EzzLvMy9FzzF/PU9D74XPve+xv8tfyg/gAAoP68/JT6V/qa+Jj2UfQH87DzLvNM85zyjfK/88j4hALZDyUbViKEJ3YsTy+LKnUfXxSaDU8HG/z37abkweXZ6q3syupj66vylPp+/5X/VADvAukEFwVOAkkBSQFWAkEEZAVXBz0I4wlyC0gMwQoVBscAI/xS+ZD2yvIs8fvxYvaz+tj9hwGSBV0K7AugC2ILoAtyCzoJLQgSB0oGGgQoAkIBHgDV/jr8Evps+I73/PZ89Z70SfQg9W31o/Wg9gH4cfnz+av61vsY/ZP9GP2W/Mf7B/tK+fT2m/WM9SD15vNX8jHyPfMf+C4Abwz7FhEfnCTOKN0rJijwH5oVAg/HCFv+O/GG57TnY+uW7A/rmevh8jD6w//PABECpAQVBmkGcgNJAfH/AAB3AcQB/wK3A3gGdwk8CywLowdvBMcAHf6F+mr2x/ON8tv0L/iK+0v+xAHFBuAKlQynCzwL/AvgCiYIGgSyAkYCSQG0/5j+5f5T/vf9Cf3E/Hf8mfvF+VD3cvbJ9eP0c/M18630wfXV9vn3lPpt/TH/fv8D/+X+Fv5Z/NT5nfcd9ln0hfJh8WnxK/SX+UQDOA/OGBYgLCN9Jz0olSQ8G44RQwusBCb7xu4Q6JDpvewd7ubrBO+69Sj9lgFGAmcEkgUCB4oF2AIEAa/+7P6+/g8AFAGLAkUF6AfBCjcK+AeVBMwBpP/P+2z4bfUJ9a/2e/ic+l796gGPBlEJqgpQDM8NjQxwCfMGkgWBA37/h/y4+xT8gvuN+pT6v/so/dH9GP1J/N778Pok+a/2P/VC9GvzLvPm8xb2Vfhu+hT8Fv5n/7T/7P5e/e37MPoQ+Df1wvIm8+X2NP6FB0wQPRi4HZsiuyQVI+Yd8xa/EDIJXACM9Xztq+rh6orrjeoE7CTxJ/i3/hgCPgWMB2gJaAlPB34EOgFQ/8H9P/1W/ej9TADoAkoGFggeCCEHFwXdAyMBgf49+w356vcT95r4OPq1/Lf+xAE2BXIIbQoOC90LCwxaC1EJqQWEAsP/6P0M/Lb5L/jq9zP5CvoA+z37mfuw+4L78Pp4+eL3gfbo9ar1yfVb9jn3FfnK+ur8o/0d/gb+2P1W/eb7AvqV9zz2Kvdr+8ECLwo6ESQWFRvUHqsfyxycF0MTBQ4pB7L9nvQf8Bbu7+0c7JHr2O348kP57/0BArsEfQdJCToJBwjxBG0CTADl/gb+P/3R/Sr/4wETBHMFigW7BFAEoAN0ApEAwf2C+4X6s/oe+3r7zPwD/xECuwQZB88IaAmlCUkJawhSBkQDzwCg/kf9XPuu+Xv4ZPjr+YL7Ovz1+/X7h/x//Kj7xflN+In2yfVl9bL1JfaY9l34R/pJ/Ef94P1i/pD+gf4o/R77Zvqw+5kAaQYDDL8QMRTwF5YZxBkKF4gT8w7MCRMEEf0L95zyovD576/uoO4I8Dr0/vhe/XABAwSuBpwHNQijB9cFiQP9AOL/xv7G/t3+rP8UAWUCiQOQAzQD4AJOAgECoQDl/kf9aPwj/Cv8h/xO/TT+pP9wAdUDgwX7BvgH7QgyCWsIKQcQBR0DzwCY/o78bvoF+WT4e/ix+MD4HPlK+a75pvmX+Rz5i/hd+Jr41/gF+ab5R/r4+oL7BPxo/HD8BPxr+9L66/lf+pb88gG4CIAOkxI2FUwY0xmwGOkUaxB2DIUHlgG7+sH1XPPc8RzxH/AN8T3zcvZm+nL+EQL0AycFuQUcBrkF9AMRAjUAX/8x/53/kQCtAaICeQP0A9UDJQMoAqgAb/9T/pv9G/we+/j6MvxW/VP+FwBWAkgE5wWzBzoJ4wk6CZwH5wVqAwwBLf7H+8L6V/qr+sL6ofvM/Kr9Dv7g/e/9Xv13/AD7vfnu+Or3/PYt9nL2WPfQ+Pv5NfuW/Oj9ef6n/jT+m/0j/Hb6LPkw+tj93QOlCcUOfBJpFmsYvxiuFnET3A4MCUQDhP0n+Cv0cfGp8FXwQ/HZ8tH1iPle/f0AkANcBe4FsQUXBdUDmwKhAF//oP7d/vH/cAH/AgsEpASdBDEEcgP6AYoAgf6E/cf7D/ur+kX7G/wJ/a/+zwCLAq8DCAWABhkHQAdSBtAFSATvAncBVACG//T+cv7//TT+ef55/hb+Cf0r/Pj6AvrX+B/4rPe095X34vep+K75B/sM/OP8yf0l/nL+uv1W/Vn8kfs4+tf4PvgN+Vn8+gEECSEPJROaFSEXPRjcFtgSRQ1mBxECnvyO90L0yvKF8qTyz/Md9jP5BPyY/iMBmwKBA4kDBgNGAhsBHgAT/wv/jf+RAK0BSwMQBUoGjwbQBUgEdAJUAOD9ivuf+XT4i/iI+YL7k/12/6UBpwNcBf4Flwa9BkoGjQQOAyACYAHPAGMAYwBrAHoABAF/AbUBvAGlAZEA5f51/db7OPo++F/39PYi95X3JPmz+v37fP2n/gP/oP4l/qr9Wfz4+uv5j/nu+Mj4DfmA+U/6mfst/tMB+AdhDh0TSBT8E8YT9xK6D5MKoQVRARH9DfnG9qD2X/dd+P741Pkm+2j87/3V/kj/Z/8T/8b+1f5+/wcAqAB3AU4CeQNnBJoFnwa9BsgFGgQJAqT/qv3e+5z6Wvnn+Jf54fpZ/Bb++f8JAoEDpAQQBQgFXwQ5BNUD9wIvAhECAQKeAQwB3gDtALgANQDD/3b/Of/0/r7+ef6g/sb+xv6Q/mr+p/5i/kT+6P3o/Qb+qv03/Yf8BPx6+/j6Zvoh+jj6hfr4+uH6F/tz++37Qvxw/I78jvye/DD99P7BAi0Img38EIcRDBE9EIAO7wohBzQDNQDM/ID5EPh+9x/4JPlu+u37vPxO/R3+oP63/r7+A/92/wcATABzANYAjgH/Al8ERQXQBQ0GqQX8A9MB4v88/sT8VPt9+hL6hfqC++r8PP5f/6gA0wERAncB/QCoAIIAggB6ACMB8gHoAgMEPgWpBaEF8QQTBJMCuAC+/oT9FPwA+5z6+Po1++b72/zG/h4A/QABAqoC2AJdAgkCFAHa/5j+S/5L/qP9yf0G/on+U/4O/v/9m/0B/Wj8DPyo+zX7oftC/Bj9df2B/n7/NQAmAAAANQCwAKUBRgJTA7sEBQarB/8Hggj/B0MGXwS5AgwB/P5e/Qn9Cf21/MT8Fv6v/sb+zv5Y/4b/t/6Q/gv/Gv/s/gP/AACRAM8AaAEoAkYCPwIoAhECcAFjAOL/nf8L/0v+Hf6+/gv/dv8XAKgAGwEbAXcBKwGKAA8A8f+0/2f/2v8mAL8A5gCHAfIBrQGOAUIB3gDp/yr/Iv/s/gv/X/8mADUAYwDPADIBBAE1AKz/9P40/j/9xPzj/J782/wo/aP90f1E/on+mP4l/pv9Zf0Y/bz8vPy6/cv/jgHQAjQDxgNIBJUEdgSgA5sC4wEjAdYA5gDeAO0AcAG1AfoBQgHHALgAkQDD/3n+6P2y/cH99/1y/tX+Mf/5/88AWQH9AMcA7QC/ANr/1f6g/jH/dv+V//n/oQArAZ4BlgErAYoA4v92/xr/gf40/rf+lf9MALAADAGlAeoBrQH1AB4AtP85/wP/Iv9Q/8P/cwAbAWABSQEEAbgAXAB2/6/+Jf7//Tz+ef6+/lD/4v9zAGsAYwDx/5X/Gv/d/qf+oP7l/n7/VACoAP0AQgF3AVkB5gBzAAcAy/9+/7T/0v8mAGsA/QBwAUYC4wEyAb8AggBUAAAA4v8uAA8ArP+ZABsBkQCoAEUAggCk//z+C/85/wP/X/+k//H/2v/5/z0A+f85/6/+U/5q/iX+2P0O/pD+vv7s/uX+/P7s/q/+ef5b/uj9Yv7l/tL/YwC/AEIB0wEgAhgCGAIJAuMBaAH9AEkB/QBRAUIBtQEjAbAAuADmAFwAOf9B/1j/3f63/gv/0v9n/1//6f9jAMP/Mf/L/y4Ahv/8/qz/awD5/w8AkQAbAXMAJgCKAIoA2v+G/xcARQDa/9L/YwC4AGMAXABjAFQABwDp/x4ADwDi/w8AYwBzAFQAXABjAFwAHgAmAOn/6f/p//n/6f/S/9L/6f/L/53/hv+d/1//WP9n/5X/2v9UAC4A8f/a/w8AHgDi/z0ALgDa/9r/qACoAGMAXAC4ABsBvwDeAPUA1gB6AKgA9QCoAEwAPQBFAPn/UP8D/0j//P6n/mL+cv48/iX+Hf4l/g7+6P3//Tz+Fv4G/vf9oP67/4IABAGWAeMB4wEBAjcCPwLMAVEBfwGWAWgBSQG1AbwBcAEjAeYAcwC0/6z/pP9Q/+X+A/+s/+L/2v/S//H/pP92/4b/Z/8i/yr/0v8HAAAAHgCCAKgATAAeAA8Ay/9+/43/6f/S/8v/HgCZAHMAXABcAFwADwDi/wcAFwAPADUAegCoAGsAegCRAIoAXABcAGMANQBUAGMATAAXAPH/AADx/+L/nf+G/6z/hv9v/2//Z/9Q/1j/b/9n/1j/Z/+7/8v/0v/i//H/BwAAAB4AFwAmACYAXABzAHoAcwCKAJEAigBzAFQAYwBUAGMAVABFAEUAHgBFACYA+f/p/+L/2v/i/9L/2v/a/+L/6f/i/+n/4v/i/+n/4v/p/+L/6f/x/wcABwD5/yYADwAXACYAFwAmABcAFwAXAA8AAAAPAA8AJgAHAB4AHgAmAB4ABwD5/w8A+f8HAAAABwAHAA8AFwAmAPn/BwDx//n/8f/i/+n/4v/p/+L/6f/i/+n/6f/i/+n/4v/i/+L/8f/p//H/+f8AAAcAHgAeACYAFwAHAC4AHgAeAB4ANQA1AC4ALgAuABcAHgAeAB4ADwAXAAcADwAXAA8ADwAXAAAAAAAAAOL/8f/i/wAA+f8HAOn/AAAHAAAA8f8HAAAAAAAHAA8A8f/x/wcA+f8HAPn/8f/x/w8AAAAPAAAABwD5//n/BwAHABcADwAAACYABwAPAAAAAAD5/wAAAADi//n/BwAAAAcA8f/x/wAA8f/p//H/AAD5/wAAAAAHAAAABwDx//n/AADp/wAAAAAAAAcABwAPABcAAAAeAB4AAAAHAAcABwAHAAcAFwAXAAAAAAAHAAAA+f8HAAAAAAAAAPH/+f8HAPn/BwDx/wAAAAAHAAAAAADi/wcADwAHAAcAAAAAAAcABwAAAAAADwAPAAAAAADx/wcA6f/5/wcAAAAHABcAFwAmABcABwAHAAcAJgAeABcABwAPAAcADwAHAAAABwAAAA8ADwAHAAcA+f8HAAAABwD5/wcA+f/x/wcAAAAAAPn/+f8AAPH/+f8AAAcABwAeAPn/AAD5/wcA8f/5/+n/6f/5/+n/BwAHAPn/AAAAAAcADwD5/w8AAAAPABcAHgAPAB4AFwBFALgAxwCZAKgAkQBzAC4AcwBFAOn/lf/a/0wAy//S/6T/8f9I/0j/dv9Q/1j/Of/D/9r/4v/p/2MAqAA1AB4A8f8eALv/JgA9AAAA6f8XAHMAFwA1AKz/0v9f/2//jf92/43/dv/p//n/+f+0/7T/u/9n/2//X/+V/7T/NQB6AHMAegBUAHMADwAAAA8ARQCCAKEA1gDWAMcAegChAJEAFwDi/+L/HgD5/zUARQBjAC4AJgBMAOn/0v+G/7v/6f/a/xcAYwCCAHMAkQBzAGMAHgD5/yYAJgBcAFwAkQCZAJEAXAAmAA8Ay//a/6T/w//D/8v/2v/a/9L/rP+d/4b/b/9B/yL/A//s/rf+RP4O/oz9zPwj/En8bf1v/wkCxgNBBFsDhAJ/AbgAzwB/ASACdALoAgYD+gGoADH/kP7B/RH9Cf1t/Rb+zv6k/w8Ay/8q/5j+ef5y/sb+4v9oAckCpwOgA8kC6gH1AFwANQBUAFwAggDHAMcALgD8/gb+df0w/QH9R/0W/uz+0v+ZAN4AggDp/8P/FwC/AFEBEQKLAh0DHQOTAuMB/QBcAAAAAADi/8P/tP+s/37/1f7o/V79KP1t/dj9cv4T/53/8f9MADUA4v/L/x4AuAA6AZ4BvAHTAcQBUQGwACYApP9v/43/4v/i/9L/lf9f/zn/xv6J/qf+A/+G/xcAawCwALgAsACwAJkAawChANYAMgFRAToB5gCRAD0Au/9+/1D/Mf9Q/1//Z/9Q/zH/E//8/hr/Iv9Y/8v/TACKANYA1gDPAKgAqADPAN4A3gDtABQBzwChAD0A4v+s/4b/X/9v/2f/Z/9n/2//WP8i/yr/Of9+/8P/AAAuAGMAYwBzAGMAXABcAFwAYwCKAHMAXABcABcA6f/S/6z/jf+G/53/w//S/9L/y//p/9L/w//a/yYAYwBjAHoAkQCZAHoAVABjAFwAXABcAD0AJgAHAOn/w/+k/5X/hv+G/6T/rP+7/9r/4v/a/+L/+f8XACYAXABcAGMAXABcAFwAXABcAFwAVAAmABcAAADx/9r/w/+7/8P/w//L/8P/w//D/8P/2v/i/+L/DwAeAC4ATABFAGMAVAA1ABcAJgAeACYAAAAAAPH/4v/i/8v/w//S/+n/0v/i/+L/6f/p//H/AAAAABcATAA9AGMARQBUAFwANQBUACYAFwAPABcABwD5//H/2v/i/9r/y//a/+L/4v/i//H/BwDx/wcABwAeABcARQA1ACYAVABMAD0AHgAeAA8AHgAHAAcA6f/p/+n/8f/i/+L/4v8AAOL/+f/p/wAA+f8XABcAJgAeACYAFwAmAB4AJgAeABcAJgAPAA8ABwAAAPH/6f/i/+L/4v/x//H/8f8AAPn/BwAHAA8AJgAmAB4AJgAmAB4AJgAmAB4AHgAmACYAJgAHAOn/4v/p/wAA4v/i/+n/8f8HAPH/+f/5/wAA+f8AAA8AJgAXAAcAHgAPAB4ADwAHABcADwD5/x4AAAAPAAAAFwAAAAcADwAXADUAjgGJA9IESwOoANr/sADEAZsCagOgA6EAif7J/SX++vxw/HX9U/7V/nL+t/6q/er8Vv3O/g8ATABRAVEB/QDS/2f/X/8a/+X+Of/i/1j/kP7T/I78vPw//er8qPsE/Mf7ofta+d/4OPoAAGgJqBB6EE8HQgE/AikHTAgzBqYGAgdzBWMAaPwV+YH2S/aa+H/8wf2q/UL8ffpD+Vf6kP4RAjkEJwVhBqYGNgWYAygCbQLgAjkEtAS3A3ABHf7t+336q/qh+8z8hP0//QH9f/yW/OP8Jf7x/+oBvgOsBLsE7ANLA+8CDgNiA68DrwPYAswBPQDO/qP94/ye/K38Ef0Y/dv8f/wj/GD8N/2Y/gAAUQEoAk4CNwKlAXcB2wGEAskCsgJOArUBigA5/6D+NP5i/on+t/5q/g7+uv2b/cn9gf7L/wEC1QMLBCAC9QAgAi0DyQJZAcwBLwLEAVwAMf9i/k79jP0W/sb+t/7l/vz+U/5E/vT+RQDPAN4ADAErASMBvwDmAJkATAD5/x4A6f8a/3n+6P3B/Uf9IP3E/I78pfz6/F792/yt/DL8v/sm+3r7ivuk+q75SvnR/bMHpxMSFwUO6gGv/kMGrAzdCykHgwXLBKgAEvoZ9a30hPUD93j52/yB/t774vcl9kD6GwGXBpkI0Qf7BlIGBQYfBZ0ElQQABVUFjQR8AtX+4fpN+Bj4KfpZ/Ef9BPyF+qb5T/rt+0v+vwCqAl8ELgV7BdoEQQQqBKQEwAVaBtcFvgNJAUH/Bv58/Tf9bf1t/Uf9xPzW+4X6l/mc+kf9VABGAoEDRAOeAWsAYAFqA7QErAQ+BQAFBgM1AET+Jf5L/nn+mP7d/lP++vzm+x77uPtW/Xb/mQCwAJkAkQCoAHoA1gCHATcCNwKOAZkAnf+3/rr9+vz6/DD90/z1+8L6IfoC+o36D/tF++H6rvnn+O74cPw8A+8KQw6JC2YHUgZ6CLwJdwmhCJkIzwjUBj8CK/w++Ib3/vg4+gf7evtA+qz32PW092j8oQCiAmoDnQTIBbEFtARQBJIF+waMB3EGnQQJAtX+Mvxc+1H8KP2l/AD7xfla+V/6wf3TASUDAADo/b8AHAbCB1oGsQUSBzUIZgepBWIDAQKWAcQBMgHD/+j9mfvU+Y/5+Pob/P37HvtF+2D8Cf2E/ar9RP7O/tL/HgBB/4z9I/z1+wT8aPxZ/O37AvrL95j2S/Y09uv0yvJ98mv7GQ9JIaggBQ6J/rwB5RABGvMWsw9TCxkH5f4w9Zrw2fKj9WX1rfSQ9ob3V/Ko6zftj/l9B9oMhwlcBfkEvQZ6CGUK8QyADp0MNQinA9YAbf1h+Sr3/vh//Lz8kvhr80rxRfPa9578uADJAgYDVgK5AqwEGQcjCSgK2Aq5ClEJ1AaABkcHqQV+/1T7IP3L/zf9Gvf39V34EvqP+cL66P15/iD9vPyRAOUDTQWsBEEEuwRFBXMFEwRtAgECsgLBAv0Aef5C/Bf7T/rC+oL7mfuU+hz5/vhS+UD6JvvW+5b8f/wJ/er8Tv2j/Uv+xv76/B77M/n++NP3nffY/SULsxc7FucKTgJ4Bh4QyRINDscIGwkWCLAAgfbF8Sj1Pvis9zD1FvYQ+DT20vK485b8YQbjCUcHbwT2BYIIpQnPCI4J2ApdCogGcAFy/qX8RfuI+VL5nPq7+u742vcw+lb9KP0E/GL+MQQCB1UFSwN+BNQG5ghTC5oNkAtsBUUAcwBlAk4CNQCT/ZH7IfqI+aL4y/cI+Kb5kfvT/MH9m/0U/IX6ivuJ/rAAVAAt/kL84fqU+gf7oftz+2b6ufh+97r1cPQD8qzv4+zF8VMDJx0PLawknQyk+sP/qRV9J0ImCBWGBP37yPjW887uie678mr2IPUN8RzsS+nk6ZLwYv75DMYT3w3BAoH+8QT1EF4X7hXCD1YKuQUUAbX83Pmu+Vf6dvoN+SX2CvK67frs3PGw+4oFAwzOC1AEvPxE/uAKOxbzFlcPKwmPBqwEZQLqAZAD4gRtAjD9i/jB9dbzD/MW9r/77P5O/QX57Paa+PL8rQHLBIMFzgP1ADz+R/11/Uv+U/7v/X/8Evox9570VPM69In2Vfjd9orzy+9O7cfrZ+9+/zcayS8FLkkZ0gRtAnoQViLLKY4hnA9E/gT0p+7967/rDu5p8dXxmO576N7j4+S67Un8DgvkE6ISLwotAz4Fqw/yGQAd+BdPDzAHGwHM/NT51/jn+Cz5Ivfw8tHtA+pu6pTy7QDgCrMH8vyc+t0D1w0PEAoPVBBbECcNzwimBvEEEwT2BYAGBgPm+6f2JvNu8uj16fob/Db4jPWE9Uj38/nB/bAAUQFwAWABXADo/aX8fP2+/o3/5f4g/Y/57/WO9OD1SPfs9nf0/vCe7Lno6udI8osKRyc8M2EmyA0HAGEGXRoaLIotZB37BpX3Q/Gv7jftjO3X8Pjy7vAK6sLiueDG5v3zYgPRD90TyA3lA1QAYwh4FuEfSh7DFOoJiwLd/nD8+PqF+tL6afkR9Z3vK+yH7MXxAvqhABgC4v+CAPcCWgYjCRcNIxFgERkP3QuOCcUGHwXuBesG0AX9AAD7hPU69Mn1H/jQ+AH4MfeT9XX1Ivfk+a38zv71ACsBigC3/qP9jP3Y/TH/rP/O/or7g/g09kf17/VE9uD1A/Kj7RLqUOdG6Fn0lA/zLis+yS9LC/nvZvrhJNdFJDuEEvjyS+4w9enyWukL5wHwlfcz8Qrittky3+3rovjfBewTvBlyEG//n/lECC0g0ixTI48OTABq/u0Axv7k+bH4ffqA+Y3ydupJ59Lq+PJ//EQDfgR3Afz+LgDQBaENzRNsFfoRZA1oCYUHiAZxBsAFuwRLAw8AB/so9Xby5vP590z7gvsN+ej1AvUa96H7rP9GApMCdwEAANX+r/6J/sb+C/++/l79Rfs2+DD1f/RT9kb47Pbm84Pwxu6g7rrtJuvi5w3xEQo4L7RJMkFQFHLmqOvYIrBVT0x+FH7nyuLy9BD4QOpN4NDo4PXz8d/gMNUj3B7rufjIBRAVOB/zFlYC2PWgA+AixTYmLU8PR/r2+FkBiwLK+l71PPap+NbzV+rJ5QPqSPKV91b9gwVdCukEcPxy/qcLPRg3GvEUKQ9iC4oIJAaxBdwGEgciBCL/gPlJ9KnwFfH69HH5bvq09/Xz0vLY9R77+f+LAugCzAGd/7r9Cf3B/aD+nf8HAEv+jfqQ9hH1XvVT9pX37/WP8XjsD+u76gHopuTK6qkFOTQfWmRNQQxP0kXjljGAa6FV3w0O3hriX/rZ+hbmrdxr6wD78/F22sbOqtg46kb4MwazF6oi2Rdl/WruUQHEKaVBbDKGDGD0E/caBA0Ggvsj9M72Kfom8+jl+d9Q5xv0f/za/8kCbAXYAtj9TAChDf4awxwnFTYNFAnCB9kH5gjPCN8FSQHe+xj4N/W483rzqvUs+fP5nffW82PzSPeT/bkCdgTsA2gBMf9i/kj/BwBQ/wb+ofum+cD4sfhI9xn1LfbL9+L3FPSl75bsoes37QntSOrl5rzvMA8qQTlhaEZi/iDQEfUCR2VvLkU9+xXZw+c//XD0/92F2o/sH/hA6jDVpc9t3YHuqPvYCsMc8SSpFUX7jfJYDEg0/kL+KkgEX/Ip+u4FSwOQ9mnxr/ZX+iHyjOXB4Eflo+3X+BkH8A9/CUD6pvRtAtQWUSGSHZoVaxB2DPgHbAUCB9YIRAhnBC3+6/Sm7A3p7esM9NL6yvq48//tPO4j9En8BgOABm8E1gCj/QT89fsW/vUANwLEAeX+V/pJ9NXxA/KI8ervZe1j6/zmiuMD4jPp0AIMMZpaL1LDFIXat+Y4LyBnR1fNFoDpIud89bPyTOPI4MzsN/Xp6k/aNtOd177h4u9KBvkcNiVzFc/7+PJeB04qUDxbMPQTZ/8E/H7/ggDq/LD7IP06/Hz1KerF4ZLga+uv/q4O8w6CAOHyV/LS/2MQKBrEGfoRCQpFBVgEwwTuBQ8IdwlRCacDYfn/7ZzqkvD++K38ePlm8rvqDekE7134hv8oAvIBef4H+8L6qv0oAkoGQgmeCRQJ6QS6/b30sfAN8Xby+PLg7e7jS9lU20ftVAhJIYYxzjCdHBYD9QBSHhQ+OUE7JjIJY/t291fy0uox6sPvq/Ij7IDh2doh2mDf6+wMAfwQFRMECfn/xAHIDfsbQyN3ISoZrg5KBqEAvv6+/kj/A/93/AP3ovCK62LpF+tU8w8AFgg+BWD8qfjd/kIJGhRTG9ga0xESB90DQwZgCXAJWgYoAmj8E/cs8W3tW+6k8hP3sfiO97/zNvAV8Uj3kP7jAeL/gvsN+X36wf3D/wP/W/40/jD93Pmo8/ft4erP63PrqOao3vze3/inK/lZnFROGsHgr+bAJcVbCVcpJIv4yur07q/uEOji563sd++u6X3i8tyx2AraFemXBtEfwSIZDzj6ovhaC0AkTDCiKjoZygeg/q381f64AKoCKAL4+szsmN7n2KPd/ev3/dMJKAq4AKD2a/N8/VkR4CK8KVMjtRZwCYsC2AJ1B5UMrAyABvP5Xu335Xrmj+xC9B77v/u+9o7vTu0D8qH7YQasDGcMrgZ+/xn6/vj9+/n/EQJZAUn83vPr7HDscfF89Xz10PD76QDj/N7R3aXfau40E0xIrWbcS1QIF9vj9K84pmb9VZceWO/y3BvfzeGe5DvpU+7g7e3myd1k047PJtvz+bsc+ytsHZP9Yu5f/2IjdzluNKoipRFmB9L/Ovwm+8L6lPr597PyvOew28LVCd1K8doE/Q26Bzf9qfhFAFsQ9h2IIycdSBR1Dy0QvQ49CNUDHQN+BHcBAPsF8Z3nhOX16x321PkT98jwsu3c8ZT62wFLA4EDhgSaBVUFmwK3/n36z/s6AcMEigCO903wQuxZ7Ijx1PTq76bkMt+O303g7+Cd70oWRkrNY7ZDmwJF4ykHiEMkWypBZhfp+hTsLuPJ3WffjOUS6tzpt+bY4DXWyc1B15D2TBhpJo8elA8wB5YJqRWuJtsxDS5QHFsI9ftv93D0le/m65PtEvLN8S/o9dvI2OPk+/mQC0IRoQ3rBmcE1ghIFGYfGCKaHXgWVBBCCeACnf+0/5ADEAXL/z3zJ+i15MPni/Ac+Yf8Bfn18xfzYvZH/fwDYAnQCjoJkgXmAE79ofu1/Fv+0v/B/fT22u+e7OXuCvIA8yrvb+f+4IHeht853yHiyfWiImVXSWaWOR/4r+aAFhNReF4VO3UPrfQ+6N/gBdzW3iPkpedg52Xlet4V0RfLDNzTAeciDivkG7gINwLvCrsc1SvZL54myxTDBOH6PPZX8gjwxfFe9SD1rey54DvZAt2/6+/9AwwWENULAAX2BUoOnhZtGgMcuxzRF/YNxgPv/QH9QgHtCFEJp/6v7q/mBenu8CT5z/v7+Uv2o/WY9qn44/yOARUGFAlOCnEG1f5a+b35Jf7eAMv/lPq99KnwGPCX8fjyK/Sc8rzveusf6MzkT+K24QPiTu1XD89FEGrfUoIQaORL/oA7n1tzRfwYXPuy7Yfkp9m31lHcsOPX6Jzq4udI2pbM+9E98xIcfS8hJ54RRQWzB/kU5CMsK08nrRm5CgP/r/ZQ7/PpguuN8k34SfQn6Jbc0trv5aX3qAgrEbcQSwucB5ALcRO1GdsZqBhyGGcUXQq+/ov4ovh6+6z/4v9A+pzy+e+28Rv0AfjH+8n9Xv26/Qb++vw3/Q8AAwQNBngGvgOQ/rb5J/iA+X36pPo4+lj3c/Oi8NDwT/JR9NH15vNL7k3oZeXe42LhueDU7O0QmUU3Z+JRpxNa6W39bjQ4VOtGQCQsBmXtN9j/zcfTSd/E5Avn+Ooh6oLbGspQz9LyHx2lMTQraBkqDJkIow/fHdMpASpkHbsMIv8j9DjqM+Rg51rx7vg89l/qkd7w2mPjf/SuBnARIBLuDf4KPg2vEzwbqR30G4QaTBgpD88AX/eQ9lf6pfwA+wn14+wv6LnomO7J9cf7mP6+/gcAaAGbAtACFwWwCDcKrQnuBRQB4fpQ9/z2J/iL+FP2yvK67SvsFu448kn0sPPk8Wruv+tm6kjquej55y7zCxSzRCFkOVH4Fznvxv4FLv9HmDgZFzz+r+5p4dvUVdC11B7e/uim8c3x1+PX02PWsPOOGXAuiCtuHLAQqQ0vEiAabh8rHlIW0gwGA2f3CupV4J/hOuwL93v4+e8Z5bHg3eYg9bsE6w58EiwTQxPkFugXAxTPDWMQ4BqdHNsRVACy9VrxevPQ+MX5W/bX8LTvGPDV8Z70zvaU+msA4QcyCVUFxwDa//8C3AZGCroHtQHC+jn39PYW9hH1D/NI8tXxM/Fx8anwwPDQ8I3yzfGv7vDqmuj55wjou/KOEaJCHmWcVPsb1/BL/tAqp0MINcUWLwIb9ELkrNImy6XP+NoN6WD0r/YQ6H3VCdWi8GkWsyw9LX8hChdRETIRsRUvGpsagxUwDwoHT/qn6Yfcptys5/L0Yfn180/q7uPt5gPy5gCNDKoSUBTLFE8XoxekFGARnhEfFWQVtRFuB+H6ePE+8Bn1PviD+D/1DfH07izxBvZD+dv8SQGhBV4HrgZIBH8BvAEABccILQhiAzD9X/cJ9Yz1A/dE9o70F/PX8AvvPO7X8N7zVvUr9P7wLe4X63npg+iU6jr0gw1YOa1eH1r4J0b4l/n/Hwg9czWbGnYEDvYq533VfsoPy9HVZeVC9F/6hu+H3AfWnOrPDYIoCi/FJn4cRRXnEloTZxR2FMkSehDvClD/Xu0Z3RDYe+A577n4RvhV8JDpJOld8Az8hQeCEKEV0RfhF7UWnBdXFy8S1QvVC1QQoAv8/g/zqfCR8+j1efb984DxCPBR9AX5aPxL/r8AlQQPCMkKNQjOA44BYgPuBU0FRAOY/gr6cvY/9XX12/TU9L/zVPNP8pfxFfG28cT0Z/c2+BT0Ku/W64Lrx+uZ62DvKv9WIkVNCV/LQT4N4/Q3Crss5jX0IxcN//2L8NPfrc+LyPPM0tqy7cT8WfxU69LaGOCo+ygaNyqLKgMkTR11F+cS2Q/IDQgNew3XDYoIEvqY5qLYZdiw42HxsfjL99nyG+9G8FP2Qf9rCN4QuhfxHM8dRhp7FQIPngmFB1AMKw77Bnb61/CO77bxYPRr833yvfSp+F79o/2W/Kj7AACABnkLpAz/B+gCJgAgAmoDAQIq/wf7WvkB+I73N/XK8q7xxfG19JD2U/bZ8tzxh/Qa99X2XPOx8JDuj+xf6ojpqfBpBngu2VTLWVA05wXZ+skSWivYKkYatwtFAGHxltx7yz/FwMtO3QDzlgEg/fjqW9455z0Avxj2JZEoaSZ3IecaUxPGC9QGDQYoCsgNYAlP+jTm59g+2BrimO7V9iT5WPey9TT2DfnR/Y0Etg6TGm0iaCGLGrURfArZB5YJlQy5CjsGef4q9yzxtezK6g/rO/Gx+Jj+p/4Z+hP3Pvh5/jYFSwtzDXYMtQkcBj8ChP1M+3r77/1B/8z8IvfL78fr8OpL7n3y8vQt9uj1mPbj9BXxEe2w67rtt+4572HxIwG5Ik5KE1mXPl8UGwFyEIMlYyjQGgsMTgLv9UflH9MLx9nF89HX6EL8y/9I8hnl+ecp+rMPKx5VJfMmiiWGIecaARLRB10CkAOWCaoKGwEQ8AjgvtkJ3UvmMu/M9EH3sfik+mD8Dv7PAPsGRhKXHp4mZyQ8G2EORQVGAmQFYwhNBUH/GPj989Pv2+ze623t6/Sl/E4CaAHd/jf9S/4dAzUIIgyYC/0IWgYdA7v/6fqD+Bj4ZvoM/AD7Gvdp8XLuBu6x8AT05faS+N/4i/gG9inyge5W7R3uNO5T7n7vAvrkEyc6ClRVSjYlQAe1CQschSQiHH0PnAfR/SrvaNzzzALFecm93FH0lgG4+zTu8+kj9LEFGhT2HeQjESdSJp0hqBi+C+0AVv1dAnoIvQYA+9nqld8z3CfgZ+fd7iD1zfk0/tYAKwEAAEIBDAmpFcQhriYyIWEWwww1CFUF7AOBA1YCdv/U+f3zEe0q51PmK+x89a38RQChAOz+0f2n/vIBHAYoCukMTQ10Ci4Fcv7Q+A729Pb2+Ar6LPkl9njxjO2o62XtBfHM9Mv3i/hq9rPyne+j7XPrMeqq7Qb+uB32Qi5Va0WGIUIJcgvWGLEdRxcHEIsK5gAf8PjaNMnIwH/HKN3o9bkCdf378e/to/WTAngO7RhlImApYiu1Jg4b/gq6/b35fv+PBvsGHf5s8OvkqN6J3k/iuejI8HH5SQF7BfEEjgHtANkHxhNeHwMkdCKiGh4QQwb1AOz+jvyh+0f9awCM/fDyO+n/5c/rkfOR+60B/AMtAwQBkQBzAHoAngFcBSAKvguZCCsBtvme9GvzTvVN+IX61Pnx9wL1pvH07kvukvBF83X17/Vw9HTwKerb5KHjsu3CB14vIlHwVMs51hgADdgSghjXFX8RYBENDiACKO1t1bPC9rtVyJfhO/l/AXr7jvQM9Ov5OgGtCfkUWCHGKx4wgSviHKUJB/va9w7+bwSGBKP9x/MK6rvi9N7W3ibjiuud9+ACQgm/CK8DqAC0BG4PiBsqIc4gDR4LHBQW4wl1/XL24PX598L66foo9WjsauYf6CjthfKO9+D9bwRMCDIJtgZiA44BmAPeCJUMOQxpBlj/O/n69JTyYfH78XrzyfVq9kn0SvHs7uXutO+98QL1W/Z39JXviuuo62f3CRIpNAZLOEebL+oZGhQzFvQT4gzmCCAKawjd/vrsH9jixx/DU87C4o70v/se+w/7o/1ZAcYDugd1D0Ya1yWFLE4qOx4nDaz/QPq4+wb+fP0Z+mX1wPCZ60vmKeLz4WfnEvJE/tQGngnmCBEKYQ5/EaoSihURGrkajBenEwUOuwRH+v3zivPE9Bn1MvQ98+zxL/AY8L3x6/Qc+cb+EAU6CdMJlAdYBIsCTgI0A+wDHQMrAQb+F/vT92D0zfGi8Bzxq/Lj9CX2VvWr8hjwIu+v7l7tAOun6artEf3tGOA390eyPw8oChfxFIkYrhbZDzEMQQyeCdL/qu152bbJPMZD0Wvj2fJG+Cf49vgy/Pn/tQF2BO8KuBV8IsEqTiroH84QQQRy/iX+Qf+B/qH7e/ht9TPxNeue5Evh9ePM7Cf4hwFaBt4ILAu7DPkMJA4jEZgTbxS4FeQW4BJ/CTUAZvrD94H2efY59+X2qvUj9HPz+PIS8r/zXfj8/iIE6wZuBzYFqgIMASsBEQIvAnwCTgJwAXn+hfqB9mPzffIA8zr0hPU89rr15vP78QjwDu5o7M/ra+uE7Wz4ug+NLDA/4TxqKzkcEhezF5IVlA9IDOwL5QskBhj46OU61ELMINAR3eHqhfJ59t/4jvza/1QAqACbAqIKvRZOIpsnWiNvGfYN9gX6AfH/Bv6o+7P6bvo7+Qn1uu3W5oLj5eaJ7mf3xv5BBHIIcgvuDUAPiA6XDkkRFxVSFs0TAg8HCGMAlPrG9l71BPSo8xn1Yva+9uv0kfMe85b0qfjY/ckCVQU7BlIGTQXGAzoBX/+g/vT+JgCCAGf/I/xN+Pr0nPJX8h7zI/Q/9R32DvYb9Frxo+1u6tXp+e8rAWAZmy9MOFgxGiQBGj4VIBLADZMK5wofDXMNjwZN+FvmCNih007YEuI16wPy0/d//AAADwDv/UL8if62BjcSlRy3IA0eZhfCD2gJAwTi/+P8z/s3/fz+1f6F+lTzM+x76KfpS+7J9W39UwP7Bu0IKAr6CRYIJAZyCHEODhOfE9YQYgtIBGr+0vqS+L72W/ZN+On6BPzr+VP2c/NI8hv0Nvh1/UIB7wIaBF8ERANzAOD92/yq/dL/+gHvArUB7/3U+Wr2nvSZ8+3zAvVy9lD3zvYC9Q3xYeyr6nfv6vzrDhMheSsdK90jnxt4FrURCA0gCvoJlQxNDS8KfwEb9Pzmid7/3XbiCOhT7jr0MPr//SL/6P1M+9n6U/6ABsIP1xUeGMUWthP7DswJ0gSoAGr+S/6KACAC5gCl/Oz2T/JG8L3x+vTQ+Cj9UQEQBX0HQAdFBVMD4AIqBLYGfwlOChsJMAcxBBsBhP2r+lr5gPlU+7z8o/2l/I361/il9zb49vh2+nf8Yv5UAHMA8f80/jL8evve+6r97P4HAB4A7P7R/aj7MPp7+Ej39Pbl9ir3qvVR9CD1wPgl/toEOw61FsEatRnFFrsUnhEkDnkLkwoYCh4I1wWEAjD9RPbx717txOx87bzvVPNf96b5VPuO/AH98vyb/f0A8QSZCB0L+QyhDTEMAQq6B6EFYgPjARgCwQKyAosCZQJoAZD+I/zw+nb6Avp2+nD8U/6G/8P/4v+7/1v+Dv6g/lwAYAH6AYkDMQTlA8kC2wHtADn/Lf4W/qf+kP7J/T/9I/xu+sj4Pvh0+N/46/mC+xH9jP0R/QH94/zT/Or8sv2g/q/+gf7//Sj9a/sF+W/3tPcZ+ur8ggCsBD0Ivgt1D60R3hAcDkEMgQu5Cn8JggicB0UFkwL5/xj9j/no9TL0jvQW9lD3ufhA+g/7a/s6/Jv9cv7V/noADgOKBTAHTAiRCMoHpgZDBuQGnwYFBlIGLAYfBXID7QBL/oL7n/kk+Wn5MPop+nb6gvuo+1n8nvxH/TT+Z/+OAQ4DWAR+BDEExgOiArwBmQD5/0H/mP5q/rr9rfwm+/P5l/lD+ev5dvpU+/X7aPz6/Pr8N/0w/WX9Bv6J/jH/Z/+G/zn/6P3M/N77MvwB/af+sACiAkgEPgUkBq4GIQfhB3IIFAlCCQQJighuB9cFoAPjAQAAp/7J/T/9KP3M/H/8lvxo/Dr8QvyW/Jv9zv6s/+0AIAJtAu8C3QPaBMMEpATaBLQEtwMOA20CcAE9ABr/av7B/Tf9lvxZ/FH8BPwr/Lz8N/3J/Rb+Gv/D/x4AggCwABQBcwAXAOn/jf8T/0v+ef5q/jT+9/3//S3+hP1H/V79Dv6Q/vf9mP5B/zn/mP5b/hr/zv63/uX+3f4a//z+PP5T/iX+MP0t/nL+PP7L/3oA7QBTAxECBgMtAxYD/wKQAzwDMQTLBCoEdgS0BL4D2AJtAuMBjgFJAVkBUQH9AJkATAAmALv/Of8D/wP/Kv+G/53/AABrAAcAHgAmAHoARQBFAAQB/QAUAToBzwAuANL/fv/0/t3+vv55/nL+U/7G/tj9o/1q/rr9RP5i/h3+9P4q/wb+vv4AAOL/1f6v/tL/t/7O/rwBC/+j/W0Cyf2q/dL///3l/mABR/0uACgCfv8MAXcBqv1FAHMAif7yAdL/wf1rANYA/P5f/0YCawBCAbcDQf89AKUBOf/eAGgB+f8vAg8AUQHgAiMBoQDqAQwB7P6JAwAAegDjAdr/vwB/AR4Ajf/p/xsB9P7a/88ATAA5/+L/TAC3/iMBKwE8/jUAxAFB//H/yQIW/msA9QAL/2sAZ/+Y/kUAb/8O/uoBfP2b/eYATv05/xsBm/2OAej9p/4XADcCx/tn/z8CLf7B/TcCgf67/2ABGP1FAFj/igAT/yYAoQCoAFj/5gDx/+n/KAJoAWf/RgIHAPn/5f75/3kDU/7T/IQCBv6oAKEA4v/O/qz/cAGoANv8xAF8Atj9ngG1AVv+3gAMAff9rQEbAaT/qAAAAIH+qgL5/yX+tQFcAA7+nvxvBKD+sv1QBNYAvv4qBOn/r/5OAgwBZ/9E/vQDt/6q/W0CKP0L/7wB6f+t/AAAAQJc+3wCrwNF+/0AZQKW/O0AuQKB/oT9LgVH/dP8JQMrAXP7nf+yAs/7WQEPACgCkP6k/7wB8vwAAJsC/P4r/AYDav6+/vcCZ/+k/1EB5gBI/4cBo/1dApX/UP8rAXX9IAK+/nL+AwRB/+/9cgNB/4r7ZwTtAK38+gEGA+/9r/4/AtMBqPulAY4BMf9J/IkDYAGK+3ABAwT9+8v/HwVW/Qn9ewWB/qr90ALp//r8YgOd/w7+TAA/Ah3+A/8aBOD9nf/eAO0A7/39ABQBaPzx/0QDgf62+XIInvz1+/4Fhv8K+twGmP4L/6wEcPywAPUAuADp+kgEHgCh+wP/eAaI+WMAAAXc+UUA0Qc7+U79YwgY/Zf55AYvAvz2VgK4CBv0XAB6CIj57/0tCOb7I/z7BtL/5PkXBfcCjveNBFgEH/gbAY8GnPpw/IoI9/0I+H0HNAOp+H8BVwcu+3X97wKs/6X81QPE/H7/twO2+TcCcwXL97UBuQVR/GX9qwfv/Zn7oQV0Amz48gEuBVz7h/xkBR3+cPxYBKP9vwBwAVD/Bv6TAgAANQBt/V0CUQG7//H/WP+d/3b/fwGs/1D/YwAD/1wFafmbAlMDDfl3AYwHcvYL/4gGYPxC/HMFzv6t/IYEdv9C/MECpQHp+hsBAwTy/DD9dgRn/x3+igDPANYAKv9I/1wAuABy/nMALgBb/ncBvwCj/Vj/ZwQY/bf+JQNcAPf92AJg/NoEMf/S+uMB7gXa954BdgTT/I78ugfj/ML6CAXdA872oAMGA4f8t/4xBOD9nf8PAMwBJf68ATH/dv9OAkUAwf1CAbAAKP3EAdL/qv3yAbv/o/0bAfIBG/zHALsEjvzB/SIEKv9B/w7+kwKZANj9/P7oApEAIfpLAwQBMf86AV0ClvweAAQBGwFC/NX+MAdo/Cv89gUyAa75iQM6AcT80wH3Ak/6zwDdAxj90f3YAlQAfP0YArf+Jf6GBFz7SQG4AKf+Qf8uADQDpfys/wkCSP+eAfT+9P7JAgb+Jf7IBXf8Z/+LAkH/if4YAl//9QCH/KoCbQKj/YT9yAW8/Gr+sgL5/z0AJgCd/6z/y/96AKgA7ftIBBT8ngHJAp3/QPolA2cEYv5K+RAF1gAY/YH+gwUw/eD9lgG3A5n7w/+LAlQAx/uTAqICk/3t+1sIgvtt/VAEpP/0/mAB9P4RAlP+HgDeAOX+zwAXAOD9BAFRASv8QQT6/EIB/QCQ/lj/cwDg/TYFwvpoAXoAsAA8/kUAu//M/EEEFv6KAGj8vgOtASP8JgD2BQ/7S/5FBQAArfz6AdgCRP7D/5X/HQMj/PT+vQau+TH/5QMMAV/6OgF0Ao3/kfsQBW//vv4mAP0Ajf9Y/zn/JQNc+xYDXQKj/ej9cgNcAEv+1vuDBQP/Qvw9ANAChP2s/2ABZ//0/gwBHQPW+37/9AMO/qD+BAG0/54BGv80/m0CtQGK+7wBHQOO/OYA3gBI/3kD6fpJAREC+vwT/yACggAt/gAA4AJB/wb+Gv/JAvf9dv/WAKT/cAF+/2ABX//0/qUB4v/0/pX/KgSO/Cr/kwJgAXP7PQCQAwP/lvwTBF//Vv1tArICjvzE/NwGMf///RH9twN6AJn70v/XBer8Ef2yAoIA6P3a/4cBggCV/x3+ogL9AAP/nvzGA3wCV/oWA+0AYwBR/E4CGAJU+2MACAX8/kD6HQNYBPD6zPy7BFYCB/t8/XEG0v82+DwDwwTm+6r9MQRFAEP5Twct/vj6SwMlA179PP6LAl0CN/2Q/iUDYAFl/XoAdAK+/noALgBb/mUC3f4a/1wAYAEEAXf80ALS/8v/RP7tALgAKwHT/CgCVv2G/z8C1gC8/G0C0v8i/4cBt/6+/ocBqAAXANYARQB1/QkChwH0/rX8XAUO/kT+nf/oAn/88f8YApP9IwHeADf9tP+VBEL8ofvKB1QAqPsG/qMHIP1L/rT/7wLHAFv+W/6iAkkB4/wD/1sD//2g/pX/bwRc+3f8RweV/2n5GAKIBmD8BPx7BY3/fv8yAXD86gEXBV/62P2QA+cFbPgt/owH/P5K+TwDqQXh+pv9jwa7/4D5WwOGBL35mP4QBUj/8fdSBkYCXfgvAkEE5vtM+5wHTgKG9wsEnwYI+K38lgnL/zb4DgNxBq38j/lkBXIDAvo//csEzgPk+YL7lglv/zP5bQJiAyb7oP7nBQQBe/gOA6kF8/kB/bMHRP6p+OcFpARS+R3+5AYMARb2LgWJA9P8h/yaBRb+m/3qAdYAPQD8/h4Anf8O/l0C9QDp+oQCCQIY/b8AGv+TAmf/Z/8RAvz+GwEuAHQCafn0AxoEAf1m+koGr/75/5P9YwDPAOD9oQC0/yr/9P4BAvz+p/7yAUUAw/+ZAG39XwTWALP6uQLdAzX7vPwTBG0CHvtzAMAFpP+b/b8AMQTS+oT91AY8/tD4LQOxBTj6K/wKB6D+2P0x/4EDPP6G/+z+iQNFALD7WQHsA1n8AABgASMBrfxUAFgEgf74+tUDFgOn/sr6SwO0BBL6Hf5bCNj98/m1AT4FMP3w+jkE9AO4+638zgMuAGj8AABlAh4AR/p5A6kFo/0n+L8I0AJm+iv8bgctA3L2IwF1B/z+b/ciBDAHaPx9+jkEXwQY/Zb8iwJQ/zH/7P49AAwBrfxUAGwF3f4h+gkCgwWj/cL6hAKDBQ7+x/tRAYMFu//F+YsC3QOt/Mb+9wID/6X85gAABbj7XPs2BZAD4fqh+8UGkAPc+Xf8lwZqAy774/yaBRECY/uE/bQEkQCr+r8ARAOhAKX8egDoAlP+Iv+eAXoABv5/AVEBYv5jAO8Cif7D/1QAjf/S/x0D4P1O/UwAHQOt/IH+IwFQBE/6m/1FBeACpPoB/aEFXQL4+mMAbQIBAub70v+RAMkC2/z8/o4BfwEeACj9VgJ8Asz82P1IBAAAqv3x/3kDmP7T/DcCrwN3/JH79ANdAub7fv+sBJ3/sPtUAFAEvv7B/YIAzAFI/2MAcwD5/1//rQH1AO/9DwBZAWMAqv3PANMB0f15/h0DpQEJ/UkB9QCG/zn/NAOq/Qv/awBiA+z+4v+Y/mABvAFwAf/9KP1yA2ABaPzL/04Cif7B/eoB8f80/oIA0v/HAEIBQgGV/5EA/P4YAlv+1f4rAfn/Z/9n/7gAcwA6ARr/6f+KAOL///0EARsBb/8a/+0AjgEeAPT+E/93AYsCr/58/YIAcwAuALgAfP1e/cwB2AIG/tH9LwLMASL/A/+/APIBDwCoAJD+vv40A1EBDv76/NYAcAEEAYz9u/+/AGMA8f/yAbv/Fv7x/38BlgGq/Qv/TgLi/y4Ar/4l/s8AiwL3/Z78SQHTAWsAggC0/0H/HgC0/94A0v8a/7gARQBrADcCHgBQ/x3+vwBgAeL/N/3tAIQCu/+E/Xn+BwCqAp3/0/xf/3wCngG+/lj/JgDHAIb/PQDV/vz+9QDmAC3+WP9B/1YCBgN5/nL+IwHqATT+av79ACMB9P6wAPUAnf+n/pkAtP9B/2ABqADV/vT+BwBZAbAAX/9Y/x3+6f8oAv0AFv7V/j8CRgKg/jz+w/+1ARcA/P6M/ZEA+gFn//z+uAD1AB4Afv/eAHMAlf/8/ob/GwE1AET+Hf7x/4cBXADl/i4ANQA6ARsBX/9i/jUAYAE1AOX+C//L/w8A+f+d/6f+2v9rAD0AoQA1ANr/kQBFAD0ADwDD/zIBmQC7/1QAy/8uAPH/C/8AAMv/NQDtAB4Alf+s/+L/vwAHAI3/YwCCAGMAFwBUAMv/dv+G/zUATAD5/6T/awCCAM8AHgAAAKEAJgDL/0wAcwBcAOn/hv/5/0wAPQB2/37/lf8AAGsAXACRAIoAw/+N/zUAoQBcANL/+f8HAEwA6f9UAOn/X/92/43/NQD1AFQAjf/a/78A1gDp/7T/HgBUALT/lf8PAHoAVAB+//z+nf9UAD0ApP+7/+L/NQCKADUA+f+0/w8AegC7/yr/8f9jAA8A+f8AAB4ALgD5/8P/6f/p/9r/+f8AAAAANQD5/wAA+f/S/yYADwCN/53/FwCCAFQADwDp/yYAJgAmAMv/jf/D/0wAHgCd/6T/+f96ADUALgBFAC4ALgAHAPn/pP/a/+L/VAC7/37/LgChAFQA4v/i/1wAYwBjAC4A6f+0/7v/6f8HAFwAFwDa/9L/BwA9AGsAJgAHAD0AcwDx/9L/awA1ANL/y/9zACYAy//a/9r/BwDa/yYATAAmAOn/4v89AEUA+f/i/+L/2v8AACYAXABMAPn/6f81AGMALgDa/wcAYwBcAA8Aw/8uAGsANQDp/6T/0v8AAC4ABwDp/xcALgBMAOn/6f/i/wAALgDi/+L/4v81AGMADwDi/9r/8f9cAC4ADwDa/0UANQBFAGMADwD5/+L/6f/a//n/8f8AAB4ADwAuAPn/FwBrADUABwAeAAAADwD5/+n/6f9FABcA4v/i/xcAHgAuAGMAXAAeAAAANQAPANL/2v/L//n/rP/5/0wAPQA1ANL/RQBcAFwA+f9MAC4ALgBMAB4AAADi/+L/+f/a/wAAFwDi/wcA+f9FAOn/AAAXABcA8f8XAB4A+f8PACYAVAAeAAcAVAAmAAcAHgAHAPn/AAAeAB4A+f+7/9r/6f/i//H/FwDx/+L/0v9FAFwATAA1AAAAVAAAAA8A+f8mAEwAHgC7/5X/0v/5/wAA8f8uAHMAHgDp/+L/FwAuAPn/0v/i/yYABwAXAPn/YwAXAB4AHgDa/9r/y//5//H/DwAeAAcA8f9MADUA6f8mAPH/DwDx/y4AFwAeAD0ABwAmAOn/8f+s/6T/tP+7//n/PQBrAD0AHgAmAA8A6f/p/9r/+f/a/+n/4v/x/9L/0v8mAOn/JgDa/wcA+f/i/w8A6f8AAPH/0v/5/x4AcwAXAOL/2v/L/+n/DwAuACYAcwAPAOL/BwD5//H/2v8PAAcAy//S/zUANQAPAFQAAADx/+L/w//p/wAA4v/p//H/8f8AAFwA2v/a/+n/8f/x/y4ADwA1ADUA+f/5/8v/4v/p/8v/0v/D/+L/BwDi/xcAFwAeAB4ATADi/wAA4v+0/+L/6f8eAEwA+f9cAD0AHgD5/wAA4v8AAB4AAAD5/wcAFwAXAAcAFwBzAA8ADwBrADUA6f/i/+L/4v+s/+L/AADS/8P/2v/S/+L/4v8AAB4AawAmABcAYwBcAGMADwAmAB4A0v+k/8P/DwDx/+L/FwAPABcA8f/p/9L/2v/L/7T/rP/D/9r/6f/5//H/AADa/z0APQAPAA8ADwAAAPn/AAAAABcALgAeALT/y//p/8v/6f8AAAcA8f/x/9L/VAAeAEwALgBMAPn/DwAPAOn/DwAmAFQATAA1AEwATABUABcAJgAXANr/6f/p/8v/tP/S/9r/u//a/wcAFwD5/+L/y//p/9r/0v/i/xcABwAHADUAYwBUAGMAVABjADUAHgAAABcADwAeAAcA2v/p/+L/6f/5/wcA4v/p/+L/4v/i/+n/BwDx/8v/6f/p/+n/4v/p/+L/+f/5/x4ATAAeAA8AAAAXABcA6f/i/wAADwDp/+L/FwAPAOn/4v/x//H/6f/p/w8AFwDx/+L/6f8AAOn/AAAHADUAFwDi//H/JgAHAOL/AAAHAB4AAAAXABcA8f/p/+n/8f/p/+L/8f8AAOL/BwDx//H/6f/p/+L/6f/x//H/6f/5/wAA+f8AAPn/+f8AAAAA6f/p/wcABwAXAA8AJgAeAAAAFwAAAPH/4v8eAAAA+f8HABcAFwD5//n/2v/p/+L/+f/x/+L/6f/i/+L/4v/5/wcA+f8HAPn/DwAPAB4ABwAXAAcA6f/x//n/+f8HAPn/BwDx/+n/4v8AAAAA6f/x/wcA+f8AAOn/8f/p/wAA4v/p/+L/4v/p/+L/+f8AAAcAAAAHAOL/+f8AAOn/BwAAAAcADwAeACYAFwAeAB4AFwDp//H/FwDi/wAA+f8HAPH/6f/i/9L/4v/i/+L/y//p/8v/4v/p/+n/8f/a/+n/0v/5/+n/6f/5/+n/BwD5/wcADwAeAB4AHgAPAFwAFwA9AGMAXABcAFwAXABcAFwAYwBcAFwAXABcAGMAXABcAGMAXABjAGsAegBrAHoAXABjAFQAYwBFAEUATAA1AGMAPQAPAC4ADwAXAPn/FwAAAOn/2v/a/+L/u/+0/43/hv9v/zH/Mf8T//z+7P70/uz+5f7s/uz+1f7O/t3+xv7V/sb+5f7s/uz+9P4D/xP//P4T/zH/Of+G/9r/VAChACsBaAHEAeoBIAI3Aj8CRgI/AkYCRgJGAkYCRgIvAvoBpQFgAQwB3gCZAIIAYwBcAB4ANQAXAOn/4v/a/+L/y//D/9L/6f/i//H/DwAAAC4ADwAXAAcA2v/p/+n/6f/a//n/JgAmAD0AJgAeAOn/tP+G/2f/Kv/s/sb+kP5i/lv+U/4t/gb+Dv73/dj9sv2j/Yz9df18/Xz9fP18/XX9fP2M/SX+/P4PAKEAMgHyAU4CkwKTAtgC6ALoAsEC4AIGAwYDDgMlA7kCRgIRAsQBWQHWAM8AigBjAFQAawAeANr/dv85/wP/r/6g/r7+9P4a/1D/w//i/9r/4v/S/6T/X/92/3b/lf+d/wcAawChAP0AQgFRAUIBOgFZAe0AuADPAMcA5gDPAAwBIwEEAc8AoQB6AD0AJgAHAOL/0v/5/y4AHgAAAPH/0v+V/1D/WP8T/+z+7P4L/xP/9P4L//T+r/5E/h3+2P2q/aP9sv26/aP96P33/Q7+9/33/e/94P3J/dj97/0G/nL+C/8AACMB0wFdAtACHQMGA/8C9wIdAyUD/wI0AzQDUwM0AyUDyQI/Aq0BBAGRABcA8f/p/8v/0v/D/7T/b/8T/87+W/4t/uj9NP5y/sb+SP+d/9r/4v/x/+n/0v+0/7v/HgBcAJEADAGHAcwBvAHjAeMBpQFJAVEBIwHtAAQBOgErAQQB/QDtAJEAXAA1AOL/lf9f/2f/SP8T/wv/Of/l/uX+mP6J/jT+4P2q/YT9Vv1l/YT9hP2E/ar90f3J/YT9df1t/V79Xv1W/aP9uv3v/Vv+1f60/7AArQFOAosC9wIGAxYDDgNyA4kDgQNyA68DoAOQA1MDNAOLAgkCcAH1AIoAXABcACYA6f/a/7v/X//8/tX+av4d/uD9Hf5i/qf+E/9f/53/nf+V/5X/fv9n/1//lf/p/1wA9QBgAdsBCQIYAuoBtQF3AWABOgEUATIBMgFoAVkBUQFJAf0AmQAmANr/rP9n/2f/WP9n/yr/Kv8x//T+1f55/jT+2P2j/Xz9fP2E/XX9uv2y/br9sv2b/Yz9fP1e/WX9Zf1l/Zv94P3//f/9NP5T/t3+w//HAMwBZQL/AksDYgM0A3kD3QO3A3kDeQNyA2oDRANTAxYDiwIBAmAB5gBjAGMARQDx/6T/hv92/0H/A//O/oH+Lf73/VP+if7O/gv/fv+V/37/rP/a/6z/b/+G/8P/BwBUAM8AdwG8AQECEQLyAbwBpQF3ATIBFAErAWgBcAFJAVEBGwEMAYIAXADp/53/Z/9B/2//Kv8i/wP/7P7G/oH+Yv7//bL9Xv1H/W39Vv18/YT9m/2M/Yz9k/18/Xz9Xv1e/Uf9df2j/dH92P3v/S3+ef4D/0UAfwEoAqoCLQNiA1sDgQPGA9UDiQOBA7cDkANyA3kDkAPvAl0CzAE6AYoAVABcAAcArP+k/4b/X/8D/+z+r/5i/g7+6P1q/nn+5f5I/3b/dv+V/+L/tP+G/1//lf/a/wAAoQAUAX8BxAEgAj8CCQLEAcwBpQFoAVEBYAFwAWABIwFJAfUAuACCAC4Ay/9n/zn/Of/8/vz+5f7s/qD+ef5L/jz+2P2b/W39N/1H/Vb9bf18/Xz9jP2b/Yz9fP18/YT9fP1l/V79qv2y/ej97/0W/pj+Kv+4AI4BXQLoAokDoANbA6cDzgP0A4kDpwO3A6ADpwOgA4ED0AJGAuMBBAGKADUATADx/4b/lf9n/2///P78/qD+PP73/Rb+U/5y/tX+Of9v/2f/jf/i/7v/jf+0/wcADwBFAM8AKwG1AcQB8gHyAcQBngGOAX8BFAE6AZ4BjgEyAVkBYAEbAagAegBMANL/Z/9f/1//zv7G/uz+vv5i/lP+W/73/ZP9jP2E/T/9GP1e/Yz9df1l/W39m/11/Yz9df2E/Vb9P/1e/Uf9Xv11/cn94P1q/sv//QARAosCgQO+A6cDrwP0AzEE1QPVA9UD3QO3A8YDAwRqA8kCKAKWAeYAXABUAAAArP9+/3b/fv8D/yr/1f6J/hb+7/0l/jT+p/7V/kj/UP9+/6z/pP+0/53/4v8mAAcAXADPAGgBzAHyATcCNwI/AvIB0wFRAQwBOgH1APUA5gD9ABQBxwChAHoAHgC0/1D/A//O/r7+gf6v/oH+ef5y/jz+Jf66/W39P/0J/er8GP03/Vb9bf18/YT9jP18/Xz9Tv0w/Sj9P/0g/U79fP3Y/VP+UP9jAH8BXQJEA74DvgO3AyIE9AMqBN0D7AMLBNUD1QP8A74DSwPBAigCaAG/AGsAHgC7/6T/fv9f/zH/Kv8D/6/+U/4G/hb+//00/pj+3f78/hr/fv+d/6z/4v81AGMALgBcAKgAFAFwAbwBCQIvAiACKALqAY4BcAFRARQB1gDWANYA3gC/AL8AggBjAAcAhv8q/+z+xv6J/nn+W/5b/mL+S/4W/uD9qv18/TD9Af0Y/TD9P/0//V79fP1t/XX9jP1t/V79Zf03/TD9N/1H/Xz9//3d/un/5gARAgYD5QMDBAsEMQRIBDEE1QP8A+wDEwTdAwsEAwSBAzwDkwLjATIBsABFAMP/pP9Y/3b/Iv8i/yL/5f6Y/lP+S/48/i3+S/6J/t3+5f4x/2f/lf/i/0wAggBzAFQAuAAUAUkBcAHjAQkCNwIBAhECCQKWAYcBWQH1ANYAvwCoAKEAVABjAEwA0v+N/2//A//s/q/+if55/i3+Lf5E/gb+7/26/Xz9Tv0Y/SD9Vv0w/T/9Vv11/W39df1t/XX9Vv0//TD9N/0g/Tf9fP3Y/bf+pP+ZAMQBsgLVA0EEMQQxBIYEXwQqBAME1QP0A9UDvgP8A4EDRAP/Ai8CtQH1AJkAHgCd/zn/Kv/s/s7+7P7l/qf+ef5y/nL+U/5T/on+kP6+/tX+Of9f/6z/VACRAM8AggD1ADoBSQFCAXABvAGlAQkC4wHqAcQBxAG1AUkB9QDWAN4AkQBjAD0AAADS/43/Z/9B/+z+zv6J/mr+PP4W/gb+6P2b/YT9bf0o/Rj9KP0//Sj9MP1H/V79MP1O/U79Zf0//U79IP0//QH9N/1t/cn9oP6d/6EApQHJAuUDfgRYBH4EtAR2BCIE/APlA84DzgOvAzEExgOvA2IDqgIBAlkBsAAPABP/p/6Q/oH+W/6g/pD+ef5y/nn+RP6y/YT9m/3//ej9if6d/+0AcAG1ATcCkwIWA+8CyQIoAjcCRgKyAl0CLwI3AhgCfwGCACYAu/85/5D+mP7O/hr/b/9B/6/+U/6Y/qD+NP6y/dj92P3g/dj96P2b/RH9jvxJ/En8Wfxg/Cv8sPuK+977Ufz9+wD7lPqk+uH6u/qc+pz6XPtH/YoA/wJVBYUHKAr0C4kLtQkECT8KwQoYChsJNQheB7kFYgOhAAb+pfwJ/Yf83vu/+3D8DPx2+jP5aflP+tL6sPsg/ez+LgDeAKgA+f8XAGgBZQKqAjwDXAVmB+QGhgQgAqoCEwQLBCACbQIxBOUDLwLL/8z8Vv00/qf+wf2V/7v/YwCQ/mf/2v9jADz+Iv8eAJMCKALHAOj96P1i/gv/MP0U/Lj7Tv2w+7P6i/gk+Ur5pvnN+Sn6jfrS+k/6tvmu+ZT6+Poe+z37SfyH/Hf85vs0/hECYQZrCNMJrAwWEAoPuQojCV8MdQ9sDZ4J0QfNBlMDvv5//LD79ftj+2v7R/rX+LT39PZy9rz36fpt/U79KP2+/pkAJgBI/wQBxgNkBXsFJwXDBAAFYQZPB50ERgIlAwoHpgabAnb/Z/9zALT/p/48/u/9RP7O/on+Zf0w/Q7+Gv8mAEYC0ALmAHL+rP9OAhECNQCG/4oAmQDV/gn9a/vK+qv6Y/tm+iz5LPlS+cD46vf++JT6KfpK+fv5TPsA+zD6Kfrp+oL73vtC/HD8Xv1GAowHGwm/CNgKBxD/DzQLIwkNDnwSYQ5bCCQGXgeNBMb+BPxW/ZD+h/xx+bz3+fe099X29PZh+TL84/xj+4L7av4PAGMALgDoAnsFRQWvAxYDQQTXBcoHYwihBdAC9wJzBdoEEQJMAL8AOgEmAAP/yf3T/AH9Of8HAAP/sv3g/TH/zwARAmABtP8q/5YBwQLeAAv/Gv89ANL/W/4w/Sv8VPsu++n6Gfqa+Nf4LPl4+f74BfkV+an4JPk4+tL6OPoZ+qT6c/vK+pz6JvuW/Hb/mANHBz0IOgmkDOEPzw13CTwL6hHVExANUgZhBnUHMQSv/uD9WP9T/jX7yPgI+M72NPZf94j5Jvv4+gL6cfnP+7f+YwDa//0ApwONBDQDPwJbAx8FMAdwCSMJtAT1ACgCWga2BgYDQgEEAUkBjf8d/hj9+vzG/pEARQCy/Z78tfyv/noA0AJWAtL/gf6RAE4CXAA5/9r/cAFUANH9K/yk+uH6TPv1+xL6mvi5+Gn5sfj596n4vfnc+Z/55Pmf+ef4Q/m7+t77RfuN+nb6G/xjALEFKwneCMQJwA3RD6wMrQnuDUgUqhJLCywGpga5BVYCJgAuAGf/Wfym+XT4QfdT9rf2ovhX+m76LPn59zP5h/ys/1QAggBRAQ4DqgJlAiUD4gT7BlsI4wnhB0sDaAEWA0wIygeGBJEASP8XAG//1f7o/WL+rP8HAL7+UfyK+wH9YwAWA4QCw/9e/Tz+1gDTASsBoQAAAKT/Lf4B/eb7B/v1+3/8uPss+eX2tPf2+F/6xfnX+B/42vfX+Jf5tvks+XH5dvoX+675YfmN+qf+QQToB/oJcAn+Cu4N/Q1kDZcOGhQxFJINygc4B7gIpASHAaUBtQGq/Sf4QfeL+Eb4SPf599/4e/jd9vT29vje+5j+b/9f/7v/cwA3AgkCXwQNBhIHSga2BlsIVwciBDQDLAahCKYGqgJ6AF//8f9jAN4Ajf98/ZP9Bv73/Vb9MP3V/pEAaAFcABb+hP2G/5YBNwK/AOn/U/7J/Uf9qv1e/Sv8Hvtf+iT5qfjX+NT5ePnf+Db4qfhG+D74i/iI+c351PlD+RX5yPhp+Yr7qv1CAZIF9Qh0ChEKCwyaDZcO8A/BEkEUEg9wCR4ItQn4B3kDKALEAZD+V/pd+Er55/iO99P3VfhY97L17/UF+Xr72/yM/W39ef5f/1EBmwKvA4MFcwXuBSQGFggbCUoGrAS0BPgHfQeNBOMBMgF3AYIAJgCG/3n+Zf2y/WL+Fv4//fr8C/8AAIIAt/7J/Yn+VABgAZEAb/8a/5j+U/6b/Zv9xPx6+7v6Kfqu+WH5afla+ST5HPnf+Aj4QfcB+L35q/pS+Ub4UPd7+Er5nPqt/Dn/8QSoCIsK3gjqCS4NXg/tEJMSKhT/D8wJ6AcdC/cK1wXjAUkBy/+o+4j5tvm9+Tb42vcI+Gr2CfXB9cj44foU/I785vvP+3L+hwEdA6oCmAPiBOkEuwTuBfIJ9wq6B6ADqgKABqgIpgZdAv0ADAFRAZX/WP+v/i3+if5E/uD9DPwj/IH+oQBCAVD/N/0w/RP//QBoAcP/9P48/tH9R/3j/NP8Ovw1+336aflD+Sz5iPmu+UP59vgf+I73tPfF+U/6cflV+H73afma+A/7WfzmABIHXQpyC6YG+AfxDBES7BOqEt4Q8QwyCREKxgt/CaQECQK1AVD/ffqf+Rn6MPpp+RD4C/dJ9Az0tPd9+pH7lPqU+vD6Qvwx/wkCiwKbAjQDvgNBBKQE1AYrCYsKUQl+BHABagPPCEYKrASwAJ3/xwAmABcAYwDl/uD9df0G/pb8K/zR/RcA3gB2/9H9Ufyj/R4ACQLHAGr+bf1t/ZP9hP26/Wj84fr7+Qr6X/oh+rb5YfnA+Er5ufix+NP3ZPj7+eT5Svnq9wj4ePmP+bX8TAD7Bv0IPQiPBrgI5g2oEHAR4xG3EGwNCQqyCgsMnglcBXIDPwKN/4L78Poy/Af7ufi090j3DvYg9Uj3Gfp9+o/5pvkm+3/8U/7S/xEC8gFWArkCkAP5BP4FZgcUCckKGQcgAscAMAfxDB4IzAFL/hQBjgGRAJ4B5gBE/iv8GP3o/dH9KP1B//H/av6j/cz89/3V/rgAYAHV/ur8tfzv/R3+7/3y/L/7n/l4+S77a/tH+mT43/gC+rb5ovjT98j46/kS+iT5kvgv+N/48/nW+87+iQMWCPIJTwfABdsJug9DE44R6A/mDXkLpQkOC5gLYAkaBK0BqACn/qX8BPzm+7P6mvgx9wb2//Ua92H58/nN+RX5ePmr+tv8JgBCAfUAcwB3Ae8CAwSaBYUHYwj9CAIHlQRtAsgFVgp0CtoEawBMAFkBTgJlAnQCZ/9g/Fn86P3d/tj9kP4T/2L+4/y1/Hz9if67//H/5f7y/H/8Tv08/lv+df31+0f6zfmk+s/77ftu+mH5e/iA+WH5rvlx+QL68/lS+fH32vfn+DD6c/u4+z0AWga8CQcIRAPzBqENHRPjEfsOig2vC2UKtws2DXQK2gQYAkYCcAEd/q38xPwU/MX5Afgx93L2kPap+Ef6ePnx9wH4CvqO/C3+y/+G/37/ggDjAc4DjQT+BWkG/Qh6CHMF7wK3A8kKNAuUB44BxwBGAm0CYgNLA5EA8vx3/K/+Kv8t/mX9/P6y/SD9Wfxl/R3+W/5I/6/+Xv06/K380f15/h3+Mvxm+mn5+Pp//PL8D/sc+S/4WvnZ+n366/kn+Gn5iPlx+V34Pvhx+bP6uPvD/7kF9QhPB+ACigVNDZsSlhFhDoYMdgzJCt0LEA0OC48GmwJ0AgkC0v88/pP9jvxA+mz4jveO93731/iP+cj40/fL95/53vu6/a/+Hf5q/p3/pQHgAhoE8QRFBcUGVAg1CJ0EuQKXBpALBgsDBJEAUQETBBoEUwPTAaf+lvyM/Q8A4v8d/hj9yf2b/QH9Tv1W/cn9Bv7G/uj9YPz1+3z9p/4W/kL8q/op+sr6Qvzj/IL7tvmx+Ij5u/oh+tT50PhX+oj5O/nx9134Avoh+lT7uv3iBA8IdQfvAvwDHQuwED8SCg8nDVMLXQrOCyQO0gx9Bx0DNwItA7wBX/9L/tv8RftD+WT4GPi895r4O/nI+Ib3SPff+Af72/zY/dH9df08/pkAfAKYA4EDOQQ+BRIHggirB3YEeQN1B+cKvAllAkIBeQP+BWoDegCoACYA7P7v/VD/t/58/eP8NP4D/8z8WfxR/DT+t/6B/nz9G/wM/KP9t/58/b/7hfqF+kX7z/vE/EX7iPkF+Rn6qPsK+o/57viF+kf6l/k++E34ePlP+kX7RP4nBWMIGQdCAQYDiQvvEhgSAA2qCqcLvgv8CxANnQz/ByUDaAE0A5MCvwBy/tP8XPtx+XT4dPjn+I/5M/m09772b/eA+Wv7h/zy/PL8Wfzg/b8AsgIGA9gCjQR4BmEGQwZYBL0GwgfTCXUHrATQAqwEAgfnBS8CE//S/+oBYAEAADf92P2M/Vv+S/4W/nD8qPvE/IH+S/4j/Ir7zPyy/eD9f/zW+w/7D/vH+xT8v/su+336Kfp9+vj6B/sK+g35+/m7+uv5wPhk+GH5Ifop+vX7fwGfBgcIEwQbAXgG7g3JEv8PZwyTCm0K2AqDDVoOYgsuBbwB0AKNBKoCegCb/a386fqf+RX5UvlD+Xj5Xfid91/3Pvi2+Vz7WfwJ/e37UfxL/kkBkwJWAl0CMQRKBloGuwTLBNQG+gkPCJIFCwRFBfYF+QRnBDEEGALl/jT+7QDBAkwAnvyt/Oj9cv73/br9oP6W/KH7UfxE/g7++vxw/Df98vxJ/FH8Mvyw+7D7a/sM/B770vrS+mb6+/nz+aT6T/rk+fb4cfnu+P74yPhx+Qr6o/2vA/AHpgYyAY4BUQkrEdgS7g3+CswJuQraDJQPJA4WCJsCuQJ7BdIElgE5/8H9QvxA+gr6Avo7+an4/viD+Ej3vvYv+I36sPsE/Kj7Lvto/BP/tQGLArUBwQJNBVIGbwQqBJcGqgqRCHMFXwQNBikHPgXiBAAFYgNzAAAAGwEYAt4Ap/5q/tv8wf1i/qD+KP2h+xv80/ye/EL8nvxw/DL81vs6/En8F/vS+kz73vt//DX7pPpu+sr6HvuF+p/5zflX+o36ePkn+C/4O/mm+QD7gf5FBSEHWARI/8YDUAwvEg8QkAttCqoKcgtzDTgP4gw4B/8CagPABcMEbQK7/4T9DPzK+qv6R/q9+Wn59viV95j2Ofdx+dL66fq7+vD6B/uH/Br/lgGeAYoAcwCqAsUG6AcZB34EYgOFB3IIdArNBlwFxgMTBE0F7gX8AzoBlf/D/2ABoQBQ/1P+MP1E/pP9df0b/Bv8jvw3/Z781vsu+4r7pfwY/Z78kfsS+oX6Jvvb/CD9mfvk+Q35dvoU/Nb7q/oz+Wn5xflp+Y/5afl4+YD5ZvqeAdQG0QfMASL/HAbcDjcScQ7JCocJTgrlCykPRw8BCoYE/wKpBVIGSwM6ARP/bf3H+y77D/tA+lL5iPk7+ez2r/Yf+HH5Y/ur+kf6V/pj+/r8YwBCAbAA6f9RAdoExQbzBsYDtASfBmAJzwgcBsAF5wVaBicF8QTVA7ICUQGHARgCcwDl/i3+Iv8q/9H9Ef0M/BT8cPxO/fL8PfuF+mv7zPyO/Jn7+Ppm+k/6pPrE/GX9z/s7+bH4Ifp//Fn8+PoV+cD4pvkp+in6xfkN+ST5AvqhAJ8GVAgOAzz+agPSDO8SNRDBClsISQn8C0cPug/vCmQFyQIQBcUGtAQ3Alj/yf1w/M/7x/uU+p/5pvlh+dr3r/Yx93j50vq7+k/6tvlm+n/83f7WAC4ArP/L//oBPgXPCFcHrwOeAWQFrwsVC08HPAOVBMgF5wWSBScF0ALa/6z/UQH6AaT/U/7d/uD9df3e+1b9aPzM/If8jvz4+k/6c/sg/bz8F/sZ+uv5zfmR+4T9//0w+sP3ZPho/NH9/fvN+Xv4cfnU+cL6ffrN+cj47vh//CUDjAdaBmMAfv8KB7MP9RBvDLUJIAqiCgYLUg62Dl0K9APgAoAGxQagA8cAy/+J/of8v/uZ+9L6tvkK+iT50/fG9gH4Avpu+k/6Gfop+oX6jvxn/5kArP+3/vH/EQLpBNwG8wYuBUsD8QQPCLwJ1gi9BmQFGgRfBD4FDQY5BOoBggA9AC4AFwCoAA8A//13/Dr84/y1/CD9GP0M/Ef6Ifpr+4f8Mvxz+5z6xflp+fj6IP2E/dn6sfhd+GP76vye/IX6M/mm+RL6lPow+gr63Pl9+nf8tQHIBZcGTgJjAHsFywyJEHsNXQr1CFEJHQuuDpcOpQkxBC0DvQbrBiIEfwHi/3L+zPyt/J78VPt4+Zf5rvn++Gf3nfdx+Y36Zvrc+c35q/pR/Fv+rP+G/9X+X/8MAcECnQQ9CLMHGgSN/1gELg1pDgoH9P6nAyYIBAmnA3IDcgPEAUH/YwAOA88AHf7g/bf+PP4X+3D8IP1L/vX7LvvN+U/6sPt1/cz8+/m5+J/50voj/LX8nvyA+fn3Uvmq/Yz9ivvn+L35OPqr+tn6Y/s4+iT5Cvo0/vkEAgehBV//RQA4By0QvxCBC0cHLQhlCoYMOw42DUQIWwPQAtwGCgciBLAAWP9i/j/9tfyl/Ez7MPoS+o/5ZPiO96n4X/qz+hL65Pmu+dn6jvxI/8v/r/7g/Uj/ngHoAhAFMwbABWoDLwL7Bl0K5wqpBa8DhgSABnEGmgV+BLkCpQEjAZYBSQFjAC4AIv8t/rX8pfwg/YT9R/1g/A/7Kfq7+vX78vy4+436tvnk+Y36z/u8/En8vfkF+dT5vPye/Nb7Ifow+gr6IfoA+yb78Ppp+Qr6Ef2vA0AHOwaV/zn/BQajD0wQPAteB5kIEQp5Cx8Ncw1wCQsEJQNaBjgHXwQrAT0Alf/3/aX8f/zt+2v7s/rr+bH4hvea+DD6Lvtu+qb5Ffl2+mD8vv5f/0T+4P3G/u0A0ALDBJIF/gUlAx0DpAQvCkML/wfJAtgCUgaRCEoGvgPvAl0CQgEUARECTgLS/xb+o/3v/Uf98vxO/er8gvuF+pz6wvpj+6H7uPtP+t/49vjw+ln8zPzZ+lr5Vfi7+qX8hP1F+5f5Bfkp+jX7VPsm+835tvkE/NACGQczBnb/xv6KBYgO2Q/gCowHVAhtCr4LPg2sDFEJAAWNBPsGGQd2BLwBzwCZAAv/fP1Z/Ob7mfuw+6T6LPlv9xj4+/km+7P6cfnQ+PP57fvg/aD+Bv6q/UT+rP/EAa8DwAU2BWoDYAGNBJEIpwvwByIEqgKSBSEHAgf5BKcDogK1Aa0BvAHEASMBAAAx/w7+4/yH/D/96P3Y/Yr78/mX+Q/7lvx3/B77SvnA+Lb5c/u1/If8lPpK+Rz5Y/vM/MT8wvpH+jD6u/rS+uH62fow+m766vxGAqkFHwU1AOn/VQXSDN8N2AoWCCsJfwllCsYLrAzqCbkFKgQ7BogGjQRlAq0BBAEa/6P9MP1w/Cv8K/xr+6754vds+Ff6Hvuz+vP5afkC+i77P/1y/vf9hP0W/n7/mQBlAkgEPgVyAyACrwPzBgwJhQd7BbsELgWSBZoFAAUaBKAD9wJlAhsBggAUAX8BxwDO/gn92/wo/aP99/21/D37Evqz+r/79fsu+7P6T/pH+lf6JvtJ/GD8LvtP+jj6oft3/Lz85vse+1f6B/sA+9b7Lvsm+8L68vxoAZIFEAV6AG//hgSYC1AMdwl9BysJcAnWCJ4JPAu1CYAGhgQ7BsAFkAMoAk4CPwJzADT+Vv2e/H/8Af1W/ZH7/vhV+CH6gvtj++n6ffqk+sr6WfzB/Tz+uv00/hr/ggCeAZgDKgSqAhsB7wJPB+0IXAVOApgDgAa9Bo0E/wL3Ah0DrwOBAwEChv9B/zoBTgIXAJP9f/xW/br94P2b/RT8Zvp2+vX7rfxr+yH6bvoP+yb72fqR+xT8v/s9+7j7Mvx//I78KP18/dP8K/yl/GX9qv3T/KX8df0HAC0DrAREA4IAvAHXBRQJ2QcVBo8GigjCB0oGSgYpB7YGsQU2BTYFHQMRAtMBmwJlAvUApP+v/rL9hP0O/i3+P/3W+7D7Qvwb/N775vtZ/Or88vx1/Uf9fP3B/b7+tP+KAGABEQLbAVQAigDQAmwFLgX3AuoBuQLlA+UDDgOEAi8CbQKEAqICOgFUAPH/9QDmAEwA9P4G/kf9P/26/e/9Ef3m+6H7Wfyl/H/8BPwr/Hf86vxe/XX94P0l/s7+9P78/pj+zv4x/yL/vv6B/rf+Yv73/f/9Jf40/kT+UP+oAI4BUQGwAEkBiwKQA2IDJQO+A8sEuwTsA0sDSwOJA5ADagMtA6ICGALTAbUBaAEEAaEAigA1AMv/hv8i/+X+oP6Y/rf+kP5q/mL+av55/pj+r/7G/t3+9P5I/+L/XADi/3b/b/89AO0A1gCZAGsA5gD1ABQBzwCwAJkA7QBRAUkB3gBcAJkAzwDeAKEAYwA1AOL/HgAeANr/X/8i/0H/SP8L/8b+p/6g/pD+p/6Y/pD+W/6B/qD+t/6Q/mL+cv5L/mr+ef6Y/pD+ef55/q/+zv7O/uX+/P52/37/tP/a/x4AggCoAO0AKwGHAZYB0wHbAQEC+gEgAkYCNwIoAgkCIAIgAuoBzAG8AZ4BfwFRAUkBFAH9AMcAsABrAFQAJgDp/9r/u/+7/37/dv9Y/1//Qf9n/1D/Z/9Q/0H/WP9n/3b/Z/+k/8P/w//L/+n/+f8uAGMAawChAIIAmQCoAL8AuACKAHoAYwBMAB4ABwDp/6z/dv9n/1D/Mf8L//T+5f7O/sb+xv7O/r7+mP6J/qD+kP6Q/oH+kP6Y/pj+cv6J/oH+mP6+/sb+5f7s/hr/Z/+N/8P/+f9jAKEA1gAUAVkBfwGOAbwBAQLjAQECCQIgAiAC8gERAhgCAQLTAbUBpQGtAWABUQFCAfUA1gC/AJEAcwA1ACYA+f/L/6z/pP9+/2//UP9Q/1//Of9Q/0H/UP9f/1j/jf9+/7v/w//i//n/BwAeACYAXABcAFwAXABcAFwAXABcAFwAYwA1ADUAJgAPAOL/rP+s/37/Z/9Q/1//Mf8q/xr/9P78/uX+7P70/vT+7P7G/s7+1f7s/tX+vv63/rf+5f78/s7+1f4L/xP/Of9+/37/pP/x/wcAYwBUAIIAqADWACsBSQErAUkBlgG8AY4BvAHMAcwBzAHEAaUBcAGOAX8BYAFCATIBGwHtANYAsACRAFwAYwAuAAAA+f/S/8P/jf9+/1//b/92/2//X/9+/4b/pP+s/8P/4v/x/wcAFwAmAB4AHgAeACYARQAPAC4AFwA1ACYAFwAAANr/0v/p/7v/w/+k/2f/dv9Q/2//Qf8q/yr/Kv8x/wv/9P4q/xr/9P7G/vT+C//s/uX+A/8D/+X+Gv8i/yr/SP9I/37/Z/+N/5X/0v/L//n/TAAAAFQAkQCRAJEA1gDmABQBBAErAVkBQgFJAXcBhwF3AXcBjgF3AWgBdwFoAUkBSQEjASsBBAHPANYAoQCKAGsAYwA9ACYAAADi/+n/rP+0/53/pP+d/5X/rP+V/43/dv92/4b/nf+V/37/Z/9v/43/X/9n/43/jf+G/53/pP+G/5X/fv+G/53/pP9f/1D/hv+s/1//Of9v/6T/jf9+/37/dv9+/6z/pP9f/2//Z/9+/1//dv9n/3b/hv+d/6T/fv/i//H/2v/i/x4ABwAeAEwATABcAGMAcwCCAKEAqAC/AMcA5gDeANYA5gAUAQQB3gAMAQQB5gD9APUA9QDWAPUAvwDWAM8AuACRAJkAegBcAFwAXABUACYAFwAeAOn/2v/S/+n/u//a/6z/lf+V/6z/nf92/6T/dv9+/37/Z/+G/2f/b/92/2//b/+G/4b/dv9f/6T/jf9+/3b/lf+N/8v/hv+0/7T/u//D/6z/tP/D/9L/rP/D/9r/6f+k/8v/4v+s/6T/4v8HAOL/tP8AAB4A2v8HACYABwAmAEwARQAPAEwAXABcAB4ARQBcAFwAawCRAGsAYwCCAJEAmQCoAHoAawCRAJkAcwBUAHoAggBrAGMAcwB6AFwAYwBcAGMARQA9AEUAJgAXAOn/DwD5//n/+f/x/8v/6f/a/9L/y/+7/8v/y/+7/6T/jf/S/9L/tP+G/6z/y/9+/8v/lf/a/53/rP+k/7v/tP/D/9r/pP/D/8v/8f/a/9L/4v/p/+L/6f/a/wAA6f/i/wAAAADp//H/DwAAAPn/HgD5//H/AAAHABcA+f8eAB4AXAAmAC4ATAAXADUAJgBUAEwAPQAPAEwARQBUAFwAXABcAFwANQAuAEwAYwBUAD0AYwBFAC4AJgBFAB4AJgAeAC4AAAAuAEUA+f/p/yYARQDi//H/6f8PAPn/6f8HAAcA6f/S//n/6f8AAOn/6f/p/9L/2v/i/+L/6f/p/+n/2v/5/9r/2v/p/+n/8f/a//H/+f/S/+L/AADx//H/8f8AAAAADwDx/w8A+f/5/w8A8f/5/+L/AAD5/wcABwAPABcAJgAPAEwAHgAHAC4A+f8XAAcAFwAHAA8AHgA1ABcABwAXAD0AHgAAAC4AFwAPAAcADwD5/wAA8f8XAA8A+f8eAEwAPQAXAA8AJgAeABcAFwAPACYAFwAAAPn/AADp/+n/BwD5/+n/AAAHAPn/BwAAAAAA8f/i/wAA4v/p/+n/6f/5//H/8f8PAPn/4v/5//H/4v/5//n/8f/5/+L/6f/x/+n/AAAAAPH/AAAAAAAAAAAHAPn/8f8AAA8ABwAAAAcA+f81APH/BwDx/xcA6f8HAA8AAAAeAOn/BwAXABcABwAAAA8AFwAHAPn/DwAHAPH/DwAHAAcAAAD5/wAA+f8AAPn/FwAeAPn/8f/5/x4A8f8HAAcA+f8AABcADwD5/wcAJgD5//H/FwD5//H/AAAHAAAA8f8AAAAA+f8HAAAA+f/x/w8A6f/x/wAAFwAPAAAADwD5/wcAFwAHAPn/+f8PAAAAAAAXAAAA+f8AAPn/AAD5/+n/8f8AAAcAAADx/wAA6f/5/wAABwAAAOn/AAAHAPn/AAAAAPn/AAAAAPn/BwAHAAcA8f/x/w8ABwD5/wAAAAD5/wAA+f/p/+n/AAAAAPn/6f8AAPH/8f8AAPn/+f/p//H/BwDx/wAA+f8HAAAA+f/5//n/BwAAAOn/BwD5//H/8f/5/wAAAAAHAAcA8f/x/wAA8f8AAAAABwD5//n/+f8HAPn/AAD5/wcAAAAHAPn/AAAAAPH/8f8AAA8ABwDi//H/+f8AAOn/6f/p/wAA+f/x//n/+f8HAAAA+f8AAAAABwD5/w8A+f8AAAcAHgAAAAAA+f8PABcABwDx//H/AAAAAAcAAADx/+n/8f/x//n/AAAHAOn/AAAAAPH/AAD5/wAA8f/x/+n/AADx/+n/AAD5//n/AAD5/+L/6f8AAPH/4v/i//n/AAD5//H/4v/i//n/+f/p//n/6f8AAPn/AADx//n/AAD5//n/8f8AAAAABwD5/wcA8f8HAPn/BwD5/wAA8f8AAPn/BwDp/wcA6f/5//n/BwAHAAcA+f8XAA8ABwAAAAcA+f/x//H/+f8HAAcABwD5/+n/BwDx/wcABwAHAAAABwD5/wcA+f8HAAAA+f/x//n/AAD5/wcAFwAAAPn/AAAeAAAAFwD5/xcAAAD5/w8ADwAPABcAAAAPAA8AFwAHAPn/DwAAAAcAAAAHAPn/+f8HAAcAAAAAAA8AAAAHAAAABwAXAA8ABwD5/w8ADwAAAPn/AAAPAAcAAAAHAA8ADwAAAOn/AAAAAAAAAAAAAA8AAAAAAAcADwAAAPn/BwAXAAAABwD5/xcA8f/5/wAA+f8AAA8AFwAHAPn/BwAXAAAAAAD5//n/+f8AAPH/8f8HAPn/DwAAAPn/BwAPAAcADwAHAAAABwAAAPH/AAD5/wAAAAAAAPn/AAD5/wAAAAAAAAcABwDx/wAAAAD5/wcAAAAAAPn/AAAHAAAA8f8AAAcABwAAAPn/AAAHAAAABwAHAAcAAAAHAAAAAAAHAAcA+f8AAPH/+f8HAAAA+f8HAPn/BwDx/+n/AAAAAPn/AADx/wAA8f/x/+n/BwAXAPn/AAD5/wAADwAHAAcAAAAAAAcAAAAAAPn/8f/p/+n/AAAAAOL/6f8AAA8A8f8AAAAAAAD5/wcAAAD5/wAA8f8PAPH/DwAHAOn/BwAAAAAA+f8AAOn/+f/5/wAABwAAAAcADwAHAPH/+f8AAB4ADwD5/wcA6f/5//H/8f8AAAAA8f8AAAAA+f8AAAAA8f/x/x4ABwAHAAAABwD5//H/BwAHAAcA8f8AAA8ABwAHAAAABwAAAAcADwD5/wcABwD5/wAAAAAAAAAAAAAAAAAAAAAHAPn/BwAAAAcAAAAPAA8A+f/5/xcADwAAAPn/8f/p/wAA+f8HAA8AAAAmABcA+f8AAPn/JgAXAAAABwAPAA8ADwAAABcABwAHAPn/LgBzAGsA8f/a/wcAJgAPANL/y//x/x4A+f/p/+L/8f8mAAcA6f/p//n/BwAHAPn/8f8HAAAAHgD5//n/FwAHAAAABwD5/wAAAAAAAPn/DwDx/wAA8f/5//n/BwAAAPn/+f/5/wcAAAAHAOn/+f8XAAAABwDp/wAABwAHAPn/AAAAAPn/BwAHAOn/8f8PAAAAAADx//H/+f8HAAcADwDx/w8ADwAAAAAAAADx/+n/FwAHAPH/FwAPAAAAAAAPAB4ABwD5/wAAFwAHAAAABwAHAA8AFwAAAAcA8f/x/wAA+f/x/wAA8f/5//H/AAAAAPH/AADp/wAA+f/5/wAA+f8AAAcABwAAAB4A+f8HAPn/BwD5/wAA+f8AAOn/+f8AAAcAFwAHAPn/AAAAAPH/FwAHAAAADwAuAA8ARQBMAGsAXABMAEwAnf+k/xcFxwgIBRH9tPdr+wkCmwLJ/dL6Vv2WAQwBbf2t/HMADgPBAsv/SP+CAHcBcAGk///9rP+HARQB3gCN/+L/ggBI/wP/rP/i/2sAYwBrAL0GcAmwAMn1Ofc6AeYIogJx+cf7vAFlAvf9OgHqCewLw//J9an4GgSfBnL+b/et/FMDKgQ1AFv+nQS6B1YC7fsu+5YB9wIPAO37IP2G/3L+gf5I/+UDbQJv/079/P41AOwLig2MB4YEFQYnBecF4gTIBbEFZQLTAUf9Xfhn9zX72P1UAOD9+Pr2+NP3Kfoa/6EAw/81AMn9dwERAr7+Yv7rBtUDfv8PAMAFNQDE/OP8QgHOA8P/z/tU+yr/2v9x+Zz65f7M/Mj4Cvqk/0v+2fpx+XD8bf2b/bz87P4x//r8TPvJ/Q7+K/zt+1kBSwPD/3r7aPwMAaT/Mf+Y/nL+7fv3/c/7IP08A3sFRANMAGsAsgKv/gn9kQBcBekEkQDJ/QAAvAHV/on+0wHJAl0CGv/t+1P+UP/i/3ABAQLD/zUA7QBB/9X+SP/jATcCTAA0/tX+FAHPADD9zv7LBMECUP/g/ZEAYAFzADn/NQAuAIsCTgJE/i3+xAHbAb7+Qvw1ADQDJgD6/DL8sAAJAtL/FPx2/zcCUQEl/gv/JQM3AqEAw/8q/yj9jf/MAbgAvwAUAcwBBv6H/AP//wL/Aun/0v+WASUDPQDg/T0ABgPjAW//Cf1L/mf/NQBv/6D+egCOAd3+3vvB/UgE/gXqARP/nf98AlQAf/yT/WUCuQWlAeb7s/oL/6z/pP/G/uYAkwLPAI786vw1AGUCVgKoAFQAxwAUAToB+f9f/2ABlgEx/9H9xv6oANYA2v8q/yYAIALPAPf90f1rANMBVADd/nb/lgE/AgAAuv38/tsBWQHs/vz+QgEvAscAzv6d/2gBSQGwAK/+xv46AfoBawBY/wcA3gBzADn/8f9ZAdMBsABn/9r/zwCZAGsAngEJAjIBmQAeAAcABwBMAPn/fv/5/+0AXABB/87+AAChAKgAJgBZAYsC/QAx/2r+LgA3AuAChwHD/yr/lf/5/6T/uACtAbUBxwDD/zn/0v+RAJkALgC4AAwBDwB5/g7+X/89AC4A0v9cANL/X//V/lwAzAF3AQP/7/05/+oBIALp/5D+nf+ZAJkAQf+Y/rv/AQJGAqEAKv9v/1QAngG1AToBRQDx/wcAu/+d/88AtQF6AF//b//1AJEAgf5n/4QCWwO1AfT+Fv4uACMBDAFMACsBogJ8Al//pfxT/rICSASOAW//VACRAFwAgf5+/wEC2AKKAGr+Hf4XAOYAkQCZAKgAoQBI/93+/P6s/0wADAEuALT/9P5b/pj+X//D/1j/Qf/a/5X/Vv28/Ab+ggDtAGf/mP6+/lj/E/9E/on+cwBJAYIAJf66/Xb/sACRAC4ADwBcAAAAE/9Y/88AvAFwATUAVABcAGMAcwAUAZYBtQFoAZkA2v/p//0ALwL6AUkBoQDmAM8AkQCwAFEBEQL6ATIBAADp/1QAaAFoAdYAqAChAD0A2v/L/zUAawAPALT/dv+N/43/Gv9b/uX+6f9cALv/U/7Y/cb+fv9n/wv/Z/+s/zH/gf6Q/hP/Gv9I/0H/nf+0//z+7P45/53/+f8eAHb/pP+0/+z+3f5v/w8Anf/s/uX+WP+0/7v/b/9B/8v/2v/D/5X/hv92/+n/NQBjAC4ApP/5/1wA1gCRAIIA/QBJAYcBIwHmACsBpQERAiAC4wFgAWABfwGtAY4BUQErAVEBGwHmAHoAYwBMAEwAegA9AOn/u/9+/1//WP92/2f/b/9Y/yr/E/9Y/37/Kv/8/ir/dv+d/2f/WP92/2f/X/9Y/9r/lf9f/0j/y//a/+L/dv+N/5X/WP9I/1j/lf9f/0H/Of/a/7v/hv9I/7T/pP9+/2//w//p/9L/X/92/9r/jf9f/1//y//x/w8Au//L/7v/dv+0/x4AawAXAOn/+f9UAIoAuADHALgAzwDeAAQB1gAMASsBdwFZAToBFAH9ABsBKwEyAToB9QC/AHMANQBFAHoAggA9AOL/u/92/1//lf/i/9r/hv9Y/1j/UP9v/2f/u//D/5X/fv9f/3b/lf+7/9r/w/+0/9L/4v/L/7v/u/81ADUA2v+d/53/4v/S/+L/nf/p/9r/w/92/43/y//S/8P/w/+0/8P/hv+s/7T/+f/p/9r/rP/D/7v/8f/a//H/w//a/8P/tP/L/7v/AAAAAAcA0v/a/+L/JgAmACYA+f8PABcAFwAeACYAYwBUAGMALgAeAGMAVABzAFQAYwBjAFwAXABcAGMAXABcAEwADwAmACYAVABcAEUARQAAAPn/+f8HAA8AFwAAAA8A0v/p/+L/6f/i/+L/6f/p/9r/4v/p/+L/6f/i/+L/4v/a/8P/u//i/+L/2v/a/9r/4v/S/8v/0v/S/+n/w//S/7T/4v/L/+L/4v/p/9r/4v/a/+L/6f/x/+L/4v/p/+n/6f8AAPH/+f/p//H/8f/x/wcA8f/p/wAAAAAXAPH/2v/5//H/FwAAAPH/AADx//n/AAAXAA8AHgAeAPH/BwAHACYAFwAmAAcAFwAXAB4AJgAPAA8AHgD5/w8APQAHAA8ALgAmACYAHgAAACYAHgBUAA8ALgAmAAAA+f8eAEwADwAHAPn/BwAPAPn/DwAAAOn/+f/x//H/AADx/wcAAADp/+n/8f/x//n/6f8AAOn/6f/i/+n/+f/5/wcA+f/5/+L/4v/p//n/+f/x/+L/AAAAAPn/FwAPABcADwAPAB4AAAAAAPn/BwAPAB4AAAAeAOL/HgAHAAcABwAAAAcAFwAHAAcADwD5/wAADwAAAB4AAAAPAA8ABwD5//H/FwAHAB4ADwAAAAAAHgAPAAcAFwAeAPn/AAAeABcABwAAAAcAJgAHABcABwAXAAAABwAPAAcAAAD5//n/HgD5/w8A+f8AAPn/BwD5/w8ADwAAAPn/8f8HAAcA8f8PAA8AAAAAAAAABwAXAAAABwAPAAAAAAAAAPH/8f8AAAAAAAAAAAcA8f8AAAcABwD5/wcA+f8HAAAAAAD5/wAAAAAHAAAAFwAHAPn/8f8AAA8AFwD5/wcAAADx/wAAAAAAAOn/AADx//H/BwD5//n/AAD5/wAA+f8AAAAA6f/5/wcA+f/5/wAA+f8AAPn/AAD5/+n/AAAAAAAABwDp/+n/6f8AAPH/6f8HAPH/BwDx//n/8f/5//n/8f8AAPn/AAD5/wcA+f8HAPn/AADp//H/BwAAAAAA+f8AAAcA+f/5/wAA+f8HAAAA8f8AAPn/AADx/+L/+f/5/+n/+f/p//n/BwD5/wAAAAAHAAAABwAAAAcAAAD5//H/+f8AAAAA+f8HAPn/BwAAAPn/AAD5//n/6f/i/+n/+f8AAPn/+f/x//n/AAAAAAAAAAD5/wAA+f/x//H/AADp/wAA+f/5/+L/8f8AAOL/6f/i//n/+f8AAOn/AAAAAPn/+f8AAPH/+f/5/wcA+f/x//H/AAD5/wcA+f8AAAcA8f/x/wAA6f8AAAAA+f8HAPH/8f8AAAAA+f8HAPH/BwD5/wAAAAAHAAAADwAPAAAAAAD5/wAA8f/x/wcA+f8AAAcAAAAPAAcABwAAAPn/AAD5/wAA+f8AAAcAAADx//n/BwAAAAcAAAAPAPn/DwAAAAcABwD5/wcAAAAAAPn/AAD5/w8AFwAPAA8AAAAmAA8A+f/5//H/AAAAABcAAAAAAAAABwAHAAcAAAD5/wcABwAHAAAAAAAAAPn/AAAAAPn/DwAAAPn/AAD5/+n/8f8PAAcABwAPAPn/+f/x/wcA8f/5//n/BwAHAPH/BwDx/wAA+f/x/wcA+f8AAPn/BwAHAPn/+f8AAAAABwD5//H/AADp/wcAAAAAAPn/+f/5/wcA+f8HAAAABwD5//H/AADi//H/+f8HAPn/BwAAAOn/6f8HAPn/+f/x/wAA+f8PAAAABwDx//n/8f/5/wAA8f8HAPn/AAAAAAAA+f8AAPH/4v8PAAAA+f8HAPn/BwD5/w8A8f8HAAAA+f8XAA8ADwAHAAcAAAAAAOL/BwAAAPH/BwD5//H/8f8AAPn/AAAXAPn/BwAHAAcA6f8AAPH/+f/x/wAAAADx/wcA8f8HAPH/+f8HAPn/AADp/+n/8f8AAOL/+f/i/+n/8f/5//H/DwAPAAAA+f/p/wAA8f8HAAAAAAAAAPH/4v/5/xcAAADi/wAA8f/p/wAADwAXAEUAJgCd/8v/8f+CABcA+f/i//H/8f/x/wAAHgAPAAAA6f/i//n/FwAHAB4ABwAAAOn/4v8AAA8AFwAPAAAA6f8HAOn/+f8PABcAAAAAAPH/6f/5/wcAFwAHAAcA+f8HAAAA8f8eAAcAAADa//n/6f89AC4A2v/5/9r/FwAeAC4AAADx/9r/6f8eAB4ADwDi//n/+f8XAPH/4v8HAB4AFwAAAA8ADwAAAAAA4v8AAAcA8f/x//n/JgAHAPn/4v8AAPH/AAD5/wAAJgBMAPn/8f8HAOn/4v/i//n/LgAHAB4AAADa//H/2v8HANr/8f/S//n/y//5/8v/HgAAAFwAXAD9AJEA1gAiBHwSsw9Y/23t1e5R/DQDHwV3AeL/R/pB9675YwAFBl8EuACq/cz8Qvz3/cQBtASJA43/P/2T/Q8AxAGLAnwCSQFB/x3+ef5cALUBlgEPAHL+U/5I/2sAggBrAC4Adv/a/+n/QgHMAQANgBYQDeH6KO1P8mT4Lf7tABoEAQJP+jH32fpOAqwEuQLHAN3+m/1w/K/+HQNFBcYDu//3/ar98f/bAVgEGgS/CP0IzwBd+C/44v//ArAAJf6j/V79Wfzo/Xb/vwC3/vr8Cf33/Wr+W/5f/2cE/BD9CF/6U+6V9+kE0QdYBFj/3f7p+ub7w//aBNoEDwC6/Sj9E//5/2gBdAJ0AmsAt/7o/SL/WQERAq0Bnf9L/mX9W/5Y/44B4wFzAA7+Lf4i/2sABAFRAToBvv5t/Tz+fwHYAlkBhv/d/pX/rP89AAQBmQAHALf+FwCRAL8ArP92/8P/u//p/4oAawCKAA8A0v+G//n/TACwAC4ArP/a/6gAdAKECgkKKwFQ99/44v+GBHABPQB8/XX9G/zo/Yn+AAAq/5X/U/5y/uX+7QAMAV0CIAJzALL9P/1B/xsBoQCs/43/9P5T/vT+cAFTAzQDBwBi/nn+UQGWAeoBoQBUADn/Mf+V/wQBYwC4AEwAjf9i/rL9Bv6Y/qr9fP0D/z0A5f4yAXABtQEXAL8A2AIdA1kBr/6Y/tr/xAHEAaT/QgG1AQkCHgAeAFEBBAEuAKT/HgDS/7T/y/8x/37/BwAbAZkAFPwm+7z8/QBwAYoAXAAyAe0Axv5q/qgAlgHWAC3+5f4XACsBTAAL/yL/XABcAIb/8f/PAN4AHf4w/SX+tP+ZAKT/mP5+/yL/Jf5W/Rr/WP89AF//Gv8b/B77Fv65AosChv+R+0f63vtcAH8BtQFi/o788vzCBwwJnw7mFTUQngF0+JD+fQeXBscAvv6S+N7zxPRc+/L8hfpd+D376fr7+U/6cv4MAQkCoQC1AUUAzv6LAgoHNwoGA+n/hv/8A90DqQX0A5gDX//qAb4DQhHSFO8KfPUT7zr0bQI3CkYKy/+O9/j6UwN+BCb7Pvic+oT9o/0M/Gv7mft1/bf+uAD5/1j/fv8x/5EA9wK+A7cDy/9T/nb/oANyA6ADoP5O/Vb9/QC5ApYB0f0t/nb/8f9gAZD+fP09AGgBU/7j/E79y/+3/nz9AAAx/+X+9/2KAD0Azv40/hH9DAFwAYoAFv4AAJ4BSQFL/gcAdwEDBJsC0wFn/4b/hwHaBDsG8gE5/2D8LwIqBNgC5gC3/tMBRgJT/m//xwD8/oX6R/05/2ABVv0G/uoBPQBU+2D8aAHTAVwAAACQA53/fv/tAPcCTgKk/xcAJgAPAJD+MgG/APH/PP4g/ej9kQCeAaEAnf+y/bL9VADoAiMBdv/a/9MBmQAeAGr+MgE3Arf+jP0eAAkC7QBe/RT89wKkBJkAh/wo/VMDLgXS/3D8EQKLAoT9JvvmALsECQJ//MT8b/+s/8P/PQB3AVYCJgBY//H/vAGEAiAC8gFjAL8A+gHvAncBHf78/gEC0v8//Wf/3gDL/+D9hfql/FwALQNFAAv/av6j/Yn+PQCHAW0Czv4D/1wALQPMAdH96f9RAdMB9P7eAIcBzAGN/6z/lgGtAYcBPP6Z+/X7cwBQBM8Am/0M/CX+Lf5LA9oE6f8N+VT71wXhB1wAcfmM/ZgD/QC6/Vv+FgOZAEL8U/4BAi0DigAL/8QBLgC6/ej9sABiA0wARfsp+qP9/QAHAOL/4v8AAGX93f5RAfcCqABB/4b/eQOGBOn/v/sUAc4DAQIeAPL8YwBiAz8C8vwU/AP/uQKbAgv/cv6lASYA7P7tACsBqv33/Vj/pQFcAIcBcPwR/cP/EwQLBBP/FAG7BEEE0/wO/nsFgwVW/b35Lf4DBDUAOPrM/NMBlf8x/+P8Xv09AKIC2wEyAcT8aPy1Aa0Bjf+q/SYAMf9b/tX+YAERAlv+NQDmAPn/dv+g/gQBwQLtAK/+3f6d/wAAngF8/Uv+Ovyv/hP/DwB2/+L/7QAO/j/9qACWAX7/QgG6/dv87/1MAHIDigDi/zL8y/+ZAMkCNQA1AGUC2v8w/RH9XADbAbgAxv7W+6f+C/8oAvoBef49ADIBfwHq/KEAjQQYAkj/3Pln/8b+oQAmAIH+PP6y/f/9m/1rABsBAADjAar9R/1f/9YAmwJ8ApkA2P0//Vv+oQALBCIEfwEx//r8AAAjAZAD7P6+/qT/7QBt/fr8tfz9AC4A1vuc+mD8OgGYA5EAaPz3/XABNQDS//0ALwJnBAwBggDEAdIEKv/1+38BIgQ+BeL/GwHx/yMBhgQLBJ4BU/4w/Tn/TAB5/jn/YwDG/gAAGv/G/i3+1f4l/on+Dv6N/1v+4P2V/yMBWQErAXABkP7Y/RQBPwIdAyr/k/3V/ugCo/1W/ez+FwD0/oIAvPzL/5YBPQCo+7r9+QS0BHb/8/mM/VYCsgIyAb8AFAFt/Y3/igDYAjwDtwMl/gL6Qf95AyAC7P5wAVAE4wH6/HD87P7sA+gCQgHY/d77G/xL/tX+P/1WAs8AXv1F+8n9XQJ5A5MCBAEPALwBxwAG/uL/fgTGAxYDMf93/Hn+LQPOA3MAfv8D/239+f8uAF/6evu7/4sC3f4//fX7Lf73/S0D0wGeAWD8gf63/pYBWP/p/8cAWQH0/jz+6gGHAdL/gf6V/4oAdv+V/0sDsgJI/2r+dwEMAaz/2v98/Wr+t/7g/QP/uv30/igCMgFi/t3+uABLAzcCCQKtAUwA/P4bAWIDmP7t+7L9CQJQ/xv8Cf1JAZkA6P1Z/Lz8Tv1rANAC0ALPAC77X/8oAgcAaAHQAscAY/sO/i4A1gCY/nABU/6O/FwASwMmAKj7YPz1AC0D/QD6AfcC1f7J/RcAFgO+Aw4D7QBi/kf91f5y/g7+lvyZAG0CS/4p+lH8qAAYAgwBNQBgAW0CcwDyARgCLQNLA7UBkQAEAXsFJwVY//L8GwGVBDQD7P7x/zUAZ/9j+4789P4i/6j7vPdC/An9RP60/37/aPwb/CL/6f/BAiIEHQPWANr/oQBLA20CNwKiAiACDv56+3oA/gXjAfn/xAHPAEn8nvwDBBECrfyH/D0ASQE0/of85f7WABgCRgLB/RL61f5yAyMB6P2k/+gCHgA6/GL+FAF0AiACYAF2//T+6gFyA5kAXAAJAqUBhv9y/gv/NP7O/vz+BwAW/r353vuhAKz/2/zP+7X8Ef0l/hr/9QDbAdr/KwGCADT+b//6AYEDBgPmAPUARP60/8wB7ANgAS3+nf83AjIBt/4x/yACngFY/6D+PQC1AUv+Mf/MAU4CLgA5/5EApQGiAksDYwBY/0IBfgTGAyIE6ALYAsECSwMfBTEE0ALaBNAFpwM0A/cCAwQbAXcBIgRWAlj/oP4yAe0A9QBY/6/+Hf45/xsB3f6s/94AIwE5/0H/7QCWASYAmP5Y/+MBfwHqAcwBWP9i/hgCwQJtAiMBzAEvAskC0AKbAnABhv9rAK0BmwK3A7wB5gB/AWoD0AKeASMBrQHp/zT+9P5rAHoAnf++/jD98vyG/7UBVADg/W39RQBCAZ4BmQA0/sT8Qf8GA60BYv5//Ej/kQCB/gv/XADTASL/E/9+//H/X/8eAEUAQf/HANsBAACn/tX+8f+0/2//fv8uABcA7P4x/88ANwKyAnQCawBL/v/92v/qAYQC2wFv/578JvsW/tsB7wJCATT+Zf26/Tn/pQFQBLcDuACj/Xn+vAG+A40ESwNcAAH9KP3tAO8CXQJ+/+X+TAAXAIIA+f/i/+X+Lf45/0UAigAt/gH9JvtU++z+RQC3/kL81vvY/Vj/oQDeADUANP5l/ZX/KwEyAagAC/+g/vz+AAAUAVwAoP6q/Xb/zwBRAQQBmP4J/f/90wHlA8ECBwBH/Wr+6f/oAhcFrwNUAEL86P39AG0CMgHv/Rj9nvw//ff9Iv9+/8n9GP0Y/Yn+Jf5L/un/egBZAQAAjf+0/1wASQFwAcQBggAPAPH/IwG8AUIBrQEoAv8CNwL1ALgAKwGyAuoBFAEAAF//rP+/AOoBigCV/xr/KwFGAv0ARQAeAGUCaAFcAOYAKAKLAsP/lf/x/5EA+f+G/7gAvwAvAiMBPQDx/2ABkwKCAMP/cwDbAQQBuABgAVwAA/+Y/nMA4v+g/o3/0v/R/aH74P1Y/4n+vPzg/Yb/4P2j/Tf9//3J/Q7+DwDO/i3+DPxZ/LX8d/zv/cn9N/0H+5z6/fuj/UT+rfzj/LL96P1w/Nv8Hf6B/mr+7/1q/g7+r/45/87+fv9zABsBZ//0/lwAngHbASMBNwK4AOn/BAHgAr4D+gGiAhgCWQFRASUD/AOOAQECVgLTAeL/3gALBO8CAQJ/AaICdwHmAP8CmwIvArwBagOiAjoBAQJlAkYCngH3Aj8CXAAXAMcAKwGV/2sA9QBQ/wn9N/1L/oT9Af3M/Hf8OPrA+O74DflS+Qr63vsm+wX5hvea+Mr6Lvve+5z6M/lI94b3Cvpu+jX7iPmp+Db4NviA+cj4QPo4+qn4W/bT9wwBdwnJCq4GKArXFTcaAxSfDjYVPh0/GkgU4BI8E2cMpARsBe0I0AWH/Oz2BvZt9Qz0APMe80Pxfu+Q7irvafEy9GL2vvYf+DL8YwD6Aa0BMAeuDvsOEQp0CrYT5BaOETAPVhKDFf8PXQr9CGsIOAdOAkUA4P3w+uz2CvKk8rDzaPTn8Evu4u908BXxg/DK8s/zVPOT9Uf6/P6E/UD6M/ke+1P+jf8AACj90vqX+ev53Pnx91v2dvJ+7xbumO769EsD+xZOIkAc0ArB/dcFYyBpNgg1oCD7DhQJigj8C+ASrhb9DXX9QPIf8AXxNvB48aHzNfNq7hvniuO15Jnr3vND+eH6VfiW9GvzJPk0A/QLnA/9DaoK6AfTCb0OvhNhFggVGBLaDJkIAgf+ChgSGBJnDKoC6fqq9Wf3mQBlAhj9qPOl72zwOPK897P6DPwm+zj66/mc+uX+0wHOA9oEUgYXBZEAE/8XABgChwHV/lz7Vfg7+dn68/mv9pb0gvMk8XTwj/GI8d3uN+2q7Xztx+se68rqjeo67Kv6pBR5K8osrBQ9AOgC5SCCPbRBdjSHHgESkwrLDJcWRhpcFe8CpvSW7ArqHOkl5r7poetr6zXjZtoK2pjeYulx8UP5oftn99bz8vRjAPEMKxazF+kUWhOlEW0SAxQRGuse8RxBGbAYDxiQC2j8G/wMCc8NJQM89kvu5+jJ5TrsYvYp+vL0DOy56ALty/cPAEYCPwJ0Ap4B1f6ZAHgGUwtaC/UIiAZ3AVT7KveD+CL/0AUxBIv49es76YztxfER9f/1ZvL26OzhvuG15Hnpa+vw6l7toQBkHYotvyCWCYEDpxPyMepBlD+kLNsZrxP/D2wVKhnbGcgN5PmS8Kjrmeuq5TrkkeaJ5qrldd3s2e/YJ+Dw6jHyaflx+Rj4MPV9+rMHERLCFxIXRxf2FX4UShZgGQAdORztGAUWQRT+EqYOoQW7/wH9SP9//Dz2UvHh6nHp6udO7TPxiPFu8lXwXPMw9RH9NwJiAwUG/gW4CNAF0QcvCpsKyQrkBnsF1f6z+vn3E/dr+7r9pfzV8ZfpuegX6zTut+7T73jsGOjY5SPkpOJm4i3mm+2/ANIcRjJQLCgSogIxDAMsx0VpSzs7XSK0FKkN3A4gEn0XNhXgAl3wqeOf4VPe49xX4u3m4udq3ujVTdOX2W/n8PIw/SYAvv4p+sX55QPtELQctyCCIEAcgBbiFHgWPBsnHcMcohqIG6YWhALl7tXxlAd0Cqv6Vu2z6k7lzNxl5UDyPvgU9Hvw0+/87jv5tQEsBqsHEA1eDy4FIAJ9B5QPgA6nC+ULtASh+9T0ZfUx94X64v/h+tXureRt5Yvoq+o28KvyVu2z4pHe5+Du487mkOma8LcDsx+LMg8t8hl4DjwT+CdjQH9Ou0QMKfoR4QcdCwQRXxRuD3b/ge5d4NzZ+de72gHg++GU4vzeKdpE1oDZYube8xr/KgSdBI4BHgDrBm0S3x30I+EkOiFdGpcWDRbHGE4aCRqbGhgaIxEe+4XqZPAgAgsEoPZ/7GzoZuIC3TDln/GV95D2G/TZ8i7zWfxYBP8HoAvEEdAS9QgXBQQJyA1kDVgMbwxfBMr6qPMh8pTy//XP+9/44u8d5pLjk+X+6DLvA/Ka8Pbo0uKn4Vnk2uei6NTspfywGNsx0Tf/J04SzAk8G747mFDQSjIxPBtYDMsELgUTDCsRDQZc81rhENgJ1QzUk9iq3dvkhOVB31LZyNgu487uOvycB/EMoAuDBfMGwA0MGcEiOCdpJgoflhlvFIsSpxM1GHwiwB0eCOLvzu4K+jP5hPXg9UH3yOgF3BPfYub37QryWvmP+T74LvsA+478qgLyEdkXlhEfDcYLHQtaBtYIHA4fDb0Gbf2q9aPt4+zk8YT1LfYx8u3rAOPx39jl1OzQ8Cfwcu6D6NzhruHl5lnsM/HOA20iSzs7O40kcQ40C6Iiqz+pTQVGpTESHD4Fjfq+/oQKcw3eAGTwC99R1LfOJ9Cl11jfrOcT54Dh5tv63ETmDfEmAAgNYhPWEP4KUwvhDyMZZSI1KAcoOiHjGXwSHA5kDfAP7hWgGKgQQPpE5lblQ/Fp+fH3QvR57jflet554ULsIvfa/xgCBv5A+gn90AIpBxQO5hVmF6MPPQhhBsAF7gUhB2sI7APP+wfzRevu6A7ut/bq92Hxfeqy5T3jWeRU64/xSPLd7qLolOIQ4Jbkye3g/QQZsDWvQKAwYRa8CXAWBjMySVJLmjofJQ8Qp/709rz8TAjRB3j5POYY2GzQxMzyz7nYzOTm64jpGuJl3X3i6+zr+YwH2BLoF90T/Q0QDeASQBzkI8InuCVXH54WDQ61CTQLwRICF1IO6vzq79HtjO3162rujvRo9DPsN+We5JroOe/T94H+NwJFBecF2ALqAUIJfBIQFQYTBBH9DU8HhAIBAg4D6AIeACn65/C76iHqh+wq72nxnPK+7tDoweXO5oXqPO5f8n3yo+0T5yPk3eYE70sDLSAeOPE87i3tGLsMdRftMIJFJkW7NMEi8w5t/b/zPvjEAeoBy/f85r7ZFdHwzRDQftfE5Iztbe2J5gDjledY76v6fQfVE1EZRxc8E0QQXRKwGLcgCCWYI8UerhbuDYAGAwRpBkUNeRMGC3D0iuOJ5pjuju9S8dr3hvdr64rjROZE7rz3cAEzBugC/wIpBxIHFgNuB0sTwBWCEGwNywzcBlD/rP/9ALT/GP1K+dDwWOeS6FvuPvBg7w3x9vC56Mfjfufd7uTxl/Es8ULsg+g76Tft1favCwEq4Tz1OD8nWRYJEp8bgjCJQOA/nTG+G5IFFPTI8BX5Of/M/PPxVuXq193Or85K1ODdOedb7tXu2erV6QLtUfQl/tAKShZ0GgwZCBWbEksTZhcnHXIg/CAnHXsVCA1ECJEIdwnNBvn/M/lW9RLyTu3K6pbsd+8L72XtLe7D773xf/TQ+P/9OQRlCtULhwnwB1kJ4Ar0C6YOFhCaDQoHegDH+5L4Nvg2+OX2MvQp8qLwm+1M63Prbe1E7u/tie4L75DuteyN6nvolefs6a/uAvqPDhEnOzbNM7gltRbBEgUeZTKgQCM+OC9tGmkG0/e/86b5X/98/ZzyUeQ+2M3RzdGr1TDd9+V47LLtTOtM66fu1PRO/Q8IshKZGFEZ6xavE+8S1xVqG0cflB+GHNcV8Qy7BJsCXgfLDJMKawAw9TDt8+kH6zLvDPRW9ZzyjO2f6UXrT/KF+qEAdgTkBsUGEAW7BHUHcgvNDqgQRw9iC48GwQKV/+r8d/wM/EP5rfS58HLuGe0w7eXuw++v7ijtnuxh7NTsbe117TftP+1O7Yrro+28/PMWvS7oN2UyrCTcFnETGR/iMco8LzrVKwUWegBU8yHy5fYZ+mz4RvDH4wHYQNKF0vTW1t685w7uXfDu8Gnx2fJ29x4AiwpiEwwZkBs3GocWvhONFLMX4BopHBEadhRXD8ANtwtyA2n5qvUn+EP56PVA8nfviuvi553nv+tX8tf4kfu9+Sf49ftOAmkGFAn5DJQPqQ0YCuYIlgmtCfUIaQYoAmr+lvwS+iD1O/Es8VLxhu8q72nxffIQ8BntOuz67NXu5PH48mzw1OyN6oDp2eoo9QEKYyAtMGk2iTCcH3IQCRKfIwA1wTofNSsmehD4+mXtWewj9Cv8HvsL71Xgr9ZI0r7RUNf44nLuY/MA8+zxIfLE9Cb7xgO0DGwVzRsfHRsZ6RSIE68TEBXKF3QaBBltEisJPwJWAmYHwgci/171WvG0707tk+298Un0KfJy7sTsOe889tj9GwH1AKICiAYeCKMHlgnpDIoN9wprCEcHOwYxBP0Arfwz+QH4zvb182HxFfGA8UbwU+407pXvPvDD787uoO7d7vTuHe6H7KHrUeyu8WMAhxYLLLo3ADX9JR8V/w9DG6wsXjeMN5otvBn9AGLuzemL8N/4u/pz887mLtv90/vRstVn3wfrGvKK82PzcPTV9n36PQA9CO0QVBgpHGobiRihFVMT0xH+EsUWKhmAFsQRwA1ECHcBnPqE9e3zhPUq95P1JPGj7Sbr5+g46tDw7vhL/hcAu/+B/uX+kwKUB68Ltg7wD2wN/wfOAx0DUwOiArwBfv8m++/1OPLf8GHxLvP69JnzH/DJ7V7tsu3l7iTxq/Ik8QbuXOtD6XTo1uvq9xoM/CDJL7A1NTBJIdgS9RD9HYwvrTnMNsknpRFr+2vr/Obg7YP4FPzm80flmtg00TfQPNZI4vTucvZ+91b17fMl9u37UwO3CxMUqhriHIsaChekFCUTXRIGExAV7hXvEm8MLAaiApkALf56+2z4EfWc8iTxle+Y7qzvtvEK8jjyN/VS+VH8xv7qATkE3wXKByAK/goOCywLLwpeB9oE9AObAtL/2/z7+R32pPJ48W7yofNg9JHz/vCy7Zbsye3a72bycPT987HwFOyL6CLngOkb9LMHOx6RMO04kDNlIhsRFw2ZGNsp4zalOWYv3hjJ/TvpfeJL6ff1xPw++PXrHt7x0ujNV9JQ3w7uMffF+WT4gfbl9m761gC4CIcR3hhIHOQbpRnFFv4Sqw8hD38R3RNxE8IPZwxlCjEENvh+73TwhPUq96/2mPaR83Xt7uia6Ovsr/Z/AcgF6AKKAGABdwGtAUAHow/gEiYQ0AoXBaEAAACOAUIBWP///dL6kfMo7dvsg/DS8u3zYPTZ8ifwkO4d7lvuZPAH8/jyd+8U7MrqF+um8YsCbxmKLYE41DYPKGwVZA05FBgiKC+ANhAyER8iBPLsgOGw43LuTfjI+Lnw8uSq2LzP4s/42hLqKPXC+jr8D/sC+pn7FwBpBpcO3BaQG90bhBrlGGQVmRCpDZINEg/CD1IOWQlGAnL+Iv/V/iT5uPNj87jzDfGl74XyjPXJ9Z707fOH9Kn4X/+3A7sEQwZyCKsH+QQcBl0Kfgz+CmMICAVJAYn+Cf0X+9/4EPhb9q7xk+1q7jjyQvRZ9ObzKfKd72LuE+/+8IrzKPUu8yjtdOio66755A6DJbU2YjuRMEAcagvmCMsUjyb0M9c16ilWEqf2vuEF3Prk8PJz+5f52u8a4mbVxM9C1HnhufC/+8v/7P7T/CP87/03AisJdxHoF/caDhuGGbUWixJKDlMLmwqgC1gMiQvMCdQGEQIX+3rzvu5Q72vzIvff+Nf4t/Yx8gbuDu498977XwQjCRQJaQaYA6UBWQHSBOAKtg4NDhEKpAR+/yv8HvtM+6j7x/u2+V71mvBq7hPvDfFU8zD1fPUb9DHysfAQ8GzwUvHF8e7wWO+G78z0jgH8E4QnZDXMNqIqzhjiDOIMQhZiI1Iu/y/7I/QL7PEY4J7cEeUk8an4XfiL8JLj7daf0W/XAuV688H9KALTAbv/Lf4q/68DPAs0E3oYvBkyGZwX4hRZEc8NQwu8Cc8IwgcFBi0D6f/B/Vb9BPw++HD0PfNj81zzSfQa94/5vfnA+Or3kviK+1wArAQSB2MIegimBgsEvgNkBfsGXgckBq8DJgCt/DD6Xfh29533Mfet9OTxM/FP8g/zkfNo9HD0LvOX8bnw5/Ap8oLzRfMV8TPx1/iuBtEXWClkNbs0riYnFckKBgsLFAwhDiuYK1cfcgin7ijd8NpK5Orvy/fF+YrzieZ52SvUttmB5iD1FwDLBCcF/wKoAA8AmAMVC7kSEheRGEQYhxaBE8oPUAyHCfgHeAaVBNgCbQIlAxYDPQCz+mD0w++v7qnwAvVA+uj9jP1K+Z704fLY9eb7WwPbCfkMvgtAB2UC4v86AfEEmQgYCooIZwSJ/uf4m/U/9d32g/hk+FP27fNf8kPxwPCI8ZHzf/Qj9FTz2fKz8rPySPIc8SzxU/atAQwRmyJoMVI2PS1+HFIOIwm0DAIXYiPJKusmoRUU/OPkiNnP2/flafHr+R77hfLe4yfY6NWT3WPrvfn0A7gIoQjiBAwBigBzBRANiBNHF84YHhhVFWgRZA1WClsIMwagA4cBqADx/5j+vv6k/w7+1/h68zPxQ/Em8533cPy3/mr+Qvz2+Br3WvmV/6kFrQnVC+AK3AY3AgAAigDBAqEFXgc2BfUABPx297jzbvL18+j1zva+9sH1x/Pk8d/wwPCm8bjzsvUd9uP0TPNh8azvGvJ6+xgKUxvNK2s18jFLI0sT0wnPCIUPJRvfJago8x4oCmHxG9/V2bfe5+jW8z375Pl+7wricdnc2W7ile+e/BUG4AplCiQGLwKEAiEHTQ18EkIWDxh1F4YUTBDsC2MIyAVbA/0A2v+4AK8DgAYxBAH9tfQT7wTsFOzN8TX7dALGA43/+feu8Szxxvas/78IqBBDE4oNEwST/fX7S/4GA7AIPAsMCSUDTPuC8wjwtvHE9JD24vcc+fn3lvS28S/wEPAk8R7zh/RH9Q729/Vc83TwCvIC+jsGgxUkJhgyBjN6KCMZrAzhB2oLwxQCHyclvCEREgf7W+bu2+bbF+P37cv3Pfvg9eHqH+Bz237ftukl9lEBUQkaDNMJoQVyAwAFOgmmDlMT7hW9FmQVKBLPDfIJCgcTBNMBaAGqAokD6AJCAUT+mvgS8mLuie7F8ez2pfyk/6f+Y/vD90f1NPZg/LQEmAuuDgUOtQmQAzH/oP7mAOkE/QiOCbkFb/8z+Wj0zfFu8uv0xvYi95D24/Th8vvxKfKN8jXznvTJ9aP14/Qb9MLybvK39rgAJA42Hbkq9TBQLAcgHRObCrAI3w3CF1sgTiI/GkQIJvMX457cmN6g5njxvflA+vjye+g+4B7eNeOq7Zf5GgTYCjkMGwlsBW8EQwYBCsUOPBOhFakV5BOCEJ0MMglaBpgDxAEJAjwDzgM8AysBnvwO9kbwTu007kDyi/jg/Z3///1m+mr2lvSO95D+jwbiDNkP9g2RCKIC1f4W/ooAuwQeCB4IdgTV/jb4u/I+8MDwNfM89nv4ufjl9mD03PH578vvYfGh84T1cvbv9cfz8PLV9noAWg47Hq8rEzGQKxEf+hFgCfAHyA3KF7AgViJ3GZwHwvJc49vc7d455xry6/kh+h7z7uj+4OXewOOE7ST5kAP6CSULigiKBaQEWgbMCVoOZRK0FBAVcRO/ENcNSwu4CGQFXQKhACYAGwFGAq0BRP4s+e3zQe8J7W/vAvX4+gv/+f98/Wn53fad95H7TgKtCYgOeA65CnsF5gCQ/o3/0AKhBc0GCAV6AOT5d/R48RXxpPK69U345/hn96b0j/Gs7wHwIfLj9AP36vd59i7zDfEr9Nj9fgxkHa8rnTFuLGYf/BAZBz4FrwsCFyohMSR2HNAKhPVZ5FHcut165l/yJvto/Pf1XOsa4kTe5OFF61D3LwKOCXILFAmaBd0DrATwB18MxxCYE3YUWhPeECQO5Qt/Ca4GrwO8AdYAcAFGAn8Bt/6k+uD1DfEl7kHvkfPn+CD99P6M/Zz6RvgQ+LP6VAAwBzkMHw3BCtQGsgLa/6T/2wF2BA0GEAVoAQT8Mffm80jynPKe9OX2+fd29+/1x/Ps8TPxxfHw8sT0U/Z59pb0wvKt9LD7MAfmFX4kqS0fLbYjxRYLDF4H6gkYEs0bxCHjHn8RPP5K7Czhr96S407tGvfP+8j4CPBT5ovgFeGO573x4/zABSgKngmABuUD5QNaBi8Kjw5GElgU/BOtEYgO5QsYCmMIiAb5BAgFqQVBBHoAQvzn+Ef1zfGx8F/yXvV0+E/6xfkn+F/30/cV+Vn80wF9ByAK8gkeCJIFSwMvAnQCagM+BUoGrARzAO37dPjg9Qz0BPRt9RP3w/c592X1c/NA8uTxMfI18+v0HfaE9ajzGvKw82b6XAVxE3chSytXLMYjOBcIDZkIbQp3ER0brSH/H1gU0wHT7xTk7+CW5NvsYvaw+8X5afGO5/bgg+AG5m/vKfpEA3IIvwiSBdAChALDBLAINg1CEbYTCxRlEn0Puwx8CjUIZAXQAswBmwL5BOQGGQdIBA7+//X07sfrP+0u8xf7xwCeARb+L/hu8mzwf/Q3/eQGUg4UEc8Ntga7/7D77fvL/6EFtQn1CDEEKP1W9cPvt+698YH2nPp//NL6LfZK8Tzu2O3q73Pz1fZ+9231OPLk8Z33sgJgEWsgYisfLVcknhZ5C08HmwosE1wdGiR0IhQWdAJ37xTkMeJY50bwJPlt/Qr6XfBt5b/eKt8t5kbwpPqyAo8G9gV0Arv/DwCBA2MIPg0bEYgTthMgEnUP2gwsC38JKQeNBNAChAKKBQYLCA1uB1v+9/WB7sDoA+oA8yj9cgPVAw7+5vOm7IfsxfEH+6sHhBIaFCcNGgRZ/FX4ZvqWARQJFw3pDPMGK/xX8jzud+9F88D4wf2n/qv6f/T07sfr+uxK8T/1OfdB9wn1kvCg7kL0oQDoDyEfICrsK0MjJBaJC4UHWgv5FFcfHyW5ItQWGgTF8Unn9+XZ6h7zu/oo/WT4xu7y5PTepd+R5k3wWvkPAOgCCQJf/7L99P6iAoUHpAweENMRPxJ/EasPwA2kDBoMFQvjCQQJBAl/CXIIbwTs/qb5P/US8pfx9fOO9xn6AvpQ95Hzl/Gr8mL2v/ttAvgHdwncBksDggDa/38B4gRMCMQJ5gi7BJj+LPmB9kv2SPcs+Sb7c/uu+SX2hfIQ8Orv1fH186P1ifbJ9cry1e5W7WHx+PoWCJ4WJSOdKa4mxhuzD9YIxAm3EEYa2CK4JV4fFhDj/G3t1ubn6AjwH/iy/WX9LfbS6u/gIN3B4Jfpz/OO/LwByQJjAIf88Pow/W0CsAj2DVkR7xKiEpEQ3w3OC7kKCQoUCR4IjAd9B60JMw51D9YIW/6j9W/vgutH7aP1gf5WAkUAXfjB7aXnX+qr8tP82QeCEC0QXgct/vb45/gd/s0Gig2IDtAKJQOS+E3wfu+W9DD6NP41APf9dvep8Ifsv+uQ7pHz9PYl9qvyWO/g7ZfxcPy3C9gayCUeKFsgJRO1CWMIFA7RF0Yi0SciJCkXAAVR9LDr8uzm8+n6Mf+n/pX3Ouwx4lPeS+EV6W7yePm1/AH9Pfu5+PH32fq/AIAG2ArXDWYPqw8hD1IOLg1fDG8MXA3PDakNJw3DDLcLggiyArX8dPjd9sb2lfcF+bb5Pvhg9BjwJe5G8NH11vtMALkCRAMjARb+GP12/90DVAibCtMJgAZdAnn+Nfsw+mP7KP03/db7Cvq89171kfON8kjyHvNZ9GD0B/ND8ZXvm+3b7Czxevv1CNQWyyGxJWMgLhV5C0wIdgxKFm8hcighJxIcNwof+E7t6+yK8xv8LwI3Aib71e4A44/cLd5y5izxpvlt/QH9pvmM9ajzU/bq/IYE4AqADqsPCg+4DSoMWgvdC6EN+w7CD9EPaxA6EasP2wkRAhv8JPkv+Pb4kfuT/QT8zvb5733q++mO78v3cv5dAgYDJgCc+kH3YfnS/ykHnQyaDbUJpwNq/sL66/mt/P0AiwLHAAH9Q/mM9UXz2fLe8171t/bd9sz0pvHs7q3snOq46+HyOf9QDOEX2R/8IJ4ZeA4SB2sIQhFFHesmaCliI00VPANg9Gfv2/Rq/j4FLAZMAAL1EOgb37rdDOSn7hD41vtX+jz2OPJV8M3xdve7/yEHYgtYDHILXQrTCdsJPwqJC9cNsw8HEPsOCA1WCkAHVAgkDlQQAQreAOH6HfZK8UPx/Pbe+3D8n/lc8+brX+p08Nr38vxtApcGMQQG/hf7MP0yAcgF+gnqCakF8gHO/o36Xfgu+yL/Iv9g/Hb60/cb9BryT/Lh8rDzlvRz8xvvJuuC68DwdvohB58TZxx4Hr8Y5g0NBj0IuRLmHRAlvSZ3IbQUfgR7+Hz1+PoWA30HEAWM/RT0Guo146vi9uif8Uj3L/jB9WbybPBs8NLySPfY/TkEnAcmCNkHFghjCIoIWQliCyQOiRC1EdMRtxB4DioMKAr4B6EFQQR5A6UBRP7C+sP3xPTS8sLyv/P69Mb2+fel9/T2fvdS+Q/72P1CAacDQQSgA+AC6gFgAQECyQLYAi8CuAAW/h77rvkp+rP6dvpp+bT3jPXP81TzPfPZ8s3xju9C7Ezr7vB//HcJExQOG2IbcRMmCKAD6gm9FnwicigkJvsbPg1f/yf4hfqBAwYLNAvlAwX5Du5y5uPkQ+l08K/2wPjB9XTwMO3B7cDwCfVf+un/oAONBEEEWARcBcUGRAjqCYYMLRBxE7sUSxN9DyULxwhyCMcI9Qj1CBIH0wGr+iD1HvPW8yX2Rvh0+IH2OvQX8+HyxPQs+aP90v/i/43/jf/a//UAiwLGAyoEzgObAtYAOf9q/qP9aPwr/Jb8G/xH+k34t/bY9fL0h/TP81/yi/DO7hHtLe5H9QwBEwzNE8oX/RW4DXMF5wX4DykcIiRFJVcfExQwB+/9/ft/AeMJbA1ECNH9c/Oo6yfo1em074z1NviY9sXxMO3m693uXPPi96X8/QDBAjcCjgH6AXID1wUUCV8MzQ4WEMIPew1GCiYI6Ad3CXIQmxr3GqQMQvzr9H/0Dvat/KEFxQbg/YjxROY74fboM/mYAzQDfv+R+3/0vO8Z9TIBXQpNDRULxgO4++v56vzd/g8AiQPaBOL/gPl296X3oPaB9rz3w/fl9kv25vPV7nbq0uoy7xD4WASREOEXLRiOEZcGAACaBR8VuSKMJ8MkkBsnDWf/5Pkx/0kJqBCcD2QFPvjv7STpYulL7gb28PpS+S7zCe1f6rjrRvCy9Zz61f6lAToBzv4d/qEAiQOIBkYKvQ71ENEPNg3JCq0JfAqVDH0PZRKyEh8NmAM6/H36Wfzs/noAy/+o+071UO9w7M7uhPUU/Dz+SfyP+X73vvZs+IT9eQN9B6MHhgTPAJD+oP7x/44ByQLoArgAvPym+e74Q/l4+Q35yPgv+L72QvSI8aXvG++Q7kvugPHK+koG5A4lE+cSoQ0VBkEEjQz6GZ8jJyX6HtUTVAhwAaUBjAemDlsQ0wkO/lzzm+0g7TbwEfVG+F/3B/MG7rvqAOvd7jL0Pvjh+uP8yf0g/aX8PP5/AVUFSQm7DEMOig2vC7wJ5ggvCmwNYxCWEXARsw9OCpMC//0D/wkCwQKlAWL+sfhu8iLvne/48vH37fuK+4b31PTY9V34Rfuk//wDigWgA0IBy/+s/2ABUwPdA/cCrQGG/xv8n/kC+u37I/x2+qL4C/c/9ZnzT/J48efwRvAL77zvr/bJAnMNRhJwEY0MsQWnA3IL/BiyItUjyB0VEwcIRgJBBOcKehCZEEIJbf1j80nve/De80j35/jG9pfxh+yc6gzs4u/E9Hv4QPoA+1T7Lvvp+sz87QDnBbUJCwzLDHkLFAmzB88IwwytEV8U7xKhDZwH1QNqA00FVwcpB7cD2P2O98/zgvPB9Ub4Q/nq9071B/OF8jL0XfhH/QAAAAAa/+z+WP+hAC0D5wUwBzMG7ANZAaT/8f+CALT/Lf7T/Ob7xfl29zz2HfYG9iD13vPZ8uzxyPDd7nztkvBc+/0IThIOE4oNSgYoAjsGPxIKH0Ul2yF9F6oKhAI8A7IKzBGiEsMMPwIa91XwJ/Bo9N/4ZvoY+IXyGe046i7rie748nb36/lP+v74GPjf+DX7rP/SBFkJcgsGCzoJQAc4B4cJJw1rEFkRyg/lC7gIXgfkBsUG1AYZB0UFzwBC/EP5RvjT9zb4yPhV+BP3KPW484Lzo/Vx+Rv86P38/nb/Qf9B/8cA4AInBeQGCgdsBRYDpQGZAHMAWQERAs8AAf25+Dz22PXl9vH3VfgT91n0SvFB7znvdPAs8QXxc/M3/f4KeRNjEFcHNwI+BVIOxxgTITwj6RwjEUoGagPTCYsSVRVeD/kEa/sg9avyaPTQ+C770Pik8q3snOp66//t9vBw9MP31/jD9xb2vvbN+UT+BgMSB/oJKAo9CBUGiAb6CTsO5RC3EDsOuQpHB1wFsQVbCG0KOgm0BPUAnf80/kX7Svmr+rX8XPsn+NH16/S19HX1fvcC+nD8Vv0E/Cn69fu4ABoE2gQXBWQFKgR0AskC8QQ7BlwFBgNUAEv+jP21/KT67viL+Kn4OfcR9c/zevOr8tXxKfIH8/DyO/Eb7xryr/5mD0cXVBAQBZYB+waCECAaICJLI5MaEA38AwAFHw3kE2ITYgvTARn6EfUm8wL1Q/lH+lv2L/BK7MfrQuzv7Q3xjPX2+Pb4Gvfg9Rr3F/v5/wAF3ghtChsJYQZsBf8HpAxjECsROA8TDMcIQwbQBU8Higi6BzkEFwCW/Hb6rvm2+Rn6Evqz+pj+vAHR/W31u/LL91797QDOA4EDW/6p+B/4OvxdAugHcggaBPn/fv/eAAECOQRpBiQGLQPD/6P9WfxR/I78Af0//db7e/gb9EPx7PGe9Fj3J/gq95b0n/HD703w+PLv9Rn6BgNhDkgUAg/uBYkDCQpQFMscziD6HmkWoAsABZ8G1w0VE/UQygfg/Vj3OvT18+j1ovia+I70zu496z3rR+0B8Fzz1fYV+aL4xvZT9sj46P0OAxkHaAmHCcoHwAVSBgEKnw4METUQbA0BCl4HFQaIBuEHHggFBigCU/56+yn63PkZ+iH6HvtW/WL+s/pC9BLyxvZe/f0ArQGCAPL8rvnU+Vv+UAQHCIwHrwNMADUAZQIxBHsFeAbQBQ4DEQKiAnwC6f8O/pj+hv+0/xP/K/xk+Fv2vPeu+dn6wvoN+Uf12fIr9KX3l/mI+V341fab9br1OfcV+Y36RP62Bi0QDhNcDTAHKQdnDAYTvxi+G8cY8A+fBiUDQwaBC00NBAlgAX36NPZg9AL1WPfA+AP3APPa7wTv0+9a8ZnzkPZa+cL6bvqX+TD6Af0EAawEnAcUCbgIEgcNBkcHhApFDSQO0gwJCgoHHwXxBMgFeAZxBqwEQgE//Sv8N/0g/ZH7B/uC+0/6nfeJ9rz3Dfkh+lz7DPxo/LX8Xv2T/Wf/PwIxBOUDFgNLA6cDzgNvBLkF1AYsBlAETgJ/AbUBRgI3AnAB4v///RT8PfuZ+478cPwe+1L5ovjA+Cz5O/ks+Zr44ved90b4/vgk+aL4ZPju+Cn62fp9+hL6cPxnBEoOmxKPDj0ItgbbCXUPABX4F0oWeA6FByIEbAVrCEIJSgb9AHP7EPh89X/0EfU89lv2MPXe8wDzOPLh8kf1Ffmt/Lf+mP4o/cT8p/5dAkoGDAnbCWsIYQZ7BbYGsAjbCcwJFgiKBTwDrQH1ALAAggA1AHb/Jf4U/DD6M/nU+YL78vyT/Qn9/fvH+3X9+f+tAfoB4wE3AkYCTgIGAwsElQQ5BIkDogIvAtMBcAHHAD0Ay/9B/zT+8vxC/Gj8av52/6f+Cf2t/D/9jP1i/vH/LgBQ/wb+m/2M/TT+vv6g/ij95vur+hn6KfrS+vD6Gfqf+b35WvnI+JL4Q/kK+tv8WASSDXAR1Qv0A7kCmQhjEF8UCxS6D5EINwLa//IB4gTiBPUAuPvT90v2uvU39Rb2y/d4+YD5g/i09/n3Q/ne+0wAAwSKBQsEGAK1AWoD5AaWCZsKQglSBmIDIAJ0AoEDvgOEAlQA//3m+8L6nPoP+977Qvwj/EX7u/qk+h77tfzs/u0AvAGHAfUA7QC8AVMDFwXIBakFfgRbA2UCdgQBCjsOLwrD/2n5JvtcAJsCGALL/8L6yfUb9N324fpt/Uf9sPse+3/86P0G/rf+lgFvBCcFzgPYAkYCKgSDBbkFjQTVA+ACcwDl/jH/b/+n/rz8TPtP+kD6vfkF+dr38fea+P74HPnI+Kn4Rvia+CH6z/ul/Jn7F/uH/AYDsQ2KFYgT8gnLBPAHRw/GE2cU2xEOC+8CHf4W/rT/dv/q/DP5RPZR9AfzSvEs8ebz0/ek+lz7LvuF+qT6N/1OAhYIkwrMCUcHwAUkBtkHCQqyCrUJ1AaBA/0AX//G/u/9KP0y/D37vfnT99X25fZs+IX6jvyq/XX9R/26/X7/6gFQBP4FUgbABRAFPgWIBh4I2QeSBXkDFgPQAncBtP+Y/tj9KP2e/Hf8Lvtx+Wz4n/mC+wn9wf2E/fL8R/0D/zoB0AILBFgEGgS+A18EFwUuBV8E5QN5A3QCKwFMAEH/Bv5W/f/9NQDx/yD9afnU+Xf87P6k/9X+fP1g/Bv8zPzR/Rr/Iv8l/o78Mvx//NP8FPw9+wD7qPsU/Bv8dvoF+QH4yPjk+WL+owf8EKURWQn/ArQEFQtbEO8SmxKpDWEGigCY/gP/nf8a//r8lPoI+Kr1s/KI8QT0wPh//Hz9tfwX+0/63vtjANcFMgl3CUcH+QRQBC4F5Aa6B8IHgAZBBHcB7P43/Xf8d/y1/PL8K/xP+nv4tPcs+aj7NP7S/y4Ay/9Q/+L/vAHsA5IFJAbQBR8FfgTlA0sDBgP/AtgCEQKwAJD+6vzP+6H75vto/HD8sPvK+oX68Por/Kr9/P75/7gABAGHAfoBigU5DMANXQriBOUDyQIJArcDVQW3A87+mfth+V340PhP+pn73vte/dP8sPvh+nD8hv/TAecFVwcuBaEAGv9gAXIDbAWkBMkCy/+6/Yf8c/v1+wT8cPw9+1f6ovgL91P2vvb++OH6kfu7+lr50PjQ+Ef6gvvM/E79hALrDtsZehh/CS4A4gTbES0Y0hTzDooIKAJj+9T5c/sE/Jf5LfYd9l71LvPl7vftpPJu+gwBEQKd/8z82/y/AFIGOQxxDlUNxAn7BpcG8wYSB7kF6QT8A04CSP/S+rz3NPZQ92H5F/vp+rn43fag9lr5Cf2CAJsCNANTA1sDEwTSBBUGMActCKEIugffBTwDIwEHAPH/YwDD/x3+c/ta+Qj4H/gs+U/6NfuR+7j7/fuH/Lr9Gv8jAdgCdgQXBdoEKgS+AzkE0gRFBRAF/AOEAvUAFwDmAAwBWP/b/An9av7O/hj9gvu/+179p/6B/hb+av4q/8P/HgBZASgCZQIgAi8ChAIGAw4DRgLqAbwB2wGHAZEAFwAL/+X+oP4x/xP/ef5i/jz+t/6v/m//pP9jAJkAZQJkBRcFZQLs/pEAmwJQBFsDmQAO/of8zPwj/AT88Po4+mH53/hx+bn4dPgx9xj4Kfo6/Nv84fpx+ST5s/p3/I78qPvF+Vv+twvvGlwdDQ7p/x4AQw77FnYU+Qx6CLEFtP99+rz34vdB93L27vik+lL5T/J87Vjvi/iiAiQG3QN2/yr/4wE2BQ8InglDC9AKfwmUB0UFmwIq/1v+NQDBAuoB+vwT98/z6/Ti9wf7Sfxw/FH8K/wB/Qb+DwDjATkEeAYeCHIIYQb8A7ICxgMFBgIH1wXoAuL/k/1Z/Ob7kfuh+3P7LvuU+uT5Q/kF+Qr67fvO/tYAdwH9AGsA7QBGAhMEVQXuBbkF2gT8A6ICAQJRAQQB9QCoAA8Ap/4Y/c/7f/xb/kH/S/76/Oj9UP/p/1D/u/+HAVMDCwQOAwkClgHbAfIBKAJOAhECUQH5/+z+if6J/nL+7/2n/gcAzwDD/1P+if6s/zIBtQHjASACCQLEASMBQgFwAeMBrQF3AWAB7QA9AHL+Zf1O/SX+Yv4//fX7wvpP+o/5cfmI+Rn6lPrC+tL6dvoS+lf6+PpC/Pr8wf0Y/c/7n/nQ+Bv8tgaQEwkaPBNmB1YCKQexDa4OGgxGCncJmgUD/2z4FPRj8xb2B/sG/hj9kvgu80rxtfRg/MkCbwSgA8YDZAVzBa8DsgJvBMoHTgqiCuEHLQNL/mv73vst/kwAnf/6/AL6ZPgv+Cf4qfiF+g7+dwGqAgECigDi/7gABgMNBh4IawjzBrsE9wL6AbwBWQEEAf0A7QDi/179X/qx+ND4IfrH++P8MP3b/En8I/xO/TH/GAIiBNoE9AOgA2cEnQSQA3QCYgMABdoEXQLa/4H+4P2q/XX97/0t/iX+o/3q/K38Ef2B/h4AngHQAr4DvgMdA4sC/wLGAzkEEwS3A+gCvAEXAMb+9/2b/V79GP36/I78z/v4+pT6APu/++r8fP2b/TD9vPyH/I78tfy1/D/9hP0G/rL98vxo/Az8rfx3/En8Rfuc+m76//1sBQANhQ9BDPIJXQoYCjgHjwb6CQMMTAgtA88ARP7u+MT0DvZA+kL8z/sX+3j50/cY+PD6hP05/8QBcwUpB0UFpwN5A84DkANvBLYGdQdVBTcCDwBL/q38I/y8/F79Tv0Y/bX8PfvF+bb5v/tE/kUA2wGqAtgCVgJGAkYCwQKnA7QEmgWDBVgEyQKWAVkB8gH6AQcAYv7d/i4AGv9j+5/5+PoY/V792/ww/cn9av7V/nb/pP8PAJ4BJQPaBDYFigVBBOgCZQKvA4YEkAMvAlkBBAE9AJj+IP0E/O37FPy8/K38I/yZ+4r7v/v1+5b8N/2y/Xz9Vv2E/Xz9MP13/HD8IP11/Uf9YPwy/P37uPvh+iH6cfmA+cz8UAT5DPwQaQ58Cr8I1ggmCA8IUQkBCiMJZgc2BVwAePk/9SX23PkE/NP8xPyZ+835Bfnk+cL6c/vR/RgC5wXFBkUFFgNRAbAAfwGnAxcFAAULBDQDzAFn/+P8VPuR+8z8av5f/wv/uv1R/AT8xPzY/RP/igA/AnID7AN5A20CtQHEAVsDqQXkBkUF6AJ8AmIDuQJ+/6X80/y3/p3/p/4Y/Yr7Y/s6/F79uv2y/fT+qADMAeoB2wHMAZYBlgEoAgYDYgObAmABTACk//z+PP5l/Yf8G/w6/LX8aPxr+1/6KfrS+mP7mfuC+8f7h/wJ/T/9+vyW/H/8rfxt/T/9h/zP+6P9IAIrCRIP8A/lC58GTQVeB+YItgYlA04CjQTFBp0E9P4s+Rr3xfle/b7+rfz4+kL8u/9/AcP/h/wA+8z8egA8A+wDNwLWAFEBkwLQAjIBZ//O/un/fwEoAlEBnf95/kv+3f7s/lP+yf00/m//oQA6AeYANQDa/wcAmQChAHMAFwA1AP0AvAHMARQBoQCoAOYAoQCKAIIAYwAHABcAggAuAKz/X//i//n/0v+G/5X/0v+0/9L/AAAPALT/b/+k//H/u/9f/1//u//L/53/dv9n/0H/5f7d/uX+3f6J/nn+r/63/mr+Bv7B/dH94P3J/dH9uv2q/W39bf1t/Uf9Xv2B/qgATgIdA9ACiwJOAk4CkwIdA2IDLQPvAvcCagMGAygCrQFgARQBVADp/0wAcwChAIoAXACG/0T+wf3//cb+vv6J/rf+b/89AHoAmQA9AJX/C/8D/6z/6f/x/wcAcwDPAL8AXAAXANr/w//p/2sAggCoAIoAxwD1AMcAVADa/8v/PQCKAL8AuADeAPUA9QAUARQBoQDp/8P/PQBrAEUALgBUAFwAVAAeAPn/u/9Y/zn/hv+0/7T/fv+G/9r/y/+N/yL/5f6+/t3+Gv9Q/xr/5f7V/uz+5f6g/kT+NP4t/lv+ef6Q/oH+av5L/h3+6P2b/T/9Af0J/ZP9vv6ZAFYCNAMGA1YCKAIYAlYCqgJiA2ID/wLJAi0DSwN0ArUBIwHPAEUAAAB6AM8A1gCCAFQA2v+n/sn9wf1i/pD+mP4D/53/VABcAIoAPQCN/8b+p/45/7T/+f81AJkA3gCwAIoAJgDS/6z/tP8uAJkA1gDWAOYA9QDPAD0ArP9+/53/AACCAOYAGwHmAO0A3gDWAIIABwDS/8v/AACCALgAqABzAGsAHgDi/7T/dv9f/4b/0v8AAPH/4v/i/8v/dv9f/zn/C//s/ir/b/9v/1j/E/8D/87+mP5y/nL+av5q/qD+vv63/nL+Lf4d/gb+0f2j/Xz9df03/T/9yf1Q/1kBqgIWA5sCLwLTAfIBogKJA4ED6AK5AvcCSwPJAigCpQH9ALAATAChAL8AsACwAJkAXAAq/x3+yf0d/pD+p/7d/kH/nf8mAHoAcwDS/xr/t/7s/nb/w/8eAFQAmQDHAIoAXAAPAMv/y/8mAGMAoQC/AM8ADAH9ALAABwC0/6T/y/8uAKgAIwEMAfUA7QDtAJkALgBUAA8AFwAmAHoAkQCCAIIAegAuAJ3/fv9+/6T/rP/a//H/4v/a/+L/4v+s/1j/Kv9I/1//Z/9n/43/dv9Y/yr/7P63/nL+ef6g/s7+zv6n/on+cv5b/kv+Lf7R/ar9Zf1t/XX9Vv1H/dj92v/yAegC7wJtAhgC2wFWAiUDtwMtA5sC6AI8A2oDogIRAncB5gDHAHMAvwBzAJEAoQC4ADUAzv4G/u/9S/6Q/oH+/P4x/9L/RQCKAGMAlf/8/sb+WP+V/7v/4v9cAMcAzwCZAFwADwDi/+L/TABzAJkAigDPADIBFAF6AAAAtP/D/9r/VACZAPUA9QAEASsBBAF6AA8AJgAPAOL/8f9rAIIAggB6AKEATAC7/37/b/+N/2//tP/x/xcADwDi/+L/pP85/yr/Mf9n/1D/b/+k/7v/jf8x//z+p/55/nL+gf6n/qf+r/6g/qf+ef5q/g7+6P2j/YT9Vv03/TD9KP26/Yb/ngG5AugCdAIYAvIBLwLYAokDNAOyAu8CYgOBA8kCKAKWAQwBsAB6AIoAegBrALgA5gBcADH/S/73/Rb+RP5b/q/+E//i/3MAigBrALv/Iv/s/iL/UP92/8P/PQDPAP0A5gCKAEUA6f/p/wcAPQBcAHMA1gAyAUIBxwBUAOL/2v+0/8v/4v81AHoA1gBJAVkBzwAmANr/2v/L/9r/NQBrAKgAuADtAKEADwCN/4b/nf9Y/1//pP8HAFQAXABrADUAu/9n/5X/tP/a/8v/FwBjAGMAYwAPANL/dv8q/wv/7P70/uz+A/8i/wv/1f5q/h3+4P3B/ar9qv3B/bL9o/2T/V798vzb/Fb93f7tAD8C9wLYAosCNwJtAugCFgOqAmUCsgIdA2oDJQOyAgkCMgHtAJkAVADx//n/igChAFQApP8L/3n+NP4l/g7+Hf6Q/kH/PQCKAJkAFwC0/1//SP9B/yL/SP+0/2MAzwAMAe0AsABrAFwAFwDp/9r/AABzAN4A/QDtAL8AcwA1APH/y/+0/7T/BwBjAM8AGwFZAfUAcwAuAPH/pP+G/wAAXABrAFQAmQC/ADUAw/+V/43/E//8/lj/w//p//n/VABcAA8ArP/D/+L/nf+N/9L/HgBcAFwAXABUAPH/X/8T/wv/7P7s/t3+/P7s/s7+mP55/kv+Dv7B/Yz9o/2M/YT9k/18/XX9N/3g/SL/9QA/AgYD2AIoAhECAQJtAqoC6ALoAtgCLQNiAzwDXQJ3Ad4AYwAuAOL/PQBjAJEAxwChACYAIv9i/hb+4P3R/cH9oP6s/6EABAHtAIIAtP8a/8b+1f78/lj/+f+wADIBOgH1AL8APQDi/43/b/+V/x4AqAA6AXABQgH9AIoAPQDa/6T/hv/x/4oAMgHTAbwBGwFzADUA2v+N/43/2v89AFwAggDeAL8AAABY/wv/1f63/iL/+f9cAGMAPQBUANL/dv9v/6T/w/9v/2//dv+d/37/SP9Q/yL//P6Q/nL+/P6k/+L/X/8G/hH9x/tc+0X7VPtj++H6Evq5+LT30/fS+tYAWwgSD3cROA8BCtIEZQK8ASAC7AMZB+0IqAgzBkQDDwBR/ID5nfdE9sn1nfcm+77+oQC4AMP/9/2w+436Lvuy/RQBLgWwCPoJqAjuBTwD5gDG/sn9S/60/yMB6gH6Ac8Ar/6e/ML6ePkF+a753vvs/pYBHQOYAxYDAQLPAOn/BwAMAaoCuwRhBp8G7gUTBC8CDwAG/o78Ufy1/KP9p/6ZACgCuQIrAQH94frU+ZT64foW/kYCEAWKBWcERAOwAOX+kP6d/94AaAHOA9oEwwTQAhsBX/8R/Vz7lPpU+yv8Ef3O/kj/Gv8g/aj7q/rF+b35hfqt/O/9Qf+s/7v/zv5O/UL8evvp+lf6QPpM+0f93gCkBPAHdwlgCdYIBwgWCKgIOglUCAIHQwYuBZMCb//g/XX9DPzF+Sf4ZPjQ+Ij5Nfs3/cn9//23/sv/HgB6ALwB1QMIBT4FXAUuBTEE9wJtAocBAACB/i3+Hf58/fr88vwR/aX8G/z9+0L84/zv/Y3//QDjAW0CUwMiBPQDxgPdA84DoANbAx0DsgI/Ao4BvwCk/1v+Vv21/En8BPwM/Gj88vxO/eD9E/9bA/UIVQ3lC0oGFgMMAd3+nPpz+2L+3gAUAfH/fv/6/MT8vPxZ/M35NvjC+rX8if7G/h4Au/+M/Uz7gPmx+C/4zfmO/D/9jvxj+5n74fos+az3A/dx+QP/HQsKF3MdORxPF5ATAA3aBAT85Pml/OX+7P4o/ff94P3q/I/5rfQf8Efty++19Pj6GwEKBzkMew3dCz0IAAXYApYBCQIRAsECIgRDBkcHLgW1Aer8i/im9I3y2fKt9Hv4jvxjAC8CiwJ8Aj8CtQF6AEUAFAG5AkUF+AcRCoQKxAmUBzEEVADj/On65Pnc+V/6gvvE/Cj9fP0B/QT8q/rU+QL6yvrE/H7/XQLSBGEGIQe9BqkFEwSbAmgBXAD5//n/cwC/AN4AqACs/zT+lvxM+7P6nPp6+/L8r/5jAAEC/wKvA84DpwOBAzwD6AKiArICBgMlA9ACdALqAccAOf8O/l79Cf0R/Uf92P2n/sv/ggBzAFwAXABMAKT/7P4L/37/NQChAM8A1gC/AJkA2v+g/jD9jvzt+3P7D/tc+977SfzE/Lz80/y8/Pr8Cf0J/V79Fv6Q/pj+W/70/pkAJQPnBfgHGwlWCgYLRgoHCHsF1QNOAlwAW/5l/Vb9df11/Uf9UfyC+wD7q/qc+tn6/fu6/Yb/aAElA/kE/gUzBu4FJwXsA8ECIAJ/AeYAggAPAJX/C/+J/tj9Af1g/BT8v/vW+3/8fP2v/uL/GwE/Au8CgQPOA/wD3QOgA0QDFgPQAskCmwJOAvoBdwG/ADUAnf/s/lv+uv2E/U79Zf0g/T/9jP2M/Zv9Cf28/BT8ofsA+4X6hfqk+i77gvsj/PL8qv0t/h3+6P1H/XD8XPtm+mn5g/jz+UwAUwuSFXIYUhaSFWMYwBUGC2//0vqN+qf2M/EI8F71Y/vg/dP8q/p9+j37TPuD+In2mvhl/QECbAVZCWwNRBCoECsOPwrfBTcCRP77+ZX3WPds+EP5lPqW/Ab+Jf5e/Zb8evur+qv6VPvj/FD/4AINBkwICQpqC5gLrQn7BhoEUQG3/sT8uPvw+ib7DPzy/E79df1l/cz8sPur+kf6T/rZ+nD8cv6hALICAAWuBnUHbgeXBj4FPAOlARcA3f73/ar94P0W/mr+1f7l/pD+Bv6E/RH9lvy1/DD9Hf5n//UAdALVA+kEZAWKBekE/APgApYBTADx/1QAVABv/9X+rP9jAPn/W/7o/dH9o/3q/HD8IP1E/vn//QD6AUQDVQWPBjMGqQVcBeIEgQPbAVwAC/8t/kf9Sfxz+xf7Y/se+/j66fpj+5H7PfuK+wz86vw//Qb+RP7V/lD/tP92/+X+U/6E/Un84fo4+lr5PvjD93j59/15A2MIKgyoEFwV/xccFisRywywCDQDK/xT9s/zVPNr85HzfPXf+BT86P3g/Qb+kP4T/6f+//15/nMA7wIQBTgHDAmiCnkLmwqKCIMFmwIx/z37EPgl9mX1jPWJ9kb4nPpW/Z3/aAFGAqIC7wKqAkYC8gERAj8CwQLVA+IE9gWABo8G3wV+BJMCXADR/T37Q/nq90H3fvds+Ov5uPu6/Yb/BAEBAmUCfAJGAiAC0wGWAZ4B8gFlAuACcgMLBBMEtwPvAswBXADV/lb9FPw1+x77uPuG/8sEFgjZB58GGwnjCX0H2wFE/nP7AvoF+b72kPZV+If8Dv4q/zIB7wIlA6gAhv/o/Vn8QPri97L1uvVG+Ov5zfmz+ur8X/9v/1D/ef4//Xr7j/l7+BL6BAHbCcIPbRJwFl8clB9XHLQUzgukBNH9jPVR7B3mdeWl58rqee5w9Mr6LgBvBEAH9QgjCSYIbAWTAsQBRgLYArkCWwOaBRYIEQogCmsINgX6AYn+6/l19b3xpe/07gjwJvMx9+b7ggDpBNYIpwtNDfkMLAu/CHgGEwTqARcAxv5q/gv/XAAjARQB/QBjAHb/sv3H+3j5WPcO9sH1U/bi9yn68vz5/xYDaQbtCG0KDgvQCq0JDwgkBtUDWQEq/6P9vPwy/PX7K/y8/LL97P6G/9r/4v8AAPH/rP9+/43/AACKABQBtQFlAg4DSwPvAi8CrQGhAPz+Cf1F+/v5BflV+MP3vPc2+A35+/nZ+t77xPxW/Zv9m/1t/fr8Mvyh+5z6Gfqr+v/9eQO1CeQOvhM9GGIbAxzqGQAVQw6PBt3+E/dv7yTpjOVW5W/n6epY77X0D/sjARUG0wn8C2cMYgsRCnoIjwaGBMkC+gHqAZsCmAM5BBMEtwPvApYB/P7e+2T4VvU98wry7PHC8vL0ZPjM/GAB0AWWCX4MYQ4CD2EOtAzqCYAGNANrAAb+7ft2+r356/mN+pH7vPy6/ZD+A/8L/+z+1f5T/nX9+vxt/WL+WP+KAPIBEwRpBlQI/Qj1CKgIwgf+BWIDuAD//b/71Pls+H73hvcv+Fr5pPoy/Lr9zv6s/z0AYwDi/0H/S/43/WD83vs9+/j6+Po9+4L7x/sM/PX7ofsP+xL6LPmm+Qn9BgMbCRcNNRAaFKUZhhzyGacTSg6iChcFI/zs8ZnrgOlD6YvoTehc6/bwrPey/dgCowf+CggNzw2hDaQMXQo4B6ADngG/AFQAfv+g/sb+6f8jASMB2v8l/sT8x/sZ+vH3BvYw9aP1Ivdx+eb75f5GAt8FWQn0C4oNuA35DNUL+glAB7cDNQAR/eH6zfks+df41/jc+cf7wf3s/kH/w/96AEIBSQG4AFwARQCZABsBxAFOAqICWwMqBOIE2gQ5BNgCjgEXAKf+8vx2+nv4X/dB92/3hvcv+DP5F/v6/KD+lf9FAO0A3gCZAMv/ef7y/EX75PnX+PH3xvbY9fT2HvuOAegHTQ1GEuQWSxvuHekc0RdCESwL0gQY/Vzz6epb5tjlW+aB5qnom+369GD8sgIWCN0Lrg5bEMcQdQ+dDFEJRQVdAlwAt/6b/cz8GP0W/rv/sACKAMv/5f48/ur8u/pG+C32k/X39Uj3ovik+sH9ngGxBVEJ7AuaDYAOCg94DjYNhAowB2oDYwC6/en6NvhE9lb1BvZ29/b4R/q/++/9awB8AjwDPAMlA4kD5QNTAz8CIwG4AJkAmQA1AF//vv5y/iX+fP1C/Pj6gPl0+I733fYt9uD1PPYL93T4pvm7+oL7Qvz6/E79R/3B/XMAoQVnDFER7BMFFsEaRx+XHg8Y5RAADfUIcwAU9FfqcuZ15Q/jCOCL4D/lluxg9FT7jgGzB/0NLBMUFp4WexVLE/gPIgwWCBMEqABO/dn6vfnF+dT5aflD+ab5wvpj++n6vfnA+A35xflA+lf60vqO/KT/0AJkBZwH8glnDJcOow/RD70O4gw3CikHzgPx/3r7WPd/9Ezz+PKN8qTyI/Rv9yb7S/5UABgCnQQhB1sI+AfNBg0GoQWsBPcCGwFY/xb+P/1C/AD73Pnf+Db42ved9xP3kPZL9qf2UPcB+JL40PhK+U/6VPuK+1T7NfvJ/fcChAreEHYUMBefG+ohKSR1HzAXjhF4DtEHHvuE7Q7m1+Pc4ejdJtsJ3dfjrezj9O37mwLyCY4REhelGY4Z/xeaFfoRsQ2wCPwDlf/P+3H5Vfjx95X3Qfed9xz5APuR+wf73Pnc+dn6Y/vK+uv5R/pw/Ej/0wGJA0oGRgqfDncRThKEEl0SMhEFDsQJNgXmAO37zvaN8qXvU+7Y7djtSe9u8sb28PpL/mABAAWZCIQKmwoBChsJ8AcNBgYDlf+O/G76bPhb9pb0sPOo8wz0rfSE9af24vcF+Z/5Avrk+UP5e/g2+DP5R/1+BF8MfxEAFcEapyM6KREn8B+QG60ZnxMVBkv2HOxY543igtvb1KHTqtj+4NDoy++094cBUAwIFTcauxyDHUUd/hqXFr8QqgrSBJ3/JvvT9+j16/Rg9Jb0RPYN+QD7gvtr++37N/3Y/bX8wvqI+TD6v/sw/ZD+9QCdBP0IywweEHwSpxOvE+cS7RBNDRYImwKb/bH43vPx7wLtRes96zDte/Ab9J33x/uCAAgFoQi5Cq8LtwslCwEKjAfOAxcA8vxP+m/3pvSc8o/xxfGN8rDzxPQ89h/4EvrH+3f8h/z1+1T7T/rF+d77jgEECVIOOhHuFbUehyb6Jo4hHx2VHHcZKw5b/kDyeOzi5+rf9NY40qbUc9uU4profu9p+eIEhQ8SF4gbWR7oH+Ef0hyMFzIR0Ap+BM7+rvnB9UXzl/Hu8OTxpvRY9yT5KfoM/JD+oQCCACr/RP4L/2MAoQC7/xcATgKKBf8HfwnnChAN6w5eD6YO0gx8CpQHmAP0/kf6avbK8pXv6O3B7dXuovDC8jT2nPpY//cCewVPBxQJEQqeCRkHvgPtAGL+a/sB+Nv0NfPh8vjyD/Pm85v1AfiN+mD8KP1W/bL9jP3t+4X6aPz3AiAKZA1KDv4SlRxAJL4j7h2TGtUbRhpAD5X/CfXQ8PLsf+RI2uPUxtby3H3izuZR7Iz15gBiC+cSsxdxG1IedR+SHVgZvhPADcoH8gEy/H73FPSA8RjwmvDh8l71Mfff+EX7E/+qAioENAM3AjwD2gR+BNMB6f9cAG0CoAOnA/wDyAWRCA4LmAs3CrAIDwh4BkQDGv8e+9P32/R98jvxwPDu8APyQvR29+n6//1jAOMBgQPaBOkEeQOOAQ8Ar/7b/ML6kvi+9lP27PaV9373UPcn+Jf5nPpm+oj5i/h0+Cb7dwF/Cb0OaxDVE+kc/SUwJ7cgYhvVG8YbshKiAlb1CPC67TLnvdw31dHVFNxI4nrmNesm85v9/wcmEKkVOhmnGz4drBy1GbQU8w5wCewD/P6U+uX2FPRI8kjyx/P/9Sf45PkE/PT+AQLGA0EEeQMGAx0DPANOAu0Au//x/1EBJQNvBBcFBQa6B44JCQqZCHEGGgQYApX/SfyS+F71HvN28o3yu/JU89T0dvd2+gH9oP5I/x4AKwG1AVEB2v80/vr8SfyC+0f61/gI+Eb45/j2+F34rPed99r3dve39hD4p/6ZCFQQshIXFZodFijVK/YlvR4QHQAdPhU+Bar1m+3p6rrlqdsI02bS0Ngn4ITl0uq78l794QeREL0WfBqkHGQdjRyeGekU+w4UCaAD3f7K+ob3N/XP89bzVvXx95z66vxT/hcAPwI5BHYEqgJrAF//6f8AADz+QvyH/JX/0ALDBGwFtgZCCZgLMQyyCgcIigU8A1wAh/x0+AL1wvLF8bbxQPI186b0ifaA+X/8U/6n/pj+Mf9UAJkAKv8J/Rv8MvxJ/Cb7pvkN+WH5+/mu+aL4tPdB98b2svWt9Hn2df3CBx4QiBPcFsofNCvRLzcqXSIHIEcfRxdDBvL0a+v554XiPtg5z5HOddW63Rzkfeq48/T+0wmiEgwZFx3rHo8ebhzeGOwT1w04B1EBvPyX+Vj3uvU39WL2Yfm8/Kz/BAHyAegCEwTlAwECGv8E/JT6tvlS+Zr4/vgm+6/+hAIkBncJtwuxDTgPfQ+xDU4K7gXTAbL9j/lW9a7xKu+B7rzvSvHZ8tv0pffw+mX9t/4i/4b/HgBzALT/cv4g/TL8Jvt2+s35Uvmx+KL4kvgn+Hb37PZb9mX1rfSl96T/XQptEvYV6hkdI1IuIDLsKzwj6B9wHlUVpwPk8R/oOuSg3lbV8M1MzrLVat7g5brtpfdOAioMIhRdGgUegB5QHMcY8RSCECULtAQD/0z7zfmI+WH5gPmk+pv9aAHdAwME4AJ8ArkCaAHJ/eT5WPf/9T/1R/WJ9kP5tfzPAB8FAQphDgQRlhEUEVsQeA43CjkEkP7c+Q72ffJB7xntVu2O71fyh/QT9yn6R/0x/7v/4v/S/3b/if4g/RT8mfvp+qb5mvjf+OT5KfqI+bn4ufiD+Ib30fXH85zyzPR//PAHYBEcFk4a7CPeMAI3IDLlKPsj2yEqGQIHRfPW5t/gytqQ0X7Kysq20ZzaXON87Ur5fgRkDQAVpxseID0gVxzrFl0SQw5JCR0Dsv1u+iH6NfvE/GL+YwDBAqEFdQeFB5IFbQLs/lT7CPhZ9MDwye3B7f7w4PVX+qf+GgTQCocRgxXkFlIW2hQgEooNdQfPAED6h/QB8Ovsmeuw6+PsWO8A81j3D/t1/Zj+E/+s/w8AQf8//dn6+/n7+Y/5sfjx92T4O/kZ+k/6+/n++Pn39PZl9Sbzs/Jv91YCiA7XFWgZWyDPLTI5IzlWLyEnbiTrHjAPcfl76PHfQNoS0tXJ6sf/zUHXe+CU6ir31QMXDVMT7RgzHsofGhxVFWYPcgvRB4kDGv9J/Bv8ef6HAQsELAbRB/UIGwlrCP4FrQG/++D1zfE57/Ls0upu6qrtf/Qr/KoClAeKDWcUpRnQGs4YsRW8EUgMXAWQ/l34APOB7s/rXOvy7IbvCvKe9GT4lvxY/zn/jP2W/If8/fsh+tP3t/Ya9z74Dfla+TD6ofuO/K38OvyR+835zvZc86nwe/DR9bwBGQ/rFrka4CJOMn8+mT1GMnIoOSQuHdULQvTc4QbZz9OWzB7GQccQ0B/bR+UF8W//WAxxE2kWjhnxHIYcgBaaDcUGRAO8AQcAPP55/hQBHwWOCUUNlA9mD+kMUQmaBVEBD/sX87DrhudQ55ro3Okz7Kbxhfo5BH4MIBIUFkEZFRuLGp4WxxAYCmID0/x+98fzFfGn7qrtWO898+z2JPkh+hf7lvxW/Rv8DfkO9tT0+vQZ9SD1PPYB+Bn6aPyn/lwAegCd/+j9uPvf+IT1gPE/7avqS+7p+oYMURmHHoUkyDL2QhlH9Dt2LEsjnxuYC4rzJd7h0oTNbMjUxKrI3tOS4NLqqvXsA4cR2RePFuwTzRMsE98NewXl/rz8qv0HAHkDawgnDfwQIhTFFpwXrBSpDZUEqPu99Ozu/uhc42TgfeLf6E3wUPdT/loGOw4TFKMXqBhuF+wT3A5ZCfEE/QCl/FX46PV59pr46/nU+bb5lPrP+7/7Evpv9z/1XPPs8cjwXfCf8Rv0p/YN+TL8AABdAl0CMgEuAOz+OvwQ+Obz0PBq7iPsKeqU6kDyhAISF9IkICqML9U7/0fERhE3biT4F/kMz/ub5bXURM4wzWHMjM0l1hzkovAQ+HL+ugctEGgRFQuVBOgC7wLmAHz9MP1gAZQHjw7iFA4b+h7zHlobMxYtEFsIwf3k8drnNeP44lnkquUF6anwq/roAmMInQzhD84Q8w4aDKUJGQeJAw8ARP5f/9MBiQMxBF8EFwXXBUEEVAAm+772LvN+73jsY+s67KPtG++X8dH1Lvv0/mMAegDeACsB0v9C/Hv4LfbM9Cbz3PGm8Wby2fIH80Xzp/awAHAR/iKnK0As9i1HN3U/GDqEJxcVFQs8A9T06eIY2PzWXdhY12zYUuH/7dj1C/eD+Br/1wXABen/v/sd/psC+QQcBvoJtxC1FlYarByeHsAdFhgpD2EGb//++NzxHusq5xDo1utk8Hf0cfnd/qoChgRFBVIGUgYiBFkB8f9JAb4DuQWIBg8IXQrLDAgN7wpuB2oDp/7Q+LDzRvBL7hHtf+zg7UrxP/WV9+L3Nvh4+TX7Y/v7+VX4w/c2+Or3tPf59/b4xfl4+fb4ZPhY9zD1A/LV8f74WQlVHa0pDy0/L1s4N0KBQDwwthvxDNsBB/M04ZvVBdT31WPWXdi+4SfwAvqh+yn6Ovy/ABQBBPzl9rT32/xOAoUHjw6cF+Me7yKII9giuh+CGPkMigDG9mzwSuwk6Y7n5Ols8IP4U/4MATQDHwUDBAcAx/ur+un66frZ+uj9ywRvDIcRBhO+EyIUERITDAMEzPyv9sjwDOzV6bjrvO+48y32e/gu+578pPrG9rDznPLz8cDwg/Ck8s72s/rq/GL+JgCtAR4ABPwL98rymO6r6oLrC/dNDSclGDKpNSM5NEN3SWNA9SjlEIIA5vOH5A7WwdDw1QLdmuDy5NPvjvxJAf37aPTV8QDzzfFT7sHt4/TeAEgMShZ6IMQpHC6BK2ckKRw0E7oHjfpB78XpD+sL7wDzxva1/EsDiAa7BIIAd/xG+Cnyj+xU61XwH/id/+cFmg2mFmwduB3WGCgSmAuQA5z6HvOl737vsfCF8g72c/tzAH8BS/4z+ab0ju/c6Yzl2OWu6ezuFPQZ+lQAoQW6BxwGAQI3/Ub4nPK97AHoS+Zv5/3rBfmREMgtIkE4ROs+9T2gQLw5/iKuBubzUeyG58Hgid6E5R/w9fN48U3waPTB9QbuDeHz2ZPd1uYL7y32FAFbEIAeTyeLKh0r6CfZH5AT8AehAE79wvp0+Eb4zPwLBGgJsAgtA3X9ufiZ87Xs9ObB5bnojO2/84f86wb/D4MVlBeUF8gVlhGQCx8FFwBl/bX8R/33/Vj/cwAAAF795PmJ9qvyNO4x6urntOdx6VbtwvLX+Hz98f/eAFwAvv5F+wP3PfOS8BDwHPEX8yD1//Wg9iL3Wfw3CpEgjTQYOsYzmi1BMUU1ey1UGOwD1PkT94XyoeuL6L/rBu5P6kLk3uPu6LvqhOWY3urfKerO9rT/+QTOC6QUrBwHIEcfNh3qGeIUWg5gCboHNQjZBy4F4wFCAYsC0AJE/mL2ZPCv7q/uTu1w7Avvd/Qp+nL+HQNrCNIMcw0VCxsJvAl5C8kKdQf5BGQFlwbXBegClf/1+7n4+vRx8W/v/O7d7k7tsOs67KXvSfRn90b48fc++ID5YfkY+HL2k/VW9XX1RPbs9t32DvZg9Bv0cPytEfYt3D5FPYsymy9rNSY1biSTCqn4sPOW9EPxde2g7uHyj/Fx6ezhKeIR5S7jsNvL1xvfSe/a/zIJeA6nE10atR79HeMZJxUbEWwNuQqqCnsNvxA6EcsMLAbtAN3+nvxE9lbtG+cQ6G3tKfL69I73qPvO/noA2wHVA7EFRQXSBLYG4ApmD3AROhHIDRgKIQciBCL/e/i481LxufCA8UXzCfV/9FfyZ+/r7J7sKu+F8jXzZvIj9Mj4pfzM/Jz6e/hv90H3r/YZ9Wby3/Du8Dz2FQZ3Ibg9bUewPYAutivZLxUrqRWO/MPv4fJu+jr85/in9hH1xu6Z45Tan9lk227aZ9cf2+TpDv6IDiIU9xJREbYTShadFKsP/At2DBYQAxT/F5MaxBk5FJYJQf+d9/L0uPOS8LjrZup78OT5t/7E/GT47PaG9z747viC+wAAKgT4Bx8NthPlGP8XQhHZB4cBZ/9L/hf7W/aW9N32lPoy/Jz61fYk8fjqHeZo5J3nm+0m80f15fb4+qT/NQA1+4f0EPDV7k3whfJF8+nyVPNa+XcJLCMmPXBGkDutKTEkCSogKi8aAwTX+CP87APIBYoAJPn28EHn1Nw/1VbVBtk92zbbd9+j7Wf/AwyaDdYIbAUZB8MMoBD1EBYQbRK3GJ4evyBhHrAYaxDIBZb8oPaE9aP16/Rw9Lf2Ovzd/pH78vTX8Nrvfu8I8KHzj/mRABkHVQ1CEZMS7xJJEZgLEwTeAJMCmAOHAfT+nf9zABP//fvx927y4+yA6RjoC+d06DTum/Wa+KX34ve2+bn4NfNT7j/tp+7n8JHzavZI92L2E/fs/swRVyzRPzo+XC2TInwqFzXaLG0Sdf0Y/cIHEwz0A8j4tvHj7IzlcNwy1y/YCNsP2zbbduIa8joBlwYvAjz+3gAMCYwPYxCIDmYPPhWDHXQiIyGTGpgTXA19BwECo/0u+/P5vfkA+8z8vPyP+Zv1T/JQ707t9+1A8t32zfmO/I4BcgjDDIYMTgoBCtgKpQkKB/YFvQaXBlAERgLWAJD+VPsf+MT0RvD67BTsluz968TscfGQ9lD3h/RF897zVPMF8cPvXfDV8UzzqvXO9mX1qPPX+E4K7COOOfg8RDBaI2QlDjDjLgEaIwE1+6YG2xGIDrwBjvdP8lbtHeYq3y7bYtnV2Vbd1ORQ76n45f52/+r8B/ub/acDmQgJCrwJjQxBFNoc9SA2HX4UbwzHCHoIAgd8Aqr9jvzWAJcGJghtAmb6fPXy9OP04fIN8bbxjvRG+Dr8JgBWAuAC4AKJAwsEkANLA84DfgSsBI0ErARQBOgCSQGN/3z9jfrT9x32AvWK8yHyjfKT9bn4aflf93z1nvTP88ryV/KI8d/wmvD28CHynPLC8mX1S/4NDtQeTycnJTseQBxmH78gJRtREd0LmAvADSkPJhB6EEsL3gBy9iHy0vIF8bvqf+QR5UrsqPMa91v28vSt9Mz06/Tr9Nj12vek+oH+gQNwCQUOsw/FDuIMzgvvCrwJNQgWCJsKiA5oEQ8QpAxGCiMJeAY9ALP6Tfi891j3p/b59276f/zj/M/78PoZ+pf5ovja92T4QPoB/fz+VABoAUYCbQIEAUv+ofsK+tD4Qfe+9pr49fuj/a38yvrc+e74LfbZ8mzwBO+Q7qfuSe+V79PvffIH+zoJjBczHiIc8BdBGQUe7h3kFo8ODQ6EEqQUbRL4DzoR1hABCob/H/hb9vr0sfDP65HrJ/Bw9Iz1cPT988z0FPRS8Rvvw++K87z3APvR/bwBgAZOCjQLlgnZB/MGRwe6B3oIbQoNDgkSeROeEUcPHA5YDCEHRQCW/K38m/0M/AL6T/qO/Fv+2P16+6L4r/Zi9rf2vvb89nv4F/tH/b7+HgDHAAAATv3p+uv5rvls+Pz2hvfS+lv+C/83/Uz7T/rX+Bb2evPF8dfwg/Ci8OfwYfEh8qP1r/45DLMXNxpKFpUUThoHIEAcxxB/Cd8NuBX7FjoRfgwrDqMPSws3AuH60/c39Y/x5e6x8HD0FvZZ9Hby9fOQ9u/1SvEo7XXt8PJG+Ez7DPw8/l0CzQbHCKMHoQWsBB8FaQYmCB0LAg8BEk4SGxGwEGgRqw/1CHcBzv6CAGgB1f7t+8/79/1f/87+FPyL+CX2dfWj9aP1uvUD97H4CvrP+yX+Iv+E/V/6ufj2+Fr5J/gD9z743vv8/lD/Bv6e/Ir7rvlI9zf1gvNX8vvxQPKc8m7yLvMB+AYDug9AF1wVYxAvEnkbWyDZFxQJbwTUDm0arRkhD5EIxgsHEPEMCwSO/Kn4IPW78kXzIvdK+aX3hfLu8Hf0AfiY9qzviOlu6q7x1/iK+yn6pPrs/q8DJAZzBTwDAQIGA8gFfwlcDYcRFRN3ET0QshKDFSgSWwhRAaICGQfcBn8BTv3g/WMAjgEmADL8/PaC8/Xz6PUd9nf0a/Om9Cr3MPpg/P37qfgg9Tf14vda+cv3zvbn+Hf8Gv/i/2//KP3z+fH3y/dY9yj1ZvJa8abxEvLK8hr3EQLcDooVyRJhDhESPh3qIfAXnAfJAvMOtBwuHYQSKAp2DLwRVBBUCG//rvmb9QDzXPMa9/v5bPh683TwffIG9gn1r+5G6Lnole959uf4J/hK+ff9HQPiBB0DxwBFAO8CAgd8CukMlA+bEvQT9BN+FC4V4xEYCgME+QTWCKgI/APL/43/0wH3AgQBD/sg9fDyOvRO9f3zjfIu8xH11fZV+Fr59viv9mj0OvTJ9SL3pfeL+KT6Af2+/m//zv6H/Ar6i/gQ+Oz2MPW482PzsPOK8570LvtmB8ESCBXcDhULbRJXH2ghkBPgAvoBGBIHIPkcVw9mB4kLQhGuDrEF9/2A+XL2zPQl9kf6sPtV+Bfzn/GO9IH2Y/PE7KLoK+yo8xX50PiY9gH4yf3vAjwDNQBO/Zv9jgEVBhgKCA3ZDwkSzBEeEBsRHxVYFA4LdwG1AXQKEg9RCeYAav7jAX4EXQIU/Nj13vPR9cv3ifbt8/3zJfZQ9+z2A/c59+D1D/NA8j/1qfh4+Xv4kvgu+//93f5t/cL6Xfis99D49vgx9/L0h/RW9fr0WfQs+TYFoBA0ExANaAk9ECcdDCH2Fe4FhwHPDXYcHx0YEisJyQr/D80OZgewAKX8Uvn89o73F/tJ/Er5GfW/8+D1r/ZF83ztp+m17LjzyPii+Mn1Hfbp+i4AcAEa/1H8BPzl/vcC+AfpDAcQWxDmDfkM8A9vFP4SqgrlA7sEagufDrkKewWgAwAFtARZARH91Pk2+Oz2/PZf92f3YvZe9Zv1W/ag9nz1RfN48UPxI/Rn90P5cfkc+c35Pft//H/84fqp+Ej30/cV+c355/gD96r1XvVf9+P8FQb9DUcPCwwlC84Q8hmvG/QT9QidBCIMOBeLGvwTLAu/CIYMFA46CX8BBPw4+sL6a/uH/O371PlY94z1efaJ9oLz9O5C7OXuf/QF+YD5C/fY9an48vyg/nX9Rftc+1v+XQLXBZYJHA56ED4N4QeZCBQRRRVzDfIBCQIADacTJw1iA54BQwZmB9ACVv0m+1T7Y/uc+gL6SvnD91P2AvXb9IT10fUo9aTyM/GK8/n3u/qf+X73tPcp+pn7wvoz+XT41/ha+dT5Ifp4+er3svXb9HX1+/mBA1oOKhT6EZINuwweEJMSwg+yCvMGzAl8EhsZqxemDgIHyAXwB48G+gGB/oz9mP6V/0wA5QMNBpEA6vdi7knvT/L48gryD/OD+PD6CPiX8abs6epN8Ib3QvwT/2AB/gUPCOsG2QdaC14PFA58CpINoxfoH38ZuwyIBo4JXA1RCRgCfv/EAUgESwPs/v74I/Si8LHwdvJZ9O/1h/Sk8k/yvfTl9mD0EPD37cXx6vf1+6P9cPyk+iT5Uvl2+vP5w/ev9i/4l/ma+Cj1JPEW7kvuIvd/CQgd1yXcHqoSCwxbEAQZLBuZGE0V8hn3IskiIReDBWb63/jp+kv+OgHMAe37q/Jh7KHra+sT55LjW+Zv70b4j/nY9fnvEe1n79v0d/yOAWwFYwgvCt0LQwubCuYIqAhQDAkStxikHFkeQRn9DQ4DcgMcDgoP/gWl/HMAIQeN/9nyUeyl76vyq/Jq9vP5vfn48mDvDfF39KX31/gu+4z9zwC5AuL/CvpJ9CD1pvn8/h0DAwSWASb75fbv9Qb2FPQ48gT0SPdn93byx+uv5vnnYvYuDaUhXSIJEooFnwbxFB8dARr2FdEXkyIkJl8c6QwEAen/dwHGA0cHOgmNBI730e2m7G/vk+026NzpQ/Ev+FP25e6+6QXpuu0U9ML6Qf+wAK0B2wElAzEE6QQzBi0Iig0GExwW2hSqEsYTshKpDcIHRgrYEpgT7wqoADn/zwAB/Wf34/RI93T4dPhN+CL3MvQB8MDwQvRd+ML6pPqz+oX6Qvyj/X/8vfm092H5/fsO/rv/PQCB/uv58ffX+Pv5NvgO9on2rPeQ9o3y/O7M7Drs7PHPAAMUOB/wF4wHWP8cBmkWJx3lGDwTnRRAHPQb7RC5BV0CAgdlCpsKFAnIBdX+YvZw9JX3zfmq9drvEPCH9C/4uvVG8CDtau6h86X3cfk7+fb4hfr1+2r+igDjAYsCUwO9BlYKwwz9DTgPtRE1EAgNiQtSDuoRZA3ZB64GzAlwCXQCBv6J/uL/9/24+6X89fsn+PXz8vQI+Or3RPbb9FP2b/f59+r3avaT9fr0U/YQ+ED6xPyt/Ff6+ff2+D37pPpd+KX3Q/lD+Rb26fKf8UPx3/Cl914H5BbJGssMDwCKADMO2hx4HkcXlhE0E+0Ysxc1ECgKYAkxDJgLWQlkBcwBnvxN+Hb64/x6+x7z+uzl7qb0QfeR8xvvwe1n71fycPRi9m/3nff2+Jz6wf05/z0AcAH8A4UHiwpzDRkPjA9aDv0NKQ+/EPwQkRCfDlgMQgkeCPAHQwYGA/H/tP8i/7r9OPpk+LT3cvbb9L30+vSm9MfzG/T/9S32GfW48/XzaPT39aL4ivtw/Dj6Rvhd+BL6Nfvw+m76pvmL+Lz3S/bU9Djy9vAl9jkEkBPtGBIPxAG0/0YKaxhpHiUb9BOREBgSexWnE3EOmwoOC90LfwmDBY4B7P6C+x77aPzt+5D2pe957uHy5fay9TPxS+6+7jvx/fPo9UH3WPdf92T4a/v0/oIAzwCtAVAETwcjCR0Lew1yEGMQVw9bEFERsw/JClYKCg9jEI4JPwIJAn4ETgKb/V79jf+W/Br3o/WV9034AvXt84z1ifbJ9Yf0xPRH9ZD2oPbv9dv0gfZm+u37lPp4+U/6u/pp+RX5yvqC+5f5Gvdq9qr1ivPk8cn1EQIpD3MVIQ+YA1//aQYDFHsdfhysFHEOiA7QEs0TJhDDDPkMUAzmCCIERgJWAn7/6vyW/MT83/h28ifwBPTx97f2hfKs753vO/EH81b1dveO98b2Yvbu+AH9nf/S/xcAIAIXBasHjgn0CysOqQ0zDroP2Q8uDU4KTQ3tEP0NOAdfBN8F0AU3AkUAWQGoACv8Q/nQ+ID5qfiB9u/19/XR9Vb1zPQC9f/1oPZe9Rv0aPQi9735Ifow+vv5tvla+QX5Gfou++H6rvkn+CL3svX980zzW/Yi/4sK2xF1DyQGXAADBNwOQRm0HPgXsw8GC/0NDhN5E0QQNg1LC5kI+QSQAwsEiwK7/079BPzk+Tz23vPM9N32Mfcg9b3x+e/I8BfzfPW+9gv3gfbv9QP3bvrv/az/jf+7/0IB9AOzB7IKLAsGC+YNEg+NDFEJVQ0VE9EPnAemBvcKsgpQBD8CmgXLBDH//fsY/Tf94fpV+BD4rPcD92r2GfV39Dz2nffB9TXzivM09r72mPbQ+A/7OPq091j3rvkX+9L6X/pa+RD4Qfe+9gb24/Ty9K75iQNNDUkRUwsoAnMAZgdiE8YbyRqvEyoMRgrzDrkSPBN/EbgNBAm0BGIDuQWmBmoDUP9C/Lv6Svnd9lv2w/fa9zz2HvNh8ezxs/Le85v17Pbl9nz1AvWs9z37m/2Y/qf+UP/tAIEDAgdoCeYIDAmQCwUO/Q33CkML5A6uDuAK+AfHCC8KOAdQBFAEeQPWAB3+7/2B/ur8AvqS+H73SPel91j33fZT9uD1bfVC9If0p/Zv93b3L/hD+YD5ZPgQ+NT5yvpX+p/5YflD+Tb4OfeB9nz1YPSV9xsBGgw9EG0KtQEXAO4FjA//F/oZkhVFDSYI9wpZEbQUSxNxDmgJigWvAxcFCgeuBjwDHf4Z+jP5O/mA+VL5kvhQ98T0OPLs8WPzKPVL9mr2FvZH9Rn1xva2+VH8uv3B/ff9p/7tAPkEcgioCAIHTwdyC7ENnQygC6QMTQ1GCvgH+glDC9YIRQVYBKwETgIeAGsAawA0/nr7+/mu+bH4AfiL+PH3t/Yl9m31KPUg9UT2UPfl9rf2y/fu+P74O/mf+eT5ePkk+dT5zfmx+BD4X/di9hH1TvW/+2kGHA7ADQ0GXAAoAnIInhGCGBMZLBNWCtQG7wr1ENIUpxNDDl4HRgLqAYoFmQh1B/8ClvzA+Or3HPkm+1z7l/lb9vDyzfEP8xn1xvYD9yX2TvW99Nj1dPir+n/8Ef1O/ej9kP4EAUUFPQhrCI8GGQegC0UNcguTCuwLNg3bCYwHvAmiCsoHGgRBBB8FeQOwAJX/fv+M/SP8Lvt9+tT5i/j59772gfZv9932hPU39Vv2vvZL9gP3Q/n7+bH4TfgF+ab5l/nF+ZT6Avqp+NP3Ivdy9oz1Qff3/RIHgw3aDBUG7QDMASYIxBFjGHoYNxIJCrYGQgm9DuQT0hTCD0AHvwBcAH4E6AcmCDkEFv7f+GL2CPhU+7X86fq+9vDy1fEX8yD1UPcQ+Oz2KPVo9ET2M/ku+3/8pfzy/Iz9vv7eAF8E6AfmCE8HYQb9COwLpwu5CqcLjQyECnUHugc6CUwIcwVQBDkEHQO4AAv//P55/qr9Mvyr+sX5JPl7+JX3nfds+Nr3BvZe9af2X/ci92/3JPkS+kP5wPha+fv5AvrF+V/6ffqm+YP4nffV9g72PPbK+mIDNAsnDdYItwMBApAD+gkGExsZTxcKD/gHSgYMCVoO5xI8EwUOuQU9AOn/JQO2Br0G2AKE/ef4zvba9436BPxu+nL2sPMH8wz0Bval9wH4t/Z89f/18fdf+hT84/ye/K38sv35/20CKgQzBpwHdQcKB8cIOQxNDVoLEQqbCskK3gjwB94IkQjABfcCmwJ0AnABu/+J/oT9K/wX+2b66/nc+Sz5rPeg9kH34vdf96f2IvdQ9872xvap+H362fr7+Xj5O/k7+cX5nPoX++H61Pkn+KD24PUL96j7cgMVC9cNiwpVBT8C6AK4CPUQzRaXFmARmAuFB+sGKAoKDysRJA4mCAYDDAFoAZMCBgPjAfT+F/t0+E34pvkZ+mz4PPb69Hf0GfVq9vn3EPig9pP1RPZs+Pj6Ef3//aP9GP11/Sr/xAF+BEAH0QfFBnEGowfYCjkM7AsOC3AJDAk9CIIIUQlbCEoGiQPTAXcBIwF6AHb/yf2w+2b6Gfqr+h77IfoN+Y735faG90b4Dfkc+XT42vdI9yf45PlF++b7evuk+hn6EvqN+rD7FPxM+yH6ufgQ+Av3vvbF+dr/GQdiC6cLjgkzBlMDMQRZCS0QKhSvE3oQMQxrCCEHoQgdC18MuQqFB28ETgKHAc8A0v+J/mj8jfq2+Rn6hfqP+aX3qvU69CP0m/Wl90r5SvlG+Ej3E/eL+A/7Zf38/mf/UP+G/2MACQLVA3sF5AaFB4wHPQhlCssMmg3dC9MJDwjNBp8G6wa6BwIHZwTMAVj/Jf73/dH9N/0j/PD66/lK+UP5xfmA+XT4vPd+9x/4yPhK+RL6iPnX+E345/hX+rD7cPxZ/IL7yvpX+nb6F/uh+x77+/mD+AP31fZa+Yb/zQavCycNLAuMB6wEhgSCCKkNYBGLEgwRJA7gCu0IigjtCJEIOAdcBfwDtwM8AxgCLgAw/Uf66vd+9+f4bvqk+mn5SPcg9d7zMvTv9QH4ePnk+ab5tvl2+t77Vv15/lD/0v9FAIcBgQNFBXEGnwbcBnUH+AdyCJMKHA6PDloLhQfrBpcGjQQiBGwFPgUoAiL/cv7o/cz8uPvK+sX5M/kN+ST5Ifpc+x771/hB9+r3FflS+Wb6G/yO/AD75PlX+j375vtR/K38xPyO/Bv81vsj/GD8qPvF+V34WPdE9kH39ftyA7wJpAzLDMEKhQc2BakFkQhBDAIP8A9PD6kN9AtOChsJugfQBXkD6gG8AVYCqgJlAhQB0f37+Qv3RPYL9x/4/vgk+VX4UPeQ9r72pfd7+Mj40Pgk+Sn6x/vR/fn/WQGOARQBBAGlAdACrARaBjgHVwdmBxYI/QiHCfoJ0AqQC1YKowf+BVUFSASLAlkB5gDL/wb+2/x//PX76fq9+cD4dPjQ+HH55Pl9+ib7pPqu+Xj5ffoX+y77qPtR/EL8x/u/+3D8N/2y/Zv9Af1Z/Az8sPuC+6H7v/u7+hX5Gvdq9i/42/yQA8QJbA32DQsMcAluB0AHkQiyCn4MVQ35DFgMIgzOC9gKzwjIBU4Cb//v/VP+jf+wAJEAvv7m+/741fZE9mr2r/bO9qf2oPYx94P41Pnw+jX72foh+gr6APsB/Xb/vAEtA7cDxgPGAyIE6QTQBUoGiAaPBmYHYAlaC0gMpwuECkQILgXgAuoBxAEjAUwAUP8t/iD9d/wU/GP7yvqu+Wz4nfcQ+HH5s/rm+4f8jvzH+3r71vt3/Pr8P/0//cz8jvzb/Fb96P1b/on+wf3E/AT8qPuZ+5H7Rftm+iT5WPf39Uv23PnL/yQGPAsUDloOtAx8ChQJqAgyCQkKmwqiCoQK5wqBCxMMpwvECSQGCQKg/nD8mfsj/DD9fP28/Hr7Evos+Xv4AfhB90T2GfVo9AL1r/Yz+aH7o/1y/oH+Dv7Y/Uv+Mf+hAMwB0ALOA/EEJAZuB2MIzwhjCE8HLAZ7BbEFUgb/B/oJuQpZCcUGNgXYAkUA2P2t/HP7zfkc+Tv5Evrp+qj7evuc+uT5LPmL+LH4V/r9+578MP0W/qD+vv4T/2//X/9y/oT9zPx3/NP8df3o/Qb+yf36/Kj7nPpA+q75yPh+9y32//VG+Ef9rwNoCd8N0Q91D5oNagu1CSMJWQnECVEJoQhbCAwJ4wmyCpsKMgnnBcwBuv2k+lr5Wvnr+TD6T/oK+oD5M/lx+Z/5Svk++L72qvU/9Rb2EPi7+m39b/+CAAQBWQHTAUYC4AJiA6cDvgP0A7QEqQUZBzUI3gihCNEHgAY2BZUE8QRKBq4GFQbDBJgDAQL5/2L+m/1//KT67vj599P3Tfha+bP6qPsy/CP8qPuR+578sv0l/on+A/8L/7f+zv7L/6gABAGCAFj/Bv4B/Xf8BPwy/KX8nvwE/Ez76fqU+jj6Yfn59zT2VvVT9kD66f+xBf4Klw5yED0QxQ4QDdULFQvyCXIIzQbQBZIFHAaFB/UIfwljCNcFTgK3/rD7j/ld+Lz3UPcL9932hvds+M35wvoX+7v6j/l7+Ib3WPc++Pv5FPwW/gAAdwGTAt0D8QTQBWEGSgaxBQAFbwR+BE0FjwbZB/0IcAl3Cd4I6AeIBggFSwNRAfz+Af16+8L6hfrC+ib7TPtU+wf72frS+uH6APs9+2P7gvvP+3D8hP2v/rv/ggDWAO0A1gCwAHMAegBcAMv/Gv8t/kf9tfx//I78YPwb/JH76fpX+oj5sfi892r2jPUG9rn4Tv1lAlcHoAvUDpkQehCMDzsOCA2vC60JhQeSBX4EAwSNBJIF5AaMB+QGJwWbAun/+vx2+nv47PbR9fL0vfRe9bf2dPgZ+mP7FPwj/Jn7s/pm+mb6D/sU/Fb97P5UAPIBeQMfBb0G6Ad6CFsIuge2BrEF4gRBBAsE5QP8A74DCwQIBXgGbgcwB2EG+QSiAm//h/xf+sj4jvfl9t32Z/ds+Lb5Jvvj/Hn+SP8i/5j+PP7o/Xz9jP08/t3+X//a/y4AawDHAMcALgBn/5D+hP0j/Pj6Zvop+vv51Pnr+bb5iPnA+I73gfa+9u74xPxRATsGsgoFDiYQzhCCEIwPpg6aDd0LfwkKB9IESwOyAvcC1QO0BCcFfgSyApkAYv4U/PP5Nvi+9k71cPT181H0dfU59zP5LvuH/E79Zf0w/fr8GP11/R3+9P4mAEIBZQKJAxcFnwYHCAwJWQkUCUwIAge5BY0EpwP/AnQCEQLEAZYBGAIdAzkEjQRQBGIDpQHl/iv8Ifqx+JX3/Pbl9l/3Nvim+Wv7df2k/yMBzAGeARsBYwCN/xr/E/85/1j/UP8a//z+Mf9f/zn/vv4l/nz9OvzK+uv5iPlD+df4sfhV+NP35fbY9Uf11fZu+nb/ywTMCSQOKxF8EmUSaBFjECEPbA3+CkQIigVbA+oBlgEYAjwDKgR+BKcDCQLS/0f96fqx+N32VvUE9Cbz6fJr8+P0/PZp+b/7k/23/iL//P7l/sb+5f5n/yYA9QDbAaoCzgM2Bb0GYwiWCSAKAQobCboH5wVnBA4DEQI6AXMA4v+G/3MACQIWA3kDxgNyA8wB9P5g/H36sfhB96f2efbG9ur3j/lM+7r9mQB8Au8CPAMWA3QCWQF6ANL/C/9y/i3+0f2q/Q7+av5y/pD+mP4G/q38NftH+jP5H/h+9+z2cvY89qr18vQg9Xb37fsrAZcG9AtMEP4S7BNTExES1hBmD2QN5wotCGQFBgN/AQQBjgGEAokD7AMtA6UBOf9o/NT5nff39Vn0HvNm8kjyu/IU9ET2BfmZ++D9dv8PAC4ADwDi/wAAawArAeMBfAJTA3YEsQUwB7gI6gmLCpMKrQlMCI8G4gRTAy8CUQGhAHMAVABFAD0APQBjAPH/C//J/VH8nPr2+Mv3Mfc599r37vhX+hv8//35/3ABogKvA/QDzgM0A4QCxAHWABcAjf9I/yL/7P6+/oH+S/66/dv8G/wu+yn69vjq9yL3ifY89v/1yfV19cz0aPSy9ST5U/4LBLwJGQ9DE5oVFBYfFbYTRhJMELENiwp1B40EIAK/AHMAWQFWAugCsgLTAdr/IP0p+lD3KPVc8/vx/vCa8A3xQPJZ9BP3T/pW/bT/FAG1AdMBjgFJAToBpQFGAv8C/AMABXEGygdCCYQKagvGCxULvAmcB00FUwO8AZkA6f+N/43/hv+G/2//SP/s/lP+MP3W+yn6ZPgL9y32Lfb89l34MPpZ/Kf+qABWApgDlQTpBNIEMQQOAwEC/QD5/1D//P7s/t3+r/5i/uD9Af39+/D6xfl0+DH3LfY39ab0WfQM9KjzAPPZ8kL0GPj3/aQEeQt/EVIW5RgqGcoXexU8EwQRHA7gCrMH0gSiAhsBxwCHAZMCJQPYAmABoP4P+0H3v/Np8Z3vzu6Y7hvvZPBu8gL1H/iZ+87+QgF8ApsCRgLMAUkBUQH6AR0DywSPBj0IzAkdC0EMywz5DFgM5wqhCN8F4AJcADz+6vwU/Nb77ftJ/Fb9mP5+//n/NQDS/2L+Qvxm+sj4w/eV9z74Yfkm+239dv9ZARYD6QTfBdcFgwWkBA4DSQHL/8b+Dv7Y/cH9qv1t/Rj9Ufw9+0f6Wvkv+M72k/XU9N7zY/NM81TzTPOk8iHyRfNQ90v+cQafDhQW5BvzHq4eQBzOGHMVGBKmDiULwge0BEYCegDp/6EAtQE/AmgB9P4u+2L2j/GT7Sbrburp6lHscu5D8Un0hvcP+5D+xAGvA40EQQREA0YCAQJlAtUDcQZJCfQL9g1HD7MPTw8kDm8MTgpmBzEE1gDJ/VT78/mA+ev5wvqo+4f8Vv2q/WX98vyH/Nb7wvrc+YD5gPkS+lT7Vv12/8wBgQPSBIMFyAWhBekEIgRTA3QCvAH1AIIAXAD5/8v/X/+n/pP9K/xX+l34gfb69N7zHvMA83rzMvQ39UT2IveV91j3Fvbt80jyVPNk+KEAfAp+FB8dLCOpJUAkDyAVG0oWlhHLDAcI1QN6ANj9d/yl/P/9fv/L/+/9Ifrr9Bvv++l65l7lmOZx6TDtafHY9Tj6Lf7MAdIECgcHCIwHFQbLBL4DEwTQBdYIfgzKDwESyRIBEv8PAA2WCecFPwID/7j7ePld+JL4xfnW++D9Gv/G/l79APsY+Iz1/fOo80n06PUv+Pj6Dv5/AaQEIQc6CSgK2wljCGkGnQREA2UCbQIGA5AD5QOQA6ICOgFI/wH9X/qs9yD1+PJD8Xvw1/A48gz0//Wl95r4yPgY+L721PSN8tPv/+1v70T2xAEZD90bYSYmLaYumiqqIqUZ2xHsC/MGNAMMAVQA6f+k/xcAzwDmALf+tvnZ8j3rFOT83gndQd/r5Ersz/ON+uL/agNFBdcFqQVcBdIE7AN5AxoEQwbECSQOyRICFzoZiRgQFW4PDAnBAlb9n/m090j34vfA+M350vpr+z37T/rF+dT5O/ni9373kvgp+pn7Dv4rAbcDewVaBg0G0gQLBGIDmwJGAksDwwQIBQgFgwWSBVgEsgL1AHL+ofv++Hn2aPSw8yv0nvTr9LL13fYT91P26PXB9WX14/SO9Dr0kfO78u7wd+/78Q/73gjwFzYlvS5lMj8v1CafG0IRfApeByQGwAWxBU0FoAMMAXL+9fux+MfzZe0W5obfqduS237fBOfQ8Bn6xwAqBKwEWwNwAVQAoQCEAmQFBAlfDLMPBhMrFiYYxxh1F9UT3w2ABpX/R/qG90j3/vhU+079Hf5O/Rf7dPhE9tv07fNU85nz+vRB91f6Jf6yAqYGDAloCegHRQXJAkIB5gD6AW8EhQd/CU4KXQpwCUcHMQTtAIT95Pmv9of01vPb9PT2JPmk+ib7ffrA+A72z/P48kXzSfTo9eL33PlU+yv8f/yw+5/5JfZa8f/tVfBm+lYKGhyQKz01AjeCMKcjfhS6B78A/P5MAGUCnQRNBZgDHgCo+wv31fGw673kY96U2gDby9+D6O3zWP+jBxULvAnABToB2P1l/YIAJAYnDRUTKRcbGXcZ/xfDFAcQbQoaBMn9ZPhH9Sj1vPeC+0H/WQFCAa/+8/m19AXxle9k8OnyKvcE/LAAIgSPBuEHHggwBx8FhAK/ABcA9QAlA48GdAoXDTYN7wrcBgkCMP1D+ez2Hfa39j74tvmz+pH7sPuU+mz47/W48+TxePG78k713/gj/Lf+dv9q/iv8O/m69U/yG+9w7FnsPfNlAr0WGCo/N3k7FDZ6KDsWFwXp+kD6kQChCIgOoBDIDcgFffoT7yXmNuB43JzaZNvi38vnafHw+tgCDwhECKADCf10+AH4d/wXBQcQZRoyIW0iKx5pFisOCgelAYH+hP33/ZD+3f78/uz+Dv6Z+2/3GvJH7UjqpOqV79f4UwMsC2EOLg1yCOoBMvwp+gT8ggCSBZ4JUwsVC+oJwgcABaoC9QCY/r/7Evp9+nf8Mf+8AV0CqADE/NP38PI+8CzxvfSi+L/70f0t/mj8EvqD+Mv3rPcn+LH40Pia+JL4dPgT96b01/Aw7fftTfjGC2UidjTDPPk5RS2bGv8Ha/vc+SAC1w1NFWwVAg95A7X0mOZt3YXa5tvt3k/i1uY37cz0Rftv/54BYAFL/hL6bPit/OcFrRGGHHEjdiQhHx8VlglZAVv+rP+yAnMF8waaBUIBF/tO9Z/xZPBs8JLwj/Fg9Mj4vPzS/3QCGgQ0AzUATv21/Br/rwMbCU0NZg/UDh0LPgWCAM7+SP9rAKUBsgLJAkIB9P53/Gb6JPkB+Hn2N/WM9Yb33PmZ+wH9bf0U/GH5vvay9a/2O/kE/P/9Yv6q/Xr7e/jo9Xf0qPO98VPu4erP6/f1VgrNIxM5EEI5PMEqExRjADz2zfmCCMwZviNUIAwRuPuv5lDXJNF/1P/dGOjl7hLyqPNe9eX2nffD9z74UvmK+4IAcAlzFYIgQiZXJPQbFhCNBF79zPxGArIKsBA9EGgJcv7C8ojpKOXG5oTtLfaW/Fj/fv8x/3L+tfxF+9b7S/5CAaQEGwnfDSsRMhEuDZcGXABw/Gv7hP1tAsIHLwr4B/oBVPuq9fDyNfMd9iH6o/0a/8H9a/vF+Sz5kvj590b4JPlX+t772P27/1QAr/4P+5j2a/PK8kL0ifZG+OL3I/RO7Ynm/+WA8aUJByhbQHpIOj6UJ9QOXv2i+J4B/BNcJWwqcB54BnjsyNhgzzfQFdk35QTvq/I78b7uie6L8H3yUfSl9079wwQFDi0YUSEcJkMjOhnLDK8DIwFvBKcLkxJsFVQQ1QM69IbnOOIF5GbqhfLz+Xn+Mf/6/F/6Yfkw+vX7cv7jATgHPg06EUYSehDsC5IFMf/H+9v8jgESB1YKKwkqBBj9Hfa98abxHfZ3/HoAcAF2/zL85/jG9q/2i/gP+wH9wf1t/Tf9R/3E/Bf7JPnL9+z2mPaO95f5F/tu+gP33PFh7OLnf+TU5ETuMQSqIgw+RkpVQqcrlhGV/2v7HwWRGMYrTjLhJNkH+ecV0ZrIMM372fboBPS39jvx1+gU5KrlD+vs8V/6tATCD0EZox9GIokgIBrWEHoI/gWLCskSkRhMGHIQ/wI18+DlVeCp49vsE/c0/n7/u/oU9BDwsfDM9Mf7dgSgC0cPjA8zDqcL7QjNBmQF8QQVBs8IfAp/CRUGcAGZ+8H1APOm9A35k/16ABcADPwq98/zivNL9u37tQGNBFsDtP+o+x/43faD+Gv7Vv2j/cT8s/rL95P1UfQu8yHyKfJ98mnxW+4x6pHmFekf+CoUuzRpS6tMgTgGG7sEzv4HCD8aSCwdM0om2QcZ5UfNScfiz9Hdcel+737vvulX4ljfOuTB7Qv37P66B5MS0hxDI3EjUh69FpQPPAusDL4TPBv0GwYTvgOK82/nyuLB5aPtkPZ3/Mf7d/Ty7MfrTfC+9h3+cQYfDTAP9g3GC9MJ3ggjCTIJUQl0CsMMrAzKB38Btfzu+MH1MPVk+Gj8Dv6O/IP41vO98d7z8fdZ/AwBWARqA6f+1Pn591X4tvlJ/JD+3f51/fj6SPeK8yHylPLS8vDy9fMr9CTxD+tK5B3hBen9AAMkV0SIU4NKMy5PD37/pATzFhUrHDZWL2wV8/FZ1O3GMcob17jjEuqN6h/oFORs4NjgQeeD8I36WgbkEwcg+iaPJsUeKhRNDQUOCxQsG4Uf2hy/EAv/oO5O5Z7k++mS8FH07/Vl9TPxJutf6mHx0vqWAW4H5g2HEaAQEA1wCW4HggjlCxQODQ7IDZgLSATp+mX1uvUV+RT8Fv5L/v37CPjW82nxLvOp+GL+IwFwAVEBVACM/cL6T/rW+4T9Hf4G/tv8yvo++Df1JvMu89T04PU39bjzKfKG73rrUOdo5Azku+og/UMbMTy8UR5QCjcCFwAFWQm2G8gtoTUrLtwWW/bx1yPHN8jj1DvhfOV45KHj4eJG4MbeD+Oj7c/7IAroF3EjaCkoJ1wd4BJXD/wT1RtBIfwgOhkvCoP4buqe5KDmOuzx7xjwQe9v76Xvie4i72D0BPzoAhQJMA+BE5ATbg9dCroHYAmhDXoQyg8DDCQGmP7L98n1L/gm+1H8Rft7+Nj1tfTy9GX1KvfZ+nn+LgAUAfIBFAEt/kz7QPoH+wn9UP+d/z/9pvkd9lTzdvK/88n1PPae9NXxge4X69PneORL4Vfid+9TC2YvZE0oVzpGuyS1CYAGVBhwLss5fjScH2ABfeLEzOXGBM/Z2oPgJ+Bs4JziMeJy3tHdquXb9NwGPRi4JewrKin6Ht0TDxD2FdkfVSXnIhMZ8glS+cfrm+Vi5vvp2+zg7QvvXfDV7mbq8+m28fr8uQWVDNASTRW8Ed0LmQh/CcANmxKIE1cPGwktAzL86PWt9KL4YPzm+4D5SPfY9X/0h/Q09lL5jP39ADcC8gG1AUkBX/8//fr8Fv6n/l79gvuX+X73hPWO9Pr07/Vq9uv0ZvJV8DLvcu4o7TXrbOjE5FHkEPC+CzAvzUvpVEJGTCjzDiULSxu9LgU2wyzkFnD81+Ma0oXKP80R1X3ardwI4K3kdeXN4RjgC+dB90sL5h3LKZwsOCcXHcMUORTBGqUhhCK0HOoRoAOj9VTrROY35ZHm1+hM6y3u3/Ak8djtj+zH894AMQxtEooVexVZEQsMKAp2DD0QVhKCEA4LfgRB/xL6yfXU9Cr3ufji9zH39PbR9Xf06/RB99L6nf/OAwAFkAPqAUUAS/7o/ZX/mQB5/oL7LPki9wL1/fP185nzF/OC8z3zvfEf8ATvde1F67bpPuj05ubrX/87Hh89r1A1UIM6RR0fDZATPiUEMXguPx96CMvvO9nDyk7IYM8y19naLd7X493moePa31Hk6fKfBncZ3CazLIsqICLHGE0VExnjHpEgSBynE3UHrvlH7TDlduKh49bmnOqO73PziPEj7AzscPTs/uEH3hC6F9kXhBLfDSoMWAxaDlQQbg95C/MGDAGX+e3z7fPG9uL3vPcf+OL32PU69Pr00/f1+0wALQP0A/QDYgNRAZj+0f0L/yr/o/0U/PD6LPlb9gz0a/Oh87jzevNU8x7zX/I+8CjtPeuz6pDpUOcY6If0eA6zLDhE/U1KRgovXheREAgdsS1RMXslBBHw+nrm8tSzym7KS9EB2Knbpd9w5IzlduIa4s/rav50EhAiECoGK7ElqR1yGHcZyB3/H0Ud3xVTC8b+T/Jk6ADjZuKm5HfnMeqy7aLwCvLk8VH0NftvBIMNIhSrF1cXCxRjEIMNFw2xDYMN5wqIBrwBK/yn9oXyiPGZ88H1IveV96z3hvfL92H5I/y7/wYDcwXuBY0E2AJJAV////28/LD7bvpD+WT4E/cw9ZHz2fKk8qvyRfMe89nyQPLi74/sq+pI6qLooObd7tkHtyiiQtdN8EcNM7IaFhA6GScq+TE6KX4UjP2I6V3Yx8t0yDzOctbX26LgR+X35RriyOBp6QT8tRGiIu8qwSqhJb0exBmlGS4duh9cHeYVkAuN/+HyL+jc4fbguOMi55fp/evd7krxevOg9vL8bAUrDrsUwhfRF3sV4xGuDmQNcw3SDBgKPgX5/436DvZF87Py3vP69JP1FvaJ9jn3Xfic+j/96f+TAkUFYQZkBbcD6gG7/9j9Cf0E/On6tvlN+OD14fI78a7xJvMU9I709fPV8Rjwle9+79jtB+ui6B/oi/BmBwUmbT9xS7pHwzSsHCsRIxlRKW0vyCWiElv+qOuA2dfL4sfRzSXWwNua4Jvlgebp4rbha+uv/nkThCKdKSAqBSarH4QaRhqDHeMeFRuBEwkK7P4a8s7me+AI4EzjMueU6hntr+428I/xJfbl/mgJSRF7FdkXsxcIFa0RlA/kDisOwwwUCcYDzv5a+Xf0JPHI8Mrym/WO9zn3t/Yx9yf46/lE/ksDBQZDBt8FnQR8AlEBUQEMAcv/cv5r+6z34/QU9DXzGvI98yD1zPTS8iny5PGp8LTvZ++d71jvLe6h64XqrfQFDikssUJiS5VEwi9/GV0SpBw+KjwraR7BCsv3oOYt1srK9sjdzi3WltwA47znIueh42Xl1fEzBm8ZzyUgKncpUCQcHmUaWhvIHaQcXhcCDz4Frvk/7QXkvN+p4LjjZ+dj6zPx7fMQ8DTunfdSBn0PJRPrFgwZzxV/Ef8PFhBuD4oNdArQBXwCgf5f98jwQe+c8uD1Ofd29/z26PWE9U34Zf21ASIEwwTLBIYEOQRyA1EBC//3/br9rfwX+5f5Mffe83HxLPGU8tbzvfRw9BLyIu917aPtFu4W7rXscelV6GvzHA7ILVxFWU7ARYAuDxhTExYgyC3pLHge9wqa+ETm/dN0yK3HNc4C1d7bguPx5wLlH+Ch4x7zigglG64mcSuyKsMkzx0GGx8dOB+dHPMWXg9sBbH4Y+tP4oHeCODe4yLn3+ip6CrnG+eT7cX5FwXpDDQT6hkyIZAryDI+KtIUewX+BYQKTgp4Brf+9vBm4hndRuAO5gDrr+6P8f/1N/0vAkYCLwIcBuwLPRBTE/wTSg7sA9n6efb39d32SPf69MjwluwS6q7pnOoJ7fHvT/Lm81n0FPQ48hPvD+s26MXpxvYlE0U1Vk/AVd5FDyj4D/sO6B/JL9Qu3B4UCQDzzt44zULEY8ZYz3zYft/J5V3o7uO33oLjyfU7DvIhQCzfLRAqsiIdG/UYUByCII8eTxcFDgEC/fP/5SXeTt0N4djluega6jXrMO1v7xLydvoBChYYXxwvGqgYKRdxE+0QjhFtEsoPdAq3A3D8PPaP8ZDuNO4N8Rv0f/Ty9O/1BvYl9kr5FwAVBk4KgQs6CecFrwN5A9ACmwJlAvn/3vvT9xn1s/Jh8eTxyvKR84LzlPIN8cvvhu+V79fwjfIu80DyAfAR7Q/r7vAcBhokAD1YSfRIfDpWIqoSDRYSJGUqrSHHEA7+FOw72ezJXsVcy73UmduA4SrnCOhK5Erkhu+YA24XwySqKh0rPyceIMkadBpsHRcdfRfRD1IGMPrr7Bfj1t6s37jjO+n87iHyMu+k6nLuVPvRB48OiBMmGC0YbxTEEWARxxCcD+4NFQtmB1YCc/sE9B/wRvAx8uP0Z/c59wL1sPMZ9TP5Gv/0AwUGWgaABpoFvgPgAmUCoQAT/w7+BPyL+Lr1QvSz8inyHvP18+HyrvH28Nrv4u+A8fjyrvF375PtD+tp6ZfxfwmbJ9Q+6km6R1I21x1JEToZDCmaLV0ivQ74+proKtd2ytPHmM6v1o/cvuHv5YTlCuIj5HjxeAYYGhQm6ik9KEsjih0sGx8dOB9kHegX6A9VBU34c+ur4vnfbuL/5fvpE+8K8h3ucelg7//9YAmIDiUT6xbfFS8SYxCZEPUQchAUDkYKLAZwAZT6x/M78UXzMfea+Gf3fPVg9CP0m/Xr+Qv/ogIaBMMEywTlA+ACQgFv/8b+b/8L/3/8Wvm39vXzSvEc8aHzqvVO9WvzWvHV7oztee6V71jvR+1c69XpLe56AOIcGTdwRk5K+j7zJtIURxcZJzgv3CZzFUYCZ+863PPM+cfEzDPUUtlj3t7j2+Sp4GTg3utcAEgUECKCKBspXCVHH4gbwxy/IO0gahs0EyMJIP2O7zflFeFm4rrld+ed52/naenU7Az0W/6ABioMFhBIFM8VoRXXFawUJRMbEdkPeQtkBS4As/r39WPzBPQE9EXzYPR19Wj0f/S09/X7C/8JApUEjQTVA84DUASQAzQDogLp/5b81Pna9/f1KPUG9rL18vQ69CbzafHQ8CzxFfHQ8P7wO/Fd8HXt5OmR5sDo2fo/GnU3OEf8SPM+9SiKFRcVbCV8MkUtFRtcBa7xC98Lz/LHkssw1fXb5d7v4AbhY96E3Srn5vtWEo4hCieXJh0jMx5aG0UdGCIpJA8gGRf3Crf+u/Kp6B7j7uMv6Jfpjudh5H3iMeI05jHyBwBdChIPwxRVJWc0vCnPDa8DnhEYGg0WLxKvC/j6qeg65PTmF+ta8eHyIu8E7+X2O/lR9Lz3YgOLChMMTw8bESgKWQFE/vz+3gARAnb/fvdS8U3wvu6H7F7tLPG78unyf/So85rwEe3H63/see4z8bTvvezX8LkFECWRQCBPRkoSNC8aPxJHH5EwajMAJfMO/viv5vTWOM3Py4vQutUh2jLfGuIb327aWN+x8H0HPxoxJFIm4CI7Hr4b1x1DI54mMSRXHCgSUgbc+cbu2ucG5m/neekN6T/lp+GZ4wfr+PL4+lwFKQ8REn0PhQ90EoYULhVCFiEX9BMzDloG9P6r+iz5XfiQ9i32JfYC9THydPBA8g72bvpE/vIB2AKlAVwAqADQArsEqQUDBFkBPP74+j74zvbx9xz5VfgO9mj0APMF8Qjwe/D+8DPxl/Fp8QTvcOxA6lXoCOjV8W8MryvBQnJIXj9lKnMVtBQfJTg3SjZnJHsNzvbo5drX1dGC08jYGd0g3evcNtsb12PW6t+e9IQK5RjmHRIcYBnRF6UZVCBjKHErTSWYG2gReAY1+w/zufDi7wvvreya6IXi8N3D3/TmVPObAs4L2wl5A1AEkwrcDp0UCRq+GxkXTw+qCtIEvAFB///9av5O/WP7zPS58LnwxfGm9Bj4cv6v/p78a/sX+2L+RQBQBAAFXwRyA+z+kftv90b4l/kw+gD7dPh59pzyyPCa8JLwA/Lk8XbyJPHv7Q/rb+fJ5VblG+/WCAonqT1DQ2c85yrNFuYVpiZLO0g8xCmLEg/7q+r63HzYa9u/3qzfRdtL2ZHWCNPx0sTcgPHDBFQQ/BNqE3QSThJ9FxMhRip7LWYnSh5IFCULHQMg/WP7j/nO9vbweekX407d8tzV4Rfrcvby/Kf+9fs//bgIfxmxJbQhYRbCD9kPvBHlEHUPwQqbApT67Pa99HHxFu6y7a7xDva9+XH5xvbM9AP3lvwBAsUGnAcABWMAKv+G/yL/wf3H+4L7yvph+ZD2a/ON8gry+PJH9f/1D/Oq7ZnrcOwC7evsD+vk6ZHrrvmGFKYuuj9ZPowvVhqiEhUjvTa4PXAulhnkBgb2Y+vw4pzinOKD4HzdlNqF2pTVadGr1TTm8/lcBdsJfwmOCdAKFBFfHLEl8il4Jh4gvBmLEvEM+AccBlAEMf+m+eTxAOtR5CHi7Oka8o73FvZw9NH1//UP+ygCKAphDrgNWg7SDLcL4AqJC3YMOQxnDOYIQQQa/9H97fv7+fD6TPvh+oH26PXJ9Tf1RPap+P37K/yO/Bv8LvvF+SH66fqo+8H9Dv4Y/Vr5H/iD+MP36vcx96r1nPL572HxFfE07kjqR+UJ5bfuVAhaI2wyUzNlKlAcPRAbGeMupj4RN6IipRGOAWL2ee6g7qzvFOxQ5xXhDNw81qzSXtXQ4I7vq/rJ/Rv8v/sW/v4FIxG7HA4j4iFfHIwXXBUqFCwTfxEWEKALFwX3/S32yPAM7LXsZ+9x8TXzFfEd7rjrafElAy0QsBA2BSD9GAKPBngO2xGLEooNzgOvAwsEcwWOAZj+kP6G/54Bef59+jf10fUB+Kj7Of/3/SH6mfOh84b3X/pf+mz4Z/fs9pj2GvdB9zn38feL+Nn6Y/tV+M/zNvCf8Y3ycfEY8HztLe5v91gMqSUGM70uBR7PDasPICLKND83MikTGVYK9/0++Hv4M/nW83PrUOee5BDgIdpn1+PcvOca8t32cvbb9DD1ePlnBEkRaBnbGUUVQxMlE+IU8xbzFlwVlhFNDYoIwQLg/RL6xvZ59gj4Q/lI92vz7PG58JTytPfy/IH+2/zM/Fv+nf/qARUG4QceCJQH0QfhBywGJAaDBbYGwgcpB28EggC0/w7+o/3M/PL8/fts+Dn3PPbl9oz1d/QU9M/zf/Q/9a/2Gvcx91D3SPes9wj4dPg599j1KPXR9U716fIY8NTsvu5//OcSjyYdK9shFxW3C60RKSQ5NJw0WiO+E7AImwKhAKgAuAB4+RXxqOvI6PXjzt6b3dXh++ni7zjyC++97L7uN/Xp/7wJ8A8pDzQLXQr9De8SeBarF6YWJRMpDz4NLAvCBzEElgEEAeX+QvzX+G31qPNP8orzm/V7+Az8vwC5AjD9o/Xs9qgA6wYmCNkHOwbPAFn8qAB4BqgIsweaBRMErQGTArkCsABrAHoAGwE0/jL8s/qv9ln0vfRB9932vfTw8hLyO/FP8jD1W/aj9T3zHvPW8+bzI/TC8mbytvHQ8MXxu/o+DRshoCizH60RGAqLElckWDFvMa8j7hVnDHIIFAnECaMHE/889inymvAz7CDlp+Ec5KfpIO1E7iPsdOid51HsMfe4AFgEFgPHAC8CgAaNDBsRBhMlE4cRxxAyESsRXg9fDF0KCQqWCfAHmgVtAr7+Jvtc+xH9IP37+XL2GfVR9F71KvfX+Mj4nfcF+en68vz3/TH/sAB/AXYEIQfCB9cFrARKBpcGAgcSByQGBgPS/5X/8f/O/o78OPoB+Hz1o/W+9lP2sPMK8rvywvKU8uny2fJI8hzxs/I69EXzO/FY73TwZ/czBsoX8x7UFucKAgfzDtoctSZRKYYhKxa6DysO5RByEPkMbgelATH/Cf0s+Ujy1OwE7EHvV/Kz8p3vkOnW5jPpwPCs91r5ufi+9n73wvr5/6wEcQamBkcHjgn8CzYNWAxiCzQLKgxxDmkOAA0/CugHRAhECCYIaQYtAzIBYv7E/Lz81vuU+uL3t/Z+9xr37PaY9gv3hvdd+G764/zg/dH9Lf5f/8wBmwIlA6cDyQIdA6oCkANiA7wBcwDs/pD+Dv6q/QH9TPuI+an4dPjL9zn3gfZ59rL1R/Ud9pj2Lfa99CP0pvQF+ToBJQshD8EKNgU0A0wIRw+sFPMW/BMeEMsMKgz5DCcNxgsjCUcHnwYkBvcCcv7h+qb52fq4+wz8tvmq9cLyffJH9Wf3EPhf91P2W/ad96b5VPsU/FH80f3a//oBBgPQArkC2AJ+BHEGswcHCKYGvQYPCGgJaAmjB9QGaQaKBcMEbwQiBCgC2v/V/pj+o/06/FT7ffqA+dD4UvmX+fb4ufjk+Zn7UfyO/Df9S/7V/mf/vwC1AY4B3gArAeMB0wF3AUIB7QAPADn/hv+0/xr/Bv6q/br9jP1H/Rj9Ef2t/J78Af0//Rj9cPwj/Fn8UfwJ/c7+xwAgAkYCkwJqA6ADgQPlAwgFUgZaBp8GeAaxBekElQTaBNoEZwQ5BOUD/wIRApYBUQHWAA8Aw/+k/93+Fv4w/dP8Wfz1++37v/t6+2P7kfsE/H/88vyb/Tz+oP45/53/XACwAO0AYAHyAWUCfAJGAkYCPwJOAk4CPwIYAswBYAEUAf0AsAA9AKT/jf9+/2f/SP8i//T+3f7O/gv/Of8q/zn/WP+G/43/tP/a/9r/u//D/+n/6f/S/37/lf9n/53/nf/L/7T/Z/9Q/1D/jf9v/37/WP9n/2//dv9n/2//Of8L/zH/WP92/yr/C//0/vT+9P5Q/x4AggBrAFwAXAB6AMcA9QBRAbwBzAGWAcwB+gH6AcQBpQHEAQkC4wHjAcQBdwEjAeYA1gDPAHoADwC0/2f/Iv8D/yL/WP9n/5X/u//i/8v/lf9Y/2f/dv/D/wAAAADa/7T/pP+k/7T/w//a/+L/4v/x//H/6f/a/8P/y//a/+n/FwAmAOn/4v/i/+n/4v/i/+n/6f/p//H/AADp/+L/w//a/+L/6f/a/9r/0v+0/6z/pP+N/37/hv9v/2//Z/9v/1D/UP8x/zH/UP9I/0H/Kv8L/yL/Iv9I/37/rP/i//H/BwAHAFQAawCoALgA3gDmAPUAIwErASMBMgErARsBMgFJAUIBGwEUAfUA5gDWAN4AsACwAKgAigBzAFwATAAXAOn/4v/i/+L/y/+s/43/dv9n/2//X/9v/1j/X/9v/2f/Z/9v/2f/fv+V/7v/y//i/+L/6f/p//H/BwAPADUAHgAuAFQAPQAXADUAVABcAD0AawAmAFQATAAXAA8ABwAHAPn/+f/i/+n/w/+7/8v/rP+s/6T/nf+N/43/hv92/4b/jf+G/6T/fv+d/53/pP+k/6z/w//L/9L/0v/p/+L/8f/p/+L/4v/x/wAA+f8HAAcAAAAAAPn/FwAXAAcAFwAPABcAHgAXAC4ALgBFAEwAVABcAFwAXABcAFwAXABcAFwAXABjAFwAXABcAFwAXABcAFwAXABcAGMARQBMAGMANQAeAB4AJgAHAAAA6f/x/+L/4v/S/9L/0v/L/8v/y/+0/6z/rP+d/6T/pP+0/2//lf/a/9r/rP+0/7T/rP+G/43/w//p//n/6f/a/7v/w/+k/53/0v/S//n/+f/L/9r/0v/i/7T/4v/D/9L/0v/a/8v/0v+7/6z/pP+s/7v/2v/i/+L/4v/a/+L/4v/p//n/HgBjAFQAYwBcAGMAcwCZAJkAuAC/AL8A1gDWANYA3gDHAM8AxwC/AJkAvwCwAIoAmQCCAHoATABrADUATAAeACYADwD5/+L/w//D/8v/w//D/7T/nf+V/4b/hv9+/4b/hv+d/5X/pP+s/7v/u//L/9r/0v/p/+L/6f/p//H/AAAHAAAABwAAAAAA+f8PABcADwAHAPn/6f/p/+L/4v/i/+L/2v/D/8P/u/+s/6T/nf+G/53/lf+N/5X/jf+V/53/nf9+/6z/pP+s/6T/w//i//H/4v8PACYANQBjAFwAXABcAGsAegB6AIoAqAC/ALgAmQCoAJkAoQChAJkAmQChAKEAigCRAJEAkQB6AHoAYwBjAD0AHgAuAAAADwD5//n/4v/i/9L/w//a/8v/nf+0/53/pP+k/6T/nf+d/6T/jf+k/6z/rP/D/9L/0v/D/+L/y//S/8P/2v/L/+L/4v/i/+n/4v/p/+L/6f/p/+L/4v/a/8v/0v+0/7v/w//a/9L/w/+k/6z/rP+k/6z/u//D/7v/tP/D/7v/w//D/+L/4v/x/+L/+f8PAD0APQBFAGMAVABcAFwAegC/ANYAzwCRAHMAuADHAN4A1gDWALAAvwC4AHoAmQC/AKEAkQBzAEwANQBrADUATABjAEwADwDp/9L/y//i/9L/4v/D/6z/hv92/4b/pP/D/53/jf9+/43/lf+s/7T/6f/a/9L/tP/D/6T/y//i//n/+f/S/8v/6f/a/1wAHgBMAMv/pP9+/1//jf9UAEwA6f/x/2f/C/9+/y4AAAAuAIoArP9n/3b/lf9v//n/TAAAAPn/+f+0/2//2v8mAA8AJgAmAPn/8f8XAGsAggDPALgAegBUAGMAegC/AN4A1gC/AB4AUP/WAFwAtQEvAlkBAADL/wcAdv89AGgBSP9MAFQAegDp/5EAAABf/z0A3gCN/0wA+f/S/9X+2v/PAHoAVAAAAL7+Of81AIoAAAAHAAAAWP92/+n/DwBUAHMANQDx/wAAAADa/wAA6f8uAKEA1gDeALgANQBMAHoAigAmAB4A0v9I//T+Of9Y/8P/2v9Q/93+Iv9v/2//X/9I/1//b/9v/2f/Z/9v/7v/6f/i/wAALgAAAPn/XACRANYA/QDtANYAxwDWAFQAuAArARsBxwC3/sH9YAHuBdQO1RPnCsMErQG0/4wHTgrDBE79+Poj/Az8PQAXAGn5n/kM/PX7Xv3e+1L5AvrG/r4DogKn/oL7Rfv0/qICUARbA0IBdwF0ArkCwQIRAuMBbQLdA40EogJjAAP/WP8MAfIBqADv/WD8h/z6/Iz9rfwX+436hfoh+kP5ufix+Hj52foH+4X6JPm89z74cfmc+ib76fqN+pT6LvvK+pT6AvrN+SH6V/rU+Xv4Yfnj/NYAAwTaBKEFjAeqCmwNOw72DYAOIxFaE6URQA+NDJgLoAtaC9sJiAaYAysBlf+3/tv8TPtS+Tb4dvfO9nX1mfNU8xT0jPXV9r72Dvbo9dX2i/g4+nP7lvzO/hgC7AP0Aw4DFwVyCNgKpwt8ChgKogoLDHYMQwv+ClkJNQjkBhUGtAQoAkkB7QAEASr/z/u2+cj4xfn7+ab5QfeQ9hP3pffL93b32vcY+Jf5QPqP+fb4yPjr+Qf7lvzM/Lj7s/pP+jD6Avpp+d/4NviV95v1jfII8Abu7O4y9Iz9dQcsC8QJgAa5BUsL+RSaHTAf9xrkFs8VoxcFFlERig2hDfgPbA1KBrr9yPjU+TD9u/+M/ZL4NfPi74bvd++878PvufCN8i7zs/IN8ZLw+PLx95v95gClAdYABAEWAyQGKwlWChULWguQCxoMeQssC+AKAwwNDoMN3QsWCHMFxgNEA00F4Ao7DgIHAvoE9NL6dALTAXr7RfPb9HH58PpZ9IPwyfVr+2ABw/+w+034dvoBArQE5AZNBZgD3gCV/xcARP4O/rL9W/4o/WP7g/iW9MfzhPV290H3P/Uu86nwne/G7kft3usS6oLr6fIAADQLAwziBDcC0AoLHNknSibuHfwY2hyzH4Yc9BNkDWkOIxEMEZkIvv7u+Gn5mP4yAQv/E/f573jsveyj7TPsQOrz6cTsVfAs8RDwne818wr6VADvAuoBGwHMAbsEVAjgCjEMMQxvDMsMBQ4cDs8NsQ1xDtEP+w6sDDUIwwQ0A0gEtgYzBm0Csv0P+5H7Hvuk+gX5Z/ci93n2ZfVz88fzS/bI+KX8//2Y/iX+AACEAjkE1wXIBVUFXwS+A0YCy/++/tj9//0g/RT8vfln99X2PPaq9ebzjfKm8ZLwy+8Z7WPrSOrs6YDp6eqN8mr+LwofDToJPQieEVojLi3TKfAfFRu1HqsfkxpjEJALkg26D3sN2gS6/fP5uPvG/rL9Pvgq7wPqAehp6cXpg+hd6L7p6O0F8cLyx/Po9cr60v9qAzwDngF/AacDggjdC1UNRQ3IDasP3hB3ESYQAg94DuYNIgyUB3IDPQBB/zH/PP4B/Tf9vAGWAdP8p/ZK+RP/FAHY/Qn1X/IC9Yj5M/m69Yj5d/yTAmIDiQN/AYsC+AcjCWAJbwSqApkAGwE3Akj/X//q/Hz92frF+Qj44/St9GvztfTF8Y7vGe3U7EnvH/As8dXu6O1R7N7rkO6j9SACAwwwD6cLIgxbGMEqSDSDLdMh7BtHHwofphZaC8gFzwg/CjsGAf3G9vT22fpe/e74dPDL573kFuZk6A3pL+gk6ZbsYfGM9T74Hvv8/rcD8wbzBgAFWwOhBVEJEA0kDnMN1w3rDs4QFBFjEKYOIgzECecFTgKg/ln8Y/vZ+pT6iPm9+c/74P0J/bv6sPsa/6z/tfwf+Lz38Pr//Qb+BPxl/c8ARAOdBHYEbwSvAycF1wXaBD8CYwD9AC8CHQOOAbT/Dv7R/WX9z/t2+gj4//V39HD0OvQH89LyevPj9DD1xPQr9PXzYPTm8y7z1fF78N3u5e6y9XcBwA1EEJoNlA+DHZkw3jUsK58bOxaiGtsZchC5Agn90v+EAmMAafnJ9XL2OPoh+mD0VOvM5PLkqei469bru+oo7ZzyV/omAFMD2gTQBZEIIAoBCkAHwAV9B4sK6QxYDAYLagtzDRYQTw8TDJ8G2AJwARQBMf9z+3H5n/kE/Lr9Af16+2763vvT/GP7qfgO9lv21/hz+0L8pfyB/swBNgX7BnUHjwYsBhwGBQYXBUQDrQFRATcCsgJlArAAjf8T/6/+Xv27+uL3qvWO9H/0aPTP8z3z7fNH9YH2JfZO9eP04/Tb9HPz5PHA8BDwb+937+bzFv7TCSYQug/EEUoevzD8OJsv+h4ZF6IafhyqEnIDtvlP+pP9Ef2x+I70MvQG9kv2IfKr6hnlAuXf6Irrs+o76fXrqPPy/AMEOAfoB6gI9wpDDvMOlQz9CDUIIAoqDPQL2Ao0CzYNtg5sDUIJ8QQBAmgBpP9C/Eb4GvcI+Lb5KfrS+rj7UfzW+9L6pPou+5z6vfmI+Uz7MP0x/xQBPANsBTAHTAgWCHUHLAZFBXYE9wJoAfH/0v9zAGMAu//O/jT+bf0r/Gb6TfhL9tv0OvTm8+3z3vNo9Jv1cva39nL2kPb89qf2dfVU873xqfDi73TwyfW0//oJBQ4HEG4XlCemNq42fykiHOMZBR7yGQMMDPzU9AP3jfpH+rr1EvJI8tv0m/Xz8aHrd+fq5wPqQOoV6cXpIu/a95EAyAXoBzoJOQyREB0TIxF2DLAIkQhtCksLhAoMCRsJXQqnCxULLQhBBO0AJf5c+5X3kfNK8Vrx+PKO9E71kPYH+2UC1AZSBhMEGQfBCh8NYwjyATUAUQHYAiMB3f5B/6D+/QBlAigCDAHD/8P/nf/0/h3+Cf1J/Lz8h/zj/NP8z/uU+rP6ivtX+ob3fPU/9Rb24PVg9JHzOvS69Zj23fZi9mX1BPS78njx0PB/9If8mgWiCsAN8RS+I9gyQjbSLOUg2hy6HxAd5RBn/0n0RfOn9rz3d/Qv8ATvvfEo9dH15PF/7Gnp++mZ68/rB+sg7UXzsPuTAjMGIwk5DL8QMRQxFO0QSAzqCfIJuQqeCfMG+QSKBQ8IhwmCCFUF2wGk/5v9TPvL91H01fGA8UzzU/bS+t3+egCCAK8DMgkDDFQIzwBW/cv/uQJZAaX8Y/tT/mUC7gUsBo0E0AKiAi0DbQJI/0X7gPlP+pn7FPwM/PL8av4q/9L/rP+b/Qf7LPkF+YP4efam9Nv0SPdS+VL5Dflp+UD6s/qX+bT34/T78drv3e4D8g35YAH7BskK+hHwH8gt6jGLKnogpByaHT8anA8jAXL2evM39Qv3BvYH8yzxyvJE9k34RPYz8absJusE7KrtHe6g7vPxGPiG/zYF3giJC64OjhFlEoIQ+QzyCUwIJgjRBxUGfgQ5BNAFswf4B6YG8QRbA9sBJgCg/sz8R/oQ+Av32vep+AX5LPnF+VT7YPwo/f/9W/6g/gv/2v8jASgC0AKgA+kE/gUVBoMFCAWkBOUDogI6Afn/A/9i/g7+k/3T/L/74frw+tL6GfqL+F/3E/dB91D3kPb/9Q72W/bV9sb2vvan9iX2wfWt9EXztvG28Qb29P5uB74LiA7uFWcksDDWMPom+RyQG88dmRinCwT8ofMy9Bb2efaw83vwOe/u8NT0b/dO9Xfv6eqh6yLv1fEz8cjwK/R9+rwBEgcBCrcLzw09EGgRNRAIDa0JDwgWCIUHFQbiBDkEnQR7BT4FdgTJAr8AUP8G/ij9mftS+QH4CPha+Sb7K/xR/Dr8fP3p/zoBqAAD/zz+lf/mADoB1gAEARECcgN+BAgFZwREA6oCdALEAXoA3f6T/ar9wf1H/fL8OvwM/PX7kfsX+5f5Afis93b3Qffd9gb2W/Zn97T3w/d29yr33fb/9X/0A/Jb7vrsOPLG/lgMUhavG+cijy5TOG03mCvtGC0QRQ3UBiv8tewo5Qnl+ef960vuM/EA8wn1Bfnj/FH8J/hw9Hz1Yfk3/fH/rQHXBTkMxBEXFeQT6A+3C/gHKgQx/9T5o/XE9JD2gPlC/B3+7P4HAKEAmQD8/gT8APtj+/r8b/8JAk0FWwgdCzsOpxMyGeEX7AuVBKcDFAEw+mXtnef46pPt9vCN8l71AvpH/QECaQbIBdoEGgR2BK4Gegj1CJkIgAbABXEGWARB/xj4B/Pc8Qjwee7R7RPvX/KM9f74I/xo/Ez75PmS+Kz3wfW78hzxvO+37qrtk+1E9igKdCLSNNg6lTzcQ/lJWkM5LIgOM/mm7J/h/9W1zIXKSc+/1mTgIep377Hw1fG39s7+rASMB9AKfBLIHfgnVyy5Kpol4x4ZF+kMnf8x8t3m6t8H3gHg9ePa59brLPH596P9TAAmAB4APwIkBpMKUg6lEfkU8hm9HgofWBlgEdMJogLK+vvxc+sY6KXn++lq7uHy1fau+bX8dv/qAYkDUARBBBwGIAofDRQObA2JC0kJ7gVZAc/72PUS8qLwyPA180v2O/nE/PH/ogL0Aw4DzwBy/q38VPtS+Rr3Jfbd9nv4n/kV+R/4C/c39aHznPJ48VDv5utS6a3svfmXDmUiATKCPS5F6kl4Rj46QiZqC3by0OBb1uLPMcqqyAvPMdpq5sPvQvRq9q755f5FBQ4Low8XFSIc+yPYKtosuiexHZsSnAe4+zTuOOKk2i/Ys9o04YvoZ++M9f37TgJhBsIH+AcPCOoJqQ08E5YZzx2eHnsdfBqNFLkKhP2p8KjmouAE33TgQuSz6pHz8vyGBDIJPAv+CsQJ7QiKCPAH6wbfBQ0GiAapBf8Ccv4c+cT0xfEn8Ivw3vPf+Nv8GAKhCDwLEwzMCWwFiwIY/er3MPW78hLyv/PJ9Ub4+/kw+tT57vj09o704fJh8Urxl/GD8GzwefbaBAoX0iTrLmA5g0LVQxM5SSnwF1AEZPC33v3TKs9WzSLPTtXt3pDpj/H09gD79QD/BxcNIxHmFTEc8iGVJJUkdyHnGvUQXAVP+mDvsuUb3/Xb49wS4tDoAfDV9pv9pwNMCKoKvgu7DKkNpg5yEHARpRHtEGkOYgu2BjIBJgDVA8wBp/aC8+z2Bfmf+SbzEPDe8w72Q/n9+4f8Hf7bAYMFuAiQCw4LggjnBX4EQwaDBT0AmftH+un6BPyr+lX4p/Yl9jb4Cvrw+vj6+/l9+kz7d/xt/Rv8Ifo++Mj4vfmS+Jj2/fOR88/zu/K073bqJOmF8sgFNxoALVw9o0d9TAtJwD1ALDcSpvRw3L/OPsjRxdHFNstJ16rlhfLS+q/+rQE+BSAK6A9KFpAbFiBQJMknfylIJBYYhwkX+4HuD+Mp2ijV+tQp2vDiU+4F+dYACgfnCnMN+w5HD8UOwA0cDnIQkBPNFs4YZheZEHUHC//V9v/tP+XD3xDghOXR7aD2Fv5+BOMJEA1DDssMSQmpBRYDdAJyA8sEuwREAwkCRQAG/k/6TvXc8ZLwIfL/9dL6BwBfBLMHvAnTCbMHtwNq/jv5JfaM9Zv1MPXY9QH4nPqW/C3+U/6O/Kb5GvdZ9AryePE+8CXuR+0O7qf2Bwj/Fz4lfDLAPQhFdEKKNekkERJe/e7oJNmOzzPMfc0G0WnZcORT7sb2BPwMAUcHdgxCEdcVqhp1H5sikCNMIDcavBGSBc35k+0F5PTeXNvj3P7g9ujC8oX6dwECBxULHA6XDisOtg6MDxgSdhRZFroXexV9D/MGt/5l9QzsVuW54CTh/+WM7cb2/P4VBtULGQ//D48OPAtXBzEEmwLjAa0BHgBi/rz8hfqD+Pf1a/ON8qjzCPgt/jcCtgb3Cn4MwwxtCk0Fhv8z+UL0+/Fa8Vfy+vRi9hD4mfsR/U790/xA+h/4JfZC9J70f/QD8k3w5e6k8qUBkxK9Hpoq9TUbQeZFEjwYKhwWyQLu8GffO9FnygjLrc8v2KTiWewG9pb8QgFuB5UMfxGxFd4Ymh2tIeAixyB8Gs4QLAaF+uXuTuVT3unaQtxp4e7ohfIA++oBBwjdC/MORBBHD70OQw4ZD1sQ8A87DqcLBAlRCbkKPANB9ynyfO1z6+PsNevE7M3xUvlJAfMG6gldCi8K1gj9CKgIJwXQAjIBAAAyAfUAgf56+/n3p/Yi9872pfeL+ED6av68AbQEwAUDBH8Bif79+1r5Tfhq9tT0hPWj9T748/lh+UP5jvct9tH1QvTu8Ljrjufw6vP57g1dIug3KknqUbJP20FWL6gY4/x54bDLkMGzwqrIL9Dk2ZPll/HS+j0A4AKhBSMJgA61Fk8fpiaTKvIpKyb9HToRrQHI8DjiL9j1017VLtv949HtL/i1Ab8I8QzXDXMNuwzaDFoO+A+eET8ShxGoEF4Pxgv8A7/7WfTV7p7s7eut7KzvcPQX++0ArATUBjgHgAahBfkEWAQTBIEDsgKyArkCfwGG/wT8kvj89mL2zvZV+Gb67/25AjAHoQhbCPsGUwNUACD9ZvpK+cP3Ofcv+ML6Vv3v/eP88Pop+tz5T/rm+xv8d/wl/vz+xv7E/HT4NfM37TvpAei26T3z/wKTEgQhcC5QPOtG2kS7NAIfBgu7+u3rEd370RPPH9Mf2+bjZup372vz9PaW/OwDSwtGErMXuB0pJLonJCY7HgkSCAUc+c7u1ubf4GreVeD35djtuvXt+9r/ZQLiBLoHyQqNDJoNGQ8rEUsTSxP4D5sKgAb7Bo8Gzv50+Pf1a/Mb9D3zvfGU8lzzb/fe+6D+YAGJA34EPgVECH8JuAjNBksDEQIbAUj/ef41+4P4n/m9+cL6I/yK+0n8vPyj/Rr/hv/p/0UALgAa/0v+fP3w+lr54vfG9rf22PVE9ir3dvc++N/43/jd9j3zZ+9o7MbuyvrsC0Mb2SfDNFdE80uiQhQuNhU1ADnvv95p0ZzKcMyH1PfdxuYb7+j1ufjp+g8ADwjeEE8XwxxLI4koOin0I/wYJQuW/FDvweXD3z/dPN6N4sXpX/Iw+lj/NwK+A4oFkQjdC+QO0xETFHAWghhRGXUXZg8TBPj6VPOE7WnpMudV6Drs8PJ9+kUAAwQ7Bs0GvQZ9B3II+AfNBsAFgwUFBoYEcAFZ/Fj3tfS78i7zP/UI+Dr8DwDGA/MGBwjKBy4F+gEq/4z9OvzH+6H7OPpK+ZL4pfc599H1wfWG9xX5qPs//br9uv3b/CP8gPl39LTvq+rI6MntNfusDF0avSZQNB1Dw0kjPh4oNRBy/nby8uRS2bvSUdTA2xLipeft67fuXfDS8oX6kgWwEMQZ+B8NJgkqdymiIooVAgem+X7vQ+lO5a3kLebX6LLthfLs9nj5T/rm+0H/EAWYC5YR/RWgGOIcqCBHHxQWrQkD/+D1Se+76gHonedX6mTwr/aZ+4b/lgEJAuAC5wUrCQYLWgsOC0YKkQixBWABNfuM9ZTySPIb9Dz2gPme/DH/DgPXBc0GiAZIBLUB2v9Q/37/A/9b/tP8s/oI+Hz11vNu8jjyz/Mx97/7Kv8rASsBlf++/uP8ePm99Kzvpuz46hbuhfqQC10arCSSLYY5IkF0OjgnehC0/+/1eOyU4jrcf9ya4KHjP+Xx5x7rrewL7y32iwJEEFYaNSAiJBwmwyQkHrISpgbe+/3zb+9H7RntKO0g7YTt1e4s8VTzVvWx+Pf9RQVFDcYTBxiGGdYYxRYREs4LYwi6B7QEdf239pnz7PE28Inuo+0G7ojxL/jY/RgC7gXeCOMJ4wkdC5AL1gh7BS0DlgHL/+j9ivtd+OD1qvXG9sj4B/vy/C3+7P7PAMECNANOAlQAU/6e/Az8evv7+f74PvgB+H73p/a39jz2W/al99D4dvqN+tr3jfLm6+Lna+tu+oAOuh/JL79AWU6NTPw4NSBOCkD6j+wY4KfZEtq831nkM+QH4wDjPeP940vpYvZPB4cW2yFGKlYvgC5PJ+8awwzeAIP4kfNp8e7wHPHa71btPeuu6XnpQOpe7Zb0mP68CUMTKhkSHOIckh1XHDAXJhAmCGMA1vuS+Fb1afGM7fXrOuwO7inyHfbN+cn99wJbCEgMWg4NDt0L9QhKBgsEUQF5/or7j/nX+JL4DflD+Vr5Avr4+j/9LgBGAlsDvgOgA+8CRgK/AP/90vpI93z1TvWb9e/1wfUW9gv3JPnK+rP6xfkN+f74Rvhi9jXzPO4K6mXtd/wMEZMiKC/7O+NGs0QNMywbHgh3/DXzIep/5Jbkd+cy5zjiKN2Z23/cb99n5x32Ywj4F50hxSZrKP0ltR7aFAMMOwb3AlQAS/46/Nf4F/PW63XlZuJU4+Xm2+z69EH/IwnKDw4TUBSmFm8ZjhlhFmAR0gz6CbkFu//++CHy6O3966HrZe2x8NT0ufiH/CMBsQVbCFEJGwkMCaUJbQqWCc0G4AIT/+b7vfkY+Av3Hfb39VD3AvoR/VD/oQD1ACsBdwErAZkAtP8O/kn8NfvC+kD6ufhL9tbzjfIu8+v0r/a897H4O/kQ+Nv0+e/K6kPpBfGBA7AYiSicNIFAOEcRP2gp9xKVBOj9Pvi98cHtKO1/7DTmz9t41BfTY9Z/3GTojfrLDLUZER+6H54erxs4FxgSvQ4SD0wQQA9tCgYDwvo78Z3nNOFN4ObjGurX8MP3cv5yAzMGqwdTC7wRjxaFF3gWyxT3EiEPTAi/AFr5h/SF8mHxafGr8hv0VvUl9j74qPuJ/gwBtwOfBnAJ0AqbCkkJ3AZ5A5EARP5//Af7T/rz+Xj5j/kS+pT6+PpJ/Gr+NQBwAXABKwFjAIH+d/xX+qn4b/fO9nn22PWM9cn1kPZI9/H3EPiv9tv0pPLi7zDtqu12920KZxy6J5QvBziVPEsz2R+UD4oIGQdbA3f8Kvc184ztqeN82ADTntQa2r7h4+xr+7gI/w/HEJwPbg/8EHkT8RS9FscYOhkkFg0OSASh+5HzXu2F6pnrG+8x8orzQvQJ9WL2l/kx/4AGXA0BEo0U1RNZEUMOVgosBoQCawCk/3L+tfyU+vH3XvWR897zDvY7+er8LgBOAq8DdgS+A+ACFgNLA9ACfALgArICYAFf/578QPrX+ND4l/nZ+gn9Mf8eAHb/Lf58/Y785vtC/Mz8MP1Z/Hb6RvgG9lb1ZfVO9ZP1PPZL9uv0V/Jn7zrsqOsp8vIB2hQqIX0nyiyDMgkyiiUZFzUQLRDHEGILOQTB/RH1Iero3YHW/NaK2wrimuju8Pv5Z/+hAB4A2wGmBjYNYhNjGNUbAxyCGEYSDguhBe0AXv1j+5z6hfoF+ej1q/L575rwqvWK+8P/KAIqBB8FfgRvBGwFDQZSBtwGVwchB/4F1QO/ABj9D/uC+6X80f3d/m//vv6j/Yf8vPyb/fz+cwBUAKgASQEUAdr/4P1//Jb8tfxt/Wr+9P4q/zz+2/wj/BT8cPzj/Bj9Ef3j/IL7n/kf+Ej3C/cL9+r33/h7+M72YPRI8gXxd+/V7pfx5vvVC5kYPh2xHRMhiiV0Io4Z/BP2FXcZKxYUDo8Gfv/G9ubrpuRw5MvnnOpr65bsne/N8Ujyq/Lo9Yf8oAMECVAM1A56EMoPew0GC6oKvgsLDHwK/wc2BS8Cif4X+0r5O/kX+zT+XAAL/0n8Zvoz+Xj5ivtY/5sCPAOqAvIB7QBMAMv/TAAjAQkCWwPOAzwDIAKhAKz/Mf9I/yYAaAFoAd4AFwCY/m39OvzW+1n8zPyq/f/94P1H/TL8uPve+6X8yf23/m//b/++/m39aPxJ/EL8K/zm+5H7kfuC+zX7Ifq5+EH3DvbR9dH10fUW9l34Lf5cBW0KGgzdC1wNERLzFlsYHBYOE44Rwg/SDOMJswfSBDUAwvp+9zz2yfXj9FTzQPKz8mPz6/T39dP3Avqh+3X9YAFf/+0AKAJcBe4FigUpBz0ITwe2BhkH/wfwBw8IJggCB5AD7QCG/1//E//d/kv+IP01+9z5n/kw+tn6uPsj/AH9fP00/gP/Z/81AKgASQHyAZMCBgPYAgkCWQFrAGMADwBMAMv/y//V/kT+8vwB/Zb8N/13/Hz94/yOAa75rfyo++b7S/5f+t3+kP7q/FH8aPxR/Dr8vAFgAaD+P/1t/c7+N/3j/Ej/oQC7/8wBMQTLBEgEPAMGA6oCWAQZB7gIMgkeCIAG5QMgAjcCJQPDBMsE6QSN/87+BwAU/GX96f/i/5j+if68/G39Qvy+/nX9FgOt/Dz+4P1W/TIBXv3WAAP/TABt/fn/3gB2/zoBpP9JAXL+3gBFACsBFwCKACYA0v/S/1wANQAmANL/0v8T/6T/2v9MAAAA8f+7/4b/dv+V//H/RQAuAPn/u/+d/+n/6f9jAC4AVAAXAAAA6f/a//H/BwAHAPH/AADx/+L/4v/i/+L/2v+7/8P/u//i/8v/0v/p/9L/2v/S/+L/AAAuAFwAXABcAFwAXABcAHoAmQCRAHoAmQCCAHoAcwB6AGsAXABcAGMAYwBMABcARQA9AEUARQBjAFwAVAAXACYAVABrAD0ARQBjACYALgAAABcAAAD5/wAA6f8PAPn/AAD5/+n/6f/i/+n/4v/5//n/6f/5/8P/6f/S//H/2v8AAPH/6f/S/+L/HgAHAPn/BwAPAPn/4v/i/wcAAAD5/+n/2v/L/+n/4v/i/9r/4v/a/+n/4v/S/+n/2v/S/9L/2v/a/wcAAAAHAPn/8f/5/9r/DwAHAC4ADwAmAPn/+f/x/wAABwAeAB4AJgAHABcADwAmAB4AJgA1AD0ADwAeACYARQBFAD0AJgA1AB4AFwAmABcANQAAAEUABwAAAA8AAAAXAA8AFwAHAA8AFwAHAPn/8f/5//H/AADx/wcA6f8XAPH/AAAHAAAAAAAPAPn/6f8AABcAHgAuADUABwAAAOL/AADx/wcADwAXAPn/8f/p//H/8f8PAAcA6f/5/wcA8f8HAOL/6f/x/wcA+f/x//n/AAAAAOn/AADp/wAA+f/5/wAA+f/x/wAA4v/p//H/+f/x//n/+f/5/w8ADwAHAA8ADwDx/w8AFwAHAAcABwAPABcAAAD5/wAAAAAAAAcA+f/5/wAA+f8AAAAA+f8HAAAABwD5/wAAAADp/+n/+f8AAOn/6f/5/wAA+f/5//H/BwDi/wAA+f/x/+L/8f/5/wAAAAD5//n/8f/p/wAAAADp/+n/8f/p/+n/4v/p//H/AADp/+n/4v/p//H/8f8PAAAABwAAAAAABwAHAAcA+f8AAAcA+f8AAPH/+f8AAPn/+f/p//H/+f/x//H/+f8HAAAA+f8HAA8A4v/p/+n/+f/x//n/+f8AAOn/6f/p/+n/6f/p/wAA6f/p/+n/6f/5//H/4v/i/+n/BwAAAPH/AAD5//H/+f/x//H/6f8HAPn/+f/x//n/+f/a//H/+f/5//n/4v/p/xcA+f/i//H/BwDp/wAA6f/p//H/BwDp//n/8f/p/wAA6f/p//H/AADx//n/DwDp//n/+f/p/wAAAADp/wcAAADa/5kAFwAt/ocBHf7S//oBgf6/ADIBmP56ANL/Of9cAFwA4v96ACYA0v8HALT/0v/5/wcAJgAXAB4A6f/a/+L/4v/5/wcAFwAmAA8AAADp/9r/4v/p/wAABwAPAAAABwDx/+n/4v/S//H/4v8HAAAAAADx/+L/6f/p/+L/8f8XAPn/8f/x//H/6f/p/+n/AAAAAOn/8f/5/+L/6f/i/+L/+f8HAOn/4v/5/wAAAAD5/+n/6f/x/wAA4v8HAPn/8f8AAOn/8f/x/wAA6f8AAPH/6f/x/wAA+f8AAPn/AAD5/wAA+f8AAPH/+f/p//n/BwDp//n/+f/i/+n/6f/p//H/6f/x//n/8f8AAPn/BwDx/+n/8f/p/wAA6f8HAPH/8f8AAOn/8f/5/+L/8f/x/w8A8f8AAPH/6f/x/w8A8f/x/+n/DwAHAPn/AAD5/wAAAADx/+L/AAAAAOn/+f/x//n/AADx/wAA+f/x/wcA+f8AAPn/6f8HAAAA8f8AAPH/AADa//n/AAD5//n/BwAAAPH/+f8HAOn/AAAHAPn/FwD5//n/AAD5/wcAAAD5//H/+f8AAOn/6f8AAOn/4v/p/+L/+f/p/+n/AAD5/wAA+f/x/wAA6f8XAPn/DwAAAAAABwAPAPn/BwD5/wcA6f8AAAcADwAHAB4ADwAAAPn/HgAAAAAA+f8XAAAABwAHAAAABwAXABcABwAHAAcADwAHAAcABwAXAAcAAAAHAPH/AADp/wAABwD5/wAABwAHABcADwAXAPn/BwAPAB4A+f8HAAAABwAAAAcAHgAXAAAAAAD5/xcADwAXAAcABwD5/wcABwAPACYAAAAXAA8ABwAHAAAAAAAAABcAFwAAAAcAFwAHAAAAAAAPAAcAFwAPAPH/FwAPAAcAAAAAAAAAAAAAAAAABwAeAB4ABwAXAA8ABwAHAA8AHgAXAAcABwAAAAcABwAPAAcABwAHAAcA+f/p/w8ADwD5/wAAAAAHAAAAAADi/wAAAAAeAAcABwAXAAcAJgAXAA8ABwAHAAcA+f8AAAAABwAPABcAAAAPAA8ABwAPAAcADwAXAA8ABwAAABcAHgAPAA8ABwAHABcAAAAPAAcAAAAXAAcAAAAHAAcA+f8HACYABwAAAAcADwAHAA8ABwAXAA8ADwAeAB4ADwD5/wcABwAXAA8ABwAHAAcABwAeAA8ABwAPAAcADwD5/wcABwD5//n/AAAPAAcABwDp/wAABwAAAAcA+f/5//n/AAD5/wcA+f/p//H/DwAAAA8AAAAXAAcADwAHAAAAAAAHAAcABwAHAAAA+f8AAAAA6f/x/xcABwAPAPn/BwAPAAcA+f8AAPn/AAAHAAAADwAXACYAHgAuAEwAXAAuAHoAHgBcAEUAuACwALkCbQLBAjQDRgJ3AbgAp/4t/jD9Ovwr/GD8FPxO/V79PP4L/1D/fv9UABcAigCRAIoAuAAyAbAAKwHeAL8ANQBFAAAAVADPAIQCLwLoAksDNAPJApsCKwEUAdr/9P6J/kv+yf2J/jz+5f4T/0j/X//5/37/0v9n/1j/Kv9Q/xr/rP/D/zUATABrAIoAzwCCAIoAXAAuAAAA0v+7/+L/0v/a/8P/pP+0/6z/fv+G/4b/Z/9n/2//b/+7/9r/0v/5/wcAAAAmABcADwAmAAAA6f/5//H/RQBjAFwAVABjAB4ATAAmADUAFwDi/+n/4v/x/xcABwAHAAcAFwAAAA8ABwAHABcAAAAPAC4AHgAmAB4AxwBZAXABjgFwARsBYwAHADn/9P5T/lP+Lf7l/uX+lf+d/y4ABwBjAEUAVAAmAEUA4v/5/9L/+f8HAD0AawBMAD0ARQBFADUADwAHAPH/2v/a/9r/4v/p//H/8f/x/9r/6f/p/+n/BwD5/wAA8f/5/wcAJgAuACYAAAAPAB4ADwAXAA8A8f8eABcABwAmAEwABwAPAAAABwDx//H/BwAuAAcADwAAAAAAFwAXAAcADwDx/w8AJgBMAPn/DwAmAOn/4v/x/9r/8f8AAPn/8f/5/+L/8f/p//H/AAAHABcAHgAPABcAHgAXAA8A8f/5/+L/HgAHAC4ATABrAC4A4v8AAPn/2v/5//n/BwD5/w8A8f8PAA8AFwAHAOn/HgBUAC4A8f8eABcAHgAHACYAAAAAAOL/8f/x/+L/BwAAAOn/DwAPACYABwD5/1QAHgAuABcABwAPACYAHgA1AFQAFwBcAA8AVAAmAA8A6f8HAAcABwAHAA8A6f8eAAcAFwAHABcAPQAHABcADwAHAB4AFwAHAC4AHgAPABcADwAmAA8AHgAAAAAA+f8HAPn/8f8AAAAAHgDx//n/BwAAABcAHgAHAA8ABwAHAA8AJgDp//n/6f/i/+n/6f/p/+n/FwAHAPH/+f8uAA8A8f8XAPH/DwAuAA8ADwAAAPn/8f/p//n/AAAAABcANQDi/0wALgAAAAAABwAXABcAFwAeAB4A+f/p/+L/6f/5//n/0v8uAB4A+f8HAPn/6f8HAPH/8f8AAEUAHgAXABcABwDS//n/AAAAAA8AHgAXACYAFwAmAAcA6f/S/+n/+f8HAAAAFwAPAOL/8f/p/x4ABwAHAPn/HgAAAAAADwAPAD0ADwDx/+L/8f/i/xcABwAeAB4AJgAAAAcABwD5/x4ABwDi/+n/4v/i//H/0v/a/wcABwAuAA8AJgAXAB4AFwDx/wAA6f8PAAAALgAAAPn/DwAXAAAADwDx/x4A8f/a//H/0v8uACYAAADp/+L/8f8HABcAy//a//H/DwAHAB4AVAAAAB4AFwAXAA8ATABjAPn/6f8AAAAA+f/i//H/4v/x/+L/6f/a/+n/2v8AAPH/DwAeAA8A+f8mAAcAJgAeAPn/BwDx//n/+f8XAAAA8f8PAB4A6f8AAOn/HgA9APn/HgDp/w8A6f8AAAcALgAPAPn/FwDi/wcADwAPANr/BwD5//n/AAA9AB4AAAA1AEUAFwAPAB4AFwD5/wAA+f8AAAcA8f/i/wAA+f8uAAcAFwD5/wcA6f/p/+n/FwDx//H/AAAuAEUARQAHAPn/BwAAAOn/0v8XAPH/DwDi/+n/6f8mAPn/FwAHABcAAAAeAEUABwD5/yYA4v/S//H/4v8HAB4A6f/5//H/8f8AAAcABwD5/xcAHgAAAAAALgAHAOL/AAAmAA8A4v8eAPn/DwAPABcA8f8AAAAADwAAAOL/BwDi/+L/AAAXAPH/8f8HANr/HgA1AOn/AAAXABcAAAAHAOL/+f8eAAAABwDp/9r/AAAAAOn/AADx//n/+f/i/w8A8f/5/9r/DwDx/wcAFwD5/x4A+f/5//H/DwAHAPH/+f8XAPH/8f/x/+L/BwDa/wcA+f8HANr/FwAAAPH/BwDx/9r/HgDa//n/HgDi//n/DwAHAAcA6f/5/wAA8f8XABcA4v8PABcA+f/x/yYA4v8PAOL/AAAPAA8A2v8HAAAA8f8AAPn/AAAmABcA6f89AOn/DwD5/0UABwAHAAcA+f8AAPn/JgD5/x4ADwAHANr/6f/5//n/+f81APn/DwDx/0UAHgAHACYAXADi/wAABwDi/xcADwAPABcAJgAHAPH/+f8eAPn/JgAXAA8ADwAHAOn/AADx//n/BwD5//n/BwAHANr/BwAHAAcAFwDp/wAALgAAAD0APQAXAPn/FwAPAAAAHgD5/wAADwDx/xcABwAAAAAABwAPAPH/FwDi//H/HgAXAPH/AADp/wcA4v/p/9r/HgD5/wAA+f8eAB4A+f8eAPH/+f8eAPn/+f8XACYA+f/5/x4AAAAeAAcAHgDp/zUAJgAeABcAFwAHAPH/BwAAAAcABwD5/wcABwD5/w8A+f/5/x4A+f/p/yYAJgAHAB4A+f8PAD0A0v8XAAcAJgAeABcAAAAPABcATAAAAA8ADwAHABcATAAPANr/BwDx/+n/6f/5/+n/8f/5//H/6f8AAA8ABwD5/+L/BwAXAPn/AAAPAOn/2v8AAAAADwDp/xcADwAPABcA+f/x/x4AAAAeABcAFwAXAAAA8f8eABcADwAPAAAAAAAeAA8AJgAmAPH/PQAPAOL/6f/5/wAA8f/p//n/4v8PACYADwAPABcA6f/i/xcADwD5/wcAJgDp/w8A+f/5/wAA8f/i//H/+f8AABcADwAXAD0AHgAeAPn/BwDa//n/AAAHAOn/NQBjACYA+f8HAAcARQDp/yYA8f8HAEwAVAAPAA8AFwAHAAAAFwAAAB4A2v8HAA8A+f8AAPH/DwDx/xcA8f8XAOL/+f/x/w8A4v81AD0A0v8PABcAFwAHAEUABwBUAPn/HgBMAC4ABwAHAC4AAAAuAB4A8f8PAPn/+f/i/w8Ay//p/+L/6f+s/+L/+f8AABcA4v8AAAAA+f8XAC4A4v8PADUANQAeABcA+f8uAC4A2v8AAAAA0v9MAFQADwDp/xcA2v+0/x4A8f8XAGMAVABUAEwAw//S//H/8f/a/+n/JgDa//n/VAAuAB4AAADL/+n/cwB6ACYA2v/i/+n/cwBrAPH/6f/S/1QAPQB6APn/FwDi/wAA2v+hAC4AJgB3AeQGrgayAhsB6P21/GX9zPwJ/aD+m/2q/fT+MP3C+tb7Vv2v/tsBuQKLAuACDgMMAf0ABAGG/4H+9P7S/+YANwJCAUwARQCG/8b+Qf8mAJX/Z/8x/9L/XADtABcA5f4i/9X+Of8HAIoAw//a/+L/4v/tAAwBDwCk/zUADwDx/1wAXAAuAD0AtP8eALAAawB2/7T/egBFAB4A4v/p/53/2v+7/7T/DwAXAAAA4v/a/7T/AACN/1j/pP/5/x4A4v/D/zUApP+V/7v/4v/S/wAAFwDx/zUATAAPAC4A6f+V/6z/JgDx/y4AtP92/+n/YwC0/37/nf8AABcAXAD5/x4AggC/AFwARQAmAOL/AAD9ABQB5gAeAMP/jf92/8P/b/9n/9r/BwAeAA8A8f8AANL/8f+k/+L/BwAmAJEAawBFAFQAFwAAAAAABwDx/x4ABwAXAPH/BwAmANL/6f8HAFwADwAHANL/w/8AAAAATADS/x4A4v9+/7v/8f8eAFwADwAXAPH/VACN/6T/tP+s/9r/BwBUAPH/PQBFAMv/8f9v/zH/WP+d/7v/pP+N/2f/b/+d/3b/lf+s/53/8f/5//H/u//S/43/y//a/1//lf8AAB4AYwBFAAcABwCs/yr/A/+N/7v/8f/p/8P/BwBMAGMAPQBUAA8AJgCwAAQBcAGWAc8A9AMFBmgBPAP1AKEA8f+CAJ3/lgGoAB4ADwDx/+/96P1I//T+5gArAQQBpQH6AWABUQHjAQAAigCHAfn/3gDyAf0AUP/MAXb/UP8jAT0A//3D/1D/DwARArAA2v9MAEUAA/9zAFwAC/+G/9X+Gv+G/5D+MvyR+6j7TPve++b7D/vK+gr6YflX+qv6Kfo4+uH6qPve+yP8XPuc+rv6jfpU+638qv0D/78A/wLXBegHDAmlCYkL8QwkDkwQsBD8EMIPPg1yCwQJDQZ0Anb/4P0j/C77WvlY93n26/SW9J700fVI9034dvqO/F//9QC8AQYDXwT+BeQGFggUCe0I1gh1BxkHaQadBEsDtQErAT0A1f4t/gn9YPwe+3b60vrZ+lz7c/vH+yv8DPwU/Cv82/xH/XX9df0o/cT8kfse+5H7rfwY/dP8h/zH+5z6/vja9yL3efZ19aHzj/Ei76Pt8e8W9h3+UASwCNEPeRuVJEsjIhxMGMcYSRkHGG4XtRbqEfUIRgL0/rH45e5i5lblruny7CXu/+3o7absmetb7qjz3/i/+7f+VQULDCEPyA3VC6ALagvVC4AOaBEEEcAN+gkWCFIGxAH6/Nz5LPm9+VL5pvnu+JD27fMx8nD05/jb/GL+1f4RAnYEWATLBAgFJwX+BSEHVgpIDDwLVAiDBbEFtAQJArv/1f4D/77+2P3b/O375/hL9qf2sfge+y775vuj/XL+7P7J/bL9qv21/E79mP7WABsBzv5R/IX6Gfqu+VL5vfmu+Zr4X/dn9wv3GfV28gXxFfGm8cn1hP2xBVoLBxDCF4UftCExHPsWEhezF54WjRT+ElsQYwh+/2H58vRJ7yfoHeaA6Sjtt+4O7rfune9J7+7wsvV//HABMQT/B+kMHhDkDnYM/AuGDOkMEA0kDkMOPAt4BosCegDv/Wb6nfcB+Jn7m/3W+5T6sPuc+kb4M/ky/Av/dv9MANgCfgRYBI4BvwBOAugC5QP5BE8HqwfDBEYC3gDPAEH/MP0G/qT/8f88/ur8BPw4+gH4Gvfu+On6TPvp+i77uPsh+hD4UPcv+Lb5CvrS+ln8lvyc+uL3efbJ9QL19fM69Kf21vtLA3cJVw+jF/AfZSJIHKEVZBUkFvkUERLoDzsOugfL/+v5MvSb7e/lSuQc6QbuPvB+7/HvSvG98XrzUPd8/WUCyAWECsoPZRL/D5UMmAsaDDkM/AuNDBMMDAmVBLgAYv5F+yr3+vRO9Vj3EPhY9zH3hvc7+dn6P/1wASoEgwWABg8IKwk1CFIG7gU7BjMG7gXiBKcDpQGn/q38sPu4+1z7jfou+977I/yK+/j6DPyy/a/+3f56ALwBsABrAOYAzwDWANr/dv+V/1//A/+q/ZP9Cf09+0/6O/nI+Bj4IveY9vT2SPf39bL1U/Y39aHzB/Ph8nX12P2uBqENtBRtGowfgiAiHDUYjxbPFQsUThKWEWQNrAR6+0n05e4K6v/lYua+6VnsW+7d7gHw7vBp8cz0KfpZARIHZQpSDqgQBBGMD4MNbA0QDdIMrAxBDKIKMwZRAdP8rvms9+/1r/Yc+W763Pn++MD4dPii+BL6KP0MAc4D5wUwB7MH5AYnBX4EAAXXBQ0GkgX5BIkDIwEd/jL8TPuc+pz6XPue/IT9o/1R/GP7ivuK+7X8zv5cADIBGwF6AKz/xv73/Tf96P1i/i3+Jf7E/Cb71Pkv+OX2cvav9qD2Qfdd+Pn3RPZw9LvyO/Ee86j7+AeWERIXVhrxHBwewRrXFcsUoRX5FLISFhBYDF8E5PkF8UrsQOoY6GzoguuB7jLvmO6s72HxevOJ9t77rwPqCR8NiA6cD8oP1w1vDKQMoQ2hDeULPwoPCOUDt/7F+aX3vvY09tP3uPuQ/tv8ZvoS+jj6Jvu1/J3/4AIIBQ0GmgUIBaADOgEmAGgBoAPDBEgENAOtAX7/rfxF+3r7cPyO/HX9xv63/vL8wvqu+c354fpZ/KD+4wFnBLcDGwFY/yX+jP2v/i4AMgE6AZEAnf9b/j/9VPu9+Vf6pPrh+qv6LPlf9/L0I/R/9MT0MPVO9Rz5fwHQCpQPlA/CD2MQhBJZFjoZ6hkFFjIR8w7aDAwJhwG2+Qn1wvLK8iHyBfGJ7hTscOwq7/3zfveu+bz89QAVBuMJoAsiDOULEwzDDI8OKQ9nDIIIJwU8A2gBmP6h+8D4jvcx91/32ved9872W/YI+C77wf1I/xcAWQGEAlsDSAQxBL4DLQNTA1AEwwSnA44BpP8q/3b/SP9y/sT8x/u/+3P7Pfs9+436V/rS+kn8rfx3/BT8wvo9+7z8Af0B/TL8hfpG+Kz3ufiD+CL3VvVW9RL67wKBCykPAg8zDrcQyxTNFiYYEhcFFu8SiA4aDAIHXAB7+PjywvID8kPxQe8C7X/saOx371Tz7PYS+uP8IAKmBj8KmAtyC/EMUg59D7oPow8kDhEKbgedBPoBnf+h+4D5L/hv9zH36PXB9Sj1MPVY97b50/zd/lwATgKJA5UEtASVBOIEuwS7BKQEWAQ8A/oBawC3/qr9h/yZ++37h/zE/LX8OvwU/EL8zPyT/dj9jP0R/cz8Cf3B/SX+4P0B/bX8Tv00/hb+aPxu+jv5Xfji93v4g/h+93X12/TC+iIEFQtNDWwN/w8gEt0TLhXPFWkWWBRRESsO5wokBoH+J/hC9PDySPL+8Dbwxu4W7q/uFfH69Nr3B/un/gYDZgeHCcEK3QuDDY8OHA4rDpINoAvtCBwGoAO4AAb+gvth+Tb4C/fo9XX1wfVT9kj3Q/mZ+8H9Qf/mAF0CiQOkBPkEbAWSBT4FdgQ0A0YCBAFv/zz+Zf0w/bX8f/wy/PX7kftM+7/7f/yy/bf+/P5v/zH/Mf/l/nL+Fv5O/Rj98vz6/IT9Af3m+6T61Pn2+Or3nfcq96z3tPfT9276egCZCF8MywwFDvMOaBGiEhUTMRTVE2ITmRDsC14H5gBc+/T2MvTe8wDzOPIF8QjwNvDn8HrzGve7+sb+sgLFBqUJDgt5C0MLpwsLDPkM6Qx5C94ICAXMAQP/Ufww+hD4jve895X3vPdv9zn3jvcc+db7mP4MAcECmANYBI0E/AMlA6oC9wJbA4kDyQKOAVQAPP5R/HP7NftM+8/7rfyM/Xn+5f6B/uj96vyl/Jv9cv4a/wv/fP0Y/U79rfy1/En84fo4+gr6UvnA+Of4VfjD96z3GPhA+kH/6wZQDKkNnw6UD7UR7xJOEmUSrRHbEfwQkg0bCU4C7fsi997zJvNI8oDxSvEF8Y/xzfFr8xb2cfnv/ZMCjAfBChMMwwyGDCIMrwsqDPQLbQrHCIoFZQIq/5n7LPln9wP35fb89qz3vPcB+IP4zfn9+3n+MgH3AjkECAXaBFgErwPYAvoB8gEoAkYCCQKZAK/+4/yh+x77c/tR/DD9uv0l/nn+ef40/pv9sv1b/qf+9P4q/7f+Fv5W/U79P/28/FH81vuR+wf7bvqP+an4BflD+Ur5kvjQ+Cj9ZwTgCgMMiQtFDTAPHhC6D0cPqw/UDs8N/AsrCbkFoQCZ+7z32PXB9W314/RZ9M/zlvT39er35Pkj/LT/SwMwB9MJdAqtCZEIegioCDIJ/Qh1B5IFJQPeAKD+7fv7+R/42vfQ+Lb5dvr7+YD5MPoP+3X9X/+hAC8CyQLOA0gEgQO5ApYBSQFRAQwBvwCs/8b+9/1l/a38FPxg/JP9X//PABcARP7E/Mz8R/11/Vb9GP03/cH9t/55/nD8APtX+uT5hfpU+z374frc+Sf4oPY09jn3ivu+A10KNg1xDtQOchDtEBYQYxCCEEkRehDIDUMLBQYa/xX50fVe9Tr0LvPZ8pzylPIe82j0//Vk+PX7mQCpBVkJLAvVC3ILagvnCuAK/goBCkwIqQVEA7AAMP04+sv3xvbl9jH30/c2+GT4yPi9+Yr77/1UAE4CxgPpBGQFTQWdBNUDsgIBAtsBrQHmAI3/sv0b/C77ofsR/dH9KP1g/J787/05/6T/Gv/g/Tf97/0T/9L/Gv+T/aX8Vv2n/tj9G/wm+xn66/nc+Z/5JPkv+Fj3Bvbd9qv67QDRB+cKZwy2DvwQmxLjETIRzhCREGsQHA7+Cl4HbQLb/MP3TvU69GvzjfLF8RLyAPMb9Oj1PviR+xP/HQMCB44JQwv8C/QLvguJC4kLRgpECGEG5QP1AOj9Pfsk+Xb39PbO9gP3tPdG+LH4tvku+079fv+OASUDKgTLBOkEdgSYA8kCPwLjAbwBOgEPAJj+Cf3P+xT8pfyl/FH8d/zB/VD/PQCCAKT/zv5T/pv92P15/jT+jP2l/Hf8+vzy/N77OPpp+Vr58/np+k/63/ja9772mPYz+SL/xQbVCwUOYxBdEsESpRFjEB4Q2Q+FD48O5QuUB4QCAf2898/zUvFp8V/yJvPt8+3zjvSM9Wf3APsT/6AD0QeiCo0MFw20DEMLGArbCXAJkQjUBl8EdwHB/Wb6rPdq9i32efaG94P4UvnN+fv5wvp3/Lf+fwHVA4oFFQaKBZ0EeQN0AvIBSQGwAEwA8f+J/nf8XPuz+gL6lPoj/JD+sAAPAEH/A//8/rAAKwGKAH7/kP7l/tX+W/7y/KT6T/o9++b7aPwy/Cb7afkQ+Kz3y/f597z3VfhU+/IBIArmDbgNVQ22DjIRARIgEvoRehB4DuwLcAkcBiMBc/v/9WvzXPOh82PzV/Lz8cLyxPRd+EX7jP01AMYD2Qf3Cp0M2gxfDBMMSwt8CmgJQAc5BBsBcv5J/ED6Nvin9tj1Dvb09vn3HPkZ+ib70/zV/uYAZQIWA+wDfgSNBGcEkANOAn8BawDi/zH/o/0r/HP7mfue/Cr/VADg/Wj8sv2+/rgAzAEAABP/if4D/z0AkQChAH7/9P4D/yX+Jf66/Xf8ivsA+yb7dvoN+W/3W/aY9vz2y/cN+Yf8DgNgCYoNlw69DsIPaxB3EUIRHhCrDwUOIgyZCC0DYv5K+SX22/S489bzDPQM9Az01PT89iT5Hvsd/sQBDQaHCZgLOQygC6oKlgkUCUQI6wbiBDcCAAA3/X36g/jV9oH29Pbi93j5OPrp+or7WfzR/ZX/YAG5AjwDcgMlA6ICIAIUAbv/A//8/hP/t/5i/v/9qv1l/Tz+IAKsBFYCu/80/jr89/3p/zz+Tv1Z/I78cv5f/37/N/31+zf94P0L/w7+kfsw+hD44vf++Cz5Dfk++DD6VADRB4YMNg12DIoN5A59D0wQVBBpDmcMLwqCCN8FdwGl/JX3G/Se9MH1HfbB9ev0IPXO9jP5BPwO/ooAxgPUBjcKMQzVC5MKigirB4wHnwZsBckCLgAG/rj73PlG+Pz2gfYT95L4QPqZ+wT8YPwJ/Yn+qAA/AjQDtwNTAwYDdAJGAn8BNQB2/zn/2v9cAFj/W/4g/Tr8Af0W/vz+1f4o/eP8uv2v/pX/kP5l/U79Bv5B/xcAcwCRANL/fv/5/yYA+f/G/pb8Nfu7+hL6ePm5+Eb4sfgP+zUA0AUECSgKwQpnDEMOgA4FDjYNZwxqC3AJswc+BVkBjvyL+DH32vfL9/T2W/Z59kH31/ik+nf8Jf6RAGIDBQZyCLUJSQkWCBIHWgbuBbQEFgNJATn/uv0r/Kv6rvnX+Kn47vjr+YL7YPye/MT8N/15/o3/uAC1ARECPwIvAmABuACRALgA3gAUAQwBsADx/53/hv/O/i3+NP5q/iX+Af1C/JH7qPuH/Bj9oP7a/y4AegDmAIcB4wFRAdYAIwGhAOn/Jf7P+276Dfl7+Iv4mviA+eb7RQDDBOgHDAmWCTcKagtvDNIMXwwqDMEKmQh4BrcDaAFq/lT7Uvma+Er5BflV+Bj4vPea+F/6f/zO/r8A7wK7BDMGjAezB+QG9gV7BekEUARLA7UBOf+T/XD8gvu7+in6tvmm+U/6B/uZ+wT8Sfw3/aD+JgAjATIB5gBCAeoBKAKeASMBpQFlAnwChwGk/6f+oP6B/kT+6P1H/dj9PP6M/fL8z/uZ++P8kP56AGABpQEBApYBjgHbAXcBfwF/Ac8ANQCY/iv8T/o7+fb4LPn2+Of4M/kA+2f/LQODBZwHFAngCuIMJw0IDRMMkwq8CRYIYQbsA4oAzv4R/Sb7GfqS+JX3fvfL9yT5nPob/B3+Z/8bAfcCIgTxBNAFMwZpBiwGqQXpBCUDjgFcAHL+bf13/Gv7LvsP+1z7uPu/+977BPwj/Cj94P2v/rT/egAbAWAB3gDeAOYAGwEoAh0DDgMvArUBDAGhAGMAUP8l/k790/xR/Cb7jfop+o36Rfv1+179Yv6Y/hr/UP/p/1wAVACG/wb+lvx6+6T6OPp4+bn4Svkb/MQBEgcBCtAK7woTDI8OLRAmEIAO0gwaDPcK3ggABV//T/r09l71CfUw9W31MPXj9Pf1Vfjh+vr83f5JAaQEPQj3CjEMWgu1CS0I6wYsBjYFUwMMAaf+pfyz+iT5+fd59vf1t/ZV+Ef6I/wg/cn9mP7x/1EBLwLQAi0DBgOiAjcCrQFJAToBTAAi/zT+2P00/gP/u/9I/yj9QvwY/bL97P5cAAAA2v+d/6/+zv6v/uX+b/+s/1kBmwItA1sDhAJRAc8AegBUAAcAC/8t/vL8Y/t2+lL5ufhV+Hv4zfmo++j95gDlA3gG/wf1CB0LRQ1DDvYNXwwVC8QJfQdsBZsCKv9w/Ef6ZPhI96f2JfYd9gP33/i7+p78ef7p/5YB5QMNBhkHTwemBjsGZAV+BGoD4wEeAIn+4/zP+yb7pPoK+mH5Uvm9+dL6d/x8/TT+hv+KADoBbQK5AiUDOQTdA68DpAQDBF0C/QCd/2r+Jf58/bj78Pr4+tn6uPvj/Or8lvz6/Cj9Lf7p/4oAPQDS/xP/6P28/Af7ePld+Cf4GPgB+C/4kvjP+1YCNQi+CxQOHhDMEREShxHHEA8QjA/uDRUL+Af8A3n+mvgb9I/x9vBa8SnyPfNw9NH1Kvdx+TL8Qf+qAgIH4AqaDQoPtg7aDF0KVAh4BssEPANCAeX+rfww+tP3qvVJ9Cv0R/Wd9/P53vuM/ZD+Z/+KAI4BdAJqA2cEtARBBAYDWQHa/6/+Fv5t/QH9bf0G/nz98vyW/Mf7Qvww/T/96P12/1kBsgIlA+gCKAIyAQwBtQE3AugCkANbAx0DXQKlAeYAJgDi/zUAYwC4AIoA8f9B/y3+Tv36/Mz86vzM/MT8nvwr/O37BPwM/Pr8NP7d/j0APwLLBAcIbQo8C9gKtQnHCOEHQwasBC0DzAFzAJj+jvyk+qn4b/cq98v3ePlU+/L8Jf4L//n/dwHJAtUDXwRQBF8EjQR+BOwD4AIUATH/o/0J/dv8Sfzt+2v7APuz+kD6Gfq7+rD76vzO/gwBGAI/AnABigBrACYA6f8XANr/hv/O/oT9kfvn+Mb2dfWt9I70VvXv9bL1U/bf+LX8AQLwB0oOlRT6GRcdXB3aHEYajRSXDj8KdQcaBMv/s/pH9T7wOuxL6drnTeiz6onuTPOG9y77Jf49AFYCAAVUCGoL7g2zD1sQlA/ADSwL+AedBBgCVAC3/qP9Mvx2+k34xvaE9U71LfaV95f5v/sO/gcAfwF8AgYDtwPSBA0GEgezB8IHMAffBXYEuQJoASYAOf+J/rf+QgFaBscIYQYqBDIBivvQ+IP4vPdS+XP7DPzP+7/7R/rT9xr3i/jp+lv+IAL0A9UD2AJUANH9Jf41APIBPwJ0ApMCfALBAqgAbf3e+z37Cf3l/vH/LgCV/yL/3f4t/vf9Dv6B/uz+SP9B/93+uv2w+336T/oX+079dwHKB1wNzw1qC1EJHggtCLoHxQYsBvkEOQTvAtL/1vsL9xv0BPQG9iT5sPtl/dX+FwBgATcCuQIGA/wD9gUmCHcJgggcBu8CAAD3/dP8oftF+0z7uPsy/Bv83vvh+mb6F/u8/PT+FAE/AkYCAQIUATUAb//d/sb+Of+0/2MABAFUAIn+P/11/YH+BwDHAFQA8f9UAI3/S/7o/Vv+lf+/AGgBIAIGAw4DdAIoAgkC8gHyATcCogKbAigCaAEuAG//gf7Y/ej9Lf6g/jn/fv+d/1j//P4x/8P/YwCZABQBaAGWAX8BzwAHAJX/jf/p/yYAawA1AAcA2v+G/0H/X/9cABQBhwHEAYcBUQEeAPT+r/7s/n7/dv8T/zH/dv/D/4b/3f7G/n7/AABrALAAHgB+/xP/r/4O/nX9N/3M/AH9df1t/Sj9Cf3M/En8DPxg/Nv8MP0Y/aX8/ftr+5T6Q/kC+uz+JAanC6ENSg7rDjAPZA0sC8cIlwZkBbQEtwM6AbX8L/iO9JzyQPLp8gL14vdz+xP/rQFiA0EEAAXfBVcHUQltCpMKfwnCB0UFXQJ2/478ffpS+Tv55Plm+un6VPuw+0n8jP0a/6gALwItAyIECAXpBCIE6ALEAc8AFwC0/yL/U/7B/QH9/fsu+5T6T/p9+g/75vsY/Yn+Mf8L/5D+if7l/rv/qAC/AL8AhwFGAk4CPwIJAgkCPwKEAiUDBgP/Ah0DdAIYAlEBcwBn/6f+1f4T/2f/nf/i/wcAPQCRAM8AFAF/AdsBRgKTAi0DagOiAiMB+f9I/+z+p/5T/jT+U/6n/vz+r/5y/mr+cv4q/wAAoQDtAP0AIwFZASMBJgBB/93+Yv5y/lv+6P3v/QwBOQSLAm//E/9E/gb+6f/s/k79Bv7O/gP/Hf76/AD7wPiL+GH5xfkK+n36MPpP+tL6V/rN+cj4vfnEAXIQwxwcHuMZwxREEDwL/ANi/kX7F/uO/Df9P/1S+dzx1utX6oztxfGY9qX8zgOyCkoOvQ5BDIoI3wVVBboHKAoGC9sJzQYOA1v+5/i/8xDw0+8x8nn2s/qj/bf+Yv4l/iX+3f5zAMkCcQYBCtIMoQ2vC/AHgQNUAOj94/zq/Ef9//08/uD9f/wp+i/4Ivfx91f6Zf24AOgCbwTaBFgERAP6AUkBUQE3AlsDWAR2BCUDYAH0/rX8B/sw+oX6evsY/bf+lf+s/xP/U/7o/VP+dv8UAckCWARzBcAFEAWQA/oBkQCV/1D/nf/5/x4A2v8x/yX+xPzP+2P7qPvE/GL+6f9JAfIBLwLbAX8BDAEUAUkB4wFWAqoCsgIJAu0Ajf88/lb9+vww/br9av4x/43/pP92/xr//P45/8v/xwC8AVYCyQKyAkYClgGoANL/UP8x/1D/fv+k/53/Of++/jT+2P2j/ej9oP5n/0UAFAFwAXABFAG/AJEAcwChAM8AFAFCAUIB3gBrALT/Iv+3/on+t/4T/37/+f9cAEwA6f+7/4b/dv+7/z0AuAAyAVEBQgHtAJEAHgCd/2f/b/+0/+n/DwAXAPH/pP9B/wP//P4q/2f/6f9jAM8A1gC4AHMAXAAmAAAAFwBUAHoAoQCoAHMAHgC7/2//Of8x/1D/dv+s/9r/+f8HAOn/2v+7/7T/4v8eAGMAkQC/AKgAegA9AAcA2v+7/7v/w//i//n/6f/p/+L/w/+V/53/rP/S/wAATABjAHoAYwBjAFQAJgAXABcARQBFAGMAPQA1AAcA6f+7/5X/hv+V/8P/w//5/wcABwAHAOn/8f/x//n/FwBFAFwAXABjAFwAPQAHAPn/8f/i/9r/6f8XAPn/4v8AAOL/4v/i/+n/2v8PAB4AFwBMAFQAHgAuAEUAJgAHAC4AJgAXAFQAHgD5/wAA+f/p/+L/4v/a//n/AAAAAPn/DwAPAA8ADwDx/x4ALgAmAEUAXABcAD0ALgAeACYALgAmABcADwA1AFwAYwBdAtsJnA/TCe0ASP95/j37ovgT9+74gvsPAMsESwOs/wH9Hvse+9H9p/4o/fT+sgJFBZAD5f4m+2T4X/fF+fr84P1q/hcABAG4AP/9MPp+93L2Kfo/AukM/BN8EooNNAvMCYkDs/pv9/j63f7PADwD7AMPADj6Offl9qP1WfT09j/99AMUCTQLUQniBK0BigDD/93+2v/JAlUFgAYVBrcDA/+m+fz29Pb590r5BPwAALICkAOTAooA7/1//PL8WP/TASoEaQbhB8IH0AXgAsP/8vz1+/L8r/41ADoB2wF3AcP/Zf09+/v51PlF+xb+uABtAksDeQPBAjoBjf+g/oH+SP8MAZMCiQNiA4sCQgEq/zf9DPzW+3f8yf2k/wQBMgH9AEwAb/9y/h3+zv7a/3cB4AL8AyIERAMoAtYAX/9y/jz+t/5n/xcAsAC4AAcA7P7o/Tf94/w//Uv+rP/mAPIBPwIvAn8BoQAAALv/tP8uAOYAjgHTAcQBKwFUACr/W/4G/g7+kP5B/zUAuADeALAARQC0/0H/Of+G/wcAegAjAYcBrQE6AbAABwBn//T+5f45/6T/8f89AGMAHgC0/0H/9P7V/vT+WP/i/3MA5gA6ATIBzwCZACYA8f/S/w8AawCoAN4A1gCoAGMA6f9+/0H//P4T/2f/2v8XAGMAXABrAAcAhv9+/6z/tP/x/2MAuADmAM8AkQBcAPn/jf9v/4b/w//i/zUAYwBcAC4A+f+s/3b/Z/+V/8P/DwBcAKEAqACCAGMAHgDS/6z/y//p/zUAYwBUAGMARQD5/8P/jf9n/2//pP/p/wcATABcADUADwDi/7v/pP+s/9L/FwBcAGMAawBcAFQABwDp/8v/2v/i//H/LgBcAFwARQAeAPn/0v+0/7v/y//x/xcAXABcAGMAHgD5//n/y//a/+L/8f8PAFQAXAA9AA8AAADi/9r/y//a/+n/8f8XACYALgAuAAAAAADi/9r/4v8AAAAADwAmAC4AJgAHAAcA6f/i/+L/4v/5/wcADwAHABcABwD5/+n/4v/i/8v/6f/p/wAA+f8HAA8ADwAHAOL/4v/i//H/BwDx/wcAHgAXAA8AAAAAAPn/4v/x/+L/+f8HAAAA+f8PAAAA+f/p/+n/8f/x//n/DwAPAAcABwAHAAAA+f8AAPH/6f8AAPn/+f/p/wAABwDx/+n/6f/p/+L/AAD5//H/AAD5//n/AAD5/+n/AAD5/wAA+f8HAAAAFwAXAAcAAAAHAAcADwAHAA8ABwAXABcAFwAHAAAAAAAHAB4AAAAAAA8AFwAeAA8AHgAPABcAFwAPAB4AHgAHACYAHgAeAAAAAAAHAB4AHgAeAEUAkQAyAQkCVgLbARsB5gAmADH/Qf9f/1j/dv/8/lD/6f+N/1//b//0/uz+Gv/d/iL/u//a/zUAkQBcAFwABwDi/+n/4v+7/9L/AABrAIoAcwBzAFQAJgAHANr/u/+7/53/y/8PAC4ABwAuAB4APQBFANr/y//i/9r/8f8mACYAHgAuABcALgAXAOL/y//D/9r/6f/5/+L/6f/x//n/8f/p/+L/4v/D/9r/4v/p/9r/8f8HACYAJgDx/w8AFwAPAB4AFwAmAC4AVABcAFwATAAuAFwAJgBFADUA+f8HAB4AFwAmABcA4v/5//n/4v/i/9L/y//i/9r/6f/x/+L/6f/i/+n/6f/i/+n/4v8PAA8AFwAeAAAABwAHAB4ADwAAAOn/4v8PAAAAAAAXAAcABwAeAPH/4v8AAOn/BwAPAPH/DwD5/9r/AAAAANr/+f/5//H/+f8HAPH/HgAAAPn/JgAAAPH/HgAAAAcABwAHAOn/AADi//H/BwDa/wcA+f8PAA8A+f8AAAcA+f8HAAAA+f8HAAcAHgAuAA8AHgAmAPn/AAAeAOn/+f/5/+L/FwAPAOn/BwD5//H/+f/i/+L/AADx//H/BwDa/wAADwDx/wcADwDx/wAADwAAAB4ABwAHAAAAJgAXAA8ADwAXACYADwAPAOn/8f8HAPn/+f8mAAAA8f8mAAAABwAmAPH/BwAmAAcAAAAHAAcAFwAmAAcADwAHAA8A+f/5/wcA4v/L//n/8f8HAAcA2v8XABcA2v8HAAAAy/8mAPn/2v8mAAAA+f9FAOL/+f8XAOL/AAAuAOn/DwAmANr/BwAXAOn/BwAHANr/AAD5/+L/DwAHANL/DwD5/8v/FwDi/+L/VADS/wAANQDi/x4APQCk/1QADwDS/0wABwDD/1QA+f/i/1wAw//i/yYA0v8mAEUA2v9MAB4A2v9UANL/w/8PANr/DwBFANL/LgA9ANL/FwDp/6z/DwD5/+n/XAD5/wAATADp/xcALgDi//n/LgDS/wcAHgDL/z0ANQDS/x4AHgDa/xcABwDa/0wA0v8AAC4A6f/x/y4A8f8mAEUAw/9MAAAA8f8PAPn/AAAmAOn/DwAAAOn/HgDL/+L/4v/i/+L/FwDa/0UAJgDx/yYA6f/p/xcA2v+7/w8A0v8PAFQA8f8eAAAA0v8XAPH/tP8mAPH/8f89AAcAHgAeANr/BwAXAMP/+f8HAOL/JgAPAOL/HgAHAPH/JgDS/+n/AADi/xcADwDp/wcADwDa/w8A2v/p/w8A+f8HADUA6f8XAEwA6f8mAPn/y/8HAPn/6f9FAOn/6f9UANr/BwBMANr/+f8uAMv/NQAeALv/YwA1AOL/HgAAAOn/YwAAAAcAVADS/0UARQAAAA8AFwDi/x4ABwDp/+n/4v/i//n/DwDi/w8ADwAHABcAFwAHAEwAPQAHACYA+f8HAB4AFwAHAAAA4v8AAB4A8f/i//H/8f8AAB4A8f/x/wcAAAAXAAcA6f/5/w8A4v8AAOn/8f8PAB4AAAAHAPH/8f9MACYA6f8uAA8ADwAmANL/BwAXANL/AAD5/9r/LgBFAOL/VAAHAOn/LgAAAAcAPQD5/wcAXADi/wcADwDL//H/+f/L//H/DwDL/0wABwAPAC4AAADp/y4A4v/5//n/4v8HAPH/6f/x/+n/+f8mAA8A+f8HAOn/8f8AAOn/2v/5//n/RQAmANr/+f/5/wAA6f/x//H/HgD5/w8ALgAmABcA+f/x/xcA4v/x/yYABwD5/y4A+f8AAPH/AAD5/x4A8f8XAPn/+f8PABcA4v8eAPH/8f8AAPn/JgAmAAcABwAeAPn/BwAXAPn/4v/i/+L/AAAXAOn/AAAHAAAAFwAmACYA+f/x/w8AFwAHABcAJgD5/wAABwAHAAAA+f/D/+L/4v/x/wAA+f8AAB4ALgAHACYA4v/x/xcABwAeABcA8f8mAA8A8f8AAPn/8f8eAPH/4v/p/9L/4v8eAA8AHgAmABcADwAmAAAAFwAXAPH/BwDx//n/AABMAB4ABwDL/+L/2v8HAAcABwDx//H/JgAAAPn/HgAHAOn/8f/p/xcAHgAmAGsALgD5/+n/BwAAAPn/BwAmAB4ALgDa/wAAFwD5/wAA2v/a/+n/4v8eAHMARQA9AEUABwD5/wcA8f/i/+L/4v/x/wcA6f81AB4A2v8HAAAA6f/5/xcAAAAuAAcAHgAmAB4AFwAAAAAAAADS/7v/6f/a/wAAHgAuAD0ARQAPAD0ABwD5/wcA4v/p/xcABwAHAB4ADwAeAAcA4v/5/+n/2v/x/w8ADwA1AC4AFwAuAPn/+f/5/wcAFwAAAOn/6f8AAOn/4v8AAPH/+f/x/wAA8f/5/w8ALgBMAOn/HgAHABcAHgAmAPH/AADx/+L/6f/x//H/BwDx/+L/6f/p//H/4v8AAA8ABwAHACYAHgAHAPH/HgAmAPn/4v/i//n/DwDp/9L/+f8AAPn/DwD5/wAABwDS/xcAFwAPAB4AFwAeACYABwD5/wcA+f/x/9r/0v/p/w8AAAD5/xcAFwAAAOn/8f/p/+L/2v8AAB4ATAAXABcAJgAHANL/4v/p/+L/4v/p/+L/RQA1APn/TAAmAOn/6f/a//n/FwAXABcAXAAPAOn/6f/L/+L/2v/S//H/4v/p/wAA6f8AACYAAAAeAPH/4v/p/wcAYwBMAEwAPQD5//n/8f/S/+L/2v/i/1QADwDx/y4ABwAAAPH/4v/i/wAA4v8HACYADwAuAC4A6f/p/+n/4v/5/w8A8f/i/+L/BwAXAAcA+f8HABcABwAXAPH/DwAeAAAA+f8eAA8ABwAAAPH/6f/i/wAARQAeAOL/+f/5/wAA+f8AAB4AFwAPAB4A+f/i/x4AHgAPABcA6f/x/w8A8f8HAAcA4v/5/xcABwDx/wAAHgAXAPH/DwAPAAcAAAAPAC4A+f/5/xcA4v/i/+L/0v8PAB4A+f/5/1QAJgAeAPH/4v8HAAcABwBUAAcA+f8XAB4AFwAAANL/2v8AAOL/+f8XAC4ATAAHAOn/4v/S/9L/6f/i/w8ADwAXAC4AHgAAAPn/4v/p/+L/4v8AAGsALgDx/wcA6f/x/+n/y//a/8v/DwAmABcALgA9AB4AAADa/+n/4v/x/xcADwAHAPn/DwAmAOn/4v/a/+L/6f8AAOL/+f8eAA8AJgAPAAAADwAmAEUAawA9AEUAHgD5/wcA+f/D/+L/BwAHACYANQBFAEwANQAPADUABwDi/w8AAAAXAB4ADwDx/+n/w//D/9L/w//D/+L/2v/p/wAABwAmAAAADwAPABcA+f8AAB4AFwAHAA8A8f/p/+L/6f/L/+n/6f/p/+L/BwD5/+n/6f8AAOL/6f/5/0wALgD5/yYAFwDx/wAA+f/x/+L/0v/p/+L/6f/p/+n/6f/p/+L/4v/x/wAAAAAeAA8ALgAPAA8ABwD5/9L/6f/a//n/DwDx/wcAJgAHAAcAHgDx/wAABwD5/x4ABwAAABcAFwAmAB4ADwDp/wcAAAAPABcA6f8XACYA+f8AAPH/AAAXAAcA+f8XAPn/BwDx//H/HgAPAPn/JgAeAD0ATAAHAAAA8f/p/wcA+f/x/x4AAAAAAA8A6f/i//H/4v8AAPn/DwAeAAcA+f8AAPH/+f8AAAcA4v8AAAcADwAHAAcA+f/i/+L/8f8eAOn/AAAPAC4AFwAAAOn/4v/p/wAA6f/p/wcAAAAAAAcAFwAPACYAAAAXACYAJgAPAPn/DwAuAPH/DwAHAAAA4v/x/w8A+f/p/+L/4v/p//H/4v/5/wcA8f/i//n/JgAmABcAFwAHAOL/+f8HACYABwD5/wAA2v/x//n/8f/5/wAAAAAAAOn/8f9MACYA8f8uAAcAHgAXAA8AHgAXAAAA+f8AAAAA6f/p//n/FwDx//n/DwAXAPH/8f/p//H/BwAeAA8ADwAuAA8A+f8PABcABwDi//n/HgD5/+n/AAAXACYADwAAAPn/4v/p//H/FwAPAAcA+f/p/wcAFwD5/wcA8f/p/+L/+f8XAA8AHgAXAOL/6f/5/wcABwAPAB4A8f/x/wcADwAAAA8AHgAeAAcADwAPAAAAAAAHAAcABwD5/wAADwAAACYAAAAAAPn/BwDx/+n/AAAHAA8ABwAXACYABwAAAB4AFwDx/wAAAABUAA8ABwAXAA8A+f8HAAcAAADa//n/+f/x//n/NQA1AAcADwD5/yYAAAAPACYABwD5/w8AJgAPAPH/8f/5/wAA8f/i/+L/+f8AAPH/AADp/wAAHgAuAA8A+f8HAAcA+f8HAAcADwDx/wcAAAAHAPn/HgDx//n/+f/x/wcABwAPAAcAAAAAAA8ABwAAAA8AAAD5/wAAAADx//n/BwAAAOn/JgA1AAAAFwAeABcAAAAXAB4A8f/x/+n/FwAPABcABwAHAPH/6f/i//H/HgD5/wcAFwDp//H/FwAHAPn/4v/5/wAA8f/x/wcA8f/p/xcA8f/p/+n/AAAAAB4AJgAHAOn/+f8AAOn/DwAPANr/+f/5/wAA8f8AAA8AAAD5/9r/PQAeAAAATAA1ACYAHgD5/xcAFwAPABcAAAAPAAAAHgD5/wAA8f/p/wcA+f8HAAcADwDx/wcA\" type=\"audio/wav\" />\n",
       "                    Your browser does not support the audio element.\n",
       "                </audio>\n",
       "              "
      ],
      "text/plain": [
       "<IPython.lib.display.Audio object>"
      ]
     },
     "execution_count": 26,
     "metadata": {},
     "output_type": "execute_result"
    }
   ],
   "source": [
    "import IPython.display as ipd\n",
    "import numpy as np\n",
    "import random\n",
    "\n",
    "rand_int = random.randint(0, len(train_dataset)-1)\n",
    "\n",
    "print(\"Text:\", train_dataset[rand_int][\"text\"])\n",
    "print(\"Phonetics:\", train_dataset[rand_int][\"phonetic\"])\n",
    "print(\"Input array shape:\", train_dataset[rand_int][\"audio\"][\"array\"].shape)\n",
    "print(\"Sampling rate:\", train_dataset[rand_int][\"audio\"][\"sampling_rate\"])\n",
    "ipd.Audio(data=train_dataset[rand_int][\"audio\"][\"array\"], autoplay=False, rate=16000)"
   ]
  },
  {
   "cell_type": "markdown",
   "metadata": {},
   "source": [
    "## Build Character Set"
   ]
  },
  {
   "cell_type": "code",
   "execution_count": 27,
   "metadata": {
    "execution": {
     "iopub.execute_input": "2025-04-02T14:57:28.992281Z",
     "iopub.status.busy": "2025-04-02T14:57:28.991928Z",
     "iopub.status.idle": "2025-04-02T14:57:29.002017Z",
     "shell.execute_reply": "2025-04-02T14:57:29.000912Z",
     "shell.execute_reply.started": "2025-04-02T14:57:28.992243Z"
    },
    "trusted": true
   },
   "outputs": [],
   "source": [
    "vocab_train = list(set(train_phonetics)) + [' ']\n",
    "vocab_valid = list(set(valid_phonetics)) + [' ']\n",
    "vocab_test  = list(set(test_phonetics)) + [' ']"
   ]
  },
  {
   "cell_type": "code",
   "execution_count": 28,
   "metadata": {
    "execution": {
     "iopub.execute_input": "2025-04-02T14:57:30.071452Z",
     "iopub.status.busy": "2025-04-02T14:57:30.071118Z",
     "iopub.status.idle": "2025-04-02T14:57:30.077524Z",
     "shell.execute_reply": "2025-04-02T14:57:30.076623Z",
     "shell.execute_reply.started": "2025-04-02T14:57:30.071416Z"
    },
    "trusted": true
   },
   "outputs": [
    {
     "name": "stdout",
     "output_type": "stream",
     "text": [
      "{' ': 0, 'aa': 1, 'ae': 2, 'ah': 3, 'aw': 4, 'ay': 5, 'b': 6, 'ch': 7, 'd': 8, 'dh': 9, 'dx': 10, 'eh': 11, 'er': 12, 'ey': 13, 'f': 14, 'g': 15, 'h#': 16, 'hh': 17, 'ih': 18, 'iy': 19, 'jh': 20, 'k': 21, 'l': 22, 'm': 23, 'n': 24, 'ng': 25, 'ow': 26, 'oy': 27, 'p': 28, 'r': 29, 's': 30, 'sh': 31, 't': 32, 'th': 33, 'uh': 34, 'uw': 35, 'v': 36, 'w': 37, 'y': 38, 'z': 39}\n"
     ]
    }
   ],
   "source": [
    "vocab_list = list(set(vocab_train + vocab_valid + vocab_test))\n",
    "vocab_dict = {v: k for k, v in enumerate(sorted(vocab_list))}\n",
    "\n",
    "print(vocab_dict)"
   ]
  },
  {
   "cell_type": "code",
   "execution_count": 29,
   "metadata": {
    "execution": {
     "iopub.execute_input": "2025-04-02T14:57:31.251445Z",
     "iopub.status.busy": "2025-04-02T14:57:31.251104Z",
     "iopub.status.idle": "2025-04-02T14:57:31.259509Z",
     "shell.execute_reply": "2025-04-02T14:57:31.258365Z",
     "shell.execute_reply.started": "2025-04-02T14:57:31.251408Z"
    },
    "trusted": true
   },
   "outputs": [
    {
     "data": {
      "text/plain": [
       "42"
      ]
     },
     "execution_count": 29,
     "metadata": {},
     "output_type": "execute_result"
    }
   ],
   "source": [
    "# make the space more intuitive to understand\n",
    "vocab_dict[\"|\"] = vocab_dict[\" \"]\n",
    "del vocab_dict[\" \"]\n",
    "\n",
    "vocab_dict[\"[UNK]\"] = len(vocab_dict)\n",
    "vocab_dict[\"[PAD]\"] = len(vocab_dict)\n",
    "len(vocab_dict)"
   ]
  },
  {
   "cell_type": "code",
   "execution_count": 30,
   "metadata": {
    "execution": {
     "iopub.execute_input": "2025-04-02T14:57:32.119822Z",
     "iopub.status.busy": "2025-04-02T14:57:32.119454Z",
     "iopub.status.idle": "2025-04-02T14:57:32.126303Z",
     "shell.execute_reply": "2025-04-02T14:57:32.125060Z",
     "shell.execute_reply.started": "2025-04-02T14:57:32.119787Z"
    },
    "trusted": true
   },
   "outputs": [],
   "source": [
    "# save vocab.json\n",
    "import json\n",
    "with open('/kaggle/working/vocab.json', 'w') as vocab_file:\n",
    "    json.dump(vocab_dict, vocab_file)"
   ]
  },
  {
   "cell_type": "markdown",
   "metadata": {},
   "source": [
    "# Modeling"
   ]
  },
  {
   "cell_type": "markdown",
   "metadata": {},
   "source": [
    "## Input Processor"
   ]
  },
  {
   "cell_type": "code",
   "execution_count": 31,
   "metadata": {},
   "outputs": [],
   "source": [
    "import json\n",
    "import torch\n",
    "from dataclasses import dataclass\n",
    "from typing import Any, Dict, List, Union"
   ]
  },
  {
   "cell_type": "code",
   "execution_count": 51,
   "metadata": {},
   "outputs": [],
   "source": [
    "# =============================================================================\n",
    "# Select your SSL model here. Options include:\n",
    "#   \"facebook/wav2vec2-xls-r-300m\"     (Wav2Vec2)\n",
    "#   \"facebook/hubert-large-ls960-ft\"    (HuBERT)\n",
    "#   \"facebook/data2vec-audio-large-960h\" (Data2Vec)\n",
    "#   \"microsoft/wavlm-base-plus\"         (WavLM)\n",
    "# =============================================================================\n",
    "ssl_model = \"facebook/hubert-large-ls960-ft\"  "
   ]
  },
  {
   "cell_type": "code",
   "execution_count": null,
   "metadata": {
    "execution": {
     "iopub.execute_input": "2025-04-02T14:57:54.257326Z",
     "iopub.status.busy": "2025-04-02T14:57:54.256970Z",
     "iopub.status.idle": "2025-04-02T14:57:54.505161Z",
     "shell.execute_reply": "2025-04-02T14:57:54.504194Z",
     "shell.execute_reply.started": "2025-04-02T14:57:54.257290Z"
    },
    "trusted": true
   },
   "outputs": [],
   "source": [
    "# -----------------------------------------------------------------------------\n",
    "# Load a custom CTC tokenizer (with your custom vocab.json)\n",
    "# You previously saved your vocab in /kaggle/working/vocab.json.\n",
    "# The tokenizer here is built for CTC tasks.\n",
    "# -----------------------------------------------------------------------------\n",
    "from transformers import Wav2Vec2CTCTokenizer\n",
    "\n",
    "tokenizer = Wav2Vec2CTCTokenizer.from_pretrained(\n",
    "    \"/kaggle/working/\",\n",
    "    unk_token=\"[UNK]\",\n",
    "    pad_token=\"[PAD]\",\n",
    "    word_delimiter_token=\"|\",\n",
    ")\n",
    "\n",
    "# -----------------------------------------------------------------------------\n",
    "# Load the corresponding feature extractor.\n",
    "# Using AutoFeatureExtractor allows us to switch models easily.\n",
    "# We also explicitly set parameters (sampling_rate, normalization, etc.).\n",
    "# -----------------------------------------------------------------------------\n",
    "from transformers import AutoFeatureExtractor\n",
    "\n",
    "feature_extractor = AutoFeatureExtractor.from_pretrained(\n",
    "    ssl_model,\n",
    "    feature_size=1,\n",
    "    sampling_rate=16000,\n",
    "    padding_value=0.0,\n",
    "    do_normalize=True,\n",
    "    return_attention_mask=True,\n",
    ")   \n",
    "\n",
    "# -----------------------------------------------------------------------------\n",
    "# Create a processor combining the feature extractor and our custom tokenizer.\n",
    "# Even though the class is named Wav2Vec2Processor, it works with similar architectures.\n",
    "# -----------------------------------------------------------------------------\n",
    "from transformers import Wav2Vec2Processor\n",
    "\n",
    "processor = Wav2Vec2Processor(feature_extractor=feature_extractor, tokenizer=tokenizer)"
   ]
  },
  {
   "cell_type": "code",
   "execution_count": 53,
   "metadata": {
    "execution": {
     "iopub.execute_input": "2025-04-02T14:57:55.341425Z",
     "iopub.status.busy": "2025-04-02T14:57:55.340400Z",
     "iopub.status.idle": "2025-04-02T14:57:55.356735Z",
     "shell.execute_reply": "2025-04-02T14:57:55.355654Z",
     "shell.execute_reply.started": "2025-04-02T14:57:55.341380Z"
    },
    "trusted": true
   },
   "outputs": [
    {
     "data": {
      "application/vnd.jupyter.widget-view+json": {
       "model_id": "f3ff8f58a8da43888bbd6cf46b1605ec",
       "version_major": 2,
       "version_minor": 0
      },
      "text/plain": [
       "Map:   0%|          | 0/1440 [00:00<?, ? examples/s]"
      ]
     },
     "metadata": {},
     "output_type": "display_data"
    },
    {
     "data": {
      "application/vnd.jupyter.widget-view+json": {
       "model_id": "2e2ad04aa4704496b1a4bc21f8c74406",
       "version_major": 2,
       "version_minor": 0
      },
      "text/plain": [
       "Map:   0%|          | 0/240 [00:00<?, ? examples/s]"
      ]
     },
     "metadata": {},
     "output_type": "display_data"
    },
    {
     "data": {
      "application/vnd.jupyter.widget-view+json": {
       "model_id": "f19dad20f4a446edbb2b9394db3b76b5",
       "version_major": 2,
       "version_minor": 0
      },
      "text/plain": [
       "Map:   0%|          | 0/1680 [00:00<?, ? examples/s]"
      ]
     },
     "metadata": {},
     "output_type": "display_data"
    }
   ],
   "source": [
    "# =============================================================================\n",
    "# Prepare the dataset: this function processes each sample by:\n",
    "#   - Converting the raw waveform using the processor,\n",
    "#   - Recording the input length,\n",
    "#   - Tokenizing the phonetic transcription into labels.\n",
    "# =============================================================================\n",
    "def prepare_dataset(batch):\n",
    "    audio = batch[\"audio\"]\n",
    "    # Process the raw audio; we take the first (and only) element in the returned list.\n",
    "    batch[\"input_values\"] = processor(audio[\"array\"], sampling_rate=audio[\"sampling_rate\"]).input_values[0]\n",
    "    batch[\"input_length\"] = len(batch[\"input_values\"])\n",
    "    \n",
    "    # Process the phonetic transcription into token ids.\n",
    "    with processor.as_target_processor():\n",
    "        batch[\"labels\"] = processor(batch[\"phonetic\"]).input_ids\n",
    "    return batch\n",
    "\n",
    "# Map the processing function over your datasets (train, valid, test).\n",
    "# (If desired, you can remove columns by specifying remove_columns=train_dataset.column_names.)\n",
    "train_dataset = train_dataset.map(prepare_dataset)\n",
    "valid_dataset = valid_dataset.map(prepare_dataset)\n",
    "test_dataset = test_dataset.map(prepare_dataset)\n",
    "\n",
    "# =============================================================================\n",
    "# Data Collator: Dynamically pads inputs and labels using the processor's pad method.\n",
    "# Note: For labels, padded tokens are replaced with -100 to ignore them in loss computation.\n",
    "# =============================================================================\n",
    "@dataclass\n",
    "class DataCollatorCTCWithPadding:\n",
    "    processor: Wav2Vec2Processor\n",
    "    padding: Union[bool, str] = True\n",
    "\n",
    "    def __call__(self, features: List[Dict[str, Union[List[int], torch.Tensor]]]) -> Dict[str, torch.Tensor]:\n",
    "        # Separate the input features and label sequences.\n",
    "        input_features = [{\"input_values\": feature[\"input_values\"]} for feature in features]\n",
    "        label_features = [{\"input_ids\": feature[\"labels\"]} for feature in features]\n",
    "\n",
    "        # Pad the input features (e.g., audio representations).\n",
    "        batch = self.processor.pad(\n",
    "            input_features,\n",
    "            padding=self.padding,\n",
    "            return_tensors=\"pt\",\n",
    "        )\n",
    "\n",
    "        # Pad the target labels.\n",
    "        with self.processor.as_target_processor():\n",
    "            labels_batch = self.processor.pad(\n",
    "                label_features,\n",
    "                padding=self.padding,\n",
    "                return_tensors=\"pt\",\n",
    "            )\n",
    "\n",
    "        # Replace padding tokens in labels with -100.\n",
    "        labels = labels_batch[\"input_ids\"].masked_fill(labels_batch.attention_mask.ne(1), -100)\n",
    "        batch[\"labels\"] = labels\n",
    "\n",
    "        return batch"
   ]
  },
  {
   "cell_type": "markdown",
   "metadata": {},
   "source": [
    "## Evaluation Metrics"
   ]
  },
  {
   "cell_type": "markdown",
   "metadata": {},
   "source": [
    "We use WER (Word Error Rate) and CER (Character Error Rate) to measure the performance of our model. After the training, we realize that WER may not be the right fit. CER fits better.\n",
    "\n",
    "Note that CER here has some errors in our use case because each ARPAbet token is represented by one to three characters. For example, a label token is \"ch\" and another is \"ae\", that's two character error right there.\n",
    "\n",
    "After the training, we will re-evaluate on test-set one more time, which we will evaluate at token level."
   ]
  },
  {
   "cell_type": "code",
   "execution_count": 54,
   "metadata": {},
   "outputs": [],
   "source": [
    "from evaluate import load\n",
    "\n",
    "# Initialize the data collator.\n",
    "data_collator = DataCollatorCTCWithPadding(processor=processor, padding=True)\n",
    "# wer_metric = load_metric(\"wer\")\n",
    "cer_metric = load(\"cer\")"
   ]
  },
  {
   "cell_type": "code",
   "execution_count": 55,
   "metadata": {
    "execution": {
     "iopub.execute_input": "2025-04-02T15:01:25.074126Z",
     "iopub.status.busy": "2025-04-02T15:01:25.073820Z",
     "iopub.status.idle": "2025-04-02T15:01:25.090293Z",
     "shell.execute_reply": "2025-04-02T15:01:25.089254Z",
     "shell.execute_reply.started": "2025-04-02T15:01:25.074083Z"
    },
    "trusted": true
   },
   "outputs": [],
   "source": [
    "# =============================================================================\n",
    "# Evaluation Metrics (using CER as an example)\n",
    "# =============================================================================\n",
    "from evaluate import load\n",
    "\n",
    "cer_metric = load(\"cer\")\n",
    "\n",
    "def compute_metrics(pred):\n",
    "    import numpy as np\n",
    "\n",
    "    pred_logits = pred.predictions\n",
    "    pred_ids = np.argmax(pred_logits, axis=-1)\n",
    "\n",
    "    pred.label_ids[pred.label_ids == -100] = tokenizer.pad_token_id\n",
    "\n",
    "    pred_str = tokenizer.batch_decode(pred_ids)\n",
    "    label_str = tokenizer.batch_decode(pred.label_ids, group_tokens=False)\n",
    "    \n",
    "    cer = cer_metric.compute(predictions=pred_str, references=label_str)\n",
    "    \n",
    "    print(\"Predicted sample:\", pred_str[0])\n",
    "    print(\"Ground Truth sample:\", label_str[0])\n",
    "    return {\"cer\": cer}"
   ]
  },
  {
   "cell_type": "code",
   "execution_count": 58,
   "metadata": {
    "execution": {
     "iopub.execute_input": "2024-03-21T19:19:51.366793Z",
     "iopub.status.busy": "2024-03-21T19:19:51.366474Z",
     "iopub.status.idle": "2024-03-21T19:20:33.076648Z",
     "shell.execute_reply": "2024-03-21T19:20:33.075905Z",
     "shell.execute_reply.started": "2024-03-21T19:19:51.36675Z"
    },
    "trusted": true
   },
   "outputs": [
    {
     "name": "stderr",
     "output_type": "stream",
     "text": [
      "Some weights of HubertForCTC were not initialized from the model checkpoint at facebook/hubert-large-ls960-ft and are newly initialized because the shapes did not match:\n",
      "- lm_head.weight: found shape torch.Size([32, 1024]) in the checkpoint and torch.Size([44, 1024]) in the model instantiated\n",
      "- lm_head.bias: found shape torch.Size([32]) in the checkpoint and torch.Size([44]) in the model instantiated\n",
      "You should probably TRAIN this model on a down-stream task to be able to use it for predictions and inference.\n"
     ]
    }
   ],
   "source": [
    "# =============================================================================\n",
    "# Model Initialization: Load a CTC model for the selected SSL model.\n",
    "# AutoModelForCTC ensures that the correct architecture is loaded.\n",
    "# Some dropout parameters may be model-specific.\n",
    "# =============================================================================\n",
    "from transformers import AutoModelForCTC\n",
    "\n",
    "model = AutoModelForCTC.from_pretrained(\n",
    "    ssl_model,\n",
    "    attention_dropout=0.1,\n",
    "    layerdrop=0.0,\n",
    "    feat_proj_dropout=0.0,\n",
    "    ctc_loss_reduction=\"mean\",\n",
    "    pad_token_id=processor.tokenizer.pad_token_id,\n",
    "    vocab_size=len(processor.tokenizer),\n",
    "    ignore_mismatched_sizes=True  \n",
    ")"
   ]
  },
  {
   "cell_type": "code",
   "execution_count": 59,
   "metadata": {},
   "outputs": [
    {
     "data": {
      "text/plain": [
       "HubertForCTC(\n",
       "  (hubert): HubertModel(\n",
       "    (feature_extractor): HubertFeatureEncoder(\n",
       "      (conv_layers): ModuleList(\n",
       "        (0): HubertLayerNormConvLayer(\n",
       "          (conv): Conv1d(1, 512, kernel_size=(10,), stride=(5,))\n",
       "          (layer_norm): LayerNorm((512,), eps=1e-05, elementwise_affine=True)\n",
       "          (activation): GELUActivation()\n",
       "        )\n",
       "        (1-4): 4 x HubertLayerNormConvLayer(\n",
       "          (conv): Conv1d(512, 512, kernel_size=(3,), stride=(2,))\n",
       "          (layer_norm): LayerNorm((512,), eps=1e-05, elementwise_affine=True)\n",
       "          (activation): GELUActivation()\n",
       "        )\n",
       "        (5-6): 2 x HubertLayerNormConvLayer(\n",
       "          (conv): Conv1d(512, 512, kernel_size=(2,), stride=(2,))\n",
       "          (layer_norm): LayerNorm((512,), eps=1e-05, elementwise_affine=True)\n",
       "          (activation): GELUActivation()\n",
       "        )\n",
       "      )\n",
       "    )\n",
       "    (feature_projection): HubertFeatureProjection(\n",
       "      (layer_norm): LayerNorm((512,), eps=1e-05, elementwise_affine=True)\n",
       "      (projection): Linear(in_features=512, out_features=1024, bias=True)\n",
       "      (dropout): Dropout(p=0.0, inplace=False)\n",
       "    )\n",
       "    (encoder): HubertEncoderStableLayerNorm(\n",
       "      (pos_conv_embed): HubertPositionalConvEmbedding(\n",
       "        (conv): ParametrizedConv1d(\n",
       "          1024, 1024, kernel_size=(128,), stride=(1,), padding=(64,), groups=16\n",
       "          (parametrizations): ModuleDict(\n",
       "            (weight): ParametrizationList(\n",
       "              (0): _WeightNorm()\n",
       "            )\n",
       "          )\n",
       "        )\n",
       "        (padding): HubertSamePadLayer()\n",
       "        (activation): GELUActivation()\n",
       "      )\n",
       "      (layer_norm): LayerNorm((1024,), eps=1e-05, elementwise_affine=True)\n",
       "      (dropout): Dropout(p=0.1, inplace=False)\n",
       "      (layers): ModuleList(\n",
       "        (0-23): 24 x HubertEncoderLayerStableLayerNorm(\n",
       "          (attention): HubertSdpaAttention(\n",
       "            (k_proj): Linear(in_features=1024, out_features=1024, bias=True)\n",
       "            (v_proj): Linear(in_features=1024, out_features=1024, bias=True)\n",
       "            (q_proj): Linear(in_features=1024, out_features=1024, bias=True)\n",
       "            (out_proj): Linear(in_features=1024, out_features=1024, bias=True)\n",
       "          )\n",
       "          (dropout): Dropout(p=0.1, inplace=False)\n",
       "          (layer_norm): LayerNorm((1024,), eps=1e-05, elementwise_affine=True)\n",
       "          (feed_forward): HubertFeedForward(\n",
       "            (intermediate_dropout): Dropout(p=0.1, inplace=False)\n",
       "            (intermediate_dense): Linear(in_features=1024, out_features=4096, bias=True)\n",
       "            (intermediate_act_fn): GELUActivation()\n",
       "            (output_dense): Linear(in_features=4096, out_features=1024, bias=True)\n",
       "            (output_dropout): Dropout(p=0.1, inplace=False)\n",
       "          )\n",
       "          (final_layer_norm): LayerNorm((1024,), eps=1e-05, elementwise_affine=True)\n",
       "        )\n",
       "      )\n",
       "    )\n",
       "  )\n",
       "  (dropout): Dropout(p=0.1, inplace=False)\n",
       "  (lm_head): Linear(in_features=1024, out_features=44, bias=True)\n",
       ")"
      ]
     },
     "execution_count": 59,
     "metadata": {},
     "output_type": "execute_result"
    }
   ],
   "source": [
    "model"
   ]
  },
  {
   "cell_type": "code",
   "execution_count": 60,
   "metadata": {},
   "outputs": [
    {
     "name": "stdout",
     "output_type": "stream",
     "text": [
      "Total parameters: 315,483,820\n"
     ]
    }
   ],
   "source": [
    "total_params = sum(p.numel() for p in model.parameters())\n",
    "print(f\"Total parameters: {total_params:,}\")"
   ]
  },
  {
   "cell_type": "code",
   "execution_count": 43,
   "metadata": {
    "execution": {
     "iopub.execute_input": "2024-03-21T19:20:33.079283Z",
     "iopub.status.busy": "2024-03-21T19:20:33.078729Z",
     "iopub.status.idle": "2024-03-21T19:20:33.088248Z",
     "shell.execute_reply": "2024-03-21T19:20:33.087251Z",
     "shell.execute_reply.started": "2024-03-21T19:20:33.079227Z"
    },
    "trusted": true
   },
   "outputs": [],
   "source": [
    "# model.freeze_feature_encoder()"
   ]
  },
  {
   "cell_type": "markdown",
   "metadata": {},
   "source": [
    "## Training"
   ]
  },
  {
   "cell_type": "code",
   "execution_count": null,
   "metadata": {
    "trusted": true
   },
   "outputs": [
    {
     "name": "stderr",
     "output_type": "stream",
     "text": [
      "\u001b[34m\u001b[1mwandb\u001b[0m: Using wandb-core as the SDK backend.  Please refer to https://wandb.me/wandb-core for more information.\n",
      "\u001b[34m\u001b[1mwandb\u001b[0m: Currently logged in as: \u001b[33mivanbashtovyi1\u001b[0m (\u001b[33mIASA-BA-Diploma-Ivan-Bashtovyi\u001b[0m). Use \u001b[1m`wandb login --relogin`\u001b[0m to force relogin\n",
      "\u001b[34m\u001b[1mwandb\u001b[0m: \u001b[33mWARNING\u001b[0m If you're specifying your api key in code, ensure this code is not shared publicly.\n",
      "\u001b[34m\u001b[1mwandb\u001b[0m: \u001b[33mWARNING\u001b[0m Consider setting the WANDB_API_KEY environment variable, or running `wandb login` from the command line.\n",
      "\u001b[34m\u001b[1mwandb\u001b[0m: Appending key for api.wandb.ai to your netrc file: /root/.netrc\n"
     ]
    },
    {
     "data": {
      "text/html": [
       "Changes to your `wandb` environment variables will be ignored because your `wandb` session has already started. For more information on how to modify your settings with `wandb.init()` arguments, please refer to <a href='https://wandb.me/wandb-init' target=\"_blank\">the W&B docs</a>."
      ],
      "text/plain": [
       "<IPython.core.display.HTML object>"
      ]
     },
     "metadata": {},
     "output_type": "display_data"
    },
    {
     "name": "stderr",
     "output_type": "stream",
     "text": [
      "\u001b[34m\u001b[1mwandb\u001b[0m: Currently logged in as: \u001b[33mivanbashtovyi1\u001b[0m (\u001b[33mBashHav\u001b[0m). Use \u001b[1m`wandb login --relogin`\u001b[0m to force relogin\n"
     ]
    },
    {
     "data": {
      "text/html": [
       "Tracking run with wandb version 0.19.1"
      ],
      "text/plain": [
       "<IPython.core.display.HTML object>"
      ]
     },
     "metadata": {},
     "output_type": "display_data"
    },
    {
     "data": {
      "text/html": [
       "Run data is saved locally in <code>/kaggle/working/wandb/run-20250404_024643-dv3cck88</code>"
      ],
      "text/plain": [
       "<IPython.core.display.HTML object>"
      ]
     },
     "metadata": {},
     "output_type": "display_data"
    },
    {
     "data": {
      "text/html": [
       "Syncing run <strong><a href='https://wandb.ai/BashHav/iasa-ucu-audio-processing/runs/dv3cck88' target=\"_blank\">data2vec_test</a></strong> to <a href='https://wandb.ai/BashHav/iasa-ucu-audio-processing' target=\"_blank\">Weights & Biases</a> (<a href='https://wandb.me/developer-guide' target=\"_blank\">docs</a>)<br>"
      ],
      "text/plain": [
       "<IPython.core.display.HTML object>"
      ]
     },
     "metadata": {},
     "output_type": "display_data"
    },
    {
     "data": {
      "text/html": [
       " View project at <a href='https://wandb.ai/BashHav/iasa-ucu-audio-processing' target=\"_blank\">https://wandb.ai/BashHav/iasa-ucu-audio-processing</a>"
      ],
      "text/plain": [
       "<IPython.core.display.HTML object>"
      ]
     },
     "metadata": {},
     "output_type": "display_data"
    },
    {
     "data": {
      "text/html": [
       " View run at <a href='https://wandb.ai/BashHav/iasa-ucu-audio-processing/runs/dv3cck88' target=\"_blank\">https://wandb.ai/BashHav/iasa-ucu-audio-processing/runs/dv3cck88</a>"
      ],
      "text/plain": [
       "<IPython.core.display.HTML object>"
      ]
     },
     "metadata": {},
     "output_type": "display_data"
    },
    {
     "data": {
      "text/html": [
       "<button onClick=\"this.nextSibling.style.display='block';this.style.display='none';\">Display W&B run</button><iframe src='https://wandb.ai/BashHav/iasa-ucu-audio-processing/runs/dv3cck88?jupyter=true' style='border:none;width:100%;height:420px;display:none;'></iframe>"
      ],
      "text/plain": [
       "<wandb.sdk.wandb_run.Run at 0x78b41334c220>"
      ]
     },
     "execution_count": 46,
     "metadata": {},
     "output_type": "execute_result"
    }
   ],
   "source": [
    "import wandb\n",
    "wandb.login(key=WANDB_KEY)\n",
    "\n",
    "os.environ[\"WANDB_LOG_MODEL\"] = \"checkpoint\"\n",
    "\n",
    "# Initialize with team/entity\n",
    "wandb.init(\n",
    "    project=\"iasa-ucu-audio-processing\",\n",
    "    entity=\"BashHav\", \n",
    "    name='hubert_test',\n",
    "    settings=wandb.Settings(init_timeout=180) \n",
    ")"
   ]
  },
  {
   "cell_type": "code",
   "execution_count": 47,
   "metadata": {
    "execution": {
     "iopub.execute_input": "2024-03-21T19:20:55.557575Z",
     "iopub.status.busy": "2024-03-21T19:20:55.557249Z",
     "iopub.status.idle": "2024-03-21T19:20:55.57145Z",
     "shell.execute_reply": "2024-03-21T19:20:55.570427Z",
     "shell.execute_reply.started": "2024-03-21T19:20:55.557529Z"
    },
    "trusted": true
   },
   "outputs": [
    {
     "name": "stderr",
     "output_type": "stream",
     "text": [
      "/usr/local/lib/python3.10/dist-packages/transformers/training_args.py:1611: FutureWarning: `evaluation_strategy` is deprecated and will be removed in version 4.46 of 🤗 Transformers. Use `eval_strategy` instead\n",
      "  warnings.warn(\n"
     ]
    }
   ],
   "source": [
    "from transformers import TrainingArguments\n",
    "\n",
    "training_args = TrainingArguments(\n",
    "    output_dir='/kaggle/working/',\n",
    "    group_by_length=True,\n",
    "    per_device_train_batch_size=16,\n",
    "    gradient_accumulation_steps=1,\n",
    "    evaluation_strategy=\"steps\",\n",
    "    gradient_checkpointing=True,\n",
    "    fp16=True,\n",
    "    report_to='wandb',\n",
    "    max_steps=1000,\n",
    "    save_steps=200,\n",
    "    eval_steps=100,\n",
    "    logging_steps=20,\n",
    "    learning_rate=1e-4,\n",
    "    warmup_steps=20,\n",
    "    save_total_limit=3,\n",
    "    load_best_model_at_end=True\n",
    ")"
   ]
  },
  {
   "cell_type": "code",
   "execution_count": 48,
   "metadata": {
    "execution": {
     "iopub.execute_input": "2024-03-21T19:20:56.602607Z",
     "iopub.status.busy": "2024-03-21T19:20:56.601719Z",
     "iopub.status.idle": "2024-03-21T19:20:56.620415Z",
     "shell.execute_reply": "2024-03-21T19:20:56.619362Z",
     "shell.execute_reply.started": "2024-03-21T19:20:56.602566Z"
    },
    "trusted": true
   },
   "outputs": [
    {
     "name": "stderr",
     "output_type": "stream",
     "text": [
      "<ipython-input-48-828f3c8badd7>:3: FutureWarning: `tokenizer` is deprecated and will be removed in version 5.0.0 for `Trainer.__init__`. Use `processing_class` instead.\n",
      "  trainer = Trainer(\n"
     ]
    }
   ],
   "source": [
    "from transformers import Trainer\n",
    "\n",
    "trainer = Trainer(\n",
    "    model=model,\n",
    "    data_collator=data_collator,\n",
    "    args=training_args,\n",
    "    compute_metrics=compute_metrics,\n",
    "    train_dataset=train_dataset,\n",
    "    eval_dataset=valid_dataset,\n",
    "    tokenizer=processor.feature_extractor\n",
    ")"
   ]
  },
  {
   "cell_type": "code",
   "execution_count": 49,
   "metadata": {
    "execution": {
     "iopub.execute_input": "2024-03-21T19:21:06.520432Z",
     "iopub.status.busy": "2024-03-21T19:21:06.520106Z",
     "iopub.status.idle": "2024-03-21T19:31:57.82814Z",
     "shell.execute_reply": "2024-03-21T19:31:57.826777Z",
     "shell.execute_reply.started": "2024-03-21T19:21:06.520399Z"
    },
    "trusted": true
   },
   "outputs": [
    {
     "name": "stderr",
     "output_type": "stream",
     "text": [
      "\u001b[34m\u001b[1mwandb\u001b[0m: \u001b[33mWARNING\u001b[0m The `run_name` is currently set to the same value as `TrainingArguments.output_dir`. If this was not intended, please specify a different run name by setting the `TrainingArguments.run_name` parameter.\n",
      "/usr/local/lib/python3.10/dist-packages/transformers/models/wav2vec2/processing_wav2vec2.py:174: UserWarning: `as_target_processor` is deprecated and will be removed in v5 of Transformers. You can process your labels by using the argument `text` of the regular `__call__` method (either in the same call as your audio inputs, or in a separate call.\n",
      "  warnings.warn(\n"
     ]
    },
    {
     "data": {
      "text/html": [
       "\n",
       "    <div>\n",
       "      \n",
       "      <progress value='843' max='1200' style='width:300px; height:20px; vertical-align: middle;'></progress>\n",
       "      [ 843/1200 28:55 < 12:16, 0.48 it/s, Epoch 9.36/14]\n",
       "    </div>\n",
       "    <table border=\"1\" class=\"dataframe\">\n",
       "  <thead>\n",
       " <tr style=\"text-align: left;\">\n",
       "      <th>Step</th>\n",
       "      <th>Training Loss</th>\n",
       "      <th>Validation Loss</th>\n",
       "      <th>Cer</th>\n",
       "    </tr>\n",
       "  </thead>\n",
       "  <tbody>\n",
       "    <tr>\n",
       "      <td>100</td>\n",
       "      <td>3.253900</td>\n",
       "      <td>3.220123</td>\n",
       "      <td>1.000000</td>\n",
       "    </tr>\n",
       "    <tr>\n",
       "      <td>200</td>\n",
       "      <td>1.812200</td>\n",
       "      <td>1.283380</td>\n",
       "      <td>0.457074</td>\n",
       "    </tr>\n",
       "    <tr>\n",
       "      <td>300</td>\n",
       "      <td>0.651800</td>\n",
       "      <td>0.474233</td>\n",
       "      <td>0.117412</td>\n",
       "    </tr>\n",
       "    <tr>\n",
       "      <td>400</td>\n",
       "      <td>0.466500</td>\n",
       "      <td>0.426773</td>\n",
       "      <td>0.125159</td>\n",
       "    </tr>\n",
       "    <tr>\n",
       "      <td>500</td>\n",
       "      <td>0.396300</td>\n",
       "      <td>0.387358</td>\n",
       "      <td>0.100902</td>\n",
       "    </tr>\n",
       "    <tr>\n",
       "      <td>600</td>\n",
       "      <td>0.351900</td>\n",
       "      <td>0.385181</td>\n",
       "      <td>0.100076</td>\n",
       "    </tr>\n",
       "    <tr>\n",
       "      <td>700</td>\n",
       "      <td>0.314200</td>\n",
       "      <td>0.383577</td>\n",
       "      <td>0.100521</td>\n",
       "    </tr>\n",
       "    <tr>\n",
       "      <td>800</td>\n",
       "      <td>0.272400</td>\n",
       "      <td>0.388754</td>\n",
       "      <td>0.092329</td>\n",
       "    </tr>\n",
       "  </tbody>\n",
       "</table><p>"
      ],
      "text/plain": [
       "<IPython.core.display.HTML object>"
      ]
     },
     "metadata": {},
     "output_type": "display_data"
    },
    {
     "name": "stdout",
     "output_type": "stream",
     "text": [
      "Predicted sample: \n",
      "Ground Truth sample: h#hhihzh#tahfh#h#aanihsh#tiyh#kihnh#dehm zihmh#tuwh#eysaalahh#tehriyh#ehnh#dihfihh#k lh#tihh#zihsh#tihnh#sh#\n",
      "Predicted sample: h#hhh#th#nihsh#th#knh#dm zmh#th#slh#trh#nh#dihfh#klh#th#h#h# sh#tn s\n",
      "Ground Truth sample: h#hhihzh#tahfh#h#aanihsh#tiyh#kihnh#dehm zihmh#tuwh#eysaalahh#tehriyh#ehnh#dihfihh#k lh#tihh#zihsh#tihnh#sh#\n"
     ]
    },
    {
     "name": "stderr",
     "output_type": "stream",
     "text": [
      "\u001b[34m\u001b[1mwandb\u001b[0m: Adding directory to artifact (/kaggle/working/checkpoint-200)... Done. 25.0s\n",
      "/usr/local/lib/python3.10/dist-packages/transformers/models/wav2vec2/processing_wav2vec2.py:174: UserWarning: `as_target_processor` is deprecated and will be removed in v5 of Transformers. You can process your labels by using the argument `text` of the regular `__call__` method (either in the same call as your audio inputs, or in a separate call.\n",
      "  warnings.warn(\n"
     ]
    },
    {
     "name": "stdout",
     "output_type": "stream",
     "text": [
      "Predicted sample: h#hhihzh#tahfh#aanihsh#tiyh#kihnh#dehm zhhihmh#tuwh#eysaalahh#tehriyh#ehnh#dihfahh#kahlh#th#ihh#g zihsh#tihn sh#h#h#h#\n",
      "Ground Truth sample: h#hhihzh#tahfh#h#aanihsh#tiyh#kihnh#dehm zihmh#tuwh#eysaalahh#tehriyh#ehnh#dihfihh#k lh#tihh#zihsh#tihnh#sh#\n",
      "Predicted sample: h#hhihzh#tahfh#aanihsh#tiyh#kihnh#dehm zihmh#tuwh#eysaalihh#tehriyh#aenh#dihfahh#kahlh#th#ihh#zihsh#tihnsh#h#h#\n",
      "Ground Truth sample: h#hhihzh#tahfh#h#aanihsh#tiyh#kihnh#dehm zihmh#tuwh#eysaalahh#tehriyh#ehnh#dihfihh#k lh#tihh#zihsh#tihnh#sh#\n"
     ]
    },
    {
     "name": "stderr",
     "output_type": "stream",
     "text": [
      "\u001b[34m\u001b[1mwandb\u001b[0m: Adding directory to artifact (/kaggle/working/checkpoint-400)... Done. 24.4s\n",
      "/usr/local/lib/python3.10/dist-packages/transformers/models/wav2vec2/processing_wav2vec2.py:174: UserWarning: `as_target_processor` is deprecated and will be removed in v5 of Transformers. You can process your labels by using the argument `text` of the regular `__call__` method (either in the same call as your audio inputs, or in a separate call.\n",
      "  warnings.warn(\n"
     ]
    },
    {
     "name": "stdout",
     "output_type": "stream",
     "text": [
      "Predicted sample: h#hhihzh#tahfh#aanihsh#tiyh#kihnh#dehm zhhihmh#tuwh#eysaalihh#tehriyh#ehnh#dihfihh#k lh#th#ihh#g zihsh#tihnh#sh#\n",
      "Ground Truth sample: h#hhihzh#tahfh#h#aanihsh#tiyh#kihnh#dehm zihmh#tuwh#eysaalahh#tehriyh#ehnh#dihfihh#k lh#tihh#zihsh#tihnh#sh#\n",
      "Predicted sample: h#hhihzh#tahfh#aanihsh#tiyh#kihnh#dehm zihmh#tuwh#eysaalihh#tehriyh#ehnh#dihfahh#k lh#th#ihh#zihsh#tihnh#sh#h#h#\n",
      "Ground Truth sample: h#hhihzh#tahfh#h#aanihsh#tiyh#kihnh#dehm zihmh#tuwh#eysaalahh#tehriyh#ehnh#dihfihh#k lh#tihh#zihsh#tihnh#sh#\n"
     ]
    },
    {
     "name": "stderr",
     "output_type": "stream",
     "text": [
      "\u001b[34m\u001b[1mwandb\u001b[0m: Adding directory to artifact (/kaggle/working/checkpoint-600)... Done. 23.3s\n",
      "/usr/local/lib/python3.10/dist-packages/transformers/models/wav2vec2/processing_wav2vec2.py:174: UserWarning: `as_target_processor` is deprecated and will be removed in v5 of Transformers. You can process your labels by using the argument `text` of the regular `__call__` method (either in the same call as your audio inputs, or in a separate call.\n",
      "  warnings.warn(\n"
     ]
    },
    {
     "name": "stdout",
     "output_type": "stream",
     "text": [
      "Predicted sample: h#hhihzh#tahfh#aanihsh#tiyh#kihnh#dehm zihmh#tuwh#eysaalahh#tehriyh#ehnh#dihfihh#k lh#th#ihh#g zihsh#tihn sh#h#\n",
      "Ground Truth sample: h#hhihzh#tahfh#h#aanihsh#tiyh#kihnh#dehm zihmh#tuwh#eysaalahh#tehriyh#ehnh#dihfihh#k lh#tihh#zihsh#tihnh#sh#\n",
      "Predicted sample: h#hhihzh#tahfh#aanihsh#tiyh#kihnh#dehm zihmh#tuwh#eysaalahh#tehriyh#ehnh#dihfihh#k lh#th#ihh#zihsh#tihn sh#\n",
      "Ground Truth sample: h#hhihzh#tahfh#h#aanihsh#tiyh#kihnh#dehm zihmh#tuwh#eysaalahh#tehriyh#ehnh#dihfihh#k lh#tihh#zihsh#tihnh#sh#\n"
     ]
    },
    {
     "name": "stderr",
     "output_type": "stream",
     "text": [
      "\u001b[34m\u001b[1mwandb\u001b[0m: Adding directory to artifact (/kaggle/working/checkpoint-800)... Done. 24.4s\n",
      "/usr/local/lib/python3.10/dist-packages/transformers/models/wav2vec2/processing_wav2vec2.py:174: UserWarning: `as_target_processor` is deprecated and will be removed in v5 of Transformers. You can process your labels by using the argument `text` of the regular `__call__` method (either in the same call as your audio inputs, or in a separate call.\n",
      "  warnings.warn(\n"
     ]
    },
    {
     "ename": "KeyboardInterrupt",
     "evalue": "",
     "output_type": "error",
     "traceback": [
      "\u001b[0;31m---------------------------------------------------------------------------\u001b[0m",
      "\u001b[0;31mKeyboardInterrupt\u001b[0m                         Traceback (most recent call last)",
      "\u001b[0;32m<ipython-input-49-3435b262f1ae>\u001b[0m in \u001b[0;36m<cell line: 1>\u001b[0;34m()\u001b[0m\n\u001b[0;32m----> 1\u001b[0;31m \u001b[0mtrainer\u001b[0m\u001b[0;34m.\u001b[0m\u001b[0mtrain\u001b[0m\u001b[0;34m(\u001b[0m\u001b[0;34m)\u001b[0m\u001b[0;34m\u001b[0m\u001b[0;34m\u001b[0m\u001b[0m\n\u001b[0m",
      "\u001b[0;32m/usr/local/lib/python3.10/dist-packages/transformers/trainer.py\u001b[0m in \u001b[0;36mtrain\u001b[0;34m(self, resume_from_checkpoint, trial, ignore_keys_for_eval, **kwargs)\u001b[0m\n\u001b[1;32m   2243\u001b[0m                 \u001b[0mhf_hub_utils\u001b[0m\u001b[0;34m.\u001b[0m\u001b[0menable_progress_bars\u001b[0m\u001b[0;34m(\u001b[0m\u001b[0;34m)\u001b[0m\u001b[0;34m\u001b[0m\u001b[0;34m\u001b[0m\u001b[0m\n\u001b[1;32m   2244\u001b[0m         \u001b[0;32melse\u001b[0m\u001b[0;34m:\u001b[0m\u001b[0;34m\u001b[0m\u001b[0;34m\u001b[0m\u001b[0m\n\u001b[0;32m-> 2245\u001b[0;31m             return inner_training_loop(\n\u001b[0m\u001b[1;32m   2246\u001b[0m                 \u001b[0margs\u001b[0m\u001b[0;34m=\u001b[0m\u001b[0margs\u001b[0m\u001b[0;34m,\u001b[0m\u001b[0;34m\u001b[0m\u001b[0;34m\u001b[0m\u001b[0m\n\u001b[1;32m   2247\u001b[0m                 \u001b[0mresume_from_checkpoint\u001b[0m\u001b[0;34m=\u001b[0m\u001b[0mresume_from_checkpoint\u001b[0m\u001b[0;34m,\u001b[0m\u001b[0;34m\u001b[0m\u001b[0;34m\u001b[0m\u001b[0m\n",
      "\u001b[0;32m/usr/local/lib/python3.10/dist-packages/transformers/trainer.py\u001b[0m in \u001b[0;36m_inner_training_loop\u001b[0;34m(self, batch_size, args, resume_from_checkpoint, trial, ignore_keys_for_eval)\u001b[0m\n\u001b[1;32m   2554\u001b[0m                     )\n\u001b[1;32m   2555\u001b[0m                     \u001b[0;32mwith\u001b[0m \u001b[0mcontext\u001b[0m\u001b[0;34m(\u001b[0m\u001b[0;34m)\u001b[0m\u001b[0;34m:\u001b[0m\u001b[0;34m\u001b[0m\u001b[0;34m\u001b[0m\u001b[0m\n\u001b[0;32m-> 2556\u001b[0;31m                         \u001b[0mtr_loss_step\u001b[0m \u001b[0;34m=\u001b[0m \u001b[0mself\u001b[0m\u001b[0;34m.\u001b[0m\u001b[0mtraining_step\u001b[0m\u001b[0;34m(\u001b[0m\u001b[0mmodel\u001b[0m\u001b[0;34m,\u001b[0m \u001b[0minputs\u001b[0m\u001b[0;34m,\u001b[0m \u001b[0mnum_items_in_batch\u001b[0m\u001b[0;34m)\u001b[0m\u001b[0;34m\u001b[0m\u001b[0;34m\u001b[0m\u001b[0m\n\u001b[0m\u001b[1;32m   2557\u001b[0m \u001b[0;34m\u001b[0m\u001b[0m\n\u001b[1;32m   2558\u001b[0m                     if (\n",
      "\u001b[0;32m/usr/local/lib/python3.10/dist-packages/transformers/trainer.py\u001b[0m in \u001b[0;36mtraining_step\u001b[0;34m(self, model, inputs, num_items_in_batch)\u001b[0m\n\u001b[1;32m   3716\u001b[0m \u001b[0;34m\u001b[0m\u001b[0m\n\u001b[1;32m   3717\u001b[0m         \u001b[0;32mwith\u001b[0m \u001b[0mself\u001b[0m\u001b[0;34m.\u001b[0m\u001b[0mcompute_loss_context_manager\u001b[0m\u001b[0;34m(\u001b[0m\u001b[0;34m)\u001b[0m\u001b[0;34m:\u001b[0m\u001b[0;34m\u001b[0m\u001b[0;34m\u001b[0m\u001b[0m\n\u001b[0;32m-> 3718\u001b[0;31m             \u001b[0mloss\u001b[0m \u001b[0;34m=\u001b[0m \u001b[0mself\u001b[0m\u001b[0;34m.\u001b[0m\u001b[0mcompute_loss\u001b[0m\u001b[0;34m(\u001b[0m\u001b[0mmodel\u001b[0m\u001b[0;34m,\u001b[0m \u001b[0minputs\u001b[0m\u001b[0;34m,\u001b[0m \u001b[0mnum_items_in_batch\u001b[0m\u001b[0;34m=\u001b[0m\u001b[0mnum_items_in_batch\u001b[0m\u001b[0;34m)\u001b[0m\u001b[0;34m\u001b[0m\u001b[0;34m\u001b[0m\u001b[0m\n\u001b[0m\u001b[1;32m   3719\u001b[0m \u001b[0;34m\u001b[0m\u001b[0m\n\u001b[1;32m   3720\u001b[0m         \u001b[0;32mdel\u001b[0m \u001b[0minputs\u001b[0m\u001b[0;34m\u001b[0m\u001b[0;34m\u001b[0m\u001b[0m\n",
      "\u001b[0;32m/usr/local/lib/python3.10/dist-packages/transformers/trainer.py\u001b[0m in \u001b[0;36mcompute_loss\u001b[0;34m(self, model, inputs, return_outputs, num_items_in_batch)\u001b[0m\n\u001b[1;32m   3781\u001b[0m                 \u001b[0mloss_kwargs\u001b[0m\u001b[0;34m[\u001b[0m\u001b[0;34m\"num_items_in_batch\"\u001b[0m\u001b[0;34m]\u001b[0m \u001b[0;34m=\u001b[0m \u001b[0mnum_items_in_batch\u001b[0m\u001b[0;34m\u001b[0m\u001b[0;34m\u001b[0m\u001b[0m\n\u001b[1;32m   3782\u001b[0m             \u001b[0minputs\u001b[0m \u001b[0;34m=\u001b[0m \u001b[0;34m{\u001b[0m\u001b[0;34m**\u001b[0m\u001b[0minputs\u001b[0m\u001b[0;34m,\u001b[0m \u001b[0;34m**\u001b[0m\u001b[0mloss_kwargs\u001b[0m\u001b[0;34m}\u001b[0m\u001b[0;34m\u001b[0m\u001b[0;34m\u001b[0m\u001b[0m\n\u001b[0;32m-> 3783\u001b[0;31m         \u001b[0moutputs\u001b[0m \u001b[0;34m=\u001b[0m \u001b[0mmodel\u001b[0m\u001b[0;34m(\u001b[0m\u001b[0;34m**\u001b[0m\u001b[0minputs\u001b[0m\u001b[0;34m)\u001b[0m\u001b[0;34m\u001b[0m\u001b[0;34m\u001b[0m\u001b[0m\n\u001b[0m\u001b[1;32m   3784\u001b[0m         \u001b[0;31m# Save past state if it exists\u001b[0m\u001b[0;34m\u001b[0m\u001b[0;34m\u001b[0m\u001b[0m\n\u001b[1;32m   3785\u001b[0m         \u001b[0;31m# TODO: this needs to be fixed and made cleaner later.\u001b[0m\u001b[0;34m\u001b[0m\u001b[0;34m\u001b[0m\u001b[0m\n",
      "\u001b[0;32m/usr/local/lib/python3.10/dist-packages/torch/nn/modules/module.py\u001b[0m in \u001b[0;36m_wrapped_call_impl\u001b[0;34m(self, *args, **kwargs)\u001b[0m\n\u001b[1;32m   1734\u001b[0m             \u001b[0;32mreturn\u001b[0m \u001b[0mself\u001b[0m\u001b[0;34m.\u001b[0m\u001b[0m_compiled_call_impl\u001b[0m\u001b[0;34m(\u001b[0m\u001b[0;34m*\u001b[0m\u001b[0margs\u001b[0m\u001b[0;34m,\u001b[0m \u001b[0;34m**\u001b[0m\u001b[0mkwargs\u001b[0m\u001b[0;34m)\u001b[0m  \u001b[0;31m# type: ignore[misc]\u001b[0m\u001b[0;34m\u001b[0m\u001b[0;34m\u001b[0m\u001b[0m\n\u001b[1;32m   1735\u001b[0m         \u001b[0;32melse\u001b[0m\u001b[0;34m:\u001b[0m\u001b[0;34m\u001b[0m\u001b[0;34m\u001b[0m\u001b[0m\n\u001b[0;32m-> 1736\u001b[0;31m             \u001b[0;32mreturn\u001b[0m \u001b[0mself\u001b[0m\u001b[0;34m.\u001b[0m\u001b[0m_call_impl\u001b[0m\u001b[0;34m(\u001b[0m\u001b[0;34m*\u001b[0m\u001b[0margs\u001b[0m\u001b[0;34m,\u001b[0m \u001b[0;34m**\u001b[0m\u001b[0mkwargs\u001b[0m\u001b[0;34m)\u001b[0m\u001b[0;34m\u001b[0m\u001b[0;34m\u001b[0m\u001b[0m\n\u001b[0m\u001b[1;32m   1737\u001b[0m \u001b[0;34m\u001b[0m\u001b[0m\n\u001b[1;32m   1738\u001b[0m     \u001b[0;31m# torchrec tests the code consistency with the following code\u001b[0m\u001b[0;34m\u001b[0m\u001b[0;34m\u001b[0m\u001b[0m\n",
      "\u001b[0;32m/usr/local/lib/python3.10/dist-packages/torch/nn/modules/module.py\u001b[0m in \u001b[0;36m_call_impl\u001b[0;34m(self, *args, **kwargs)\u001b[0m\n\u001b[1;32m   1745\u001b[0m                 \u001b[0;32mor\u001b[0m \u001b[0m_global_backward_pre_hooks\u001b[0m \u001b[0;32mor\u001b[0m \u001b[0m_global_backward_hooks\u001b[0m\u001b[0;34m\u001b[0m\u001b[0;34m\u001b[0m\u001b[0m\n\u001b[1;32m   1746\u001b[0m                 or _global_forward_hooks or _global_forward_pre_hooks):\n\u001b[0;32m-> 1747\u001b[0;31m             \u001b[0;32mreturn\u001b[0m \u001b[0mforward_call\u001b[0m\u001b[0;34m(\u001b[0m\u001b[0;34m*\u001b[0m\u001b[0margs\u001b[0m\u001b[0;34m,\u001b[0m \u001b[0;34m**\u001b[0m\u001b[0mkwargs\u001b[0m\u001b[0;34m)\u001b[0m\u001b[0;34m\u001b[0m\u001b[0;34m\u001b[0m\u001b[0m\n\u001b[0m\u001b[1;32m   1748\u001b[0m \u001b[0;34m\u001b[0m\u001b[0m\n\u001b[1;32m   1749\u001b[0m         \u001b[0mresult\u001b[0m \u001b[0;34m=\u001b[0m \u001b[0;32mNone\u001b[0m\u001b[0;34m\u001b[0m\u001b[0;34m\u001b[0m\u001b[0m\n",
      "\u001b[0;32m/usr/local/lib/python3.10/dist-packages/accelerate/utils/operations.py\u001b[0m in \u001b[0;36mforward\u001b[0;34m(*args, **kwargs)\u001b[0m\n\u001b[1;32m    821\u001b[0m \u001b[0;34m\u001b[0m\u001b[0m\n\u001b[1;32m    822\u001b[0m     \u001b[0;32mdef\u001b[0m \u001b[0mforward\u001b[0m\u001b[0;34m(\u001b[0m\u001b[0;34m*\u001b[0m\u001b[0margs\u001b[0m\u001b[0;34m,\u001b[0m \u001b[0;34m**\u001b[0m\u001b[0mkwargs\u001b[0m\u001b[0;34m)\u001b[0m\u001b[0;34m:\u001b[0m\u001b[0;34m\u001b[0m\u001b[0;34m\u001b[0m\u001b[0m\n\u001b[0;32m--> 823\u001b[0;31m         \u001b[0;32mreturn\u001b[0m \u001b[0mmodel_forward\u001b[0m\u001b[0;34m(\u001b[0m\u001b[0;34m*\u001b[0m\u001b[0margs\u001b[0m\u001b[0;34m,\u001b[0m \u001b[0;34m**\u001b[0m\u001b[0mkwargs\u001b[0m\u001b[0;34m)\u001b[0m\u001b[0;34m\u001b[0m\u001b[0;34m\u001b[0m\u001b[0m\n\u001b[0m\u001b[1;32m    824\u001b[0m \u001b[0;34m\u001b[0m\u001b[0m\n\u001b[1;32m    825\u001b[0m     \u001b[0;31m# To act like a decorator so that it can be popped when doing `extract_model_from_parallel`\u001b[0m\u001b[0;34m\u001b[0m\u001b[0;34m\u001b[0m\u001b[0m\n",
      "\u001b[0;32m/usr/local/lib/python3.10/dist-packages/accelerate/utils/operations.py\u001b[0m in \u001b[0;36m__call__\u001b[0;34m(self, *args, **kwargs)\u001b[0m\n\u001b[1;32m    809\u001b[0m \u001b[0;34m\u001b[0m\u001b[0m\n\u001b[1;32m    810\u001b[0m     \u001b[0;32mdef\u001b[0m \u001b[0m__call__\u001b[0m\u001b[0;34m(\u001b[0m\u001b[0mself\u001b[0m\u001b[0;34m,\u001b[0m \u001b[0;34m*\u001b[0m\u001b[0margs\u001b[0m\u001b[0;34m,\u001b[0m \u001b[0;34m**\u001b[0m\u001b[0mkwargs\u001b[0m\u001b[0;34m)\u001b[0m\u001b[0;34m:\u001b[0m\u001b[0;34m\u001b[0m\u001b[0;34m\u001b[0m\u001b[0m\n\u001b[0;32m--> 811\u001b[0;31m         \u001b[0;32mreturn\u001b[0m \u001b[0mconvert_to_fp32\u001b[0m\u001b[0;34m(\u001b[0m\u001b[0mself\u001b[0m\u001b[0;34m.\u001b[0m\u001b[0mmodel_forward\u001b[0m\u001b[0;34m(\u001b[0m\u001b[0;34m*\u001b[0m\u001b[0margs\u001b[0m\u001b[0;34m,\u001b[0m \u001b[0;34m**\u001b[0m\u001b[0mkwargs\u001b[0m\u001b[0;34m)\u001b[0m\u001b[0;34m)\u001b[0m\u001b[0;34m\u001b[0m\u001b[0;34m\u001b[0m\u001b[0m\n\u001b[0m\u001b[1;32m    812\u001b[0m \u001b[0;34m\u001b[0m\u001b[0m\n\u001b[1;32m    813\u001b[0m     \u001b[0;32mdef\u001b[0m \u001b[0m__getstate__\u001b[0m\u001b[0;34m(\u001b[0m\u001b[0mself\u001b[0m\u001b[0;34m)\u001b[0m\u001b[0;34m:\u001b[0m\u001b[0;34m\u001b[0m\u001b[0;34m\u001b[0m\u001b[0m\n",
      "\u001b[0;32m/usr/local/lib/python3.10/dist-packages/torch/amp/autocast_mode.py\u001b[0m in \u001b[0;36mdecorate_autocast\u001b[0;34m(*args, **kwargs)\u001b[0m\n\u001b[1;32m     42\u001b[0m     \u001b[0;32mdef\u001b[0m \u001b[0mdecorate_autocast\u001b[0m\u001b[0;34m(\u001b[0m\u001b[0;34m*\u001b[0m\u001b[0margs\u001b[0m\u001b[0;34m,\u001b[0m \u001b[0;34m**\u001b[0m\u001b[0mkwargs\u001b[0m\u001b[0;34m)\u001b[0m\u001b[0;34m:\u001b[0m\u001b[0;34m\u001b[0m\u001b[0;34m\u001b[0m\u001b[0m\n\u001b[1;32m     43\u001b[0m         \u001b[0;32mwith\u001b[0m \u001b[0mautocast_instance\u001b[0m\u001b[0;34m:\u001b[0m\u001b[0;34m\u001b[0m\u001b[0;34m\u001b[0m\u001b[0m\n\u001b[0;32m---> 44\u001b[0;31m             \u001b[0;32mreturn\u001b[0m \u001b[0mfunc\u001b[0m\u001b[0;34m(\u001b[0m\u001b[0;34m*\u001b[0m\u001b[0margs\u001b[0m\u001b[0;34m,\u001b[0m \u001b[0;34m**\u001b[0m\u001b[0mkwargs\u001b[0m\u001b[0;34m)\u001b[0m\u001b[0;34m\u001b[0m\u001b[0;34m\u001b[0m\u001b[0m\n\u001b[0m\u001b[1;32m     45\u001b[0m \u001b[0;34m\u001b[0m\u001b[0m\n\u001b[1;32m     46\u001b[0m     \u001b[0mdecorate_autocast\u001b[0m\u001b[0;34m.\u001b[0m\u001b[0m__script_unsupported\u001b[0m \u001b[0;34m=\u001b[0m \u001b[0;34m\"@autocast() decorator is not supported in script mode\"\u001b[0m  \u001b[0;31m# type: ignore[attr-defined]\u001b[0m\u001b[0;34m\u001b[0m\u001b[0;34m\u001b[0m\u001b[0m\n",
      "\u001b[0;32m/usr/local/lib/python3.10/dist-packages/transformers/models/data2vec/modeling_data2vec_audio.py\u001b[0m in \u001b[0;36mforward\u001b[0;34m(self, input_values, attention_mask, output_attentions, output_hidden_states, return_dict, labels)\u001b[0m\n\u001b[1;32m   1297\u001b[0m             \u001b[0mlabels_mask\u001b[0m \u001b[0;34m=\u001b[0m \u001b[0mlabels\u001b[0m \u001b[0;34m>=\u001b[0m \u001b[0;36m0\u001b[0m\u001b[0;34m\u001b[0m\u001b[0;34m\u001b[0m\u001b[0m\n\u001b[1;32m   1298\u001b[0m             \u001b[0mtarget_lengths\u001b[0m \u001b[0;34m=\u001b[0m \u001b[0mlabels_mask\u001b[0m\u001b[0;34m.\u001b[0m\u001b[0msum\u001b[0m\u001b[0;34m(\u001b[0m\u001b[0;34m-\u001b[0m\u001b[0;36m1\u001b[0m\u001b[0;34m)\u001b[0m\u001b[0;34m\u001b[0m\u001b[0;34m\u001b[0m\u001b[0m\n\u001b[0;32m-> 1299\u001b[0;31m             \u001b[0mflattened_targets\u001b[0m \u001b[0;34m=\u001b[0m \u001b[0mlabels\u001b[0m\u001b[0;34m.\u001b[0m\u001b[0mmasked_select\u001b[0m\u001b[0;34m(\u001b[0m\u001b[0mlabels_mask\u001b[0m\u001b[0;34m)\u001b[0m\u001b[0;34m\u001b[0m\u001b[0;34m\u001b[0m\u001b[0m\n\u001b[0m\u001b[1;32m   1300\u001b[0m \u001b[0;34m\u001b[0m\u001b[0m\n\u001b[1;32m   1301\u001b[0m             \u001b[0;31m# ctc_loss doesn't support fp16\u001b[0m\u001b[0;34m\u001b[0m\u001b[0;34m\u001b[0m\u001b[0m\n",
      "\u001b[0;31mKeyboardInterrupt\u001b[0m: "
     ]
    }
   ],
   "source": [
    "trainer.train()"
   ]
  },
  {
   "cell_type": "code",
   "execution_count": 61,
   "metadata": {},
   "outputs": [
    {
     "data": {
      "text/html": [],
      "text/plain": [
       "<IPython.core.display.HTML object>"
      ]
     },
     "metadata": {},
     "output_type": "display_data"
    },
    {
     "data": {
      "text/html": [
       "<br>    <style><br>        .wandb-row {<br>            display: flex;<br>            flex-direction: row;<br>            flex-wrap: wrap;<br>            justify-content: flex-start;<br>            width: 100%;<br>        }<br>        .wandb-col {<br>            display: flex;<br>            flex-direction: column;<br>            flex-basis: 100%;<br>            flex: 1;<br>            padding: 10px;<br>        }<br>    </style><br><div class=\"wandb-row\"><div class=\"wandb-col\"><h3>Run history:</h3><br/><table class=\"wandb\"><tr><td>eval/cer</td><td>█▄▁▁▁▁▁▁</td></tr><tr><td>eval/loss</td><td>█▃▁▁▁▁▁▁</td></tr><tr><td>eval/runtime</td><td>▁█▁▁▅▂█▃</td></tr><tr><td>eval/samples_per_second</td><td>█▁██▄▇▁▆</td></tr><tr><td>eval/steps_per_second</td><td>█▁██▄▇▁▆</td></tr><tr><td>train/epoch</td><td>▁▁▁▂▂▂▂▂▂▃▃▃▃▃▃▄▄▄▄▄▅▅▅▅▅▅▆▆▆▆▆▇▇▇▇▇▇███</td></tr><tr><td>train/global_step</td><td>▁▁▁▂▂▂▂▂▃▃▃▃▃▃▃▄▄▄▄▄▅▅▅▅▅▆▆▆▆▆▆▇▇▇▇▇▇███</td></tr><tr><td>train/grad_norm</td><td>▅▁▃▂▃▁▃▄▄█▆█▇▇▆▆█▅▇▇▆▅▆▃▄▆▅▄▆▅▅▃▂▄▅▅▅▄▆▆</td></tr><tr><td>train/learning_rate</td><td>▆███▇▇▇▇▇▇▆▆▆▆▆▆▅▅▅▅▅▄▄▄▄▄▃▃▃▃▃▃▂▂▂▂▂▂▁▁</td></tr><tr><td>train/loss</td><td>█▄▄▄▄▄▄▃▃▂▂▂▁▁▁▁▁▁▁▁▁▁▁▁▁▁▁▁▁▁▁▁▁▁▁▁▁▁▁▁</td></tr></table><br/></div><div class=\"wandb-col\"><h3>Run summary:</h3><br/><table class=\"wandb\"><tr><td>eval/cer</td><td>0.09233</td></tr><tr><td>eval/loss</td><td>0.38875</td></tr><tr><td>eval/runtime</td><td>11.1221</td></tr><tr><td>eval/samples_per_second</td><td>21.579</td></tr><tr><td>eval/steps_per_second</td><td>2.697</td></tr><tr><td>train/epoch</td><td>9.33333</td></tr><tr><td>train/global_step</td><td>840</td></tr><tr><td>train/grad_norm</td><td>3.38551</td></tr><tr><td>train/learning_rate</td><td>3e-05</td></tr><tr><td>train/loss</td><td>0.2491</td></tr></table><br/></div></div>"
      ],
      "text/plain": [
       "<IPython.core.display.HTML object>"
      ]
     },
     "metadata": {},
     "output_type": "display_data"
    },
    {
     "data": {
      "text/html": [
       " View run <strong style=\"color:#cdcd00\">data2vec_test</strong> at: <a href='https://wandb.ai/BashHav/iasa-ucu-audio-processing/runs/dv3cck88' target=\"_blank\">https://wandb.ai/BashHav/iasa-ucu-audio-processing/runs/dv3cck88</a><br> View project at: <a href='https://wandb.ai/BashHav/iasa-ucu-audio-processing' target=\"_blank\">https://wandb.ai/BashHav/iasa-ucu-audio-processing</a><br>Synced 5 W&B file(s), 0 media file(s), 33 artifact file(s) and 0 other file(s)"
      ],
      "text/plain": [
       "<IPython.core.display.HTML object>"
      ]
     },
     "metadata": {},
     "output_type": "display_data"
    },
    {
     "data": {
      "text/html": [
       "Find logs at: <code>./wandb/run-20250404_024643-dv3cck88/logs</code>"
      ],
      "text/plain": [
       "<IPython.core.display.HTML object>"
      ]
     },
     "metadata": {},
     "output_type": "display_data"
    }
   ],
   "source": [
    "wandb.finish()"
   ]
  },
  {
   "cell_type": "markdown",
   "metadata": {},
   "source": [
    "## Evaluate on Test Set"
   ]
  },
  {
   "cell_type": "code",
   "execution_count": 48,
   "metadata": {
    "execution": {
     "iopub.execute_input": "2024-03-21T19:32:01.60285Z",
     "iopub.status.busy": "2024-03-21T19:32:01.602481Z",
     "iopub.status.idle": "2024-03-21T19:32:26.613789Z",
     "shell.execute_reply": "2024-03-21T19:32:26.61288Z",
     "shell.execute_reply.started": "2024-03-21T19:32:01.602797Z"
    },
    "trusted": true
   },
   "outputs": [
    {
     "name": "stderr",
     "output_type": "stream",
     "text": [
      "The following columns in the evaluation set  don't have a corresponding argument in `Wav2Vec2ForCTC.forward` and have been ignored: text, phonetic, audio, input_length. If text, phonetic, audio, input_length are not expected by `Wav2Vec2ForCTC.forward`,  you can safely ignore this message.\n",
      "***** Running Evaluation *****\n",
      "  Num examples = 1680\n",
      "  Batch size = 8\n"
     ]
    },
    {
     "data": {
      "text/html": [
       "\n",
       "    <div>\n",
       "      \n",
       "      <progress value='210' max='210' style='width:300px; height:20px; vertical-align: middle;'></progress>\n",
       "      [210/210 01:37]\n",
       "    </div>\n",
       "    "
      ],
      "text/plain": [
       "<IPython.core.display.HTML object>"
      ]
     },
     "metadata": {},
     "output_type": "display_data"
    },
    {
     "name": "stdout",
     "output_type": "stream",
     "text": [
      "Predicted sample h#h#kh#kh#kh#h#h#h#h#\n",
      "GT sample h#shiyhhaeh#d yerh#daarh#k suwdxihngh#g riysiywaashh#waadxerh#aal yiyerh#\n"
     ]
    },
    {
     "data": {
      "text/plain": [
       "{'eval_loss': 2.835930585861206,\n",
       " 'eval_cer': 0.7327310734775442,\n",
       " 'eval_runtime': 99.1109,\n",
       " 'eval_samples_per_second': 16.951,\n",
       " 'eval_steps_per_second': 2.119,\n",
       " 'epoch': 3.33}"
      ]
     },
     "execution_count": 48,
     "metadata": {},
     "output_type": "execute_result"
    }
   ],
   "source": [
    "trainer.evaluate(test_dataset)"
   ]
  },
  {
   "cell_type": "code",
   "execution_count": 49,
   "metadata": {
    "execution": {
     "iopub.execute_input": "2024-03-21T19:32:30.677713Z",
     "iopub.status.busy": "2024-03-21T19:32:30.677409Z",
     "iopub.status.idle": "2024-03-21T19:33:45.446454Z",
     "shell.execute_reply": "2024-03-21T19:33:45.444689Z",
     "shell.execute_reply.started": "2024-03-21T19:32:30.677678Z"
    },
    "trusted": true
   },
   "outputs": [],
   "source": [
    "# trainer.evaluate(train_dataset)"
   ]
  },
  {
   "cell_type": "markdown",
   "metadata": {},
   "source": [
    "## Save Model"
   ]
  },
  {
   "cell_type": "code",
   "execution_count": 50,
   "metadata": {},
   "outputs": [],
   "source": [
    "# save locally\n",
    "# trainer.save_model()"
   ]
  },
  {
   "cell_type": "code",
   "execution_count": 51,
   "metadata": {},
   "outputs": [],
   "source": [
    "# trainer.push_to_hub(repo_name=\"vitouphy/wav2vec2-xls-r-300m-phoneme\")"
   ]
  },
  {
   "cell_type": "code",
   "execution_count": 52,
   "metadata": {},
   "outputs": [],
   "source": [
    "# tokenizer.push_to_hub('vitouphy/xls-r-300m-km')\n",
    "# model.push_to_hub(repo_path_or_name='vitouphy/wav2vec2-xls-r-300m-phoneme')"
   ]
  },
  {
   "cell_type": "code",
   "execution_count": null,
   "metadata": {},
   "outputs": [],
   "source": []
  }
 ],
 "metadata": {
  "kaggle": {
   "accelerator": "none",
   "dataSources": [
    {
     "datasetId": 212391,
     "sourceId": 471627,
     "sourceType": "datasetVersion"
    }
   ],
   "dockerImageVersionId": 30192,
   "isGpuEnabled": false,
   "isInternetEnabled": true,
   "language": "python",
   "sourceType": "notebook"
  },
  "kernelspec": {
   "display_name": "Python 3",
   "language": "python",
   "name": "python3"
  }
 },
 "nbformat": 4,
 "nbformat_minor": 4
}
